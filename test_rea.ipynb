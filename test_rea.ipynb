{
 "metadata": {
  "language_info": {
   "codemirror_mode": {
    "name": "ipython",
    "version": 3
   },
   "file_extension": ".py",
   "mimetype": "text/x-python",
   "name": "python",
   "nbconvert_exporter": "python",
   "pygments_lexer": "ipython3",
   "version": "3.8.8-final"
  },
  "orig_nbformat": 2,
  "kernelspec": {
   "name": "python388jvsc74a57bd0f2553dd8eab56fa176af5ba2b5dc4cf53e056913a0b7c75b8a54aa30280dccb2",
   "display_name": "Python 3.8.8 64-bit ('stef_env': conda)"
  }
 },
 "nbformat": 4,
 "nbformat_minor": 2,
 "cells": [
  {
   "cell_type": "code",
   "execution_count": 1,
   "metadata": {},
   "outputs": [],
   "source": [
    "import reanimation.preprocess.load_data as rld\n",
    "\n",
    "import reanimation.confinement_1.visualization as rc1\n",
    "from reanimation.confinement_1.visualization import rea_conf1_FR\n",
    "from reanimation.confinement_1.visualization import confinement_1_regions\n",
    "\n",
    "import reanimation.deconfinement.visualization as rd\n",
    "from reanimation.deconfinement.visualization import rea_deconf_FR\n",
    "from reanimation.deconfinement.visualization import deconfinement_1_regions\n",
    "\n",
    "import reanimation.confinement_2.visualization as rc2\n",
    "from reanimation.confinement_2.visualization import rea_conf2_FR\n",
    "from reanimation.confinement_2.visualization import confinement_2_regions\n",
    "\n",
    "import reanimation.curfew.visualization as rcu\n",
    "from reanimation.curfew.visualization import rea_curfew_FR\n",
    "from reanimation.curfew.visualization import curfew_regions\n",
    "\n",
    "import reanimation.all_periods.visualization as rap\n",
    "from reanimation.all_periods.visualization import rea_all_FR\n",
    "from reanimation.all_periods.visualization import rea_regions\n",
    "from reanimation.all_periods.visualization import rea_all_reg\n",
    "from reanimation.all_periods.visualization import rea_flux\n",
    "from reanimation.all_periods.visualization import repartition_rea_reg\n",
    "from reanimation.all_periods.visualization import rea_sat_reg\n",
    "from reanimation.all_periods.visualization import rea_sat_dep"
   ]
  },
  {
   "cell_type": "code",
   "execution_count": null,
   "metadata": {},
   "outputs": [],
   "source": [
    "rea_conf1_FR(reanimations_confinement_1_nom)"
   ]
  },
  {
   "cell_type": "code",
   "execution_count": null,
   "metadata": {},
   "outputs": [],
   "source": [
    "rea_deconf_FR(reanimations_deconfinement_1_nom)"
   ]
  },
  {
   "cell_type": "code",
   "execution_count": null,
   "metadata": {},
   "outputs": [],
   "source": [
    "rea_conf2_FR(reanimations_confinement_2_nom)"
   ]
  },
  {
   "cell_type": "code",
   "execution_count": null,
   "metadata": {},
   "outputs": [],
   "source": [
    "rea_curfew_FR(reanimations_curfew_nom)"
   ]
  },
  {
   "cell_type": "code",
   "execution_count": null,
   "metadata": {},
   "outputs": [],
   "source": [
    "rea_all_FR(rea_all_nom)\n",
    "rea_all_reg(rea_region_tot)\n",
    "rea_flux(rea_region_tot)\n",
    "repartition_rea_reg(rea_all_period_by_region)"
   ]
  }
 ]
}