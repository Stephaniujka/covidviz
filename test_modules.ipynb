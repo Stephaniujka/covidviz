{
 "metadata": {
  "language_info": {
   "codemirror_mode": {
    "name": "ipython",
    "version": 3
   },
   "file_extension": ".py",
   "mimetype": "text/x-python",
   "name": "python",
   "nbconvert_exporter": "python",
   "pygments_lexer": "ipython3",
   "version": "3.8.8-final"
  },
  "orig_nbformat": 2,
  "kernelspec": {
   "name": "python388jvsc74a57bd0f2553dd8eab56fa176af5ba2b5dc4cf53e056913a0b7c75b8a54aa30280dccb2",
   "display_name": "Python 3.8.8 64-bit ('stef_env': conda)"
  }
 },
 "nbformat": 4,
 "nbformat_minor": 2,
 "cells": [
  {
   "cell_type": "code",
   "execution_count": 1,
   "metadata": {},
   "outputs": [
    {
     "output_type": "error",
     "ename": "SyntaxError",
     "evalue": "invalid syntax (visualization.py, line 244)",
     "traceback": [
      "Traceback \u001b[0;36m(most recent call last)\u001b[0m:\n",
      "  File \u001b[1;32m\"/Users/stef/opt/anaconda3/envs/stef_env/lib/python3.8/site-packages/IPython/core/interactiveshell.py\"\u001b[0m, line \u001b[1;32m3437\u001b[0m, in \u001b[1;35mrun_code\u001b[0m\n    exec(code_obj, self.user_global_ns, self.user_ns)\n",
      "\u001b[0;36m  File \u001b[0;32m\"<ipython-input-1-71faeda8bdf5>\"\u001b[0;36m, line \u001b[0;32m3\u001b[0;36m, in \u001b[0;35m<module>\u001b[0;36m\u001b[0m\n\u001b[0;31m    import reanimation.confinement_1.visualization as rc1\u001b[0m\n",
      "\u001b[0;36m  File \u001b[0;32m\"/Users/stef/Desktop/MIND/1/SEMESTRE2/HMMA238/ProjetCovid/reanimation/confinement_1/visualization.py\"\u001b[0;36m, line \u001b[0;32m244\u001b[0m\n\u001b[0;31m    reanimation_confinement_1_regions['Bretagne'] =\u001b[0m\n\u001b[0m                                                   ^\u001b[0m\n\u001b[0;31mSyntaxError\u001b[0m\u001b[0;31m:\u001b[0m invalid syntax\n"
     ]
    }
   ],
   "source": [
    "import reanimation.preprocess.load_data as rld\n",
    "\n",
    "import reanimation.confinement_1.visualization as rc1\n",
    "from reanimation.confinement_1.visualization import rea_conf1_FR\n",
    "from reanimation.confinement_1.visualization import confinement_1_regions\n",
    "\n",
    "import reanimation.deconfinement.visualization as rd\n",
    "from reanimation.deconfinement.visualization import rea_deconf_FR\n",
    "from reanimation.deconfinement.visualization import deconfinement_1_regions\n",
    "\n",
    "import reanimation.confinement_2.visualization as rc2\n",
    "from reanimation.confinement_2.visualization import rea_conf2_fr\n",
    "from reanimation.confinement_2.visualization import confinement_2_regions\n",
    "\n",
    "import reanimation.curfew.visualization as rcu\n",
    "from reanimation.curfew.visualization import rea_curfew_fr\n",
    "from reanimation.curfew.visualization import curfew_regions\n",
    "\n",
    "import reanimation.all_periods.visualization as rap\n",
    "from reanimation.all_periods.visualization import rea_all_fr\n",
    "from reanimation.all_periods.visualization import rea_regions\n",
    "from reanimation.all_periods.visualization import rea_all_reg\n",
    "from reanimation.all_periods.visualization import rea_flux\n",
    "from reanimation.all_periods.visualization import repartition_rea_reg\n",
    "from reanimation.all_periods.visualization import rea_sat_reg\n",
    "from reanimation.all_periods.visualization import rea_sat_dep"
   ]
  },
  {
   "cell_type": "code",
   "execution_count": null,
   "metadata": {},
   "outputs": [],
   "source": [
    "rea_conf1_FR(reanimations_confinement_1_nom)"
   ]
  },
  {
   "cell_type": "code",
   "execution_count": null,
   "metadata": {},
   "outputs": [],
   "source": [
    "rea_deconf_FR(reanimations_deconfinement_1_nom)"
   ]
  },
  {
   "cell_type": "code",
   "execution_count": null,
   "metadata": {},
   "outputs": [],
   "source": [
    "rea_conf2_fr(reanimations_confinement_2_nom)"
   ]
  },
  {
   "cell_type": "code",
   "execution_count": null,
   "metadata": {},
   "outputs": [],
   "source": [
    "rea_curfew_fr(reanimations_curfew_nom)"
   ]
  },
  {
   "cell_type": "code",
   "execution_count": null,
   "metadata": {},
   "outputs": [],
   "source": [
    "rea_all_FR(rea_all_nom)\n",
    "rea_all_reg(rea_region_tot)\n",
    "rea_flux(rea_region_tot)\n",
    "repartition_rea_reg(rea_all_period_by_region)"
   ]
  },
  {
   "cell_type": "code",
   "execution_count": 1,
   "metadata": {},
   "outputs": [],
   "source": [
    "import screening.maps_departments.vizualisation\n",
    "from screening.maps_departments.vizualisation import map_screening"
   ]
  },
  {
   "cell_type": "code",
   "execution_count": 2,
   "metadata": {},
   "outputs": [
    {
     "output_type": "execute_result",
     "data": {
      "text/plain": [
       "<folium.folium.Map at 0x7ffe25e49e80>"
      ],
      "text/html": "<div style=\"width:100%;\"><div style=\"position:relative;width:100%;height:0;padding-bottom:60%;\"><span style=\"color:#565656\">Make this Notebook Trusted to load map: File -> Trust Notebook</span><iframe src=\"about:blank\" style=\"position:absolute;width:100%;height:100%;left:0;top:0;border:none !important;\" data-html=%3C%21DOCTYPE%20html%3E%0A%3Chead%3E%20%20%20%20%0A%20%20%20%20%3Cmeta%20http-equiv%3D%22content-type%22%20content%3D%22text/html%3B%20charset%3DUTF-8%22%20/%3E%0A%20%20%20%20%0A%20%20%20%20%20%20%20%20%3Cscript%3E%0A%20%20%20%20%20%20%20%20%20%20%20%20L_NO_TOUCH%20%3D%20false%3B%0A%20%20%20%20%20%20%20%20%20%20%20%20L_DISABLE_3D%20%3D%20false%3B%0A%20%20%20%20%20%20%20%20%3C/script%3E%0A%20%20%20%20%0A%20%20%20%20%3Cstyle%3Ehtml%2C%20body%20%7Bwidth%3A%20100%25%3Bheight%3A%20100%25%3Bmargin%3A%200%3Bpadding%3A%200%3B%7D%3C/style%3E%0A%20%20%20%20%3Cstyle%3E%23map%20%7Bposition%3Aabsolute%3Btop%3A0%3Bbottom%3A0%3Bright%3A0%3Bleft%3A0%3B%7D%3C/style%3E%0A%20%20%20%20%3Cscript%20src%3D%22https%3A//cdn.jsdelivr.net/npm/leaflet%401.6.0/dist/leaflet.js%22%3E%3C/script%3E%0A%20%20%20%20%3Cscript%20src%3D%22https%3A//code.jquery.com/jquery-1.12.4.min.js%22%3E%3C/script%3E%0A%20%20%20%20%3Cscript%20src%3D%22https%3A//maxcdn.bootstrapcdn.com/bootstrap/3.2.0/js/bootstrap.min.js%22%3E%3C/script%3E%0A%20%20%20%20%3Cscript%20src%3D%22https%3A//cdnjs.cloudflare.com/ajax/libs/Leaflet.awesome-markers/2.0.2/leaflet.awesome-markers.js%22%3E%3C/script%3E%0A%20%20%20%20%3Clink%20rel%3D%22stylesheet%22%20href%3D%22https%3A//cdn.jsdelivr.net/npm/leaflet%401.6.0/dist/leaflet.css%22/%3E%0A%20%20%20%20%3Clink%20rel%3D%22stylesheet%22%20href%3D%22https%3A//maxcdn.bootstrapcdn.com/bootstrap/3.2.0/css/bootstrap.min.css%22/%3E%0A%20%20%20%20%3Clink%20rel%3D%22stylesheet%22%20href%3D%22https%3A//maxcdn.bootstrapcdn.com/bootstrap/3.2.0/css/bootstrap-theme.min.css%22/%3E%0A%20%20%20%20%3Clink%20rel%3D%22stylesheet%22%20href%3D%22https%3A//maxcdn.bootstrapcdn.com/font-awesome/4.6.3/css/font-awesome.min.css%22/%3E%0A%20%20%20%20%3Clink%20rel%3D%22stylesheet%22%20href%3D%22https%3A//cdnjs.cloudflare.com/ajax/libs/Leaflet.awesome-markers/2.0.2/leaflet.awesome-markers.css%22/%3E%0A%20%20%20%20%3Clink%20rel%3D%22stylesheet%22%20href%3D%22https%3A//cdn.jsdelivr.net/gh/python-visualization/folium/folium/templates/leaflet.awesome.rotate.min.css%22/%3E%0A%20%20%20%20%0A%20%20%20%20%20%20%20%20%20%20%20%20%3Cmeta%20name%3D%22viewport%22%20content%3D%22width%3Ddevice-width%2C%0A%20%20%20%20%20%20%20%20%20%20%20%20%20%20%20%20initial-scale%3D1.0%2C%20maximum-scale%3D1.0%2C%20user-scalable%3Dno%22%20/%3E%0A%20%20%20%20%20%20%20%20%20%20%20%20%3Cstyle%3E%0A%20%20%20%20%20%20%20%20%20%20%20%20%20%20%20%20%23map_b4760f99a41d472a852e90660ac9673f%20%7B%0A%20%20%20%20%20%20%20%20%20%20%20%20%20%20%20%20%20%20%20%20position%3A%20relative%3B%0A%20%20%20%20%20%20%20%20%20%20%20%20%20%20%20%20%20%20%20%20width%3A%20100.0%25%3B%0A%20%20%20%20%20%20%20%20%20%20%20%20%20%20%20%20%20%20%20%20height%3A%20100.0%25%3B%0A%20%20%20%20%20%20%20%20%20%20%20%20%20%20%20%20%20%20%20%20left%3A%200.0%25%3B%0A%20%20%20%20%20%20%20%20%20%20%20%20%20%20%20%20%20%20%20%20top%3A%200.0%25%3B%0A%20%20%20%20%20%20%20%20%20%20%20%20%20%20%20%20%7D%0A%20%20%20%20%20%20%20%20%20%20%20%20%3C/style%3E%0A%20%20%20%20%20%20%20%20%0A%3C/head%3E%0A%3Cbody%3E%20%20%20%20%0A%20%20%20%20%0A%20%20%20%20%20%20%20%20%20%20%20%20%3Cdiv%20class%3D%22folium-map%22%20id%3D%22map_b4760f99a41d472a852e90660ac9673f%22%20%3E%3C/div%3E%0A%20%20%20%20%20%20%20%20%0A%3C/body%3E%0A%3Cscript%3E%20%20%20%20%0A%20%20%20%20%0A%20%20%20%20%20%20%20%20%20%20%20%20var%20map_b4760f99a41d472a852e90660ac9673f%20%3D%20L.map%28%0A%20%20%20%20%20%20%20%20%20%20%20%20%20%20%20%20%22map_b4760f99a41d472a852e90660ac9673f%22%2C%0A%20%20%20%20%20%20%20%20%20%20%20%20%20%20%20%20%7B%0A%20%20%20%20%20%20%20%20%20%20%20%20%20%20%20%20%20%20%20%20center%3A%20%5B43.590116%2C%202.8065874%5D%2C%0A%20%20%20%20%20%20%20%20%20%20%20%20%20%20%20%20%20%20%20%20crs%3A%20L.CRS.EPSG3857%2C%0A%20%20%20%20%20%20%20%20%20%20%20%20%20%20%20%20%20%20%20%20zoom%3A%208%2C%0A%20%20%20%20%20%20%20%20%20%20%20%20%20%20%20%20%20%20%20%20zoomControl%3A%20true%2C%0A%20%20%20%20%20%20%20%20%20%20%20%20%20%20%20%20%20%20%20%20preferCanvas%3A%20false%2C%0A%20%20%20%20%20%20%20%20%20%20%20%20%20%20%20%20%7D%0A%20%20%20%20%20%20%20%20%20%20%20%20%29%3B%0A%0A%20%20%20%20%20%20%20%20%20%20%20%20%0A%0A%20%20%20%20%20%20%20%20%0A%20%20%20%20%0A%20%20%20%20%20%20%20%20%20%20%20%20var%20tile_layer_3e76740e6fd74a12b859e0e0ead43899%20%3D%20L.tileLayer%28%0A%20%20%20%20%20%20%20%20%20%20%20%20%20%20%20%20%22https%3A//%7Bs%7D.tile.openstreetmap.org/%7Bz%7D/%7Bx%7D/%7By%7D.png%22%2C%0A%20%20%20%20%20%20%20%20%20%20%20%20%20%20%20%20%7B%22attribution%22%3A%20%22Data%20by%20%5Cu0026copy%3B%20%5Cu003ca%20href%3D%5C%22http%3A//openstreetmap.org%5C%22%5Cu003eOpenStreetMap%5Cu003c/a%5Cu003e%2C%20under%20%5Cu003ca%20href%3D%5C%22http%3A//www.openstreetmap.org/copyright%5C%22%5Cu003eODbL%5Cu003c/a%5Cu003e.%22%2C%20%22detectRetina%22%3A%20false%2C%20%22maxNativeZoom%22%3A%2018%2C%20%22maxZoom%22%3A%2018%2C%20%22minZoom%22%3A%200%2C%20%22noWrap%22%3A%20false%2C%20%22opacity%22%3A%201%2C%20%22subdomains%22%3A%20%22abc%22%2C%20%22tms%22%3A%20false%7D%0A%20%20%20%20%20%20%20%20%20%20%20%20%29.addTo%28map_b4760f99a41d472a852e90660ac9673f%29%3B%0A%20%20%20%20%20%20%20%20%0A%20%20%20%20%0A%20%20%20%20%20%20%20%20%20%20%20%20var%20marker_1c8b99fa664b45ecae0b140b4439a0bd%20%3D%20L.marker%28%0A%20%20%20%20%20%20%20%20%20%20%20%20%20%20%20%20%5B43.4614896477999%2C%203.42412218123667%5D%2C%0A%20%20%20%20%20%20%20%20%20%20%20%20%20%20%20%20%7B%7D%0A%20%20%20%20%20%20%20%20%20%20%20%20%29.addTo%28map_b4760f99a41d472a852e90660ac9673f%29%3B%0A%20%20%20%20%20%20%20%20%0A%20%20%20%20%0A%20%20%20%20%20%20%20%20%20%20%20%20var%20icon_4692668f2db145dab6b8f5510d872f3e%20%3D%20L.AwesomeMarkers.icon%28%0A%20%20%20%20%20%20%20%20%20%20%20%20%20%20%20%20%7B%22extraClasses%22%3A%20%22fa-rotate-0%22%2C%20%22icon%22%3A%20%22info-sign%22%2C%20%22iconColor%22%3A%20%22white%22%2C%20%22markerColor%22%3A%20%22green%22%2C%20%22prefix%22%3A%20%22glyphicon%22%7D%0A%20%20%20%20%20%20%20%20%20%20%20%20%29%3B%0A%20%20%20%20%20%20%20%20%20%20%20%20marker_1c8b99fa664b45ecae0b140b4439a0bd.setIcon%28icon_4692668f2db145dab6b8f5510d872f3e%29%3B%0A%20%20%20%20%20%20%20%20%0A%20%20%20%20%0A%20%20%20%20%20%20%20%20var%20popup_958e1350741540e1b56945fb9acaf1c9%20%3D%20L.popup%28%7B%22maxWidth%22%3A%20500%7D%29%3B%0A%0A%20%20%20%20%20%20%20%20%0A%20%20%20%20%20%20%20%20%20%20%20%20var%20html_08ccbf1937aa4b44863ed740ae6a809b%20%3D%20%24%28%60%3Cdiv%20id%3D%22html_08ccbf1937aa4b44863ed740ae6a809b%22%20style%3D%22width%3A%20100.0%25%3B%20height%3A%20100.0%25%3B%22%3E%3Ch4%3E%3Cb%3E%3Cp%20style%3D%22text-align%3Acenter%3B%22%3ELBM%20Biomed34%20P%C3%A9zenas%3C/p%3E%3C/b%3E%3C/h4%3E%3Cbr%3E%3Ch5%3E%3Cb%3EAdresse%20%3A%20%3C/b%3E%3C/h5%3E6%20Place%20du%2014%20Juillet%2034120%20P%C3%A9zenas%3Cbr%3E%3Ci%3ELocal%20d%C3%A9di%C3%A9%3C/i%3E%3Cbr%3E%3Cstrong%3E%3Cb%3ETest%20RT-PCR%20%3A%20%3C/b%3E%3C/strong%3EOUI%3Cbr%3E%3Cstrong%3E%3Cb%3ETest%20antig%C3%A9nique%20%3A%20%3C/b%3E%3C/strong%3ENON%3Cbr%3E%3Cstrong%3E%3Cb%3EModalit%C3%A9s%20de%20pr%C3%A9l%C3%A8vement%20%3A%20%3C/b%3E%3C/strong%3ESur%20place%3Cbr%3E%3Cstrong%3E%3Cb%3EPublic%20%3A%20%3C/b%3E%3C/strong%3ETout%20public%3Cbr%3E%3Cstrong%3E%3Cb%3EAcc%C3%A8s%20%3A%20%3C/b%3E%3C/strong%3ESur%20rendez-vous%20uniquement%3Cbr%3E%3Ch5%3E%3Cb%3EHoraire%20%3A%20%3C/b%3E%3C/h5%3ESur%20rendez-vous%20uniquement%20%7C%20Du%20lundi%20au%20vendredi%20%3A%209h-12h%20et%2014h-18h%3Cbr%3E%3Cstrong%3E%3Cb%3EHoraire%20personnes%20prioritaires%20%3A%20%3C/b%3E%3C/strong%3E-%3Cbr%3E%3Cstrong%3E%3Cb%3ET%C3%A9l%C3%A9phone%20%3A%20%3C/b%3E%3C/strong%3E0467988543%3Cbr%3E%3Cstrong%3E%3Cb%3ESite%20internet%20%3A%20%3C/b%3E%3C/strong%3E-%3C/div%3E%60%29%5B0%5D%3B%0A%20%20%20%20%20%20%20%20%20%20%20%20popup_958e1350741540e1b56945fb9acaf1c9.setContent%28html_08ccbf1937aa4b44863ed740ae6a809b%29%3B%0A%20%20%20%20%20%20%20%20%0A%0A%20%20%20%20%20%20%20%20marker_1c8b99fa664b45ecae0b140b4439a0bd.bindPopup%28popup_958e1350741540e1b56945fb9acaf1c9%29%0A%20%20%20%20%20%20%20%20%3B%0A%0A%20%20%20%20%20%20%20%20%0A%20%20%20%20%0A%20%20%20%20%0A%20%20%20%20%20%20%20%20%20%20%20%20marker_1c8b99fa664b45ecae0b140b4439a0bd.bindTooltip%28%0A%20%20%20%20%20%20%20%20%20%20%20%20%20%20%20%20%60%3Cdiv%3E%0A%20%20%20%20%20%20%20%20%20%20%20%20%20%20%20%20%20%20%20%20%20%3Cstrong%3E6%20Place%20du%2014%20Juillet%2034120%20P%C3%A9zenas%3C/strong%3E%0A%20%20%20%20%20%20%20%20%20%20%20%20%20%20%20%20%20%3C/div%3E%60%2C%0A%20%20%20%20%20%20%20%20%20%20%20%20%20%20%20%20%7B%22sticky%22%3A%20true%7D%0A%20%20%20%20%20%20%20%20%20%20%20%20%29%3B%0A%20%20%20%20%20%20%20%20%0A%20%20%20%20%0A%20%20%20%20%20%20%20%20%20%20%20%20var%20marker_a6f99895bd93430baf09baebd0f8ece6%20%3D%20L.marker%28%0A%20%20%20%20%20%20%20%20%20%20%20%20%20%20%20%20%5B43.460948%2C%203.424244%5D%2C%0A%20%20%20%20%20%20%20%20%20%20%20%20%20%20%20%20%7B%7D%0A%20%20%20%20%20%20%20%20%20%20%20%20%29.addTo%28map_b4760f99a41d472a852e90660ac9673f%29%3B%0A%20%20%20%20%20%20%20%20%0A%20%20%20%20%0A%20%20%20%20%20%20%20%20%20%20%20%20var%20icon_d7056e1441e64652b0269eefe92250b9%20%3D%20L.AwesomeMarkers.icon%28%0A%20%20%20%20%20%20%20%20%20%20%20%20%20%20%20%20%7B%22extraClasses%22%3A%20%22fa-rotate-0%22%2C%20%22icon%22%3A%20%22info-sign%22%2C%20%22iconColor%22%3A%20%22white%22%2C%20%22markerColor%22%3A%20%22green%22%2C%20%22prefix%22%3A%20%22glyphicon%22%7D%0A%20%20%20%20%20%20%20%20%20%20%20%20%29%3B%0A%20%20%20%20%20%20%20%20%20%20%20%20marker_a6f99895bd93430baf09baebd0f8ece6.setIcon%28icon_d7056e1441e64652b0269eefe92250b9%29%3B%0A%20%20%20%20%20%20%20%20%0A%20%20%20%20%0A%20%20%20%20%20%20%20%20var%20popup_2363215165504e45a2c27538c450b58e%20%3D%20L.popup%28%7B%22maxWidth%22%3A%20500%7D%29%3B%0A%0A%20%20%20%20%20%20%20%20%0A%20%20%20%20%20%20%20%20%20%20%20%20var%20html_ed4ae2ed579b4990bb0593afc1d45115%20%3D%20%24%28%60%3Cdiv%20id%3D%22html_ed4ae2ed579b4990bb0593afc1d45115%22%20style%3D%22width%3A%20100.0%25%3B%20height%3A%20100.0%25%3B%22%3E%3Ch4%3E%3Cb%3E%3Cp%20style%3D%22text-align%3Acenter%3B%22%3ECentre%20m%C3%A9dical%20Calypso%3C/p%3E%3C/b%3E%3C/h4%3E%3Cbr%3E%3Ch5%3E%3Cb%3EAdresse%20%3A%20%3C/b%3E%3C/h5%3EZA%20du%20Coustel%2034320%20Roujan%3Cbr%3E%3Ci%3ELocal%20d%C3%A9di%C3%A9%20sur%20secteur%20COVID%3C/i%3E%3Cbr%3E%3Cstrong%3E%3Cb%3ETest%20RT-PCR%20%3A%20%3C/b%3E%3C/strong%3EOUI%3Cbr%3E%3Cstrong%3E%3Cb%3ETest%20antig%C3%A9nique%20%3A%20%3C/b%3E%3C/strong%3ENON%3Cbr%3E%3Cstrong%3E%3Cb%3EModalit%C3%A9s%20de%20pr%C3%A9l%C3%A8vement%20%3A%20%3C/b%3E%3C/strong%3ESur%20place%3Cbr%3E%3Cstrong%3E%3Cb%3EPublic%20%3A%20%3C/b%3E%3C/strong%3ETout%20public%3Cbr%3E%3Cstrong%3E%3Cb%3EAcc%C3%A8s%20%3A%20%3C/b%3E%3C/strong%3ESur%20rendez-vous%20uniquement%3Cbr%3E%3Ch5%3E%3Cb%3EHoraire%20%3A%20%3C/b%3E%3C/h5%3E10h00%20-%2012h00%20%7C%2015h00%20-%2017h00%20%7C%20Du%20lundi%20au%20vendredi%3Cbr%3E%3Cstrong%3E%3Cb%3EHoraire%20personnes%20prioritaires%20%3A%20%3C/b%3E%3C/strong%3E-%3Cbr%3E%3Cstrong%3E%3Cb%3ET%C3%A9l%C3%A9phone%20%3A%20%3C/b%3E%3C/strong%3E0467246038%3Cbr%3E%3Cstrong%3E%3Cb%3ESite%20internet%20%3A%20%3C/b%3E%3C/strong%3E-%3C/div%3E%60%29%5B0%5D%3B%0A%20%20%20%20%20%20%20%20%20%20%20%20popup_2363215165504e45a2c27538c450b58e.setContent%28html_ed4ae2ed579b4990bb0593afc1d45115%29%3B%0A%20%20%20%20%20%20%20%20%0A%0A%20%20%20%20%20%20%20%20marker_a6f99895bd93430baf09baebd0f8ece6.bindPopup%28popup_2363215165504e45a2c27538c450b58e%29%0A%20%20%20%20%20%20%20%20%3B%0A%0A%20%20%20%20%20%20%20%20%0A%20%20%20%20%0A%20%20%20%20%0A%20%20%20%20%20%20%20%20%20%20%20%20marker_a6f99895bd93430baf09baebd0f8ece6.bindTooltip%28%0A%20%20%20%20%20%20%20%20%20%20%20%20%20%20%20%20%60%3Cdiv%3E%0A%20%20%20%20%20%20%20%20%20%20%20%20%20%20%20%20%20%20%20%20%20%3Cstrong%3EZA%20du%20Coustel%2034320%20Roujan%3C/strong%3E%0A%20%20%20%20%20%20%20%20%20%20%20%20%20%20%20%20%20%3C/div%3E%60%2C%0A%20%20%20%20%20%20%20%20%20%20%20%20%20%20%20%20%7B%22sticky%22%3A%20true%7D%0A%20%20%20%20%20%20%20%20%20%20%20%20%29%3B%0A%20%20%20%20%20%20%20%20%0A%20%20%20%20%0A%20%20%20%20%20%20%20%20%20%20%20%20var%20marker_795ff41de8ff42909d8f644401224edc%20%3D%20L.marker%28%0A%20%20%20%20%20%20%20%20%20%20%20%20%20%20%20%20%5B43.5483123290897%2C%203.77791759814749%5D%2C%0A%20%20%20%20%20%20%20%20%20%20%20%20%20%20%20%20%7B%7D%0A%20%20%20%20%20%20%20%20%20%20%20%20%29.addTo%28map_b4760f99a41d472a852e90660ac9673f%29%3B%0A%20%20%20%20%20%20%20%20%0A%20%20%20%20%0A%20%20%20%20%20%20%20%20%20%20%20%20var%20icon_752c5aa2738840ffb43b80090b0bd8b8%20%3D%20L.AwesomeMarkers.icon%28%0A%20%20%20%20%20%20%20%20%20%20%20%20%20%20%20%20%7B%22extraClasses%22%3A%20%22fa-rotate-0%22%2C%20%22icon%22%3A%20%22info-sign%22%2C%20%22iconColor%22%3A%20%22white%22%2C%20%22markerColor%22%3A%20%22green%22%2C%20%22prefix%22%3A%20%22glyphicon%22%7D%0A%20%20%20%20%20%20%20%20%20%20%20%20%29%3B%0A%20%20%20%20%20%20%20%20%20%20%20%20marker_795ff41de8ff42909d8f644401224edc.setIcon%28icon_752c5aa2738840ffb43b80090b0bd8b8%29%3B%0A%20%20%20%20%20%20%20%20%0A%20%20%20%20%0A%20%20%20%20%20%20%20%20var%20popup_00edc0c710fe4af385fadcb9dbc2f270%20%3D%20L.popup%28%7B%22maxWidth%22%3A%20500%7D%29%3B%0A%0A%20%20%20%20%20%20%20%20%0A%20%20%20%20%20%20%20%20%20%20%20%20var%20html_ce3dbefc00a748f29d1e55ee13d5683a%20%3D%20%24%28%60%3Cdiv%20id%3D%22html_ce3dbefc00a748f29d1e55ee13d5683a%22%20style%3D%22width%3A%20100.0%25%3B%20height%3A%20100.0%25%3B%22%3E%3Ch4%3E%3Cb%3E%3Cp%20style%3D%22text-align%3Acenter%3B%22%3ELBM%20BIOMED%2034%20FABREGUES%20%20%20%20%20%20%20%20%20%20pr%C3%A9l%C3%A8vements%20PCR%20r%C3%A9alis%C3%A9s%20%C3%A0%20domicile%20uniquement%3C/p%3E%3C/b%3E%3C/h4%3E%3Cbr%3E%3Ch5%3E%3Cb%3EAdresse%20%3A%20%3C/b%3E%3C/h5%3E9%20R%20CALMETTE%2034690%20FABREGUES%3Cbr%3E%3Ci%3Epr%C3%A9l%C3%A8vements%20PCR%20r%C3%A9alis%C3%A9s%20%C3%A0%20domicile%20uniquement%3C/i%3E%3Cbr%3E%3Cstrong%3E%3Cb%3ETest%20RT-PCR%20%3A%20%3C/b%3E%3C/strong%3EOUI%3Cbr%3E%3Cstrong%3E%3Cb%3ETest%20antig%C3%A9nique%20%3A%20%3C/b%3E%3C/strong%3ENON%3Cbr%3E%3Cstrong%3E%3Cb%3EModalit%C3%A9s%20de%20pr%C3%A9l%C3%A8vement%20%3A%20%3C/b%3E%3C/strong%3EA%20domicile%3Cbr%3E%3Cstrong%3E%3Cb%3EPublic%20%3A%20%3C/b%3E%3C/strong%3ETout%20public%3Cbr%3E%3Cstrong%3E%3Cb%3EAcc%C3%A8s%20%3A%20%3C/b%3E%3C/strong%3ESur%20rendez-vous%20uniquement%3Cbr%3E%3Ch5%3E%3Cb%3EHoraire%20%3A%20%3C/b%3E%3C/h5%3Elundi%20%3A%2010h00-12h00%20%7C%20mardi%20%3A%2010h00-12h00%20%20%7C%20mercredi%20%3A%2010h00-12h00%20%20%7C%20jeudi%20%3A%2010h00-12h00%20%20%7C%20vendredi%20%3A%2010h00-12h00%20%20%7C%20samedi%20%3A%20ferm%C3%A9%20%7C%20dimanche%20%3A%20ferm%C3%A9%3Cbr%3E%3Cstrong%3E%3Cb%3EHoraire%20personnes%20prioritaires%20%3A%20%3C/b%3E%3C/strong%3E-%3Cbr%3E%3Cstrong%3E%3Cb%3ET%C3%A9l%C3%A9phone%20%3A%20%3C/b%3E%3C/strong%3E04%2067%2085%2044%2055%3Cbr%3E%3Cstrong%3E%3Cb%3ESite%20internet%20%3A%20%3C/b%3E%3C/strong%3E-%3C/div%3E%60%29%5B0%5D%3B%0A%20%20%20%20%20%20%20%20%20%20%20%20popup_00edc0c710fe4af385fadcb9dbc2f270.setContent%28html_ce3dbefc00a748f29d1e55ee13d5683a%29%3B%0A%20%20%20%20%20%20%20%20%0A%0A%20%20%20%20%20%20%20%20marker_795ff41de8ff42909d8f644401224edc.bindPopup%28popup_00edc0c710fe4af385fadcb9dbc2f270%29%0A%20%20%20%20%20%20%20%20%3B%0A%0A%20%20%20%20%20%20%20%20%0A%20%20%20%20%0A%20%20%20%20%0A%20%20%20%20%20%20%20%20%20%20%20%20marker_795ff41de8ff42909d8f644401224edc.bindTooltip%28%0A%20%20%20%20%20%20%20%20%20%20%20%20%20%20%20%20%60%3Cdiv%3E%0A%20%20%20%20%20%20%20%20%20%20%20%20%20%20%20%20%20%20%20%20%20%3Cstrong%3E9%20R%20CALMETTE%2034690%20FABREGUES%3C/strong%3E%0A%20%20%20%20%20%20%20%20%20%20%20%20%20%20%20%20%20%3C/div%3E%60%2C%0A%20%20%20%20%20%20%20%20%20%20%20%20%20%20%20%20%7B%22sticky%22%3A%20true%7D%0A%20%20%20%20%20%20%20%20%20%20%20%20%29%3B%0A%20%20%20%20%20%20%20%20%0A%20%20%20%20%0A%20%20%20%20%20%20%20%20%20%20%20%20var%20marker_0e024116771942208e2c32918a4386f1%20%3D%20L.marker%28%0A%20%20%20%20%20%20%20%20%20%20%20%20%20%20%20%20%5B43.5268691477668%2C%203.92987293901817%5D%2C%0A%20%20%20%20%20%20%20%20%20%20%20%20%20%20%20%20%7B%7D%0A%20%20%20%20%20%20%20%20%20%20%20%20%29.addTo%28map_b4760f99a41d472a852e90660ac9673f%29%3B%0A%20%20%20%20%20%20%20%20%0A%20%20%20%20%0A%20%20%20%20%20%20%20%20%20%20%20%20var%20icon_c5022298efe3456d8007914f227ffb9b%20%3D%20L.AwesomeMarkers.icon%28%0A%20%20%20%20%20%20%20%20%20%20%20%20%20%20%20%20%7B%22extraClasses%22%3A%20%22fa-rotate-0%22%2C%20%22icon%22%3A%20%22info-sign%22%2C%20%22iconColor%22%3A%20%22white%22%2C%20%22markerColor%22%3A%20%22green%22%2C%20%22prefix%22%3A%20%22glyphicon%22%7D%0A%20%20%20%20%20%20%20%20%20%20%20%20%29%3B%0A%20%20%20%20%20%20%20%20%20%20%20%20marker_0e024116771942208e2c32918a4386f1.setIcon%28icon_c5022298efe3456d8007914f227ffb9b%29%3B%0A%20%20%20%20%20%20%20%20%0A%20%20%20%20%0A%20%20%20%20%20%20%20%20var%20popup_5a6d8ac3dc434f7fa3ba847de556a377%20%3D%20L.popup%28%7B%22maxWidth%22%3A%20500%7D%29%3B%0A%0A%20%20%20%20%20%20%20%20%0A%20%20%20%20%20%20%20%20%20%20%20%20var%20html_b57ca96a42344c25be4516f1da143a51%20%3D%20%24%28%60%3Cdiv%20id%3D%22html_b57ca96a42344c25be4516f1da143a51%22%20style%3D%22width%3A%20100.0%25%3B%20height%3A%20100.0%25%3B%22%3E%3Ch4%3E%3Cb%3E%3Cp%20style%3D%22text-align%3Acenter%3B%22%3ELBM%20BIOMED%2034%20PALAVAS%20LES%20FLOTS%3C/p%3E%3C/b%3E%3C/h4%3E%3Cbr%3E%3Ch5%3E%3Cb%3EAdresse%20%3A%20%3C/b%3E%3C/h5%3E11%20R%20BLANCHE%20DE%20CASTILLE%2034250%20PALAVAS%20LES%20FLOTS%3Cbr%3E%3Ci%3E-%3C/i%3E%3Cbr%3E%3Cstrong%3E%3Cb%3ETest%20RT-PCR%20%3A%20%3C/b%3E%3C/strong%3EOUI%3Cbr%3E%3Cstrong%3E%3Cb%3ETest%20antig%C3%A9nique%20%3A%20%3C/b%3E%3C/strong%3ENON%3Cbr%3E%3Cstrong%3E%3Cb%3EModalit%C3%A9s%20de%20pr%C3%A9l%C3%A8vement%20%3A%20%3C/b%3E%3C/strong%3ESur%20place%3Cbr%3E%3Cstrong%3E%3Cb%3EPublic%20%3A%20%3C/b%3E%3C/strong%3ETout%20public%3Cbr%3E%3Cstrong%3E%3Cb%3EAcc%C3%A8s%20%3A%20%3C/b%3E%3C/strong%3ESur%20rendez-vous%20uniquement%3Cbr%3E%3Ch5%3E%3Cb%3EHoraire%20%3A%20%3C/b%3E%3C/h5%3Elundi%20%3A%2010h00-12h00%20%20%7C%20mardi%20%3A%2010h00-12h00%20%20%7C%20mercredi%20%3A%2010h00-12h00%20%20%7C%20jeudi%20%3A%2010h00-12h00%20%20%7C%20vendredi%20%3A%2010h00-12h00%20%20%7C%20samedi%20%3A%20ferm%C3%A9%20%7C%20dimanche%20%3A%20ferm%C3%A9%3Cbr%3E%3Cstrong%3E%3Cb%3EHoraire%20personnes%20prioritaires%20%3A%20%3C/b%3E%3C/strong%3E-%3Cbr%3E%3Cstrong%3E%3Cb%3ET%C3%A9l%C3%A9phone%20%3A%20%3C/b%3E%3C/strong%3E-%3Cbr%3E%3Cstrong%3E%3Cb%3ESite%20internet%20%3A%20%3C/b%3E%3C/strong%3E-%3C/div%3E%60%29%5B0%5D%3B%0A%20%20%20%20%20%20%20%20%20%20%20%20popup_5a6d8ac3dc434f7fa3ba847de556a377.setContent%28html_b57ca96a42344c25be4516f1da143a51%29%3B%0A%20%20%20%20%20%20%20%20%0A%0A%20%20%20%20%20%20%20%20marker_0e024116771942208e2c32918a4386f1.bindPopup%28popup_5a6d8ac3dc434f7fa3ba847de556a377%29%0A%20%20%20%20%20%20%20%20%3B%0A%0A%20%20%20%20%20%20%20%20%0A%20%20%20%20%0A%20%20%20%20%0A%20%20%20%20%20%20%20%20%20%20%20%20marker_0e024116771942208e2c32918a4386f1.bindTooltip%28%0A%20%20%20%20%20%20%20%20%20%20%20%20%20%20%20%20%60%3Cdiv%3E%0A%20%20%20%20%20%20%20%20%20%20%20%20%20%20%20%20%20%20%20%20%20%3Cstrong%3E11%20R%20BLANCHE%20DE%20CASTILLE%2034250%20PALAVAS%20LES%20FLOTS%3C/strong%3E%0A%20%20%20%20%20%20%20%20%20%20%20%20%20%20%20%20%20%3C/div%3E%60%2C%0A%20%20%20%20%20%20%20%20%20%20%20%20%20%20%20%20%7B%22sticky%22%3A%20true%7D%0A%20%20%20%20%20%20%20%20%20%20%20%20%29%3B%0A%20%20%20%20%20%20%20%20%0A%20%20%20%20%0A%20%20%20%20%20%20%20%20%20%20%20%20var%20marker_06df7aac1af141c4bff585cb08bd7cb9%20%3D%20L.marker%28%0A%20%20%20%20%20%20%20%20%20%20%20%20%20%20%20%20%5B43.2998087482647%2C%203.49274328024983%5D%2C%0A%20%20%20%20%20%20%20%20%20%20%20%20%20%20%20%20%7B%7D%0A%20%20%20%20%20%20%20%20%20%20%20%20%29.addTo%28map_b4760f99a41d472a852e90660ac9673f%29%3B%0A%20%20%20%20%20%20%20%20%0A%20%20%20%20%0A%20%20%20%20%20%20%20%20%20%20%20%20var%20icon_bd48c658466d4e78a6556f1a4d50e3b4%20%3D%20L.AwesomeMarkers.icon%28%0A%20%20%20%20%20%20%20%20%20%20%20%20%20%20%20%20%7B%22extraClasses%22%3A%20%22fa-rotate-0%22%2C%20%22icon%22%3A%20%22info-sign%22%2C%20%22iconColor%22%3A%20%22white%22%2C%20%22markerColor%22%3A%20%22green%22%2C%20%22prefix%22%3A%20%22glyphicon%22%7D%0A%20%20%20%20%20%20%20%20%20%20%20%20%29%3B%0A%20%20%20%20%20%20%20%20%20%20%20%20marker_06df7aac1af141c4bff585cb08bd7cb9.setIcon%28icon_bd48c658466d4e78a6556f1a4d50e3b4%29%3B%0A%20%20%20%20%20%20%20%20%0A%20%20%20%20%0A%20%20%20%20%20%20%20%20var%20popup_ea3763ac1d73473e9d7e91957a0fddbc%20%3D%20L.popup%28%7B%22maxWidth%22%3A%20500%7D%29%3B%0A%0A%20%20%20%20%20%20%20%20%0A%20%20%20%20%20%20%20%20%20%20%20%20var%20html_710dc1454fbf4a87a72c1c84dd0a3ce0%20%3D%20%24%28%60%3Cdiv%20id%3D%22html_710dc1454fbf4a87a72c1c84dd0a3ce0%22%20style%3D%22width%3A%20100.0%25%3B%20height%3A%20100.0%25%3B%22%3E%3Ch4%3E%3Cb%3E%3Cp%20style%3D%22text-align%3Acenter%3B%22%3ELBM%20BIOMED%2034%20AGDE%20EUROPE%3C/p%3E%3C/b%3E%3C/h4%3E%3Cbr%3E%3Ch5%3E%3Cb%3EAdresse%20%3A%20%3C/b%3E%3C/h5%3E2%20R%20DE%20ROME%2034300%20AGDE%3Cbr%3E%3Ci%3E-%3C/i%3E%3Cbr%3E%3Cstrong%3E%3Cb%3ETest%20RT-PCR%20%3A%20%3C/b%3E%3C/strong%3EOUI%3Cbr%3E%3Cstrong%3E%3Cb%3ETest%20antig%C3%A9nique%20%3A%20%3C/b%3E%3C/strong%3ENON%3Cbr%3E%3Cstrong%3E%3Cb%3EModalit%C3%A9s%20de%20pr%C3%A9l%C3%A8vement%20%3A%20%3C/b%3E%3C/strong%3ESur%20place%3Cbr%3E%3Cstrong%3E%3Cb%3EPublic%20%3A%20%3C/b%3E%3C/strong%3ETout%20public%3Cbr%3E%3Cstrong%3E%3Cb%3EAcc%C3%A8s%20%3A%20%3C/b%3E%3C/strong%3ESur%20rendez-vous%20uniquement%3Cbr%3E%3Ch5%3E%3Cb%3EHoraire%20%3A%20%3C/b%3E%3C/h5%3Elundi%20%3A%2010h00-12h00%20et%2015h00-17h00%20%7C%20mardi%20%3A%2010h00-12h00%20et%2015h00-17h00%20%7C%20mercredi%20%3A%2010h00-12h00%20et%2015h00-17h00%20%7C%20jeudi%20%3A%2010h00-12h00%20et%2015h00-17h00%20%7C%20vendredi%20%3A%2010h00-12h00%20et%2015h00-17h00%20%7C%20samedi%20%3A%2010h00-12h00%20%7C%20dimanche%20%3A%20ferm%C3%A9%3Cbr%3E%3Cstrong%3E%3Cb%3EHoraire%20personnes%20prioritaires%20%3A%20%3C/b%3E%3C/strong%3E-%3Cbr%3E%3Cstrong%3E%3Cb%3ET%C3%A9l%C3%A9phone%20%3A%20%3C/b%3E%3C/strong%3E-%3Cbr%3E%3Cstrong%3E%3Cb%3ESite%20internet%20%3A%20%3C/b%3E%3C/strong%3E-%3C/div%3E%60%29%5B0%5D%3B%0A%20%20%20%20%20%20%20%20%20%20%20%20popup_ea3763ac1d73473e9d7e91957a0fddbc.setContent%28html_710dc1454fbf4a87a72c1c84dd0a3ce0%29%3B%0A%20%20%20%20%20%20%20%20%0A%0A%20%20%20%20%20%20%20%20marker_06df7aac1af141c4bff585cb08bd7cb9.bindPopup%28popup_ea3763ac1d73473e9d7e91957a0fddbc%29%0A%20%20%20%20%20%20%20%20%3B%0A%0A%20%20%20%20%20%20%20%20%0A%20%20%20%20%0A%20%20%20%20%0A%20%20%20%20%20%20%20%20%20%20%20%20marker_06df7aac1af141c4bff585cb08bd7cb9.bindTooltip%28%0A%20%20%20%20%20%20%20%20%20%20%20%20%20%20%20%20%60%3Cdiv%3E%0A%20%20%20%20%20%20%20%20%20%20%20%20%20%20%20%20%20%20%20%20%20%3Cstrong%3E2%20R%20DE%20ROME%2034300%20AGDE%3C/strong%3E%0A%20%20%20%20%20%20%20%20%20%20%20%20%20%20%20%20%20%3C/div%3E%60%2C%0A%20%20%20%20%20%20%20%20%20%20%20%20%20%20%20%20%7B%22sticky%22%3A%20true%7D%0A%20%20%20%20%20%20%20%20%20%20%20%20%29%3B%0A%20%20%20%20%20%20%20%20%0A%20%20%20%20%0A%20%20%20%20%20%20%20%20%20%20%20%20var%20marker_89d627afc29d4ec29f96b6dfa7b23c2d%20%3D%20L.marker%28%0A%20%20%20%20%20%20%20%20%20%20%20%20%20%20%20%20%5B43.3124466001951%2C%203.47083886935929%5D%2C%0A%20%20%20%20%20%20%20%20%20%20%20%20%20%20%20%20%7B%7D%0A%20%20%20%20%20%20%20%20%20%20%20%20%29.addTo%28map_b4760f99a41d472a852e90660ac9673f%29%3B%0A%20%20%20%20%20%20%20%20%0A%20%20%20%20%0A%20%20%20%20%20%20%20%20%20%20%20%20var%20icon_dae6fc869f82476f96822d14e14f22fb%20%3D%20L.AwesomeMarkers.icon%28%0A%20%20%20%20%20%20%20%20%20%20%20%20%20%20%20%20%7B%22extraClasses%22%3A%20%22fa-rotate-0%22%2C%20%22icon%22%3A%20%22info-sign%22%2C%20%22iconColor%22%3A%20%22white%22%2C%20%22markerColor%22%3A%20%22green%22%2C%20%22prefix%22%3A%20%22glyphicon%22%7D%0A%20%20%20%20%20%20%20%20%20%20%20%20%29%3B%0A%20%20%20%20%20%20%20%20%20%20%20%20marker_89d627afc29d4ec29f96b6dfa7b23c2d.setIcon%28icon_dae6fc869f82476f96822d14e14f22fb%29%3B%0A%20%20%20%20%20%20%20%20%0A%20%20%20%20%0A%20%20%20%20%20%20%20%20var%20popup_74b52a68399141c09d216b60095ecbc8%20%3D%20L.popup%28%7B%22maxWidth%22%3A%20500%7D%29%3B%0A%0A%20%20%20%20%20%20%20%20%0A%20%20%20%20%20%20%20%20%20%20%20%20var%20html_8670e85d08194f7a8b3541e1c404cb74%20%3D%20%24%28%60%3Cdiv%20id%3D%22html_8670e85d08194f7a8b3541e1c404cb74%22%20style%3D%22width%3A%20100.0%25%3B%20height%3A%20100.0%25%3B%22%3E%3Ch4%3E%3Cb%3E%3Cp%20style%3D%22text-align%3Acenter%3B%22%3ELBM%20BIOMED%2034%20AGDE%20TUILERIES%3C/p%3E%3C/b%3E%3C/h4%3E%3Cbr%3E%3Ch5%3E%3Cb%3EAdresse%20%3A%20%3C/b%3E%3C/h5%3E6%20AV%20DU%2011%20NOVEMBRE%201918%2034300%20AGDE%3Cbr%3E%3Ci%3E-%3C/i%3E%3Cbr%3E%3Cstrong%3E%3Cb%3ETest%20RT-PCR%20%3A%20%3C/b%3E%3C/strong%3EOUI%3Cbr%3E%3Cstrong%3E%3Cb%3ETest%20antig%C3%A9nique%20%3A%20%3C/b%3E%3C/strong%3ENON%3Cbr%3E%3Cstrong%3E%3Cb%3EModalit%C3%A9s%20de%20pr%C3%A9l%C3%A8vement%20%3A%20%3C/b%3E%3C/strong%3ESur%20place%3Cbr%3E%3Cstrong%3E%3Cb%3EPublic%20%3A%20%3C/b%3E%3C/strong%3ETout%20public%3Cbr%3E%3Cstrong%3E%3Cb%3EAcc%C3%A8s%20%3A%20%3C/b%3E%3C/strong%3ESur%20rendez-vous%20uniquement%3Cbr%3E%3Ch5%3E%3Cb%3EHoraire%20%3A%20%3C/b%3E%3C/h5%3Elundi%20%3A13h30-16h30%20%7C%20mardi%20%3A%2013h30-16h30%20%7C%20mercredi%20%3A%2013h30-16h30%20%7C%20jeudi%20%3A%2013h30-16h30%20%7C%20vendredi%20%3A%2013h30-16h30%20%7C%20samedi%20%3A%20ferm%C3%A9%20%7C%20dimanche%20%3A%20ferm%C3%A9%3Cbr%3E%3Cstrong%3E%3Cb%3EHoraire%20personnes%20prioritaires%20%3A%20%3C/b%3E%3C/strong%3E-%3Cbr%3E%3Cstrong%3E%3Cb%3ET%C3%A9l%C3%A9phone%20%3A%20%3C/b%3E%3C/strong%3E0467943292%20ou%200467942327%3Cbr%3E%3Cstrong%3E%3Cb%3ESite%20internet%20%3A%20%3C/b%3E%3C/strong%3E-%3C/div%3E%60%29%5B0%5D%3B%0A%20%20%20%20%20%20%20%20%20%20%20%20popup_74b52a68399141c09d216b60095ecbc8.setContent%28html_8670e85d08194f7a8b3541e1c404cb74%29%3B%0A%20%20%20%20%20%20%20%20%0A%0A%20%20%20%20%20%20%20%20marker_89d627afc29d4ec29f96b6dfa7b23c2d.bindPopup%28popup_74b52a68399141c09d216b60095ecbc8%29%0A%20%20%20%20%20%20%20%20%3B%0A%0A%20%20%20%20%20%20%20%20%0A%20%20%20%20%0A%20%20%20%20%0A%20%20%20%20%20%20%20%20%20%20%20%20marker_89d627afc29d4ec29f96b6dfa7b23c2d.bindTooltip%28%0A%20%20%20%20%20%20%20%20%20%20%20%20%20%20%20%20%60%3Cdiv%3E%0A%20%20%20%20%20%20%20%20%20%20%20%20%20%20%20%20%20%20%20%20%20%3Cstrong%3E6%20AV%20DU%2011%20NOVEMBRE%201918%2034300%20AGDE%3C/strong%3E%0A%20%20%20%20%20%20%20%20%20%20%20%20%20%20%20%20%20%3C/div%3E%60%2C%0A%20%20%20%20%20%20%20%20%20%20%20%20%20%20%20%20%7B%22sticky%22%3A%20true%7D%0A%20%20%20%20%20%20%20%20%20%20%20%20%29%3B%0A%20%20%20%20%20%20%20%20%0A%20%20%20%20%0A%20%20%20%20%20%20%20%20%20%20%20%20var%20marker_518ca6fc1e0e4122b82fd1a3c4744394%20%3D%20L.marker%28%0A%20%20%20%20%20%20%20%20%20%20%20%20%20%20%20%20%5B43.2682118898164%2C%203.28191876411438%5D%2C%0A%20%20%20%20%20%20%20%20%20%20%20%20%20%20%20%20%7B%7D%0A%20%20%20%20%20%20%20%20%20%20%20%20%29.addTo%28map_b4760f99a41d472a852e90660ac9673f%29%3B%0A%20%20%20%20%20%20%20%20%0A%20%20%20%20%0A%20%20%20%20%20%20%20%20%20%20%20%20var%20icon_9bb3b1a58d8943bc90f2c6e666ef7bb8%20%3D%20L.AwesomeMarkers.icon%28%0A%20%20%20%20%20%20%20%20%20%20%20%20%20%20%20%20%7B%22extraClasses%22%3A%20%22fa-rotate-0%22%2C%20%22icon%22%3A%20%22info-sign%22%2C%20%22iconColor%22%3A%20%22white%22%2C%20%22markerColor%22%3A%20%22green%22%2C%20%22prefix%22%3A%20%22glyphicon%22%7D%0A%20%20%20%20%20%20%20%20%20%20%20%20%29%3B%0A%20%20%20%20%20%20%20%20%20%20%20%20marker_518ca6fc1e0e4122b82fd1a3c4744394.setIcon%28icon_9bb3b1a58d8943bc90f2c6e666ef7bb8%29%3B%0A%20%20%20%20%20%20%20%20%0A%20%20%20%20%0A%20%20%20%20%20%20%20%20var%20popup_c0b289822b9b4d919e4c47d5489ac143%20%3D%20L.popup%28%7B%22maxWidth%22%3A%20500%7D%29%3B%0A%0A%20%20%20%20%20%20%20%20%0A%20%20%20%20%20%20%20%20%20%20%20%20var%20html_1609abd2f9fd484aa8af365724d4a470%20%3D%20%24%28%60%3Cdiv%20id%3D%22html_1609abd2f9fd484aa8af365724d4a470%22%20style%3D%22width%3A%20100.0%25%3B%20height%3A%20100.0%25%3B%22%3E%3Ch4%3E%3Cb%3E%3Cp%20style%3D%22text-align%3Acenter%3B%22%3ELBM%20BIOMED%2034%20SERIGNAN%3C/p%3E%3C/b%3E%3C/h4%3E%3Cbr%3E%3Ch5%3E%3Cb%3EAdresse%20%3A%20%3C/b%3E%3C/h5%3ERTE%20DE%20VALRAS%2034410%20SERIGNAN%3Cbr%3E%3Ci%3E-%3C/i%3E%3Cbr%3E%3Cstrong%3E%3Cb%3ETest%20RT-PCR%20%3A%20%3C/b%3E%3C/strong%3EOUI%3Cbr%3E%3Cstrong%3E%3Cb%3ETest%20antig%C3%A9nique%20%3A%20%3C/b%3E%3C/strong%3ENON%3Cbr%3E%3Cstrong%3E%3Cb%3EModalit%C3%A9s%20de%20pr%C3%A9l%C3%A8vement%20%3A%20%3C/b%3E%3C/strong%3ESur%20place%3Cbr%3E%3Cstrong%3E%3Cb%3EPublic%20%3A%20%3C/b%3E%3C/strong%3ETout%20public%3Cbr%3E%3Cstrong%3E%3Cb%3EAcc%C3%A8s%20%3A%20%3C/b%3E%3C/strong%3ESur%20rendez-vous%20uniquement%3Cbr%3E%3Ch5%3E%3Cb%3EHoraire%20%3A%20%3C/b%3E%3C/h5%3Elundi%20%3A%2010h00-12h00%20et%2014h00-17h30%20%7C%20mardi%20%3A%2010h00-12h00%20et%2014h00-17h30%20%7C%20mercredi%20%3A%2010h00-12h00%20et%2014h00-17h30%20%7C%20jeudi%20%3A%2010h00-12h00%20et%2014h00-17h30%20%7C%20vendredi%20%3A%2010h00-12h00%20et%2014h00-17h30%20%7C%20samedi%20%3A%2010h00-11h30%20%7C%20dimanche%20%3A%20ferm%C3%A9%3Cbr%3E%3Cstrong%3E%3Cb%3EHoraire%20personnes%20prioritaires%20%3A%20%3C/b%3E%3C/strong%3E-%3Cbr%3E%3Cstrong%3E%3Cb%3ET%C3%A9l%C3%A9phone%20%3A%20%3C/b%3E%3C/strong%3E0467627730%3Cbr%3E%3Cstrong%3E%3Cb%3ESite%20internet%20%3A%20%3C/b%3E%3C/strong%3E-%3C/div%3E%60%29%5B0%5D%3B%0A%20%20%20%20%20%20%20%20%20%20%20%20popup_c0b289822b9b4d919e4c47d5489ac143.setContent%28html_1609abd2f9fd484aa8af365724d4a470%29%3B%0A%20%20%20%20%20%20%20%20%0A%0A%20%20%20%20%20%20%20%20marker_518ca6fc1e0e4122b82fd1a3c4744394.bindPopup%28popup_c0b289822b9b4d919e4c47d5489ac143%29%0A%20%20%20%20%20%20%20%20%3B%0A%0A%20%20%20%20%20%20%20%20%0A%20%20%20%20%0A%20%20%20%20%0A%20%20%20%20%20%20%20%20%20%20%20%20marker_518ca6fc1e0e4122b82fd1a3c4744394.bindTooltip%28%0A%20%20%20%20%20%20%20%20%20%20%20%20%20%20%20%20%60%3Cdiv%3E%0A%20%20%20%20%20%20%20%20%20%20%20%20%20%20%20%20%20%20%20%20%20%3Cstrong%3ERTE%20DE%20VALRAS%2034410%20SERIGNAN%3C/strong%3E%0A%20%20%20%20%20%20%20%20%20%20%20%20%20%20%20%20%20%3C/div%3E%60%2C%0A%20%20%20%20%20%20%20%20%20%20%20%20%20%20%20%20%7B%22sticky%22%3A%20true%7D%0A%20%20%20%20%20%20%20%20%20%20%20%20%29%3B%0A%20%20%20%20%20%20%20%20%0A%20%20%20%20%0A%20%20%20%20%20%20%20%20%20%20%20%20var%20marker_00bd6696a4ba4bd9914b197563ceb9a0%20%3D%20L.marker%28%0A%20%20%20%20%20%20%20%20%20%20%20%20%20%20%20%20%5B43.3525902762058%2C%203.23264836954584%5D%2C%0A%20%20%20%20%20%20%20%20%20%20%20%20%20%20%20%20%7B%7D%0A%20%20%20%20%20%20%20%20%20%20%20%20%29.addTo%28map_b4760f99a41d472a852e90660ac9673f%29%3B%0A%20%20%20%20%20%20%20%20%0A%20%20%20%20%0A%20%20%20%20%20%20%20%20%20%20%20%20var%20icon_f78d62b0e8a94852ac67c4db8f5bb35c%20%3D%20L.AwesomeMarkers.icon%28%0A%20%20%20%20%20%20%20%20%20%20%20%20%20%20%20%20%7B%22extraClasses%22%3A%20%22fa-rotate-0%22%2C%20%22icon%22%3A%20%22info-sign%22%2C%20%22iconColor%22%3A%20%22white%22%2C%20%22markerColor%22%3A%20%22green%22%2C%20%22prefix%22%3A%20%22glyphicon%22%7D%0A%20%20%20%20%20%20%20%20%20%20%20%20%29%3B%0A%20%20%20%20%20%20%20%20%20%20%20%20marker_00bd6696a4ba4bd9914b197563ceb9a0.setIcon%28icon_f78d62b0e8a94852ac67c4db8f5bb35c%29%3B%0A%20%20%20%20%20%20%20%20%0A%20%20%20%20%0A%20%20%20%20%20%20%20%20var%20popup_7f9bcb53510840b68eede2ae5b36c3f6%20%3D%20L.popup%28%7B%22maxWidth%22%3A%20500%7D%29%3B%0A%0A%20%20%20%20%20%20%20%20%0A%20%20%20%20%20%20%20%20%20%20%20%20var%20html_97813d2bf5b24365b5916c48d73b6e24%20%3D%20%24%28%60%3Cdiv%20id%3D%22html_97813d2bf5b24365b5916c48d73b6e24%22%20style%3D%22width%3A%20100.0%25%3B%20height%3A%20100.0%25%3B%22%3E%3Ch4%3E%3Cb%3E%3Cp%20style%3D%22text-align%3Acenter%3B%22%3ELBM%20BIOMED%2034%20LIBERTE%20PIGNAN%3C/p%3E%3C/b%3E%3C/h4%3E%3Cbr%3E%3Ch5%3E%3Cb%3EAdresse%20%3A%20%3C/b%3E%3C/h5%3E60%20ALL%20DE%20LA%20LIBERTE%2034570%20PIGNAN%3Cbr%3E%3Ci%3E-%3C/i%3E%3Cbr%3E%3Cstrong%3E%3Cb%3ETest%20RT-PCR%20%3A%20%3C/b%3E%3C/strong%3EOUI%3Cbr%3E%3Cstrong%3E%3Cb%3ETest%20antig%C3%A9nique%20%3A%20%3C/b%3E%3C/strong%3ENON%3Cbr%3E%3Cstrong%3E%3Cb%3EModalit%C3%A9s%20de%20pr%C3%A9l%C3%A8vement%20%3A%20%3C/b%3E%3C/strong%3ESur%20place%3Cbr%3E%3Cstrong%3E%3Cb%3EPublic%20%3A%20%3C/b%3E%3C/strong%3ETout%20public%3Cbr%3E%3Cstrong%3E%3Cb%3EAcc%C3%A8s%20%3A%20%3C/b%3E%3C/strong%3ESur%20rendez-vous%20uniquement%3Cbr%3E%3Ch5%3E%3Cb%3EHoraire%20%3A%20%3C/b%3E%3C/h5%3Elundi%20%3A%2010h00-12h00%20%20%7C%20mardi%20%3A%2010h00-12h00%20%20%7C%20mercredi%20%3A%2010h00-12h00%20%20%7C%20jeudi%20%3A%2010h00-%2012h00%20%7C%20vendredi%20%3A%2010h00-12h00%20%20%7C%20samedi%20%3A%2010h00-12h00%20%7C%20dimanche%20%3A%20ferm%C3%A9%3Cbr%3E%3Cstrong%3E%3Cb%3EHoraire%20personnes%20prioritaires%20%3A%20%3C/b%3E%3C/strong%3E-%3Cbr%3E%3Cstrong%3E%3Cb%3ET%C3%A9l%C3%A9phone%20%3A%20%3C/b%3E%3C/strong%3E-%3Cbr%3E%3Cstrong%3E%3Cb%3ESite%20internet%20%3A%20%3C/b%3E%3C/strong%3E-%3C/div%3E%60%29%5B0%5D%3B%0A%20%20%20%20%20%20%20%20%20%20%20%20popup_7f9bcb53510840b68eede2ae5b36c3f6.setContent%28html_97813d2bf5b24365b5916c48d73b6e24%29%3B%0A%20%20%20%20%20%20%20%20%0A%0A%20%20%20%20%20%20%20%20marker_00bd6696a4ba4bd9914b197563ceb9a0.bindPopup%28popup_7f9bcb53510840b68eede2ae5b36c3f6%29%0A%20%20%20%20%20%20%20%20%3B%0A%0A%20%20%20%20%20%20%20%20%0A%20%20%20%20%0A%20%20%20%20%0A%20%20%20%20%20%20%20%20%20%20%20%20marker_00bd6696a4ba4bd9914b197563ceb9a0.bindTooltip%28%0A%20%20%20%20%20%20%20%20%20%20%20%20%20%20%20%20%60%3Cdiv%3E%0A%20%20%20%20%20%20%20%20%20%20%20%20%20%20%20%20%20%20%20%20%20%3Cstrong%3E60%20ALL%20DE%20LA%20LIBERTE%2034570%20PIGNAN%3C/strong%3E%0A%20%20%20%20%20%20%20%20%20%20%20%20%20%20%20%20%20%3C/div%3E%60%2C%0A%20%20%20%20%20%20%20%20%20%20%20%20%20%20%20%20%7B%22sticky%22%3A%20true%7D%0A%20%20%20%20%20%20%20%20%20%20%20%20%29%3B%0A%20%20%20%20%20%20%20%20%0A%20%20%20%20%0A%20%20%20%20%20%20%20%20%20%20%20%20var%20marker_79eb13f06edb43c3bcf2a161e6c59862%20%3D%20L.marker%28%0A%20%20%20%20%20%20%20%20%20%20%20%20%20%20%20%20%5B43.3868343865186%2C%203.42142480138651%5D%2C%0A%20%20%20%20%20%20%20%20%20%20%20%20%20%20%20%20%7B%7D%0A%20%20%20%20%20%20%20%20%20%20%20%20%29.addTo%28map_b4760f99a41d472a852e90660ac9673f%29%3B%0A%20%20%20%20%20%20%20%20%0A%20%20%20%20%0A%20%20%20%20%20%20%20%20%20%20%20%20var%20icon_70402775b7304b27810a889edf1edadb%20%3D%20L.AwesomeMarkers.icon%28%0A%20%20%20%20%20%20%20%20%20%20%20%20%20%20%20%20%7B%22extraClasses%22%3A%20%22fa-rotate-0%22%2C%20%22icon%22%3A%20%22info-sign%22%2C%20%22iconColor%22%3A%20%22white%22%2C%20%22markerColor%22%3A%20%22green%22%2C%20%22prefix%22%3A%20%22glyphicon%22%7D%0A%20%20%20%20%20%20%20%20%20%20%20%20%29%3B%0A%20%20%20%20%20%20%20%20%20%20%20%20marker_79eb13f06edb43c3bcf2a161e6c59862.setIcon%28icon_70402775b7304b27810a889edf1edadb%29%3B%0A%20%20%20%20%20%20%20%20%0A%20%20%20%20%0A%20%20%20%20%20%20%20%20var%20popup_44763664297c48968298a1300a71b499%20%3D%20L.popup%28%7B%22maxWidth%22%3A%20500%7D%29%3B%0A%0A%20%20%20%20%20%20%20%20%0A%20%20%20%20%20%20%20%20%20%20%20%20var%20html_5490a4a4dd3e4c9fb3cf8d685bcd64d8%20%3D%20%24%28%60%3Cdiv%20id%3D%22html_5490a4a4dd3e4c9fb3cf8d685bcd64d8%22%20style%3D%22width%3A%20100.0%25%3B%20height%3A%20100.0%25%3B%22%3E%3Ch4%3E%3Cb%3E%3Cp%20style%3D%22text-align%3Acenter%3B%22%3ELBM%20BIOMED%2034%20SAINT-THIBERY%3C/p%3E%3C/b%3E%3C/h4%3E%3Cbr%3E%3Ch5%3E%3Cb%3EAdresse%20%3A%20%3C/b%3E%3C/h5%3E3%20AV%20RICCARDO%20MAZZA%2034630%20ST%20THIBERY%3Cbr%3E%3Ci%3EDrive%3C/i%3E%3Cbr%3E%3Cstrong%3E%3Cb%3ETest%20RT-PCR%20%3A%20%3C/b%3E%3C/strong%3EOUI%3Cbr%3E%3Cstrong%3E%3Cb%3ETest%20antig%C3%A9nique%20%3A%20%3C/b%3E%3C/strong%3ENON%3Cbr%3E%3Cstrong%3E%3Cb%3EModalit%C3%A9s%20de%20pr%C3%A9l%C3%A8vement%20%3A%20%3C/b%3E%3C/strong%3EDrive/Sur%20place%3Cbr%3E%3Cstrong%3E%3Cb%3EPublic%20%3A%20%3C/b%3E%3C/strong%3ETout%20public%3Cbr%3E%3Cstrong%3E%3Cb%3EAcc%C3%A8s%20%3A%20%3C/b%3E%3C/strong%3ESur%20rendez-vous%20uniquement%3Cbr%3E%3Ch5%3E%3Cb%3EHoraire%20%3A%20%3C/b%3E%3C/h5%3Elundi%20%3A%208h30-12h00%20et%2014h00-17h00%20%7C%20mardi%20%3A%2010h00-12h00%20et%2014h00-17h00%20%7C%20mercredi%20%3A%2010h00-12h00%20et%2014h00-17h00%20%7C%20jeudi%20%3A%2010h00-12h00%20et%2014h00-17h00%20%7C%20vendredi%20%3A%208h30-12h00%20et%2014h00-17h00%20%7C%20samedi%20%3A%20ferm%C3%A9%20%7C%20dimanche%20%3A%20ferm%C3%A9%3Cbr%3E%3Cstrong%3E%3Cb%3EHoraire%20personnes%20prioritaires%20%3A%20%3C/b%3E%3C/strong%3E-%3Cbr%3E%3Cstrong%3E%3Cb%3ET%C3%A9l%C3%A9phone%20%3A%20%3C/b%3E%3C/strong%3E0614970011%3Cbr%3E%3Cstrong%3E%3Cb%3ESite%20internet%20%3A%20%3C/b%3E%3C/strong%3E-%3C/div%3E%60%29%5B0%5D%3B%0A%20%20%20%20%20%20%20%20%20%20%20%20popup_44763664297c48968298a1300a71b499.setContent%28html_5490a4a4dd3e4c9fb3cf8d685bcd64d8%29%3B%0A%20%20%20%20%20%20%20%20%0A%0A%20%20%20%20%20%20%20%20marker_79eb13f06edb43c3bcf2a161e6c59862.bindPopup%28popup_44763664297c48968298a1300a71b499%29%0A%20%20%20%20%20%20%20%20%3B%0A%0A%20%20%20%20%20%20%20%20%0A%20%20%20%20%0A%20%20%20%20%0A%20%20%20%20%20%20%20%20%20%20%20%20marker_79eb13f06edb43c3bcf2a161e6c59862.bindTooltip%28%0A%20%20%20%20%20%20%20%20%20%20%20%20%20%20%20%20%60%3Cdiv%3E%0A%20%20%20%20%20%20%20%20%20%20%20%20%20%20%20%20%20%20%20%20%20%3Cstrong%3E3%20AV%20RICCARDO%20MAZZA%2034630%20ST%20THIBERY%3C/strong%3E%0A%20%20%20%20%20%20%20%20%20%20%20%20%20%20%20%20%20%3C/div%3E%60%2C%0A%20%20%20%20%20%20%20%20%20%20%20%20%20%20%20%20%7B%22sticky%22%3A%20true%7D%0A%20%20%20%20%20%20%20%20%20%20%20%20%29%3B%0A%20%20%20%20%20%20%20%20%0A%20%20%20%20%0A%20%20%20%20%20%20%20%20%20%20%20%20var%20marker_9a646b6a485243b597e9cfd5ca03079a%20%3D%20L.marker%28%0A%20%20%20%20%20%20%20%20%20%20%20%20%20%20%20%20%5B43.4040446329224%2C%203.69745658986976%5D%2C%0A%20%20%20%20%20%20%20%20%20%20%20%20%20%20%20%20%7B%7D%0A%20%20%20%20%20%20%20%20%20%20%20%20%29.addTo%28map_b4760f99a41d472a852e90660ac9673f%29%3B%0A%20%20%20%20%20%20%20%20%0A%20%20%20%20%0A%20%20%20%20%20%20%20%20%20%20%20%20var%20icon_dc5ccfb274844729b203af672988269f%20%3D%20L.AwesomeMarkers.icon%28%0A%20%20%20%20%20%20%20%20%20%20%20%20%20%20%20%20%7B%22extraClasses%22%3A%20%22fa-rotate-0%22%2C%20%22icon%22%3A%20%22info-sign%22%2C%20%22iconColor%22%3A%20%22white%22%2C%20%22markerColor%22%3A%20%22green%22%2C%20%22prefix%22%3A%20%22glyphicon%22%7D%0A%20%20%20%20%20%20%20%20%20%20%20%20%29%3B%0A%20%20%20%20%20%20%20%20%20%20%20%20marker_9a646b6a485243b597e9cfd5ca03079a.setIcon%28icon_dc5ccfb274844729b203af672988269f%29%3B%0A%20%20%20%20%20%20%20%20%0A%20%20%20%20%0A%20%20%20%20%20%20%20%20var%20popup_c50d6ceccc6f4a22940b1f225902b472%20%3D%20L.popup%28%7B%22maxWidth%22%3A%20500%7D%29%3B%0A%0A%20%20%20%20%20%20%20%20%0A%20%20%20%20%20%20%20%20%20%20%20%20var%20html_cde8a96c91754a759700eecba6ed4a75%20%3D%20%24%28%60%3Cdiv%20id%3D%22html_cde8a96c91754a759700eecba6ed4a75%22%20style%3D%22width%3A%20100.0%25%3B%20height%3A%20100.0%25%3B%22%3E%3Ch4%3E%3Cb%3E%3Cp%20style%3D%22text-align%3Acenter%3B%22%3ELBM%20BIOMED%2034%20SETE%20LEOPOLD%20SUQUET%3C/p%3E%3C/b%3E%3C/h4%3E%3Cbr%3E%3Ch5%3E%3Cb%3EAdresse%20%3A%20%3C/b%3E%3C/h5%3E16%20QU%20LEOPOLD%20SUQUET%2034200%20SETE%3Cbr%3E%3Ci%3EDrive%20dans%20le%20garage%20%C3%A0%20l%27arri%C3%A8re%20du%20laboratoire%3C/i%3E%3Cbr%3E%3Cstrong%3E%3Cb%3ETest%20RT-PCR%20%3A%20%3C/b%3E%3C/strong%3EOUI%3Cbr%3E%3Cstrong%3E%3Cb%3ETest%20antig%C3%A9nique%20%3A%20%3C/b%3E%3C/strong%3ENON%3Cbr%3E%3Cstrong%3E%3Cb%3EModalit%C3%A9s%20de%20pr%C3%A9l%C3%A8vement%20%3A%20%3C/b%3E%3C/strong%3EDrive/Sur%20place%3Cbr%3E%3Cstrong%3E%3Cb%3EPublic%20%3A%20%3C/b%3E%3C/strong%3ETout%20public%3Cbr%3E%3Cstrong%3E%3Cb%3EAcc%C3%A8s%20%3A%20%3C/b%3E%3C/strong%3ESur%20rendez-vous%20uniquement%3Cbr%3E%3Ch5%3E%3Cb%3EHoraire%20%3A%20%3C/b%3E%3C/h5%3E-%3Cbr%3E%3Cstrong%3E%3Cb%3EHoraire%20personnes%20prioritaires%20%3A%20%3C/b%3E%3C/strong%3E-%3Cbr%3E%3Cstrong%3E%3Cb%3ET%C3%A9l%C3%A9phone%20%3A%20%3C/b%3E%3C/strong%3E04%2067%2018%2033%2040%3Cbr%3E%3Cstrong%3E%3Cb%3ESite%20internet%20%3A%20%3C/b%3E%3C/strong%3E-%3C/div%3E%60%29%5B0%5D%3B%0A%20%20%20%20%20%20%20%20%20%20%20%20popup_c50d6ceccc6f4a22940b1f225902b472.setContent%28html_cde8a96c91754a759700eecba6ed4a75%29%3B%0A%20%20%20%20%20%20%20%20%0A%0A%20%20%20%20%20%20%20%20marker_9a646b6a485243b597e9cfd5ca03079a.bindPopup%28popup_c50d6ceccc6f4a22940b1f225902b472%29%0A%20%20%20%20%20%20%20%20%3B%0A%0A%20%20%20%20%20%20%20%20%0A%20%20%20%20%0A%20%20%20%20%0A%20%20%20%20%20%20%20%20%20%20%20%20marker_9a646b6a485243b597e9cfd5ca03079a.bindTooltip%28%0A%20%20%20%20%20%20%20%20%20%20%20%20%20%20%20%20%60%3Cdiv%3E%0A%20%20%20%20%20%20%20%20%20%20%20%20%20%20%20%20%20%20%20%20%20%3Cstrong%3E16%20QU%20LEOPOLD%20SUQUET%2034200%20SETE%3C/strong%3E%0A%20%20%20%20%20%20%20%20%20%20%20%20%20%20%20%20%20%3C/div%3E%60%2C%0A%20%20%20%20%20%20%20%20%20%20%20%20%20%20%20%20%7B%22sticky%22%3A%20true%7D%0A%20%20%20%20%20%20%20%20%20%20%20%20%29%3B%0A%20%20%20%20%20%20%20%20%0A%20%20%20%20%0A%20%20%20%20%20%20%20%20%20%20%20%20var%20marker_5ec22f9d54d4435eb1bc1b753a6555ab%20%3D%20L.marker%28%0A%20%20%20%20%20%20%20%20%20%20%20%20%20%20%20%20%5B43.5077042994799%2C%203.80115433679497%5D%2C%0A%20%20%20%20%20%20%20%20%20%20%20%20%20%20%20%20%7B%7D%0A%20%20%20%20%20%20%20%20%20%20%20%20%29.addTo%28map_b4760f99a41d472a852e90660ac9673f%29%3B%0A%20%20%20%20%20%20%20%20%0A%20%20%20%20%0A%20%20%20%20%20%20%20%20%20%20%20%20var%20icon_10d3ec77c8f241beaf135a39652ecdad%20%3D%20L.AwesomeMarkers.icon%28%0A%20%20%20%20%20%20%20%20%20%20%20%20%20%20%20%20%7B%22extraClasses%22%3A%20%22fa-rotate-0%22%2C%20%22icon%22%3A%20%22info-sign%22%2C%20%22iconColor%22%3A%20%22white%22%2C%20%22markerColor%22%3A%20%22green%22%2C%20%22prefix%22%3A%20%22glyphicon%22%7D%0A%20%20%20%20%20%20%20%20%20%20%20%20%29%3B%0A%20%20%20%20%20%20%20%20%20%20%20%20marker_5ec22f9d54d4435eb1bc1b753a6555ab.setIcon%28icon_10d3ec77c8f241beaf135a39652ecdad%29%3B%0A%20%20%20%20%20%20%20%20%0A%20%20%20%20%0A%20%20%20%20%20%20%20%20var%20popup_c3f46439f9fc4a53b45d19461896bfb5%20%3D%20L.popup%28%7B%22maxWidth%22%3A%20500%7D%29%3B%0A%0A%20%20%20%20%20%20%20%20%0A%20%20%20%20%20%20%20%20%20%20%20%20var%20html_60c612f4e6b246c69545b5788406f7c1%20%3D%20%24%28%60%3Cdiv%20id%3D%22html_60c612f4e6b246c69545b5788406f7c1%22%20style%3D%22width%3A%20100.0%25%3B%20height%3A%20100.0%25%3B%22%3E%3Ch4%3E%3Cb%3E%3Cp%20style%3D%22text-align%3Acenter%3B%22%3ELBM%20BIOMED%2034%20MIREVAL%3C/p%3E%3C/b%3E%3C/h4%3E%3Cbr%3E%3Ch5%3E%3Cb%3EAdresse%20%3A%20%3C/b%3E%3C/h5%3E2%20BD%20JEAN%20JAURES%2034110%20MIREVAL%3Cbr%3E%3Ci%3E-%3C/i%3E%3Cbr%3E%3Cstrong%3E%3Cb%3ETest%20RT-PCR%20%3A%20%3C/b%3E%3C/strong%3EOUI%3Cbr%3E%3Cstrong%3E%3Cb%3ETest%20antig%C3%A9nique%20%3A%20%3C/b%3E%3C/strong%3ENON%3Cbr%3E%3Cstrong%3E%3Cb%3EModalit%C3%A9s%20de%20pr%C3%A9l%C3%A8vement%20%3A%20%3C/b%3E%3C/strong%3ESur%20place%3Cbr%3E%3Cstrong%3E%3Cb%3EPublic%20%3A%20%3C/b%3E%3C/strong%3ETout%20public%3Cbr%3E%3Cstrong%3E%3Cb%3EAcc%C3%A8s%20%3A%20%3C/b%3E%3C/strong%3ESur%20rendez-vous%20uniquement%3Cbr%3E%3Ch5%3E%3Cb%3EHoraire%20%3A%20%3C/b%3E%3C/h5%3Elundi%20%3A%2010h00-12h00%20%20%7C%20mardi%20%3A%2010h00-12h00%20%7C%20mercredi%20%3A10h00-12h00%20%7C%20jeudi%20%3A10h00-12h00%20%7C%20vendredi%20%3A%2010h00-12h00%20%7C%20samedi%20%3A%20%20%7C%20dimanche%20%3A%20ferm%C3%A9%3Cbr%3E%3Cstrong%3E%3Cb%3EHoraire%20personnes%20prioritaires%20%3A%20%3C/b%3E%3C/strong%3E-%3Cbr%3E%3Cstrong%3E%3Cb%3ET%C3%A9l%C3%A9phone%20%3A%20%3C/b%3E%3C/strong%3E-%3Cbr%3E%3Cstrong%3E%3Cb%3ESite%20internet%20%3A%20%3C/b%3E%3C/strong%3E-%3C/div%3E%60%29%5B0%5D%3B%0A%20%20%20%20%20%20%20%20%20%20%20%20popup_c3f46439f9fc4a53b45d19461896bfb5.setContent%28html_60c612f4e6b246c69545b5788406f7c1%29%3B%0A%20%20%20%20%20%20%20%20%0A%0A%20%20%20%20%20%20%20%20marker_5ec22f9d54d4435eb1bc1b753a6555ab.bindPopup%28popup_c3f46439f9fc4a53b45d19461896bfb5%29%0A%20%20%20%20%20%20%20%20%3B%0A%0A%20%20%20%20%20%20%20%20%0A%20%20%20%20%0A%20%20%20%20%0A%20%20%20%20%20%20%20%20%20%20%20%20marker_5ec22f9d54d4435eb1bc1b753a6555ab.bindTooltip%28%0A%20%20%20%20%20%20%20%20%20%20%20%20%20%20%20%20%60%3Cdiv%3E%0A%20%20%20%20%20%20%20%20%20%20%20%20%20%20%20%20%20%20%20%20%20%3Cstrong%3E2%20BD%20JEAN%20JAURES%2034110%20MIREVAL%3C/strong%3E%0A%20%20%20%20%20%20%20%20%20%20%20%20%20%20%20%20%20%3C/div%3E%60%2C%0A%20%20%20%20%20%20%20%20%20%20%20%20%20%20%20%20%7B%22sticky%22%3A%20true%7D%0A%20%20%20%20%20%20%20%20%20%20%20%20%29%3B%0A%20%20%20%20%20%20%20%20%0A%20%20%20%20%0A%20%20%20%20%20%20%20%20%20%20%20%20var%20marker_630c57c32f0845c6ae2314a2bf3ebf0c%20%3D%20L.marker%28%0A%20%20%20%20%20%20%20%20%20%20%20%20%20%20%20%20%5B43.4409914265899%2C%203.680994946658%5D%2C%0A%20%20%20%20%20%20%20%20%20%20%20%20%20%20%20%20%7B%7D%0A%20%20%20%20%20%20%20%20%20%20%20%20%29.addTo%28map_b4760f99a41d472a852e90660ac9673f%29%3B%0A%20%20%20%20%20%20%20%20%0A%20%20%20%20%0A%20%20%20%20%20%20%20%20%20%20%20%20var%20icon_02d0e077a16045b69d866b4ceb834ebf%20%3D%20L.AwesomeMarkers.icon%28%0A%20%20%20%20%20%20%20%20%20%20%20%20%20%20%20%20%7B%22extraClasses%22%3A%20%22fa-rotate-0%22%2C%20%22icon%22%3A%20%22info-sign%22%2C%20%22iconColor%22%3A%20%22white%22%2C%20%22markerColor%22%3A%20%22green%22%2C%20%22prefix%22%3A%20%22glyphicon%22%7D%0A%20%20%20%20%20%20%20%20%20%20%20%20%29%3B%0A%20%20%20%20%20%20%20%20%20%20%20%20marker_630c57c32f0845c6ae2314a2bf3ebf0c.setIcon%28icon_02d0e077a16045b69d866b4ceb834ebf%29%3B%0A%20%20%20%20%20%20%20%20%0A%20%20%20%20%0A%20%20%20%20%20%20%20%20var%20popup_4d64326fe15c4018819c12e605c1cc3b%20%3D%20L.popup%28%7B%22maxWidth%22%3A%20500%7D%29%3B%0A%0A%20%20%20%20%20%20%20%20%0A%20%20%20%20%20%20%20%20%20%20%20%20var%20html_304650e9cf2344f6b01061d544114ceb%20%3D%20%24%28%60%3Cdiv%20id%3D%22html_304650e9cf2344f6b01061d544114ceb%22%20style%3D%22width%3A%20100.0%25%3B%20height%3A%20100.0%25%3B%22%3E%3Ch4%3E%3Cb%3E%3Cp%20style%3D%22text-align%3Acenter%3B%22%3ELBM%20BIOMED%2034%20BALARUC%20LES%20BAINS%3C/p%3E%3C/b%3E%3C/h4%3E%3Cbr%3E%3Ch5%3E%3Cb%3EAdresse%20%3A%20%3C/b%3E%3C/h5%3E12%20AV%20DU%20PORT%2034540%20BALARUC%20LES%20BAINS%3Cbr%3E%3Ci%3E-%3C/i%3E%3Cbr%3E%3Cstrong%3E%3Cb%3ETest%20RT-PCR%20%3A%20%3C/b%3E%3C/strong%3EOUI%3Cbr%3E%3Cstrong%3E%3Cb%3ETest%20antig%C3%A9nique%20%3A%20%3C/b%3E%3C/strong%3ENON%3Cbr%3E%3Cstrong%3E%3Cb%3EModalit%C3%A9s%20de%20pr%C3%A9l%C3%A8vement%20%3A%20%3C/b%3E%3C/strong%3ESur%20place%3Cbr%3E%3Cstrong%3E%3Cb%3EPublic%20%3A%20%3C/b%3E%3C/strong%3ETout%20public%3Cbr%3E%3Cstrong%3E%3Cb%3EAcc%C3%A8s%20%3A%20%3C/b%3E%3C/strong%3ESur%20rendez-vous%20uniquement%3Cbr%3E%3Ch5%3E%3Cb%3EHoraire%20%3A%20%3C/b%3E%3C/h5%3Elundi%20%3A%2011h00-12h30%20%20%7C%20mardi%20%3A%2011h00-12h30%20%7C%20mercredi%20%3A%2011h00-12h30%20%7C%20jeudi%20%3A%2011h00-12h30%20%7C%20vendredi%20%3A%2011h00-12h30%20%7C%20samedi%20%3A%20%20%7C%20dimanche%20%3A%20ferm%C3%A9%3Cbr%3E%3Cstrong%3E%3Cb%3EHoraire%20personnes%20prioritaires%20%3A%20%3C/b%3E%3C/strong%3E-%3Cbr%3E%3Cstrong%3E%3Cb%3ET%C3%A9l%C3%A9phone%20%3A%20%3C/b%3E%3C/strong%3E-%3Cbr%3E%3Cstrong%3E%3Cb%3ESite%20internet%20%3A%20%3C/b%3E%3C/strong%3E-%3C/div%3E%60%29%5B0%5D%3B%0A%20%20%20%20%20%20%20%20%20%20%20%20popup_4d64326fe15c4018819c12e605c1cc3b.setContent%28html_304650e9cf2344f6b01061d544114ceb%29%3B%0A%20%20%20%20%20%20%20%20%0A%0A%20%20%20%20%20%20%20%20marker_630c57c32f0845c6ae2314a2bf3ebf0c.bindPopup%28popup_4d64326fe15c4018819c12e605c1cc3b%29%0A%20%20%20%20%20%20%20%20%3B%0A%0A%20%20%20%20%20%20%20%20%0A%20%20%20%20%0A%20%20%20%20%0A%20%20%20%20%20%20%20%20%20%20%20%20marker_630c57c32f0845c6ae2314a2bf3ebf0c.bindTooltip%28%0A%20%20%20%20%20%20%20%20%20%20%20%20%20%20%20%20%60%3Cdiv%3E%0A%20%20%20%20%20%20%20%20%20%20%20%20%20%20%20%20%20%20%20%20%20%3Cstrong%3E12%20AV%20DU%20PORT%2034540%20BALARUC%20LES%20BAINS%3C/strong%3E%0A%20%20%20%20%20%20%20%20%20%20%20%20%20%20%20%20%20%3C/div%3E%60%2C%0A%20%20%20%20%20%20%20%20%20%20%20%20%20%20%20%20%7B%22sticky%22%3A%20true%7D%0A%20%20%20%20%20%20%20%20%20%20%20%20%29%3B%0A%20%20%20%20%20%20%20%20%0A%20%20%20%20%0A%20%20%20%20%20%20%20%20%20%20%20%20var%20marker_fe07682a7dc14e1899aa78512db6fa69%20%3D%20L.marker%28%0A%20%20%20%20%20%20%20%20%20%20%20%20%20%20%20%20%5B43.3561748621022%2C%203.53011938496249%5D%2C%0A%20%20%20%20%20%20%20%20%20%20%20%20%20%20%20%20%7B%7D%0A%20%20%20%20%20%20%20%20%20%20%20%20%29.addTo%28map_b4760f99a41d472a852e90660ac9673f%29%3B%0A%20%20%20%20%20%20%20%20%0A%20%20%20%20%0A%20%20%20%20%20%20%20%20%20%20%20%20var%20icon_69d6cca3c4e74feeae86a13e20a83117%20%3D%20L.AwesomeMarkers.icon%28%0A%20%20%20%20%20%20%20%20%20%20%20%20%20%20%20%20%7B%22extraClasses%22%3A%20%22fa-rotate-0%22%2C%20%22icon%22%3A%20%22info-sign%22%2C%20%22iconColor%22%3A%20%22white%22%2C%20%22markerColor%22%3A%20%22green%22%2C%20%22prefix%22%3A%20%22glyphicon%22%7D%0A%20%20%20%20%20%20%20%20%20%20%20%20%29%3B%0A%20%20%20%20%20%20%20%20%20%20%20%20marker_fe07682a7dc14e1899aa78512db6fa69.setIcon%28icon_69d6cca3c4e74feeae86a13e20a83117%29%3B%0A%20%20%20%20%20%20%20%20%0A%20%20%20%20%0A%20%20%20%20%20%20%20%20var%20popup_94b0821037bf4cba8b0dfdea30eef160%20%3D%20L.popup%28%7B%22maxWidth%22%3A%20500%7D%29%3B%0A%0A%20%20%20%20%20%20%20%20%0A%20%20%20%20%20%20%20%20%20%20%20%20var%20html_9fd877d59d974290b627d54ffa12f837%20%3D%20%24%28%60%3Cdiv%20id%3D%22html_9fd877d59d974290b627d54ffa12f837%22%20style%3D%22width%3A%20100.0%25%3B%20height%3A%20100.0%25%3B%22%3E%3Ch4%3E%3Cb%3E%3Cp%20style%3D%22text-align%3Acenter%3B%22%3ELBM%20BIOMED%2034%20MARSEILLAN%3C/p%3E%3C/b%3E%3C/h4%3E%3Cbr%3E%3Ch5%3E%3Cb%3EAdresse%20%3A%20%3C/b%3E%3C/h5%3E39%20BD%20PASTEUR%2034340%20MARSEILLAN%3Cbr%3E%3Ci%3E-%3C/i%3E%3Cbr%3E%3Cstrong%3E%3Cb%3ETest%20RT-PCR%20%3A%20%3C/b%3E%3C/strong%3EOUI%3Cbr%3E%3Cstrong%3E%3Cb%3ETest%20antig%C3%A9nique%20%3A%20%3C/b%3E%3C/strong%3ENON%3Cbr%3E%3Cstrong%3E%3Cb%3EModalit%C3%A9s%20de%20pr%C3%A9l%C3%A8vement%20%3A%20%3C/b%3E%3C/strong%3ESur%20place%3Cbr%3E%3Cstrong%3E%3Cb%3EPublic%20%3A%20%3C/b%3E%3C/strong%3ETout%20public%3Cbr%3E%3Cstrong%3E%3Cb%3EAcc%C3%A8s%20%3A%20%3C/b%3E%3C/strong%3ESur%20rendez-vous%20uniquement%3Cbr%3E%3Ch5%3E%3Cb%3EHoraire%20%3A%20%3C/b%3E%3C/h5%3Elundi%20%3A%2010h00-12h00%20%20%7C%20mardi%20%3A%2010h00-12h00%20%7C%20mercredi%20%3A%2010h00-12h00%20%7C%20jeudi%20%3A%2010h00-12h00%20%7C%20vendredi%20%3A%2010h00-12h00%20%7C%20samedi%20%3A%20ferm%C3%A9%20%7C%20dimanche%20%3A%20ferm%C3%A9%3Cbr%3E%3Cstrong%3E%3Cb%3EHoraire%20personnes%20prioritaires%20%3A%20%3C/b%3E%3C/strong%3E-%3Cbr%3E%3Cstrong%3E%3Cb%3ET%C3%A9l%C3%A9phone%20%3A%20%3C/b%3E%3C/strong%3E-%3Cbr%3E%3Cstrong%3E%3Cb%3ESite%20internet%20%3A%20%3C/b%3E%3C/strong%3E-%3C/div%3E%60%29%5B0%5D%3B%0A%20%20%20%20%20%20%20%20%20%20%20%20popup_94b0821037bf4cba8b0dfdea30eef160.setContent%28html_9fd877d59d974290b627d54ffa12f837%29%3B%0A%20%20%20%20%20%20%20%20%0A%0A%20%20%20%20%20%20%20%20marker_fe07682a7dc14e1899aa78512db6fa69.bindPopup%28popup_94b0821037bf4cba8b0dfdea30eef160%29%0A%20%20%20%20%20%20%20%20%3B%0A%0A%20%20%20%20%20%20%20%20%0A%20%20%20%20%0A%20%20%20%20%0A%20%20%20%20%20%20%20%20%20%20%20%20marker_fe07682a7dc14e1899aa78512db6fa69.bindTooltip%28%0A%20%20%20%20%20%20%20%20%20%20%20%20%20%20%20%20%60%3Cdiv%3E%0A%20%20%20%20%20%20%20%20%20%20%20%20%20%20%20%20%20%20%20%20%20%3Cstrong%3E39%20BD%20PASTEUR%2034340%20MARSEILLAN%3C/strong%3E%0A%20%20%20%20%20%20%20%20%20%20%20%20%20%20%20%20%20%3C/div%3E%60%2C%0A%20%20%20%20%20%20%20%20%20%20%20%20%20%20%20%20%7B%22sticky%22%3A%20true%7D%0A%20%20%20%20%20%20%20%20%20%20%20%20%29%3B%0A%20%20%20%20%20%20%20%20%0A%20%20%20%20%0A%20%20%20%20%20%20%20%20%20%20%20%20var%20marker_31002fce223a4249b35e5ef02350ee5e%20%3D%20L.marker%28%0A%20%20%20%20%20%20%20%20%20%20%20%20%20%20%20%20%5B43.5341877927797%2C%203.85287958263937%5D%2C%0A%20%20%20%20%20%20%20%20%20%20%20%20%20%20%20%20%7B%7D%0A%20%20%20%20%20%20%20%20%20%20%20%20%29.addTo%28map_b4760f99a41d472a852e90660ac9673f%29%3B%0A%20%20%20%20%20%20%20%20%0A%20%20%20%20%0A%20%20%20%20%20%20%20%20%20%20%20%20var%20icon_ad3bbd9461cd4d6cb0fd445eeacb7c78%20%3D%20L.AwesomeMarkers.icon%28%0A%20%20%20%20%20%20%20%20%20%20%20%20%20%20%20%20%7B%22extraClasses%22%3A%20%22fa-rotate-0%22%2C%20%22icon%22%3A%20%22info-sign%22%2C%20%22iconColor%22%3A%20%22white%22%2C%20%22markerColor%22%3A%20%22green%22%2C%20%22prefix%22%3A%20%22glyphicon%22%7D%0A%20%20%20%20%20%20%20%20%20%20%20%20%29%3B%0A%20%20%20%20%20%20%20%20%20%20%20%20marker_31002fce223a4249b35e5ef02350ee5e.setIcon%28icon_ad3bbd9461cd4d6cb0fd445eeacb7c78%29%3B%0A%20%20%20%20%20%20%20%20%0A%20%20%20%20%0A%20%20%20%20%20%20%20%20var%20popup_cf09dbf051504568a6952db18562984a%20%3D%20L.popup%28%7B%22maxWidth%22%3A%20500%7D%29%3B%0A%0A%20%20%20%20%20%20%20%20%0A%20%20%20%20%20%20%20%20%20%20%20%20var%20html_5e1577a470454f009d7c5ac638cf76ea%20%3D%20%24%28%60%3Cdiv%20id%3D%22html_5e1577a470454f009d7c5ac638cf76ea%22%20style%3D%22width%3A%20100.0%25%3B%20height%3A%20100.0%25%3B%22%3E%3Ch4%3E%3Cb%3E%3Cp%20style%3D%22text-align%3Acenter%3B%22%3ELBM%20BIOMED%2034%20VILLENEUVE%20LES%20MAGUELONE%3C/p%3E%3C/b%3E%3C/h4%3E%3Cbr%3E%3Ch5%3E%3Cb%3EAdresse%20%3A%20%3C/b%3E%3C/h5%3E3%20ALL%20DU%20COLLEGE%2034750%20VILLENEUVE%20LES%20MAGUELONE%3Cbr%3E%3Ci%3EDrive%3C/i%3E%3Cbr%3E%3Cstrong%3E%3Cb%3ETest%20RT-PCR%20%3A%20%3C/b%3E%3C/strong%3EOUI%3Cbr%3E%3Cstrong%3E%3Cb%3ETest%20antig%C3%A9nique%20%3A%20%3C/b%3E%3C/strong%3ENON%3Cbr%3E%3Cstrong%3E%3Cb%3EModalit%C3%A9s%20de%20pr%C3%A9l%C3%A8vement%20%3A%20%3C/b%3E%3C/strong%3EDrive/Sur%20place%3Cbr%3E%3Cstrong%3E%3Cb%3EPublic%20%3A%20%3C/b%3E%3C/strong%3ETout%20public%3Cbr%3E%3Cstrong%3E%3Cb%3EAcc%C3%A8s%20%3A%20%3C/b%3E%3C/strong%3ESur%20rendez-vous%20uniquement%3Cbr%3E%3Ch5%3E%3Cb%3EHoraire%20%3A%20%3C/b%3E%3C/h5%3Elundi%20%3A%2010h00-12h30%20%20%7C%20mardi%20%3A%2010h00-12h30%20%20%7C%20mercredi%20%3A%2010h00-12h30%20%20%7C%20jeudi%20%3A%2010h00-12h30%20%20%7C%20vendredi%20%3A%2010h00-12h30%20%20%7C%20samedi%20%3A%2010h00-12h00%20%20%7C%20dimanche%20%3A%20ferm%C3%A9%3Cbr%3E%3Cstrong%3E%3Cb%3EHoraire%20personnes%20prioritaires%20%3A%20%3C/b%3E%3C/strong%3E-%3Cbr%3E%3Cstrong%3E%3Cb%3ET%C3%A9l%C3%A9phone%20%3A%20%3C/b%3E%3C/strong%3E04%2067%2069%2051%2041%3Cbr%3E%3Cstrong%3E%3Cb%3ESite%20internet%20%3A%20%3C/b%3E%3C/strong%3E-%3C/div%3E%60%29%5B0%5D%3B%0A%20%20%20%20%20%20%20%20%20%20%20%20popup_cf09dbf051504568a6952db18562984a.setContent%28html_5e1577a470454f009d7c5ac638cf76ea%29%3B%0A%20%20%20%20%20%20%20%20%0A%0A%20%20%20%20%20%20%20%20marker_31002fce223a4249b35e5ef02350ee5e.bindPopup%28popup_cf09dbf051504568a6952db18562984a%29%0A%20%20%20%20%20%20%20%20%3B%0A%0A%20%20%20%20%20%20%20%20%0A%20%20%20%20%0A%20%20%20%20%0A%20%20%20%20%20%20%20%20%20%20%20%20marker_31002fce223a4249b35e5ef02350ee5e.bindTooltip%28%0A%20%20%20%20%20%20%20%20%20%20%20%20%20%20%20%20%60%3Cdiv%3E%0A%20%20%20%20%20%20%20%20%20%20%20%20%20%20%20%20%20%20%20%20%20%3Cstrong%3E3%20ALL%20DU%20COLLEGE%2034750%20VILLENEUVE%20LES%20MAGUELONE%3C/strong%3E%0A%20%20%20%20%20%20%20%20%20%20%20%20%20%20%20%20%20%3C/div%3E%60%2C%0A%20%20%20%20%20%20%20%20%20%20%20%20%20%20%20%20%7B%22sticky%22%3A%20true%7D%0A%20%20%20%20%20%20%20%20%20%20%20%20%29%3B%0A%20%20%20%20%20%20%20%20%0A%20%20%20%20%0A%20%20%20%20%20%20%20%20%20%20%20%20var%20marker_a2f33e45a7fd4df3a610811f253e0217%20%3D%20L.marker%28%0A%20%20%20%20%20%20%20%20%20%20%20%20%20%20%20%20%5B43.5932530019633%2C%203.0822111252359%5D%2C%0A%20%20%20%20%20%20%20%20%20%20%20%20%20%20%20%20%7B%7D%0A%20%20%20%20%20%20%20%20%20%20%20%20%29.addTo%28map_b4760f99a41d472a852e90660ac9673f%29%3B%0A%20%20%20%20%20%20%20%20%0A%20%20%20%20%0A%20%20%20%20%20%20%20%20%20%20%20%20var%20icon_42728b7953ed4e258b602b632ffbc935%20%3D%20L.AwesomeMarkers.icon%28%0A%20%20%20%20%20%20%20%20%20%20%20%20%20%20%20%20%7B%22extraClasses%22%3A%20%22fa-rotate-0%22%2C%20%22icon%22%3A%20%22info-sign%22%2C%20%22iconColor%22%3A%20%22white%22%2C%20%22markerColor%22%3A%20%22green%22%2C%20%22prefix%22%3A%20%22glyphicon%22%7D%0A%20%20%20%20%20%20%20%20%20%20%20%20%29%3B%0A%20%20%20%20%20%20%20%20%20%20%20%20marker_a2f33e45a7fd4df3a610811f253e0217.setIcon%28icon_42728b7953ed4e258b602b632ffbc935%29%3B%0A%20%20%20%20%20%20%20%20%0A%20%20%20%20%0A%20%20%20%20%20%20%20%20var%20popup_ad589ab682e54206950ae4402d9f1893%20%3D%20L.popup%28%7B%22maxWidth%22%3A%20500%7D%29%3B%0A%0A%20%20%20%20%20%20%20%20%0A%20%20%20%20%20%20%20%20%20%20%20%20var%20html_75876cb50f0d4e0f981c131487891a8b%20%3D%20%24%28%60%3Cdiv%20id%3D%22html_75876cb50f0d4e0f981c131487891a8b%22%20style%3D%22width%3A%20100.0%25%3B%20height%3A%20100.0%25%3B%22%3E%3Ch4%3E%3Cb%3E%3Cp%20style%3D%22text-align%3Acenter%3B%22%3ELBM%20BIOMED%2034%20LAMALOU%20LES%20BAINS%3C/p%3E%3C/b%3E%3C/h4%3E%3Cbr%3E%3Ch5%3E%3Cb%3EAdresse%20%3A%20%3C/b%3E%3C/h5%3E26%20AV%20CHARCOT%2034240%20LAMALOU%20LES%20BAINS%3Cbr%3E%3Ci%3E-%3C/i%3E%3Cbr%3E%3Cstrong%3E%3Cb%3ETest%20RT-PCR%20%3A%20%3C/b%3E%3C/strong%3EOUI%3Cbr%3E%3Cstrong%3E%3Cb%3ETest%20antig%C3%A9nique%20%3A%20%3C/b%3E%3C/strong%3ENON%3Cbr%3E%3Cstrong%3E%3Cb%3EModalit%C3%A9s%20de%20pr%C3%A9l%C3%A8vement%20%3A%20%3C/b%3E%3C/strong%3ESur%20place%3Cbr%3E%3Cstrong%3E%3Cb%3EPublic%20%3A%20%3C/b%3E%3C/strong%3ETout%20public%3Cbr%3E%3Cstrong%3E%3Cb%3EAcc%C3%A8s%20%3A%20%3C/b%3E%3C/strong%3ESur%20rendez-vous%20uniquement%3Cbr%3E%3Ch5%3E%3Cb%3EHoraire%20%3A%20%3C/b%3E%3C/h5%3Elundi%20%3A%2011h00-14h00%20%20%7C%20mardi%20%3A%2011h00-14h00%20%7C%20mercredi%20%3A%2011h00-14h00%20%7C%20jeudi%20%3A%2011h00-14h00%20%7C%20vendredi%20%3A%2011h00-14h00%20%7C%20samedi%20%3A%20%20%7C%20dimanche%20%3A%20ferm%C3%A9%3Cbr%3E%3Cstrong%3E%3Cb%3EHoraire%20personnes%20prioritaires%20%3A%20%3C/b%3E%3C/strong%3E-%3Cbr%3E%3Cstrong%3E%3Cb%3ET%C3%A9l%C3%A9phone%20%3A%20%3C/b%3E%3C/strong%3E-%3Cbr%3E%3Cstrong%3E%3Cb%3ESite%20internet%20%3A%20%3C/b%3E%3C/strong%3E-%3C/div%3E%60%29%5B0%5D%3B%0A%20%20%20%20%20%20%20%20%20%20%20%20popup_ad589ab682e54206950ae4402d9f1893.setContent%28html_75876cb50f0d4e0f981c131487891a8b%29%3B%0A%20%20%20%20%20%20%20%20%0A%0A%20%20%20%20%20%20%20%20marker_a2f33e45a7fd4df3a610811f253e0217.bindPopup%28popup_ad589ab682e54206950ae4402d9f1893%29%0A%20%20%20%20%20%20%20%20%3B%0A%0A%20%20%20%20%20%20%20%20%0A%20%20%20%20%0A%20%20%20%20%0A%20%20%20%20%20%20%20%20%20%20%20%20marker_a2f33e45a7fd4df3a610811f253e0217.bindTooltip%28%0A%20%20%20%20%20%20%20%20%20%20%20%20%20%20%20%20%60%3Cdiv%3E%0A%20%20%20%20%20%20%20%20%20%20%20%20%20%20%20%20%20%20%20%20%20%3Cstrong%3E26%20AV%20CHARCOT%2034240%20LAMALOU%20LES%20BAINS%3C/strong%3E%0A%20%20%20%20%20%20%20%20%20%20%20%20%20%20%20%20%20%3C/div%3E%60%2C%0A%20%20%20%20%20%20%20%20%20%20%20%20%20%20%20%20%7B%22sticky%22%3A%20true%7D%0A%20%20%20%20%20%20%20%20%20%20%20%20%29%3B%0A%20%20%20%20%20%20%20%20%0A%20%20%20%20%0A%20%20%20%20%20%20%20%20%20%20%20%20var%20marker_6670ce6517a14be685534882588d819b%20%3D%20L.marker%28%0A%20%20%20%20%20%20%20%20%20%20%20%20%20%20%20%20%5B43.6152507090804%2C%203.15467703162313%5D%2C%0A%20%20%20%20%20%20%20%20%20%20%20%20%20%20%20%20%7B%7D%0A%20%20%20%20%20%20%20%20%20%20%20%20%29.addTo%28map_b4760f99a41d472a852e90660ac9673f%29%3B%0A%20%20%20%20%20%20%20%20%0A%20%20%20%20%0A%20%20%20%20%20%20%20%20%20%20%20%20var%20icon_d787ba6687314d538ae2c2dbe24157ef%20%3D%20L.AwesomeMarkers.icon%28%0A%20%20%20%20%20%20%20%20%20%20%20%20%20%20%20%20%7B%22extraClasses%22%3A%20%22fa-rotate-0%22%2C%20%22icon%22%3A%20%22info-sign%22%2C%20%22iconColor%22%3A%20%22white%22%2C%20%22markerColor%22%3A%20%22green%22%2C%20%22prefix%22%3A%20%22glyphicon%22%7D%0A%20%20%20%20%20%20%20%20%20%20%20%20%29%3B%0A%20%20%20%20%20%20%20%20%20%20%20%20marker_6670ce6517a14be685534882588d819b.setIcon%28icon_d787ba6687314d538ae2c2dbe24157ef%29%3B%0A%20%20%20%20%20%20%20%20%0A%20%20%20%20%0A%20%20%20%20%20%20%20%20var%20popup_72476c155cf446b796bc840362b88077%20%3D%20L.popup%28%7B%22maxWidth%22%3A%20500%7D%29%3B%0A%0A%20%20%20%20%20%20%20%20%0A%20%20%20%20%20%20%20%20%20%20%20%20var%20html_bdd3450565f749dabb006ab48d00797d%20%3D%20%24%28%60%3Cdiv%20id%3D%22html_bdd3450565f749dabb006ab48d00797d%22%20style%3D%22width%3A%20100.0%25%3B%20height%3A%20100.0%25%3B%22%3E%3Ch4%3E%3Cb%3E%3Cp%20style%3D%22text-align%3Acenter%3B%22%3ELBM%20BIOMED%2034%20BEDARIEUX%3C/p%3E%3C/b%3E%3C/h4%3E%3Cbr%3E%3Ch5%3E%3Cb%3EAdresse%20%3A%20%3C/b%3E%3C/h5%3E7%20R%20GASSENC%2034600%20BEDARIEUX%3Cbr%3E%3Ci%3E-%3C/i%3E%3Cbr%3E%3Cstrong%3E%3Cb%3ETest%20RT-PCR%20%3A%20%3C/b%3E%3C/strong%3EOUI%3Cbr%3E%3Cstrong%3E%3Cb%3ETest%20antig%C3%A9nique%20%3A%20%3C/b%3E%3C/strong%3ENON%3Cbr%3E%3Cstrong%3E%3Cb%3EModalit%C3%A9s%20de%20pr%C3%A9l%C3%A8vement%20%3A%20%3C/b%3E%3C/strong%3ESur%20place%3Cbr%3E%3Cstrong%3E%3Cb%3EPublic%20%3A%20%3C/b%3E%3C/strong%3ETout%20public%3Cbr%3E%3Cstrong%3E%3Cb%3EAcc%C3%A8s%20%3A%20%3C/b%3E%3C/strong%3ESur%20rendez-vous%20uniquement%3Cbr%3E%3Ch5%3E%3Cb%3EHoraire%20%3A%20%3C/b%3E%3C/h5%3E-%3Cbr%3E%3Cstrong%3E%3Cb%3EHoraire%20personnes%20prioritaires%20%3A%20%3C/b%3E%3C/strong%3E-%3Cbr%3E%3Cstrong%3E%3Cb%3ET%C3%A9l%C3%A9phone%20%3A%20%3C/b%3E%3C/strong%3E0467950218%3Cbr%3E%3Cstrong%3E%3Cb%3ESite%20internet%20%3A%20%3C/b%3E%3C/strong%3E-%3C/div%3E%60%29%5B0%5D%3B%0A%20%20%20%20%20%20%20%20%20%20%20%20popup_72476c155cf446b796bc840362b88077.setContent%28html_bdd3450565f749dabb006ab48d00797d%29%3B%0A%20%20%20%20%20%20%20%20%0A%0A%20%20%20%20%20%20%20%20marker_6670ce6517a14be685534882588d819b.bindPopup%28popup_72476c155cf446b796bc840362b88077%29%0A%20%20%20%20%20%20%20%20%3B%0A%0A%20%20%20%20%20%20%20%20%0A%20%20%20%20%0A%20%20%20%20%0A%20%20%20%20%20%20%20%20%20%20%20%20marker_6670ce6517a14be685534882588d819b.bindTooltip%28%0A%20%20%20%20%20%20%20%20%20%20%20%20%20%20%20%20%60%3Cdiv%3E%0A%20%20%20%20%20%20%20%20%20%20%20%20%20%20%20%20%20%20%20%20%20%3Cstrong%3E7%20R%20GASSENC%2034600%20BEDARIEUX%3C/strong%3E%0A%20%20%20%20%20%20%20%20%20%20%20%20%20%20%20%20%20%3C/div%3E%60%2C%0A%20%20%20%20%20%20%20%20%20%20%20%20%20%20%20%20%7B%22sticky%22%3A%20true%7D%0A%20%20%20%20%20%20%20%20%20%20%20%20%29%3B%0A%20%20%20%20%20%20%20%20%0A%20%20%20%20%0A%20%20%20%20%20%20%20%20%20%20%20%20var%20marker_ce21cee149b042889e8440fc45ee7e0a%20%3D%20L.marker%28%0A%20%20%20%20%20%20%20%20%20%20%20%20%20%20%20%20%5B43.4895461319907%2C%202.75828200464452%5D%2C%0A%20%20%20%20%20%20%20%20%20%20%20%20%20%20%20%20%7B%7D%0A%20%20%20%20%20%20%20%20%20%20%20%20%29.addTo%28map_b4760f99a41d472a852e90660ac9673f%29%3B%0A%20%20%20%20%20%20%20%20%0A%20%20%20%20%0A%20%20%20%20%20%20%20%20%20%20%20%20var%20icon_4ffd1c647037459a82644d885cfa5b34%20%3D%20L.AwesomeMarkers.icon%28%0A%20%20%20%20%20%20%20%20%20%20%20%20%20%20%20%20%7B%22extraClasses%22%3A%20%22fa-rotate-0%22%2C%20%22icon%22%3A%20%22info-sign%22%2C%20%22iconColor%22%3A%20%22white%22%2C%20%22markerColor%22%3A%20%22green%22%2C%20%22prefix%22%3A%20%22glyphicon%22%7D%0A%20%20%20%20%20%20%20%20%20%20%20%20%29%3B%0A%20%20%20%20%20%20%20%20%20%20%20%20marker_ce21cee149b042889e8440fc45ee7e0a.setIcon%28icon_4ffd1c647037459a82644d885cfa5b34%29%3B%0A%20%20%20%20%20%20%20%20%0A%20%20%20%20%0A%20%20%20%20%20%20%20%20var%20popup_9c5ee49fc0214ad392f995d07eaea33e%20%3D%20L.popup%28%7B%22maxWidth%22%3A%20500%7D%29%3B%0A%0A%20%20%20%20%20%20%20%20%0A%20%20%20%20%20%20%20%20%20%20%20%20var%20html_890cba9ca5d04efa9859d3910b5a7282%20%3D%20%24%28%60%3Cdiv%20id%3D%22html_890cba9ca5d04efa9859d3910b5a7282%22%20style%3D%22width%3A%20100.0%25%3B%20height%3A%20100.0%25%3B%22%3E%3Ch4%3E%3Cb%3E%3Cp%20style%3D%22text-align%3Acenter%3B%22%3ELBM%20SAINT%20PONS%20DE%20THOMIERES%3C/p%3E%3C/b%3E%3C/h4%3E%3Cbr%3E%3Ch5%3E%3Cb%3EAdresse%20%3A%20%3C/b%3E%3C/h5%3E12%20PL%20DU%20FOIRAIL%2034220%20ST%20PONS%20DE%20THOMIERES%3Cbr%3E%3Ci%3E-%3C/i%3E%3Cbr%3E%3Cstrong%3E%3Cb%3ETest%20RT-PCR%20%3A%20%3C/b%3E%3C/strong%3EOUI%3Cbr%3E%3Cstrong%3E%3Cb%3ETest%20antig%C3%A9nique%20%3A%20%3C/b%3E%3C/strong%3ENON%3Cbr%3E%3Cstrong%3E%3Cb%3EModalit%C3%A9s%20de%20pr%C3%A9l%C3%A8vement%20%3A%20%3C/b%3E%3C/strong%3ESur%20place%3Cbr%3E%3Cstrong%3E%3Cb%3EPublic%20%3A%20%3C/b%3E%3C/strong%3ETout%20public%3Cbr%3E%3Cstrong%3E%3Cb%3EAcc%C3%A8s%20%3A%20%3C/b%3E%3C/strong%3ESur%20rendez-vous%20uniquement%3Cbr%3E%3Ch5%3E%3Cb%3EHoraire%20%3A%20%3C/b%3E%3C/h5%3E-%3Cbr%3E%3Cstrong%3E%3Cb%3EHoraire%20personnes%20prioritaires%20%3A%20%3C/b%3E%3C/strong%3E-%3Cbr%3E%3Cstrong%3E%3Cb%3ET%C3%A9l%C3%A9phone%20%3A%20%3C/b%3E%3C/strong%3E-%3Cbr%3E%3Cstrong%3E%3Cb%3ESite%20internet%20%3A%20%3C/b%3E%3C/strong%3E-%3C/div%3E%60%29%5B0%5D%3B%0A%20%20%20%20%20%20%20%20%20%20%20%20popup_9c5ee49fc0214ad392f995d07eaea33e.setContent%28html_890cba9ca5d04efa9859d3910b5a7282%29%3B%0A%20%20%20%20%20%20%20%20%0A%0A%20%20%20%20%20%20%20%20marker_ce21cee149b042889e8440fc45ee7e0a.bindPopup%28popup_9c5ee49fc0214ad392f995d07eaea33e%29%0A%20%20%20%20%20%20%20%20%3B%0A%0A%20%20%20%20%20%20%20%20%0A%20%20%20%20%0A%20%20%20%20%0A%20%20%20%20%20%20%20%20%20%20%20%20marker_ce21cee149b042889e8440fc45ee7e0a.bindTooltip%28%0A%20%20%20%20%20%20%20%20%20%20%20%20%20%20%20%20%60%3Cdiv%3E%0A%20%20%20%20%20%20%20%20%20%20%20%20%20%20%20%20%20%20%20%20%20%3Cstrong%3E12%20PL%20DU%20FOIRAIL%2034220%20ST%20PONS%20DE%20THOMIERES%3C/strong%3E%0A%20%20%20%20%20%20%20%20%20%20%20%20%20%20%20%20%20%3C/div%3E%60%2C%0A%20%20%20%20%20%20%20%20%20%20%20%20%20%20%20%20%7B%22sticky%22%3A%20true%7D%0A%20%20%20%20%20%20%20%20%20%20%20%20%29%3B%0A%20%20%20%20%20%20%20%20%0A%20%20%20%20%0A%20%20%20%20%20%20%20%20%20%20%20%20var%20marker_da578363ddcc4cb28b7639a34feff83d%20%3D%20L.marker%28%0A%20%20%20%20%20%20%20%20%20%20%20%20%20%20%20%20%5B43.4614896477999%2C%203.42412218123667%5D%2C%0A%20%20%20%20%20%20%20%20%20%20%20%20%20%20%20%20%7B%7D%0A%20%20%20%20%20%20%20%20%20%20%20%20%29.addTo%28map_b4760f99a41d472a852e90660ac9673f%29%3B%0A%20%20%20%20%20%20%20%20%0A%20%20%20%20%0A%20%20%20%20%20%20%20%20%20%20%20%20var%20icon_01f2551e99854db0b17c5810f92e8cc0%20%3D%20L.AwesomeMarkers.icon%28%0A%20%20%20%20%20%20%20%20%20%20%20%20%20%20%20%20%7B%22extraClasses%22%3A%20%22fa-rotate-0%22%2C%20%22icon%22%3A%20%22info-sign%22%2C%20%22iconColor%22%3A%20%22white%22%2C%20%22markerColor%22%3A%20%22green%22%2C%20%22prefix%22%3A%20%22glyphicon%22%7D%0A%20%20%20%20%20%20%20%20%20%20%20%20%29%3B%0A%20%20%20%20%20%20%20%20%20%20%20%20marker_da578363ddcc4cb28b7639a34feff83d.setIcon%28icon_01f2551e99854db0b17c5810f92e8cc0%29%3B%0A%20%20%20%20%20%20%20%20%0A%20%20%20%20%0A%20%20%20%20%20%20%20%20var%20popup_8cb8630080464e34a3949cdf73b4a703%20%3D%20L.popup%28%7B%22maxWidth%22%3A%20500%7D%29%3B%0A%0A%20%20%20%20%20%20%20%20%0A%20%20%20%20%20%20%20%20%20%20%20%20var%20html_520f93e5fdf04ef0a4a5c1dce96c55c8%20%3D%20%24%28%60%3Cdiv%20id%3D%22html_520f93e5fdf04ef0a4a5c1dce96c55c8%22%20style%3D%22width%3A%20100.0%25%3B%20height%3A%20100.0%25%3B%22%3E%3Ch4%3E%3Cb%3E%3Cp%20style%3D%22text-align%3Acenter%3B%22%3ELBM%20BIOMED%2034%20PEZENAS%2014%20JUILLET%3C/p%3E%3C/b%3E%3C/h4%3E%3Cbr%3E%3Ch5%3E%3Cb%3EAdresse%20%3A%20%3C/b%3E%3C/h5%3E6%20PL%20DU%2014%20JUILLET%2034120%20PEZENAS%3Cbr%3E%3Ci%3E-%3C/i%3E%3Cbr%3E%3Cstrong%3E%3Cb%3ETest%20RT-PCR%20%3A%20%3C/b%3E%3C/strong%3EOUI%3Cbr%3E%3Cstrong%3E%3Cb%3ETest%20antig%C3%A9nique%20%3A%20%3C/b%3E%3C/strong%3ENON%3Cbr%3E%3Cstrong%3E%3Cb%3EModalit%C3%A9s%20de%20pr%C3%A9l%C3%A8vement%20%3A%20%3C/b%3E%3C/strong%3ESur%20place%3Cbr%3E%3Cstrong%3E%3Cb%3EPublic%20%3A%20%3C/b%3E%3C/strong%3ETout%20public%3Cbr%3E%3Cstrong%3E%3Cb%3EAcc%C3%A8s%20%3A%20%3C/b%3E%3C/strong%3E-%3Cbr%3E%3Ch5%3E%3Cb%3EHoraire%20%3A%20%3C/b%3E%3C/h5%3E-%3Cbr%3E%3Cstrong%3E%3Cb%3EHoraire%20personnes%20prioritaires%20%3A%20%3C/b%3E%3C/strong%3E-%3Cbr%3E%3Cstrong%3E%3Cb%3ET%C3%A9l%C3%A9phone%20%3A%20%3C/b%3E%3C/strong%3E-%3Cbr%3E%3Cstrong%3E%3Cb%3ESite%20internet%20%3A%20%3C/b%3E%3C/strong%3E-%3C/div%3E%60%29%5B0%5D%3B%0A%20%20%20%20%20%20%20%20%20%20%20%20popup_8cb8630080464e34a3949cdf73b4a703.setContent%28html_520f93e5fdf04ef0a4a5c1dce96c55c8%29%3B%0A%20%20%20%20%20%20%20%20%0A%0A%20%20%20%20%20%20%20%20marker_da578363ddcc4cb28b7639a34feff83d.bindPopup%28popup_8cb8630080464e34a3949cdf73b4a703%29%0A%20%20%20%20%20%20%20%20%3B%0A%0A%20%20%20%20%20%20%20%20%0A%20%20%20%20%0A%20%20%20%20%0A%20%20%20%20%20%20%20%20%20%20%20%20marker_da578363ddcc4cb28b7639a34feff83d.bindTooltip%28%0A%20%20%20%20%20%20%20%20%20%20%20%20%20%20%20%20%60%3Cdiv%3E%0A%20%20%20%20%20%20%20%20%20%20%20%20%20%20%20%20%20%20%20%20%20%3Cstrong%3E6%20PL%20DU%2014%20JUILLET%2034120%20PEZENAS%3C/strong%3E%0A%20%20%20%20%20%20%20%20%20%20%20%20%20%20%20%20%20%3C/div%3E%60%2C%0A%20%20%20%20%20%20%20%20%20%20%20%20%20%20%20%20%7B%22sticky%22%3A%20true%7D%0A%20%20%20%20%20%20%20%20%20%20%20%20%29%3B%0A%20%20%20%20%20%20%20%20%0A%20%20%20%20%0A%20%20%20%20%20%20%20%20%20%20%20%20var%20marker_909b1fa177534506a24b13c6dc2890e4%20%3D%20L.marker%28%0A%20%20%20%20%20%20%20%20%20%20%20%20%20%20%20%20%5B43.609125%2C%203.88437%5D%2C%0A%20%20%20%20%20%20%20%20%20%20%20%20%20%20%20%20%7B%7D%0A%20%20%20%20%20%20%20%20%20%20%20%20%29.addTo%28map_b4760f99a41d472a852e90660ac9673f%29%3B%0A%20%20%20%20%20%20%20%20%0A%20%20%20%20%0A%20%20%20%20%20%20%20%20%20%20%20%20var%20icon_827d04eae51444f1b139d13d4dd1ac95%20%3D%20L.AwesomeMarkers.icon%28%0A%20%20%20%20%20%20%20%20%20%20%20%20%20%20%20%20%7B%22extraClasses%22%3A%20%22fa-rotate-0%22%2C%20%22icon%22%3A%20%22info-sign%22%2C%20%22iconColor%22%3A%20%22white%22%2C%20%22markerColor%22%3A%20%22green%22%2C%20%22prefix%22%3A%20%22glyphicon%22%7D%0A%20%20%20%20%20%20%20%20%20%20%20%20%29%3B%0A%20%20%20%20%20%20%20%20%20%20%20%20marker_909b1fa177534506a24b13c6dc2890e4.setIcon%28icon_827d04eae51444f1b139d13d4dd1ac95%29%3B%0A%20%20%20%20%20%20%20%20%0A%20%20%20%20%0A%20%20%20%20%20%20%20%20var%20popup_29a121c1805e4bd8acdd76138086960a%20%3D%20L.popup%28%7B%22maxWidth%22%3A%20500%7D%29%3B%0A%0A%20%20%20%20%20%20%20%20%0A%20%20%20%20%20%20%20%20%20%20%20%20var%20html_22ed846d9d6e499a843dc10dd6797535%20%3D%20%24%28%60%3Cdiv%20id%3D%22html_22ed846d9d6e499a843dc10dd6797535%22%20style%3D%22width%3A%20100.0%25%3B%20height%3A%20100.0%25%3B%22%3E%3Ch4%3E%3Cb%3E%3Cp%20style%3D%22text-align%3Acenter%3B%22%3ELBM%20LABOSUD%20SALLE%20PAGEZY%20CENTRE%20VILLE%3C/p%3E%3C/b%3E%3C/h4%3E%3Cbr%3E%3Ch5%3E%3Cb%3EAdresse%20%3A%20%3C/b%3E%3C/h5%3E1%20Place%20Francis%20Ponge%2034000%20Montpellier%3Cbr%3E%3Ci%3ECentre%20de%20d%C3%A9pistage%20d%C3%A9di%C3%A9%3C/i%3E%3Cbr%3E%3Cstrong%3E%3Cb%3ETest%20RT-PCR%20%3A%20%3C/b%3E%3C/strong%3EOUI%3Cbr%3E%3Cstrong%3E%3Cb%3ETest%20antig%C3%A9nique%20%3A%20%3C/b%3E%3C/strong%3ENON%3Cbr%3E%3Cstrong%3E%3Cb%3EModalit%C3%A9s%20de%20pr%C3%A9l%C3%A8vement%20%3A%20%3C/b%3E%3C/strong%3ESur%20place%3Cbr%3E%3Cstrong%3E%3Cb%3EPublic%20%3A%20%3C/b%3E%3C/strong%3ETout%20public%3Cbr%3E%3Cstrong%3E%3Cb%3EAcc%C3%A8s%20%3A%20%3C/b%3E%3C/strong%3ESur%20rendez-vous%20uniquement%3Cbr%3E%3Ch5%3E%3Cb%3EHoraire%20%3A%20%3C/b%3E%3C/h5%3E-%3Cbr%3E%3Cstrong%3E%3Cb%3EHoraire%20personnes%20prioritaires%20%3A%20%3C/b%3E%3C/strong%3E-%3Cbr%3E%3Cstrong%3E%3Cb%3ET%C3%A9l%C3%A9phone%20%3A%20%3C/b%3E%3C/strong%3E-%3Cbr%3E%3Cstrong%3E%3Cb%3ESite%20internet%20%3A%20%3C/b%3E%3C/strong%3Ehttps%3A//labosud.fr/rdvcovid19%3C/div%3E%60%29%5B0%5D%3B%0A%20%20%20%20%20%20%20%20%20%20%20%20popup_29a121c1805e4bd8acdd76138086960a.setContent%28html_22ed846d9d6e499a843dc10dd6797535%29%3B%0A%20%20%20%20%20%20%20%20%0A%0A%20%20%20%20%20%20%20%20marker_909b1fa177534506a24b13c6dc2890e4.bindPopup%28popup_29a121c1805e4bd8acdd76138086960a%29%0A%20%20%20%20%20%20%20%20%3B%0A%0A%20%20%20%20%20%20%20%20%0A%20%20%20%20%0A%20%20%20%20%0A%20%20%20%20%20%20%20%20%20%20%20%20marker_909b1fa177534506a24b13c6dc2890e4.bindTooltip%28%0A%20%20%20%20%20%20%20%20%20%20%20%20%20%20%20%20%60%3Cdiv%3E%0A%20%20%20%20%20%20%20%20%20%20%20%20%20%20%20%20%20%20%20%20%20%3Cstrong%3E1%20Place%20Francis%20Ponge%2034000%20Montpellier%3C/strong%3E%0A%20%20%20%20%20%20%20%20%20%20%20%20%20%20%20%20%20%3C/div%3E%60%2C%0A%20%20%20%20%20%20%20%20%20%20%20%20%20%20%20%20%7B%22sticky%22%3A%20true%7D%0A%20%20%20%20%20%20%20%20%20%20%20%20%29%3B%0A%20%20%20%20%20%20%20%20%0A%20%20%20%20%0A%20%20%20%20%20%20%20%20%20%20%20%20var%20marker_eaec4213ad3749a09a954a8e7bd85c91%20%3D%20L.marker%28%0A%20%20%20%20%20%20%20%20%20%20%20%20%20%20%20%20%5B43.6356199568277%2C%203.89139779666471%5D%2C%0A%20%20%20%20%20%20%20%20%20%20%20%20%20%20%20%20%7B%7D%0A%20%20%20%20%20%20%20%20%20%20%20%20%29.addTo%28map_b4760f99a41d472a852e90660ac9673f%29%3B%0A%20%20%20%20%20%20%20%20%0A%20%20%20%20%0A%20%20%20%20%20%20%20%20%20%20%20%20var%20icon_883b1306dc0b48158ca235f599881929%20%3D%20L.AwesomeMarkers.icon%28%0A%20%20%20%20%20%20%20%20%20%20%20%20%20%20%20%20%7B%22extraClasses%22%3A%20%22fa-rotate-0%22%2C%20%22icon%22%3A%20%22info-sign%22%2C%20%22iconColor%22%3A%20%22white%22%2C%20%22markerColor%22%3A%20%22green%22%2C%20%22prefix%22%3A%20%22glyphicon%22%7D%0A%20%20%20%20%20%20%20%20%20%20%20%20%29%3B%0A%20%20%20%20%20%20%20%20%20%20%20%20marker_eaec4213ad3749a09a954a8e7bd85c91.setIcon%28icon_883b1306dc0b48158ca235f599881929%29%3B%0A%20%20%20%20%20%20%20%20%0A%20%20%20%20%0A%20%20%20%20%20%20%20%20var%20popup_387b5c539ae1443b8155b67daf8d6506%20%3D%20L.popup%28%7B%22maxWidth%22%3A%20500%7D%29%3B%0A%0A%20%20%20%20%20%20%20%20%0A%20%20%20%20%20%20%20%20%20%20%20%20var%20html_e7b0bc2d795f432887989b374f6393a5%20%3D%20%24%28%60%3Cdiv%20id%3D%22html_e7b0bc2d795f432887989b374f6393a5%22%20style%3D%22width%3A%20100.0%25%3B%20height%3A%20100.0%25%3B%22%3E%3Ch4%3E%3Cb%3E%3Cp%20style%3D%22text-align%3Acenter%3B%22%3ELBM%20BIOPOLE%20CASTELNAU%20LE%20LEZ%20E.%20COMBES%3C/p%3E%3C/b%3E%3C/h4%3E%3Cbr%3E%3Ch5%3E%3Cb%3EAdresse%20%3A%20%3C/b%3E%3C/h5%3E50%20R%20EMILE%20COMBES%2034170%20CASTELNAU%20LE%20LEZ%3Cbr%3E%3Ci%3E-%3C/i%3E%3Cbr%3E%3Cstrong%3E%3Cb%3ETest%20RT-PCR%20%3A%20%3C/b%3E%3C/strong%3EOUI%3Cbr%3E%3Cstrong%3E%3Cb%3ETest%20antig%C3%A9nique%20%3A%20%3C/b%3E%3C/strong%3ENON%3Cbr%3E%3Cstrong%3E%3Cb%3EModalit%C3%A9s%20de%20pr%C3%A9l%C3%A8vement%20%3A%20%3C/b%3E%3C/strong%3ESur%20place%3Cbr%3E%3Cstrong%3E%3Cb%3EPublic%20%3A%20%3C/b%3E%3C/strong%3ECas%20contacts%20liste%20CPAM/Tout%20public%20-%20sur%20ordonnance%3Cbr%3E%3Cstrong%3E%3Cb%3EAcc%C3%A8s%20%3A%20%3C/b%3E%3C/strong%3EAvec%20ou%20sans%20rendez-vous%3Cbr%3E%3Ch5%3E%3Cb%3EHoraire%20%3A%20%3C/b%3E%3C/h5%3Elundi%20%3A%208h00-12h30%20et%2014h00-16h00%20%7C%20mardi%20%3A%208h00-12h30%20et%2014h00-16h00%20%7C%20mercredi%20%3A%208h00-12h30%20et%2014h00-16h00%20%7C%20jeudi%20%3A%208h00-12h30%20et%2014h00-16h00%20%7C%20vendredi%20%3A%208h00-12h30%20et%2014h00-16h00%20%7C%20pas%20de%20pr%C3%A9l%C3%A8vements%20le%20samedi%20matin%20%7C%20dimanche%20%3A%20ferm%C3%A9%3Cbr%3E%3Cstrong%3E%3Cb%3EHoraire%20personnes%20prioritaires%20%3A%20%3C/b%3E%3C/strong%3Elundi%20%3A%208h00-12h30%20et%2014h00-16h00%20%7C%20mardi%20%3A%208h00-12h30%20et%2014h00-16h00%20%7C%20mercredi%20%3A%208h00-12h30%20et%2014h00-16h00%20%7C%20jeudi%20%3A%208h00-12h30%20et%2014h00-16h00%20%7C%20vendredi%20%3A%208h00-12h30%20et%2014h00-16h00%20%7C%20pas%20de%20pr%C3%A9l%C3%A8vements%20le%20samedi%20matin%20%7C%20dimanche%20%3A%20ferm%C3%A9%3Cbr%3E%3Cstrong%3E%3Cb%3ET%C3%A9l%C3%A9phone%20%3A%20%3C/b%3E%3C/strong%3E0467793957%3Cbr%3E%3Cstrong%3E%3Cb%3ESite%20internet%20%3A%20%3C/b%3E%3C/strong%3Ebiopole34.bio%3C/div%3E%60%29%5B0%5D%3B%0A%20%20%20%20%20%20%20%20%20%20%20%20popup_387b5c539ae1443b8155b67daf8d6506.setContent%28html_e7b0bc2d795f432887989b374f6393a5%29%3B%0A%20%20%20%20%20%20%20%20%0A%0A%20%20%20%20%20%20%20%20marker_eaec4213ad3749a09a954a8e7bd85c91.bindPopup%28popup_387b5c539ae1443b8155b67daf8d6506%29%0A%20%20%20%20%20%20%20%20%3B%0A%0A%20%20%20%20%20%20%20%20%0A%20%20%20%20%0A%20%20%20%20%0A%20%20%20%20%20%20%20%20%20%20%20%20marker_eaec4213ad3749a09a954a8e7bd85c91.bindTooltip%28%0A%20%20%20%20%20%20%20%20%20%20%20%20%20%20%20%20%60%3Cdiv%3E%0A%20%20%20%20%20%20%20%20%20%20%20%20%20%20%20%20%20%20%20%20%20%3Cstrong%3E50%20R%20EMILE%20COMBES%2034170%20CASTELNAU%20LE%20LEZ%3C/strong%3E%0A%20%20%20%20%20%20%20%20%20%20%20%20%20%20%20%20%20%3C/div%3E%60%2C%0A%20%20%20%20%20%20%20%20%20%20%20%20%20%20%20%20%7B%22sticky%22%3A%20true%7D%0A%20%20%20%20%20%20%20%20%20%20%20%20%29%3B%0A%20%20%20%20%20%20%20%20%0A%20%20%20%20%0A%20%20%20%20%20%20%20%20%20%20%20%20var%20marker_6adcc25daf2c4e42b7dc81be11e7ec15%20%3D%20L.marker%28%0A%20%20%20%20%20%20%20%20%20%20%20%20%20%20%20%20%5B43.3396736237271%2C%203.25430690978088%5D%2C%0A%20%20%20%20%20%20%20%20%20%20%20%20%20%20%20%20%7B%7D%0A%20%20%20%20%20%20%20%20%20%20%20%20%29.addTo%28map_b4760f99a41d472a852e90660ac9673f%29%3B%0A%20%20%20%20%20%20%20%20%0A%20%20%20%20%0A%20%20%20%20%20%20%20%20%20%20%20%20var%20icon_a4f032176b3f4f9b9d72ff5fdab891de%20%3D%20L.AwesomeMarkers.icon%28%0A%20%20%20%20%20%20%20%20%20%20%20%20%20%20%20%20%7B%22extraClasses%22%3A%20%22fa-rotate-0%22%2C%20%22icon%22%3A%20%22info-sign%22%2C%20%22iconColor%22%3A%20%22white%22%2C%20%22markerColor%22%3A%20%22green%22%2C%20%22prefix%22%3A%20%22glyphicon%22%7D%0A%20%20%20%20%20%20%20%20%20%20%20%20%29%3B%0A%20%20%20%20%20%20%20%20%20%20%20%20marker_6adcc25daf2c4e42b7dc81be11e7ec15.setIcon%28icon_a4f032176b3f4f9b9d72ff5fdab891de%29%3B%0A%20%20%20%20%20%20%20%20%0A%20%20%20%20%0A%20%20%20%20%20%20%20%20var%20popup_2c80f33854b345fba2b18c11bb4d62a8%20%3D%20L.popup%28%7B%22maxWidth%22%3A%20500%7D%29%3B%0A%0A%20%20%20%20%20%20%20%20%0A%20%20%20%20%20%20%20%20%20%20%20%20var%20html_39ed7fe440904f5ea734f8aa306dc422%20%3D%20%24%28%60%3Cdiv%20id%3D%22html_39ed7fe440904f5ea734f8aa306dc422%22%20style%3D%22width%3A%20100.0%25%3B%20height%3A%20100.0%25%3B%22%3E%3Ch4%3E%3Cb%3E%3Cp%20style%3D%22text-align%3Acenter%3B%22%3ECH%20BEZIERS%3C/p%3E%3C/b%3E%3C/h4%3E%3Cbr%3E%3Ch5%3E%3Cb%3EAdresse%20%3A%20%3C/b%3E%3C/h5%3E2%20R%20VALENTIN%20HAUY%2034525%20BEZIERS%20CEDEX%3Cbr%3E%3Ci%3EService%20des%20urgences%20et%20autres%20services%3C/i%3E%3Cbr%3E%3Cstrong%3E%3Cb%3ETest%20RT-PCR%20%3A%20%3C/b%3E%3C/strong%3EOUI%3Cbr%3E%3Cstrong%3E%3Cb%3ETest%20antig%C3%A9nique%20%3A%20%3C/b%3E%3C/strong%3ENON%3Cbr%3E%3Cstrong%3E%3Cb%3EModalit%C3%A9s%20de%20pr%C3%A9l%C3%A8vement%20%3A%20%3C/b%3E%3C/strong%3ESur%20place%3Cbr%3E%3Cstrong%3E%3Cb%3EPublic%20%3A%20%3C/b%3E%3C/strong%3ETout%20public%3Cbr%3E%3Cstrong%3E%3Cb%3EAcc%C3%A8s%20%3A%20%3C/b%3E%3C/strong%3E-%3Cbr%3E%3Ch5%3E%3Cb%3EHoraire%20%3A%20%3C/b%3E%3C/h5%3E-%3Cbr%3E%3Cstrong%3E%3Cb%3EHoraire%20personnes%20prioritaires%20%3A%20%3C/b%3E%3C/strong%3E-%3Cbr%3E%3Cstrong%3E%3Cb%3ET%C3%A9l%C3%A9phone%20%3A%20%3C/b%3E%3C/strong%3E0467357200%20ou%20%200467357035%3Cbr%3E%3Cstrong%3E%3Cb%3ESite%20internet%20%3A%20%3C/b%3E%3C/strong%3E-%3C/div%3E%60%29%5B0%5D%3B%0A%20%20%20%20%20%20%20%20%20%20%20%20popup_2c80f33854b345fba2b18c11bb4d62a8.setContent%28html_39ed7fe440904f5ea734f8aa306dc422%29%3B%0A%20%20%20%20%20%20%20%20%0A%0A%20%20%20%20%20%20%20%20marker_6adcc25daf2c4e42b7dc81be11e7ec15.bindPopup%28popup_2c80f33854b345fba2b18c11bb4d62a8%29%0A%20%20%20%20%20%20%20%20%3B%0A%0A%20%20%20%20%20%20%20%20%0A%20%20%20%20%0A%20%20%20%20%0A%20%20%20%20%20%20%20%20%20%20%20%20marker_6adcc25daf2c4e42b7dc81be11e7ec15.bindTooltip%28%0A%20%20%20%20%20%20%20%20%20%20%20%20%20%20%20%20%60%3Cdiv%3E%0A%20%20%20%20%20%20%20%20%20%20%20%20%20%20%20%20%20%20%20%20%20%3Cstrong%3E2%20R%20VALENTIN%20HAUY%2034525%20BEZIERS%20CEDEX%3C/strong%3E%0A%20%20%20%20%20%20%20%20%20%20%20%20%20%20%20%20%20%3C/div%3E%60%2C%0A%20%20%20%20%20%20%20%20%20%20%20%20%20%20%20%20%7B%22sticky%22%3A%20true%7D%0A%20%20%20%20%20%20%20%20%20%20%20%20%29%3B%0A%20%20%20%20%20%20%20%20%0A%20%20%20%20%0A%20%20%20%20%20%20%20%20%20%20%20%20var%20marker_50ae9e7934e64471b82419a8613b76de%20%3D%20L.marker%28%0A%20%20%20%20%20%20%20%20%20%20%20%20%20%20%20%20%5B43.3458543403822%2C%203.22998332103409%5D%2C%0A%20%20%20%20%20%20%20%20%20%20%20%20%20%20%20%20%7B%7D%0A%20%20%20%20%20%20%20%20%20%20%20%20%29.addTo%28map_b4760f99a41d472a852e90660ac9673f%29%3B%0A%20%20%20%20%20%20%20%20%0A%20%20%20%20%0A%20%20%20%20%20%20%20%20%20%20%20%20var%20icon_ee727d6a7cfe43e5b85672e454682690%20%3D%20L.AwesomeMarkers.icon%28%0A%20%20%20%20%20%20%20%20%20%20%20%20%20%20%20%20%7B%22extraClasses%22%3A%20%22fa-rotate-0%22%2C%20%22icon%22%3A%20%22info-sign%22%2C%20%22iconColor%22%3A%20%22white%22%2C%20%22markerColor%22%3A%20%22green%22%2C%20%22prefix%22%3A%20%22glyphicon%22%7D%0A%20%20%20%20%20%20%20%20%20%20%20%20%29%3B%0A%20%20%20%20%20%20%20%20%20%20%20%20marker_50ae9e7934e64471b82419a8613b76de.setIcon%28icon_ee727d6a7cfe43e5b85672e454682690%29%3B%0A%20%20%20%20%20%20%20%20%0A%20%20%20%20%0A%20%20%20%20%20%20%20%20var%20popup_94e4e86a5cfc447db98ee9421d004234%20%3D%20L.popup%28%7B%22maxWidth%22%3A%20500%7D%29%3B%0A%0A%20%20%20%20%20%20%20%20%0A%20%20%20%20%20%20%20%20%20%20%20%20var%20html_fc830acc7b27469f8f2b18b764e03ba4%20%3D%20%24%28%60%3Cdiv%20id%3D%22html_fc830acc7b27469f8f2b18b764e03ba4%22%20style%3D%22width%3A%20100.0%25%3B%20height%3A%20100.0%25%3B%22%3E%3Ch4%3E%3Cb%3E%3Cp%20style%3D%22text-align%3Acenter%3B%22%3ESSR%20CH%20BEZIERS%3C/p%3E%3C/b%3E%3C/h4%3E%3Cbr%3E%3Ch5%3E%3Cb%3EAdresse%20%3A%20%3C/b%3E%3C/h5%3E2%20BD%20PERREAL%2034525%20BEZIERS%20CEDEX%3Cbr%3E%3Ci%3E-%3C/i%3E%3Cbr%3E%3Cstrong%3E%3Cb%3ETest%20RT-PCR%20%3A%20%3C/b%3E%3C/strong%3EOUI%3Cbr%3E%3Cstrong%3E%3Cb%3ETest%20antig%C3%A9nique%20%3A%20%3C/b%3E%3C/strong%3ENON%3Cbr%3E%3Cstrong%3E%3Cb%3EModalit%C3%A9s%20de%20pr%C3%A9l%C3%A8vement%20%3A%20%3C/b%3E%3C/strong%3ESur%20place%3Cbr%3E%3Cstrong%3E%3Cb%3EPublic%20%3A%20%3C/b%3E%3C/strong%3ETout%20public%3Cbr%3E%3Cstrong%3E%3Cb%3EAcc%C3%A8s%20%3A%20%3C/b%3E%3C/strong%3E-%3Cbr%3E%3Ch5%3E%3Cb%3EHoraire%20%3A%20%3C/b%3E%3C/h5%3E-%3Cbr%3E%3Cstrong%3E%3Cb%3EHoraire%20personnes%20prioritaires%20%3A%20%3C/b%3E%3C/strong%3E-%3Cbr%3E%3Cstrong%3E%3Cb%3ET%C3%A9l%C3%A9phone%20%3A%20%3C/b%3E%3C/strong%3E-%3Cbr%3E%3Cstrong%3E%3Cb%3ESite%20internet%20%3A%20%3C/b%3E%3C/strong%3E-%3C/div%3E%60%29%5B0%5D%3B%0A%20%20%20%20%20%20%20%20%20%20%20%20popup_94e4e86a5cfc447db98ee9421d004234.setContent%28html_fc830acc7b27469f8f2b18b764e03ba4%29%3B%0A%20%20%20%20%20%20%20%20%0A%0A%20%20%20%20%20%20%20%20marker_50ae9e7934e64471b82419a8613b76de.bindPopup%28popup_94e4e86a5cfc447db98ee9421d004234%29%0A%20%20%20%20%20%20%20%20%3B%0A%0A%20%20%20%20%20%20%20%20%0A%20%20%20%20%0A%20%20%20%20%0A%20%20%20%20%20%20%20%20%20%20%20%20marker_50ae9e7934e64471b82419a8613b76de.bindTooltip%28%0A%20%20%20%20%20%20%20%20%20%20%20%20%20%20%20%20%60%3Cdiv%3E%0A%20%20%20%20%20%20%20%20%20%20%20%20%20%20%20%20%20%20%20%20%20%3Cstrong%3E2%20BD%20PERREAL%2034525%20BEZIERS%20CEDEX%3C/strong%3E%0A%20%20%20%20%20%20%20%20%20%20%20%20%20%20%20%20%20%3C/div%3E%60%2C%0A%20%20%20%20%20%20%20%20%20%20%20%20%20%20%20%20%7B%22sticky%22%3A%20true%7D%0A%20%20%20%20%20%20%20%20%20%20%20%20%29%3B%0A%20%20%20%20%20%20%20%20%0A%20%20%20%20%0A%20%20%20%20%20%20%20%20%20%20%20%20var%20marker_aeac0a31e36144e186a269ef0863951c%20%3D%20L.marker%28%0A%20%20%20%20%20%20%20%20%20%20%20%20%20%20%20%20%5B43.627401%2C%203.869126%5D%2C%0A%20%20%20%20%20%20%20%20%20%20%20%20%20%20%20%20%7B%7D%0A%20%20%20%20%20%20%20%20%20%20%20%20%29.addTo%28map_b4760f99a41d472a852e90660ac9673f%29%3B%0A%20%20%20%20%20%20%20%20%0A%20%20%20%20%0A%20%20%20%20%20%20%20%20%20%20%20%20var%20icon_214658cc0db54140a831302bfd622a0a%20%3D%20L.AwesomeMarkers.icon%28%0A%20%20%20%20%20%20%20%20%20%20%20%20%20%20%20%20%7B%22extraClasses%22%3A%20%22fa-rotate-0%22%2C%20%22icon%22%3A%20%22info-sign%22%2C%20%22iconColor%22%3A%20%22white%22%2C%20%22markerColor%22%3A%20%22green%22%2C%20%22prefix%22%3A%20%22glyphicon%22%7D%0A%20%20%20%20%20%20%20%20%20%20%20%20%29%3B%0A%20%20%20%20%20%20%20%20%20%20%20%20marker_aeac0a31e36144e186a269ef0863951c.setIcon%28icon_214658cc0db54140a831302bfd622a0a%29%3B%0A%20%20%20%20%20%20%20%20%0A%20%20%20%20%0A%20%20%20%20%20%20%20%20var%20popup_b28e496ac63b4115b750a137709a4ca2%20%3D%20L.popup%28%7B%22maxWidth%22%3A%20500%7D%29%3B%0A%0A%20%20%20%20%20%20%20%20%0A%20%20%20%20%20%20%20%20%20%20%20%20var%20html_50ae6667c7c44762b6ff55071f7ba1cc%20%3D%20%24%28%60%3Cdiv%20id%3D%22html_50ae6667c7c44762b6ff55071f7ba1cc%22%20style%3D%22width%3A%20100.0%25%3B%20height%3A%20100.0%25%3B%22%3E%3Ch4%3E%3Cb%3E%3Cp%20style%3D%22text-align%3Acenter%3B%22%3EDrive%20du%20CHU%20de%20Montpellier%3C/p%3E%3C/b%3E%3C/h4%3E%3Cbr%3E%3Ch5%3E%3Cb%3EAdresse%20%3A%20%3C/b%3E%3C/h5%3ERue%20du%20Truel%2034090%20Montpellier%3Cbr%3E%3Ci%3EDrive%3C/i%3E%3Cbr%3E%3Cstrong%3E%3Cb%3ETest%20RT-PCR%20%3A%20%3C/b%3E%3C/strong%3EOUI%3Cbr%3E%3Cstrong%3E%3Cb%3ETest%20antig%C3%A9nique%20%3A%20%3C/b%3E%3C/strong%3ENON%3Cbr%3E%3Cstrong%3E%3Cb%3EModalit%C3%A9s%20de%20pr%C3%A9l%C3%A8vement%20%3A%20%3C/b%3E%3C/strong%3ESur%20place%3Cbr%3E%3Cstrong%3E%3Cb%3EPublic%20%3A%20%3C/b%3E%3C/strong%3ETout%20public%3Cbr%3E%3Cstrong%3E%3Cb%3EAcc%C3%A8s%20%3A%20%3C/b%3E%3C/strong%3ESur%20rendez-vous%20uniquement%3Cbr%3E%3Ch5%3E%3Cb%3EHoraire%20%3A%20%3C/b%3E%3C/h5%3EHoraires%20du%20mois%20d%27ao%C3%BBt%20%3A%20%7C%20Du%20lundi%20au%20dimanche%2C%20de%208h30%20%C3%A0%2013h%3Cbr%3E%3Cstrong%3E%3Cb%3EHoraire%20personnes%20prioritaires%20%3A%20%3C/b%3E%3C/strong%3E-%3Cbr%3E%3Cstrong%3E%3Cb%3ET%C3%A9l%C3%A9phone%20%3A%20%3C/b%3E%3C/strong%3E0467330551%3Cbr%3E%3Cstrong%3E%3Cb%3ESite%20internet%20%3A%20%3C/b%3E%3C/strong%3E-%3C/div%3E%60%29%5B0%5D%3B%0A%20%20%20%20%20%20%20%20%20%20%20%20popup_b28e496ac63b4115b750a137709a4ca2.setContent%28html_50ae6667c7c44762b6ff55071f7ba1cc%29%3B%0A%20%20%20%20%20%20%20%20%0A%0A%20%20%20%20%20%20%20%20marker_aeac0a31e36144e186a269ef0863951c.bindPopup%28popup_b28e496ac63b4115b750a137709a4ca2%29%0A%20%20%20%20%20%20%20%20%3B%0A%0A%20%20%20%20%20%20%20%20%0A%20%20%20%20%0A%20%20%20%20%0A%20%20%20%20%20%20%20%20%20%20%20%20marker_aeac0a31e36144e186a269ef0863951c.bindTooltip%28%0A%20%20%20%20%20%20%20%20%20%20%20%20%20%20%20%20%60%3Cdiv%3E%0A%20%20%20%20%20%20%20%20%20%20%20%20%20%20%20%20%20%20%20%20%20%3Cstrong%3ERue%20du%20Truel%2034090%20Montpellier%3C/strong%3E%0A%20%20%20%20%20%20%20%20%20%20%20%20%20%20%20%20%20%3C/div%3E%60%2C%0A%20%20%20%20%20%20%20%20%20%20%20%20%20%20%20%20%7B%22sticky%22%3A%20true%7D%0A%20%20%20%20%20%20%20%20%20%20%20%20%29%3B%0A%20%20%20%20%20%20%20%20%0A%20%20%20%20%0A%20%20%20%20%20%20%20%20%20%20%20%20var%20marker_b975ddfaaa96489687538082e912810a%20%3D%20L.marker%28%0A%20%20%20%20%20%20%20%20%20%20%20%20%20%20%20%20%5B43.573135%2C%203.863864%5D%2C%0A%20%20%20%20%20%20%20%20%20%20%20%20%20%20%20%20%7B%7D%0A%20%20%20%20%20%20%20%20%20%20%20%20%29.addTo%28map_b4760f99a41d472a852e90660ac9673f%29%3B%0A%20%20%20%20%20%20%20%20%0A%20%20%20%20%0A%20%20%20%20%20%20%20%20%20%20%20%20var%20icon_9c01c59f7d534f3ca985ef21c5b5eb32%20%3D%20L.AwesomeMarkers.icon%28%0A%20%20%20%20%20%20%20%20%20%20%20%20%20%20%20%20%7B%22extraClasses%22%3A%20%22fa-rotate-0%22%2C%20%22icon%22%3A%20%22info-sign%22%2C%20%22iconColor%22%3A%20%22white%22%2C%20%22markerColor%22%3A%20%22red%22%2C%20%22prefix%22%3A%20%22glyphicon%22%7D%0A%20%20%20%20%20%20%20%20%20%20%20%20%29%3B%0A%20%20%20%20%20%20%20%20%20%20%20%20marker_b975ddfaaa96489687538082e912810a.setIcon%28icon_9c01c59f7d534f3ca985ef21c5b5eb32%29%3B%0A%20%20%20%20%20%20%20%20%0A%20%20%20%20%0A%20%20%20%20%20%20%20%20var%20popup_5a9f2f31ec0f4e00bd1a93e9ed9272d5%20%3D%20L.popup%28%7B%22maxWidth%22%3A%20500%7D%29%3B%0A%0A%20%20%20%20%20%20%20%20%0A%20%20%20%20%20%20%20%20%20%20%20%20var%20html_3aebc88913f5491b8673f30ea9a4fd94%20%3D%20%24%28%60%3Cdiv%20id%3D%22html_3aebc88913f5491b8673f30ea9a4fd94%22%20style%3D%22width%3A%20100.0%25%3B%20height%3A%20100.0%25%3B%22%3E%3Ch4%3E%3Cb%3E%3Cp%20style%3D%22text-align%3Acenter%3B%22%3ELBM%20LABOSUD%20MONTPELLIER%20GAROSUD%3C/p%3E%3C/b%3E%3C/h4%3E%3Cbr%3E%3Ch5%3E%3Cb%3EAdresse%20%3A%20%3C/b%3E%3C/h5%3E90%20Rue%20Nicolas%20Ch%C3%A9deville%2034070%20Montpellier%3Cbr%3E%3Ci%3ECentre%20de%20d%C3%A9pistage%20d%C3%A9di%C3%A9%3C/i%3E%3Cbr%3E%3Cstrong%3E%3Cb%3ETest%20RT-PCR%20%3A%20%3C/b%3E%3C/strong%3EOUI%3Cbr%3E%3Cstrong%3E%3Cb%3ETest%20antig%C3%A9nique%20%3A%20%3C/b%3E%3C/strong%3ENON%3Cbr%3E%3Cstrong%3E%3Cb%3EModalit%C3%A9s%20de%20pr%C3%A9l%C3%A8vement%20%3A%20%3C/b%3E%3C/strong%3EDrive%3Cbr%3E%3Cstrong%3E%3Cb%3EPublic%20%3A%20%3C/b%3E%3C/strong%3EPatients%20avec%20sympt%C3%B4mes/Cas%20contacts%20liste%20CPAM/Personnel%20soignant%3Cbr%3E%3Cstrong%3E%3Cb%3EAcc%C3%A8s%20%3A%20%3C/b%3E%3C/strong%3ESur%20rendez-vous%20uniquement%3Cbr%3E%3Ch5%3E%3Cb%3EHoraire%20%3A%20%3C/b%3E%3C/h5%3E-%3Cbr%3E%3Cstrong%3E%3Cb%3EHoraire%20personnes%20prioritaires%20%3A%20%3C/b%3E%3C/strong%3E-%3Cbr%3E%3Cstrong%3E%3Cb%3ET%C3%A9l%C3%A9phone%20%3A%20%3C/b%3E%3C/strong%3E-%3Cbr%3E%3Cstrong%3E%3Cb%3ESite%20internet%20%3A%20%3C/b%3E%3C/strong%3Ehttps%3A//labosud.fr/rdvcovid19%3C/div%3E%60%29%5B0%5D%3B%0A%20%20%20%20%20%20%20%20%20%20%20%20popup_5a9f2f31ec0f4e00bd1a93e9ed9272d5.setContent%28html_3aebc88913f5491b8673f30ea9a4fd94%29%3B%0A%20%20%20%20%20%20%20%20%0A%0A%20%20%20%20%20%20%20%20marker_b975ddfaaa96489687538082e912810a.bindPopup%28popup_5a9f2f31ec0f4e00bd1a93e9ed9272d5%29%0A%20%20%20%20%20%20%20%20%3B%0A%0A%20%20%20%20%20%20%20%20%0A%20%20%20%20%0A%20%20%20%20%0A%20%20%20%20%20%20%20%20%20%20%20%20marker_b975ddfaaa96489687538082e912810a.bindTooltip%28%0A%20%20%20%20%20%20%20%20%20%20%20%20%20%20%20%20%60%3Cdiv%3E%0A%20%20%20%20%20%20%20%20%20%20%20%20%20%20%20%20%20%20%20%20%20%3Cstrong%3E90%20Rue%20Nicolas%20Ch%C3%A9deville%2034070%20Montpellier%3C/strong%3E%0A%20%20%20%20%20%20%20%20%20%20%20%20%20%20%20%20%20%3C/div%3E%60%2C%0A%20%20%20%20%20%20%20%20%20%20%20%20%20%20%20%20%7B%22sticky%22%3A%20true%7D%0A%20%20%20%20%20%20%20%20%20%20%20%20%29%3B%0A%20%20%20%20%20%20%20%20%0A%20%20%20%20%0A%20%20%20%20%20%20%20%20%20%20%20%20var%20marker_f9142cdf567b40a99d794ef1b810670b%20%3D%20L.marker%28%0A%20%20%20%20%20%20%20%20%20%20%20%20%20%20%20%20%5B43.676807%2C%204.14021%5D%2C%0A%20%20%20%20%20%20%20%20%20%20%20%20%20%20%20%20%7B%7D%0A%20%20%20%20%20%20%20%20%20%20%20%20%29.addTo%28map_b4760f99a41d472a852e90660ac9673f%29%3B%0A%20%20%20%20%20%20%20%20%0A%20%20%20%20%0A%20%20%20%20%20%20%20%20%20%20%20%20var%20icon_fefc44f5013c4f9b90c86555e1c7b487%20%3D%20L.AwesomeMarkers.icon%28%0A%20%20%20%20%20%20%20%20%20%20%20%20%20%20%20%20%7B%22extraClasses%22%3A%20%22fa-rotate-0%22%2C%20%22icon%22%3A%20%22info-sign%22%2C%20%22iconColor%22%3A%20%22white%22%2C%20%22markerColor%22%3A%20%22red%22%2C%20%22prefix%22%3A%20%22glyphicon%22%7D%0A%20%20%20%20%20%20%20%20%20%20%20%20%29%3B%0A%20%20%20%20%20%20%20%20%20%20%20%20marker_f9142cdf567b40a99d794ef1b810670b.setIcon%28icon_fefc44f5013c4f9b90c86555e1c7b487%29%3B%0A%20%20%20%20%20%20%20%20%0A%20%20%20%20%0A%20%20%20%20%20%20%20%20var%20popup_9f1dc9c71673499abcc33a40231f3ae0%20%3D%20L.popup%28%7B%22maxWidth%22%3A%20500%7D%29%3B%0A%0A%20%20%20%20%20%20%20%20%0A%20%20%20%20%20%20%20%20%20%20%20%20var%20html_a876af66c2cb41f78414c38482a254b9%20%3D%20%24%28%60%3Cdiv%20id%3D%22html_a876af66c2cb41f78414c38482a254b9%22%20style%3D%22width%3A%20100.0%25%3B%20height%3A%20100.0%25%3B%22%3E%3Ch4%3E%3Cb%3E%3Cp%20style%3D%22text-align%3Acenter%3B%22%3ELBM%20LABOSUD%20LUNEL%20VAUBAN%3C/p%3E%3C/b%3E%3C/h4%3E%3Cbr%3E%3Ch5%3E%3Cb%3EAdresse%20%3A%20%3C/b%3E%3C/h5%3E207%20Avenue%20du%20General%20de%20Gaulle%2034400%20Lunel%3Cbr%3E%3Ci%3ECentre%20de%20d%C3%A9pistage%20d%C3%A9di%C3%A9%3C/i%3E%3Cbr%3E%3Cstrong%3E%3Cb%3ETest%20RT-PCR%20%3A%20%3C/b%3E%3C/strong%3EOUI%3Cbr%3E%3Cstrong%3E%3Cb%3ETest%20antig%C3%A9nique%20%3A%20%3C/b%3E%3C/strong%3ENON%3Cbr%3E%3Cstrong%3E%3Cb%3EModalit%C3%A9s%20de%20pr%C3%A9l%C3%A8vement%20%3A%20%3C/b%3E%3C/strong%3EDrive%3Cbr%3E%3Cstrong%3E%3Cb%3EPublic%20%3A%20%3C/b%3E%3C/strong%3ECas%20contacts%20liste%20CPAM/Personnel%20soignant/Patients%20avec%20sympt%C3%B4mes%3Cbr%3E%3Cstrong%3E%3Cb%3EAcc%C3%A8s%20%3A%20%3C/b%3E%3C/strong%3ESur%20rendez-vous%20uniquement%3Cbr%3E%3Ch5%3E%3Cb%3EHoraire%20%3A%20%3C/b%3E%3C/h5%3E-%3Cbr%3E%3Cstrong%3E%3Cb%3EHoraire%20personnes%20prioritaires%20%3A%20%3C/b%3E%3C/strong%3E-%3Cbr%3E%3Cstrong%3E%3Cb%3ET%C3%A9l%C3%A9phone%20%3A%20%3C/b%3E%3C/strong%3E-%3Cbr%3E%3Cstrong%3E%3Cb%3ESite%20internet%20%3A%20%3C/b%3E%3C/strong%3Ehttps%3A//labosud.fr/rdvcovid19%3C/div%3E%60%29%5B0%5D%3B%0A%20%20%20%20%20%20%20%20%20%20%20%20popup_9f1dc9c71673499abcc33a40231f3ae0.setContent%28html_a876af66c2cb41f78414c38482a254b9%29%3B%0A%20%20%20%20%20%20%20%20%0A%0A%20%20%20%20%20%20%20%20marker_f9142cdf567b40a99d794ef1b810670b.bindPopup%28popup_9f1dc9c71673499abcc33a40231f3ae0%29%0A%20%20%20%20%20%20%20%20%3B%0A%0A%20%20%20%20%20%20%20%20%0A%20%20%20%20%0A%20%20%20%20%0A%20%20%20%20%20%20%20%20%20%20%20%20marker_f9142cdf567b40a99d794ef1b810670b.bindTooltip%28%0A%20%20%20%20%20%20%20%20%20%20%20%20%20%20%20%20%60%3Cdiv%3E%0A%20%20%20%20%20%20%20%20%20%20%20%20%20%20%20%20%20%20%20%20%20%3Cstrong%3E207%20Avenue%20du%20General%20de%20Gaulle%2034400%20Lunel%3C/strong%3E%0A%20%20%20%20%20%20%20%20%20%20%20%20%20%20%20%20%20%3C/div%3E%60%2C%0A%20%20%20%20%20%20%20%20%20%20%20%20%20%20%20%20%7B%22sticky%22%3A%20true%7D%0A%20%20%20%20%20%20%20%20%20%20%20%20%29%3B%0A%20%20%20%20%20%20%20%20%0A%20%20%20%20%0A%20%20%20%20%20%20%20%20%20%20%20%20var%20marker_c29995ae025d4c54a9cf8abfe88cd4fe%20%3D%20L.marker%28%0A%20%20%20%20%20%20%20%20%20%20%20%20%20%20%20%20%5B43.335929%2C%203.264036%5D%2C%0A%20%20%20%20%20%20%20%20%20%20%20%20%20%20%20%20%7B%7D%0A%20%20%20%20%20%20%20%20%20%20%20%20%29.addTo%28map_b4760f99a41d472a852e90660ac9673f%29%3B%0A%20%20%20%20%20%20%20%20%0A%20%20%20%20%0A%20%20%20%20%20%20%20%20%20%20%20%20var%20icon_3f8bd7e22ee0485390742b9f999767e7%20%3D%20L.AwesomeMarkers.icon%28%0A%20%20%20%20%20%20%20%20%20%20%20%20%20%20%20%20%7B%22extraClasses%22%3A%20%22fa-rotate-0%22%2C%20%22icon%22%3A%20%22info-sign%22%2C%20%22iconColor%22%3A%20%22white%22%2C%20%22markerColor%22%3A%20%22red%22%2C%20%22prefix%22%3A%20%22glyphicon%22%7D%0A%20%20%20%20%20%20%20%20%20%20%20%20%29%3B%0A%20%20%20%20%20%20%20%20%20%20%20%20marker_c29995ae025d4c54a9cf8abfe88cd4fe.setIcon%28icon_3f8bd7e22ee0485390742b9f999767e7%29%3B%0A%20%20%20%20%20%20%20%20%0A%20%20%20%20%0A%20%20%20%20%20%20%20%20var%20popup_06f0cf871b904b4fa8871e9d22ac41be%20%3D%20L.popup%28%7B%22maxWidth%22%3A%20500%7D%29%3B%0A%0A%20%20%20%20%20%20%20%20%0A%20%20%20%20%20%20%20%20%20%20%20%20var%20html_e5d51e9b78f346ab91083b3e01780654%20%3D%20%24%28%60%3Cdiv%20id%3D%22html_e5d51e9b78f346ab91083b3e01780654%22%20style%3D%22width%3A%20100.0%25%3B%20height%3A%20100.0%25%3B%22%3E%3Ch4%3E%3Cb%3E%3Cp%20style%3D%22text-align%3Acenter%3B%22%3ELBM%20LABOSUD%20B%C3%89ZIERS%3C/p%3E%3C/b%3E%3C/h4%3E%3Cbr%3E%3Ch5%3E%3Cb%3EAdresse%20%3A%20%3C/b%3E%3C/h5%3EAvenue%20des%20Olympiades%2034500%20B%C3%A9ziers%3Cbr%3E%3Ci%3ECentre%20de%20d%C3%A9pistage%20d%C3%A9di%C3%A9%3C/i%3E%3Cbr%3E%3Cstrong%3E%3Cb%3ETest%20RT-PCR%20%3A%20%3C/b%3E%3C/strong%3EOUI%3Cbr%3E%3Cstrong%3E%3Cb%3ETest%20antig%C3%A9nique%20%3A%20%3C/b%3E%3C/strong%3ENON%3Cbr%3E%3Cstrong%3E%3Cb%3EModalit%C3%A9s%20de%20pr%C3%A9l%C3%A8vement%20%3A%20%3C/b%3E%3C/strong%3EDrive%3Cbr%3E%3Cstrong%3E%3Cb%3EPublic%20%3A%20%3C/b%3E%3C/strong%3ECas%20contacts%20liste%20CPAM/Personnel%20soignant/Patients%20avec%20sympt%C3%B4mes%3Cbr%3E%3Cstrong%3E%3Cb%3EAcc%C3%A8s%20%3A%20%3C/b%3E%3C/strong%3ESans%20rendez-vous%3Cbr%3E%3Ch5%3E%3Cb%3EHoraire%20%3A%20%3C/b%3E%3C/h5%3E-%3Cbr%3E%3Cstrong%3E%3Cb%3EHoraire%20personnes%20prioritaires%20%3A%20%3C/b%3E%3C/strong%3E-%3Cbr%3E%3Cstrong%3E%3Cb%3ET%C3%A9l%C3%A9phone%20%3A%20%3C/b%3E%3C/strong%3E-%3Cbr%3E%3Cstrong%3E%3Cb%3ESite%20internet%20%3A%20%3C/b%3E%3C/strong%3E-%3C/div%3E%60%29%5B0%5D%3B%0A%20%20%20%20%20%20%20%20%20%20%20%20popup_06f0cf871b904b4fa8871e9d22ac41be.setContent%28html_e5d51e9b78f346ab91083b3e01780654%29%3B%0A%20%20%20%20%20%20%20%20%0A%0A%20%20%20%20%20%20%20%20marker_c29995ae025d4c54a9cf8abfe88cd4fe.bindPopup%28popup_06f0cf871b904b4fa8871e9d22ac41be%29%0A%20%20%20%20%20%20%20%20%3B%0A%0A%20%20%20%20%20%20%20%20%0A%20%20%20%20%0A%20%20%20%20%0A%20%20%20%20%20%20%20%20%20%20%20%20marker_c29995ae025d4c54a9cf8abfe88cd4fe.bindTooltip%28%0A%20%20%20%20%20%20%20%20%20%20%20%20%20%20%20%20%60%3Cdiv%3E%0A%20%20%20%20%20%20%20%20%20%20%20%20%20%20%20%20%20%20%20%20%20%3Cstrong%3EAvenue%20des%20Olympiades%2034500%20B%C3%A9ziers%3C/strong%3E%0A%20%20%20%20%20%20%20%20%20%20%20%20%20%20%20%20%20%3C/div%3E%60%2C%0A%20%20%20%20%20%20%20%20%20%20%20%20%20%20%20%20%7B%22sticky%22%3A%20true%7D%0A%20%20%20%20%20%20%20%20%20%20%20%20%29%3B%0A%20%20%20%20%20%20%20%20%0A%20%20%20%20%0A%20%20%20%20%20%20%20%20%20%20%20%20var%20marker_8a41f7b67ce746339598de7462c434cd%20%3D%20L.marker%28%0A%20%20%20%20%20%20%20%20%20%20%20%20%20%20%20%20%5B44.135701%2C%204.101607%5D%2C%0A%20%20%20%20%20%20%20%20%20%20%20%20%20%20%20%20%7B%7D%0A%20%20%20%20%20%20%20%20%20%20%20%20%29.addTo%28map_b4760f99a41d472a852e90660ac9673f%29%3B%0A%20%20%20%20%20%20%20%20%0A%20%20%20%20%0A%20%20%20%20%20%20%20%20%20%20%20%20var%20icon_9a5f712cb8cb46f3a20e8763796910c3%20%3D%20L.AwesomeMarkers.icon%28%0A%20%20%20%20%20%20%20%20%20%20%20%20%20%20%20%20%7B%22extraClasses%22%3A%20%22fa-rotate-0%22%2C%20%22icon%22%3A%20%22info-sign%22%2C%20%22iconColor%22%3A%20%22white%22%2C%20%22markerColor%22%3A%20%22red%22%2C%20%22prefix%22%3A%20%22glyphicon%22%7D%0A%20%20%20%20%20%20%20%20%20%20%20%20%29%3B%0A%20%20%20%20%20%20%20%20%20%20%20%20marker_8a41f7b67ce746339598de7462c434cd.setIcon%28icon_9a5f712cb8cb46f3a20e8763796910c3%29%3B%0A%20%20%20%20%20%20%20%20%0A%20%20%20%20%0A%20%20%20%20%20%20%20%20var%20popup_b81b24082bcf48c3af835e5cd481bab8%20%3D%20L.popup%28%7B%22maxWidth%22%3A%20500%7D%29%3B%0A%0A%20%20%20%20%20%20%20%20%0A%20%20%20%20%20%20%20%20%20%20%20%20var%20html_909c4a1b4c164697be80ca500dd56956%20%3D%20%24%28%60%3Cdiv%20id%3D%22html_909c4a1b4c164697be80ca500dd56956%22%20style%3D%22width%3A%20100.0%25%3B%20height%3A%20100.0%25%3B%22%3E%3Ch4%3E%3Cb%3E%3Cp%20style%3D%22text-align%3Acenter%3B%22%3ELBM%20LABOSUD%20AL%C3%88S%3C/p%3E%3C/b%3E%3C/h4%3E%3Cbr%3E%3Ch5%3E%3Cb%3EAdresse%20%3A%20%3C/b%3E%3C/h5%3E40%20Avenue%20Vincent%20d%27Indy%2030100%20Al%C3%A8s%3Cbr%3E%3Ci%3ECentre%20de%20d%C3%A9pistage%20d%C3%A9di%C3%A9%3C/i%3E%3Cbr%3E%3Cstrong%3E%3Cb%3ETest%20RT-PCR%20%3A%20%3C/b%3E%3C/strong%3EOUI%3Cbr%3E%3Cstrong%3E%3Cb%3ETest%20antig%C3%A9nique%20%3A%20%3C/b%3E%3C/strong%3ENON%3Cbr%3E%3Cstrong%3E%3Cb%3EModalit%C3%A9s%20de%20pr%C3%A9l%C3%A8vement%20%3A%20%3C/b%3E%3C/strong%3EDrive%3Cbr%3E%3Cstrong%3E%3Cb%3EPublic%20%3A%20%3C/b%3E%3C/strong%3ECas%20contacts%20liste%20CPAM/Personnel%20soignant/Patients%20pour%20des%20bilans%20pr%C3%A9-op%C3%A9ratoire/Patients%20avec%20sympt%C3%B4mes%3Cbr%3E%3Cstrong%3E%3Cb%3EAcc%C3%A8s%20%3A%20%3C/b%3E%3C/strong%3ESur%20rendez-vous%20uniquement%3Cbr%3E%3Ch5%3E%3Cb%3EHoraire%20%3A%20%3C/b%3E%3C/h5%3E-%3Cbr%3E%3Cstrong%3E%3Cb%3EHoraire%20personnes%20prioritaires%20%3A%20%3C/b%3E%3C/strong%3E-%3Cbr%3E%3Cstrong%3E%3Cb%3ET%C3%A9l%C3%A9phone%20%3A%20%3C/b%3E%3C/strong%3E-%3Cbr%3E%3Cstrong%3E%3Cb%3ESite%20internet%20%3A%20%3C/b%3E%3C/strong%3Ehttps%3A//labosud.fr/rdvcovid19%3C/div%3E%60%29%5B0%5D%3B%0A%20%20%20%20%20%20%20%20%20%20%20%20popup_b81b24082bcf48c3af835e5cd481bab8.setContent%28html_909c4a1b4c164697be80ca500dd56956%29%3B%0A%20%20%20%20%20%20%20%20%0A%0A%20%20%20%20%20%20%20%20marker_8a41f7b67ce746339598de7462c434cd.bindPopup%28popup_b81b24082bcf48c3af835e5cd481bab8%29%0A%20%20%20%20%20%20%20%20%3B%0A%0A%20%20%20%20%20%20%20%20%0A%20%20%20%20%0A%20%20%20%20%0A%20%20%20%20%20%20%20%20%20%20%20%20marker_8a41f7b67ce746339598de7462c434cd.bindTooltip%28%0A%20%20%20%20%20%20%20%20%20%20%20%20%20%20%20%20%60%3Cdiv%3E%0A%20%20%20%20%20%20%20%20%20%20%20%20%20%20%20%20%20%20%20%20%20%3Cstrong%3E40%20Avenue%20Vincent%20d%27Indy%2030100%20Al%C3%A8s%3C/strong%3E%0A%20%20%20%20%20%20%20%20%20%20%20%20%20%20%20%20%20%3C/div%3E%60%2C%0A%20%20%20%20%20%20%20%20%20%20%20%20%20%20%20%20%7B%22sticky%22%3A%20true%7D%0A%20%20%20%20%20%20%20%20%20%20%20%20%29%3B%0A%20%20%20%20%20%20%20%20%0A%20%20%20%20%0A%20%20%20%20%20%20%20%20%20%20%20%20var%20marker_5db9a909823b4fdf90605194e72e871f%20%3D%20L.marker%28%0A%20%20%20%20%20%20%20%20%20%20%20%20%20%20%20%20%5B43.6750792716434%2C%204.62786986446558%5D%2C%0A%20%20%20%20%20%20%20%20%20%20%20%20%20%20%20%20%7B%7D%0A%20%20%20%20%20%20%20%20%20%20%20%20%29.addTo%28map_b4760f99a41d472a852e90660ac9673f%29%3B%0A%20%20%20%20%20%20%20%20%0A%20%20%20%20%0A%20%20%20%20%20%20%20%20%20%20%20%20var%20icon_6e3c44577f844e5ba62783352903a492%20%3D%20L.AwesomeMarkers.icon%28%0A%20%20%20%20%20%20%20%20%20%20%20%20%20%20%20%20%7B%22extraClasses%22%3A%20%22fa-rotate-0%22%2C%20%22icon%22%3A%20%22info-sign%22%2C%20%22iconColor%22%3A%20%22white%22%2C%20%22markerColor%22%3A%20%22red%22%2C%20%22prefix%22%3A%20%22glyphicon%22%7D%0A%20%20%20%20%20%20%20%20%20%20%20%20%29%3B%0A%20%20%20%20%20%20%20%20%20%20%20%20marker_5db9a909823b4fdf90605194e72e871f.setIcon%28icon_6e3c44577f844e5ba62783352903a492%29%3B%0A%20%20%20%20%20%20%20%20%0A%20%20%20%20%0A%20%20%20%20%20%20%20%20var%20popup_4a496f38185e4046aef3273d8b409dbb%20%3D%20L.popup%28%7B%22maxWidth%22%3A%20500%7D%29%3B%0A%0A%20%20%20%20%20%20%20%20%0A%20%20%20%20%20%20%20%20%20%20%20%20var%20html_91204a994ae3468480917c88268ec684%20%3D%20%24%28%60%3Cdiv%20id%3D%22html_91204a994ae3468480917c88268ec684%22%20style%3D%22width%3A%20100.0%25%3B%20height%3A%20100.0%25%3B%22%3E%3Ch4%3E%3Cb%3E%3Cp%20style%3D%22text-align%3Acenter%3B%22%3ELBM%20LABOSUD%20ARLES%20TRINQUETAILLE%3C/p%3E%3C/b%3E%3C/h4%3E%3Cbr%3E%3Ch5%3E%3Cb%3EAdresse%20%3A%20%3C/b%3E%3C/h5%3E28%20Avenue%20du%20Dr%20Morel%2013200%20Arles%3Cbr%3E%3Ci%3ECentre%20de%20d%C3%A9pistage%20d%C3%A9di%C3%A9%3C/i%3E%3Cbr%3E%3Cstrong%3E%3Cb%3ETest%20RT-PCR%20%3A%20%3C/b%3E%3C/strong%3EOUI%3Cbr%3E%3Cstrong%3E%3Cb%3ETest%20antig%C3%A9nique%20%3A%20%3C/b%3E%3C/strong%3ENON%3Cbr%3E%3Cstrong%3E%3Cb%3EModalit%C3%A9s%20de%20pr%C3%A9l%C3%A8vement%20%3A%20%3C/b%3E%3C/strong%3ESur%20place%3Cbr%3E%3Cstrong%3E%3Cb%3EPublic%20%3A%20%3C/b%3E%3C/strong%3ECas%20contacts%20liste%20CPAM/Patients%20avec%20sympt%C3%B4mes/Patients%20pour%20des%20bilans%20pr%C3%A9-op%C3%A9ratoire/Personnel%20soignant%3Cbr%3E%3Cstrong%3E%3Cb%3EAcc%C3%A8s%20%3A%20%3C/b%3E%3C/strong%3ESur%20rendez-vous%20uniquement%3Cbr%3E%3Ch5%3E%3Cb%3EHoraire%20%3A%20%3C/b%3E%3C/h5%3EAppeler%20le%20laboratoire%3Cbr%3E%3Cstrong%3E%3Cb%3EHoraire%20personnes%20prioritaires%20%3A%20%3C/b%3E%3C/strong%3E-%3Cbr%3E%3Cstrong%3E%3Cb%3ET%C3%A9l%C3%A9phone%20%3A%20%3C/b%3E%3C/strong%3E-%3Cbr%3E%3Cstrong%3E%3Cb%3ESite%20internet%20%3A%20%3C/b%3E%3C/strong%3Ehttps%3A//labosud.fr/rdvcovid19%3C/div%3E%60%29%5B0%5D%3B%0A%20%20%20%20%20%20%20%20%20%20%20%20popup_4a496f38185e4046aef3273d8b409dbb.setContent%28html_91204a994ae3468480917c88268ec684%29%3B%0A%20%20%20%20%20%20%20%20%0A%0A%20%20%20%20%20%20%20%20marker_5db9a909823b4fdf90605194e72e871f.bindPopup%28popup_4a496f38185e4046aef3273d8b409dbb%29%0A%20%20%20%20%20%20%20%20%3B%0A%0A%20%20%20%20%20%20%20%20%0A%20%20%20%20%0A%20%20%20%20%0A%20%20%20%20%20%20%20%20%20%20%20%20marker_5db9a909823b4fdf90605194e72e871f.bindTooltip%28%0A%20%20%20%20%20%20%20%20%20%20%20%20%20%20%20%20%60%3Cdiv%3E%0A%20%20%20%20%20%20%20%20%20%20%20%20%20%20%20%20%20%20%20%20%20%3Cstrong%3E28%20Avenue%20du%20Dr%20Morel%2013200%20Arles%3C/strong%3E%0A%20%20%20%20%20%20%20%20%20%20%20%20%20%20%20%20%20%3C/div%3E%60%2C%0A%20%20%20%20%20%20%20%20%20%20%20%20%20%20%20%20%7B%22sticky%22%3A%20true%7D%0A%20%20%20%20%20%20%20%20%20%20%20%20%29%3B%0A%20%20%20%20%20%20%20%20%0A%20%20%20%20%0A%20%20%20%20%20%20%20%20%20%20%20%20var%20marker_a30dc509daea45278c9d4cc25b01d50d%20%3D%20L.marker%28%0A%20%20%20%20%20%20%20%20%20%20%20%20%20%20%20%20%5B43.808746%2C%204.660619%5D%2C%0A%20%20%20%20%20%20%20%20%20%20%20%20%20%20%20%20%7B%7D%0A%20%20%20%20%20%20%20%20%20%20%20%20%29.addTo%28map_b4760f99a41d472a852e90660ac9673f%29%3B%0A%20%20%20%20%20%20%20%20%0A%20%20%20%20%0A%20%20%20%20%20%20%20%20%20%20%20%20var%20icon_54fa189ee5264e4294776b62812c4ca5%20%3D%20L.AwesomeMarkers.icon%28%0A%20%20%20%20%20%20%20%20%20%20%20%20%20%20%20%20%7B%22extraClasses%22%3A%20%22fa-rotate-0%22%2C%20%22icon%22%3A%20%22info-sign%22%2C%20%22iconColor%22%3A%20%22white%22%2C%20%22markerColor%22%3A%20%22red%22%2C%20%22prefix%22%3A%20%22glyphicon%22%7D%0A%20%20%20%20%20%20%20%20%20%20%20%20%29%3B%0A%20%20%20%20%20%20%20%20%20%20%20%20marker_a30dc509daea45278c9d4cc25b01d50d.setIcon%28icon_54fa189ee5264e4294776b62812c4ca5%29%3B%0A%20%20%20%20%20%20%20%20%0A%20%20%20%20%0A%20%20%20%20%20%20%20%20var%20popup_bfde188afb10476b83e5f558facde1ba%20%3D%20L.popup%28%7B%22maxWidth%22%3A%20500%7D%29%3B%0A%0A%20%20%20%20%20%20%20%20%0A%20%20%20%20%20%20%20%20%20%20%20%20var%20html_6f9501f3864c4cb1a777b1df99673646%20%3D%20%24%28%60%3Cdiv%20id%3D%22html_6f9501f3864c4cb1a777b1df99673646%22%20style%3D%22width%3A%20100.0%25%3B%20height%3A%20100.0%25%3B%22%3E%3Ch4%3E%3Cb%3E%3Cp%20style%3D%22text-align%3Acenter%3B%22%3ELBM%20LABOSUD%20TARASCON%3C/p%3E%3C/b%3E%3C/h4%3E%3Cbr%3E%3Ch5%3E%3Cb%3EAdresse%20%3A%20%3C/b%3E%3C/h5%3EBoulevard%20Alphonse%20Daudet%2013150%20Tarascon%3Cbr%3E%3Ci%3ECentre%20de%20d%C3%A9pistage%20d%C3%A9di%C3%A9%3C/i%3E%3Cbr%3E%3Cstrong%3E%3Cb%3ETest%20RT-PCR%20%3A%20%3C/b%3E%3C/strong%3EOUI%3Cbr%3E%3Cstrong%3E%3Cb%3ETest%20antig%C3%A9nique%20%3A%20%3C/b%3E%3C/strong%3ENON%3Cbr%3E%3Cstrong%3E%3Cb%3EModalit%C3%A9s%20de%20pr%C3%A9l%C3%A8vement%20%3A%20%3C/b%3E%3C/strong%3ESur%20place%3Cbr%3E%3Cstrong%3E%3Cb%3EPublic%20%3A%20%3C/b%3E%3C/strong%3ECas%20contacts%20liste%20CPAM/Personnel%20soignant/Patients%20avec%20sympt%C3%B4mes%3Cbr%3E%3Cstrong%3E%3Cb%3EAcc%C3%A8s%20%3A%20%3C/b%3E%3C/strong%3ESur%20rendez-vous%20uniquement%3Cbr%3E%3Ch5%3E%3Cb%3EHoraire%20%3A%20%3C/b%3E%3C/h5%3EAppeler%20le%20laboratoire%3Cbr%3E%3Cstrong%3E%3Cb%3EHoraire%20personnes%20prioritaires%20%3A%20%3C/b%3E%3C/strong%3E-%3Cbr%3E%3Cstrong%3E%3Cb%3ET%C3%A9l%C3%A9phone%20%3A%20%3C/b%3E%3C/strong%3E-%3Cbr%3E%3Cstrong%3E%3Cb%3ESite%20internet%20%3A%20%3C/b%3E%3C/strong%3Ehttps%3A//labosud.fr/rdvcovid19%3C/div%3E%60%29%5B0%5D%3B%0A%20%20%20%20%20%20%20%20%20%20%20%20popup_bfde188afb10476b83e5f558facde1ba.setContent%28html_6f9501f3864c4cb1a777b1df99673646%29%3B%0A%20%20%20%20%20%20%20%20%0A%0A%20%20%20%20%20%20%20%20marker_a30dc509daea45278c9d4cc25b01d50d.bindPopup%28popup_bfde188afb10476b83e5f558facde1ba%29%0A%20%20%20%20%20%20%20%20%3B%0A%0A%20%20%20%20%20%20%20%20%0A%20%20%20%20%0A%20%20%20%20%0A%20%20%20%20%20%20%20%20%20%20%20%20marker_a30dc509daea45278c9d4cc25b01d50d.bindTooltip%28%0A%20%20%20%20%20%20%20%20%20%20%20%20%20%20%20%20%60%3Cdiv%3E%0A%20%20%20%20%20%20%20%20%20%20%20%20%20%20%20%20%20%20%20%20%20%3Cstrong%3EBoulevard%20Alphonse%20Daudet%2013150%20Tarascon%3C/strong%3E%0A%20%20%20%20%20%20%20%20%20%20%20%20%20%20%20%20%20%3C/div%3E%60%2C%0A%20%20%20%20%20%20%20%20%20%20%20%20%20%20%20%20%7B%22sticky%22%3A%20true%7D%0A%20%20%20%20%20%20%20%20%20%20%20%20%29%3B%0A%20%20%20%20%20%20%20%20%0A%20%20%20%20%0A%20%20%20%20%20%20%20%20%20%20%20%20var%20marker_deafbbcffe54440f903cf7c8318e6fee%20%3D%20L.marker%28%0A%20%20%20%20%20%20%20%20%20%20%20%20%20%20%20%20%5B43.814742%2C%204.35398%5D%2C%0A%20%20%20%20%20%20%20%20%20%20%20%20%20%20%20%20%7B%7D%0A%20%20%20%20%20%20%20%20%20%20%20%20%29.addTo%28map_b4760f99a41d472a852e90660ac9673f%29%3B%0A%20%20%20%20%20%20%20%20%0A%20%20%20%20%0A%20%20%20%20%20%20%20%20%20%20%20%20var%20icon_5dbe1d60e12c47a3ab07c4b95aafb054%20%3D%20L.AwesomeMarkers.icon%28%0A%20%20%20%20%20%20%20%20%20%20%20%20%20%20%20%20%7B%22extraClasses%22%3A%20%22fa-rotate-0%22%2C%20%22icon%22%3A%20%22info-sign%22%2C%20%22iconColor%22%3A%20%22white%22%2C%20%22markerColor%22%3A%20%22red%22%2C%20%22prefix%22%3A%20%22glyphicon%22%7D%0A%20%20%20%20%20%20%20%20%20%20%20%20%29%3B%0A%20%20%20%20%20%20%20%20%20%20%20%20marker_deafbbcffe54440f903cf7c8318e6fee.setIcon%28icon_5dbe1d60e12c47a3ab07c4b95aafb054%29%3B%0A%20%20%20%20%20%20%20%20%0A%20%20%20%20%0A%20%20%20%20%20%20%20%20var%20popup_71b5f57a9e65458fab22f5c2ee695c96%20%3D%20L.popup%28%7B%22maxWidth%22%3A%20500%7D%29%3B%0A%0A%20%20%20%20%20%20%20%20%0A%20%20%20%20%20%20%20%20%20%20%20%20var%20html_cc507e03b646460f933451d12332aac8%20%3D%20%24%28%60%3Cdiv%20id%3D%22html_cc507e03b646460f933451d12332aac8%22%20style%3D%22width%3A%20100.0%25%3B%20height%3A%20100.0%25%3B%22%3E%3Ch4%3E%3Cb%3E%3Cp%20style%3D%22text-align%3Acenter%3B%22%3ELBM%20LABOSUD%20NIMES%20CARRE%20MEDICAL%3C/p%3E%3C/b%3E%3C/h4%3E%3Cbr%3E%3Ch5%3E%3Cb%3EAdresse%20%3A%20%3C/b%3E%3C/h5%3EParking%20du%20Parnasse%2030900%20NIMES%3Cbr%3E%3Ci%3ECentre%20de%20d%C3%A9pistage%20d%C3%A9di%C3%A9%3C/i%3E%3Cbr%3E%3Cstrong%3E%3Cb%3ETest%20RT-PCR%20%3A%20%3C/b%3E%3C/strong%3EOUI%3Cbr%3E%3Cstrong%3E%3Cb%3ETest%20antig%C3%A9nique%20%3A%20%3C/b%3E%3C/strong%3ENON%3Cbr%3E%3Cstrong%3E%3Cb%3EModalit%C3%A9s%20de%20pr%C3%A9l%C3%A8vement%20%3A%20%3C/b%3E%3C/strong%3EDrive%3Cbr%3E%3Cstrong%3E%3Cb%3EPublic%20%3A%20%3C/b%3E%3C/strong%3ECas%20contacts%20liste%20CPAM/Patients%20avec%20sympt%C3%B4mes/Patients%20pour%20des%20bilans%20pr%C3%A9-op%C3%A9ratoire/Personnel%20soignant%3Cbr%3E%3Cstrong%3E%3Cb%3EAcc%C3%A8s%20%3A%20%3C/b%3E%3C/strong%3ESans%20rendez-vous%3Cbr%3E%3Ch5%3E%3Cb%3EHoraire%20%3A%20%3C/b%3E%3C/h5%3EAppeler%20le%20laboratoire%3Cbr%3E%3Cstrong%3E%3Cb%3EHoraire%20personnes%20prioritaires%20%3A%20%3C/b%3E%3C/strong%3E-%3Cbr%3E%3Cstrong%3E%3Cb%3ET%C3%A9l%C3%A9phone%20%3A%20%3C/b%3E%3C/strong%3E-%3Cbr%3E%3Cstrong%3E%3Cb%3ESite%20internet%20%3A%20%3C/b%3E%3C/strong%3E-%3C/div%3E%60%29%5B0%5D%3B%0A%20%20%20%20%20%20%20%20%20%20%20%20popup_71b5f57a9e65458fab22f5c2ee695c96.setContent%28html_cc507e03b646460f933451d12332aac8%29%3B%0A%20%20%20%20%20%20%20%20%0A%0A%20%20%20%20%20%20%20%20marker_deafbbcffe54440f903cf7c8318e6fee.bindPopup%28popup_71b5f57a9e65458fab22f5c2ee695c96%29%0A%20%20%20%20%20%20%20%20%3B%0A%0A%20%20%20%20%20%20%20%20%0A%20%20%20%20%0A%20%20%20%20%0A%20%20%20%20%20%20%20%20%20%20%20%20marker_deafbbcffe54440f903cf7c8318e6fee.bindTooltip%28%0A%20%20%20%20%20%20%20%20%20%20%20%20%20%20%20%20%60%3Cdiv%3E%0A%20%20%20%20%20%20%20%20%20%20%20%20%20%20%20%20%20%20%20%20%20%3Cstrong%3EParking%20du%20Parnasse%2030900%20NIMES%3C/strong%3E%0A%20%20%20%20%20%20%20%20%20%20%20%20%20%20%20%20%20%3C/div%3E%60%2C%0A%20%20%20%20%20%20%20%20%20%20%20%20%20%20%20%20%7B%22sticky%22%3A%20true%7D%0A%20%20%20%20%20%20%20%20%20%20%20%20%29%3B%0A%20%20%20%20%20%20%20%20%0A%20%20%20%20%0A%20%20%20%20%20%20%20%20%20%20%20%20var%20marker_3dcab9e383974b7395e7a1d3f233f8d5%20%3D%20L.marker%28%0A%20%20%20%20%20%20%20%20%20%20%20%20%20%20%20%20%5B43.781739%2C%204.0788%5D%2C%0A%20%20%20%20%20%20%20%20%20%20%20%20%20%20%20%20%7B%7D%0A%20%20%20%20%20%20%20%20%20%20%20%20%29.addTo%28map_b4760f99a41d472a852e90660ac9673f%29%3B%0A%20%20%20%20%20%20%20%20%0A%20%20%20%20%0A%20%20%20%20%20%20%20%20%20%20%20%20var%20icon_18a4790e29ef44cf83658b2a13e108e7%20%3D%20L.AwesomeMarkers.icon%28%0A%20%20%20%20%20%20%20%20%20%20%20%20%20%20%20%20%7B%22extraClasses%22%3A%20%22fa-rotate-0%22%2C%20%22icon%22%3A%20%22info-sign%22%2C%20%22iconColor%22%3A%20%22white%22%2C%20%22markerColor%22%3A%20%22red%22%2C%20%22prefix%22%3A%20%22glyphicon%22%7D%0A%20%20%20%20%20%20%20%20%20%20%20%20%29%3B%0A%20%20%20%20%20%20%20%20%20%20%20%20marker_3dcab9e383974b7395e7a1d3f233f8d5.setIcon%28icon_18a4790e29ef44cf83658b2a13e108e7%29%3B%0A%20%20%20%20%20%20%20%20%0A%20%20%20%20%0A%20%20%20%20%20%20%20%20var%20popup_5e6bf6b4082a4651af773fb2f24e520a%20%3D%20L.popup%28%7B%22maxWidth%22%3A%20500%7D%29%3B%0A%0A%20%20%20%20%20%20%20%20%0A%20%20%20%20%20%20%20%20%20%20%20%20var%20html_12c56107fb524ddb85d7a84f389c4768%20%3D%20%24%28%60%3Cdiv%20id%3D%22html_12c56107fb524ddb85d7a84f389c4768%22%20style%3D%22width%3A%20100.0%25%3B%20height%3A%20100.0%25%3B%22%3E%3Ch4%3E%3Cb%3E%3Cp%20style%3D%22text-align%3Acenter%3B%22%3ELBM%20LABOSUD%20SOMMIERES%3C/p%3E%3C/b%3E%3C/h4%3E%3Cbr%3E%3Ch5%3E%3Cb%3EAdresse%20%3A%20%3C/b%3E%3C/h5%3E218%20Chemin%20de%20Campagne%2030250%20Sommi%C3%A8res%3Cbr%3E%3Ci%3ECentre%20de%20d%C3%A9pistage%20d%C3%A9di%C3%A9%3C/i%3E%3Cbr%3E%3Cstrong%3E%3Cb%3ETest%20RT-PCR%20%3A%20%3C/b%3E%3C/strong%3EOUI%3Cbr%3E%3Cstrong%3E%3Cb%3ETest%20antig%C3%A9nique%20%3A%20%3C/b%3E%3C/strong%3ENON%3Cbr%3E%3Cstrong%3E%3Cb%3EModalit%C3%A9s%20de%20pr%C3%A9l%C3%A8vement%20%3A%20%3C/b%3E%3C/strong%3EDrive%3Cbr%3E%3Cstrong%3E%3Cb%3EPublic%20%3A%20%3C/b%3E%3C/strong%3ECas%20contacts%20liste%20CPAM/Personnel%20soignant/Patients%20avec%20sympt%C3%B4mes%3Cbr%3E%3Cstrong%3E%3Cb%3EAcc%C3%A8s%20%3A%20%3C/b%3E%3C/strong%3ESur%20rendez-vous%20uniquement%3Cbr%3E%3Ch5%3E%3Cb%3EHoraire%20%3A%20%3C/b%3E%3C/h5%3EAppeler%20le%20Laboratoire%3Cbr%3E%3Cstrong%3E%3Cb%3EHoraire%20personnes%20prioritaires%20%3A%20%3C/b%3E%3C/strong%3E-%3Cbr%3E%3Cstrong%3E%3Cb%3ET%C3%A9l%C3%A9phone%20%3A%20%3C/b%3E%3C/strong%3E04%2066%2080%2000%2056%3Cbr%3E%3Cstrong%3E%3Cb%3ESite%20internet%20%3A%20%3C/b%3E%3C/strong%3E-%3C/div%3E%60%29%5B0%5D%3B%0A%20%20%20%20%20%20%20%20%20%20%20%20popup_5e6bf6b4082a4651af773fb2f24e520a.setContent%28html_12c56107fb524ddb85d7a84f389c4768%29%3B%0A%20%20%20%20%20%20%20%20%0A%0A%20%20%20%20%20%20%20%20marker_3dcab9e383974b7395e7a1d3f233f8d5.bindPopup%28popup_5e6bf6b4082a4651af773fb2f24e520a%29%0A%20%20%20%20%20%20%20%20%3B%0A%0A%20%20%20%20%20%20%20%20%0A%20%20%20%20%0A%20%20%20%20%0A%20%20%20%20%20%20%20%20%20%20%20%20marker_3dcab9e383974b7395e7a1d3f233f8d5.bindTooltip%28%0A%20%20%20%20%20%20%20%20%20%20%20%20%20%20%20%20%60%3Cdiv%3E%0A%20%20%20%20%20%20%20%20%20%20%20%20%20%20%20%20%20%20%20%20%20%3Cstrong%3E218%20Chemin%20de%20Campagne%2030250%20Sommi%C3%A8res%3C/strong%3E%0A%20%20%20%20%20%20%20%20%20%20%20%20%20%20%20%20%20%3C/div%3E%60%2C%0A%20%20%20%20%20%20%20%20%20%20%20%20%20%20%20%20%7B%22sticky%22%3A%20true%7D%0A%20%20%20%20%20%20%20%20%20%20%20%20%29%3B%0A%20%20%20%20%20%20%20%20%0A%20%20%20%20%0A%20%20%20%20%20%20%20%20%20%20%20%20var%20marker_8c0b15143d4c42f0b9312b42acc77f2a%20%3D%20L.marker%28%0A%20%20%20%20%20%20%20%20%20%20%20%20%20%20%20%20%5B44.121382%2C%204.087544%5D%2C%0A%20%20%20%20%20%20%20%20%20%20%20%20%20%20%20%20%7B%7D%0A%20%20%20%20%20%20%20%20%20%20%20%20%29.addTo%28map_b4760f99a41d472a852e90660ac9673f%29%3B%0A%20%20%20%20%20%20%20%20%0A%20%20%20%20%0A%20%20%20%20%20%20%20%20%20%20%20%20var%20icon_46fe4c4336eb44e38bcffe9c9a9c7e16%20%3D%20L.AwesomeMarkers.icon%28%0A%20%20%20%20%20%20%20%20%20%20%20%20%20%20%20%20%7B%22extraClasses%22%3A%20%22fa-rotate-0%22%2C%20%22icon%22%3A%20%22info-sign%22%2C%20%22iconColor%22%3A%20%22white%22%2C%20%22markerColor%22%3A%20%22red%22%2C%20%22prefix%22%3A%20%22glyphicon%22%7D%0A%20%20%20%20%20%20%20%20%20%20%20%20%29%3B%0A%20%20%20%20%20%20%20%20%20%20%20%20marker_8c0b15143d4c42f0b9312b42acc77f2a.setIcon%28icon_46fe4c4336eb44e38bcffe9c9a9c7e16%29%3B%0A%20%20%20%20%20%20%20%20%0A%20%20%20%20%0A%20%20%20%20%20%20%20%20var%20popup_2c64fbd749254fca9af656017099e19e%20%3D%20L.popup%28%7B%22maxWidth%22%3A%20500%7D%29%3B%0A%0A%20%20%20%20%20%20%20%20%0A%20%20%20%20%20%20%20%20%20%20%20%20var%20html_92284e04a8f0433da27b2ee26a04e9d7%20%3D%20%24%28%60%3Cdiv%20id%3D%22html_92284e04a8f0433da27b2ee26a04e9d7%22%20style%3D%22width%3A%20100.0%25%3B%20height%3A%20100.0%25%3B%22%3E%3Ch4%3E%3Cb%3E%3Cp%20style%3D%22text-align%3Acenter%3B%22%3ELBM%20LABOSUD%20ALES%20CARNOT%3C/p%3E%3C/b%3E%3C/h4%3E%3Cbr%3E%3Ch5%3E%3Cb%3EAdresse%20%3A%20%3C/b%3E%3C/h5%3E45%20Avenue%20Carnot%2030100%20Al%C3%A8s%3Cbr%3E%3Ci%3ELaboratoire%3C/i%3E%3Cbr%3E%3Cstrong%3E%3Cb%3ETest%20RT-PCR%20%3A%20%3C/b%3E%3C/strong%3EOUI%3Cbr%3E%3Cstrong%3E%3Cb%3ETest%20antig%C3%A9nique%20%3A%20%3C/b%3E%3C/strong%3ENON%3Cbr%3E%3Cstrong%3E%3Cb%3EModalit%C3%A9s%20de%20pr%C3%A9l%C3%A8vement%20%3A%20%3C/b%3E%3C/strong%3ESur%20place%3Cbr%3E%3Cstrong%3E%3Cb%3EPublic%20%3A%20%3C/b%3E%3C/strong%3EPatients%20pour%20des%20bilans%20pr%C3%A9-op%C3%A9ratoire%3Cbr%3E%3Cstrong%3E%3Cb%3EAcc%C3%A8s%20%3A%20%3C/b%3E%3C/strong%3ESans%20rendez-vous%3Cbr%3E%3Ch5%3E%3Cb%3EHoraire%20%3A%20%3C/b%3E%3C/h5%3EAppeler%20le%20laboratoire%3Cbr%3E%3Cstrong%3E%3Cb%3EHoraire%20personnes%20prioritaires%20%3A%20%3C/b%3E%3C/strong%3E-%3Cbr%3E%3Cstrong%3E%3Cb%3ET%C3%A9l%C3%A9phone%20%3A%20%3C/b%3E%3C/strong%3E-%3Cbr%3E%3Cstrong%3E%3Cb%3ESite%20internet%20%3A%20%3C/b%3E%3C/strong%3E-%3C/div%3E%60%29%5B0%5D%3B%0A%20%20%20%20%20%20%20%20%20%20%20%20popup_2c64fbd749254fca9af656017099e19e.setContent%28html_92284e04a8f0433da27b2ee26a04e9d7%29%3B%0A%20%20%20%20%20%20%20%20%0A%0A%20%20%20%20%20%20%20%20marker_8c0b15143d4c42f0b9312b42acc77f2a.bindPopup%28popup_2c64fbd749254fca9af656017099e19e%29%0A%20%20%20%20%20%20%20%20%3B%0A%0A%20%20%20%20%20%20%20%20%0A%20%20%20%20%0A%20%20%20%20%0A%20%20%20%20%20%20%20%20%20%20%20%20marker_8c0b15143d4c42f0b9312b42acc77f2a.bindTooltip%28%0A%20%20%20%20%20%20%20%20%20%20%20%20%20%20%20%20%60%3Cdiv%3E%0A%20%20%20%20%20%20%20%20%20%20%20%20%20%20%20%20%20%20%20%20%20%3Cstrong%3E45%20Avenue%20Carnot%2030100%20Al%C3%A8s%3C/strong%3E%0A%20%20%20%20%20%20%20%20%20%20%20%20%20%20%20%20%20%3C/div%3E%60%2C%0A%20%20%20%20%20%20%20%20%20%20%20%20%20%20%20%20%7B%22sticky%22%3A%20true%7D%0A%20%20%20%20%20%20%20%20%20%20%20%20%29%3B%0A%20%20%20%20%20%20%20%20%0A%20%20%20%20%0A%20%20%20%20%20%20%20%20%20%20%20%20var%20marker_8b08f00b4727479fa8fe87c612d30d4a%20%3D%20L.marker%28%0A%20%20%20%20%20%20%20%20%20%20%20%20%20%20%20%20%5B44.259945%2C%204.199587%5D%2C%0A%20%20%20%20%20%20%20%20%20%20%20%20%20%20%20%20%7B%7D%0A%20%20%20%20%20%20%20%20%20%20%20%20%29.addTo%28map_b4760f99a41d472a852e90660ac9673f%29%3B%0A%20%20%20%20%20%20%20%20%0A%20%20%20%20%0A%20%20%20%20%20%20%20%20%20%20%20%20var%20icon_e3719e6a57244970b876c5bd28a973a1%20%3D%20L.AwesomeMarkers.icon%28%0A%20%20%20%20%20%20%20%20%20%20%20%20%20%20%20%20%7B%22extraClasses%22%3A%20%22fa-rotate-0%22%2C%20%22icon%22%3A%20%22info-sign%22%2C%20%22iconColor%22%3A%20%22white%22%2C%20%22markerColor%22%3A%20%22red%22%2C%20%22prefix%22%3A%20%22glyphicon%22%7D%0A%20%20%20%20%20%20%20%20%20%20%20%20%29%3B%0A%20%20%20%20%20%20%20%20%20%20%20%20marker_8b08f00b4727479fa8fe87c612d30d4a.setIcon%28icon_e3719e6a57244970b876c5bd28a973a1%29%3B%0A%20%20%20%20%20%20%20%20%0A%20%20%20%20%0A%20%20%20%20%20%20%20%20var%20popup_d20ad0d2a76e4aa3bb5ad3e9557760ac%20%3D%20L.popup%28%7B%22maxWidth%22%3A%20500%7D%29%3B%0A%0A%20%20%20%20%20%20%20%20%0A%20%20%20%20%20%20%20%20%20%20%20%20var%20html_6260602ed03c41b5bcf29291edb0a2c5%20%3D%20%24%28%60%3Cdiv%20id%3D%22html_6260602ed03c41b5bcf29291edb0a2c5%22%20style%3D%22width%3A%20100.0%25%3B%20height%3A%20100.0%25%3B%22%3E%3Ch4%3E%3Cb%3E%3Cp%20style%3D%22text-align%3Acenter%3B%22%3ELBM%20LABOSUD%20SAINT-AMBROIX%3C/p%3E%3C/b%3E%3C/h4%3E%3Cbr%3E%3Ch5%3E%3Cb%3EAdresse%20%3A%20%3C/b%3E%3C/h5%3E22%20Rue%20de%20la%20R%C3%A9publique%2030500%20Saint-Ambroix%3Cbr%3E%3Ci%3ELaboratoire%3C/i%3E%3Cbr%3E%3Cstrong%3E%3Cb%3ETest%20RT-PCR%20%3A%20%3C/b%3E%3C/strong%3EOUI%3Cbr%3E%3Cstrong%3E%3Cb%3ETest%20antig%C3%A9nique%20%3A%20%3C/b%3E%3C/strong%3ENON%3Cbr%3E%3Cstrong%3E%3Cb%3EModalit%C3%A9s%20de%20pr%C3%A9l%C3%A8vement%20%3A%20%3C/b%3E%3C/strong%3ESur%20place%3Cbr%3E%3Cstrong%3E%3Cb%3EPublic%20%3A%20%3C/b%3E%3C/strong%3EPatients%20pour%20des%20bilans%20pr%C3%A9-op%C3%A9ratoire%3Cbr%3E%3Cstrong%3E%3Cb%3EAcc%C3%A8s%20%3A%20%3C/b%3E%3C/strong%3ESans%20rendez-vous%3Cbr%3E%3Ch5%3E%3Cb%3EHoraire%20%3A%20%3C/b%3E%3C/h5%3EAppeler%20le%20laboratoire%3Cbr%3E%3Cstrong%3E%3Cb%3EHoraire%20personnes%20prioritaires%20%3A%20%3C/b%3E%3C/strong%3E-%3Cbr%3E%3Cstrong%3E%3Cb%3ET%C3%A9l%C3%A9phone%20%3A%20%3C/b%3E%3C/strong%3E-%3Cbr%3E%3Cstrong%3E%3Cb%3ESite%20internet%20%3A%20%3C/b%3E%3C/strong%3E-%3C/div%3E%60%29%5B0%5D%3B%0A%20%20%20%20%20%20%20%20%20%20%20%20popup_d20ad0d2a76e4aa3bb5ad3e9557760ac.setContent%28html_6260602ed03c41b5bcf29291edb0a2c5%29%3B%0A%20%20%20%20%20%20%20%20%0A%0A%20%20%20%20%20%20%20%20marker_8b08f00b4727479fa8fe87c612d30d4a.bindPopup%28popup_d20ad0d2a76e4aa3bb5ad3e9557760ac%29%0A%20%20%20%20%20%20%20%20%3B%0A%0A%20%20%20%20%20%20%20%20%0A%20%20%20%20%0A%20%20%20%20%0A%20%20%20%20%20%20%20%20%20%20%20%20marker_8b08f00b4727479fa8fe87c612d30d4a.bindTooltip%28%0A%20%20%20%20%20%20%20%20%20%20%20%20%20%20%20%20%60%3Cdiv%3E%0A%20%20%20%20%20%20%20%20%20%20%20%20%20%20%20%20%20%20%20%20%20%3Cstrong%3E22%20Rue%20de%20la%20R%C3%A9publique%2030500%20Saint-Ambroix%3C/strong%3E%0A%20%20%20%20%20%20%20%20%20%20%20%20%20%20%20%20%20%3C/div%3E%60%2C%0A%20%20%20%20%20%20%20%20%20%20%20%20%20%20%20%20%7B%22sticky%22%3A%20true%7D%0A%20%20%20%20%20%20%20%20%20%20%20%20%29%3B%0A%20%20%20%20%20%20%20%20%0A%20%20%20%20%0A%20%20%20%20%20%20%20%20%20%20%20%20var%20marker_771cb18ba4d14f74a52ac856569ace86%20%3D%20L.marker%28%0A%20%20%20%20%20%20%20%20%20%20%20%20%20%20%20%20%5B44.12643%2C%204.079213%5D%2C%0A%20%20%20%20%20%20%20%20%20%20%20%20%20%20%20%20%7B%7D%0A%20%20%20%20%20%20%20%20%20%20%20%20%29.addTo%28map_b4760f99a41d472a852e90660ac9673f%29%3B%0A%20%20%20%20%20%20%20%20%0A%20%20%20%20%0A%20%20%20%20%20%20%20%20%20%20%20%20var%20icon_151c704cb61a47c5b6ec4c6124aead75%20%3D%20L.AwesomeMarkers.icon%28%0A%20%20%20%20%20%20%20%20%20%20%20%20%20%20%20%20%7B%22extraClasses%22%3A%20%22fa-rotate-0%22%2C%20%22icon%22%3A%20%22info-sign%22%2C%20%22iconColor%22%3A%20%22white%22%2C%20%22markerColor%22%3A%20%22red%22%2C%20%22prefix%22%3A%20%22glyphicon%22%7D%0A%20%20%20%20%20%20%20%20%20%20%20%20%29%3B%0A%20%20%20%20%20%20%20%20%20%20%20%20marker_771cb18ba4d14f74a52ac856569ace86.setIcon%28icon_151c704cb61a47c5b6ec4c6124aead75%29%3B%0A%20%20%20%20%20%20%20%20%0A%20%20%20%20%0A%20%20%20%20%20%20%20%20var%20popup_3ff0425c8cdc495ab27760390cbe3d4a%20%3D%20L.popup%28%7B%22maxWidth%22%3A%20500%7D%29%3B%0A%0A%20%20%20%20%20%20%20%20%0A%20%20%20%20%20%20%20%20%20%20%20%20var%20html_6b9365b7bcdf4e6ea2188d8a6bce461d%20%3D%20%24%28%60%3Cdiv%20id%3D%22html_6b9365b7bcdf4e6ea2188d8a6bce461d%22%20style%3D%22width%3A%20100.0%25%3B%20height%3A%20100.0%25%3B%22%3E%3Ch4%3E%3Cb%3E%3Cp%20style%3D%22text-align%3Acenter%3B%22%3ELBM%20LABOSUD%20ALES%20MARTYRS%3C/p%3E%3C/b%3E%3C/h4%3E%3Cbr%3E%3Ch5%3E%3Cb%3EAdresse%20%3A%20%3C/b%3E%3C/h5%3E12%20Place%20des%20Martyrs%20de%20la%20Resistance%2030100%20Al%C3%A8s%3Cbr%3E%3Ci%3ELaboratoire%3C/i%3E%3Cbr%3E%3Cstrong%3E%3Cb%3ETest%20RT-PCR%20%3A%20%3C/b%3E%3C/strong%3EOUI%3Cbr%3E%3Cstrong%3E%3Cb%3ETest%20antig%C3%A9nique%20%3A%20%3C/b%3E%3C/strong%3ENON%3Cbr%3E%3Cstrong%3E%3Cb%3EModalit%C3%A9s%20de%20pr%C3%A9l%C3%A8vement%20%3A%20%3C/b%3E%3C/strong%3ESur%20place%3Cbr%3E%3Cstrong%3E%3Cb%3EPublic%20%3A%20%3C/b%3E%3C/strong%3EPatients%20pour%20des%20bilans%20pr%C3%A9-op%C3%A9ratoire%3Cbr%3E%3Cstrong%3E%3Cb%3EAcc%C3%A8s%20%3A%20%3C/b%3E%3C/strong%3ESans%20rendez-vous%3Cbr%3E%3Ch5%3E%3Cb%3EHoraire%20%3A%20%3C/b%3E%3C/h5%3EAppeler%20le%20laboratoire%3Cbr%3E%3Cstrong%3E%3Cb%3EHoraire%20personnes%20prioritaires%20%3A%20%3C/b%3E%3C/strong%3E-%3Cbr%3E%3Cstrong%3E%3Cb%3ET%C3%A9l%C3%A9phone%20%3A%20%3C/b%3E%3C/strong%3E-%3Cbr%3E%3Cstrong%3E%3Cb%3ESite%20internet%20%3A%20%3C/b%3E%3C/strong%3E-%3C/div%3E%60%29%5B0%5D%3B%0A%20%20%20%20%20%20%20%20%20%20%20%20popup_3ff0425c8cdc495ab27760390cbe3d4a.setContent%28html_6b9365b7bcdf4e6ea2188d8a6bce461d%29%3B%0A%20%20%20%20%20%20%20%20%0A%0A%20%20%20%20%20%20%20%20marker_771cb18ba4d14f74a52ac856569ace86.bindPopup%28popup_3ff0425c8cdc495ab27760390cbe3d4a%29%0A%20%20%20%20%20%20%20%20%3B%0A%0A%20%20%20%20%20%20%20%20%0A%20%20%20%20%0A%20%20%20%20%0A%20%20%20%20%20%20%20%20%20%20%20%20marker_771cb18ba4d14f74a52ac856569ace86.bindTooltip%28%0A%20%20%20%20%20%20%20%20%20%20%20%20%20%20%20%20%60%3Cdiv%3E%0A%20%20%20%20%20%20%20%20%20%20%20%20%20%20%20%20%20%20%20%20%20%3Cstrong%3E12%20Place%20des%20Martyrs%20de%20la%20Resistance%2030100%20Al%C3%A8s%3C/strong%3E%0A%20%20%20%20%20%20%20%20%20%20%20%20%20%20%20%20%20%3C/div%3E%60%2C%0A%20%20%20%20%20%20%20%20%20%20%20%20%20%20%20%20%7B%22sticky%22%3A%20true%7D%0A%20%20%20%20%20%20%20%20%20%20%20%20%29%3B%0A%20%20%20%20%20%20%20%20%0A%20%20%20%20%0A%20%20%20%20%20%20%20%20%20%20%20%20var%20marker_729031be4f39435eb73c6f5200ab4932%20%3D%20L.marker%28%0A%20%20%20%20%20%20%20%20%20%20%20%20%20%20%20%20%5B44.210502%2C%204.031665%5D%2C%0A%20%20%20%20%20%20%20%20%20%20%20%20%20%20%20%20%7B%7D%0A%20%20%20%20%20%20%20%20%20%20%20%20%29.addTo%28map_b4760f99a41d472a852e90660ac9673f%29%3B%0A%20%20%20%20%20%20%20%20%0A%20%20%20%20%0A%20%20%20%20%20%20%20%20%20%20%20%20var%20icon_04c573f57d084171b852b0ae8382ed61%20%3D%20L.AwesomeMarkers.icon%28%0A%20%20%20%20%20%20%20%20%20%20%20%20%20%20%20%20%7B%22extraClasses%22%3A%20%22fa-rotate-0%22%2C%20%22icon%22%3A%20%22info-sign%22%2C%20%22iconColor%22%3A%20%22white%22%2C%20%22markerColor%22%3A%20%22red%22%2C%20%22prefix%22%3A%20%22glyphicon%22%7D%0A%20%20%20%20%20%20%20%20%20%20%20%20%29%3B%0A%20%20%20%20%20%20%20%20%20%20%20%20marker_729031be4f39435eb73c6f5200ab4932.setIcon%28icon_04c573f57d084171b852b0ae8382ed61%29%3B%0A%20%20%20%20%20%20%20%20%0A%20%20%20%20%0A%20%20%20%20%20%20%20%20var%20popup_fcc571b86ce8410fba18325a8354b027%20%3D%20L.popup%28%7B%22maxWidth%22%3A%20500%7D%29%3B%0A%0A%20%20%20%20%20%20%20%20%0A%20%20%20%20%20%20%20%20%20%20%20%20var%20html_80832c6f6eee460c9e6506b00a54f06e%20%3D%20%24%28%60%3Cdiv%20id%3D%22html_80832c6f6eee460c9e6506b00a54f06e%22%20style%3D%22width%3A%20100.0%25%3B%20height%3A%20100.0%25%3B%22%3E%3Ch4%3E%3Cb%3E%3Cp%20style%3D%22text-align%3Acenter%3B%22%3ELBM%20LABOSUD%20LA%20GRAND%20COMBE%3C/p%3E%3C/b%3E%3C/h4%3E%3Cbr%3E%3Ch5%3E%3Cb%3EAdresse%20%3A%20%3C/b%3E%3C/h5%3E12%20Rue%20de%20la%20Cl%C3%A8de%2030110%20La%20Grand-Combe%3Cbr%3E%3Ci%3ELaboratoire%3C/i%3E%3Cbr%3E%3Cstrong%3E%3Cb%3ETest%20RT-PCR%20%3A%20%3C/b%3E%3C/strong%3EOUI%3Cbr%3E%3Cstrong%3E%3Cb%3ETest%20antig%C3%A9nique%20%3A%20%3C/b%3E%3C/strong%3ENON%3Cbr%3E%3Cstrong%3E%3Cb%3EModalit%C3%A9s%20de%20pr%C3%A9l%C3%A8vement%20%3A%20%3C/b%3E%3C/strong%3ESur%20place%3Cbr%3E%3Cstrong%3E%3Cb%3EPublic%20%3A%20%3C/b%3E%3C/strong%3EPatients%20pour%20des%20bilans%20pr%C3%A9-op%C3%A9ratoire%3Cbr%3E%3Cstrong%3E%3Cb%3EAcc%C3%A8s%20%3A%20%3C/b%3E%3C/strong%3ESans%20rendez-vous%3Cbr%3E%3Ch5%3E%3Cb%3EHoraire%20%3A%20%3C/b%3E%3C/h5%3EAppeler%20le%20laboratoire%3Cbr%3E%3Cstrong%3E%3Cb%3EHoraire%20personnes%20prioritaires%20%3A%20%3C/b%3E%3C/strong%3E-%3Cbr%3E%3Cstrong%3E%3Cb%3ET%C3%A9l%C3%A9phone%20%3A%20%3C/b%3E%3C/strong%3E-%3Cbr%3E%3Cstrong%3E%3Cb%3ESite%20internet%20%3A%20%3C/b%3E%3C/strong%3E-%3C/div%3E%60%29%5B0%5D%3B%0A%20%20%20%20%20%20%20%20%20%20%20%20popup_fcc571b86ce8410fba18325a8354b027.setContent%28html_80832c6f6eee460c9e6506b00a54f06e%29%3B%0A%20%20%20%20%20%20%20%20%0A%0A%20%20%20%20%20%20%20%20marker_729031be4f39435eb73c6f5200ab4932.bindPopup%28popup_fcc571b86ce8410fba18325a8354b027%29%0A%20%20%20%20%20%20%20%20%3B%0A%0A%20%20%20%20%20%20%20%20%0A%20%20%20%20%0A%20%20%20%20%0A%20%20%20%20%20%20%20%20%20%20%20%20marker_729031be4f39435eb73c6f5200ab4932.bindTooltip%28%0A%20%20%20%20%20%20%20%20%20%20%20%20%20%20%20%20%60%3Cdiv%3E%0A%20%20%20%20%20%20%20%20%20%20%20%20%20%20%20%20%20%20%20%20%20%3Cstrong%3E12%20Rue%20de%20la%20Cl%C3%A8de%2030110%20La%20Grand-Combe%3C/strong%3E%0A%20%20%20%20%20%20%20%20%20%20%20%20%20%20%20%20%20%3C/div%3E%60%2C%0A%20%20%20%20%20%20%20%20%20%20%20%20%20%20%20%20%7B%22sticky%22%3A%20true%7D%0A%20%20%20%20%20%20%20%20%20%20%20%20%29%3B%0A%20%20%20%20%20%20%20%20%0A%20%20%20%20%0A%20%20%20%20%20%20%20%20%20%20%20%20var%20marker_dcf71a4df3824c96a3b735451e2dbf9c%20%3D%20L.marker%28%0A%20%20%20%20%20%20%20%20%20%20%20%20%20%20%20%20%5B44.0819299168966%2C%204.07755900016788%5D%2C%0A%20%20%20%20%20%20%20%20%20%20%20%20%20%20%20%20%7B%7D%0A%20%20%20%20%20%20%20%20%20%20%20%20%29.addTo%28map_b4760f99a41d472a852e90660ac9673f%29%3B%0A%20%20%20%20%20%20%20%20%0A%20%20%20%20%0A%20%20%20%20%20%20%20%20%20%20%20%20var%20icon_8df2a95d3f79467bbdfecd083a099476%20%3D%20L.AwesomeMarkers.icon%28%0A%20%20%20%20%20%20%20%20%20%20%20%20%20%20%20%20%7B%22extraClasses%22%3A%20%22fa-rotate-0%22%2C%20%22icon%22%3A%20%22info-sign%22%2C%20%22iconColor%22%3A%20%22white%22%2C%20%22markerColor%22%3A%20%22red%22%2C%20%22prefix%22%3A%20%22glyphicon%22%7D%0A%20%20%20%20%20%20%20%20%20%20%20%20%29%3B%0A%20%20%20%20%20%20%20%20%20%20%20%20marker_dcf71a4df3824c96a3b735451e2dbf9c.setIcon%28icon_8df2a95d3f79467bbdfecd083a099476%29%3B%0A%20%20%20%20%20%20%20%20%0A%20%20%20%20%0A%20%20%20%20%20%20%20%20var%20popup_3d3208df50c940d9a3b956628bcfee1c%20%3D%20L.popup%28%7B%22maxWidth%22%3A%20500%7D%29%3B%0A%0A%20%20%20%20%20%20%20%20%0A%20%20%20%20%20%20%20%20%20%20%20%20var%20html_9a6398d9e8654773b40924c202e5b43f%20%3D%20%24%28%60%3Cdiv%20id%3D%22html_9a6398d9e8654773b40924c202e5b43f%22%20style%3D%22width%3A%20100.0%25%3B%20height%3A%20100.0%25%3B%22%3E%3Ch4%3E%3Cb%3E%3Cp%20style%3D%22text-align%3Acenter%3B%22%3ELBM%20LABOSUD%20SAINT-CHRISTOL-LES-ALES%3C/p%3E%3C/b%3E%3C/h4%3E%3Cbr%3E%3Ch5%3E%3Cb%3EAdresse%20%3A%20%3C/b%3E%3C/h5%3E218%20Avenue%20Jean%20Moulin%2030380%20Saint%20Christol%20les%20Al%C3%A8s%3Cbr%3E%3Ci%3ELaboratoire%3C/i%3E%3Cbr%3E%3Cstrong%3E%3Cb%3ETest%20RT-PCR%20%3A%20%3C/b%3E%3C/strong%3EOUI%3Cbr%3E%3Cstrong%3E%3Cb%3ETest%20antig%C3%A9nique%20%3A%20%3C/b%3E%3C/strong%3ENON%3Cbr%3E%3Cstrong%3E%3Cb%3EModalit%C3%A9s%20de%20pr%C3%A9l%C3%A8vement%20%3A%20%3C/b%3E%3C/strong%3ESur%20place%3Cbr%3E%3Cstrong%3E%3Cb%3EPublic%20%3A%20%3C/b%3E%3C/strong%3EPatients%20pour%20des%20bilans%20pr%C3%A9-op%C3%A9ratoire%3Cbr%3E%3Cstrong%3E%3Cb%3EAcc%C3%A8s%20%3A%20%3C/b%3E%3C/strong%3ESans%20rendez-vous%3Cbr%3E%3Ch5%3E%3Cb%3EHoraire%20%3A%20%3C/b%3E%3C/h5%3EAppeler%20le%20laboratoire%3Cbr%3E%3Cstrong%3E%3Cb%3EHoraire%20personnes%20prioritaires%20%3A%20%3C/b%3E%3C/strong%3E-%3Cbr%3E%3Cstrong%3E%3Cb%3ET%C3%A9l%C3%A9phone%20%3A%20%3C/b%3E%3C/strong%3E-%3Cbr%3E%3Cstrong%3E%3Cb%3ESite%20internet%20%3A%20%3C/b%3E%3C/strong%3E-%3C/div%3E%60%29%5B0%5D%3B%0A%20%20%20%20%20%20%20%20%20%20%20%20popup_3d3208df50c940d9a3b956628bcfee1c.setContent%28html_9a6398d9e8654773b40924c202e5b43f%29%3B%0A%20%20%20%20%20%20%20%20%0A%0A%20%20%20%20%20%20%20%20marker_dcf71a4df3824c96a3b735451e2dbf9c.bindPopup%28popup_3d3208df50c940d9a3b956628bcfee1c%29%0A%20%20%20%20%20%20%20%20%3B%0A%0A%20%20%20%20%20%20%20%20%0A%20%20%20%20%0A%20%20%20%20%0A%20%20%20%20%20%20%20%20%20%20%20%20marker_dcf71a4df3824c96a3b735451e2dbf9c.bindTooltip%28%0A%20%20%20%20%20%20%20%20%20%20%20%20%20%20%20%20%60%3Cdiv%3E%0A%20%20%20%20%20%20%20%20%20%20%20%20%20%20%20%20%20%20%20%20%20%3Cstrong%3E218%20Avenue%20Jean%20Moulin%2030380%20Saint%20Christol%20les%20Al%C3%A8s%3C/strong%3E%0A%20%20%20%20%20%20%20%20%20%20%20%20%20%20%20%20%20%3C/div%3E%60%2C%0A%20%20%20%20%20%20%20%20%20%20%20%20%20%20%20%20%7B%22sticky%22%3A%20true%7D%0A%20%20%20%20%20%20%20%20%20%20%20%20%29%3B%0A%20%20%20%20%20%20%20%20%0A%20%20%20%20%0A%20%20%20%20%20%20%20%20%20%20%20%20var%20marker_bcf98a12241c44aab541f6fe4b5aa5ae%20%3D%20L.marker%28%0A%20%20%20%20%20%20%20%20%20%20%20%20%20%20%20%20%5B44.0544579067974%2C%203.98453729701864%5D%2C%0A%20%20%20%20%20%20%20%20%20%20%20%20%20%20%20%20%7B%7D%0A%20%20%20%20%20%20%20%20%20%20%20%20%29.addTo%28map_b4760f99a41d472a852e90660ac9673f%29%3B%0A%20%20%20%20%20%20%20%20%0A%20%20%20%20%0A%20%20%20%20%20%20%20%20%20%20%20%20var%20icon_ade8ea8948744edd95e93713a252ecde%20%3D%20L.AwesomeMarkers.icon%28%0A%20%20%20%20%20%20%20%20%20%20%20%20%20%20%20%20%7B%22extraClasses%22%3A%20%22fa-rotate-0%22%2C%20%22icon%22%3A%20%22info-sign%22%2C%20%22iconColor%22%3A%20%22white%22%2C%20%22markerColor%22%3A%20%22red%22%2C%20%22prefix%22%3A%20%22glyphicon%22%7D%0A%20%20%20%20%20%20%20%20%20%20%20%20%29%3B%0A%20%20%20%20%20%20%20%20%20%20%20%20marker_bcf98a12241c44aab541f6fe4b5aa5ae.setIcon%28icon_ade8ea8948744edd95e93713a252ecde%29%3B%0A%20%20%20%20%20%20%20%20%0A%20%20%20%20%0A%20%20%20%20%20%20%20%20var%20popup_aefd6b3b5f2e4055b51c592babb8b56a%20%3D%20L.popup%28%7B%22maxWidth%22%3A%20500%7D%29%3B%0A%0A%20%20%20%20%20%20%20%20%0A%20%20%20%20%20%20%20%20%20%20%20%20var%20html_ec5ecd4482d246329b2f80a141ffa274%20%3D%20%24%28%60%3Cdiv%20id%3D%22html_ec5ecd4482d246329b2f80a141ffa274%22%20style%3D%22width%3A%20100.0%25%3B%20height%3A%20100.0%25%3B%22%3E%3Ch4%3E%3Cb%3E%3Cp%20style%3D%22text-align%3Acenter%3B%22%3ELBM%20LABOSUD%20ANDUZE%3C/p%3E%3C/b%3E%3C/h4%3E%3Cbr%3E%3Ch5%3E%3Cb%3EAdresse%20%3A%20%3C/b%3E%3C/h5%3E6%20Boulevard%20Jean%20Jaur%C3%A8s%2030140%20Anduze%3Cbr%3E%3Ci%3ELaboratoire%3C/i%3E%3Cbr%3E%3Cstrong%3E%3Cb%3ETest%20RT-PCR%20%3A%20%3C/b%3E%3C/strong%3EOUI%3Cbr%3E%3Cstrong%3E%3Cb%3ETest%20antig%C3%A9nique%20%3A%20%3C/b%3E%3C/strong%3ENON%3Cbr%3E%3Cstrong%3E%3Cb%3EModalit%C3%A9s%20de%20pr%C3%A9l%C3%A8vement%20%3A%20%3C/b%3E%3C/strong%3ESur%20place%3Cbr%3E%3Cstrong%3E%3Cb%3EPublic%20%3A%20%3C/b%3E%3C/strong%3EPatients%20pour%20des%20bilans%20pr%C3%A9-op%C3%A9ratoire%3Cbr%3E%3Cstrong%3E%3Cb%3EAcc%C3%A8s%20%3A%20%3C/b%3E%3C/strong%3ESans%20rendez-vous%3Cbr%3E%3Ch5%3E%3Cb%3EHoraire%20%3A%20%3C/b%3E%3C/h5%3EAppeler%20le%20laboratoire%3Cbr%3E%3Cstrong%3E%3Cb%3EHoraire%20personnes%20prioritaires%20%3A%20%3C/b%3E%3C/strong%3E-%3Cbr%3E%3Cstrong%3E%3Cb%3ET%C3%A9l%C3%A9phone%20%3A%20%3C/b%3E%3C/strong%3E-%3Cbr%3E%3Cstrong%3E%3Cb%3ESite%20internet%20%3A%20%3C/b%3E%3C/strong%3E-%3C/div%3E%60%29%5B0%5D%3B%0A%20%20%20%20%20%20%20%20%20%20%20%20popup_aefd6b3b5f2e4055b51c592babb8b56a.setContent%28html_ec5ecd4482d246329b2f80a141ffa274%29%3B%0A%20%20%20%20%20%20%20%20%0A%0A%20%20%20%20%20%20%20%20marker_bcf98a12241c44aab541f6fe4b5aa5ae.bindPopup%28popup_aefd6b3b5f2e4055b51c592babb8b56a%29%0A%20%20%20%20%20%20%20%20%3B%0A%0A%20%20%20%20%20%20%20%20%0A%20%20%20%20%0A%20%20%20%20%0A%20%20%20%20%20%20%20%20%20%20%20%20marker_bcf98a12241c44aab541f6fe4b5aa5ae.bindTooltip%28%0A%20%20%20%20%20%20%20%20%20%20%20%20%20%20%20%20%60%3Cdiv%3E%0A%20%20%20%20%20%20%20%20%20%20%20%20%20%20%20%20%20%20%20%20%20%3Cstrong%3E6%20Boulevard%20Jean%20Jaur%C3%A8s%2030140%20Anduze%3C/strong%3E%0A%20%20%20%20%20%20%20%20%20%20%20%20%20%20%20%20%20%3C/div%3E%60%2C%0A%20%20%20%20%20%20%20%20%20%20%20%20%20%20%20%20%7B%22sticky%22%3A%20true%7D%0A%20%20%20%20%20%20%20%20%20%20%20%20%29%3B%0A%20%20%20%20%20%20%20%20%0A%20%20%20%20%0A%20%20%20%20%20%20%20%20%20%20%20%20var%20marker_119d13234bc741d395a988e762e7c94e%20%3D%20L.marker%28%0A%20%20%20%20%20%20%20%20%20%20%20%20%20%20%20%20%5B43.603631%2C%203.913143%5D%2C%0A%20%20%20%20%20%20%20%20%20%20%20%20%20%20%20%20%7B%7D%0A%20%20%20%20%20%20%20%20%20%20%20%20%29.addTo%28map_b4760f99a41d472a852e90660ac9673f%29%3B%0A%20%20%20%20%20%20%20%20%0A%20%20%20%20%0A%20%20%20%20%20%20%20%20%20%20%20%20var%20icon_cf0db5f6f4e44a978ebc4d8e97a697e3%20%3D%20L.AwesomeMarkers.icon%28%0A%20%20%20%20%20%20%20%20%20%20%20%20%20%20%20%20%7B%22extraClasses%22%3A%20%22fa-rotate-0%22%2C%20%22icon%22%3A%20%22info-sign%22%2C%20%22iconColor%22%3A%20%22white%22%2C%20%22markerColor%22%3A%20%22red%22%2C%20%22prefix%22%3A%20%22glyphicon%22%7D%0A%20%20%20%20%20%20%20%20%20%20%20%20%29%3B%0A%20%20%20%20%20%20%20%20%20%20%20%20marker_119d13234bc741d395a988e762e7c94e.setIcon%28icon_cf0db5f6f4e44a978ebc4d8e97a697e3%29%3B%0A%20%20%20%20%20%20%20%20%0A%20%20%20%20%0A%20%20%20%20%20%20%20%20var%20popup_55ab4905acbf42be8f3a3c938f68df69%20%3D%20L.popup%28%7B%22maxWidth%22%3A%20500%7D%29%3B%0A%0A%20%20%20%20%20%20%20%20%0A%20%20%20%20%20%20%20%20%20%20%20%20var%20html_6484d5dc597a445ea3a49b87fc5ff8bd%20%3D%20%24%28%60%3Cdiv%20id%3D%22html_6484d5dc597a445ea3a49b87fc5ff8bd%22%20style%3D%22width%3A%20100.0%25%3B%20height%3A%20100.0%25%3B%22%3E%3Ch4%3E%3Cb%3E%3Cp%20style%3D%22text-align%3Acenter%3B%22%3ELBM%20LABOSUD%20MONTPELLIER%20CLINIQUE%20DU%20MILLENAIRE%3C/p%3E%3C/b%3E%3C/h4%3E%3Cbr%3E%3Ch5%3E%3Cb%3EAdresse%20%3A%20%3C/b%3E%3C/h5%3EBoulevard%20P%C3%A9n%C3%A9lope%2034000%20Montpellier%3Cbr%3E%3Ci%3ELaboratoire%3C/i%3E%3Cbr%3E%3Cstrong%3E%3Cb%3ETest%20RT-PCR%20%3A%20%3C/b%3E%3C/strong%3EOUI%3Cbr%3E%3Cstrong%3E%3Cb%3ETest%20antig%C3%A9nique%20%3A%20%3C/b%3E%3C/strong%3ENON%3Cbr%3E%3Cstrong%3E%3Cb%3EModalit%C3%A9s%20de%20pr%C3%A9l%C3%A8vement%20%3A%20%3C/b%3E%3C/strong%3ESur%20place%3Cbr%3E%3Cstrong%3E%3Cb%3EPublic%20%3A%20%3C/b%3E%3C/strong%3EPatients%20pour%20des%20bilans%20pr%C3%A9-op%C3%A9ratoire%3Cbr%3E%3Cstrong%3E%3Cb%3EAcc%C3%A8s%20%3A%20%3C/b%3E%3C/strong%3ESur%20rendez-vous%20uniquement%3Cbr%3E%3Ch5%3E%3Cb%3EHoraire%20%3A%20%3C/b%3E%3C/h5%3EAppeler%20le%20laboratoire%3Cbr%3E%3Cstrong%3E%3Cb%3EHoraire%20personnes%20prioritaires%20%3A%20%3C/b%3E%3C/strong%3E-%3Cbr%3E%3Cstrong%3E%3Cb%3ET%C3%A9l%C3%A9phone%20%3A%20%3C/b%3E%3C/strong%3E04%2099%2053%2063%2063%3Cbr%3E%3Cstrong%3E%3Cb%3ESite%20internet%20%3A%20%3C/b%3E%3C/strong%3E-%3C/div%3E%60%29%5B0%5D%3B%0A%20%20%20%20%20%20%20%20%20%20%20%20popup_55ab4905acbf42be8f3a3c938f68df69.setContent%28html_6484d5dc597a445ea3a49b87fc5ff8bd%29%3B%0A%20%20%20%20%20%20%20%20%0A%0A%20%20%20%20%20%20%20%20marker_119d13234bc741d395a988e762e7c94e.bindPopup%28popup_55ab4905acbf42be8f3a3c938f68df69%29%0A%20%20%20%20%20%20%20%20%3B%0A%0A%20%20%20%20%20%20%20%20%0A%20%20%20%20%0A%20%20%20%20%0A%20%20%20%20%20%20%20%20%20%20%20%20marker_119d13234bc741d395a988e762e7c94e.bindTooltip%28%0A%20%20%20%20%20%20%20%20%20%20%20%20%20%20%20%20%60%3Cdiv%3E%0A%20%20%20%20%20%20%20%20%20%20%20%20%20%20%20%20%20%20%20%20%20%3Cstrong%3EBoulevard%20P%C3%A9n%C3%A9lope%2034000%20Montpellier%3C/strong%3E%0A%20%20%20%20%20%20%20%20%20%20%20%20%20%20%20%20%20%3C/div%3E%60%2C%0A%20%20%20%20%20%20%20%20%20%20%20%20%20%20%20%20%7B%22sticky%22%3A%20true%7D%0A%20%20%20%20%20%20%20%20%20%20%20%20%29%3B%0A%20%20%20%20%20%20%20%20%0A%20%20%20%20%0A%20%20%20%20%20%20%20%20%20%20%20%20var%20marker_3206d4bf8fc4474dbafbce5a433343a2%20%3D%20L.marker%28%0A%20%20%20%20%20%20%20%20%20%20%20%20%20%20%20%20%5B43.61534%2C%203.840069%5D%2C%0A%20%20%20%20%20%20%20%20%20%20%20%20%20%20%20%20%7B%7D%0A%20%20%20%20%20%20%20%20%20%20%20%20%29.addTo%28map_b4760f99a41d472a852e90660ac9673f%29%3B%0A%20%20%20%20%20%20%20%20%0A%20%20%20%20%0A%20%20%20%20%20%20%20%20%20%20%20%20var%20icon_371043f9aafb4a77a7331fe34c46b1fc%20%3D%20L.AwesomeMarkers.icon%28%0A%20%20%20%20%20%20%20%20%20%20%20%20%20%20%20%20%7B%22extraClasses%22%3A%20%22fa-rotate-0%22%2C%20%22icon%22%3A%20%22info-sign%22%2C%20%22iconColor%22%3A%20%22white%22%2C%20%22markerColor%22%3A%20%22red%22%2C%20%22prefix%22%3A%20%22glyphicon%22%7D%0A%20%20%20%20%20%20%20%20%20%20%20%20%29%3B%0A%20%20%20%20%20%20%20%20%20%20%20%20marker_3206d4bf8fc4474dbafbce5a433343a2.setIcon%28icon_371043f9aafb4a77a7331fe34c46b1fc%29%3B%0A%20%20%20%20%20%20%20%20%0A%20%20%20%20%0A%20%20%20%20%20%20%20%20var%20popup_71421c8a1e9849c8b8b4c4f8e70f6e44%20%3D%20L.popup%28%7B%22maxWidth%22%3A%20500%7D%29%3B%0A%0A%20%20%20%20%20%20%20%20%0A%20%20%20%20%20%20%20%20%20%20%20%20var%20html_ffa1b2cdf0b242768a9e861e1f99f5f7%20%3D%20%24%28%60%3Cdiv%20id%3D%22html_ffa1b2cdf0b242768a9e861e1f99f5f7%22%20style%3D%22width%3A%20100.0%25%3B%20height%3A%20100.0%25%3B%22%3E%3Ch4%3E%3Cb%3E%3Cp%20style%3D%22text-align%3Acenter%3B%22%3ELBM%20LABOSUD%20MONTPELLIER%20ALCO%3C/p%3E%3C/b%3E%3C/h4%3E%3Cbr%3E%3Ch5%3E%3Cb%3EAdresse%20%3A%20%3C/b%3E%3C/h5%3E141%20Avenue%20Paul%20Bringuier%2034080%20Montpellier%3Cbr%3E%3Ci%3ELaboratoire%3C/i%3E%3Cbr%3E%3Cstrong%3E%3Cb%3ETest%20RT-PCR%20%3A%20%3C/b%3E%3C/strong%3EOUI%3Cbr%3E%3Cstrong%3E%3Cb%3ETest%20antig%C3%A9nique%20%3A%20%3C/b%3E%3C/strong%3ENON%3Cbr%3E%3Cstrong%3E%3Cb%3EModalit%C3%A9s%20de%20pr%C3%A9l%C3%A8vement%20%3A%20%3C/b%3E%3C/strong%3ESur%20place%3Cbr%3E%3Cstrong%3E%3Cb%3EPublic%20%3A%20%3C/b%3E%3C/strong%3EPatients%20pour%20des%20bilans%20pr%C3%A9-op%C3%A9ratoire%3Cbr%3E%3Cstrong%3E%3Cb%3EAcc%C3%A8s%20%3A%20%3C/b%3E%3C/strong%3ESur%20rendez-vous%20uniquement%3Cbr%3E%3Ch5%3E%3Cb%3EHoraire%20%3A%20%3C/b%3E%3C/h5%3EAppeler%20le%20laboratoire%3Cbr%3E%3Cstrong%3E%3Cb%3EHoraire%20personnes%20prioritaires%20%3A%20%3C/b%3E%3C/strong%3E-%3Cbr%3E%3Cstrong%3E%3Cb%3ET%C3%A9l%C3%A9phone%20%3A%20%3C/b%3E%3C/strong%3E04%2067%2045%2045%2018%3Cbr%3E%3Cstrong%3E%3Cb%3ESite%20internet%20%3A%20%3C/b%3E%3C/strong%3E-%3C/div%3E%60%29%5B0%5D%3B%0A%20%20%20%20%20%20%20%20%20%20%20%20popup_71421c8a1e9849c8b8b4c4f8e70f6e44.setContent%28html_ffa1b2cdf0b242768a9e861e1f99f5f7%29%3B%0A%20%20%20%20%20%20%20%20%0A%0A%20%20%20%20%20%20%20%20marker_3206d4bf8fc4474dbafbce5a433343a2.bindPopup%28popup_71421c8a1e9849c8b8b4c4f8e70f6e44%29%0A%20%20%20%20%20%20%20%20%3B%0A%0A%20%20%20%20%20%20%20%20%0A%20%20%20%20%0A%20%20%20%20%0A%20%20%20%20%20%20%20%20%20%20%20%20marker_3206d4bf8fc4474dbafbce5a433343a2.bindTooltip%28%0A%20%20%20%20%20%20%20%20%20%20%20%20%20%20%20%20%60%3Cdiv%3E%0A%20%20%20%20%20%20%20%20%20%20%20%20%20%20%20%20%20%20%20%20%20%3Cstrong%3E141%20Avenue%20Paul%20Bringuier%2034080%20Montpellier%3C/strong%3E%0A%20%20%20%20%20%20%20%20%20%20%20%20%20%20%20%20%20%3C/div%3E%60%2C%0A%20%20%20%20%20%20%20%20%20%20%20%20%20%20%20%20%7B%22sticky%22%3A%20true%7D%0A%20%20%20%20%20%20%20%20%20%20%20%20%29%3B%0A%20%20%20%20%20%20%20%20%0A%20%20%20%20%0A%20%20%20%20%20%20%20%20%20%20%20%20var%20marker_17d5118d0b144c488b6ed4813c6fea45%20%3D%20L.marker%28%0A%20%20%20%20%20%20%20%20%20%20%20%20%20%20%20%20%5B43.613119%2C%203.852201%5D%2C%0A%20%20%20%20%20%20%20%20%20%20%20%20%20%20%20%20%7B%7D%0A%20%20%20%20%20%20%20%20%20%20%20%20%29.addTo%28map_b4760f99a41d472a852e90660ac9673f%29%3B%0A%20%20%20%20%20%20%20%20%0A%20%20%20%20%0A%20%20%20%20%20%20%20%20%20%20%20%20var%20icon_c5cee51b09d04c15bf2be38ce5607a7b%20%3D%20L.AwesomeMarkers.icon%28%0A%20%20%20%20%20%20%20%20%20%20%20%20%20%20%20%20%7B%22extraClasses%22%3A%20%22fa-rotate-0%22%2C%20%22icon%22%3A%20%22info-sign%22%2C%20%22iconColor%22%3A%20%22white%22%2C%20%22markerColor%22%3A%20%22red%22%2C%20%22prefix%22%3A%20%22glyphicon%22%7D%0A%20%20%20%20%20%20%20%20%20%20%20%20%29%3B%0A%20%20%20%20%20%20%20%20%20%20%20%20marker_17d5118d0b144c488b6ed4813c6fea45.setIcon%28icon_c5cee51b09d04c15bf2be38ce5607a7b%29%3B%0A%20%20%20%20%20%20%20%20%0A%20%20%20%20%0A%20%20%20%20%20%20%20%20var%20popup_bf6ca8f0601041428a045d86157dae00%20%3D%20L.popup%28%7B%22maxWidth%22%3A%20500%7D%29%3B%0A%0A%20%20%20%20%20%20%20%20%0A%20%20%20%20%20%20%20%20%20%20%20%20var%20html_6f6578ef0deb47839a9bec755ae403fa%20%3D%20%24%28%60%3Cdiv%20id%3D%22html_6f6578ef0deb47839a9bec755ae403fa%22%20style%3D%22width%3A%20100.0%25%3B%20height%3A%20100.0%25%3B%22%3E%3Ch4%3E%3Cb%3E%3Cp%20style%3D%22text-align%3Acenter%3B%22%3ELBM%20LABOSUD%20MONTPELLIER%20CLINIQUE%20CLEMENTVILLE%3C/p%3E%3C/b%3E%3C/h4%3E%3Cbr%3E%3Ch5%3E%3Cb%3EAdresse%20%3A%20%3C/b%3E%3C/h5%3E25%20Rue%20de%20Cl%C3%A9mentville%2034070%20Montpellier%3Cbr%3E%3Ci%3ELaboratoire%3C/i%3E%3Cbr%3E%3Cstrong%3E%3Cb%3ETest%20RT-PCR%20%3A%20%3C/b%3E%3C/strong%3EOUI%3Cbr%3E%3Cstrong%3E%3Cb%3ETest%20antig%C3%A9nique%20%3A%20%3C/b%3E%3C/strong%3ENON%3Cbr%3E%3Cstrong%3E%3Cb%3EModalit%C3%A9s%20de%20pr%C3%A9l%C3%A8vement%20%3A%20%3C/b%3E%3C/strong%3ESur%20place%3Cbr%3E%3Cstrong%3E%3Cb%3EPublic%20%3A%20%3C/b%3E%3C/strong%3EPatients%20pour%20des%20bilans%20pr%C3%A9-op%C3%A9ratoire%3Cbr%3E%3Cstrong%3E%3Cb%3EAcc%C3%A8s%20%3A%20%3C/b%3E%3C/strong%3ESur%20rendez-vous%20uniquement%3Cbr%3E%3Ch5%3E%3Cb%3EHoraire%20%3A%20%3C/b%3E%3C/h5%3EAppeler%20le%20laboratoire%3Cbr%3E%3Cstrong%3E%3Cb%3EHoraire%20personnes%20prioritaires%20%3A%20%3C/b%3E%3C/strong%3E-%3Cbr%3E%3Cstrong%3E%3Cb%3ET%C3%A9l%C3%A9phone%20%3A%20%3C/b%3E%3C/strong%3E04%2067%2092%2008%2037%3Cbr%3E%3Cstrong%3E%3Cb%3ESite%20internet%20%3A%20%3C/b%3E%3C/strong%3E-%3C/div%3E%60%29%5B0%5D%3B%0A%20%20%20%20%20%20%20%20%20%20%20%20popup_bf6ca8f0601041428a045d86157dae00.setContent%28html_6f6578ef0deb47839a9bec755ae403fa%29%3B%0A%20%20%20%20%20%20%20%20%0A%0A%20%20%20%20%20%20%20%20marker_17d5118d0b144c488b6ed4813c6fea45.bindPopup%28popup_bf6ca8f0601041428a045d86157dae00%29%0A%20%20%20%20%20%20%20%20%3B%0A%0A%20%20%20%20%20%20%20%20%0A%20%20%20%20%0A%20%20%20%20%0A%20%20%20%20%20%20%20%20%20%20%20%20marker_17d5118d0b144c488b6ed4813c6fea45.bindTooltip%28%0A%20%20%20%20%20%20%20%20%20%20%20%20%20%20%20%20%60%3Cdiv%3E%0A%20%20%20%20%20%20%20%20%20%20%20%20%20%20%20%20%20%20%20%20%20%3Cstrong%3E25%20Rue%20de%20Cl%C3%A9mentville%2034070%20Montpellier%3C/strong%3E%0A%20%20%20%20%20%20%20%20%20%20%20%20%20%20%20%20%20%3C/div%3E%60%2C%0A%20%20%20%20%20%20%20%20%20%20%20%20%20%20%20%20%7B%22sticky%22%3A%20true%7D%0A%20%20%20%20%20%20%20%20%20%20%20%20%29%3B%0A%20%20%20%20%20%20%20%20%0A%20%20%20%20%0A%20%20%20%20%20%20%20%20%20%20%20%20var%20marker_692291c7b64d49efabcc733c76de4ddb%20%3D%20L.marker%28%0A%20%20%20%20%20%20%20%20%20%20%20%20%20%20%20%20%5B43.583112%2C%203.861834%5D%2C%0A%20%20%20%20%20%20%20%20%20%20%20%20%20%20%20%20%7B%7D%0A%20%20%20%20%20%20%20%20%20%20%20%20%29.addTo%28map_b4760f99a41d472a852e90660ac9673f%29%3B%0A%20%20%20%20%20%20%20%20%0A%20%20%20%20%0A%20%20%20%20%20%20%20%20%20%20%20%20var%20icon_421a462b1800485ebdc2f7461dd9b207%20%3D%20L.AwesomeMarkers.icon%28%0A%20%20%20%20%20%20%20%20%20%20%20%20%20%20%20%20%7B%22extraClasses%22%3A%20%22fa-rotate-0%22%2C%20%22icon%22%3A%20%22info-sign%22%2C%20%22iconColor%22%3A%20%22white%22%2C%20%22markerColor%22%3A%20%22red%22%2C%20%22prefix%22%3A%20%22glyphicon%22%7D%0A%20%20%20%20%20%20%20%20%20%20%20%20%29%3B%0A%20%20%20%20%20%20%20%20%20%20%20%20marker_692291c7b64d49efabcc733c76de4ddb.setIcon%28icon_421a462b1800485ebdc2f7461dd9b207%29%3B%0A%20%20%20%20%20%20%20%20%0A%20%20%20%20%0A%20%20%20%20%20%20%20%20var%20popup_c979ebcf8a564da0b96df665d793f4b9%20%3D%20L.popup%28%7B%22maxWidth%22%3A%20500%7D%29%3B%0A%0A%20%20%20%20%20%20%20%20%0A%20%20%20%20%20%20%20%20%20%20%20%20var%20html_2219f3009f0f41098f8a1c32767711a5%20%3D%20%24%28%60%3Cdiv%20id%3D%22html_2219f3009f0f41098f8a1c32767711a5%22%20style%3D%22width%3A%20100.0%25%3B%20height%3A%20100.0%25%3B%22%3E%3Ch4%3E%3Cb%3E%3Cp%20style%3D%22text-align%3Acenter%3B%22%3ELBM%20LABOSUD%20MONTPELLIER%20CLINIQUE%20ST%20ROCH%3C/p%3E%3C/b%3E%3C/h4%3E%3Cbr%3E%3Ch5%3E%3Cb%3EAdresse%20%3A%20%3C/b%3E%3C/h5%3E550%20Avenue%20du%20Colonel%20Pavelet%2034070%20Montpellier%3Cbr%3E%3Ci%3ELaboratoire%3C/i%3E%3Cbr%3E%3Cstrong%3E%3Cb%3ETest%20RT-PCR%20%3A%20%3C/b%3E%3C/strong%3EOUI%3Cbr%3E%3Cstrong%3E%3Cb%3ETest%20antig%C3%A9nique%20%3A%20%3C/b%3E%3C/strong%3ENON%3Cbr%3E%3Cstrong%3E%3Cb%3EModalit%C3%A9s%20de%20pr%C3%A9l%C3%A8vement%20%3A%20%3C/b%3E%3C/strong%3ESur%20place%3Cbr%3E%3Cstrong%3E%3Cb%3EPublic%20%3A%20%3C/b%3E%3C/strong%3EPatients%20pour%20des%20bilans%20pr%C3%A9-op%C3%A9ratoire%3Cbr%3E%3Cstrong%3E%3Cb%3EAcc%C3%A8s%20%3A%20%3C/b%3E%3C/strong%3ESur%20rendez-vous%20uniquement%3Cbr%3E%3Ch5%3E%3Cb%3EHoraire%20%3A%20%3C/b%3E%3C/h5%3EAppeler%20le%20laboratoire%3Cbr%3E%3Cstrong%3E%3Cb%3EHoraire%20personnes%20prioritaires%20%3A%20%3C/b%3E%3C/strong%3E-%3Cbr%3E%3Cstrong%3E%3Cb%3ET%C3%A9l%C3%A9phone%20%3A%20%3C/b%3E%3C/strong%3E04%2067%2004%2038%2055%3Cbr%3E%3Cstrong%3E%3Cb%3ESite%20internet%20%3A%20%3C/b%3E%3C/strong%3E-%3C/div%3E%60%29%5B0%5D%3B%0A%20%20%20%20%20%20%20%20%20%20%20%20popup_c979ebcf8a564da0b96df665d793f4b9.setContent%28html_2219f3009f0f41098f8a1c32767711a5%29%3B%0A%20%20%20%20%20%20%20%20%0A%0A%20%20%20%20%20%20%20%20marker_692291c7b64d49efabcc733c76de4ddb.bindPopup%28popup_c979ebcf8a564da0b96df665d793f4b9%29%0A%20%20%20%20%20%20%20%20%3B%0A%0A%20%20%20%20%20%20%20%20%0A%20%20%20%20%0A%20%20%20%20%0A%20%20%20%20%20%20%20%20%20%20%20%20marker_692291c7b64d49efabcc733c76de4ddb.bindTooltip%28%0A%20%20%20%20%20%20%20%20%20%20%20%20%20%20%20%20%60%3Cdiv%3E%0A%20%20%20%20%20%20%20%20%20%20%20%20%20%20%20%20%20%20%20%20%20%3Cstrong%3E550%20Avenue%20du%20Colonel%20Pavelet%2034070%20Montpellier%3C/strong%3E%0A%20%20%20%20%20%20%20%20%20%20%20%20%20%20%20%20%20%3C/div%3E%60%2C%0A%20%20%20%20%20%20%20%20%20%20%20%20%20%20%20%20%7B%22sticky%22%3A%20true%7D%0A%20%20%20%20%20%20%20%20%20%20%20%20%29%3B%0A%20%20%20%20%20%20%20%20%0A%20%20%20%20%0A%20%20%20%20%20%20%20%20%20%20%20%20var%20marker_0820c16535c74e5c89ca091f3ecc1890%20%3D%20L.marker%28%0A%20%20%20%20%20%20%20%20%20%20%20%20%20%20%20%20%5B43.6637945808652%2C%204.12329208268337%5D%2C%0A%20%20%20%20%20%20%20%20%20%20%20%20%20%20%20%20%7B%7D%0A%20%20%20%20%20%20%20%20%20%20%20%20%29.addTo%28map_b4760f99a41d472a852e90660ac9673f%29%3B%0A%20%20%20%20%20%20%20%20%0A%20%20%20%20%0A%20%20%20%20%20%20%20%20%20%20%20%20var%20icon_2ad878c92c5049839ef368fa4f0aed3a%20%3D%20L.AwesomeMarkers.icon%28%0A%20%20%20%20%20%20%20%20%20%20%20%20%20%20%20%20%7B%22extraClasses%22%3A%20%22fa-rotate-0%22%2C%20%22icon%22%3A%20%22info-sign%22%2C%20%22iconColor%22%3A%20%22white%22%2C%20%22markerColor%22%3A%20%22red%22%2C%20%22prefix%22%3A%20%22glyphicon%22%7D%0A%20%20%20%20%20%20%20%20%20%20%20%20%29%3B%0A%20%20%20%20%20%20%20%20%20%20%20%20marker_0820c16535c74e5c89ca091f3ecc1890.setIcon%28icon_2ad878c92c5049839ef368fa4f0aed3a%29%3B%0A%20%20%20%20%20%20%20%20%0A%20%20%20%20%0A%20%20%20%20%20%20%20%20var%20popup_f78434c8d09348d5a1484b7a8ded76cc%20%3D%20L.popup%28%7B%22maxWidth%22%3A%20500%7D%29%3B%0A%0A%20%20%20%20%20%20%20%20%0A%20%20%20%20%20%20%20%20%20%20%20%20var%20html_b7eaab3a4b83430c9fd408a0155aad78%20%3D%20%24%28%60%3Cdiv%20id%3D%22html_b7eaab3a4b83430c9fd408a0155aad78%22%20style%3D%22width%3A%20100.0%25%3B%20height%3A%20100.0%25%3B%22%3E%3Ch4%3E%3Cb%3E%3Cp%20style%3D%22text-align%3Acenter%3B%22%3ELBM%20LABOSUD%20LUNEL%20VIA%20DOMITIA%3C/p%3E%3C/b%3E%3C/h4%3E%3Cbr%3E%3Ch5%3E%3Cb%3EAdresse%20%3A%20%3C/b%3E%3C/h5%3EClinique%20Via%20Domitia-%20Chemin%20des%20Alicantes-%20B%C3%A2timent%20B%20%2034400%20Lunel%3Cbr%3E%3Ci%3ELaboratoire%3C/i%3E%3Cbr%3E%3Cstrong%3E%3Cb%3ETest%20RT-PCR%20%3A%20%3C/b%3E%3C/strong%3EOUI%3Cbr%3E%3Cstrong%3E%3Cb%3ETest%20antig%C3%A9nique%20%3A%20%3C/b%3E%3C/strong%3ENON%3Cbr%3E%3Cstrong%3E%3Cb%3EModalit%C3%A9s%20de%20pr%C3%A9l%C3%A8vement%20%3A%20%3C/b%3E%3C/strong%3ESur%20place%3Cbr%3E%3Cstrong%3E%3Cb%3EPublic%20%3A%20%3C/b%3E%3C/strong%3EPatients%20pour%20des%20bilans%20pr%C3%A9-op%C3%A9ratoire%3Cbr%3E%3Cstrong%3E%3Cb%3EAcc%C3%A8s%20%3A%20%3C/b%3E%3C/strong%3ESur%20rendez-vous%20uniquement%3Cbr%3E%3Ch5%3E%3Cb%3EHoraire%20%3A%20%3C/b%3E%3C/h5%3EAppeler%20le%20laboratoire%3Cbr%3E%3Cstrong%3E%3Cb%3EHoraire%20personnes%20prioritaires%20%3A%20%3C/b%3E%3C/strong%3E-%3Cbr%3E%3Cstrong%3E%3Cb%3ET%C3%A9l%C3%A9phone%20%3A%20%3C/b%3E%3C/strong%3E04%2067%2071%2008%2040%3Cbr%3E%3Cstrong%3E%3Cb%3ESite%20internet%20%3A%20%3C/b%3E%3C/strong%3E-%3C/div%3E%60%29%5B0%5D%3B%0A%20%20%20%20%20%20%20%20%20%20%20%20popup_f78434c8d09348d5a1484b7a8ded76cc.setContent%28html_b7eaab3a4b83430c9fd408a0155aad78%29%3B%0A%20%20%20%20%20%20%20%20%0A%0A%20%20%20%20%20%20%20%20marker_0820c16535c74e5c89ca091f3ecc1890.bindPopup%28popup_f78434c8d09348d5a1484b7a8ded76cc%29%0A%20%20%20%20%20%20%20%20%3B%0A%0A%20%20%20%20%20%20%20%20%0A%20%20%20%20%0A%20%20%20%20%0A%20%20%20%20%20%20%20%20%20%20%20%20marker_0820c16535c74e5c89ca091f3ecc1890.bindTooltip%28%0A%20%20%20%20%20%20%20%20%20%20%20%20%20%20%20%20%60%3Cdiv%3E%0A%20%20%20%20%20%20%20%20%20%20%20%20%20%20%20%20%20%20%20%20%20%3Cstrong%3EClinique%20Via%20Domitia-%20Chemin%20des%20Alicantes-%20B%C3%A2timent%20B%20%2034400%20Lunel%3C/strong%3E%0A%20%20%20%20%20%20%20%20%20%20%20%20%20%20%20%20%20%3C/div%3E%60%2C%0A%20%20%20%20%20%20%20%20%20%20%20%20%20%20%20%20%7B%22sticky%22%3A%20true%7D%0A%20%20%20%20%20%20%20%20%20%20%20%20%29%3B%0A%20%20%20%20%20%20%20%20%0A%20%20%20%20%0A%20%20%20%20%20%20%20%20%20%20%20%20var%20marker_7be3f8a8eb0b42efa54833fbb153dba5%20%3D%20L.marker%28%0A%20%20%20%20%20%20%20%20%20%20%20%20%20%20%20%20%5B43.447904%2C%203.754946%5D%2C%0A%20%20%20%20%20%20%20%20%20%20%20%20%20%20%20%20%7B%7D%0A%20%20%20%20%20%20%20%20%20%20%20%20%29.addTo%28map_b4760f99a41d472a852e90660ac9673f%29%3B%0A%20%20%20%20%20%20%20%20%0A%20%20%20%20%0A%20%20%20%20%20%20%20%20%20%20%20%20var%20icon_a3c24704a259456ea64ecfe16c190db8%20%3D%20L.AwesomeMarkers.icon%28%0A%20%20%20%20%20%20%20%20%20%20%20%20%20%20%20%20%7B%22extraClasses%22%3A%20%22fa-rotate-0%22%2C%20%22icon%22%3A%20%22info-sign%22%2C%20%22iconColor%22%3A%20%22white%22%2C%20%22markerColor%22%3A%20%22red%22%2C%20%22prefix%22%3A%20%22glyphicon%22%7D%0A%20%20%20%20%20%20%20%20%20%20%20%20%29%3B%0A%20%20%20%20%20%20%20%20%20%20%20%20marker_7be3f8a8eb0b42efa54833fbb153dba5.setIcon%28icon_a3c24704a259456ea64ecfe16c190db8%29%3B%0A%20%20%20%20%20%20%20%20%0A%20%20%20%20%0A%20%20%20%20%20%20%20%20var%20popup_dc8e64f084a6472799c1f3683cb988f7%20%3D%20L.popup%28%7B%22maxWidth%22%3A%20500%7D%29%3B%0A%0A%20%20%20%20%20%20%20%20%0A%20%20%20%20%20%20%20%20%20%20%20%20var%20html_00985134da4b45218b578061bdc1de1a%20%3D%20%24%28%60%3Cdiv%20id%3D%22html_00985134da4b45218b578061bdc1de1a%22%20style%3D%22width%3A%20100.0%25%3B%20height%3A%20100.0%25%3B%22%3E%3Ch4%3E%3Cb%3E%3Cp%20style%3D%22text-align%3Acenter%3B%22%3ELBM%20LABOSUD%20FRONTIGNAN%20MISTRAL%3C/p%3E%3C/b%3E%3C/h4%3E%3Cbr%3E%3Ch5%3E%3Cb%3EAdresse%20%3A%20%3C/b%3E%3C/h5%3ERue%20Anatole%20France%2034110%20Frontignan%3Cbr%3E%3Ci%3ECentre%20de%20d%C3%A9pistage%20d%C3%A9di%C3%A9%3C/i%3E%3Cbr%3E%3Cstrong%3E%3Cb%3ETest%20RT-PCR%20%3A%20%3C/b%3E%3C/strong%3EOUI%3Cbr%3E%3Cstrong%3E%3Cb%3ETest%20antig%C3%A9nique%20%3A%20%3C/b%3E%3C/strong%3ENON%3Cbr%3E%3Cstrong%3E%3Cb%3EModalit%C3%A9s%20de%20pr%C3%A9l%C3%A8vement%20%3A%20%3C/b%3E%3C/strong%3ESur%20place%3Cbr%3E%3Cstrong%3E%3Cb%3EPublic%20%3A%20%3C/b%3E%3C/strong%3EPatients%20avec%20sympt%C3%B4mes/Cas%20contacts%20liste%20CPAM/Patients%20pour%20des%20bilans%20pr%C3%A9-op%C3%A9ratoire/Personnel%20soignant%3Cbr%3E%3Cstrong%3E%3Cb%3EAcc%C3%A8s%20%3A%20%3C/b%3E%3C/strong%3ESur%20rendez-vous%20uniquement%3Cbr%3E%3Ch5%3E%3Cb%3EHoraire%20%3A%20%3C/b%3E%3C/h5%3EAppeler%20le%20laboratoire%3Cbr%3E%3Cstrong%3E%3Cb%3EHoraire%20personnes%20prioritaires%20%3A%20%3C/b%3E%3C/strong%3E-%3Cbr%3E%3Cstrong%3E%3Cb%3ET%C3%A9l%C3%A9phone%20%3A%20%3C/b%3E%3C/strong%3E04%2067%2048%2036%2000%3Cbr%3E%3Cstrong%3E%3Cb%3ESite%20internet%20%3A%20%3C/b%3E%3C/strong%3E-%3C/div%3E%60%29%5B0%5D%3B%0A%20%20%20%20%20%20%20%20%20%20%20%20popup_dc8e64f084a6472799c1f3683cb988f7.setContent%28html_00985134da4b45218b578061bdc1de1a%29%3B%0A%20%20%20%20%20%20%20%20%0A%0A%20%20%20%20%20%20%20%20marker_7be3f8a8eb0b42efa54833fbb153dba5.bindPopup%28popup_dc8e64f084a6472799c1f3683cb988f7%29%0A%20%20%20%20%20%20%20%20%3B%0A%0A%20%20%20%20%20%20%20%20%0A%20%20%20%20%0A%20%20%20%20%0A%20%20%20%20%20%20%20%20%20%20%20%20marker_7be3f8a8eb0b42efa54833fbb153dba5.bindTooltip%28%0A%20%20%20%20%20%20%20%20%20%20%20%20%20%20%20%20%60%3Cdiv%3E%0A%20%20%20%20%20%20%20%20%20%20%20%20%20%20%20%20%20%20%20%20%20%3Cstrong%3ERue%20Anatole%20France%2034110%20Frontignan%3C/strong%3E%0A%20%20%20%20%20%20%20%20%20%20%20%20%20%20%20%20%20%3C/div%3E%60%2C%0A%20%20%20%20%20%20%20%20%20%20%20%20%20%20%20%20%7B%22sticky%22%3A%20true%7D%0A%20%20%20%20%20%20%20%20%20%20%20%20%29%3B%0A%20%20%20%20%20%20%20%20%0A%20%20%20%20%0A%20%20%20%20%20%20%20%20%20%20%20%20var%20marker_36517dad36c94c9bbc4c3c2eb52e7737%20%3D%20L.marker%28%0A%20%20%20%20%20%20%20%20%20%20%20%20%20%20%20%20%5B43.6186314947033%2C%203.87114195259911%5D%2C%0A%20%20%20%20%20%20%20%20%20%20%20%20%20%20%20%20%7B%7D%0A%20%20%20%20%20%20%20%20%20%20%20%20%29.addTo%28map_b4760f99a41d472a852e90660ac9673f%29%3B%0A%20%20%20%20%20%20%20%20%0A%20%20%20%20%0A%20%20%20%20%20%20%20%20%20%20%20%20var%20icon_591cf668fbc94129a682b29cde45f21e%20%3D%20L.AwesomeMarkers.icon%28%0A%20%20%20%20%20%20%20%20%20%20%20%20%20%20%20%20%7B%22extraClasses%22%3A%20%22fa-rotate-0%22%2C%20%22icon%22%3A%20%22info-sign%22%2C%20%22iconColor%22%3A%20%22white%22%2C%20%22markerColor%22%3A%20%22red%22%2C%20%22prefix%22%3A%20%22glyphicon%22%7D%0A%20%20%20%20%20%20%20%20%20%20%20%20%29%3B%0A%20%20%20%20%20%20%20%20%20%20%20%20marker_36517dad36c94c9bbc4c3c2eb52e7737.setIcon%28icon_591cf668fbc94129a682b29cde45f21e%29%3B%0A%20%20%20%20%20%20%20%20%0A%20%20%20%20%0A%20%20%20%20%20%20%20%20var%20popup_85fdab30978b4c16af5ce818170f6428%20%3D%20L.popup%28%7B%22maxWidth%22%3A%20500%7D%29%3B%0A%0A%20%20%20%20%20%20%20%20%0A%20%20%20%20%20%20%20%20%20%20%20%20var%20html_415fb6878b6741cdae093ca89a245476%20%3D%20%24%28%60%3Cdiv%20id%3D%22html_415fb6878b6741cdae093ca89a245476%22%20style%3D%22width%3A%20100.0%25%3B%20height%3A%20100.0%25%3B%22%3E%3Ch4%3E%3Cb%3E%3Cp%20style%3D%22text-align%3Acenter%3B%22%3ELBM%20LABOSUD%20MONTPELLIER%20CLINIQUE%20ST%20JEAN%3C/p%3E%3C/b%3E%3C/h4%3E%3Cbr%3E%3Ch5%3E%3Cb%3EAdresse%20%3A%20%3C/b%3E%3C/h5%3EClinique%20St%20Jean%20-%202%20place%20de%20l%27Europe%2034430%20Saint%20Jean%20de%20V%C3%A9das%3Cbr%3E%3Ci%3ELaboratoire%3C/i%3E%3Cbr%3E%3Cstrong%3E%3Cb%3ETest%20RT-PCR%20%3A%20%3C/b%3E%3C/strong%3EOUI%3Cbr%3E%3Cstrong%3E%3Cb%3ETest%20antig%C3%A9nique%20%3A%20%3C/b%3E%3C/strong%3ENON%3Cbr%3E%3Cstrong%3E%3Cb%3EModalit%C3%A9s%20de%20pr%C3%A9l%C3%A8vement%20%3A%20%3C/b%3E%3C/strong%3ESur%20place%3Cbr%3E%3Cstrong%3E%3Cb%3EPublic%20%3A%20%3C/b%3E%3C/strong%3EPatients%20pour%20des%20bilans%20pr%C3%A9-op%C3%A9ratoire%3Cbr%3E%3Cstrong%3E%3Cb%3EAcc%C3%A8s%20%3A%20%3C/b%3E%3C/strong%3ESur%20rendez-vous%20uniquement%3Cbr%3E%3Ch5%3E%3Cb%3EHoraire%20%3A%20%3C/b%3E%3C/h5%3EAppeler%20le%20laboratoire%3Cbr%3E%3Cstrong%3E%3Cb%3EHoraire%20personnes%20prioritaires%20%3A%20%3C/b%3E%3C/strong%3E-%3Cbr%3E%3Cstrong%3E%3Cb%3ET%C3%A9l%C3%A9phone%20%3A%20%3C/b%3E%3C/strong%3E04%2067%2061%2020%2094%3Cbr%3E%3Cstrong%3E%3Cb%3ESite%20internet%20%3A%20%3C/b%3E%3C/strong%3E-%3C/div%3E%60%29%5B0%5D%3B%0A%20%20%20%20%20%20%20%20%20%20%20%20popup_85fdab30978b4c16af5ce818170f6428.setContent%28html_415fb6878b6741cdae093ca89a245476%29%3B%0A%20%20%20%20%20%20%20%20%0A%0A%20%20%20%20%20%20%20%20marker_36517dad36c94c9bbc4c3c2eb52e7737.bindPopup%28popup_85fdab30978b4c16af5ce818170f6428%29%0A%20%20%20%20%20%20%20%20%3B%0A%0A%20%20%20%20%20%20%20%20%0A%20%20%20%20%0A%20%20%20%20%0A%20%20%20%20%20%20%20%20%20%20%20%20marker_36517dad36c94c9bbc4c3c2eb52e7737.bindTooltip%28%0A%20%20%20%20%20%20%20%20%20%20%20%20%20%20%20%20%60%3Cdiv%3E%0A%20%20%20%20%20%20%20%20%20%20%20%20%20%20%20%20%20%20%20%20%20%3Cstrong%3EClinique%20St%20Jean%20-%202%20place%20de%20l%27Europe%2034430%20Saint%20Jean%20de%20V%C3%A9das%3C/strong%3E%0A%20%20%20%20%20%20%20%20%20%20%20%20%20%20%20%20%20%3C/div%3E%60%2C%0A%20%20%20%20%20%20%20%20%20%20%20%20%20%20%20%20%7B%22sticky%22%3A%20true%7D%0A%20%20%20%20%20%20%20%20%20%20%20%20%29%3B%0A%20%20%20%20%20%20%20%20%0A%20%20%20%20%0A%20%20%20%20%20%20%20%20%20%20%20%20var%20marker_e0cf30204a8a47d2b59119a632521982%20%3D%20L.marker%28%0A%20%20%20%20%20%20%20%20%20%20%20%20%20%20%20%20%5B43.354196139174%2C%203.22562992572784%5D%2C%0A%20%20%20%20%20%20%20%20%20%20%20%20%20%20%20%20%7B%7D%0A%20%20%20%20%20%20%20%20%20%20%20%20%29.addTo%28map_b4760f99a41d472a852e90660ac9673f%29%3B%0A%20%20%20%20%20%20%20%20%0A%20%20%20%20%0A%20%20%20%20%20%20%20%20%20%20%20%20var%20icon_026bb14e13cd458a990acb651cdc8153%20%3D%20L.AwesomeMarkers.icon%28%0A%20%20%20%20%20%20%20%20%20%20%20%20%20%20%20%20%7B%22extraClasses%22%3A%20%22fa-rotate-0%22%2C%20%22icon%22%3A%20%22info-sign%22%2C%20%22iconColor%22%3A%20%22white%22%2C%20%22markerColor%22%3A%20%22red%22%2C%20%22prefix%22%3A%20%22glyphicon%22%7D%0A%20%20%20%20%20%20%20%20%20%20%20%20%29%3B%0A%20%20%20%20%20%20%20%20%20%20%20%20marker_e0cf30204a8a47d2b59119a632521982.setIcon%28icon_026bb14e13cd458a990acb651cdc8153%29%3B%0A%20%20%20%20%20%20%20%20%0A%20%20%20%20%0A%20%20%20%20%20%20%20%20var%20popup_c043a5d8e93b45cfa152e76ea4e12857%20%3D%20L.popup%28%7B%22maxWidth%22%3A%20500%7D%29%3B%0A%0A%20%20%20%20%20%20%20%20%0A%20%20%20%20%20%20%20%20%20%20%20%20var%20html_31c3b053ee124a9db36701fb39531a4d%20%3D%20%24%28%60%3Cdiv%20id%3D%22html_31c3b053ee124a9db36701fb39531a4d%22%20style%3D%22width%3A%20100.0%25%3B%20height%3A%20100.0%25%3B%22%3E%3Ch4%3E%3Cb%3E%3Cp%20style%3D%22text-align%3Acenter%3B%22%3ELBM%20LABOSUD%20BEZIERS%20BIO2000%3C/p%3E%3C/b%3E%3C/h4%3E%3Cbr%3E%3Ch5%3E%3Cb%3EAdresse%20%3A%20%3C/b%3E%3C/h5%3E2%20bis%20square%20des%20volontaires%20biterrois%20%2039-45%2034500%20B%C3%A9ziers%3Cbr%3E%3Ci%3ELaboratoire%3C/i%3E%3Cbr%3E%3Cstrong%3E%3Cb%3ETest%20RT-PCR%20%3A%20%3C/b%3E%3C/strong%3EOUI%3Cbr%3E%3Cstrong%3E%3Cb%3ETest%20antig%C3%A9nique%20%3A%20%3C/b%3E%3C/strong%3ENON%3Cbr%3E%3Cstrong%3E%3Cb%3EModalit%C3%A9s%20de%20pr%C3%A9l%C3%A8vement%20%3A%20%3C/b%3E%3C/strong%3ESur%20place%3Cbr%3E%3Cstrong%3E%3Cb%3EPublic%20%3A%20%3C/b%3E%3C/strong%3EPatients%20pour%20des%20bilans%20pr%C3%A9-op%C3%A9ratoire%3Cbr%3E%3Cstrong%3E%3Cb%3EAcc%C3%A8s%20%3A%20%3C/b%3E%3C/strong%3ESur%20rendez-vous%20uniquement%3Cbr%3E%3Ch5%3E%3Cb%3EHoraire%20%3A%20%3C/b%3E%3C/h5%3EAppeler%20le%20laboratoire%3Cbr%3E%3Cstrong%3E%3Cb%3EHoraire%20personnes%20prioritaires%20%3A%20%3C/b%3E%3C/strong%3E-%3Cbr%3E%3Cstrong%3E%3Cb%3ET%C3%A9l%C3%A9phone%20%3A%20%3C/b%3E%3C/strong%3E04%2067%2090%2020%2000%3Cbr%3E%3Cstrong%3E%3Cb%3ESite%20internet%20%3A%20%3C/b%3E%3C/strong%3ERendez-vous%20par%20t%C3%A9l%C3%A9phone%3C/div%3E%60%29%5B0%5D%3B%0A%20%20%20%20%20%20%20%20%20%20%20%20popup_c043a5d8e93b45cfa152e76ea4e12857.setContent%28html_31c3b053ee124a9db36701fb39531a4d%29%3B%0A%20%20%20%20%20%20%20%20%0A%0A%20%20%20%20%20%20%20%20marker_e0cf30204a8a47d2b59119a632521982.bindPopup%28popup_c043a5d8e93b45cfa152e76ea4e12857%29%0A%20%20%20%20%20%20%20%20%3B%0A%0A%20%20%20%20%20%20%20%20%0A%20%20%20%20%0A%20%20%20%20%0A%20%20%20%20%20%20%20%20%20%20%20%20marker_e0cf30204a8a47d2b59119a632521982.bindTooltip%28%0A%20%20%20%20%20%20%20%20%20%20%20%20%20%20%20%20%60%3Cdiv%3E%0A%20%20%20%20%20%20%20%20%20%20%20%20%20%20%20%20%20%20%20%20%20%3Cstrong%3E2%20bis%20square%20des%20volontaires%20biterrois%20%2039-45%2034500%20B%C3%A9ziers%3C/strong%3E%0A%20%20%20%20%20%20%20%20%20%20%20%20%20%20%20%20%20%3C/div%3E%60%2C%0A%20%20%20%20%20%20%20%20%20%20%20%20%20%20%20%20%7B%22sticky%22%3A%20true%7D%0A%20%20%20%20%20%20%20%20%20%20%20%20%29%3B%0A%20%20%20%20%20%20%20%20%0A%20%20%20%20%0A%20%20%20%20%20%20%20%20%20%20%20%20var%20marker_889a56010dc2449cb91cdbca4a84d420%20%3D%20L.marker%28%0A%20%20%20%20%20%20%20%20%20%20%20%20%20%20%20%20%5B43.623953%2C%203.437393%5D%2C%0A%20%20%20%20%20%20%20%20%20%20%20%20%20%20%20%20%7B%7D%0A%20%20%20%20%20%20%20%20%20%20%20%20%29.addTo%28map_b4760f99a41d472a852e90660ac9673f%29%3B%0A%20%20%20%20%20%20%20%20%0A%20%20%20%20%0A%20%20%20%20%20%20%20%20%20%20%20%20var%20icon_c77d7d5451ac4d289350c5ef49984770%20%3D%20L.AwesomeMarkers.icon%28%0A%20%20%20%20%20%20%20%20%20%20%20%20%20%20%20%20%7B%22extraClasses%22%3A%20%22fa-rotate-0%22%2C%20%22icon%22%3A%20%22info-sign%22%2C%20%22iconColor%22%3A%20%22white%22%2C%20%22markerColor%22%3A%20%22red%22%2C%20%22prefix%22%3A%20%22glyphicon%22%7D%0A%20%20%20%20%20%20%20%20%20%20%20%20%29%3B%0A%20%20%20%20%20%20%20%20%20%20%20%20marker_889a56010dc2449cb91cdbca4a84d420.setIcon%28icon_c77d7d5451ac4d289350c5ef49984770%29%3B%0A%20%20%20%20%20%20%20%20%0A%20%20%20%20%0A%20%20%20%20%20%20%20%20var%20popup_4f767d420f494ad8818f2da507e4f3aa%20%3D%20L.popup%28%7B%22maxWidth%22%3A%20500%7D%29%3B%0A%0A%20%20%20%20%20%20%20%20%0A%20%20%20%20%20%20%20%20%20%20%20%20var%20html_7e06ed6f24e14bb2b1083f8550e664ab%20%3D%20%24%28%60%3Cdiv%20id%3D%22html_7e06ed6f24e14bb2b1083f8550e664ab%22%20style%3D%22width%3A%20100.0%25%3B%20height%3A%20100.0%25%3B%22%3E%3Ch4%3E%3Cb%3E%3Cp%20style%3D%22text-align%3Acenter%3B%22%3ELBM%20LABOSUD%20CLERMONT%20L%27HERAULT%3C/p%3E%3C/b%3E%3C/h4%3E%3Cbr%3E%3Ch5%3E%3Cb%3EAdresse%20%3A%20%3C/b%3E%3C/h5%3E24%20Avenue%20Raymond%20Lacombe%2034800%20Clermont-l%27H%C3%A9rault%3Cbr%3E%3Ci%3ECentre%20de%20d%C3%A9pistage%20d%C3%A9di%C3%A9%3C/i%3E%3Cbr%3E%3Cstrong%3E%3Cb%3ETest%20RT-PCR%20%3A%20%3C/b%3E%3C/strong%3EOUI%3Cbr%3E%3Cstrong%3E%3Cb%3ETest%20antig%C3%A9nique%20%3A%20%3C/b%3E%3C/strong%3ENON%3Cbr%3E%3Cstrong%3E%3Cb%3EModalit%C3%A9s%20de%20pr%C3%A9l%C3%A8vement%20%3A%20%3C/b%3E%3C/strong%3ESur%20place%3Cbr%3E%3Cstrong%3E%3Cb%3EPublic%20%3A%20%3C/b%3E%3C/strong%3ECas%20contacts%20liste%20CPAM/Patients%20avec%20sympt%C3%B4mes/Patients%20pour%20des%20bilans%20pr%C3%A9-op%C3%A9ratoire/Personnel%20soignant%3Cbr%3E%3Cstrong%3E%3Cb%3EAcc%C3%A8s%20%3A%20%3C/b%3E%3C/strong%3ESur%20rendez-vous%20uniquement%3Cbr%3E%3Ch5%3E%3Cb%3EHoraire%20%3A%20%3C/b%3E%3C/h5%3EAppeler%20le%20laboratoire%3Cbr%3E%3Cstrong%3E%3Cb%3EHoraire%20personnes%20prioritaires%20%3A%20%3C/b%3E%3C/strong%3E-%3Cbr%3E%3Cstrong%3E%3Cb%3ET%C3%A9l%C3%A9phone%20%3A%20%3C/b%3E%3C/strong%3E04%2067%2096%2003%2069%3Cbr%3E%3Cstrong%3E%3Cb%3ESite%20internet%20%3A%20%3C/b%3E%3C/strong%3ERendez-vous%20par%20t%C3%A9l%C3%A9phone%3C/div%3E%60%29%5B0%5D%3B%0A%20%20%20%20%20%20%20%20%20%20%20%20popup_4f767d420f494ad8818f2da507e4f3aa.setContent%28html_7e06ed6f24e14bb2b1083f8550e664ab%29%3B%0A%20%20%20%20%20%20%20%20%0A%0A%20%20%20%20%20%20%20%20marker_889a56010dc2449cb91cdbca4a84d420.bindPopup%28popup_4f767d420f494ad8818f2da507e4f3aa%29%0A%20%20%20%20%20%20%20%20%3B%0A%0A%20%20%20%20%20%20%20%20%0A%20%20%20%20%0A%20%20%20%20%0A%20%20%20%20%20%20%20%20%20%20%20%20marker_889a56010dc2449cb91cdbca4a84d420.bindTooltip%28%0A%20%20%20%20%20%20%20%20%20%20%20%20%20%20%20%20%60%3Cdiv%3E%0A%20%20%20%20%20%20%20%20%20%20%20%20%20%20%20%20%20%20%20%20%20%3Cstrong%3E24%20Avenue%20Raymond%20Lacombe%2034800%20Clermont-l%27H%C3%A9rault%3C/strong%3E%0A%20%20%20%20%20%20%20%20%20%20%20%20%20%20%20%20%20%3C/div%3E%60%2C%0A%20%20%20%20%20%20%20%20%20%20%20%20%20%20%20%20%7B%22sticky%22%3A%20true%7D%0A%20%20%20%20%20%20%20%20%20%20%20%20%29%3B%0A%20%20%20%20%20%20%20%20%0A%20%20%20%20%0A%20%20%20%20%20%20%20%20%20%20%20%20var%20marker_afa78968b2234bd09dfc0fb2d5b87e5d%20%3D%20L.marker%28%0A%20%20%20%20%20%20%20%20%20%20%20%20%20%20%20%20%5B43.7239985969081%2C%203.32205596326149%5D%2C%0A%20%20%20%20%20%20%20%20%20%20%20%20%20%20%20%20%7B%7D%0A%20%20%20%20%20%20%20%20%20%20%20%20%29.addTo%28map_b4760f99a41d472a852e90660ac9673f%29%3B%0A%20%20%20%20%20%20%20%20%0A%20%20%20%20%0A%20%20%20%20%20%20%20%20%20%20%20%20var%20icon_f0c28dc6ebe142c583c7819598b5a905%20%3D%20L.AwesomeMarkers.icon%28%0A%20%20%20%20%20%20%20%20%20%20%20%20%20%20%20%20%7B%22extraClasses%22%3A%20%22fa-rotate-0%22%2C%20%22icon%22%3A%20%22info-sign%22%2C%20%22iconColor%22%3A%20%22white%22%2C%20%22markerColor%22%3A%20%22red%22%2C%20%22prefix%22%3A%20%22glyphicon%22%7D%0A%20%20%20%20%20%20%20%20%20%20%20%20%29%3B%0A%20%20%20%20%20%20%20%20%20%20%20%20marker_afa78968b2234bd09dfc0fb2d5b87e5d.setIcon%28icon_f0c28dc6ebe142c583c7819598b5a905%29%3B%0A%20%20%20%20%20%20%20%20%0A%20%20%20%20%0A%20%20%20%20%20%20%20%20var%20popup_ebdc67d07f7540a69d282bd71cb19a9b%20%3D%20L.popup%28%7B%22maxWidth%22%3A%20500%7D%29%3B%0A%0A%20%20%20%20%20%20%20%20%0A%20%20%20%20%20%20%20%20%20%20%20%20var%20html_6cdbf5e693934c6fae7be084845f3964%20%3D%20%24%28%60%3Cdiv%20id%3D%22html_6cdbf5e693934c6fae7be084845f3964%22%20style%3D%22width%3A%20100.0%25%3B%20height%3A%20100.0%25%3B%22%3E%3Ch4%3E%3Cb%3E%3Cp%20style%3D%22text-align%3Acenter%3B%22%3ELBM%20LABOSUD%20LODEVE%3C/p%3E%3C/b%3E%3C/h4%3E%3Cbr%3E%3Ch5%3E%3Cb%3EAdresse%20%3A%20%3C/b%3E%3C/h5%3E256%20All%C3%A9e%20Dani%C3%A8le%20Mitterand%2034700%20Lod%C3%A8ve%3Cbr%3E%3Ci%3ECentre%20de%20d%C3%A9pistage%20d%C3%A9di%C3%A9%3C/i%3E%3Cbr%3E%3Cstrong%3E%3Cb%3ETest%20RT-PCR%20%3A%20%3C/b%3E%3C/strong%3EOUI%3Cbr%3E%3Cstrong%3E%3Cb%3ETest%20antig%C3%A9nique%20%3A%20%3C/b%3E%3C/strong%3ENON%3Cbr%3E%3Cstrong%3E%3Cb%3EModalit%C3%A9s%20de%20pr%C3%A9l%C3%A8vement%20%3A%20%3C/b%3E%3C/strong%3EDrive%3Cbr%3E%3Cstrong%3E%3Cb%3EPublic%20%3A%20%3C/b%3E%3C/strong%3ECas%20contacts%20liste%20CPAM/Personnel%20soignant/Patients%20pour%20des%20bilans%20pr%C3%A9-op%C3%A9ratoire/Patients%20avec%20sympt%C3%B4mes%3Cbr%3E%3Cstrong%3E%3Cb%3EAcc%C3%A8s%20%3A%20%3C/b%3E%3C/strong%3ESur%20rendez-vous%20uniquement%3Cbr%3E%3Ch5%3E%3Cb%3EHoraire%20%3A%20%3C/b%3E%3C/h5%3EAppeler%20le%20laboratoire%3Cbr%3E%3Cstrong%3E%3Cb%3EHoraire%20personnes%20prioritaires%20%3A%20%3C/b%3E%3C/strong%3E-%3Cbr%3E%3Cstrong%3E%3Cb%3ET%C3%A9l%C3%A9phone%20%3A%20%3C/b%3E%3C/strong%3E-%3Cbr%3E%3Cstrong%3E%3Cb%3ESite%20internet%20%3A%20%3C/b%3E%3C/strong%3Ehttps%3A//labosud.fr/rdvcovid19%3C/div%3E%60%29%5B0%5D%3B%0A%20%20%20%20%20%20%20%20%20%20%20%20popup_ebdc67d07f7540a69d282bd71cb19a9b.setContent%28html_6cdbf5e693934c6fae7be084845f3964%29%3B%0A%20%20%20%20%20%20%20%20%0A%0A%20%20%20%20%20%20%20%20marker_afa78968b2234bd09dfc0fb2d5b87e5d.bindPopup%28popup_ebdc67d07f7540a69d282bd71cb19a9b%29%0A%20%20%20%20%20%20%20%20%3B%0A%0A%20%20%20%20%20%20%20%20%0A%20%20%20%20%0A%20%20%20%20%0A%20%20%20%20%20%20%20%20%20%20%20%20marker_afa78968b2234bd09dfc0fb2d5b87e5d.bindTooltip%28%0A%20%20%20%20%20%20%20%20%20%20%20%20%20%20%20%20%60%3Cdiv%3E%0A%20%20%20%20%20%20%20%20%20%20%20%20%20%20%20%20%20%20%20%20%20%3Cstrong%3E256%20All%C3%A9e%20Dani%C3%A8le%20Mitterand%2034700%20Lod%C3%A8ve%3C/strong%3E%0A%20%20%20%20%20%20%20%20%20%20%20%20%20%20%20%20%20%3C/div%3E%60%2C%0A%20%20%20%20%20%20%20%20%20%20%20%20%20%20%20%20%7B%22sticky%22%3A%20true%7D%0A%20%20%20%20%20%20%20%20%20%20%20%20%29%3B%0A%20%20%20%20%20%20%20%20%0A%20%20%20%20%0A%20%20%20%20%20%20%20%20%20%20%20%20var%20marker_4dbb7a27f1cc4fa49360a17d51c285e9%20%3D%20L.marker%28%0A%20%20%20%20%20%20%20%20%20%20%20%20%20%20%20%20%5B43.6760295728803%2C%203.81644616710203%5D%2C%0A%20%20%20%20%20%20%20%20%20%20%20%20%20%20%20%20%7B%7D%0A%20%20%20%20%20%20%20%20%20%20%20%20%29.addTo%28map_b4760f99a41d472a852e90660ac9673f%29%3B%0A%20%20%20%20%20%20%20%20%0A%20%20%20%20%0A%20%20%20%20%20%20%20%20%20%20%20%20var%20icon_0a5405c1f5404a76b64a58730921e931%20%3D%20L.AwesomeMarkers.icon%28%0A%20%20%20%20%20%20%20%20%20%20%20%20%20%20%20%20%7B%22extraClasses%22%3A%20%22fa-rotate-0%22%2C%20%22icon%22%3A%20%22info-sign%22%2C%20%22iconColor%22%3A%20%22white%22%2C%20%22markerColor%22%3A%20%22red%22%2C%20%22prefix%22%3A%20%22glyphicon%22%7D%0A%20%20%20%20%20%20%20%20%20%20%20%20%29%3B%0A%20%20%20%20%20%20%20%20%20%20%20%20marker_4dbb7a27f1cc4fa49360a17d51c285e9.setIcon%28icon_0a5405c1f5404a76b64a58730921e931%29%3B%0A%20%20%20%20%20%20%20%20%0A%20%20%20%20%0A%20%20%20%20%20%20%20%20var%20popup_2a4e0804efc748d6b4ff1dab51608a43%20%3D%20L.popup%28%7B%22maxWidth%22%3A%20500%7D%29%3B%0A%0A%20%20%20%20%20%20%20%20%0A%20%20%20%20%20%20%20%20%20%20%20%20var%20html_eeba9f9cdb484e50b8e29072fe963be4%20%3D%20%24%28%60%3Cdiv%20id%3D%22html_eeba9f9cdb484e50b8e29072fe963be4%22%20style%3D%22width%3A%20100.0%25%3B%20height%3A%20100.0%25%3B%22%3E%3Ch4%3E%3Cb%3E%3Cp%20style%3D%22text-align%3Acenter%3B%22%3ELBM%20LABOSUD%20SAINT%20GELY%20DU%20FESC%3C/p%3E%3C/b%3E%3C/h4%3E%3Cbr%3E%3Ch5%3E%3Cb%3EAdresse%20%3A%20%3C/b%3E%3C/h5%3E41%20Impasse%20des%20Trois%20Pointes%2034980%20St%20Gely%20Du%20Fesc%3Cbr%3E%3Ci%3ECentre%20de%20d%C3%A9pistage%20d%C3%A9di%C3%A9%3C/i%3E%3Cbr%3E%3Cstrong%3E%3Cb%3ETest%20RT-PCR%20%3A%20%3C/b%3E%3C/strong%3EOUI%3Cbr%3E%3Cstrong%3E%3Cb%3ETest%20antig%C3%A9nique%20%3A%20%3C/b%3E%3C/strong%3ENON%3Cbr%3E%3Cstrong%3E%3Cb%3EModalit%C3%A9s%20de%20pr%C3%A9l%C3%A8vement%20%3A%20%3C/b%3E%3C/strong%3ESur%20place%3Cbr%3E%3Cstrong%3E%3Cb%3EPublic%20%3A%20%3C/b%3E%3C/strong%3ECas%20contacts%20liste%20CPAM/Personnel%20soignant/Patients%20avec%20sympt%C3%B4mes%3Cbr%3E%3Cstrong%3E%3Cb%3EAcc%C3%A8s%20%3A%20%3C/b%3E%3C/strong%3ESur%20rendez-vous%20uniquement%3Cbr%3E%3Ch5%3E%3Cb%3EHoraire%20%3A%20%3C/b%3E%3C/h5%3EAppeler%20le%20laboratoire%3Cbr%3E%3Cstrong%3E%3Cb%3EHoraire%20personnes%20prioritaires%20%3A%20%3C/b%3E%3C/strong%3E-%3Cbr%3E%3Cstrong%3E%3Cb%3ET%C3%A9l%C3%A9phone%20%3A%20%3C/b%3E%3C/strong%3E-%3Cbr%3E%3Cstrong%3E%3Cb%3ESite%20internet%20%3A%20%3C/b%3E%3C/strong%3Ehttps%3A//labosud.fr/rdvcovid19%3C/div%3E%60%29%5B0%5D%3B%0A%20%20%20%20%20%20%20%20%20%20%20%20popup_2a4e0804efc748d6b4ff1dab51608a43.setContent%28html_eeba9f9cdb484e50b8e29072fe963be4%29%3B%0A%20%20%20%20%20%20%20%20%0A%0A%20%20%20%20%20%20%20%20marker_4dbb7a27f1cc4fa49360a17d51c285e9.bindPopup%28popup_2a4e0804efc748d6b4ff1dab51608a43%29%0A%20%20%20%20%20%20%20%20%3B%0A%0A%20%20%20%20%20%20%20%20%0A%20%20%20%20%0A%20%20%20%20%0A%20%20%20%20%20%20%20%20%20%20%20%20marker_4dbb7a27f1cc4fa49360a17d51c285e9.bindTooltip%28%0A%20%20%20%20%20%20%20%20%20%20%20%20%20%20%20%20%60%3Cdiv%3E%0A%20%20%20%20%20%20%20%20%20%20%20%20%20%20%20%20%20%20%20%20%20%3Cstrong%3E41%20Impasse%20des%20Trois%20Pointes%2034980%20St%20Gely%20Du%20Fesc%3C/strong%3E%0A%20%20%20%20%20%20%20%20%20%20%20%20%20%20%20%20%20%3C/div%3E%60%2C%0A%20%20%20%20%20%20%20%20%20%20%20%20%20%20%20%20%7B%22sticky%22%3A%20true%7D%0A%20%20%20%20%20%20%20%20%20%20%20%20%29%3B%0A%20%20%20%20%20%20%20%20%0A%20%20%20%20%0A%20%20%20%20%20%20%20%20%20%20%20%20var%20marker_500be09363fe43d8b78e6dd3bbecb57c%20%3D%20L.marker%28%0A%20%20%20%20%20%20%20%20%20%20%20%20%20%20%20%20%5B43.366289%2C%203.254753%5D%2C%0A%20%20%20%20%20%20%20%20%20%20%20%20%20%20%20%20%7B%7D%0A%20%20%20%20%20%20%20%20%20%20%20%20%29.addTo%28map_b4760f99a41d472a852e90660ac9673f%29%3B%0A%20%20%20%20%20%20%20%20%0A%20%20%20%20%0A%20%20%20%20%20%20%20%20%20%20%20%20var%20icon_e48e87b727264fbf84d67b9988bc5bf2%20%3D%20L.AwesomeMarkers.icon%28%0A%20%20%20%20%20%20%20%20%20%20%20%20%20%20%20%20%7B%22extraClasses%22%3A%20%22fa-rotate-0%22%2C%20%22icon%22%3A%20%22info-sign%22%2C%20%22iconColor%22%3A%20%22white%22%2C%20%22markerColor%22%3A%20%22red%22%2C%20%22prefix%22%3A%20%22glyphicon%22%7D%0A%20%20%20%20%20%20%20%20%20%20%20%20%29%3B%0A%20%20%20%20%20%20%20%20%20%20%20%20marker_500be09363fe43d8b78e6dd3bbecb57c.setIcon%28icon_e48e87b727264fbf84d67b9988bc5bf2%29%3B%0A%20%20%20%20%20%20%20%20%0A%20%20%20%20%0A%20%20%20%20%20%20%20%20var%20popup_33a95af4a9ce47db92eb94bf7fe077cd%20%3D%20L.popup%28%7B%22maxWidth%22%3A%20500%7D%29%3B%0A%0A%20%20%20%20%20%20%20%20%0A%20%20%20%20%20%20%20%20%20%20%20%20var%20html_4718b47d88cf49679f85ce8a8f75484e%20%3D%20%24%28%60%3Cdiv%20id%3D%22html_4718b47d88cf49679f85ce8a8f75484e%22%20style%3D%22width%3A%20100.0%25%3B%20height%3A%20100.0%25%3B%22%3E%3Ch4%3E%3Cb%3E%3Cp%20style%3D%22text-align%3Acenter%3B%22%3ELBM%20LABOSUD%20BOUJAN%20SUR%20LIBRON%3C/p%3E%3C/b%3E%3C/h4%3E%3Cbr%3E%3Ch5%3E%3Cb%3EAdresse%20%3A%20%3C/b%3E%3C/h5%3E12%20Rue%20de%20la%20Margeride%20-%20Clinique%20St%20Privat-%20B%C3%A2timent%20des%20consultations%204%20%2034760%20Boujan-sur-Libron%3Cbr%3E%3Ci%3ELaboratoire%3C/i%3E%3Cbr%3E%3Cstrong%3E%3Cb%3ETest%20RT-PCR%20%3A%20%3C/b%3E%3C/strong%3EOUI%3Cbr%3E%3Cstrong%3E%3Cb%3ETest%20antig%C3%A9nique%20%3A%20%3C/b%3E%3C/strong%3ENON%3Cbr%3E%3Cstrong%3E%3Cb%3EModalit%C3%A9s%20de%20pr%C3%A9l%C3%A8vement%20%3A%20%3C/b%3E%3C/strong%3ESur%20place%3Cbr%3E%3Cstrong%3E%3Cb%3EPublic%20%3A%20%3C/b%3E%3C/strong%3EPatients%20pour%20des%20bilans%20pr%C3%A9-op%C3%A9ratoire%3Cbr%3E%3Cstrong%3E%3Cb%3EAcc%C3%A8s%20%3A%20%3C/b%3E%3C/strong%3ESur%20rendez-vous%20uniquement%3Cbr%3E%3Ch5%3E%3Cb%3EHoraire%20%3A%20%3C/b%3E%3C/h5%3EAppeler%20le%20laboratoire%3Cbr%3E%3Cstrong%3E%3Cb%3EHoraire%20personnes%20prioritaires%20%3A%20%3C/b%3E%3C/strong%3E-%3Cbr%3E%3Cstrong%3E%3Cb%3ET%C3%A9l%C3%A9phone%20%3A%20%3C/b%3E%3C/strong%3E04%2067%2076%2089%2060%3Cbr%3E%3Cstrong%3E%3Cb%3ESite%20internet%20%3A%20%3C/b%3E%3C/strong%3ERendez-vous%20par%20t%C3%A9l%C3%A9phone%3C/div%3E%60%29%5B0%5D%3B%0A%20%20%20%20%20%20%20%20%20%20%20%20popup_33a95af4a9ce47db92eb94bf7fe077cd.setContent%28html_4718b47d88cf49679f85ce8a8f75484e%29%3B%0A%20%20%20%20%20%20%20%20%0A%0A%20%20%20%20%20%20%20%20marker_500be09363fe43d8b78e6dd3bbecb57c.bindPopup%28popup_33a95af4a9ce47db92eb94bf7fe077cd%29%0A%20%20%20%20%20%20%20%20%3B%0A%0A%20%20%20%20%20%20%20%20%0A%20%20%20%20%0A%20%20%20%20%0A%20%20%20%20%20%20%20%20%20%20%20%20marker_500be09363fe43d8b78e6dd3bbecb57c.bindTooltip%28%0A%20%20%20%20%20%20%20%20%20%20%20%20%20%20%20%20%60%3Cdiv%3E%0A%20%20%20%20%20%20%20%20%20%20%20%20%20%20%20%20%20%20%20%20%20%3Cstrong%3E12%20Rue%20de%20la%20Margeride%20-%20Clinique%20St%20Privat-%20B%C3%A2timent%20des%20consultations%204%20%2034760%20Boujan-sur-Libron%3C/strong%3E%0A%20%20%20%20%20%20%20%20%20%20%20%20%20%20%20%20%20%3C/div%3E%60%2C%0A%20%20%20%20%20%20%20%20%20%20%20%20%20%20%20%20%7B%22sticky%22%3A%20true%7D%0A%20%20%20%20%20%20%20%20%20%20%20%20%29%3B%0A%20%20%20%20%20%20%20%20%0A%20%20%20%20%0A%20%20%20%20%20%20%20%20%20%20%20%20var%20marker_eefa634a182b4e19a289c48b3da4a985%20%3D%20L.marker%28%0A%20%20%20%20%20%20%20%20%20%20%20%20%20%20%20%20%5B43.9325198626572%2C%203.70297804967399%5D%2C%0A%20%20%20%20%20%20%20%20%20%20%20%20%20%20%20%20%7B%7D%0A%20%20%20%20%20%20%20%20%20%20%20%20%29.addTo%28map_b4760f99a41d472a852e90660ac9673f%29%3B%0A%20%20%20%20%20%20%20%20%0A%20%20%20%20%0A%20%20%20%20%20%20%20%20%20%20%20%20var%20icon_7cc2f99d64d341fb96df77c4a5d3c09f%20%3D%20L.AwesomeMarkers.icon%28%0A%20%20%20%20%20%20%20%20%20%20%20%20%20%20%20%20%7B%22extraClasses%22%3A%20%22fa-rotate-0%22%2C%20%22icon%22%3A%20%22info-sign%22%2C%20%22iconColor%22%3A%20%22white%22%2C%20%22markerColor%22%3A%20%22red%22%2C%20%22prefix%22%3A%20%22glyphicon%22%7D%0A%20%20%20%20%20%20%20%20%20%20%20%20%29%3B%0A%20%20%20%20%20%20%20%20%20%20%20%20marker_eefa634a182b4e19a289c48b3da4a985.setIcon%28icon_7cc2f99d64d341fb96df77c4a5d3c09f%29%3B%0A%20%20%20%20%20%20%20%20%0A%20%20%20%20%0A%20%20%20%20%20%20%20%20var%20popup_d3a8fc66b588424ab701eb59a0b03044%20%3D%20L.popup%28%7B%22maxWidth%22%3A%20500%7D%29%3B%0A%0A%20%20%20%20%20%20%20%20%0A%20%20%20%20%20%20%20%20%20%20%20%20var%20html_8ff26230074944c2ade00c6bbadb7a55%20%3D%20%24%28%60%3Cdiv%20id%3D%22html_8ff26230074944c2ade00c6bbadb7a55%22%20style%3D%22width%3A%20100.0%25%3B%20height%3A%20100.0%25%3B%22%3E%3Ch4%3E%3Cb%3E%3Cp%20style%3D%22text-align%3Acenter%3B%22%3ELBM%20LABOSUD%20GANGES%3C/p%3E%3C/b%3E%3C/h4%3E%3Cbr%3E%3Ch5%3E%3Cb%3EAdresse%20%3A%20%3C/b%3E%3C/h5%3EPolyclinique%20Saint%20Louis%2C%2010%20Place%20Joseph%20Boudouresques%2034190%20Ganges%3Cbr%3E%3Ci%3ECentre%20de%20d%C3%A9pistage%20d%C3%A9di%C3%A9%3C/i%3E%3Cbr%3E%3Cstrong%3E%3Cb%3ETest%20RT-PCR%20%3A%20%3C/b%3E%3C/strong%3EOUI%3Cbr%3E%3Cstrong%3E%3Cb%3ETest%20antig%C3%A9nique%20%3A%20%3C/b%3E%3C/strong%3ENON%3Cbr%3E%3Cstrong%3E%3Cb%3EModalit%C3%A9s%20de%20pr%C3%A9l%C3%A8vement%20%3A%20%3C/b%3E%3C/strong%3EDrive%3Cbr%3E%3Cstrong%3E%3Cb%3EPublic%20%3A%20%3C/b%3E%3C/strong%3ECas%20contacts%20liste%20CPAM/Personnel%20soignant/Patients%20pour%20des%20bilans%20pr%C3%A9-op%C3%A9ratoire/Patients%20avec%20sympt%C3%B4mes%3Cbr%3E%3Cstrong%3E%3Cb%3EAcc%C3%A8s%20%3A%20%3C/b%3E%3C/strong%3ESur%20rendez-vous%20uniquement%3Cbr%3E%3Ch5%3E%3Cb%3EHoraire%20%3A%20%3C/b%3E%3C/h5%3EAppeler%20le%20laboratoire%3Cbr%3E%3Cstrong%3E%3Cb%3EHoraire%20personnes%20prioritaires%20%3A%20%3C/b%3E%3C/strong%3E-%3Cbr%3E%3Cstrong%3E%3Cb%3ET%C3%A9l%C3%A9phone%20%3A%20%3C/b%3E%3C/strong%3E-%3Cbr%3E%3Cstrong%3E%3Cb%3ESite%20internet%20%3A%20%3C/b%3E%3C/strong%3Ehttps%3A//labosud.fr/rdvcovid19%3C/div%3E%60%29%5B0%5D%3B%0A%20%20%20%20%20%20%20%20%20%20%20%20popup_d3a8fc66b588424ab701eb59a0b03044.setContent%28html_8ff26230074944c2ade00c6bbadb7a55%29%3B%0A%20%20%20%20%20%20%20%20%0A%0A%20%20%20%20%20%20%20%20marker_eefa634a182b4e19a289c48b3da4a985.bindPopup%28popup_d3a8fc66b588424ab701eb59a0b03044%29%0A%20%20%20%20%20%20%20%20%3B%0A%0A%20%20%20%20%20%20%20%20%0A%20%20%20%20%0A%20%20%20%20%0A%20%20%20%20%20%20%20%20%20%20%20%20marker_eefa634a182b4e19a289c48b3da4a985.bindTooltip%28%0A%20%20%20%20%20%20%20%20%20%20%20%20%20%20%20%20%60%3Cdiv%3E%0A%20%20%20%20%20%20%20%20%20%20%20%20%20%20%20%20%20%20%20%20%20%3Cstrong%3EPolyclinique%20Saint%20Louis%2C%2010%20Place%20Joseph%20Boudouresques%2034190%20Ganges%3C/strong%3E%0A%20%20%20%20%20%20%20%20%20%20%20%20%20%20%20%20%20%3C/div%3E%60%2C%0A%20%20%20%20%20%20%20%20%20%20%20%20%20%20%20%20%7B%22sticky%22%3A%20true%7D%0A%20%20%20%20%20%20%20%20%20%20%20%20%29%3B%0A%20%20%20%20%20%20%20%20%0A%3C/script%3E onload=\"this.contentDocument.open();this.contentDocument.write(    decodeURIComponent(this.getAttribute('data-html')));this.contentDocument.close();\" allowfullscreen webkitallowfullscreen mozallowfullscreen></iframe></div></div>"
     },
     "metadata": {},
     "execution_count": 2
    }
   ],
   "source": [
    "map_screening('34')"
   ]
  },
  {
   "cell_type": "code",
   "execution_count": 1,
   "metadata": {},
   "outputs": [
    {
     "output_type": "stream",
     "name": "stderr",
     "text": [
      "/Users/stef/opt/anaconda3/envs/stef_env/lib/python3.8/site-packages/pandas/core/frame.py:4308: SettingWithCopyWarning: \n",
      "A value is trying to be set on a copy of a slice from a DataFrame\n",
      "\n",
      "See the caveats in the documentation: https://pandas.pydata.org/pandas-docs/stable/user_guide/indexing.html#returning-a-view-versus-a-copy\n",
      "  return super().drop(\n",
      "/Users/stef/opt/anaconda3/envs/stef_env/lib/python3.8/site-packages/pandas/core/frame.py:4308: SettingWithCopyWarning: \n",
      "A value is trying to be set on a copy of a slice from a DataFrame\n",
      "\n",
      "See the caveats in the documentation: https://pandas.pydata.org/pandas-docs/stable/user_guide/indexing.html#returning-a-view-versus-a-copy\n",
      "  return super().drop(\n",
      "/Users/stef/opt/anaconda3/envs/stef_env/lib/python3.8/site-packages/pandas/core/frame.py:4308: SettingWithCopyWarning: \n",
      "A value is trying to be set on a copy of a slice from a DataFrame\n",
      "\n",
      "See the caveats in the documentation: https://pandas.pydata.org/pandas-docs/stable/user_guide/indexing.html#returning-a-view-versus-a-copy\n",
      "  return super().drop(\n",
      "/Users/stef/opt/anaconda3/envs/stef_env/lib/python3.8/site-packages/pandas/core/frame.py:4308: SettingWithCopyWarning: \n",
      "A value is trying to be set on a copy of a slice from a DataFrame\n",
      "\n",
      "See the caveats in the documentation: https://pandas.pydata.org/pandas-docs/stable/user_guide/indexing.html#returning-a-view-versus-a-copy\n",
      "  return super().drop(\n",
      "/Users/stef/opt/anaconda3/envs/stef_env/lib/python3.8/site-packages/pandas/core/frame.py:4308: SettingWithCopyWarning: \n",
      "A value is trying to be set on a copy of a slice from a DataFrame\n",
      "\n",
      "See the caveats in the documentation: https://pandas.pydata.org/pandas-docs/stable/user_guide/indexing.html#returning-a-view-versus-a-copy\n",
      "  return super().drop(\n",
      "/Users/stef/opt/anaconda3/envs/stef_env/lib/python3.8/site-packages/pandas/core/frame.py:4308: SettingWithCopyWarning: \n",
      "A value is trying to be set on a copy of a slice from a DataFrame\n",
      "\n",
      "See the caveats in the documentation: https://pandas.pydata.org/pandas-docs/stable/user_guide/indexing.html#returning-a-view-versus-a-copy\n",
      "  return super().drop(\n",
      "/Users/stef/opt/anaconda3/envs/stef_env/lib/python3.8/site-packages/pandas/core/frame.py:4308: SettingWithCopyWarning: \n",
      "A value is trying to be set on a copy of a slice from a DataFrame\n",
      "\n",
      "See the caveats in the documentation: https://pandas.pydata.org/pandas-docs/stable/user_guide/indexing.html#returning-a-view-versus-a-copy\n",
      "  return super().drop(\n",
      "/Users/stef/opt/anaconda3/envs/stef_env/lib/python3.8/site-packages/pandas/core/frame.py:4308: SettingWithCopyWarning: \n",
      "A value is trying to be set on a copy of a slice from a DataFrame\n",
      "\n",
      "See the caveats in the documentation: https://pandas.pydata.org/pandas-docs/stable/user_guide/indexing.html#returning-a-view-versus-a-copy\n",
      "  return super().drop(\n",
      "/Users/stef/opt/anaconda3/envs/stef_env/lib/python3.8/site-packages/pandas/core/frame.py:4308: SettingWithCopyWarning: \n",
      "A value is trying to be set on a copy of a slice from a DataFrame\n",
      "\n",
      "See the caveats in the documentation: https://pandas.pydata.org/pandas-docs/stable/user_guide/indexing.html#returning-a-view-versus-a-copy\n",
      "  return super().drop(\n",
      "/Users/stef/opt/anaconda3/envs/stef_env/lib/python3.8/site-packages/pandas/core/frame.py:4308: SettingWithCopyWarning: \n",
      "A value is trying to be set on a copy of a slice from a DataFrame\n",
      "\n",
      "See the caveats in the documentation: https://pandas.pydata.org/pandas-docs/stable/user_guide/indexing.html#returning-a-view-versus-a-copy\n",
      "  return super().drop(\n",
      "/Users/stef/opt/anaconda3/envs/stef_env/lib/python3.8/site-packages/pandas/core/frame.py:4308: SettingWithCopyWarning: \n",
      "A value is trying to be set on a copy of a slice from a DataFrame\n",
      "\n",
      "See the caveats in the documentation: https://pandas.pydata.org/pandas-docs/stable/user_guide/indexing.html#returning-a-view-versus-a-copy\n",
      "  return super().drop(\n",
      "/Users/stef/opt/anaconda3/envs/stef_env/lib/python3.8/site-packages/pandas/core/frame.py:4308: SettingWithCopyWarning: \n",
      "A value is trying to be set on a copy of a slice from a DataFrame\n",
      "\n",
      "See the caveats in the documentation: https://pandas.pydata.org/pandas-docs/stable/user_guide/indexing.html#returning-a-view-versus-a-copy\n",
      "  return super().drop(\n",
      "/Users/stef/opt/anaconda3/envs/stef_env/lib/python3.8/site-packages/pandas/core/frame.py:4308: SettingWithCopyWarning: \n",
      "A value is trying to be set on a copy of a slice from a DataFrame\n",
      "\n",
      "See the caveats in the documentation: https://pandas.pydata.org/pandas-docs/stable/user_guide/indexing.html#returning-a-view-versus-a-copy\n",
      "  return super().drop(\n",
      "/Users/stef/opt/anaconda3/envs/stef_env/lib/python3.8/site-packages/pandas/core/frame.py:4308: SettingWithCopyWarning: \n",
      "A value is trying to be set on a copy of a slice from a DataFrame\n",
      "\n",
      "See the caveats in the documentation: https://pandas.pydata.org/pandas-docs/stable/user_guide/indexing.html#returning-a-view-versus-a-copy\n",
      "  return super().drop(\n",
      "/Users/stef/opt/anaconda3/envs/stef_env/lib/python3.8/site-packages/pandas/core/frame.py:4308: SettingWithCopyWarning: \n",
      "A value is trying to be set on a copy of a slice from a DataFrame\n",
      "\n",
      "See the caveats in the documentation: https://pandas.pydata.org/pandas-docs/stable/user_guide/indexing.html#returning-a-view-versus-a-copy\n",
      "  return super().drop(\n",
      "/Users/stef/opt/anaconda3/envs/stef_env/lib/python3.8/site-packages/pandas/core/frame.py:4308: SettingWithCopyWarning: \n",
      "A value is trying to be set on a copy of a slice from a DataFrame\n",
      "\n",
      "See the caveats in the documentation: https://pandas.pydata.org/pandas-docs/stable/user_guide/indexing.html#returning-a-view-versus-a-copy\n",
      "  return super().drop(\n",
      "/Users/stef/opt/anaconda3/envs/stef_env/lib/python3.8/site-packages/pandas/core/frame.py:4308: SettingWithCopyWarning: \n",
      "A value is trying to be set on a copy of a slice from a DataFrame\n",
      "\n",
      "See the caveats in the documentation: https://pandas.pydata.org/pandas-docs/stable/user_guide/indexing.html#returning-a-view-versus-a-copy\n",
      "  return super().drop(\n",
      "/Users/stef/opt/anaconda3/envs/stef_env/lib/python3.8/site-packages/pandas/core/frame.py:4308: SettingWithCopyWarning: \n",
      "A value is trying to be set on a copy of a slice from a DataFrame\n",
      "\n",
      "See the caveats in the documentation: https://pandas.pydata.org/pandas-docs/stable/user_guide/indexing.html#returning-a-view-versus-a-copy\n",
      "  return super().drop(\n",
      "/Users/stef/opt/anaconda3/envs/stef_env/lib/python3.8/site-packages/pandas/core/frame.py:4308: SettingWithCopyWarning: \n",
      "A value is trying to be set on a copy of a slice from a DataFrame\n",
      "\n",
      "See the caveats in the documentation: https://pandas.pydata.org/pandas-docs/stable/user_guide/indexing.html#returning-a-view-versus-a-copy\n",
      "  return super().drop(\n",
      "/Users/stef/opt/anaconda3/envs/stef_env/lib/python3.8/site-packages/pandas/core/frame.py:4308: SettingWithCopyWarning: \n",
      "A value is trying to be set on a copy of a slice from a DataFrame\n",
      "\n",
      "See the caveats in the documentation: https://pandas.pydata.org/pandas-docs/stable/user_guide/indexing.html#returning-a-view-versus-a-copy\n",
      "  return super().drop(\n",
      "/Users/stef/opt/anaconda3/envs/stef_env/lib/python3.8/site-packages/pandas/core/frame.py:4308: SettingWithCopyWarning: \n",
      "A value is trying to be set on a copy of a slice from a DataFrame\n",
      "\n",
      "See the caveats in the documentation: https://pandas.pydata.org/pandas-docs/stable/user_guide/indexing.html#returning-a-view-versus-a-copy\n",
      "  return super().drop(\n",
      "/Users/stef/opt/anaconda3/envs/stef_env/lib/python3.8/site-packages/pandas/core/frame.py:4308: SettingWithCopyWarning: \n",
      "A value is trying to be set on a copy of a slice from a DataFrame\n",
      "\n",
      "See the caveats in the documentation: https://pandas.pydata.org/pandas-docs/stable/user_guide/indexing.html#returning-a-view-versus-a-copy\n",
      "  return super().drop(\n"
     ]
    }
   ],
   "source": [
    "import screening.graphs.visualization as sgv\n",
    "from screening.graphs.visualization import daily_test, daily_test_age, daily_test_dep"
   ]
  },
  {
   "cell_type": "code",
   "execution_count": 2,
   "metadata": {},
   "outputs": [
    {
     "output_type": "stream",
     "name": "stderr",
     "text": [
      "/Users/stef/opt/anaconda3/envs/stef_env/lib/python3.8/site-packages/pandas/core/frame.py:4308: SettingWithCopyWarning: \nA value is trying to be set on a copy of a slice from a DataFrame\n\nSee the caveats in the documentation: https://pandas.pydata.org/pandas-docs/stable/user_guide/indexing.html#returning-a-view-versus-a-copy\n  return super().drop(\n"
     ]
    },
    {
     "output_type": "display_data",
     "data": {
      "application/vnd.plotly.v1+json": {
       "config": {
        "plotlyServerURL": "https://plot.ly"
       },
       "data": [
        {
         "alignmentgroup": "True",
         "hovertemplate": "date=%{x}<br>Tests number=%{y}<br>% positive tests=%{marker.color}<extra></extra>",
         "legendgroup": "",
         "marker": {
          "color": [
           0.6896551724137931,
           0,
           0,
           0,
           0,
           0,
           0,
           0.5780346820809248,
           0,
           0,
           0,
           0,
           0,
           0,
           0.6578947368421052,
           0,
           0,
           1.9801980198019802,
           0,
           0,
           0,
           0,
           0,
           0,
           0,
           0,
           0,
           0,
           1.3245033112582782,
           0,
           0,
           0,
           0,
           0.40816326530612246,
           0,
           0,
           0,
           0,
           0,
           0,
           0,
           0,
           1.9607843137254901,
           0.9174311926605505,
           0,
           0,
           0,
           0,
           0,
           0,
           0,
           0,
           0,
           6.666666666666667,
           0,
           0,
           0.6666666666666667,
           0.8264462809917356,
           0.5376344086021506,
           1.2658227848101267,
           0,
           0.33333333333333337,
           0,
           0,
           0,
           0,
           0,
           0,
           0,
           0.8,
           0,
           0,
           0,
           0,
           0,
           0.6269592476489028,
           0,
           0,
           1.5151515151515151,
           0.6825938566552902,
           0,
           0,
           0.303951367781155,
           0,
           1.0869565217391304,
           1.4285714285714286,
           1.1450381679389312,
           0.78125,
           0,
           1.238390092879257,
           0.4524886877828055,
           2.7237354085603114,
           2.464788732394366,
           3.234501347708895,
           0,
           0,
           2.941176470588235,
           5.46448087431694,
           4.1208791208791204,
           3.2911392405063293,
           2.28310502283105,
           1.9867549668874174,
           5.454545454545454,
           2.2494887525562373,
           2.941176470588235,
           1.9021739130434785,
           1.6260162601626018,
           3.6036036036036037,
           2.3041474654377883,
           0,
           3.402646502835539,
           3.112033195020747,
           3.5135135135135136,
           3.058823529411765,
           3.1835205992509366,
           0.6134969325153374,
           2.127659574468085,
           4.4534412955465585,
           4.121475054229935,
           3.5256410256410255,
           4.179104477611941,
           2.3041474654377883,
           2.5974025974025974,
           1.7857142857142856,
           2.6465028355387523,
           3.64963503649635,
           4.444444444444445,
           4.487179487179487,
           4.535637149028078,
           3.8461538461538463,
           7.017543859649122,
           4.25531914893617,
           6.015037593984962,
           6.315789473684211,
           4.076086956521739,
           2.3655913978494625,
           3.4482758620689653,
           0,
           4.310344827586207,
           4.022988505747127,
           3.3112582781456954,
           8.532423208191126,
           6.263048016701461,
           9.473684210526317,
           10.344827586206897,
           6.782608695652175,
           8.908685968819599,
           10.199004975124378,
           9.744779582366588,
           5.7657657657657655,
           9.523809523809524,
           9.090909090909092,
           9.36599423631124,
           8.687943262411348,
           11.158798283261802,
           8.836206896551724,
           7.155025553662692,
           9.745762711864407,
           14.666666666666666,
           9.724473257698541,
           13.076923076923078,
           13.137254901960786,
           12.366412213740457,
           15.514809590973202,
           11.144578313253012,
           22.429906542056074,
           14.489003880983182,
           15.620641562064156,
           14.887218045112782,
           15.562403697996919,
           12.422360248447205,
           16.224188790560472,
           15.217391304347828,
           13,
           13.132694938440492,
           12.848297213622292,
           14.54272863568216,
           9.974747474747476,
           12.830188679245284,
           12.676056338028168,
           11.32596685082873,
           8.176943699731904,
           7.446808510638298,
           10.407239819004525,
           7.430340557275541,
           3.6303630363036308,
           1.8867924528301887,
           8.860759493670885,
           4.83271375464684,
           5.660377358490567,
           3.7527593818984544,
           5.238095238095238,
           2.100840336134454,
           6.521739130434782,
           2.8475711892797317,
           3.125,
           3.2994923857868024,
           3.9800995024875623,
           1.5280135823429541,
           3.614457831325301,
           0,
           2.975206611570248,
           1.36986301369863,
           3.580562659846547,
           2.261306532663317,
           2.4096385542168677,
           1.9011406844106464,
           0,
           2.4834437086092715,
           2.479338842975207,
           2.2900763358778624,
           2.28310502283105,
           2.2508038585209005,
           3.9603960396039604,
           8.064516129032258,
           3.1914893617021276,
           2.4390243902439024,
           3.201219512195122,
           2.553191489361702,
           2.263779527559055,
           1.4842300556586272,
           0,
           1.8306636155606408,
           2.3622047244094486,
           1.1772853185595569,
           1.8501387604070305,
           0,
           1.876172607879925,
           2.5,
           4.782608695652174,
           5.072463768115942,
           2.941176470588235,
           1.7857142857142856,
           2.7027027027027026,
           2.7613412228796843,
           3.75,
           3.8696537678207736,
           3.05980528511822,
           4.447852760736196,
           6.471494607087827,
           4.728950403690888,
           3.203661327231121,
           4.6875,
           4.79825517993457,
           3.943661971830986,
           4.032258064516129,
           4.23861852433281,
           5.724725943970768,
           4.97737556561086,
           5.813953488372093,
           6.067415730337078,
           4.667609618104668,
           4.94752623688156,
           5.6634304207119746,
           4.378698224852071,
           6.267806267806268,
           4.838709677419355,
           5.856353591160221,
           3.6312849162011176,
           3.619909502262444,
           3.7325038880248838,
           4.241071428571429,
           5.321507760532151,
           9.090909090909092,
           4.502617801047121,
           3.783783783783784,
           4.820936639118457,
           4.285714285714286,
           3.2679738562091507,
           4.705882352941177,
           2.5,
           4.550625711035267,
           5.600933488914819,
           4.5760430686406455,
           4.320987654320987,
           5.483870967741936,
           3.482587064676617,
           7.142857142857142,
           4.83689538807649,
           4.329608938547486,
           3.7735849056603774,
           4.51505016722408,
           3.875,
           5.152224824355972,
           7.042253521126761,
           5.2691867124856815,
           5.357142857142857,
           6.478873239436619,
           7.15372907153729,
           5.673758865248227,
           4.235294117647059,
           7.368421052631578,
           4.833512352309345,
           4.449938195302843,
           3.3123028391167195,
           6.422018348623854,
           3.297997644287397,
           3.3816425120772946,
           10.112359550561797,
           4.248366013071895,
           3.2348804500703237,
           4.236006051437216,
           4.734576757532281,
           3.3333333333333335,
           5.031446540880504,
           4.651162790697675,
           4.8754062838569885,
           5.570652173913043,
           5.547445255474453,
           6.119402985074627,
           4.831932773109244,
           5.458515283842795,
           8.235294117647058,
           6.325581395348837,
           8.32356389214537,
           6.293706293706294,
           9.328782707622297,
           5.489864864864865,
           6.357388316151202,
           3.571428571428571,
           7.872174590802807,
           6.9835111542192045,
           5.532359081419624,
           5.80168776371308,
           7.488986784140969,
           5.834683954619125,
           4.545454545454546,
           7.4074074074074066,
           7.502061005770816,
           9.164733178654293,
           8.289473684210526,
           5.922330097087379,
           7.234042553191489,
           6,
           8.262108262108262,
           7.392996108949417
          ],
          "coloraxis": "coloraxis"
         },
         "name": "",
         "offsetgroup": "",
         "orientation": "v",
         "showlegend": false,
         "textposition": "auto",
         "type": "bar",
         "x": [
          "2020-05-13",
          "2020-05-14",
          "2020-05-15",
          "2020-05-16",
          "2020-05-17",
          "2020-05-18",
          "2020-05-19",
          "2020-05-20",
          "2020-05-21",
          "2020-05-22",
          "2020-05-23",
          "2020-05-24",
          "2020-05-25",
          "2020-05-26",
          "2020-05-27",
          "2020-05-28",
          "2020-05-29",
          "2020-05-30",
          "2020-05-31",
          "2020-06-01",
          "2020-06-02",
          "2020-06-03",
          "2020-06-04",
          "2020-06-05",
          "2020-06-06",
          "2020-06-07",
          "2020-06-08",
          "2020-06-09",
          "2020-06-10",
          "2020-06-11",
          "2020-06-12",
          "2020-06-13",
          "2020-06-14",
          "2020-06-15",
          "2020-06-16",
          "2020-06-17",
          "2020-06-18",
          "2020-06-19",
          "2020-06-20",
          "2020-06-21",
          "2020-06-22",
          "2020-06-23",
          "2020-06-24",
          "2020-06-25",
          "2020-06-26",
          "2020-06-27",
          "2020-06-28",
          "2020-06-29",
          "2020-06-30",
          "2020-07-01",
          "2020-07-02",
          "2020-07-03",
          "2020-07-04",
          "2020-07-05",
          "2020-07-06",
          "2020-07-07",
          "2020-07-08",
          "2020-07-09",
          "2020-07-10",
          "2020-07-11",
          "2020-07-12",
          "2020-07-13",
          "2020-07-14",
          "2020-07-15",
          "2020-07-16",
          "2020-07-17",
          "2020-07-18",
          "2020-07-19",
          "2020-07-20",
          "2020-07-21",
          "2020-07-22",
          "2020-07-23",
          "2020-07-24",
          "2020-07-25",
          "2020-07-26",
          "2020-07-27",
          "2020-07-28",
          "2020-07-29",
          "2020-07-30",
          "2020-07-31",
          "2020-08-01",
          "2020-08-02",
          "2020-08-03",
          "2020-08-04",
          "2020-08-05",
          "2020-08-06",
          "2020-08-07",
          "2020-08-08",
          "2020-08-09",
          "2020-08-10",
          "2020-08-11",
          "2020-08-12",
          "2020-08-13",
          "2020-08-14",
          "2020-08-15",
          "2020-08-16",
          "2020-08-17",
          "2020-08-18",
          "2020-08-19",
          "2020-08-20",
          "2020-08-21",
          "2020-08-22",
          "2020-08-23",
          "2020-08-24",
          "2020-08-25",
          "2020-08-26",
          "2020-08-27",
          "2020-08-28",
          "2020-08-29",
          "2020-08-30",
          "2020-08-31",
          "2020-09-01",
          "2020-09-02",
          "2020-09-03",
          "2020-09-04",
          "2020-09-05",
          "2020-09-06",
          "2020-09-07",
          "2020-09-08",
          "2020-09-09",
          "2020-09-10",
          "2020-09-11",
          "2020-09-12",
          "2020-09-13",
          "2020-09-14",
          "2020-09-15",
          "2020-09-16",
          "2020-09-17",
          "2020-09-18",
          "2020-09-19",
          "2020-09-20",
          "2020-09-21",
          "2020-09-22",
          "2020-09-23",
          "2020-09-24",
          "2020-09-25",
          "2020-09-26",
          "2020-09-27",
          "2020-09-28",
          "2020-09-29",
          "2020-09-30",
          "2020-10-01",
          "2020-10-02",
          "2020-10-03",
          "2020-10-04",
          "2020-10-05",
          "2020-10-06",
          "2020-10-07",
          "2020-10-08",
          "2020-10-09",
          "2020-10-10",
          "2020-10-11",
          "2020-10-12",
          "2020-10-13",
          "2020-10-14",
          "2020-10-15",
          "2020-10-16",
          "2020-10-17",
          "2020-10-18",
          "2020-10-19",
          "2020-10-20",
          "2020-10-21",
          "2020-10-22",
          "2020-10-23",
          "2020-10-24",
          "2020-10-25",
          "2020-10-26",
          "2020-10-27",
          "2020-10-28",
          "2020-10-29",
          "2020-10-30",
          "2020-10-31",
          "2020-11-01",
          "2020-11-02",
          "2020-11-03",
          "2020-11-04",
          "2020-11-05",
          "2020-11-06",
          "2020-11-07",
          "2020-11-08",
          "2020-11-09",
          "2020-11-10",
          "2020-11-11",
          "2020-11-12",
          "2020-11-13",
          "2020-11-14",
          "2020-11-15",
          "2020-11-16",
          "2020-11-17",
          "2020-11-18",
          "2020-11-19",
          "2020-11-20",
          "2020-11-21",
          "2020-11-22",
          "2020-11-23",
          "2020-11-24",
          "2020-11-25",
          "2020-11-26",
          "2020-11-27",
          "2020-11-28",
          "2020-11-29",
          "2020-11-30",
          "2020-12-01",
          "2020-12-02",
          "2020-12-03",
          "2020-12-04",
          "2020-12-05",
          "2020-12-06",
          "2020-12-07",
          "2020-12-08",
          "2020-12-09",
          "2020-12-10",
          "2020-12-11",
          "2020-12-12",
          "2020-12-13",
          "2020-12-14",
          "2020-12-15",
          "2020-12-16",
          "2020-12-17",
          "2020-12-18",
          "2020-12-19",
          "2020-12-20",
          "2020-12-21",
          "2020-12-22",
          "2020-12-23",
          "2020-12-24",
          "2020-12-25",
          "2020-12-26",
          "2020-12-27",
          "2020-12-28",
          "2020-12-29",
          "2020-12-30",
          "2020-12-31",
          "2021-01-01",
          "2021-01-02",
          "2021-01-03",
          "2021-01-04",
          "2021-01-05",
          "2021-01-06",
          "2021-01-07",
          "2021-01-08",
          "2021-01-09",
          "2021-01-10",
          "2021-01-11",
          "2021-01-12",
          "2021-01-13",
          "2021-01-14",
          "2021-01-15",
          "2021-01-16",
          "2021-01-17",
          "2021-01-18",
          "2021-01-19",
          "2021-01-20",
          "2021-01-21",
          "2021-01-22",
          "2021-01-23",
          "2021-01-24",
          "2021-01-25",
          "2021-01-26",
          "2021-01-27",
          "2021-01-28",
          "2021-01-29",
          "2021-01-30",
          "2021-01-31",
          "2021-02-01",
          "2021-02-02",
          "2021-02-03",
          "2021-02-04",
          "2021-02-05",
          "2021-02-06",
          "2021-02-07",
          "2021-02-08",
          "2021-02-09",
          "2021-02-10",
          "2021-02-11",
          "2021-02-12",
          "2021-02-13",
          "2021-02-14",
          "2021-02-15",
          "2021-02-16",
          "2021-02-17",
          "2021-02-18",
          "2021-02-19",
          "2021-02-20",
          "2021-02-21",
          "2021-02-22",
          "2021-02-23",
          "2021-02-24",
          "2021-02-25",
          "2021-02-26",
          "2021-02-27",
          "2021-02-28",
          "2021-03-01",
          "2021-03-02",
          "2021-03-03",
          "2021-03-04",
          "2021-03-05",
          "2021-03-06",
          "2021-03-07",
          "2021-03-08",
          "2021-03-09",
          "2021-03-10",
          "2021-03-11",
          "2021-03-12",
          "2021-03-13",
          "2021-03-14",
          "2021-03-15",
          "2021-03-16",
          "2021-03-17",
          "2021-03-18",
          "2021-03-19",
          "2021-03-20",
          "2021-03-21",
          "2021-03-22",
          "2021-03-23",
          "2021-03-24",
          "2021-03-25",
          "2021-03-26",
          "2021-03-27",
          "2021-03-28",
          "2021-03-29",
          "2021-03-30",
          "2021-03-31",
          "2021-04-01",
          "2021-04-02",
          "2021-04-03",
          "2021-04-04",
          "2021-04-05",
          "2021-04-06",
          "2021-04-07",
          "2021-04-08",
          "2021-04-09",
          "2021-04-10",
          "2021-04-11",
          "2021-04-12",
          "2021-04-13"
         ],
         "xaxis": "x",
         "y": [
          145,
          124,
          240,
          68,
          25,
          173,
          147,
          173,
          18,
          255,
          89,
          18,
          260,
          194,
          152,
          127,
          226,
          101,
          26,
          38,
          237,
          207,
          106,
          219,
          112,
          9,
          234,
          187,
          151,
          111,
          194,
          84,
          23,
          245,
          191,
          139,
          105,
          211,
          78,
          16,
          248,
          170,
          102,
          109,
          219,
          87,
          23,
          216,
          158,
          136,
          99,
          215,
          85,
          15,
          207,
          180,
          150,
          121,
          186,
          79,
          25,
          300,
          34,
          203,
          161,
          254,
          110,
          27,
          299,
          250,
          210,
          155,
          303,
          99,
          26,
          319,
          248,
          198,
          198,
          293,
          110,
          24,
          329,
          252,
          184,
          210,
          262,
          128,
          34,
          323,
          221,
          257,
          284,
          371,
          61,
          30,
          442,
          366,
          364,
          395,
          438,
          151,
          55,
          489,
          408,
          368,
          369,
          444,
          217,
          56,
          529,
          482,
          370,
          425,
          534,
          163,
          47,
          494,
          461,
          312,
          335,
          434,
          154,
          56,
          529,
          411,
          315,
          312,
          463,
          156,
          57,
          517,
          399,
          285,
          368,
          465,
          174,
          61,
          464,
          348,
          302,
          293,
          479,
          190,
          58,
          575,
          449,
          402,
          431,
          555,
          231,
          44,
          694,
          564,
          466,
          464,
          587,
          236,
          75,
          617,
          520,
          510,
          655,
          709,
          332,
          107,
          773,
          717,
          665,
          649,
          805,
          339,
          46,
          900,
          731,
          646,
          667,
          792,
          265,
          71,
          724,
          746,
          94,
          663,
          646,
          303,
          53,
          632,
          538,
          424,
          453,
          630,
          238,
          46,
          597,
          480,
          394,
          402,
          589,
          249,
          55,
          605,
          438,
          391,
          398,
          581,
          263,
          94,
          604,
          484,
          393,
          438,
          622,
          303,
          62,
          752,
          656,
          656,
          705,
          1016,
          539,
          108,
          1311,
          1397,
          1444,
          1081,
          73,
          533,
          80,
          920,
          828,
          850,
          784,
          37,
          507,
          80,
          982,
          719,
          652,
          649,
          867,
          437,
          64,
          917,
          710,
          620,
          637,
          821,
          442,
          86,
          890,
          707,
          667,
          618,
          845,
          351,
          62,
          905,
          716,
          663,
          643,
          896,
          451,
          88,
          955,
          740,
          726,
          630,
          918,
          425,
          80,
          879,
          857,
          743,
          648,
          930,
          402,
          84,
          889,
          716,
          636,
          598,
          800,
          427,
          71,
          873,
          784,
          710,
          657,
          846,
          425,
          95,
          931,
          809,
          634,
          545,
          849,
          414,
          89,
          918,
          711,
          661,
          697,
          930,
          477,
          86,
          923,
          736,
          685,
          670,
          952,
          458,
          85,
          1075,
          853,
          858,
          879,
          1184,
          582,
          84,
          1283,
          1031,
          958,
          948,
          1135,
          617,
          88,
          162,
          1213,
          862,
          760,
          1030,
          470,
          100,
          1053,
          771
         ],
         "yaxis": "y"
        }
       ],
       "layout": {
        "barmode": "relative",
        "coloraxis": {
         "colorbar": {
          "title": {
           "text": "% positive tests"
          }
         },
         "colorscale": [
          [
           0,
           "#0d0887"
          ],
          [
           0.1111111111111111,
           "#46039f"
          ],
          [
           0.2222222222222222,
           "#7201a8"
          ],
          [
           0.3333333333333333,
           "#9c179e"
          ],
          [
           0.4444444444444444,
           "#bd3786"
          ],
          [
           0.5555555555555556,
           "#d8576b"
          ],
          [
           0.6666666666666666,
           "#ed7953"
          ],
          [
           0.7777777777777778,
           "#fb9f3a"
          ],
          [
           0.8888888888888888,
           "#fdca26"
          ],
          [
           1,
           "#f0f921"
          ]
         ]
        },
        "height": 600,
        "legend": {
         "tracegroupgap": 0
        },
        "template": {
         "data": {
          "bar": [
           {
            "error_x": {
             "color": "#2a3f5f"
            },
            "error_y": {
             "color": "#2a3f5f"
            },
            "marker": {
             "line": {
              "color": "#E5ECF6",
              "width": 0.5
             }
            },
            "type": "bar"
           }
          ],
          "barpolar": [
           {
            "marker": {
             "line": {
              "color": "#E5ECF6",
              "width": 0.5
             }
            },
            "type": "barpolar"
           }
          ],
          "carpet": [
           {
            "aaxis": {
             "endlinecolor": "#2a3f5f",
             "gridcolor": "white",
             "linecolor": "white",
             "minorgridcolor": "white",
             "startlinecolor": "#2a3f5f"
            },
            "baxis": {
             "endlinecolor": "#2a3f5f",
             "gridcolor": "white",
             "linecolor": "white",
             "minorgridcolor": "white",
             "startlinecolor": "#2a3f5f"
            },
            "type": "carpet"
           }
          ],
          "choropleth": [
           {
            "colorbar": {
             "outlinewidth": 0,
             "ticks": ""
            },
            "type": "choropleth"
           }
          ],
          "contour": [
           {
            "colorbar": {
             "outlinewidth": 0,
             "ticks": ""
            },
            "colorscale": [
             [
              0,
              "#0d0887"
             ],
             [
              0.1111111111111111,
              "#46039f"
             ],
             [
              0.2222222222222222,
              "#7201a8"
             ],
             [
              0.3333333333333333,
              "#9c179e"
             ],
             [
              0.4444444444444444,
              "#bd3786"
             ],
             [
              0.5555555555555556,
              "#d8576b"
             ],
             [
              0.6666666666666666,
              "#ed7953"
             ],
             [
              0.7777777777777778,
              "#fb9f3a"
             ],
             [
              0.8888888888888888,
              "#fdca26"
             ],
             [
              1,
              "#f0f921"
             ]
            ],
            "type": "contour"
           }
          ],
          "contourcarpet": [
           {
            "colorbar": {
             "outlinewidth": 0,
             "ticks": ""
            },
            "type": "contourcarpet"
           }
          ],
          "heatmap": [
           {
            "colorbar": {
             "outlinewidth": 0,
             "ticks": ""
            },
            "colorscale": [
             [
              0,
              "#0d0887"
             ],
             [
              0.1111111111111111,
              "#46039f"
             ],
             [
              0.2222222222222222,
              "#7201a8"
             ],
             [
              0.3333333333333333,
              "#9c179e"
             ],
             [
              0.4444444444444444,
              "#bd3786"
             ],
             [
              0.5555555555555556,
              "#d8576b"
             ],
             [
              0.6666666666666666,
              "#ed7953"
             ],
             [
              0.7777777777777778,
              "#fb9f3a"
             ],
             [
              0.8888888888888888,
              "#fdca26"
             ],
             [
              1,
              "#f0f921"
             ]
            ],
            "type": "heatmap"
           }
          ],
          "heatmapgl": [
           {
            "colorbar": {
             "outlinewidth": 0,
             "ticks": ""
            },
            "colorscale": [
             [
              0,
              "#0d0887"
             ],
             [
              0.1111111111111111,
              "#46039f"
             ],
             [
              0.2222222222222222,
              "#7201a8"
             ],
             [
              0.3333333333333333,
              "#9c179e"
             ],
             [
              0.4444444444444444,
              "#bd3786"
             ],
             [
              0.5555555555555556,
              "#d8576b"
             ],
             [
              0.6666666666666666,
              "#ed7953"
             ],
             [
              0.7777777777777778,
              "#fb9f3a"
             ],
             [
              0.8888888888888888,
              "#fdca26"
             ],
             [
              1,
              "#f0f921"
             ]
            ],
            "type": "heatmapgl"
           }
          ],
          "histogram": [
           {
            "marker": {
             "colorbar": {
              "outlinewidth": 0,
              "ticks": ""
             }
            },
            "type": "histogram"
           }
          ],
          "histogram2d": [
           {
            "colorbar": {
             "outlinewidth": 0,
             "ticks": ""
            },
            "colorscale": [
             [
              0,
              "#0d0887"
             ],
             [
              0.1111111111111111,
              "#46039f"
             ],
             [
              0.2222222222222222,
              "#7201a8"
             ],
             [
              0.3333333333333333,
              "#9c179e"
             ],
             [
              0.4444444444444444,
              "#bd3786"
             ],
             [
              0.5555555555555556,
              "#d8576b"
             ],
             [
              0.6666666666666666,
              "#ed7953"
             ],
             [
              0.7777777777777778,
              "#fb9f3a"
             ],
             [
              0.8888888888888888,
              "#fdca26"
             ],
             [
              1,
              "#f0f921"
             ]
            ],
            "type": "histogram2d"
           }
          ],
          "histogram2dcontour": [
           {
            "colorbar": {
             "outlinewidth": 0,
             "ticks": ""
            },
            "colorscale": [
             [
              0,
              "#0d0887"
             ],
             [
              0.1111111111111111,
              "#46039f"
             ],
             [
              0.2222222222222222,
              "#7201a8"
             ],
             [
              0.3333333333333333,
              "#9c179e"
             ],
             [
              0.4444444444444444,
              "#bd3786"
             ],
             [
              0.5555555555555556,
              "#d8576b"
             ],
             [
              0.6666666666666666,
              "#ed7953"
             ],
             [
              0.7777777777777778,
              "#fb9f3a"
             ],
             [
              0.8888888888888888,
              "#fdca26"
             ],
             [
              1,
              "#f0f921"
             ]
            ],
            "type": "histogram2dcontour"
           }
          ],
          "mesh3d": [
           {
            "colorbar": {
             "outlinewidth": 0,
             "ticks": ""
            },
            "type": "mesh3d"
           }
          ],
          "parcoords": [
           {
            "line": {
             "colorbar": {
              "outlinewidth": 0,
              "ticks": ""
             }
            },
            "type": "parcoords"
           }
          ],
          "pie": [
           {
            "automargin": true,
            "type": "pie"
           }
          ],
          "scatter": [
           {
            "marker": {
             "colorbar": {
              "outlinewidth": 0,
              "ticks": ""
             }
            },
            "type": "scatter"
           }
          ],
          "scatter3d": [
           {
            "line": {
             "colorbar": {
              "outlinewidth": 0,
              "ticks": ""
             }
            },
            "marker": {
             "colorbar": {
              "outlinewidth": 0,
              "ticks": ""
             }
            },
            "type": "scatter3d"
           }
          ],
          "scattercarpet": [
           {
            "marker": {
             "colorbar": {
              "outlinewidth": 0,
              "ticks": ""
             }
            },
            "type": "scattercarpet"
           }
          ],
          "scattergeo": [
           {
            "marker": {
             "colorbar": {
              "outlinewidth": 0,
              "ticks": ""
             }
            },
            "type": "scattergeo"
           }
          ],
          "scattergl": [
           {
            "marker": {
             "colorbar": {
              "outlinewidth": 0,
              "ticks": ""
             }
            },
            "type": "scattergl"
           }
          ],
          "scattermapbox": [
           {
            "marker": {
             "colorbar": {
              "outlinewidth": 0,
              "ticks": ""
             }
            },
            "type": "scattermapbox"
           }
          ],
          "scatterpolar": [
           {
            "marker": {
             "colorbar": {
              "outlinewidth": 0,
              "ticks": ""
             }
            },
            "type": "scatterpolar"
           }
          ],
          "scatterpolargl": [
           {
            "marker": {
             "colorbar": {
              "outlinewidth": 0,
              "ticks": ""
             }
            },
            "type": "scatterpolargl"
           }
          ],
          "scatterternary": [
           {
            "marker": {
             "colorbar": {
              "outlinewidth": 0,
              "ticks": ""
             }
            },
            "type": "scatterternary"
           }
          ],
          "surface": [
           {
            "colorbar": {
             "outlinewidth": 0,
             "ticks": ""
            },
            "colorscale": [
             [
              0,
              "#0d0887"
             ],
             [
              0.1111111111111111,
              "#46039f"
             ],
             [
              0.2222222222222222,
              "#7201a8"
             ],
             [
              0.3333333333333333,
              "#9c179e"
             ],
             [
              0.4444444444444444,
              "#bd3786"
             ],
             [
              0.5555555555555556,
              "#d8576b"
             ],
             [
              0.6666666666666666,
              "#ed7953"
             ],
             [
              0.7777777777777778,
              "#fb9f3a"
             ],
             [
              0.8888888888888888,
              "#fdca26"
             ],
             [
              1,
              "#f0f921"
             ]
            ],
            "type": "surface"
           }
          ],
          "table": [
           {
            "cells": {
             "fill": {
              "color": "#EBF0F8"
             },
             "line": {
              "color": "white"
             }
            },
            "header": {
             "fill": {
              "color": "#C8D4E3"
             },
             "line": {
              "color": "white"
             }
            },
            "type": "table"
           }
          ]
         },
         "layout": {
          "annotationdefaults": {
           "arrowcolor": "#2a3f5f",
           "arrowhead": 0,
           "arrowwidth": 1
          },
          "autotypenumbers": "strict",
          "coloraxis": {
           "colorbar": {
            "outlinewidth": 0,
            "ticks": ""
           }
          },
          "colorscale": {
           "diverging": [
            [
             0,
             "#8e0152"
            ],
            [
             0.1,
             "#c51b7d"
            ],
            [
             0.2,
             "#de77ae"
            ],
            [
             0.3,
             "#f1b6da"
            ],
            [
             0.4,
             "#fde0ef"
            ],
            [
             0.5,
             "#f7f7f7"
            ],
            [
             0.6,
             "#e6f5d0"
            ],
            [
             0.7,
             "#b8e186"
            ],
            [
             0.8,
             "#7fbc41"
            ],
            [
             0.9,
             "#4d9221"
            ],
            [
             1,
             "#276419"
            ]
           ],
           "sequential": [
            [
             0,
             "#0d0887"
            ],
            [
             0.1111111111111111,
             "#46039f"
            ],
            [
             0.2222222222222222,
             "#7201a8"
            ],
            [
             0.3333333333333333,
             "#9c179e"
            ],
            [
             0.4444444444444444,
             "#bd3786"
            ],
            [
             0.5555555555555556,
             "#d8576b"
            ],
            [
             0.6666666666666666,
             "#ed7953"
            ],
            [
             0.7777777777777778,
             "#fb9f3a"
            ],
            [
             0.8888888888888888,
             "#fdca26"
            ],
            [
             1,
             "#f0f921"
            ]
           ],
           "sequentialminus": [
            [
             0,
             "#0d0887"
            ],
            [
             0.1111111111111111,
             "#46039f"
            ],
            [
             0.2222222222222222,
             "#7201a8"
            ],
            [
             0.3333333333333333,
             "#9c179e"
            ],
            [
             0.4444444444444444,
             "#bd3786"
            ],
            [
             0.5555555555555556,
             "#d8576b"
            ],
            [
             0.6666666666666666,
             "#ed7953"
            ],
            [
             0.7777777777777778,
             "#fb9f3a"
            ],
            [
             0.8888888888888888,
             "#fdca26"
            ],
            [
             1,
             "#f0f921"
            ]
           ]
          },
          "colorway": [
           "#636efa",
           "#EF553B",
           "#00cc96",
           "#ab63fa",
           "#FFA15A",
           "#19d3f3",
           "#FF6692",
           "#B6E880",
           "#FF97FF",
           "#FECB52"
          ],
          "font": {
           "color": "#2a3f5f"
          },
          "geo": {
           "bgcolor": "white",
           "lakecolor": "white",
           "landcolor": "#E5ECF6",
           "showlakes": true,
           "showland": true,
           "subunitcolor": "white"
          },
          "hoverlabel": {
           "align": "left"
          },
          "hovermode": "closest",
          "mapbox": {
           "style": "light"
          },
          "paper_bgcolor": "white",
          "plot_bgcolor": "#E5ECF6",
          "polar": {
           "angularaxis": {
            "gridcolor": "white",
            "linecolor": "white",
            "ticks": ""
           },
           "bgcolor": "#E5ECF6",
           "radialaxis": {
            "gridcolor": "white",
            "linecolor": "white",
            "ticks": ""
           }
          },
          "scene": {
           "xaxis": {
            "backgroundcolor": "#E5ECF6",
            "gridcolor": "white",
            "gridwidth": 2,
            "linecolor": "white",
            "showbackground": true,
            "ticks": "",
            "zerolinecolor": "white"
           },
           "yaxis": {
            "backgroundcolor": "#E5ECF6",
            "gridcolor": "white",
            "gridwidth": 2,
            "linecolor": "white",
            "showbackground": true,
            "ticks": "",
            "zerolinecolor": "white"
           },
           "zaxis": {
            "backgroundcolor": "#E5ECF6",
            "gridcolor": "white",
            "gridwidth": 2,
            "linecolor": "white",
            "showbackground": true,
            "ticks": "",
            "zerolinecolor": "white"
           }
          },
          "shapedefaults": {
           "line": {
            "color": "#2a3f5f"
           }
          },
          "ternary": {
           "aaxis": {
            "gridcolor": "white",
            "linecolor": "white",
            "ticks": ""
           },
           "baxis": {
            "gridcolor": "white",
            "linecolor": "white",
            "ticks": ""
           },
           "bgcolor": "#E5ECF6",
           "caxis": {
            "gridcolor": "white",
            "linecolor": "white",
            "ticks": ""
           }
          },
          "title": {
           "x": 0.05
          },
          "xaxis": {
           "automargin": true,
           "gridcolor": "white",
           "linecolor": "white",
           "ticks": "",
           "title": {
            "standoff": 15
           },
           "zerolinecolor": "white",
           "zerolinewidth": 2
          },
          "yaxis": {
           "automargin": true,
           "gridcolor": "white",
           "linecolor": "white",
           "ticks": "",
           "title": {
            "standoff": 15
           },
           "zerolinecolor": "white",
           "zerolinewidth": 2
          }
         }
        },
        "title": {
         "text": "Covid Screening in department 34 for class age 69 "
        },
        "width": 1000,
        "xaxis": {
         "anchor": "y",
         "domain": [
          0,
          1
         ],
         "rangeslider": {
          "visible": true
         },
         "title": {
          "text": "date"
         }
        },
        "yaxis": {
         "anchor": "x",
         "domain": [
          0,
          1
         ],
         "title": {
          "text": "Tests number"
         }
        }
       }
      }
     },
     "metadata": {}
    }
   ],
   "source": [
    "daily_test(69,'34')"
   ]
  },
  {
   "cell_type": "code",
   "execution_count": 3,
   "metadata": {},
   "outputs": [],
   "source": [
    "import icu.visualization\n",
    "from icu.visualization import icu_reg_repartition"
   ]
  },
  {
   "cell_type": "code",
   "execution_count": 4,
   "metadata": {},
   "outputs": [
    {
     "output_type": "display_data",
     "data": {
      "application/vnd.plotly.v1+json": {
       "config": {
        "plotlyServerURL": "https://plot.ly"
       },
       "data": [
        {
         "domain": {
          "x": [
           0,
           1
          ],
          "y": [
           0,
           1
          ]
         },
         "hovertemplate": "index=%{label}<br>Total number=%{value}<extra></extra>",
         "labels": [
          "Île-de-France",
          "Nouvelle-Aquitaine",
          "Auvergne-Rhône-Alpes",
          "Bourgogne-Franche-Comté",
          "Hauts-de-France",
          "Grand-Est",
          "Centre-Val-de-Loire",
          "Normandie",
          "Pays de la Loire",
          "Bretagne",
          "Occitanie",
          "Provence-Alpes-Côte-d'Azur",
          "Corse",
          "Régions d'Outre Mer"
         ],
         "legendgroup": "",
         "name": "",
         "showlegend": true,
         "type": "pie",
         "values": [
          316244,
          47004,
          131272,
          45783,
          104864,
          106594,
          34585,
          33113,
          27361,
          18197,
          69045,
          103278,
          3032,
          18235
         ]
        }
       ],
       "layout": {
        "height": 500,
        "legend": {
         "tracegroupgap": 0
        },
        "piecolorway": [
         "rgb(103,0,31)",
         "rgb(178,24,43)",
         "rgb(214,96,77)",
         "rgb(244,165,130)",
         "rgb(253,219,199)",
         "rgb(247,247,247)",
         "rgb(209,229,240)",
         "rgb(146,197,222)",
         "rgb(67,147,195)",
         "rgb(33,102,172)",
         "rgb(5,48,97)"
        ],
        "template": {
         "data": {
          "bar": [
           {
            "error_x": {
             "color": "#2a3f5f"
            },
            "error_y": {
             "color": "#2a3f5f"
            },
            "marker": {
             "line": {
              "color": "#E5ECF6",
              "width": 0.5
             }
            },
            "type": "bar"
           }
          ],
          "barpolar": [
           {
            "marker": {
             "line": {
              "color": "#E5ECF6",
              "width": 0.5
             }
            },
            "type": "barpolar"
           }
          ],
          "carpet": [
           {
            "aaxis": {
             "endlinecolor": "#2a3f5f",
             "gridcolor": "white",
             "linecolor": "white",
             "minorgridcolor": "white",
             "startlinecolor": "#2a3f5f"
            },
            "baxis": {
             "endlinecolor": "#2a3f5f",
             "gridcolor": "white",
             "linecolor": "white",
             "minorgridcolor": "white",
             "startlinecolor": "#2a3f5f"
            },
            "type": "carpet"
           }
          ],
          "choropleth": [
           {
            "colorbar": {
             "outlinewidth": 0,
             "ticks": ""
            },
            "type": "choropleth"
           }
          ],
          "contour": [
           {
            "colorbar": {
             "outlinewidth": 0,
             "ticks": ""
            },
            "colorscale": [
             [
              0,
              "#0d0887"
             ],
             [
              0.1111111111111111,
              "#46039f"
             ],
             [
              0.2222222222222222,
              "#7201a8"
             ],
             [
              0.3333333333333333,
              "#9c179e"
             ],
             [
              0.4444444444444444,
              "#bd3786"
             ],
             [
              0.5555555555555556,
              "#d8576b"
             ],
             [
              0.6666666666666666,
              "#ed7953"
             ],
             [
              0.7777777777777778,
              "#fb9f3a"
             ],
             [
              0.8888888888888888,
              "#fdca26"
             ],
             [
              1,
              "#f0f921"
             ]
            ],
            "type": "contour"
           }
          ],
          "contourcarpet": [
           {
            "colorbar": {
             "outlinewidth": 0,
             "ticks": ""
            },
            "type": "contourcarpet"
           }
          ],
          "heatmap": [
           {
            "colorbar": {
             "outlinewidth": 0,
             "ticks": ""
            },
            "colorscale": [
             [
              0,
              "#0d0887"
             ],
             [
              0.1111111111111111,
              "#46039f"
             ],
             [
              0.2222222222222222,
              "#7201a8"
             ],
             [
              0.3333333333333333,
              "#9c179e"
             ],
             [
              0.4444444444444444,
              "#bd3786"
             ],
             [
              0.5555555555555556,
              "#d8576b"
             ],
             [
              0.6666666666666666,
              "#ed7953"
             ],
             [
              0.7777777777777778,
              "#fb9f3a"
             ],
             [
              0.8888888888888888,
              "#fdca26"
             ],
             [
              1,
              "#f0f921"
             ]
            ],
            "type": "heatmap"
           }
          ],
          "heatmapgl": [
           {
            "colorbar": {
             "outlinewidth": 0,
             "ticks": ""
            },
            "colorscale": [
             [
              0,
              "#0d0887"
             ],
             [
              0.1111111111111111,
              "#46039f"
             ],
             [
              0.2222222222222222,
              "#7201a8"
             ],
             [
              0.3333333333333333,
              "#9c179e"
             ],
             [
              0.4444444444444444,
              "#bd3786"
             ],
             [
              0.5555555555555556,
              "#d8576b"
             ],
             [
              0.6666666666666666,
              "#ed7953"
             ],
             [
              0.7777777777777778,
              "#fb9f3a"
             ],
             [
              0.8888888888888888,
              "#fdca26"
             ],
             [
              1,
              "#f0f921"
             ]
            ],
            "type": "heatmapgl"
           }
          ],
          "histogram": [
           {
            "marker": {
             "colorbar": {
              "outlinewidth": 0,
              "ticks": ""
             }
            },
            "type": "histogram"
           }
          ],
          "histogram2d": [
           {
            "colorbar": {
             "outlinewidth": 0,
             "ticks": ""
            },
            "colorscale": [
             [
              0,
              "#0d0887"
             ],
             [
              0.1111111111111111,
              "#46039f"
             ],
             [
              0.2222222222222222,
              "#7201a8"
             ],
             [
              0.3333333333333333,
              "#9c179e"
             ],
             [
              0.4444444444444444,
              "#bd3786"
             ],
             [
              0.5555555555555556,
              "#d8576b"
             ],
             [
              0.6666666666666666,
              "#ed7953"
             ],
             [
              0.7777777777777778,
              "#fb9f3a"
             ],
             [
              0.8888888888888888,
              "#fdca26"
             ],
             [
              1,
              "#f0f921"
             ]
            ],
            "type": "histogram2d"
           }
          ],
          "histogram2dcontour": [
           {
            "colorbar": {
             "outlinewidth": 0,
             "ticks": ""
            },
            "colorscale": [
             [
              0,
              "#0d0887"
             ],
             [
              0.1111111111111111,
              "#46039f"
             ],
             [
              0.2222222222222222,
              "#7201a8"
             ],
             [
              0.3333333333333333,
              "#9c179e"
             ],
             [
              0.4444444444444444,
              "#bd3786"
             ],
             [
              0.5555555555555556,
              "#d8576b"
             ],
             [
              0.6666666666666666,
              "#ed7953"
             ],
             [
              0.7777777777777778,
              "#fb9f3a"
             ],
             [
              0.8888888888888888,
              "#fdca26"
             ],
             [
              1,
              "#f0f921"
             ]
            ],
            "type": "histogram2dcontour"
           }
          ],
          "mesh3d": [
           {
            "colorbar": {
             "outlinewidth": 0,
             "ticks": ""
            },
            "type": "mesh3d"
           }
          ],
          "parcoords": [
           {
            "line": {
             "colorbar": {
              "outlinewidth": 0,
              "ticks": ""
             }
            },
            "type": "parcoords"
           }
          ],
          "pie": [
           {
            "automargin": true,
            "type": "pie"
           }
          ],
          "scatter": [
           {
            "marker": {
             "colorbar": {
              "outlinewidth": 0,
              "ticks": ""
             }
            },
            "type": "scatter"
           }
          ],
          "scatter3d": [
           {
            "line": {
             "colorbar": {
              "outlinewidth": 0,
              "ticks": ""
             }
            },
            "marker": {
             "colorbar": {
              "outlinewidth": 0,
              "ticks": ""
             }
            },
            "type": "scatter3d"
           }
          ],
          "scattercarpet": [
           {
            "marker": {
             "colorbar": {
              "outlinewidth": 0,
              "ticks": ""
             }
            },
            "type": "scattercarpet"
           }
          ],
          "scattergeo": [
           {
            "marker": {
             "colorbar": {
              "outlinewidth": 0,
              "ticks": ""
             }
            },
            "type": "scattergeo"
           }
          ],
          "scattergl": [
           {
            "marker": {
             "colorbar": {
              "outlinewidth": 0,
              "ticks": ""
             }
            },
            "type": "scattergl"
           }
          ],
          "scattermapbox": [
           {
            "marker": {
             "colorbar": {
              "outlinewidth": 0,
              "ticks": ""
             }
            },
            "type": "scattermapbox"
           }
          ],
          "scatterpolar": [
           {
            "marker": {
             "colorbar": {
              "outlinewidth": 0,
              "ticks": ""
             }
            },
            "type": "scatterpolar"
           }
          ],
          "scatterpolargl": [
           {
            "marker": {
             "colorbar": {
              "outlinewidth": 0,
              "ticks": ""
             }
            },
            "type": "scatterpolargl"
           }
          ],
          "scatterternary": [
           {
            "marker": {
             "colorbar": {
              "outlinewidth": 0,
              "ticks": ""
             }
            },
            "type": "scatterternary"
           }
          ],
          "surface": [
           {
            "colorbar": {
             "outlinewidth": 0,
             "ticks": ""
            },
            "colorscale": [
             [
              0,
              "#0d0887"
             ],
             [
              0.1111111111111111,
              "#46039f"
             ],
             [
              0.2222222222222222,
              "#7201a8"
             ],
             [
              0.3333333333333333,
              "#9c179e"
             ],
             [
              0.4444444444444444,
              "#bd3786"
             ],
             [
              0.5555555555555556,
              "#d8576b"
             ],
             [
              0.6666666666666666,
              "#ed7953"
             ],
             [
              0.7777777777777778,
              "#fb9f3a"
             ],
             [
              0.8888888888888888,
              "#fdca26"
             ],
             [
              1,
              "#f0f921"
             ]
            ],
            "type": "surface"
           }
          ],
          "table": [
           {
            "cells": {
             "fill": {
              "color": "#EBF0F8"
             },
             "line": {
              "color": "white"
             }
            },
            "header": {
             "fill": {
              "color": "#C8D4E3"
             },
             "line": {
              "color": "white"
             }
            },
            "type": "table"
           }
          ]
         },
         "layout": {
          "annotationdefaults": {
           "arrowcolor": "#2a3f5f",
           "arrowhead": 0,
           "arrowwidth": 1
          },
          "autotypenumbers": "strict",
          "coloraxis": {
           "colorbar": {
            "outlinewidth": 0,
            "ticks": ""
           }
          },
          "colorscale": {
           "diverging": [
            [
             0,
             "#8e0152"
            ],
            [
             0.1,
             "#c51b7d"
            ],
            [
             0.2,
             "#de77ae"
            ],
            [
             0.3,
             "#f1b6da"
            ],
            [
             0.4,
             "#fde0ef"
            ],
            [
             0.5,
             "#f7f7f7"
            ],
            [
             0.6,
             "#e6f5d0"
            ],
            [
             0.7,
             "#b8e186"
            ],
            [
             0.8,
             "#7fbc41"
            ],
            [
             0.9,
             "#4d9221"
            ],
            [
             1,
             "#276419"
            ]
           ],
           "sequential": [
            [
             0,
             "#0d0887"
            ],
            [
             0.1111111111111111,
             "#46039f"
            ],
            [
             0.2222222222222222,
             "#7201a8"
            ],
            [
             0.3333333333333333,
             "#9c179e"
            ],
            [
             0.4444444444444444,
             "#bd3786"
            ],
            [
             0.5555555555555556,
             "#d8576b"
            ],
            [
             0.6666666666666666,
             "#ed7953"
            ],
            [
             0.7777777777777778,
             "#fb9f3a"
            ],
            [
             0.8888888888888888,
             "#fdca26"
            ],
            [
             1,
             "#f0f921"
            ]
           ],
           "sequentialminus": [
            [
             0,
             "#0d0887"
            ],
            [
             0.1111111111111111,
             "#46039f"
            ],
            [
             0.2222222222222222,
             "#7201a8"
            ],
            [
             0.3333333333333333,
             "#9c179e"
            ],
            [
             0.4444444444444444,
             "#bd3786"
            ],
            [
             0.5555555555555556,
             "#d8576b"
            ],
            [
             0.6666666666666666,
             "#ed7953"
            ],
            [
             0.7777777777777778,
             "#fb9f3a"
            ],
            [
             0.8888888888888888,
             "#fdca26"
            ],
            [
             1,
             "#f0f921"
            ]
           ]
          },
          "colorway": [
           "#636efa",
           "#EF553B",
           "#00cc96",
           "#ab63fa",
           "#FFA15A",
           "#19d3f3",
           "#FF6692",
           "#B6E880",
           "#FF97FF",
           "#FECB52"
          ],
          "font": {
           "color": "#2a3f5f"
          },
          "geo": {
           "bgcolor": "white",
           "lakecolor": "white",
           "landcolor": "#E5ECF6",
           "showlakes": true,
           "showland": true,
           "subunitcolor": "white"
          },
          "hoverlabel": {
           "align": "left"
          },
          "hovermode": "closest",
          "mapbox": {
           "style": "light"
          },
          "paper_bgcolor": "white",
          "plot_bgcolor": "#E5ECF6",
          "polar": {
           "angularaxis": {
            "gridcolor": "white",
            "linecolor": "white",
            "ticks": ""
           },
           "bgcolor": "#E5ECF6",
           "radialaxis": {
            "gridcolor": "white",
            "linecolor": "white",
            "ticks": ""
           }
          },
          "scene": {
           "xaxis": {
            "backgroundcolor": "#E5ECF6",
            "gridcolor": "white",
            "gridwidth": 2,
            "linecolor": "white",
            "showbackground": true,
            "ticks": "",
            "zerolinecolor": "white"
           },
           "yaxis": {
            "backgroundcolor": "#E5ECF6",
            "gridcolor": "white",
            "gridwidth": 2,
            "linecolor": "white",
            "showbackground": true,
            "ticks": "",
            "zerolinecolor": "white"
           },
           "zaxis": {
            "backgroundcolor": "#E5ECF6",
            "gridcolor": "white",
            "gridwidth": 2,
            "linecolor": "white",
            "showbackground": true,
            "ticks": "",
            "zerolinecolor": "white"
           }
          },
          "shapedefaults": {
           "line": {
            "color": "#2a3f5f"
           }
          },
          "ternary": {
           "aaxis": {
            "gridcolor": "white",
            "linecolor": "white",
            "ticks": ""
           },
           "baxis": {
            "gridcolor": "white",
            "linecolor": "white",
            "ticks": ""
           },
           "bgcolor": "#E5ECF6",
           "caxis": {
            "gridcolor": "white",
            "linecolor": "white",
            "ticks": ""
           }
          },
          "title": {
           "x": 0.05
          },
          "xaxis": {
           "automargin": true,
           "gridcolor": "white",
           "linecolor": "white",
           "ticks": "",
           "title": {
            "standoff": 15
           },
           "zerolinecolor": "white",
           "zerolinewidth": 2
          },
          "yaxis": {
           "automargin": true,
           "gridcolor": "white",
           "linecolor": "white",
           "ticks": "",
           "title": {
            "standoff": 15
           },
           "zerolinecolor": "white",
           "zerolinewidth": 2
          }
         }
        },
        "title": {
         "text": "Regional repartition of ICU during Covid19 crisis"
        },
        "width": 800
       }
      }
     },
     "metadata": {}
    }
   ],
   "source": [
    "icu_reg_repartition()"
   ]
  },
  {
   "cell_type": "code",
   "execution_count": null,
   "metadata": {},
   "outputs": [],
   "source": []
  }
 ]
}