{
 "metadata": {
  "language_info": {
   "codemirror_mode": {
    "name": "ipython",
    "version": 3
   },
   "file_extension": ".py",
   "mimetype": "text/x-python",
   "name": "python",
   "nbconvert_exporter": "python",
   "pygments_lexer": "ipython3",
   "version": "3.8.8-final"
  },
  "orig_nbformat": 2,
  "kernelspec": {
   "name": "python388jvsc74a57bd0f2553dd8eab56fa176af5ba2b5dc4cf53e056913a0b7c75b8a54aa30280dccb2",
   "display_name": "Python 3.8.8 64-bit ('stef_env': conda)"
  }
 },
 "nbformat": 4,
 "nbformat_minor": 2,
 "cells": [
  {
   "cell_type": "code",
   "execution_count": 3,
   "metadata": {},
   "outputs": [],
   "source": [
    "#LIBRAIRIE\n",
    "import pandas as pd\n",
    "from datetime import datetime\n",
    "from matplotlib import pyplot as plt\n",
    "import ipympl\n",
    "import ipywidgets as widgets\n",
    "from ipywidgets import interactive, interact\n",
    "%matplotlib widget\n",
    "import plotly.express as px"
   ]
  },
  {
   "source": [
    "CONFINEMENT 1 : 17/03/2020 - 10/05/2020 tout est fermé, 1km/1h"
   ],
   "cell_type": "markdown",
   "metadata": {}
  },
  {
   "cell_type": "code",
   "execution_count": 4,
   "metadata": {},
   "outputs": [],
   "source": [
    "confinement_1 = pd.read_csv('../data_covid_clean.csv')"
   ]
  },
  {
   "cell_type": "code",
   "execution_count": 5,
   "metadata": {},
   "outputs": [],
   "source": [
    "confinement_1.drop(['deces', 'hospitalises', 'nouvelles_hospitalisations', 'nouvelles_reanimations', 'gueris'],1, inplace = True)"
   ]
  },
  {
   "cell_type": "code",
   "execution_count": 6,
   "metadata": {},
   "outputs": [],
   "source": [
    "confinement_1 = confinement_1.set_index('date')\n",
    "confinement_1 = confinement_1.sort_index()\n",
    "confinement_1 = confinement_1.loc['2020-03-17':'2020-05-10']"
   ]
  },
  {
   "cell_type": "code",
   "execution_count": 7,
   "metadata": {},
   "outputs": [],
   "source": [
    "confinement_1.index = pd.to_datetime(confinement_1.index)"
   ]
  },
  {
   "cell_type": "code",
   "execution_count": 8,
   "metadata": {},
   "outputs": [],
   "source": [
    "confinement_1 = confinement_1.loc[confinement_1['source_nom']==\"Santé publique France Data\",:]\n",
    "confinement_1.drop(['source_nom'],1, inplace = True)"
   ]
  },
  {
   "cell_type": "code",
   "execution_count": 9,
   "metadata": {},
   "outputs": [
    {
     "output_type": "execute_result",
     "data": {
      "text/plain": [
       "           maille_code            maille_nom  reanimation\n",
       "date                                                     \n",
       "2020-03-18      DEP-62         Pas-de-Calais          9.0\n",
       "2020-03-18      DEP-63           Puy-de-Dôme          2.0\n",
       "2020-03-18      DEP-64  Pyrénées-Atlantiques          0.0\n",
       "2020-03-18      DEP-65       Hautes-Pyrénées          0.0\n",
       "2020-03-18      DEP-66   Pyrénées-Orientales          5.0\n",
       "...                ...                   ...          ...\n",
       "2020-05-10      DEP-2B           Haute-Corse          2.0\n",
       "2020-05-10      DEP-2A          Corse-du-Sud          4.0\n",
       "2020-05-10      DEP-29             Finistère         11.0\n",
       "2020-05-10      DEP-28          Eure-et-Loir         16.0\n",
       "2020-05-10      DEP-36                 Indre          6.0\n",
       "\n",
       "[5454 rows x 3 columns]"
      ],
      "text/html": "<div>\n<style scoped>\n    .dataframe tbody tr th:only-of-type {\n        vertical-align: middle;\n    }\n\n    .dataframe tbody tr th {\n        vertical-align: top;\n    }\n\n    .dataframe thead th {\n        text-align: right;\n    }\n</style>\n<table border=\"1\" class=\"dataframe\">\n  <thead>\n    <tr style=\"text-align: right;\">\n      <th></th>\n      <th>maille_code</th>\n      <th>maille_nom</th>\n      <th>reanimation</th>\n    </tr>\n    <tr>\n      <th>date</th>\n      <th></th>\n      <th></th>\n      <th></th>\n    </tr>\n  </thead>\n  <tbody>\n    <tr>\n      <th>2020-03-18</th>\n      <td>DEP-62</td>\n      <td>Pas-de-Calais</td>\n      <td>9.0</td>\n    </tr>\n    <tr>\n      <th>2020-03-18</th>\n      <td>DEP-63</td>\n      <td>Puy-de-Dôme</td>\n      <td>2.0</td>\n    </tr>\n    <tr>\n      <th>2020-03-18</th>\n      <td>DEP-64</td>\n      <td>Pyrénées-Atlantiques</td>\n      <td>0.0</td>\n    </tr>\n    <tr>\n      <th>2020-03-18</th>\n      <td>DEP-65</td>\n      <td>Hautes-Pyrénées</td>\n      <td>0.0</td>\n    </tr>\n    <tr>\n      <th>2020-03-18</th>\n      <td>DEP-66</td>\n      <td>Pyrénées-Orientales</td>\n      <td>5.0</td>\n    </tr>\n    <tr>\n      <th>...</th>\n      <td>...</td>\n      <td>...</td>\n      <td>...</td>\n    </tr>\n    <tr>\n      <th>2020-05-10</th>\n      <td>DEP-2B</td>\n      <td>Haute-Corse</td>\n      <td>2.0</td>\n    </tr>\n    <tr>\n      <th>2020-05-10</th>\n      <td>DEP-2A</td>\n      <td>Corse-du-Sud</td>\n      <td>4.0</td>\n    </tr>\n    <tr>\n      <th>2020-05-10</th>\n      <td>DEP-29</td>\n      <td>Finistère</td>\n      <td>11.0</td>\n    </tr>\n    <tr>\n      <th>2020-05-10</th>\n      <td>DEP-28</td>\n      <td>Eure-et-Loir</td>\n      <td>16.0</td>\n    </tr>\n    <tr>\n      <th>2020-05-10</th>\n      <td>DEP-36</td>\n      <td>Indre</td>\n      <td>6.0</td>\n    </tr>\n  </tbody>\n</table>\n<p>5454 rows × 3 columns</p>\n</div>"
     },
     "metadata": {},
     "execution_count": 9
    }
   ],
   "source": [
    "confinement_1"
   ]
  },
  {
   "cell_type": "code",
   "execution_count": 10,
   "metadata": {},
   "outputs": [
    {
     "output_type": "execute_result",
     "data": {
      "text/plain": [
       "    code                      nom\n",
       "0     01                      Ain\n",
       "1     02                    Aisne\n",
       "2     03                   Allier\n",
       "3     04  Alpes-de-Haute-Provence\n",
       "4     05             Hautes-Alpes\n",
       "..   ...                      ...\n",
       "96   971               Guadeloupe\n",
       "97   972               Martinique\n",
       "98   973                   Guyane\n",
       "99   974               La Réunion\n",
       "100  976                  Mayotte\n",
       "\n",
       "[101 rows x 2 columns]"
      ],
      "text/html": "<div>\n<style scoped>\n    .dataframe tbody tr th:only-of-type {\n        vertical-align: middle;\n    }\n\n    .dataframe tbody tr th {\n        vertical-align: top;\n    }\n\n    .dataframe thead th {\n        text-align: right;\n    }\n</style>\n<table border=\"1\" class=\"dataframe\">\n  <thead>\n    <tr style=\"text-align: right;\">\n      <th></th>\n      <th>code</th>\n      <th>nom</th>\n    </tr>\n  </thead>\n  <tbody>\n    <tr>\n      <th>0</th>\n      <td>01</td>\n      <td>Ain</td>\n    </tr>\n    <tr>\n      <th>1</th>\n      <td>02</td>\n      <td>Aisne</td>\n    </tr>\n    <tr>\n      <th>2</th>\n      <td>03</td>\n      <td>Allier</td>\n    </tr>\n    <tr>\n      <th>3</th>\n      <td>04</td>\n      <td>Alpes-de-Haute-Provence</td>\n    </tr>\n    <tr>\n      <th>4</th>\n      <td>05</td>\n      <td>Hautes-Alpes</td>\n    </tr>\n    <tr>\n      <th>...</th>\n      <td>...</td>\n      <td>...</td>\n    </tr>\n    <tr>\n      <th>96</th>\n      <td>971</td>\n      <td>Guadeloupe</td>\n    </tr>\n    <tr>\n      <th>97</th>\n      <td>972</td>\n      <td>Martinique</td>\n    </tr>\n    <tr>\n      <th>98</th>\n      <td>973</td>\n      <td>Guyane</td>\n    </tr>\n    <tr>\n      <th>99</th>\n      <td>974</td>\n      <td>La Réunion</td>\n    </tr>\n    <tr>\n      <th>100</th>\n      <td>976</td>\n      <td>Mayotte</td>\n    </tr>\n  </tbody>\n</table>\n<p>101 rows × 2 columns</p>\n</div>"
     },
     "metadata": {},
     "execution_count": 10
    }
   ],
   "source": [
    "DEP_code = pd.DataFrame(confinement_1['maille_code'].unique())\n",
    "for i in range(len(DEP_code)) :\n",
    "    DEP_code.iat[i,0] = DEP_code.iat[i,0][4:]\n",
    "DEP_code = DEP_code.loc[:,0].tolist()\n",
    "DEP_name = pd.DataFrame(confinement_1['maille_nom'].unique())\n",
    "DEP_name = DEP_name.loc[:,0].tolist()\n",
    "DEP = pd.concat([pd.DataFrame(DEP_code),pd.DataFrame(DEP_name)],1)\n",
    "DEP = DEP.set_axis(['code', 'nom'], axis=1)\n",
    "DEP = DEP.sort_values(by = 'code')\n",
    "DEP = DEP.reset_index()\n",
    "DEP = DEP.drop(['index'], 1)\n",
    "DEP"
   ]
  },
  {
   "cell_type": "code",
   "execution_count": 11,
   "metadata": {},
   "outputs": [],
   "source": [
    "def confinement_1_dep_nom(department):\n",
    "    x = pd.DataFrame(confinement_1.loc[confinement_1['maille_nom']==f\"{department}\",'reanimation']).resample(\"1D\").sum()\n",
    "    x = x.rename(columns = {\"reanimation\": f\"{department}\"})\n",
    "    return(x)\n",
    "\n",
    "def confinement_1_DEP_code(num_dep):\n",
    "    x = pd.DataFrame(confinement_1.loc[confinement_1['maille_code']==f\"DEP-{num_dep}\",'reanimation']).resample(\"1D\").sum()\n",
    "    x = x.rename(columns = {\"reanimation\": f\"{num_dep}\"})\n",
    "    return(x)"
   ]
  },
  {
   "cell_type": "code",
   "execution_count": 12,
   "metadata": {
    "tags": []
   },
   "outputs": [],
   "source": [
    "reanimations_confinement_1_code = pd.DataFrame()\n",
    "for num_dep in DEP['code'].tolist() :\n",
    "    reanimations_confinement_1_code = pd.concat([reanimations_confinement_1_code, confinement_1_DEP_code(f'{num_dep}')], axis = 1)"
   ]
  },
  {
   "cell_type": "code",
   "execution_count": 13,
   "metadata": {},
   "outputs": [
    {
     "output_type": "execute_result",
     "data": {
      "text/plain": [
       "        date  01  02  03  04  05  06  07  08  09  ...  91  92  93  94  95  \\\n",
       "0 2020-03-18   0  10   0   1   1   1   1   0   1  ...  16  48  33  32  29   \n",
       "1 2020-03-19   0  15   0   1   1   5   2   0   1  ...  22  54  45  47  37   \n",
       "2 2020-03-20   0  19   0   1   1   7   3   1   1  ...  28  74  62  60  51   \n",
       "3 2020-03-21   0  20   0   1   1   7   3   1   1  ...  35  81  66  67  56   \n",
       "4 2020-03-22   1  21   0   1   1   8   3   1   1  ...  47  95  75  78  66   \n",
       "\n",
       "   971  972  973  974  976  \n",
       "0    0    5    0    2    0  \n",
       "1    0    5    0    2    0  \n",
       "2    0    5    0    2    0  \n",
       "3    0    5    0    2    0  \n",
       "4    6    5    0    2    0  \n",
       "\n",
       "[5 rows x 102 columns]"
      ],
      "text/html": "<div>\n<style scoped>\n    .dataframe tbody tr th:only-of-type {\n        vertical-align: middle;\n    }\n\n    .dataframe tbody tr th {\n        vertical-align: top;\n    }\n\n    .dataframe thead th {\n        text-align: right;\n    }\n</style>\n<table border=\"1\" class=\"dataframe\">\n  <thead>\n    <tr style=\"text-align: right;\">\n      <th></th>\n      <th>date</th>\n      <th>01</th>\n      <th>02</th>\n      <th>03</th>\n      <th>04</th>\n      <th>05</th>\n      <th>06</th>\n      <th>07</th>\n      <th>08</th>\n      <th>09</th>\n      <th>...</th>\n      <th>91</th>\n      <th>92</th>\n      <th>93</th>\n      <th>94</th>\n      <th>95</th>\n      <th>971</th>\n      <th>972</th>\n      <th>973</th>\n      <th>974</th>\n      <th>976</th>\n    </tr>\n  </thead>\n  <tbody>\n    <tr>\n      <th>0</th>\n      <td>2020-03-18</td>\n      <td>0</td>\n      <td>10</td>\n      <td>0</td>\n      <td>1</td>\n      <td>1</td>\n      <td>1</td>\n      <td>1</td>\n      <td>0</td>\n      <td>1</td>\n      <td>...</td>\n      <td>16</td>\n      <td>48</td>\n      <td>33</td>\n      <td>32</td>\n      <td>29</td>\n      <td>0</td>\n      <td>5</td>\n      <td>0</td>\n      <td>2</td>\n      <td>0</td>\n    </tr>\n    <tr>\n      <th>1</th>\n      <td>2020-03-19</td>\n      <td>0</td>\n      <td>15</td>\n      <td>0</td>\n      <td>1</td>\n      <td>1</td>\n      <td>5</td>\n      <td>2</td>\n      <td>0</td>\n      <td>1</td>\n      <td>...</td>\n      <td>22</td>\n      <td>54</td>\n      <td>45</td>\n      <td>47</td>\n      <td>37</td>\n      <td>0</td>\n      <td>5</td>\n      <td>0</td>\n      <td>2</td>\n      <td>0</td>\n    </tr>\n    <tr>\n      <th>2</th>\n      <td>2020-03-20</td>\n      <td>0</td>\n      <td>19</td>\n      <td>0</td>\n      <td>1</td>\n      <td>1</td>\n      <td>7</td>\n      <td>3</td>\n      <td>1</td>\n      <td>1</td>\n      <td>...</td>\n      <td>28</td>\n      <td>74</td>\n      <td>62</td>\n      <td>60</td>\n      <td>51</td>\n      <td>0</td>\n      <td>5</td>\n      <td>0</td>\n      <td>2</td>\n      <td>0</td>\n    </tr>\n    <tr>\n      <th>3</th>\n      <td>2020-03-21</td>\n      <td>0</td>\n      <td>20</td>\n      <td>0</td>\n      <td>1</td>\n      <td>1</td>\n      <td>7</td>\n      <td>3</td>\n      <td>1</td>\n      <td>1</td>\n      <td>...</td>\n      <td>35</td>\n      <td>81</td>\n      <td>66</td>\n      <td>67</td>\n      <td>56</td>\n      <td>0</td>\n      <td>5</td>\n      <td>0</td>\n      <td>2</td>\n      <td>0</td>\n    </tr>\n    <tr>\n      <th>4</th>\n      <td>2020-03-22</td>\n      <td>1</td>\n      <td>21</td>\n      <td>0</td>\n      <td>1</td>\n      <td>1</td>\n      <td>8</td>\n      <td>3</td>\n      <td>1</td>\n      <td>1</td>\n      <td>...</td>\n      <td>47</td>\n      <td>95</td>\n      <td>75</td>\n      <td>78</td>\n      <td>66</td>\n      <td>6</td>\n      <td>5</td>\n      <td>0</td>\n      <td>2</td>\n      <td>0</td>\n    </tr>\n  </tbody>\n</table>\n<p>5 rows × 102 columns</p>\n</div>"
     },
     "metadata": {},
     "execution_count": 13
    }
   ],
   "source": [
    "reanimations_confinement_1_code = reanimations_confinement_1_code.astype(int)\n",
    "reanimations_confinement_1_code = reanimations_confinement_1_code.reset_index()\n",
    "reanimations_confinement_1_code.head()"
   ]
  },
  {
   "cell_type": "code",
   "execution_count": 14,
   "metadata": {},
   "outputs": [],
   "source": [
    "reanimations_confinement_1_nom = pd.DataFrame()\n",
    "for nom_dep in DEP['nom'].tolist() :\n",
    "    reanimations_confinement_1_nom = pd.concat([reanimations_confinement_1_nom, confinement_1_dep_nom(f'{nom_dep}')], axis = 1)"
   ]
  },
  {
   "cell_type": "code",
   "execution_count": 15,
   "metadata": {},
   "outputs": [
    {
     "output_type": "execute_result",
     "data": {
      "text/plain": [
       "        date  Ain  Aisne  Allier  Alpes-de-Haute-Provence  Hautes-Alpes  \\\n",
       "0 2020-03-18    0     10       0                        1             1   \n",
       "1 2020-03-19    0     15       0                        1             1   \n",
       "2 2020-03-20    0     19       0                        1             1   \n",
       "3 2020-03-21    0     20       0                        1             1   \n",
       "4 2020-03-22    1     21       0                        1             1   \n",
       "\n",
       "   Alpes-Maritimes  Ardèche  Ardennes  Ariège  ...  Essonne  Hauts-de-Seine  \\\n",
       "0                1        1         0       1  ...       16              48   \n",
       "1                5        2         0       1  ...       22              54   \n",
       "2                7        3         1       1  ...       28              74   \n",
       "3                7        3         1       1  ...       35              81   \n",
       "4                8        3         1       1  ...       47              95   \n",
       "\n",
       "   Seine-Saint-Denis  Val-de-Marne  Val-d'Oise  Guadeloupe  Martinique  \\\n",
       "0                 33            32          29           0           5   \n",
       "1                 45            47          37           0           5   \n",
       "2                 62            60          51           0           5   \n",
       "3                 66            67          56           0           5   \n",
       "4                 75            78          66           6           5   \n",
       "\n",
       "   Guyane  La Réunion  Mayotte  \n",
       "0       0           2        0  \n",
       "1       0           2        0  \n",
       "2       0           2        0  \n",
       "3       0           2        0  \n",
       "4       0           2        0  \n",
       "\n",
       "[5 rows x 102 columns]"
      ],
      "text/html": "<div>\n<style scoped>\n    .dataframe tbody tr th:only-of-type {\n        vertical-align: middle;\n    }\n\n    .dataframe tbody tr th {\n        vertical-align: top;\n    }\n\n    .dataframe thead th {\n        text-align: right;\n    }\n</style>\n<table border=\"1\" class=\"dataframe\">\n  <thead>\n    <tr style=\"text-align: right;\">\n      <th></th>\n      <th>date</th>\n      <th>Ain</th>\n      <th>Aisne</th>\n      <th>Allier</th>\n      <th>Alpes-de-Haute-Provence</th>\n      <th>Hautes-Alpes</th>\n      <th>Alpes-Maritimes</th>\n      <th>Ardèche</th>\n      <th>Ardennes</th>\n      <th>Ariège</th>\n      <th>...</th>\n      <th>Essonne</th>\n      <th>Hauts-de-Seine</th>\n      <th>Seine-Saint-Denis</th>\n      <th>Val-de-Marne</th>\n      <th>Val-d'Oise</th>\n      <th>Guadeloupe</th>\n      <th>Martinique</th>\n      <th>Guyane</th>\n      <th>La Réunion</th>\n      <th>Mayotte</th>\n    </tr>\n  </thead>\n  <tbody>\n    <tr>\n      <th>0</th>\n      <td>2020-03-18</td>\n      <td>0</td>\n      <td>10</td>\n      <td>0</td>\n      <td>1</td>\n      <td>1</td>\n      <td>1</td>\n      <td>1</td>\n      <td>0</td>\n      <td>1</td>\n      <td>...</td>\n      <td>16</td>\n      <td>48</td>\n      <td>33</td>\n      <td>32</td>\n      <td>29</td>\n      <td>0</td>\n      <td>5</td>\n      <td>0</td>\n      <td>2</td>\n      <td>0</td>\n    </tr>\n    <tr>\n      <th>1</th>\n      <td>2020-03-19</td>\n      <td>0</td>\n      <td>15</td>\n      <td>0</td>\n      <td>1</td>\n      <td>1</td>\n      <td>5</td>\n      <td>2</td>\n      <td>0</td>\n      <td>1</td>\n      <td>...</td>\n      <td>22</td>\n      <td>54</td>\n      <td>45</td>\n      <td>47</td>\n      <td>37</td>\n      <td>0</td>\n      <td>5</td>\n      <td>0</td>\n      <td>2</td>\n      <td>0</td>\n    </tr>\n    <tr>\n      <th>2</th>\n      <td>2020-03-20</td>\n      <td>0</td>\n      <td>19</td>\n      <td>0</td>\n      <td>1</td>\n      <td>1</td>\n      <td>7</td>\n      <td>3</td>\n      <td>1</td>\n      <td>1</td>\n      <td>...</td>\n      <td>28</td>\n      <td>74</td>\n      <td>62</td>\n      <td>60</td>\n      <td>51</td>\n      <td>0</td>\n      <td>5</td>\n      <td>0</td>\n      <td>2</td>\n      <td>0</td>\n    </tr>\n    <tr>\n      <th>3</th>\n      <td>2020-03-21</td>\n      <td>0</td>\n      <td>20</td>\n      <td>0</td>\n      <td>1</td>\n      <td>1</td>\n      <td>7</td>\n      <td>3</td>\n      <td>1</td>\n      <td>1</td>\n      <td>...</td>\n      <td>35</td>\n      <td>81</td>\n      <td>66</td>\n      <td>67</td>\n      <td>56</td>\n      <td>0</td>\n      <td>5</td>\n      <td>0</td>\n      <td>2</td>\n      <td>0</td>\n    </tr>\n    <tr>\n      <th>4</th>\n      <td>2020-03-22</td>\n      <td>1</td>\n      <td>21</td>\n      <td>0</td>\n      <td>1</td>\n      <td>1</td>\n      <td>8</td>\n      <td>3</td>\n      <td>1</td>\n      <td>1</td>\n      <td>...</td>\n      <td>47</td>\n      <td>95</td>\n      <td>75</td>\n      <td>78</td>\n      <td>66</td>\n      <td>6</td>\n      <td>5</td>\n      <td>0</td>\n      <td>2</td>\n      <td>0</td>\n    </tr>\n  </tbody>\n</table>\n<p>5 rows × 102 columns</p>\n</div>"
     },
     "metadata": {},
     "execution_count": 15
    }
   ],
   "source": [
    "reanimations_confinement_1_nom = reanimations_confinement_1_nom.astype(int)\n",
    "reanimations_confinement_1_nom = reanimations_confinement_1_nom.reset_index()\n",
    "reanimations_confinement_1_nom.head()"
   ]
  },
  {
   "cell_type": "code",
   "execution_count": 25,
   "metadata": {},
   "outputs": [],
   "source": [
    "def rea_conf1_FR(reanimations_confinement_1_nom):\n",
    "    fig = px.line(reanimations_confinement_1_nom, x=\"date\", y=reanimations_confinement_1_nom.columns,\n",
    "              hover_data={\"date\": \"|%B %d, %Y\"},\n",
    "              title='intensive care beds occupied during the 1st confinement in France by departments', \n",
    "              height=500, width=800)\n",
    "    fig.update_xaxes(\n",
    "    dtick='M1',\n",
    "    tickformat=\"%d\\n%b\")\n",
    "    fig.show()\n",
    "    return"
   ]
  },
  {
   "cell_type": "code",
   "execution_count": 17,
   "metadata": {},
   "outputs": [],
   "source": [
    "reanimations_confinement_1_Bretagne = pd.concat([reanimations_confinement_1_nom['date'], reanimations_confinement_1_nom['Finistère'], reanimations_confinement_1_nom[\"Côtes-d'Armor\"], reanimations_confinement_1_nom[\"Morbihan\"], reanimations_confinement_1_nom[\"Ille-et-Vilaine\"]], axis=1)\n",
    "\n",
    "reanimations_confinement_1_Normandie = pd.concat([reanimations_confinement_1_nom['date'], reanimations_confinement_1_nom['Manche'], reanimations_confinement_1_nom[\"Calvados\"], reanimations_confinement_1_nom[\"Eure\"], reanimations_confinement_1_nom[\"Orne\"], reanimations_confinement_1_nom[\"Seine-Maritime\"]], axis=1)\n",
    "\n",
    "reanimations_confinement_1_Pays_de_la_Loire = pd.concat([reanimations_confinement_1_nom['date'], reanimations_confinement_1_nom['Mayenne'], reanimations_confinement_1_nom[\"Sarthe\"], reanimations_confinement_1_nom[\"Vendée\"], reanimations_confinement_1_nom[\"Loire-Atlantique\"], reanimations_confinement_1_nom[\"Maine-et-Loire\"]], axis=1)\n",
    "\n",
    "reanimations_confinement_1_Centre_Val_de_Loire = pd.concat([reanimations_confinement_1_nom['date'], reanimations_confinement_1_nom['Cher'], reanimations_confinement_1_nom[\"Eure-et-Loir\"], reanimations_confinement_1_nom[\"Indre\"], reanimations_confinement_1_nom[\"Indre-et-Loire\"], reanimations_confinement_1_nom[\"Loir-et-Cher\"], reanimations_confinement_1_nom[\"Loiret\"]], axis=1)\n",
    "\n",
    "reanimations_confinement_1_Bourgogne_Franche_Comte = pd.concat([reanimations_confinement_1_nom['date'], reanimations_confinement_1_nom[\"Côte-d'Or\"], reanimations_confinement_1_nom[\"Doubs\"], reanimations_confinement_1_nom[\"Jura\"], reanimations_confinement_1_nom[\"Nièvre\"], reanimations_confinement_1_nom[\"Haute-Saône\"], reanimations_confinement_1_nom[\"Saône-et-Loire\"], reanimations_confinement_1_nom[\"Yonne\"]], axis=1)\n",
    "\n",
    "reanimations_confinement_1_Grand_Est = pd.concat([reanimations_confinement_1_nom['date'], reanimations_confinement_1_nom[\"Ardennes\"], reanimations_confinement_1_nom[\"Aube\"], reanimations_confinement_1_nom[\"Marne\"], reanimations_confinement_1_nom[\"Haute-Marne\"], reanimations_confinement_1_nom[\"Meurthe-et-Moselle\"], reanimations_confinement_1_nom[\"Meuse\"], reanimations_confinement_1_nom[\"Moselle\"], reanimations_confinement_1_nom[\"Bas-Rhin\"], reanimations_confinement_1_nom[\"Haut-Rhin\"], reanimations_confinement_1_nom[\"Vosges\"]], axis=1)\n",
    "\n",
    "reanimations_confinement_1_Hauts_de_France = pd.concat([reanimations_confinement_1_nom['date'], reanimations_confinement_1_nom[\"Aisne\"], reanimations_confinement_1_nom[\"Nord\"], reanimations_confinement_1_nom[\"Oise\"], reanimations_confinement_1_nom[\"Pas-de-Calais\"], reanimations_confinement_1_nom[\"Somme\"]], axis=1)\n",
    "\n",
    "reanimations_confinement_1_Ile_de_France = pd.concat([reanimations_confinement_1_nom['date'], reanimations_confinement_1_nom[\"Paris\"], reanimations_confinement_1_nom[\"Seine-et-Marne\"], reanimations_confinement_1_nom[\"Yvelines\"], reanimations_confinement_1_nom[\"Essonne\"], reanimations_confinement_1_nom[\"Hauts-de-Seine\"], reanimations_confinement_1_nom[\"Seine-Saint-Denis\"], reanimations_confinement_1_nom[\"Val-de-Marne\"], reanimations_confinement_1_nom[\"Val-d'Oise\"]], axis=1)\n",
    "\n",
    "reanimations_confinement_1_Nouvelle_Aquitaine = pd.concat([reanimations_confinement_1_nom['date'], reanimations_confinement_1_nom[\"Charente\"], reanimations_confinement_1_nom[\"Charente-Maritime\"], reanimations_confinement_1_nom[\"Corrèze\"], reanimations_confinement_1_nom[\"Creuse\"], reanimations_confinement_1_nom[\"Dordogne\"], reanimations_confinement_1_nom[\"Gironde\"], reanimations_confinement_1_nom[\"Landes\"], reanimations_confinement_1_nom[\"Lot-et-Garonne\"], reanimations_confinement_1_nom[\"Pyrénées-Atlantiques\"], reanimations_confinement_1_nom[\"Deux-Sèvres\"], reanimations_confinement_1_nom[\"Vienne\"], reanimations_confinement_1_nom[\"Haute-Vienne\"]], axis=1)\n",
    "\n",
    "reanimations_confinement_1_Auvergne_Rhone_Alpes = pd.concat([reanimations_confinement_1_nom['date'], reanimations_confinement_1_nom[\"Ain\"], reanimations_confinement_1_nom[\"Allier\"], reanimations_confinement_1_nom[\"Ardèche\"], reanimations_confinement_1_nom[\"Cantal\"], reanimations_confinement_1_nom[\"Drôme\"], reanimations_confinement_1_nom[\"Isère\"], reanimations_confinement_1_nom[\"Loire\"], reanimations_confinement_1_nom[\"Haute-Loire\"], reanimations_confinement_1_nom[\"Puy-de-Dôme\"], reanimations_confinement_1_nom[\"Rhône\"], reanimations_confinement_1_nom[\"Savoie\"], reanimations_confinement_1_nom[\"Haute-Savoie\"]], axis=1)\n",
    "\n",
    "reanimations_confinement_1_Occitanie = pd.concat([reanimations_confinement_1_nom['date'], reanimations_confinement_1_nom[\"Ariège\"], reanimations_confinement_1_nom[\"Aude\"], reanimations_confinement_1_nom[\"Aveyron\"], reanimations_confinement_1_nom[\"Gard\"], reanimations_confinement_1_nom[\"Haute-Garonne\"], reanimations_confinement_1_nom[\"Gers\"], reanimations_confinement_1_nom[\"Hérault\"], reanimations_confinement_1_nom[\"Lot\"], reanimations_confinement_1_nom[\"Lozère\"], reanimations_confinement_1_nom[\"Hautes-Pyrénées\"], reanimations_confinement_1_nom[\"Pyrénées-Orientales\"], reanimations_confinement_1_nom[\"Tarn\"], reanimations_confinement_1_nom[\"Tarn-et-Garonne\"]], axis=1)\n",
    "\n",
    "reanimations_confinement_1_Provences_Alpes_Côte_Azur = pd.concat([reanimations_confinement_1_nom['date'], reanimations_confinement_1_nom[\"Alpes-de-Haute-Provence\"], reanimations_confinement_1_nom[\"Hautes-Alpes\"], reanimations_confinement_1_nom[\"Alpes-Maritimes\"], reanimations_confinement_1_nom[\"Bouches-du-Rhône\"], reanimations_confinement_1_nom[\"Var\"], reanimations_confinement_1_nom[\"Vaucluse\"]], axis=1)\n",
    "\n",
    "reanimations_confinement_1_Corse = pd.concat([reanimations_confinement_1_nom['date'], reanimations_confinement_1_nom[\"Corse-du-Sud\"], reanimations_confinement_1_nom[\"Haute-Corse\"]], axis=1)\n",
    "\n",
    "reanimations_confinement_1_Outre_Mer = pd.concat([reanimations_confinement_1_nom['date'], reanimations_confinement_1_nom[\"Guadeloupe\"], reanimations_confinement_1_nom[\"Martinique\"], reanimations_confinement_1_nom[\"Guyane\"], reanimations_confinement_1_nom[\"La Réunion\"], reanimations_confinement_1_nom[\"Mayotte\"]], axis=1)"
   ]
  },
  {
   "cell_type": "code",
   "execution_count": 18,
   "metadata": {},
   "outputs": [],
   "source": [
    "reanimation_confinement_1_regions = {}\n",
    "reanimation_confinement_1_regions['Bretagne'] = reanimations_confinement_1_Bretagne\n",
    "reanimation_confinement_1_regions['Normandie'] = reanimations_confinement_1_Normandie\n",
    "reanimation_confinement_1_regions['Pays de la Loire'] = reanimations_confinement_1_Pays_de_la_Loire\n",
    "reanimation_confinement_1_regions['Centre-Val-de-Loire'] = reanimations_confinement_1_Centre_Val_de_Loire\n",
    "reanimation_confinement_1_regions['Bourgogne-Franche-Comté'] = reanimations_confinement_1_Bourgogne_Franche_Comte\n",
    "reanimation_confinement_1_regions['Grand-Est'] = reanimations_confinement_1_Grand_Est\n",
    "reanimation_confinement_1_regions['Hauts-de-France'] = reanimations_confinement_1_Hauts_de_France\n",
    "reanimation_confinement_1_regions['Île-de-France'] = reanimations_confinement_1_Ile_de_France\n",
    "reanimation_confinement_1_regions['Nouvelle-Aquitaine'] = reanimations_confinement_1_Nouvelle_Aquitaine\n",
    "reanimation_confinement_1_regions['Auvergne-Rhône-Alpes'] = reanimations_confinement_1_Auvergne_Rhone_Alpes\n",
    "reanimation_confinement_1_regions['Occitanie'] = reanimations_confinement_1_Occitanie\n",
    "reanimation_confinement_1_regions[\"Provences-Alpes-Côte-d'Azur\"] = reanimations_confinement_1_Provences_Alpes_Côte_Azur\n",
    "reanimation_confinement_1_regions['Corse'] = reanimations_confinement_1_Corse\n",
    "reanimation_confinement_1_regions[\"Régions d'Outre Mer\"] = reanimations_confinement_1_Outre_Mer"
   ]
  },
  {
   "cell_type": "code",
   "execution_count": 19,
   "metadata": {},
   "outputs": [],
   "source": [
    "def confinement_1_regions(region) :\n",
    "    fig = px.line(reanimation_confinement_1_regions[f'{region}'], x=\"date\", y=reanimation_confinement_1_regions[f'{region}'].columns,\n",
    "              title=f'intensive care beds occupied during the 1st confinement in {region}', height=500, width=800)\n",
    "    fig.update_xaxes(\n",
    "        dtick='M1',\n",
    "        tickformat=\"%d\\n%b\")\n",
    "    return(fig.show())\n",
    "\n",
    "\n",
    "#widgets.interact(confinement_1_regions, region=['Bretagne', 'Normandie', 'Pays de la Loire', 'Centre-Val-de-Loire', 'Bourgogne-Franche-Comté', 'Grand-Est', 'Hauts-de-France', 'Île-de-France', 'Nouvelle-Aquitaine', 'Auvergne-Rhône-Alpes', 'Occitanie', \"Provences-Alpes-Côte-d'Azur\", 'Corse', \"Régions d'Outre Mer\"]);\n"
   ]
  },
  {
   "cell_type": "code",
   "execution_count": 20,
   "metadata": {},
   "outputs": [
    {
     "output_type": "display_data",
     "data": {
      "application/vnd.plotly.v1+json": {
       "config": {
        "plotlyServerURL": "https://plot.ly"
       },
       "data": [
        {
         "hovertemplate": "variable=Ariège<br>date=%{x}<br>value=%{y}<extra></extra>",
         "legendgroup": "Ariège",
         "line": {
          "color": "#636efa",
          "dash": "solid"
         },
         "mode": "lines",
         "name": "Ariège",
         "orientation": "v",
         "showlegend": true,
         "type": "scatter",
         "x": [
          "2020-03-18T00:00:00",
          "2020-03-19T00:00:00",
          "2020-03-20T00:00:00",
          "2020-03-21T00:00:00",
          "2020-03-22T00:00:00",
          "2020-03-23T00:00:00",
          "2020-03-24T00:00:00",
          "2020-03-25T00:00:00",
          "2020-03-26T00:00:00",
          "2020-03-27T00:00:00",
          "2020-03-28T00:00:00",
          "2020-03-29T00:00:00",
          "2020-03-30T00:00:00",
          "2020-03-31T00:00:00",
          "2020-04-01T00:00:00",
          "2020-04-02T00:00:00",
          "2020-04-03T00:00:00",
          "2020-04-04T00:00:00",
          "2020-04-05T00:00:00",
          "2020-04-06T00:00:00",
          "2020-04-07T00:00:00",
          "2020-04-08T00:00:00",
          "2020-04-09T00:00:00",
          "2020-04-10T00:00:00",
          "2020-04-11T00:00:00",
          "2020-04-12T00:00:00",
          "2020-04-13T00:00:00",
          "2020-04-14T00:00:00",
          "2020-04-15T00:00:00",
          "2020-04-16T00:00:00",
          "2020-04-17T00:00:00",
          "2020-04-18T00:00:00",
          "2020-04-19T00:00:00",
          "2020-04-20T00:00:00",
          "2020-04-21T00:00:00",
          "2020-04-22T00:00:00",
          "2020-04-23T00:00:00",
          "2020-04-24T00:00:00",
          "2020-04-25T00:00:00",
          "2020-04-26T00:00:00",
          "2020-04-27T00:00:00",
          "2020-04-28T00:00:00",
          "2020-04-29T00:00:00",
          "2020-04-30T00:00:00",
          "2020-05-01T00:00:00",
          "2020-05-02T00:00:00",
          "2020-05-03T00:00:00",
          "2020-05-04T00:00:00",
          "2020-05-05T00:00:00",
          "2020-05-06T00:00:00",
          "2020-05-07T00:00:00",
          "2020-05-08T00:00:00",
          "2020-05-09T00:00:00",
          "2020-05-10T00:00:00"
         ],
         "xaxis": "x",
         "y": [
          1,
          1,
          1,
          1,
          1,
          3,
          3,
          3,
          3,
          1,
          1,
          2,
          3,
          3,
          6,
          6,
          6,
          5,
          5,
          4,
          4,
          4,
          4,
          4,
          4,
          4,
          4,
          4,
          3,
          2,
          2,
          2,
          2,
          1,
          1,
          1,
          1,
          1,
          1,
          1,
          1,
          1,
          1,
          1,
          1,
          1,
          1,
          1,
          1,
          1,
          1,
          2,
          2,
          2
         ],
         "yaxis": "y"
        },
        {
         "hovertemplate": "variable=Aude<br>date=%{x}<br>value=%{y}<extra></extra>",
         "legendgroup": "Aude",
         "line": {
          "color": "#EF553B",
          "dash": "solid"
         },
         "mode": "lines",
         "name": "Aude",
         "orientation": "v",
         "showlegend": true,
         "type": "scatter",
         "x": [
          "2020-03-18T00:00:00",
          "2020-03-19T00:00:00",
          "2020-03-20T00:00:00",
          "2020-03-21T00:00:00",
          "2020-03-22T00:00:00",
          "2020-03-23T00:00:00",
          "2020-03-24T00:00:00",
          "2020-03-25T00:00:00",
          "2020-03-26T00:00:00",
          "2020-03-27T00:00:00",
          "2020-03-28T00:00:00",
          "2020-03-29T00:00:00",
          "2020-03-30T00:00:00",
          "2020-03-31T00:00:00",
          "2020-04-01T00:00:00",
          "2020-04-02T00:00:00",
          "2020-04-03T00:00:00",
          "2020-04-04T00:00:00",
          "2020-04-05T00:00:00",
          "2020-04-06T00:00:00",
          "2020-04-07T00:00:00",
          "2020-04-08T00:00:00",
          "2020-04-09T00:00:00",
          "2020-04-10T00:00:00",
          "2020-04-11T00:00:00",
          "2020-04-12T00:00:00",
          "2020-04-13T00:00:00",
          "2020-04-14T00:00:00",
          "2020-04-15T00:00:00",
          "2020-04-16T00:00:00",
          "2020-04-17T00:00:00",
          "2020-04-18T00:00:00",
          "2020-04-19T00:00:00",
          "2020-04-20T00:00:00",
          "2020-04-21T00:00:00",
          "2020-04-22T00:00:00",
          "2020-04-23T00:00:00",
          "2020-04-24T00:00:00",
          "2020-04-25T00:00:00",
          "2020-04-26T00:00:00",
          "2020-04-27T00:00:00",
          "2020-04-28T00:00:00",
          "2020-04-29T00:00:00",
          "2020-04-30T00:00:00",
          "2020-05-01T00:00:00",
          "2020-05-02T00:00:00",
          "2020-05-03T00:00:00",
          "2020-05-04T00:00:00",
          "2020-05-05T00:00:00",
          "2020-05-06T00:00:00",
          "2020-05-07T00:00:00",
          "2020-05-08T00:00:00",
          "2020-05-09T00:00:00",
          "2020-05-10T00:00:00"
         ],
         "xaxis": "x",
         "y": [
          7,
          11,
          11,
          9,
          9,
          13,
          11,
          12,
          11,
          14,
          19,
          18,
          20,
          18,
          20,
          19,
          19,
          20,
          18,
          15,
          17,
          14,
          15,
          15,
          14,
          14,
          14,
          12,
          10,
          10,
          8,
          8,
          9,
          8,
          9,
          9,
          9,
          8,
          7,
          5,
          6,
          7,
          7,
          3,
          3,
          3,
          3,
          3,
          4,
          3,
          3,
          3,
          4,
          4
         ],
         "yaxis": "y"
        },
        {
         "hovertemplate": "variable=Aveyron<br>date=%{x}<br>value=%{y}<extra></extra>",
         "legendgroup": "Aveyron",
         "line": {
          "color": "#00cc96",
          "dash": "solid"
         },
         "mode": "lines",
         "name": "Aveyron",
         "orientation": "v",
         "showlegend": true,
         "type": "scatter",
         "x": [
          "2020-03-18T00:00:00",
          "2020-03-19T00:00:00",
          "2020-03-20T00:00:00",
          "2020-03-21T00:00:00",
          "2020-03-22T00:00:00",
          "2020-03-23T00:00:00",
          "2020-03-24T00:00:00",
          "2020-03-25T00:00:00",
          "2020-03-26T00:00:00",
          "2020-03-27T00:00:00",
          "2020-03-28T00:00:00",
          "2020-03-29T00:00:00",
          "2020-03-30T00:00:00",
          "2020-03-31T00:00:00",
          "2020-04-01T00:00:00",
          "2020-04-02T00:00:00",
          "2020-04-03T00:00:00",
          "2020-04-04T00:00:00",
          "2020-04-05T00:00:00",
          "2020-04-06T00:00:00",
          "2020-04-07T00:00:00",
          "2020-04-08T00:00:00",
          "2020-04-09T00:00:00",
          "2020-04-10T00:00:00",
          "2020-04-11T00:00:00",
          "2020-04-12T00:00:00",
          "2020-04-13T00:00:00",
          "2020-04-14T00:00:00",
          "2020-04-15T00:00:00",
          "2020-04-16T00:00:00",
          "2020-04-17T00:00:00",
          "2020-04-18T00:00:00",
          "2020-04-19T00:00:00",
          "2020-04-20T00:00:00",
          "2020-04-21T00:00:00",
          "2020-04-22T00:00:00",
          "2020-04-23T00:00:00",
          "2020-04-24T00:00:00",
          "2020-04-25T00:00:00",
          "2020-04-26T00:00:00",
          "2020-04-27T00:00:00",
          "2020-04-28T00:00:00",
          "2020-04-29T00:00:00",
          "2020-04-30T00:00:00",
          "2020-05-01T00:00:00",
          "2020-05-02T00:00:00",
          "2020-05-03T00:00:00",
          "2020-05-04T00:00:00",
          "2020-05-05T00:00:00",
          "2020-05-06T00:00:00",
          "2020-05-07T00:00:00",
          "2020-05-08T00:00:00",
          "2020-05-09T00:00:00",
          "2020-05-10T00:00:00"
         ],
         "xaxis": "x",
         "y": [
          2,
          2,
          2,
          2,
          2,
          2,
          3,
          4,
          5,
          6,
          6,
          6,
          8,
          10,
          10,
          11,
          11,
          11,
          9,
          9,
          9,
          8,
          9,
          8,
          6,
          6,
          5,
          5,
          4,
          4,
          4,
          4,
          4,
          4,
          3,
          3,
          2,
          2,
          2,
          2,
          2,
          2,
          2,
          2,
          2,
          2,
          2,
          2,
          2,
          1,
          1,
          1,
          1,
          1
         ],
         "yaxis": "y"
        },
        {
         "hovertemplate": "variable=Gard<br>date=%{x}<br>value=%{y}<extra></extra>",
         "legendgroup": "Gard",
         "line": {
          "color": "#ab63fa",
          "dash": "solid"
         },
         "mode": "lines",
         "name": "Gard",
         "orientation": "v",
         "showlegend": true,
         "type": "scatter",
         "x": [
          "2020-03-18T00:00:00",
          "2020-03-19T00:00:00",
          "2020-03-20T00:00:00",
          "2020-03-21T00:00:00",
          "2020-03-22T00:00:00",
          "2020-03-23T00:00:00",
          "2020-03-24T00:00:00",
          "2020-03-25T00:00:00",
          "2020-03-26T00:00:00",
          "2020-03-27T00:00:00",
          "2020-03-28T00:00:00",
          "2020-03-29T00:00:00",
          "2020-03-30T00:00:00",
          "2020-03-31T00:00:00",
          "2020-04-01T00:00:00",
          "2020-04-02T00:00:00",
          "2020-04-03T00:00:00",
          "2020-04-04T00:00:00",
          "2020-04-05T00:00:00",
          "2020-04-06T00:00:00",
          "2020-04-07T00:00:00",
          "2020-04-08T00:00:00",
          "2020-04-09T00:00:00",
          "2020-04-10T00:00:00",
          "2020-04-11T00:00:00",
          "2020-04-12T00:00:00",
          "2020-04-13T00:00:00",
          "2020-04-14T00:00:00",
          "2020-04-15T00:00:00",
          "2020-04-16T00:00:00",
          "2020-04-17T00:00:00",
          "2020-04-18T00:00:00",
          "2020-04-19T00:00:00",
          "2020-04-20T00:00:00",
          "2020-04-21T00:00:00",
          "2020-04-22T00:00:00",
          "2020-04-23T00:00:00",
          "2020-04-24T00:00:00",
          "2020-04-25T00:00:00",
          "2020-04-26T00:00:00",
          "2020-04-27T00:00:00",
          "2020-04-28T00:00:00",
          "2020-04-29T00:00:00",
          "2020-04-30T00:00:00",
          "2020-05-01T00:00:00",
          "2020-05-02T00:00:00",
          "2020-05-03T00:00:00",
          "2020-05-04T00:00:00",
          "2020-05-05T00:00:00",
          "2020-05-06T00:00:00",
          "2020-05-07T00:00:00",
          "2020-05-08T00:00:00",
          "2020-05-09T00:00:00",
          "2020-05-10T00:00:00"
         ],
         "xaxis": "x",
         "y": [
          3,
          1,
          1,
          1,
          1,
          5,
          8,
          10,
          11,
          11,
          14,
          13,
          17,
          20,
          26,
          30,
          30,
          29,
          36,
          41,
          43,
          41,
          41,
          41,
          40,
          40,
          40,
          36,
          36,
          36,
          38,
          36,
          37,
          38,
          37,
          37,
          29,
          28,
          27,
          27,
          26,
          27,
          27,
          28,
          28,
          26,
          26,
          21,
          22,
          22,
          20,
          20,
          20,
          20
         ],
         "yaxis": "y"
        },
        {
         "hovertemplate": "variable=Haute-Garonne<br>date=%{x}<br>value=%{y}<extra></extra>",
         "legendgroup": "Haute-Garonne",
         "line": {
          "color": "#FFA15A",
          "dash": "solid"
         },
         "mode": "lines",
         "name": "Haute-Garonne",
         "orientation": "v",
         "showlegend": true,
         "type": "scatter",
         "x": [
          "2020-03-18T00:00:00",
          "2020-03-19T00:00:00",
          "2020-03-20T00:00:00",
          "2020-03-21T00:00:00",
          "2020-03-22T00:00:00",
          "2020-03-23T00:00:00",
          "2020-03-24T00:00:00",
          "2020-03-25T00:00:00",
          "2020-03-26T00:00:00",
          "2020-03-27T00:00:00",
          "2020-03-28T00:00:00",
          "2020-03-29T00:00:00",
          "2020-03-30T00:00:00",
          "2020-03-31T00:00:00",
          "2020-04-01T00:00:00",
          "2020-04-02T00:00:00",
          "2020-04-03T00:00:00",
          "2020-04-04T00:00:00",
          "2020-04-05T00:00:00",
          "2020-04-06T00:00:00",
          "2020-04-07T00:00:00",
          "2020-04-08T00:00:00",
          "2020-04-09T00:00:00",
          "2020-04-10T00:00:00",
          "2020-04-11T00:00:00",
          "2020-04-12T00:00:00",
          "2020-04-13T00:00:00",
          "2020-04-14T00:00:00",
          "2020-04-15T00:00:00",
          "2020-04-16T00:00:00",
          "2020-04-17T00:00:00",
          "2020-04-18T00:00:00",
          "2020-04-19T00:00:00",
          "2020-04-20T00:00:00",
          "2020-04-21T00:00:00",
          "2020-04-22T00:00:00",
          "2020-04-23T00:00:00",
          "2020-04-24T00:00:00",
          "2020-04-25T00:00:00",
          "2020-04-26T00:00:00",
          "2020-04-27T00:00:00",
          "2020-04-28T00:00:00",
          "2020-04-29T00:00:00",
          "2020-04-30T00:00:00",
          "2020-05-01T00:00:00",
          "2020-05-02T00:00:00",
          "2020-05-03T00:00:00",
          "2020-05-04T00:00:00",
          "2020-05-05T00:00:00",
          "2020-05-06T00:00:00",
          "2020-05-07T00:00:00",
          "2020-05-08T00:00:00",
          "2020-05-09T00:00:00",
          "2020-05-10T00:00:00"
         ],
         "xaxis": "x",
         "y": [
          5,
          6,
          10,
          14,
          16,
          19,
          28,
          36,
          55,
          56,
          60,
          65,
          78,
          83,
          91,
          95,
          97,
          105,
          102,
          107,
          102,
          108,
          106,
          97,
          97,
          97,
          95,
          98,
          97,
          95,
          93,
          91,
          90,
          87,
          78,
          71,
          70,
          67,
          60,
          58,
          59,
          52,
          45,
          42,
          41,
          41,
          40,
          40,
          38,
          38,
          35,
          37,
          39,
          40
         ],
         "yaxis": "y"
        },
        {
         "hovertemplate": "variable=Gers<br>date=%{x}<br>value=%{y}<extra></extra>",
         "legendgroup": "Gers",
         "line": {
          "color": "#19d3f3",
          "dash": "solid"
         },
         "mode": "lines",
         "name": "Gers",
         "orientation": "v",
         "showlegend": true,
         "type": "scatter",
         "x": [
          "2020-03-18T00:00:00",
          "2020-03-19T00:00:00",
          "2020-03-20T00:00:00",
          "2020-03-21T00:00:00",
          "2020-03-22T00:00:00",
          "2020-03-23T00:00:00",
          "2020-03-24T00:00:00",
          "2020-03-25T00:00:00",
          "2020-03-26T00:00:00",
          "2020-03-27T00:00:00",
          "2020-03-28T00:00:00",
          "2020-03-29T00:00:00",
          "2020-03-30T00:00:00",
          "2020-03-31T00:00:00",
          "2020-04-01T00:00:00",
          "2020-04-02T00:00:00",
          "2020-04-03T00:00:00",
          "2020-04-04T00:00:00",
          "2020-04-05T00:00:00",
          "2020-04-06T00:00:00",
          "2020-04-07T00:00:00",
          "2020-04-08T00:00:00",
          "2020-04-09T00:00:00",
          "2020-04-10T00:00:00",
          "2020-04-11T00:00:00",
          "2020-04-12T00:00:00",
          "2020-04-13T00:00:00",
          "2020-04-14T00:00:00",
          "2020-04-15T00:00:00",
          "2020-04-16T00:00:00",
          "2020-04-17T00:00:00",
          "2020-04-18T00:00:00",
          "2020-04-19T00:00:00",
          "2020-04-20T00:00:00",
          "2020-04-21T00:00:00",
          "2020-04-22T00:00:00",
          "2020-04-23T00:00:00",
          "2020-04-24T00:00:00",
          "2020-04-25T00:00:00",
          "2020-04-26T00:00:00",
          "2020-04-27T00:00:00",
          "2020-04-28T00:00:00",
          "2020-04-29T00:00:00",
          "2020-04-30T00:00:00",
          "2020-05-01T00:00:00",
          "2020-05-02T00:00:00",
          "2020-05-03T00:00:00",
          "2020-05-04T00:00:00",
          "2020-05-05T00:00:00",
          "2020-05-06T00:00:00",
          "2020-05-07T00:00:00",
          "2020-05-08T00:00:00",
          "2020-05-09T00:00:00",
          "2020-05-10T00:00:00"
         ],
         "xaxis": "x",
         "y": [
          1,
          3,
          3,
          3,
          3,
          3,
          3,
          3,
          3,
          4,
          4,
          4,
          4,
          4,
          4,
          5,
          5,
          5,
          5,
          5,
          5,
          4,
          5,
          4,
          4,
          4,
          4,
          3,
          3,
          3,
          3,
          3,
          3,
          5,
          5,
          6,
          5,
          6,
          6,
          6,
          5,
          5,
          4,
          4,
          4,
          4,
          4,
          3,
          3,
          2,
          2,
          3,
          3,
          3
         ],
         "yaxis": "y"
        },
        {
         "hovertemplate": "variable=Hérault<br>date=%{x}<br>value=%{y}<extra></extra>",
         "legendgroup": "Hérault",
         "line": {
          "color": "#FF6692",
          "dash": "solid"
         },
         "mode": "lines",
         "name": "Hérault",
         "orientation": "v",
         "showlegend": true,
         "type": "scatter",
         "x": [
          "2020-03-18T00:00:00",
          "2020-03-19T00:00:00",
          "2020-03-20T00:00:00",
          "2020-03-21T00:00:00",
          "2020-03-22T00:00:00",
          "2020-03-23T00:00:00",
          "2020-03-24T00:00:00",
          "2020-03-25T00:00:00",
          "2020-03-26T00:00:00",
          "2020-03-27T00:00:00",
          "2020-03-28T00:00:00",
          "2020-03-29T00:00:00",
          "2020-03-30T00:00:00",
          "2020-03-31T00:00:00",
          "2020-04-01T00:00:00",
          "2020-04-02T00:00:00",
          "2020-04-03T00:00:00",
          "2020-04-04T00:00:00",
          "2020-04-05T00:00:00",
          "2020-04-06T00:00:00",
          "2020-04-07T00:00:00",
          "2020-04-08T00:00:00",
          "2020-04-09T00:00:00",
          "2020-04-10T00:00:00",
          "2020-04-11T00:00:00",
          "2020-04-12T00:00:00",
          "2020-04-13T00:00:00",
          "2020-04-14T00:00:00",
          "2020-04-15T00:00:00",
          "2020-04-16T00:00:00",
          "2020-04-17T00:00:00",
          "2020-04-18T00:00:00",
          "2020-04-19T00:00:00",
          "2020-04-20T00:00:00",
          "2020-04-21T00:00:00",
          "2020-04-22T00:00:00",
          "2020-04-23T00:00:00",
          "2020-04-24T00:00:00",
          "2020-04-25T00:00:00",
          "2020-04-26T00:00:00",
          "2020-04-27T00:00:00",
          "2020-04-28T00:00:00",
          "2020-04-29T00:00:00",
          "2020-04-30T00:00:00",
          "2020-05-01T00:00:00",
          "2020-05-02T00:00:00",
          "2020-05-03T00:00:00",
          "2020-05-04T00:00:00",
          "2020-05-05T00:00:00",
          "2020-05-06T00:00:00",
          "2020-05-07T00:00:00",
          "2020-05-08T00:00:00",
          "2020-05-09T00:00:00",
          "2020-05-10T00:00:00"
         ],
         "xaxis": "x",
         "y": [
          15,
          18,
          21,
          22,
          22,
          29,
          34,
          36,
          37,
          43,
          51,
          58,
          67,
          69,
          76,
          78,
          80,
          77,
          71,
          70,
          70,
          69,
          66,
          67,
          56,
          56,
          58,
          57,
          55,
          51,
          45,
          47,
          49,
          46,
          42,
          39,
          41,
          40,
          36,
          36,
          35,
          36,
          32,
          33,
          33,
          30,
          29,
          26,
          24,
          22,
          21,
          21,
          20,
          19
         ],
         "yaxis": "y"
        },
        {
         "hovertemplate": "variable=Lot<br>date=%{x}<br>value=%{y}<extra></extra>",
         "legendgroup": "Lot",
         "line": {
          "color": "#B6E880",
          "dash": "solid"
         },
         "mode": "lines",
         "name": "Lot",
         "orientation": "v",
         "showlegend": true,
         "type": "scatter",
         "x": [
          "2020-03-18T00:00:00",
          "2020-03-19T00:00:00",
          "2020-03-20T00:00:00",
          "2020-03-21T00:00:00",
          "2020-03-22T00:00:00",
          "2020-03-23T00:00:00",
          "2020-03-24T00:00:00",
          "2020-03-25T00:00:00",
          "2020-03-26T00:00:00",
          "2020-03-27T00:00:00",
          "2020-03-28T00:00:00",
          "2020-03-29T00:00:00",
          "2020-03-30T00:00:00",
          "2020-03-31T00:00:00",
          "2020-04-01T00:00:00",
          "2020-04-02T00:00:00",
          "2020-04-03T00:00:00",
          "2020-04-04T00:00:00",
          "2020-04-05T00:00:00",
          "2020-04-06T00:00:00",
          "2020-04-07T00:00:00",
          "2020-04-08T00:00:00",
          "2020-04-09T00:00:00",
          "2020-04-10T00:00:00",
          "2020-04-11T00:00:00",
          "2020-04-12T00:00:00",
          "2020-04-13T00:00:00",
          "2020-04-14T00:00:00",
          "2020-04-15T00:00:00",
          "2020-04-16T00:00:00",
          "2020-04-17T00:00:00",
          "2020-04-18T00:00:00",
          "2020-04-19T00:00:00",
          "2020-04-20T00:00:00",
          "2020-04-21T00:00:00",
          "2020-04-22T00:00:00",
          "2020-04-23T00:00:00",
          "2020-04-24T00:00:00",
          "2020-04-25T00:00:00",
          "2020-04-26T00:00:00",
          "2020-04-27T00:00:00",
          "2020-04-28T00:00:00",
          "2020-04-29T00:00:00",
          "2020-04-30T00:00:00",
          "2020-05-01T00:00:00",
          "2020-05-02T00:00:00",
          "2020-05-03T00:00:00",
          "2020-05-04T00:00:00",
          "2020-05-05T00:00:00",
          "2020-05-06T00:00:00",
          "2020-05-07T00:00:00",
          "2020-05-08T00:00:00",
          "2020-05-09T00:00:00",
          "2020-05-10T00:00:00"
         ],
         "xaxis": "x",
         "y": [
          0,
          0,
          0,
          0,
          0,
          0,
          0,
          1,
          1,
          1,
          1,
          2,
          2,
          2,
          3,
          6,
          4,
          4,
          5,
          8,
          8,
          9,
          9,
          8,
          10,
          10,
          10,
          9,
          8,
          8,
          7,
          7,
          7,
          8,
          9,
          9,
          8,
          5,
          5,
          5,
          3,
          2,
          2,
          1,
          1,
          1,
          1,
          1,
          1,
          1,
          1,
          0,
          0,
          0
         ],
         "yaxis": "y"
        },
        {
         "hovertemplate": "variable=Lozère<br>date=%{x}<br>value=%{y}<extra></extra>",
         "legendgroup": "Lozère",
         "line": {
          "color": "#FF97FF",
          "dash": "solid"
         },
         "mode": "lines",
         "name": "Lozère",
         "orientation": "v",
         "showlegend": true,
         "type": "scatter",
         "x": [
          "2020-03-18T00:00:00",
          "2020-03-19T00:00:00",
          "2020-03-20T00:00:00",
          "2020-03-21T00:00:00",
          "2020-03-22T00:00:00",
          "2020-03-23T00:00:00",
          "2020-03-24T00:00:00",
          "2020-03-25T00:00:00",
          "2020-03-26T00:00:00",
          "2020-03-27T00:00:00",
          "2020-03-28T00:00:00",
          "2020-03-29T00:00:00",
          "2020-03-30T00:00:00",
          "2020-03-31T00:00:00",
          "2020-04-01T00:00:00",
          "2020-04-02T00:00:00",
          "2020-04-03T00:00:00",
          "2020-04-04T00:00:00",
          "2020-04-05T00:00:00",
          "2020-04-06T00:00:00",
          "2020-04-07T00:00:00",
          "2020-04-08T00:00:00",
          "2020-04-09T00:00:00",
          "2020-04-10T00:00:00",
          "2020-04-11T00:00:00",
          "2020-04-12T00:00:00",
          "2020-04-13T00:00:00",
          "2020-04-14T00:00:00",
          "2020-04-15T00:00:00",
          "2020-04-16T00:00:00",
          "2020-04-17T00:00:00",
          "2020-04-18T00:00:00",
          "2020-04-19T00:00:00",
          "2020-04-20T00:00:00",
          "2020-04-21T00:00:00",
          "2020-04-22T00:00:00",
          "2020-04-23T00:00:00",
          "2020-04-24T00:00:00",
          "2020-04-25T00:00:00",
          "2020-04-26T00:00:00",
          "2020-04-27T00:00:00",
          "2020-04-28T00:00:00",
          "2020-04-29T00:00:00",
          "2020-04-30T00:00:00",
          "2020-05-01T00:00:00",
          "2020-05-02T00:00:00",
          "2020-05-03T00:00:00",
          "2020-05-04T00:00:00",
          "2020-05-05T00:00:00",
          "2020-05-06T00:00:00",
          "2020-05-07T00:00:00",
          "2020-05-08T00:00:00",
          "2020-05-09T00:00:00",
          "2020-05-10T00:00:00"
         ],
         "xaxis": "x",
         "y": [
          0,
          0,
          0,
          0,
          0,
          0,
          2,
          2,
          2,
          2,
          2,
          2,
          2,
          2,
          2,
          1,
          1,
          1,
          1,
          1,
          1,
          1,
          1,
          1,
          1,
          1,
          1,
          1,
          1,
          1,
          1,
          1,
          1,
          1,
          1,
          1,
          1,
          0,
          0,
          0,
          0,
          0,
          0,
          0,
          0,
          0,
          0,
          0,
          0,
          0,
          0,
          0,
          0,
          0
         ],
         "yaxis": "y"
        },
        {
         "hovertemplate": "variable=Hautes-Pyrénées<br>date=%{x}<br>value=%{y}<extra></extra>",
         "legendgroup": "Hautes-Pyrénées",
         "line": {
          "color": "#FECB52",
          "dash": "solid"
         },
         "mode": "lines",
         "name": "Hautes-Pyrénées",
         "orientation": "v",
         "showlegend": true,
         "type": "scatter",
         "x": [
          "2020-03-18T00:00:00",
          "2020-03-19T00:00:00",
          "2020-03-20T00:00:00",
          "2020-03-21T00:00:00",
          "2020-03-22T00:00:00",
          "2020-03-23T00:00:00",
          "2020-03-24T00:00:00",
          "2020-03-25T00:00:00",
          "2020-03-26T00:00:00",
          "2020-03-27T00:00:00",
          "2020-03-28T00:00:00",
          "2020-03-29T00:00:00",
          "2020-03-30T00:00:00",
          "2020-03-31T00:00:00",
          "2020-04-01T00:00:00",
          "2020-04-02T00:00:00",
          "2020-04-03T00:00:00",
          "2020-04-04T00:00:00",
          "2020-04-05T00:00:00",
          "2020-04-06T00:00:00",
          "2020-04-07T00:00:00",
          "2020-04-08T00:00:00",
          "2020-04-09T00:00:00",
          "2020-04-10T00:00:00",
          "2020-04-11T00:00:00",
          "2020-04-12T00:00:00",
          "2020-04-13T00:00:00",
          "2020-04-14T00:00:00",
          "2020-04-15T00:00:00",
          "2020-04-16T00:00:00",
          "2020-04-17T00:00:00",
          "2020-04-18T00:00:00",
          "2020-04-19T00:00:00",
          "2020-04-20T00:00:00",
          "2020-04-21T00:00:00",
          "2020-04-22T00:00:00",
          "2020-04-23T00:00:00",
          "2020-04-24T00:00:00",
          "2020-04-25T00:00:00",
          "2020-04-26T00:00:00",
          "2020-04-27T00:00:00",
          "2020-04-28T00:00:00",
          "2020-04-29T00:00:00",
          "2020-04-30T00:00:00",
          "2020-05-01T00:00:00",
          "2020-05-02T00:00:00",
          "2020-05-03T00:00:00",
          "2020-05-04T00:00:00",
          "2020-05-05T00:00:00",
          "2020-05-06T00:00:00",
          "2020-05-07T00:00:00",
          "2020-05-08T00:00:00",
          "2020-05-09T00:00:00",
          "2020-05-10T00:00:00"
         ],
         "xaxis": "x",
         "y": [
          0,
          1,
          1,
          1,
          1,
          1,
          1,
          2,
          2,
          3,
          5,
          5,
          7,
          7,
          7,
          6,
          6,
          5,
          7,
          7,
          6,
          7,
          7,
          6,
          5,
          6,
          5,
          5,
          5,
          5,
          4,
          4,
          4,
          4,
          4,
          4,
          4,
          4,
          4,
          4,
          4,
          4,
          4,
          5,
          5,
          5,
          5,
          5,
          3,
          3,
          4,
          4,
          4,
          4
         ],
         "yaxis": "y"
        },
        {
         "hovertemplate": "variable=Pyrénées-Orientales<br>date=%{x}<br>value=%{y}<extra></extra>",
         "legendgroup": "Pyrénées-Orientales",
         "line": {
          "color": "#636efa",
          "dash": "solid"
         },
         "mode": "lines",
         "name": "Pyrénées-Orientales",
         "orientation": "v",
         "showlegend": true,
         "type": "scatter",
         "x": [
          "2020-03-18T00:00:00",
          "2020-03-19T00:00:00",
          "2020-03-20T00:00:00",
          "2020-03-21T00:00:00",
          "2020-03-22T00:00:00",
          "2020-03-23T00:00:00",
          "2020-03-24T00:00:00",
          "2020-03-25T00:00:00",
          "2020-03-26T00:00:00",
          "2020-03-27T00:00:00",
          "2020-03-28T00:00:00",
          "2020-03-29T00:00:00",
          "2020-03-30T00:00:00",
          "2020-03-31T00:00:00",
          "2020-04-01T00:00:00",
          "2020-04-02T00:00:00",
          "2020-04-03T00:00:00",
          "2020-04-04T00:00:00",
          "2020-04-05T00:00:00",
          "2020-04-06T00:00:00",
          "2020-04-07T00:00:00",
          "2020-04-08T00:00:00",
          "2020-04-09T00:00:00",
          "2020-04-10T00:00:00",
          "2020-04-11T00:00:00",
          "2020-04-12T00:00:00",
          "2020-04-13T00:00:00",
          "2020-04-14T00:00:00",
          "2020-04-15T00:00:00",
          "2020-04-16T00:00:00",
          "2020-04-17T00:00:00",
          "2020-04-18T00:00:00",
          "2020-04-19T00:00:00",
          "2020-04-20T00:00:00",
          "2020-04-21T00:00:00",
          "2020-04-22T00:00:00",
          "2020-04-23T00:00:00",
          "2020-04-24T00:00:00",
          "2020-04-25T00:00:00",
          "2020-04-26T00:00:00",
          "2020-04-27T00:00:00",
          "2020-04-28T00:00:00",
          "2020-04-29T00:00:00",
          "2020-04-30T00:00:00",
          "2020-05-01T00:00:00",
          "2020-05-02T00:00:00",
          "2020-05-03T00:00:00",
          "2020-05-04T00:00:00",
          "2020-05-05T00:00:00",
          "2020-05-06T00:00:00",
          "2020-05-07T00:00:00",
          "2020-05-08T00:00:00",
          "2020-05-09T00:00:00",
          "2020-05-10T00:00:00"
         ],
         "xaxis": "x",
         "y": [
          5,
          11,
          15,
          15,
          20,
          22,
          28,
          30,
          35,
          32,
          34,
          33,
          37,
          35,
          35,
          34,
          34,
          36,
          31,
          32,
          35,
          31,
          32,
          33,
          29,
          27,
          26,
          21,
          17,
          17,
          15,
          14,
          15,
          13,
          13,
          12,
          12,
          12,
          11,
          11,
          10,
          8,
          8,
          8,
          8,
          8,
          8,
          8,
          5,
          4,
          0,
          0,
          0,
          0
         ],
         "yaxis": "y"
        },
        {
         "hovertemplate": "variable=Tarn<br>date=%{x}<br>value=%{y}<extra></extra>",
         "legendgroup": "Tarn",
         "line": {
          "color": "#EF553B",
          "dash": "solid"
         },
         "mode": "lines",
         "name": "Tarn",
         "orientation": "v",
         "showlegend": true,
         "type": "scatter",
         "x": [
          "2020-03-18T00:00:00",
          "2020-03-19T00:00:00",
          "2020-03-20T00:00:00",
          "2020-03-21T00:00:00",
          "2020-03-22T00:00:00",
          "2020-03-23T00:00:00",
          "2020-03-24T00:00:00",
          "2020-03-25T00:00:00",
          "2020-03-26T00:00:00",
          "2020-03-27T00:00:00",
          "2020-03-28T00:00:00",
          "2020-03-29T00:00:00",
          "2020-03-30T00:00:00",
          "2020-03-31T00:00:00",
          "2020-04-01T00:00:00",
          "2020-04-02T00:00:00",
          "2020-04-03T00:00:00",
          "2020-04-04T00:00:00",
          "2020-04-05T00:00:00",
          "2020-04-06T00:00:00",
          "2020-04-07T00:00:00",
          "2020-04-08T00:00:00",
          "2020-04-09T00:00:00",
          "2020-04-10T00:00:00",
          "2020-04-11T00:00:00",
          "2020-04-12T00:00:00",
          "2020-04-13T00:00:00",
          "2020-04-14T00:00:00",
          "2020-04-15T00:00:00",
          "2020-04-16T00:00:00",
          "2020-04-17T00:00:00",
          "2020-04-18T00:00:00",
          "2020-04-19T00:00:00",
          "2020-04-20T00:00:00",
          "2020-04-21T00:00:00",
          "2020-04-22T00:00:00",
          "2020-04-23T00:00:00",
          "2020-04-24T00:00:00",
          "2020-04-25T00:00:00",
          "2020-04-26T00:00:00",
          "2020-04-27T00:00:00",
          "2020-04-28T00:00:00",
          "2020-04-29T00:00:00",
          "2020-04-30T00:00:00",
          "2020-05-01T00:00:00",
          "2020-05-02T00:00:00",
          "2020-05-03T00:00:00",
          "2020-05-04T00:00:00",
          "2020-05-05T00:00:00",
          "2020-05-06T00:00:00",
          "2020-05-07T00:00:00",
          "2020-05-08T00:00:00",
          "2020-05-09T00:00:00",
          "2020-05-10T00:00:00"
         ],
         "xaxis": "x",
         "y": [
          0,
          1,
          1,
          1,
          2,
          3,
          3,
          7,
          10,
          12,
          13,
          17,
          17,
          18,
          19,
          24,
          23,
          23,
          24,
          24,
          27,
          22,
          22,
          20,
          19,
          19,
          19,
          19,
          18,
          16,
          15,
          15,
          15,
          11,
          11,
          12,
          9,
          8,
          8,
          8,
          8,
          9,
          9,
          9,
          10,
          10,
          10,
          10,
          9,
          9,
          9,
          9,
          8,
          8
         ],
         "yaxis": "y"
        },
        {
         "hovertemplate": "variable=Tarn-et-Garonne<br>date=%{x}<br>value=%{y}<extra></extra>",
         "legendgroup": "Tarn-et-Garonne",
         "line": {
          "color": "#00cc96",
          "dash": "solid"
         },
         "mode": "lines",
         "name": "Tarn-et-Garonne",
         "orientation": "v",
         "showlegend": true,
         "type": "scatter",
         "x": [
          "2020-03-18T00:00:00",
          "2020-03-19T00:00:00",
          "2020-03-20T00:00:00",
          "2020-03-21T00:00:00",
          "2020-03-22T00:00:00",
          "2020-03-23T00:00:00",
          "2020-03-24T00:00:00",
          "2020-03-25T00:00:00",
          "2020-03-26T00:00:00",
          "2020-03-27T00:00:00",
          "2020-03-28T00:00:00",
          "2020-03-29T00:00:00",
          "2020-03-30T00:00:00",
          "2020-03-31T00:00:00",
          "2020-04-01T00:00:00",
          "2020-04-02T00:00:00",
          "2020-04-03T00:00:00",
          "2020-04-04T00:00:00",
          "2020-04-05T00:00:00",
          "2020-04-06T00:00:00",
          "2020-04-07T00:00:00",
          "2020-04-08T00:00:00",
          "2020-04-09T00:00:00",
          "2020-04-10T00:00:00",
          "2020-04-11T00:00:00",
          "2020-04-12T00:00:00",
          "2020-04-13T00:00:00",
          "2020-04-14T00:00:00",
          "2020-04-15T00:00:00",
          "2020-04-16T00:00:00",
          "2020-04-17T00:00:00",
          "2020-04-18T00:00:00",
          "2020-04-19T00:00:00",
          "2020-04-20T00:00:00",
          "2020-04-21T00:00:00",
          "2020-04-22T00:00:00",
          "2020-04-23T00:00:00",
          "2020-04-24T00:00:00",
          "2020-04-25T00:00:00",
          "2020-04-26T00:00:00",
          "2020-04-27T00:00:00",
          "2020-04-28T00:00:00",
          "2020-04-29T00:00:00",
          "2020-04-30T00:00:00",
          "2020-05-01T00:00:00",
          "2020-05-02T00:00:00",
          "2020-05-03T00:00:00",
          "2020-05-04T00:00:00",
          "2020-05-05T00:00:00",
          "2020-05-06T00:00:00",
          "2020-05-07T00:00:00",
          "2020-05-08T00:00:00",
          "2020-05-09T00:00:00",
          "2020-05-10T00:00:00"
         ],
         "xaxis": "x",
         "y": [
          0,
          0,
          0,
          1,
          1,
          1,
          1,
          1,
          2,
          2,
          2,
          2,
          5,
          5,
          5,
          6,
          6,
          7,
          7,
          10,
          9,
          11,
          11,
          10,
          10,
          10,
          10,
          9,
          8,
          8,
          8,
          8,
          9,
          8,
          8,
          7,
          6,
          5,
          5,
          5,
          6,
          6,
          6,
          6,
          6,
          6,
          6,
          6,
          6,
          6,
          6,
          7,
          7,
          7
         ],
         "yaxis": "y"
        }
       ],
       "layout": {
        "height": 500,
        "legend": {
         "title": {
          "text": "variable"
         },
         "tracegroupgap": 0
        },
        "template": {
         "data": {
          "bar": [
           {
            "error_x": {
             "color": "#2a3f5f"
            },
            "error_y": {
             "color": "#2a3f5f"
            },
            "marker": {
             "line": {
              "color": "#E5ECF6",
              "width": 0.5
             }
            },
            "type": "bar"
           }
          ],
          "barpolar": [
           {
            "marker": {
             "line": {
              "color": "#E5ECF6",
              "width": 0.5
             }
            },
            "type": "barpolar"
           }
          ],
          "carpet": [
           {
            "aaxis": {
             "endlinecolor": "#2a3f5f",
             "gridcolor": "white",
             "linecolor": "white",
             "minorgridcolor": "white",
             "startlinecolor": "#2a3f5f"
            },
            "baxis": {
             "endlinecolor": "#2a3f5f",
             "gridcolor": "white",
             "linecolor": "white",
             "minorgridcolor": "white",
             "startlinecolor": "#2a3f5f"
            },
            "type": "carpet"
           }
          ],
          "choropleth": [
           {
            "colorbar": {
             "outlinewidth": 0,
             "ticks": ""
            },
            "type": "choropleth"
           }
          ],
          "contour": [
           {
            "colorbar": {
             "outlinewidth": 0,
             "ticks": ""
            },
            "colorscale": [
             [
              0,
              "#0d0887"
             ],
             [
              0.1111111111111111,
              "#46039f"
             ],
             [
              0.2222222222222222,
              "#7201a8"
             ],
             [
              0.3333333333333333,
              "#9c179e"
             ],
             [
              0.4444444444444444,
              "#bd3786"
             ],
             [
              0.5555555555555556,
              "#d8576b"
             ],
             [
              0.6666666666666666,
              "#ed7953"
             ],
             [
              0.7777777777777778,
              "#fb9f3a"
             ],
             [
              0.8888888888888888,
              "#fdca26"
             ],
             [
              1,
              "#f0f921"
             ]
            ],
            "type": "contour"
           }
          ],
          "contourcarpet": [
           {
            "colorbar": {
             "outlinewidth": 0,
             "ticks": ""
            },
            "type": "contourcarpet"
           }
          ],
          "heatmap": [
           {
            "colorbar": {
             "outlinewidth": 0,
             "ticks": ""
            },
            "colorscale": [
             [
              0,
              "#0d0887"
             ],
             [
              0.1111111111111111,
              "#46039f"
             ],
             [
              0.2222222222222222,
              "#7201a8"
             ],
             [
              0.3333333333333333,
              "#9c179e"
             ],
             [
              0.4444444444444444,
              "#bd3786"
             ],
             [
              0.5555555555555556,
              "#d8576b"
             ],
             [
              0.6666666666666666,
              "#ed7953"
             ],
             [
              0.7777777777777778,
              "#fb9f3a"
             ],
             [
              0.8888888888888888,
              "#fdca26"
             ],
             [
              1,
              "#f0f921"
             ]
            ],
            "type": "heatmap"
           }
          ],
          "heatmapgl": [
           {
            "colorbar": {
             "outlinewidth": 0,
             "ticks": ""
            },
            "colorscale": [
             [
              0,
              "#0d0887"
             ],
             [
              0.1111111111111111,
              "#46039f"
             ],
             [
              0.2222222222222222,
              "#7201a8"
             ],
             [
              0.3333333333333333,
              "#9c179e"
             ],
             [
              0.4444444444444444,
              "#bd3786"
             ],
             [
              0.5555555555555556,
              "#d8576b"
             ],
             [
              0.6666666666666666,
              "#ed7953"
             ],
             [
              0.7777777777777778,
              "#fb9f3a"
             ],
             [
              0.8888888888888888,
              "#fdca26"
             ],
             [
              1,
              "#f0f921"
             ]
            ],
            "type": "heatmapgl"
           }
          ],
          "histogram": [
           {
            "marker": {
             "colorbar": {
              "outlinewidth": 0,
              "ticks": ""
             }
            },
            "type": "histogram"
           }
          ],
          "histogram2d": [
           {
            "colorbar": {
             "outlinewidth": 0,
             "ticks": ""
            },
            "colorscale": [
             [
              0,
              "#0d0887"
             ],
             [
              0.1111111111111111,
              "#46039f"
             ],
             [
              0.2222222222222222,
              "#7201a8"
             ],
             [
              0.3333333333333333,
              "#9c179e"
             ],
             [
              0.4444444444444444,
              "#bd3786"
             ],
             [
              0.5555555555555556,
              "#d8576b"
             ],
             [
              0.6666666666666666,
              "#ed7953"
             ],
             [
              0.7777777777777778,
              "#fb9f3a"
             ],
             [
              0.8888888888888888,
              "#fdca26"
             ],
             [
              1,
              "#f0f921"
             ]
            ],
            "type": "histogram2d"
           }
          ],
          "histogram2dcontour": [
           {
            "colorbar": {
             "outlinewidth": 0,
             "ticks": ""
            },
            "colorscale": [
             [
              0,
              "#0d0887"
             ],
             [
              0.1111111111111111,
              "#46039f"
             ],
             [
              0.2222222222222222,
              "#7201a8"
             ],
             [
              0.3333333333333333,
              "#9c179e"
             ],
             [
              0.4444444444444444,
              "#bd3786"
             ],
             [
              0.5555555555555556,
              "#d8576b"
             ],
             [
              0.6666666666666666,
              "#ed7953"
             ],
             [
              0.7777777777777778,
              "#fb9f3a"
             ],
             [
              0.8888888888888888,
              "#fdca26"
             ],
             [
              1,
              "#f0f921"
             ]
            ],
            "type": "histogram2dcontour"
           }
          ],
          "mesh3d": [
           {
            "colorbar": {
             "outlinewidth": 0,
             "ticks": ""
            },
            "type": "mesh3d"
           }
          ],
          "parcoords": [
           {
            "line": {
             "colorbar": {
              "outlinewidth": 0,
              "ticks": ""
             }
            },
            "type": "parcoords"
           }
          ],
          "pie": [
           {
            "automargin": true,
            "type": "pie"
           }
          ],
          "scatter": [
           {
            "marker": {
             "colorbar": {
              "outlinewidth": 0,
              "ticks": ""
             }
            },
            "type": "scatter"
           }
          ],
          "scatter3d": [
           {
            "line": {
             "colorbar": {
              "outlinewidth": 0,
              "ticks": ""
             }
            },
            "marker": {
             "colorbar": {
              "outlinewidth": 0,
              "ticks": ""
             }
            },
            "type": "scatter3d"
           }
          ],
          "scattercarpet": [
           {
            "marker": {
             "colorbar": {
              "outlinewidth": 0,
              "ticks": ""
             }
            },
            "type": "scattercarpet"
           }
          ],
          "scattergeo": [
           {
            "marker": {
             "colorbar": {
              "outlinewidth": 0,
              "ticks": ""
             }
            },
            "type": "scattergeo"
           }
          ],
          "scattergl": [
           {
            "marker": {
             "colorbar": {
              "outlinewidth": 0,
              "ticks": ""
             }
            },
            "type": "scattergl"
           }
          ],
          "scattermapbox": [
           {
            "marker": {
             "colorbar": {
              "outlinewidth": 0,
              "ticks": ""
             }
            },
            "type": "scattermapbox"
           }
          ],
          "scatterpolar": [
           {
            "marker": {
             "colorbar": {
              "outlinewidth": 0,
              "ticks": ""
             }
            },
            "type": "scatterpolar"
           }
          ],
          "scatterpolargl": [
           {
            "marker": {
             "colorbar": {
              "outlinewidth": 0,
              "ticks": ""
             }
            },
            "type": "scatterpolargl"
           }
          ],
          "scatterternary": [
           {
            "marker": {
             "colorbar": {
              "outlinewidth": 0,
              "ticks": ""
             }
            },
            "type": "scatterternary"
           }
          ],
          "surface": [
           {
            "colorbar": {
             "outlinewidth": 0,
             "ticks": ""
            },
            "colorscale": [
             [
              0,
              "#0d0887"
             ],
             [
              0.1111111111111111,
              "#46039f"
             ],
             [
              0.2222222222222222,
              "#7201a8"
             ],
             [
              0.3333333333333333,
              "#9c179e"
             ],
             [
              0.4444444444444444,
              "#bd3786"
             ],
             [
              0.5555555555555556,
              "#d8576b"
             ],
             [
              0.6666666666666666,
              "#ed7953"
             ],
             [
              0.7777777777777778,
              "#fb9f3a"
             ],
             [
              0.8888888888888888,
              "#fdca26"
             ],
             [
              1,
              "#f0f921"
             ]
            ],
            "type": "surface"
           }
          ],
          "table": [
           {
            "cells": {
             "fill": {
              "color": "#EBF0F8"
             },
             "line": {
              "color": "white"
             }
            },
            "header": {
             "fill": {
              "color": "#C8D4E3"
             },
             "line": {
              "color": "white"
             }
            },
            "type": "table"
           }
          ]
         },
         "layout": {
          "annotationdefaults": {
           "arrowcolor": "#2a3f5f",
           "arrowhead": 0,
           "arrowwidth": 1
          },
          "autotypenumbers": "strict",
          "coloraxis": {
           "colorbar": {
            "outlinewidth": 0,
            "ticks": ""
           }
          },
          "colorscale": {
           "diverging": [
            [
             0,
             "#8e0152"
            ],
            [
             0.1,
             "#c51b7d"
            ],
            [
             0.2,
             "#de77ae"
            ],
            [
             0.3,
             "#f1b6da"
            ],
            [
             0.4,
             "#fde0ef"
            ],
            [
             0.5,
             "#f7f7f7"
            ],
            [
             0.6,
             "#e6f5d0"
            ],
            [
             0.7,
             "#b8e186"
            ],
            [
             0.8,
             "#7fbc41"
            ],
            [
             0.9,
             "#4d9221"
            ],
            [
             1,
             "#276419"
            ]
           ],
           "sequential": [
            [
             0,
             "#0d0887"
            ],
            [
             0.1111111111111111,
             "#46039f"
            ],
            [
             0.2222222222222222,
             "#7201a8"
            ],
            [
             0.3333333333333333,
             "#9c179e"
            ],
            [
             0.4444444444444444,
             "#bd3786"
            ],
            [
             0.5555555555555556,
             "#d8576b"
            ],
            [
             0.6666666666666666,
             "#ed7953"
            ],
            [
             0.7777777777777778,
             "#fb9f3a"
            ],
            [
             0.8888888888888888,
             "#fdca26"
            ],
            [
             1,
             "#f0f921"
            ]
           ],
           "sequentialminus": [
            [
             0,
             "#0d0887"
            ],
            [
             0.1111111111111111,
             "#46039f"
            ],
            [
             0.2222222222222222,
             "#7201a8"
            ],
            [
             0.3333333333333333,
             "#9c179e"
            ],
            [
             0.4444444444444444,
             "#bd3786"
            ],
            [
             0.5555555555555556,
             "#d8576b"
            ],
            [
             0.6666666666666666,
             "#ed7953"
            ],
            [
             0.7777777777777778,
             "#fb9f3a"
            ],
            [
             0.8888888888888888,
             "#fdca26"
            ],
            [
             1,
             "#f0f921"
            ]
           ]
          },
          "colorway": [
           "#636efa",
           "#EF553B",
           "#00cc96",
           "#ab63fa",
           "#FFA15A",
           "#19d3f3",
           "#FF6692",
           "#B6E880",
           "#FF97FF",
           "#FECB52"
          ],
          "font": {
           "color": "#2a3f5f"
          },
          "geo": {
           "bgcolor": "white",
           "lakecolor": "white",
           "landcolor": "#E5ECF6",
           "showlakes": true,
           "showland": true,
           "subunitcolor": "white"
          },
          "hoverlabel": {
           "align": "left"
          },
          "hovermode": "closest",
          "mapbox": {
           "style": "light"
          },
          "paper_bgcolor": "white",
          "plot_bgcolor": "#E5ECF6",
          "polar": {
           "angularaxis": {
            "gridcolor": "white",
            "linecolor": "white",
            "ticks": ""
           },
           "bgcolor": "#E5ECF6",
           "radialaxis": {
            "gridcolor": "white",
            "linecolor": "white",
            "ticks": ""
           }
          },
          "scene": {
           "xaxis": {
            "backgroundcolor": "#E5ECF6",
            "gridcolor": "white",
            "gridwidth": 2,
            "linecolor": "white",
            "showbackground": true,
            "ticks": "",
            "zerolinecolor": "white"
           },
           "yaxis": {
            "backgroundcolor": "#E5ECF6",
            "gridcolor": "white",
            "gridwidth": 2,
            "linecolor": "white",
            "showbackground": true,
            "ticks": "",
            "zerolinecolor": "white"
           },
           "zaxis": {
            "backgroundcolor": "#E5ECF6",
            "gridcolor": "white",
            "gridwidth": 2,
            "linecolor": "white",
            "showbackground": true,
            "ticks": "",
            "zerolinecolor": "white"
           }
          },
          "shapedefaults": {
           "line": {
            "color": "#2a3f5f"
           }
          },
          "ternary": {
           "aaxis": {
            "gridcolor": "white",
            "linecolor": "white",
            "ticks": ""
           },
           "baxis": {
            "gridcolor": "white",
            "linecolor": "white",
            "ticks": ""
           },
           "bgcolor": "#E5ECF6",
           "caxis": {
            "gridcolor": "white",
            "linecolor": "white",
            "ticks": ""
           }
          },
          "title": {
           "x": 0.05
          },
          "xaxis": {
           "automargin": true,
           "gridcolor": "white",
           "linecolor": "white",
           "ticks": "",
           "title": {
            "standoff": 15
           },
           "zerolinecolor": "white",
           "zerolinewidth": 2
          },
          "yaxis": {
           "automargin": true,
           "gridcolor": "white",
           "linecolor": "white",
           "ticks": "",
           "title": {
            "standoff": 15
           },
           "zerolinecolor": "white",
           "zerolinewidth": 2
          }
         }
        },
        "title": {
         "text": "intensive care beds occupied during the 1st confinement in Occitanie"
        },
        "width": 800,
        "xaxis": {
         "anchor": "y",
         "domain": [
          0,
          1
         ],
         "dtick": "M1",
         "tickformat": "%d\n%b",
         "title": {
          "text": "date"
         }
        },
        "yaxis": {
         "anchor": "x",
         "domain": [
          0,
          1
         ],
         "title": {
          "text": "value"
         }
        }
       }
      }
     },
     "metadata": {}
    }
   ],
   "source": [
    "confinement_1_regions('Occitanie')"
   ]
  },
  {
   "cell_type": "code",
   "execution_count": null,
   "metadata": {},
   "outputs": [],
   "source": []
  }
 ]
}