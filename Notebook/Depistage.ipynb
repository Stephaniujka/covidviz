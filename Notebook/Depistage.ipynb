{
 "metadata": {
  "language_info": {
   "codemirror_mode": {
    "name": "ipython",
    "version": 3
   },
   "file_extension": ".py",
   "mimetype": "text/x-python",
   "name": "python",
   "nbconvert_exporter": "python",
   "pygments_lexer": "ipython3",
   "version": "3.8.8-final"
  },
  "orig_nbformat": 2,
  "kernelspec": {
   "name": "python388jvsc74a57bd0f2553dd8eab56fa176af5ba2b5dc4cf53e056913a0b7c75b8a54aa30280dccb2",
   "display_name": "Python 3.8.8 64-bit ('stef_env': conda)"
  }
 },
 "nbformat": 4,
 "nbformat_minor": 2,
 "cells": [
  {
   "cell_type": "code",
   "execution_count": 46,
   "metadata": {},
   "outputs": [],
   "source": [
    "import pandas as pd\n",
    "import numpy as np\n",
    "import folium"
   ]
  },
  {
   "cell_type": "code",
   "execution_count": 143,
   "metadata": {},
   "outputs": [],
   "source": [
    "depis_grand_public = pd.read_csv('../sites-prelevements-grand-public.csv')\n",
    "depis_acces_restreint = pd.read_csv('../sites-prelevements-acces-restreint.csv')"
   ]
  },
  {
   "cell_type": "code",
   "execution_count": 144,
   "metadata": {},
   "outputs": [],
   "source": [
    "depis_grand_public.drop(['ID', 'finess', 'date_modif'],1, inplace=True)\n",
    "depis_acces_restreint.drop(['ID', 'finess', 'date_modif'],1, inplace=True)"
   ]
  },
  {
   "cell_type": "code",
   "execution_count": 137,
   "metadata": {},
   "outputs": [
    {
     "output_type": "execute_result",
     "data": {
      "text/plain": [
       "          id_ej                                         rs  \\\n",
       "1269  500020979                          cabinet infirmier   \n",
       "1828  630010916                          LBM GEN BIO VICHY   \n",
       "2388  750049371           Parking Chennevière Place Tukums   \n",
       "2595  780020855  Centre Covid Biosynergie Les Ulis Loxamed   \n",
       "2742  830018644                                        NaN   \n",
       "2844  860012756                          Cabinet infirmier   \n",
       "3093  920034204                     BIOETHERNALYS ASNIERES   \n",
       "\n",
       "                           adresse  \\\n",
       "1269                           NaN   \n",
       "1828  75 ALL DES AILES 03200 VICHY   \n",
       "2388                           NaN   \n",
       "2595                           NaN   \n",
       "2742                           NaN   \n",
       "2844                           NaN   \n",
       "3093                           NaN   \n",
       "\n",
       "                                                cpl_loc do_prel do_antigenic  \\\n",
       "1269                                  Cabinet infirmier     OUI          NON   \n",
       "1828                                                NaN     OUI          NON   \n",
       "2388                                              DRIVE     OUI          OUI   \n",
       "2595  Piscine des Ulis, Avenue de l'Aubrac, 91940 Le...     OUI          NON   \n",
       "2742                                                NaN     OUI          NON   \n",
       "2844  Tivoli sur le parking du marché, centre du bou...     OUI          NON   \n",
       "3093                                                NaN     OUI          NON   \n",
       "\n",
       "      longitude  latitude   mod_prel                       public  \\\n",
       "1269        NaN       NaN  Sur place                  Tout public   \n",
       "1828        NaN       NaN  Sur place                  Tout public   \n",
       "2388        NaN       NaN  Sur place  Tout public/Enfants 0-3 ans   \n",
       "2595        NaN       NaN  Sur place                  Tout public   \n",
       "2742        NaN       NaN  Sur place                  Tout public   \n",
       "2844        NaN       NaN  Sur place                  Tout public   \n",
       "3093        NaN       NaN  Sur place                  Tout public   \n",
       "\n",
       "                                                horaire horaire_prio  \\\n",
       "1269                                                NaN          NaN   \n",
       "1828  lundi : 9h15 -17h45 | mardi : 9h15 -17h45 | me...          NaN   \n",
       "2388  lundi : 9h30-12h | mardi :  9h30-12h | mercred...          NaN   \n",
       "2595  Du lundi au samedi 9h - 13h / 14h - 17h  |    ...          NaN   \n",
       "2742                                                NaN          NaN   \n",
       "2844  Horaires variables en fonction des disponibili...          NaN   \n",
       "3093                                                NaN          NaN   \n",
       "\n",
       "                       check_rdv  \\\n",
       "1269  Sur rendez-vous uniquement   \n",
       "1828  Sur rendez-vous uniquement   \n",
       "2388  Sur rendez-vous uniquement   \n",
       "2595    Avec ou sans rendez-vous   \n",
       "2742                         NaN   \n",
       "2844  Sur rendez-vous uniquement   \n",
       "3093                         NaN   \n",
       "\n",
       "                                                tel_rdv        web_rdv  \n",
       "1269                                         0750060015            NaN  \n",
       "1828                                         0626448655  www.genbio.fr  \n",
       "2388                                         0145760425            TEL  \n",
       "2595  Hotline PCR : infocovid.idf@biogroup.fr ou 017...            NaN  \n",
       "2742                                                NaN            NaN  \n",
       "2844                                     05.49.51.62.85            NaN  \n",
       "3093                                                NaN            NaN  "
      ],
      "text/html": "<div>\n<style scoped>\n    .dataframe tbody tr th:only-of-type {\n        vertical-align: middle;\n    }\n\n    .dataframe tbody tr th {\n        vertical-align: top;\n    }\n\n    .dataframe thead th {\n        text-align: right;\n    }\n</style>\n<table border=\"1\" class=\"dataframe\">\n  <thead>\n    <tr style=\"text-align: right;\">\n      <th></th>\n      <th>id_ej</th>\n      <th>rs</th>\n      <th>adresse</th>\n      <th>cpl_loc</th>\n      <th>do_prel</th>\n      <th>do_antigenic</th>\n      <th>longitude</th>\n      <th>latitude</th>\n      <th>mod_prel</th>\n      <th>public</th>\n      <th>horaire</th>\n      <th>horaire_prio</th>\n      <th>check_rdv</th>\n      <th>tel_rdv</th>\n      <th>web_rdv</th>\n    </tr>\n  </thead>\n  <tbody>\n    <tr>\n      <th>1269</th>\n      <td>500020979</td>\n      <td>cabinet infirmier</td>\n      <td>NaN</td>\n      <td>Cabinet infirmier</td>\n      <td>OUI</td>\n      <td>NON</td>\n      <td>NaN</td>\n      <td>NaN</td>\n      <td>Sur place</td>\n      <td>Tout public</td>\n      <td>NaN</td>\n      <td>NaN</td>\n      <td>Sur rendez-vous uniquement</td>\n      <td>0750060015</td>\n      <td>NaN</td>\n    </tr>\n    <tr>\n      <th>1828</th>\n      <td>630010916</td>\n      <td>LBM GEN BIO VICHY</td>\n      <td>75 ALL DES AILES 03200 VICHY</td>\n      <td>NaN</td>\n      <td>OUI</td>\n      <td>NON</td>\n      <td>NaN</td>\n      <td>NaN</td>\n      <td>Sur place</td>\n      <td>Tout public</td>\n      <td>lundi : 9h15 -17h45 | mardi : 9h15 -17h45 | me...</td>\n      <td>NaN</td>\n      <td>Sur rendez-vous uniquement</td>\n      <td>0626448655</td>\n      <td>www.genbio.fr</td>\n    </tr>\n    <tr>\n      <th>2388</th>\n      <td>750049371</td>\n      <td>Parking Chennevière Place Tukums</td>\n      <td>NaN</td>\n      <td>DRIVE</td>\n      <td>OUI</td>\n      <td>OUI</td>\n      <td>NaN</td>\n      <td>NaN</td>\n      <td>Sur place</td>\n      <td>Tout public/Enfants 0-3 ans</td>\n      <td>lundi : 9h30-12h | mardi :  9h30-12h | mercred...</td>\n      <td>NaN</td>\n      <td>Sur rendez-vous uniquement</td>\n      <td>0145760425</td>\n      <td>TEL</td>\n    </tr>\n    <tr>\n      <th>2595</th>\n      <td>780020855</td>\n      <td>Centre Covid Biosynergie Les Ulis Loxamed</td>\n      <td>NaN</td>\n      <td>Piscine des Ulis, Avenue de l'Aubrac, 91940 Le...</td>\n      <td>OUI</td>\n      <td>NON</td>\n      <td>NaN</td>\n      <td>NaN</td>\n      <td>Sur place</td>\n      <td>Tout public</td>\n      <td>Du lundi au samedi 9h - 13h / 14h - 17h  |    ...</td>\n      <td>NaN</td>\n      <td>Avec ou sans rendez-vous</td>\n      <td>Hotline PCR : infocovid.idf@biogroup.fr ou 017...</td>\n      <td>NaN</td>\n    </tr>\n    <tr>\n      <th>2742</th>\n      <td>830018644</td>\n      <td>NaN</td>\n      <td>NaN</td>\n      <td>NaN</td>\n      <td>OUI</td>\n      <td>NON</td>\n      <td>NaN</td>\n      <td>NaN</td>\n      <td>Sur place</td>\n      <td>Tout public</td>\n      <td>NaN</td>\n      <td>NaN</td>\n      <td>NaN</td>\n      <td>NaN</td>\n      <td>NaN</td>\n    </tr>\n    <tr>\n      <th>2844</th>\n      <td>860012756</td>\n      <td>Cabinet infirmier</td>\n      <td>NaN</td>\n      <td>Tivoli sur le parking du marché, centre du bou...</td>\n      <td>OUI</td>\n      <td>NON</td>\n      <td>NaN</td>\n      <td>NaN</td>\n      <td>Sur place</td>\n      <td>Tout public</td>\n      <td>Horaires variables en fonction des disponibili...</td>\n      <td>NaN</td>\n      <td>Sur rendez-vous uniquement</td>\n      <td>05.49.51.62.85</td>\n      <td>NaN</td>\n    </tr>\n    <tr>\n      <th>3093</th>\n      <td>920034204</td>\n      <td>BIOETHERNALYS ASNIERES</td>\n      <td>NaN</td>\n      <td>NaN</td>\n      <td>OUI</td>\n      <td>NON</td>\n      <td>NaN</td>\n      <td>NaN</td>\n      <td>Sur place</td>\n      <td>Tout public</td>\n      <td>NaN</td>\n      <td>NaN</td>\n      <td>NaN</td>\n      <td>NaN</td>\n      <td>NaN</td>\n    </tr>\n  </tbody>\n</table>\n</div>"
     },
     "metadata": {},
     "execution_count": 137
    }
   ],
   "source": [
    "depis_grand_public[depis_grand_public['latitude'].isnull() == True]"
   ]
  },
  {
   "cell_type": "code",
   "execution_count": 145,
   "metadata": {},
   "outputs": [],
   "source": [
    "depis_grand_public.drop([2388,2742],inplace=True)\n",
    "\n",
    "depis_grand_public.loc[1269,'adresse'] = '6 Rue St Hermeland 50260 SOTTEVAST'\n",
    "depis_grand_public.loc[1269,'longitude'] = -1.5945067\n",
    "depis_grand_public.loc[1269,'latitude'] = 49.5224947\n",
    "\n",
    "depis_grand_public.loc[1828,'longitude'] = 3.409963\n",
    "depis_grand_public.loc[1828,'latitude'] = 46.1502923\n",
    "\n",
    "depis_grand_public.loc[2595,'longitude'] = 2.1660581\n",
    "depis_grand_public.loc[2595,'latitude'] = 48.6789083\n",
    "\n",
    "depis_grand_public.loc[2595,'adresse'] = depis_grand_public.loc[2595,'cpl_loc']\n",
    "depis_grand_public.loc[2595,'cpl_loc'] = np.nan\n",
    "\n",
    "depis_grand_public.loc[2844,'longitude'] = 0.16686641335383762\n",
    "depis_grand_public.loc[2844,'latitude'] = 46.63853367849356\n",
    "\n",
    "depis_grand_public.loc[3093,'adresse'] = '286 Av. des Grésillons, 92600 Asnières-sur-Seine'\n",
    "depis_grand_public.loc[3093,'tel_rdv'] = '01 85 78 53 43'\n",
    "depis_grand_public.loc[3093,'longitude'] = 2.3141661\n",
    "depis_grand_public.loc[3093,'latitude'] = 48.9202844"
   ]
  },
  {
   "cell_type": "code",
   "execution_count": 147,
   "metadata": {},
   "outputs": [],
   "source": [
    "depis_grand_public = depis_grand_public.reset_index()"
   ]
  },
  {
   "cell_type": "code",
   "execution_count": 148,
   "metadata": {},
   "outputs": [],
   "source": [
    "for row in range(len(depis_grand_public)) :\n",
    "    depis_grand_public.loc[row,'dep'] = depis_grand_public.loc[row,'id_ej'][:2]"
   ]
  },
  {
   "cell_type": "code",
   "execution_count": 166,
   "metadata": {},
   "outputs": [],
   "source": [
    "for row in range(len(depis_acces_restreint)) :\n",
    "    depis_acces_restreint.loc[row,'dep'] = str(depis_acces_restreint.loc[row,'id_ej'])[:2]"
   ]
  },
  {
   "cell_type": "code",
   "execution_count": 149,
   "metadata": {},
   "outputs": [
    {
     "output_type": "execute_result",
     "data": {
      "text/plain": [
       "   index      id_ej                               rs  \\\n",
       "0      0  010001725     LBM CROIX BLANCHE BOURG EN B   \n",
       "1      1  010009843  LBM BIOPTEAM BOURG EN B LALANDE   \n",
       "2      2  010009843   LBM BIOPTEAM BOURG EN B BRETIN   \n",
       "3      3  010009843              LBM BIOPTEAM VONNAS   \n",
       "4      4  020000063                 CH SAINT-QUENTIN   \n",
       "\n",
       "                                           adresse cpl_loc do_prel  \\\n",
       "0       51 AV AMEDEE MERCIER 01000 BOURG EN BRESSE     NaN     OUI   \n",
       "1    14 R DE LA GRENOUILLERE 01000 BOURG EN BRESSE     NaN     OUI   \n",
       "2               8 PL JOUBERT 01000 BOURG EN BRESSE     NaN     OUI   \n",
       "3            48 PL FERDINAND DE BEOST 01540 VONNAS     NaN     OUI   \n",
       "4  1 R MICHEL DE L'HOSPITAL 02321 ST QUENTIN CEDEX     NaN     OUI   \n",
       "\n",
       "  do_antigenic  longitude   latitude   mod_prel       public  \\\n",
       "0          NON   5.241852  46.203851  Sur place  Tout public   \n",
       "1          NON   5.226313  46.208489  Sur place  Tout public   \n",
       "2          NON   5.222134  46.203186  Sur place  Tout public   \n",
       "3          NON   4.991750  46.218786  Sur place  Tout public   \n",
       "4          NON   3.269153  49.861845  Sur place  Tout public   \n",
       "\n",
       "                                             horaire horaire_prio  \\\n",
       "0  lundi : 8h00-12h00 et 14h00-19h00 | mardi : 8h...          NaN   \n",
       "1                                                NaN          NaN   \n",
       "2  lundi : 10h00-12h00  mardi : 10h00-12h00  merc...          NaN   \n",
       "3  lundi : 8h30-16h30  mardi : 8h30-16h30  mercre...          NaN   \n",
       "4                                                NaN          NaN   \n",
       "\n",
       "                    check_rdv     tel_rdv web_rdv dep  \n",
       "0  Sur rendez-vous uniquement  0474452636     NaN  01  \n",
       "1                         NaN  0474226107     NaN  01  \n",
       "2                         NaN  0474225209     NaN  01  \n",
       "3                         NaN  0474500517     NaN  01  \n",
       "4                         NaN         NaN     NaN  02  "
      ],
      "text/html": "<div>\n<style scoped>\n    .dataframe tbody tr th:only-of-type {\n        vertical-align: middle;\n    }\n\n    .dataframe tbody tr th {\n        vertical-align: top;\n    }\n\n    .dataframe thead th {\n        text-align: right;\n    }\n</style>\n<table border=\"1\" class=\"dataframe\">\n  <thead>\n    <tr style=\"text-align: right;\">\n      <th></th>\n      <th>index</th>\n      <th>id_ej</th>\n      <th>rs</th>\n      <th>adresse</th>\n      <th>cpl_loc</th>\n      <th>do_prel</th>\n      <th>do_antigenic</th>\n      <th>longitude</th>\n      <th>latitude</th>\n      <th>mod_prel</th>\n      <th>public</th>\n      <th>horaire</th>\n      <th>horaire_prio</th>\n      <th>check_rdv</th>\n      <th>tel_rdv</th>\n      <th>web_rdv</th>\n      <th>dep</th>\n    </tr>\n  </thead>\n  <tbody>\n    <tr>\n      <th>0</th>\n      <td>0</td>\n      <td>010001725</td>\n      <td>LBM CROIX BLANCHE BOURG EN B</td>\n      <td>51 AV AMEDEE MERCIER 01000 BOURG EN BRESSE</td>\n      <td>NaN</td>\n      <td>OUI</td>\n      <td>NON</td>\n      <td>5.241852</td>\n      <td>46.203851</td>\n      <td>Sur place</td>\n      <td>Tout public</td>\n      <td>lundi : 8h00-12h00 et 14h00-19h00 | mardi : 8h...</td>\n      <td>NaN</td>\n      <td>Sur rendez-vous uniquement</td>\n      <td>0474452636</td>\n      <td>NaN</td>\n      <td>01</td>\n    </tr>\n    <tr>\n      <th>1</th>\n      <td>1</td>\n      <td>010009843</td>\n      <td>LBM BIOPTEAM BOURG EN B LALANDE</td>\n      <td>14 R DE LA GRENOUILLERE 01000 BOURG EN BRESSE</td>\n      <td>NaN</td>\n      <td>OUI</td>\n      <td>NON</td>\n      <td>5.226313</td>\n      <td>46.208489</td>\n      <td>Sur place</td>\n      <td>Tout public</td>\n      <td>NaN</td>\n      <td>NaN</td>\n      <td>NaN</td>\n      <td>0474226107</td>\n      <td>NaN</td>\n      <td>01</td>\n    </tr>\n    <tr>\n      <th>2</th>\n      <td>2</td>\n      <td>010009843</td>\n      <td>LBM BIOPTEAM BOURG EN B BRETIN</td>\n      <td>8 PL JOUBERT 01000 BOURG EN BRESSE</td>\n      <td>NaN</td>\n      <td>OUI</td>\n      <td>NON</td>\n      <td>5.222134</td>\n      <td>46.203186</td>\n      <td>Sur place</td>\n      <td>Tout public</td>\n      <td>lundi : 10h00-12h00  mardi : 10h00-12h00  merc...</td>\n      <td>NaN</td>\n      <td>NaN</td>\n      <td>0474225209</td>\n      <td>NaN</td>\n      <td>01</td>\n    </tr>\n    <tr>\n      <th>3</th>\n      <td>3</td>\n      <td>010009843</td>\n      <td>LBM BIOPTEAM VONNAS</td>\n      <td>48 PL FERDINAND DE BEOST 01540 VONNAS</td>\n      <td>NaN</td>\n      <td>OUI</td>\n      <td>NON</td>\n      <td>4.991750</td>\n      <td>46.218786</td>\n      <td>Sur place</td>\n      <td>Tout public</td>\n      <td>lundi : 8h30-16h30  mardi : 8h30-16h30  mercre...</td>\n      <td>NaN</td>\n      <td>NaN</td>\n      <td>0474500517</td>\n      <td>NaN</td>\n      <td>01</td>\n    </tr>\n    <tr>\n      <th>4</th>\n      <td>4</td>\n      <td>020000063</td>\n      <td>CH SAINT-QUENTIN</td>\n      <td>1 R MICHEL DE L'HOSPITAL 02321 ST QUENTIN CEDEX</td>\n      <td>NaN</td>\n      <td>OUI</td>\n      <td>NON</td>\n      <td>3.269153</td>\n      <td>49.861845</td>\n      <td>Sur place</td>\n      <td>Tout public</td>\n      <td>NaN</td>\n      <td>NaN</td>\n      <td>NaN</td>\n      <td>NaN</td>\n      <td>NaN</td>\n      <td>02</td>\n    </tr>\n  </tbody>\n</table>\n</div>"
     },
     "metadata": {},
     "execution_count": 149
    }
   ],
   "source": [
    "depis_grand_public.head()"
   ]
  },
  {
   "cell_type": "code",
   "execution_count": 159,
   "metadata": {},
   "outputs": [
    {
     "output_type": "execute_result",
     "data": {
      "text/plain": [
       "Empty DataFrame\n",
       "Columns: [id_ej, rs, adresse, cpl_loc, do_prel, do_antigenic, longitude, latitude, mod_prel, public, horaire, horaire_prio, check_rdv, tel_rdv, web_rdv]\n",
       "Index: []"
      ],
      "text/html": "<div>\n<style scoped>\n    .dataframe tbody tr th:only-of-type {\n        vertical-align: middle;\n    }\n\n    .dataframe tbody tr th {\n        vertical-align: top;\n    }\n\n    .dataframe thead th {\n        text-align: right;\n    }\n</style>\n<table border=\"1\" class=\"dataframe\">\n  <thead>\n    <tr style=\"text-align: right;\">\n      <th></th>\n      <th>id_ej</th>\n      <th>rs</th>\n      <th>adresse</th>\n      <th>cpl_loc</th>\n      <th>do_prel</th>\n      <th>do_antigenic</th>\n      <th>longitude</th>\n      <th>latitude</th>\n      <th>mod_prel</th>\n      <th>public</th>\n      <th>horaire</th>\n      <th>horaire_prio</th>\n      <th>check_rdv</th>\n      <th>tel_rdv</th>\n      <th>web_rdv</th>\n    </tr>\n  </thead>\n  <tbody>\n  </tbody>\n</table>\n</div>"
     },
     "metadata": {},
     "execution_count": 159
    }
   ],
   "source": [
    "depis_acces_restreint[depis_acces_restreint['latitude'].isnull() == True]"
   ]
  },
  {
   "cell_type": "code",
   "execution_count": 163,
   "metadata": {},
   "outputs": [
    {
     "output_type": "execute_result",
     "data": {
      "text/plain": [
       "       id_ej                                        rs  \\\n",
       "0   10008407            CH DU HAUT BUGEY - GEOVREISSET   \n",
       "1   60021904  LBM EUROFINS LABAZUR NICE SITE ST GEORGE   \n",
       "2  120006309                           CSI UDSMA RODEZ   \n",
       "3  120006309                   CSI UDSMA MUR DE BARREZ   \n",
       "4  120006309        CSI UDSMA VILLEFRANCHE DE ROUERGUE   \n",
       "\n",
       "                                            adresse  \\\n",
       "0              1 RTE DE VEYZIAT 01108 OYONNAX CEDEX   \n",
       "1                         2 AV DE RIMIEZ 06000 NICE   \n",
       "2               31 Avenue de la Gineste 12000 Rodez   \n",
       "3    Avenue du Cardinal Verdier 12600 Mur-de-Barrez   \n",
       "4  12 Quai du Temple 12200 Villefranche-de-Rouergue   \n",
       "\n",
       "                                             cpl_loc do_prel do_antigenic  \\\n",
       "0                                                NaN     OUI          NON   \n",
       "1                                                NaN     OUI          NON   \n",
       "2  LABORATOIRE DE SECTEUR LxBIO Béteille - 22 rue...     OUI          NON   \n",
       "3  LABORATOIRE DE SECTEUR LxBIO ESPALION - 4 av d...     OUI          NON   \n",
       "4  LABORATOIRE DE SECTEUR LxBIO VILLEFRANCHE DE R...     OUI          NON   \n",
       "\n",
       "   longitude   latitude         mod_prel  \\\n",
       "0   5.627348  46.275059        Sur place   \n",
       "1   7.272878  43.739412   En étab. santé   \n",
       "2   2.566289  44.361668  Equipes mobiles   \n",
       "3   2.660854  44.843268  Equipes mobiles   \n",
       "4   2.039347  44.349350  Equipes mobiles   \n",
       "\n",
       "                                              public               horaire  \\\n",
       "0  Personnel soignant/patients hospitalisés dans ...                   NaN   \n",
       "1                                       Hospitalisés  Non ouvert au public   \n",
       "2                                  patients fragiles                   NaN   \n",
       "3                                  patients fragiles                   NaN   \n",
       "4                                  patients fragiles                   NaN   \n",
       "\n",
       "  horaire_prio                   check_rdv  \\\n",
       "0          NaN                         NaN   \n",
       "1          NaN  Sur rendez-vous uniquement   \n",
       "2          NaN  Sur rendez-vous uniquement   \n",
       "3          NaN  Sur rendez-vous uniquement   \n",
       "4          NaN  Sur rendez-vous uniquement   \n",
       "\n",
       "                                     tel_rdv web_rdv  \n",
       "0                                 0474731002     NaN  \n",
       "1                                        NaN     NaN  \n",
       "2  06 80 39 53 66 (à partir du lundi 18 mai)     NaN  \n",
       "3  06 80 39 53 66 (à partir du lundi 18 mai)     NaN  \n",
       "4  06 80 39 53 66 (à partir du lundi 18 mai)     NaN  "
      ],
      "text/html": "<div>\n<style scoped>\n    .dataframe tbody tr th:only-of-type {\n        vertical-align: middle;\n    }\n\n    .dataframe tbody tr th {\n        vertical-align: top;\n    }\n\n    .dataframe thead th {\n        text-align: right;\n    }\n</style>\n<table border=\"1\" class=\"dataframe\">\n  <thead>\n    <tr style=\"text-align: right;\">\n      <th></th>\n      <th>id_ej</th>\n      <th>rs</th>\n      <th>adresse</th>\n      <th>cpl_loc</th>\n      <th>do_prel</th>\n      <th>do_antigenic</th>\n      <th>longitude</th>\n      <th>latitude</th>\n      <th>mod_prel</th>\n      <th>public</th>\n      <th>horaire</th>\n      <th>horaire_prio</th>\n      <th>check_rdv</th>\n      <th>tel_rdv</th>\n      <th>web_rdv</th>\n    </tr>\n  </thead>\n  <tbody>\n    <tr>\n      <th>0</th>\n      <td>10008407</td>\n      <td>CH DU HAUT BUGEY - GEOVREISSET</td>\n      <td>1 RTE DE VEYZIAT 01108 OYONNAX CEDEX</td>\n      <td>NaN</td>\n      <td>OUI</td>\n      <td>NON</td>\n      <td>5.627348</td>\n      <td>46.275059</td>\n      <td>Sur place</td>\n      <td>Personnel soignant/patients hospitalisés dans ...</td>\n      <td>NaN</td>\n      <td>NaN</td>\n      <td>NaN</td>\n      <td>0474731002</td>\n      <td>NaN</td>\n    </tr>\n    <tr>\n      <th>1</th>\n      <td>60021904</td>\n      <td>LBM EUROFINS LABAZUR NICE SITE ST GEORGE</td>\n      <td>2 AV DE RIMIEZ 06000 NICE</td>\n      <td>NaN</td>\n      <td>OUI</td>\n      <td>NON</td>\n      <td>7.272878</td>\n      <td>43.739412</td>\n      <td>En étab. santé</td>\n      <td>Hospitalisés</td>\n      <td>Non ouvert au public</td>\n      <td>NaN</td>\n      <td>Sur rendez-vous uniquement</td>\n      <td>NaN</td>\n      <td>NaN</td>\n    </tr>\n    <tr>\n      <th>2</th>\n      <td>120006309</td>\n      <td>CSI UDSMA RODEZ</td>\n      <td>31 Avenue de la Gineste 12000 Rodez</td>\n      <td>LABORATOIRE DE SECTEUR LxBIO Béteille - 22 rue...</td>\n      <td>OUI</td>\n      <td>NON</td>\n      <td>2.566289</td>\n      <td>44.361668</td>\n      <td>Equipes mobiles</td>\n      <td>patients fragiles</td>\n      <td>NaN</td>\n      <td>NaN</td>\n      <td>Sur rendez-vous uniquement</td>\n      <td>06 80 39 53 66 (à partir du lundi 18 mai)</td>\n      <td>NaN</td>\n    </tr>\n    <tr>\n      <th>3</th>\n      <td>120006309</td>\n      <td>CSI UDSMA MUR DE BARREZ</td>\n      <td>Avenue du Cardinal Verdier 12600 Mur-de-Barrez</td>\n      <td>LABORATOIRE DE SECTEUR LxBIO ESPALION - 4 av d...</td>\n      <td>OUI</td>\n      <td>NON</td>\n      <td>2.660854</td>\n      <td>44.843268</td>\n      <td>Equipes mobiles</td>\n      <td>patients fragiles</td>\n      <td>NaN</td>\n      <td>NaN</td>\n      <td>Sur rendez-vous uniquement</td>\n      <td>06 80 39 53 66 (à partir du lundi 18 mai)</td>\n      <td>NaN</td>\n    </tr>\n    <tr>\n      <th>4</th>\n      <td>120006309</td>\n      <td>CSI UDSMA VILLEFRANCHE DE ROUERGUE</td>\n      <td>12 Quai du Temple 12200 Villefranche-de-Rouergue</td>\n      <td>LABORATOIRE DE SECTEUR LxBIO VILLEFRANCHE DE R...</td>\n      <td>OUI</td>\n      <td>NON</td>\n      <td>2.039347</td>\n      <td>44.349350</td>\n      <td>Equipes mobiles</td>\n      <td>patients fragiles</td>\n      <td>NaN</td>\n      <td>NaN</td>\n      <td>Sur rendez-vous uniquement</td>\n      <td>06 80 39 53 66 (à partir du lundi 18 mai)</td>\n      <td>NaN</td>\n    </tr>\n  </tbody>\n</table>\n</div>"
     },
     "metadata": {},
     "execution_count": 163
    }
   ],
   "source": [
    "depis_acces_restreint.head()"
   ]
  },
  {
   "cell_type": "code",
   "execution_count": 150,
   "metadata": {},
   "outputs": [],
   "source": [
    "dep_fr = pd.read_csv('../départ_fr_coord.csv', delimiter=';')"
   ]
  },
  {
   "cell_type": "code",
   "execution_count": 151,
   "metadata": {},
   "outputs": [
    {
     "output_type": "execute_result",
     "data": {
      "text/plain": [
       "  maille_code               maille_nom   Latitude  Longitude  Unnamed: 4  \\\n",
       "0          01                      Ain  46.064468   4.903189         NaN   \n",
       "1          02                    Aisne  49.447935   2.485857         NaN   \n",
       "2          03                   Allier  46.366144   2.580819         NaN   \n",
       "3          04  Alpes-de-Haute-Provence  44.162792   5.672461         NaN   \n",
       "4          05             Hautes-Alpes  44.655276   5.687306         NaN   \n",
       "\n",
       "   Unnamed: 5  Unnamed: 6  Unnamed: 7  \n",
       "0         NaN         NaN         NaN  \n",
       "1         NaN         NaN         NaN  \n",
       "2         NaN         NaN         NaN  \n",
       "3         NaN         NaN         NaN  \n",
       "4         NaN         NaN         NaN  "
      ],
      "text/html": "<div>\n<style scoped>\n    .dataframe tbody tr th:only-of-type {\n        vertical-align: middle;\n    }\n\n    .dataframe tbody tr th {\n        vertical-align: top;\n    }\n\n    .dataframe thead th {\n        text-align: right;\n    }\n</style>\n<table border=\"1\" class=\"dataframe\">\n  <thead>\n    <tr style=\"text-align: right;\">\n      <th></th>\n      <th>maille_code</th>\n      <th>maille_nom</th>\n      <th>Latitude</th>\n      <th>Longitude</th>\n      <th>Unnamed: 4</th>\n      <th>Unnamed: 5</th>\n      <th>Unnamed: 6</th>\n      <th>Unnamed: 7</th>\n    </tr>\n  </thead>\n  <tbody>\n    <tr>\n      <th>0</th>\n      <td>01</td>\n      <td>Ain</td>\n      <td>46.064468</td>\n      <td>4.903189</td>\n      <td>NaN</td>\n      <td>NaN</td>\n      <td>NaN</td>\n      <td>NaN</td>\n    </tr>\n    <tr>\n      <th>1</th>\n      <td>02</td>\n      <td>Aisne</td>\n      <td>49.447935</td>\n      <td>2.485857</td>\n      <td>NaN</td>\n      <td>NaN</td>\n      <td>NaN</td>\n      <td>NaN</td>\n    </tr>\n    <tr>\n      <th>2</th>\n      <td>03</td>\n      <td>Allier</td>\n      <td>46.366144</td>\n      <td>2.580819</td>\n      <td>NaN</td>\n      <td>NaN</td>\n      <td>NaN</td>\n      <td>NaN</td>\n    </tr>\n    <tr>\n      <th>3</th>\n      <td>04</td>\n      <td>Alpes-de-Haute-Provence</td>\n      <td>44.162792</td>\n      <td>5.672461</td>\n      <td>NaN</td>\n      <td>NaN</td>\n      <td>NaN</td>\n      <td>NaN</td>\n    </tr>\n    <tr>\n      <th>4</th>\n      <td>05</td>\n      <td>Hautes-Alpes</td>\n      <td>44.655276</td>\n      <td>5.687306</td>\n      <td>NaN</td>\n      <td>NaN</td>\n      <td>NaN</td>\n      <td>NaN</td>\n    </tr>\n  </tbody>\n</table>\n</div>"
     },
     "metadata": {},
     "execution_count": 151
    }
   ],
   "source": [
    "dep_fr.head()"
   ]
  },
  {
   "cell_type": "code",
   "execution_count": 152,
   "metadata": {},
   "outputs": [],
   "source": [
    "dep_fr.drop(['Unnamed: 4', 'Unnamed: 5', 'Unnamed: 6', 'Unnamed: 7'], 1, inplace=True)"
   ]
  },
  {
   "cell_type": "code",
   "execution_count": 154,
   "metadata": {},
   "outputs": [],
   "source": [
    "def map_dep(department) :\n",
    "    return(folium.Map(location=[dep_fr[dep_fr['maille_code']==f'{department}']['Latitude'],dep_fr[dep_fr['maille_code']==f'{department}']['Longitude']], zoom_start=8, tiles=\"CartoDB positron\"))"
   ]
  },
  {
   "cell_type": "code",
   "execution_count": 155,
   "metadata": {},
   "outputs": [],
   "source": [
    "all_map_dep = {}\n",
    "\n",
    "for dep_code in dep_fr['maille_code'].tolist() :\n",
    "    all_map_dep[f'{dep_code}'] = map_dep(f'{dep_code}')"
   ]
  },
  {
   "cell_type": "code",
   "execution_count": 156,
   "metadata": {},
   "outputs": [],
   "source": [
    "depis_department_grand_public = {}\n",
    "for dep_code in dep_fr['maille_code'].tolist() :\n",
    "    depis_department_grand_public[f'{dep_code}'] = depis_grand_public[depis_grand_public['dep']==f'{dep_code}']\n",
    "    depis_department_grand_public[f'{dep_code}'] = depis_department_grand_public[f'{dep_code}'].reset_index()"
   ]
  },
  {
   "cell_type": "code",
   "execution_count": 167,
   "metadata": {},
   "outputs": [],
   "source": [
    "depis_department_acces_restreint = {}\n",
    "for dep_code in dep_fr['maille_code'].tolist() :\n",
    "    depis_department_acces_restreint[f'{dep_code}'] = depis_acces_restreint[depis_acces_restreint['dep']==f'{dep_code}']\n",
    "    depis_department_acces_restreint[f'{dep_code}'] = depis_department_acces_restreint[f'{dep_code}'].reset_index()"
   ]
  },
  {
   "cell_type": "code",
   "execution_count": null,
   "metadata": {},
   "outputs": [],
   "source": [
    "tooltip_public = {}\n",
    "\n",
    "for dep_code in dep_fr['maille_code'].tolist() :\n",
    "    tooltip_public[f'dep_code'] = \n"
   ]
  },
  {
   "cell_type": "code",
   "execution_count": 169,
   "metadata": {},
   "outputs": [
    {
     "output_type": "error",
     "ename": "KeyError",
     "evalue": "0",
     "traceback": [
      "\u001b[0;31m---------------------------------------------------------------------------\u001b[0m",
      "\u001b[0;31mValueError\u001b[0m                                Traceback (most recent call last)",
      "\u001b[0;32m~/opt/anaconda3/envs/stef_env/lib/python3.8/site-packages/pandas/core/indexes/range.py\u001b[0m in \u001b[0;36mget_loc\u001b[0;34m(self, key, method, tolerance)\u001b[0m\n\u001b[1;32m    350\u001b[0m                 \u001b[0;32mtry\u001b[0m\u001b[0;34m:\u001b[0m\u001b[0;34m\u001b[0m\u001b[0;34m\u001b[0m\u001b[0m\n\u001b[0;32m--> 351\u001b[0;31m                     \u001b[0;32mreturn\u001b[0m \u001b[0mself\u001b[0m\u001b[0;34m.\u001b[0m\u001b[0m_range\u001b[0m\u001b[0;34m.\u001b[0m\u001b[0mindex\u001b[0m\u001b[0;34m(\u001b[0m\u001b[0mnew_key\u001b[0m\u001b[0;34m)\u001b[0m\u001b[0;34m\u001b[0m\u001b[0;34m\u001b[0m\u001b[0m\n\u001b[0m\u001b[1;32m    352\u001b[0m                 \u001b[0;32mexcept\u001b[0m \u001b[0mValueError\u001b[0m \u001b[0;32mas\u001b[0m \u001b[0merr\u001b[0m\u001b[0;34m:\u001b[0m\u001b[0;34m\u001b[0m\u001b[0;34m\u001b[0m\u001b[0m\n",
      "\u001b[0;31mValueError\u001b[0m: 0 is not in range",
      "\nThe above exception was the direct cause of the following exception:\n",
      "\u001b[0;31mKeyError\u001b[0m                                  Traceback (most recent call last)",
      "\u001b[0;32m<ipython-input-169-03e2b7e4baa3>\u001b[0m in \u001b[0;36m<module>\u001b[0;34m\u001b[0m\n\u001b[1;32m      5\u001b[0m \u001b[0;34m\u001b[0m\u001b[0m\n\u001b[1;32m      6\u001b[0m         folium.Marker(\n\u001b[0;32m----> 7\u001b[0;31m         location=[depis_department_acces_restreint[f'{dep_code}'].loc[i,'latitude'], depis_department_acces_restreint[f'{dep_code}'].loc[i,'longitude']]).add_to(all_map_dep[f'{dep_code}'])\n\u001b[0m\u001b[1;32m      8\u001b[0m \u001b[0;34m\u001b[0m\u001b[0m\n\u001b[1;32m      9\u001b[0m \u001b[0;34m\u001b[0m\u001b[0m\n",
      "\u001b[0;32m~/opt/anaconda3/envs/stef_env/lib/python3.8/site-packages/pandas/core/indexing.py\u001b[0m in \u001b[0;36m__getitem__\u001b[0;34m(self, key)\u001b[0m\n\u001b[1;32m    887\u001b[0m                     \u001b[0;31m# AttributeError for IntervalTree get_value\u001b[0m\u001b[0;34m\u001b[0m\u001b[0;34m\u001b[0m\u001b[0;34m\u001b[0m\u001b[0m\n\u001b[1;32m    888\u001b[0m                     \u001b[0;32mreturn\u001b[0m \u001b[0mself\u001b[0m\u001b[0;34m.\u001b[0m\u001b[0mobj\u001b[0m\u001b[0;34m.\u001b[0m\u001b[0m_get_value\u001b[0m\u001b[0;34m(\u001b[0m\u001b[0;34m*\u001b[0m\u001b[0mkey\u001b[0m\u001b[0;34m,\u001b[0m \u001b[0mtakeable\u001b[0m\u001b[0;34m=\u001b[0m\u001b[0mself\u001b[0m\u001b[0;34m.\u001b[0m\u001b[0m_takeable\u001b[0m\u001b[0;34m)\u001b[0m\u001b[0;34m\u001b[0m\u001b[0;34m\u001b[0m\u001b[0m\n\u001b[0;32m--> 889\u001b[0;31m             \u001b[0;32mreturn\u001b[0m \u001b[0mself\u001b[0m\u001b[0;34m.\u001b[0m\u001b[0m_getitem_tuple\u001b[0m\u001b[0;34m(\u001b[0m\u001b[0mkey\u001b[0m\u001b[0;34m)\u001b[0m\u001b[0;34m\u001b[0m\u001b[0;34m\u001b[0m\u001b[0m\n\u001b[0m\u001b[1;32m    890\u001b[0m         \u001b[0;32melse\u001b[0m\u001b[0;34m:\u001b[0m\u001b[0;34m\u001b[0m\u001b[0;34m\u001b[0m\u001b[0m\n\u001b[1;32m    891\u001b[0m             \u001b[0;31m# we by definition only have the 0th axis\u001b[0m\u001b[0;34m\u001b[0m\u001b[0;34m\u001b[0m\u001b[0;34m\u001b[0m\u001b[0m\n",
      "\u001b[0;32m~/opt/anaconda3/envs/stef_env/lib/python3.8/site-packages/pandas/core/indexing.py\u001b[0m in \u001b[0;36m_getitem_tuple\u001b[0;34m(self, tup)\u001b[0m\n\u001b[1;32m   1058\u001b[0m     \u001b[0;32mdef\u001b[0m \u001b[0m_getitem_tuple\u001b[0m\u001b[0;34m(\u001b[0m\u001b[0mself\u001b[0m\u001b[0;34m,\u001b[0m \u001b[0mtup\u001b[0m\u001b[0;34m:\u001b[0m \u001b[0mTuple\u001b[0m\u001b[0;34m)\u001b[0m\u001b[0;34m:\u001b[0m\u001b[0;34m\u001b[0m\u001b[0;34m\u001b[0m\u001b[0m\n\u001b[1;32m   1059\u001b[0m         \u001b[0;32mwith\u001b[0m \u001b[0msuppress\u001b[0m\u001b[0;34m(\u001b[0m\u001b[0mIndexingError\u001b[0m\u001b[0;34m)\u001b[0m\u001b[0;34m:\u001b[0m\u001b[0;34m\u001b[0m\u001b[0;34m\u001b[0m\u001b[0m\n\u001b[0;32m-> 1060\u001b[0;31m             \u001b[0;32mreturn\u001b[0m \u001b[0mself\u001b[0m\u001b[0;34m.\u001b[0m\u001b[0m_getitem_lowerdim\u001b[0m\u001b[0;34m(\u001b[0m\u001b[0mtup\u001b[0m\u001b[0;34m)\u001b[0m\u001b[0;34m\u001b[0m\u001b[0;34m\u001b[0m\u001b[0m\n\u001b[0m\u001b[1;32m   1061\u001b[0m \u001b[0;34m\u001b[0m\u001b[0m\n\u001b[1;32m   1062\u001b[0m         \u001b[0;31m# no multi-index, so validate all of the indexers\u001b[0m\u001b[0;34m\u001b[0m\u001b[0;34m\u001b[0m\u001b[0;34m\u001b[0m\u001b[0m\n",
      "\u001b[0;32m~/opt/anaconda3/envs/stef_env/lib/python3.8/site-packages/pandas/core/indexing.py\u001b[0m in \u001b[0;36m_getitem_lowerdim\u001b[0;34m(self, tup)\u001b[0m\n\u001b[1;32m    805\u001b[0m                 \u001b[0;31m# We don't need to check for tuples here because those are\u001b[0m\u001b[0;34m\u001b[0m\u001b[0;34m\u001b[0m\u001b[0;34m\u001b[0m\u001b[0m\n\u001b[1;32m    806\u001b[0m                 \u001b[0;31m#  caught by the _is_nested_tuple_indexer check above.\u001b[0m\u001b[0;34m\u001b[0m\u001b[0;34m\u001b[0m\u001b[0;34m\u001b[0m\u001b[0m\n\u001b[0;32m--> 807\u001b[0;31m                 \u001b[0msection\u001b[0m \u001b[0;34m=\u001b[0m \u001b[0mself\u001b[0m\u001b[0;34m.\u001b[0m\u001b[0m_getitem_axis\u001b[0m\u001b[0;34m(\u001b[0m\u001b[0mkey\u001b[0m\u001b[0;34m,\u001b[0m \u001b[0maxis\u001b[0m\u001b[0;34m=\u001b[0m\u001b[0mi\u001b[0m\u001b[0;34m)\u001b[0m\u001b[0;34m\u001b[0m\u001b[0;34m\u001b[0m\u001b[0m\n\u001b[0m\u001b[1;32m    808\u001b[0m \u001b[0;34m\u001b[0m\u001b[0m\n\u001b[1;32m    809\u001b[0m                 \u001b[0;31m# We should never have a scalar section here, because\u001b[0m\u001b[0;34m\u001b[0m\u001b[0;34m\u001b[0m\u001b[0;34m\u001b[0m\u001b[0m\n",
      "\u001b[0;32m~/opt/anaconda3/envs/stef_env/lib/python3.8/site-packages/pandas/core/indexing.py\u001b[0m in \u001b[0;36m_getitem_axis\u001b[0;34m(self, key, axis)\u001b[0m\n\u001b[1;32m   1122\u001b[0m         \u001b[0;31m# fall thru to straight lookup\u001b[0m\u001b[0;34m\u001b[0m\u001b[0;34m\u001b[0m\u001b[0;34m\u001b[0m\u001b[0m\n\u001b[1;32m   1123\u001b[0m         \u001b[0mself\u001b[0m\u001b[0;34m.\u001b[0m\u001b[0m_validate_key\u001b[0m\u001b[0;34m(\u001b[0m\u001b[0mkey\u001b[0m\u001b[0;34m,\u001b[0m \u001b[0maxis\u001b[0m\u001b[0;34m)\u001b[0m\u001b[0;34m\u001b[0m\u001b[0;34m\u001b[0m\u001b[0m\n\u001b[0;32m-> 1124\u001b[0;31m         \u001b[0;32mreturn\u001b[0m \u001b[0mself\u001b[0m\u001b[0;34m.\u001b[0m\u001b[0m_get_label\u001b[0m\u001b[0;34m(\u001b[0m\u001b[0mkey\u001b[0m\u001b[0;34m,\u001b[0m \u001b[0maxis\u001b[0m\u001b[0;34m=\u001b[0m\u001b[0maxis\u001b[0m\u001b[0;34m)\u001b[0m\u001b[0;34m\u001b[0m\u001b[0;34m\u001b[0m\u001b[0m\n\u001b[0m\u001b[1;32m   1125\u001b[0m \u001b[0;34m\u001b[0m\u001b[0m\n\u001b[1;32m   1126\u001b[0m     \u001b[0;32mdef\u001b[0m \u001b[0m_get_slice_axis\u001b[0m\u001b[0;34m(\u001b[0m\u001b[0mself\u001b[0m\u001b[0;34m,\u001b[0m \u001b[0mslice_obj\u001b[0m\u001b[0;34m:\u001b[0m \u001b[0mslice\u001b[0m\u001b[0;34m,\u001b[0m \u001b[0maxis\u001b[0m\u001b[0;34m:\u001b[0m \u001b[0mint\u001b[0m\u001b[0;34m)\u001b[0m\u001b[0;34m:\u001b[0m\u001b[0;34m\u001b[0m\u001b[0;34m\u001b[0m\u001b[0m\n",
      "\u001b[0;32m~/opt/anaconda3/envs/stef_env/lib/python3.8/site-packages/pandas/core/indexing.py\u001b[0m in \u001b[0;36m_get_label\u001b[0;34m(self, label, axis)\u001b[0m\n\u001b[1;32m   1071\u001b[0m     \u001b[0;32mdef\u001b[0m \u001b[0m_get_label\u001b[0m\u001b[0;34m(\u001b[0m\u001b[0mself\u001b[0m\u001b[0;34m,\u001b[0m \u001b[0mlabel\u001b[0m\u001b[0;34m,\u001b[0m \u001b[0maxis\u001b[0m\u001b[0;34m:\u001b[0m \u001b[0mint\u001b[0m\u001b[0;34m)\u001b[0m\u001b[0;34m:\u001b[0m\u001b[0;34m\u001b[0m\u001b[0;34m\u001b[0m\u001b[0m\n\u001b[1;32m   1072\u001b[0m         \u001b[0;31m# GH#5667 this will fail if the label is not present in the axis.\u001b[0m\u001b[0;34m\u001b[0m\u001b[0;34m\u001b[0m\u001b[0;34m\u001b[0m\u001b[0m\n\u001b[0;32m-> 1073\u001b[0;31m         \u001b[0;32mreturn\u001b[0m \u001b[0mself\u001b[0m\u001b[0;34m.\u001b[0m\u001b[0mobj\u001b[0m\u001b[0;34m.\u001b[0m\u001b[0mxs\u001b[0m\u001b[0;34m(\u001b[0m\u001b[0mlabel\u001b[0m\u001b[0;34m,\u001b[0m \u001b[0maxis\u001b[0m\u001b[0;34m=\u001b[0m\u001b[0maxis\u001b[0m\u001b[0;34m)\u001b[0m\u001b[0;34m\u001b[0m\u001b[0;34m\u001b[0m\u001b[0m\n\u001b[0m\u001b[1;32m   1074\u001b[0m \u001b[0;34m\u001b[0m\u001b[0m\n\u001b[1;32m   1075\u001b[0m     \u001b[0;32mdef\u001b[0m \u001b[0m_handle_lowerdim_multi_index_axis0\u001b[0m\u001b[0;34m(\u001b[0m\u001b[0mself\u001b[0m\u001b[0;34m,\u001b[0m \u001b[0mtup\u001b[0m\u001b[0;34m:\u001b[0m \u001b[0mTuple\u001b[0m\u001b[0;34m)\u001b[0m\u001b[0;34m:\u001b[0m\u001b[0;34m\u001b[0m\u001b[0;34m\u001b[0m\u001b[0m\n",
      "\u001b[0;32m~/opt/anaconda3/envs/stef_env/lib/python3.8/site-packages/pandas/core/generic.py\u001b[0m in \u001b[0;36mxs\u001b[0;34m(self, key, axis, level, drop_level)\u001b[0m\n\u001b[1;32m   3737\u001b[0m                 \u001b[0;32mraise\u001b[0m \u001b[0mTypeError\u001b[0m\u001b[0;34m(\u001b[0m\u001b[0;34mf\"Expected label or tuple of labels, got {key}\"\u001b[0m\u001b[0;34m)\u001b[0m \u001b[0;32mfrom\u001b[0m \u001b[0me\u001b[0m\u001b[0;34m\u001b[0m\u001b[0;34m\u001b[0m\u001b[0m\n\u001b[1;32m   3738\u001b[0m         \u001b[0;32melse\u001b[0m\u001b[0;34m:\u001b[0m\u001b[0;34m\u001b[0m\u001b[0;34m\u001b[0m\u001b[0m\n\u001b[0;32m-> 3739\u001b[0;31m             \u001b[0mloc\u001b[0m \u001b[0;34m=\u001b[0m \u001b[0mindex\u001b[0m\u001b[0;34m.\u001b[0m\u001b[0mget_loc\u001b[0m\u001b[0;34m(\u001b[0m\u001b[0mkey\u001b[0m\u001b[0;34m)\u001b[0m\u001b[0;34m\u001b[0m\u001b[0;34m\u001b[0m\u001b[0m\n\u001b[0m\u001b[1;32m   3740\u001b[0m \u001b[0;34m\u001b[0m\u001b[0m\n\u001b[1;32m   3741\u001b[0m             \u001b[0;32mif\u001b[0m \u001b[0misinstance\u001b[0m\u001b[0;34m(\u001b[0m\u001b[0mloc\u001b[0m\u001b[0;34m,\u001b[0m \u001b[0mnp\u001b[0m\u001b[0;34m.\u001b[0m\u001b[0mndarray\u001b[0m\u001b[0;34m)\u001b[0m\u001b[0;34m:\u001b[0m\u001b[0;34m\u001b[0m\u001b[0;34m\u001b[0m\u001b[0m\n",
      "\u001b[0;32m~/opt/anaconda3/envs/stef_env/lib/python3.8/site-packages/pandas/core/indexes/range.py\u001b[0m in \u001b[0;36mget_loc\u001b[0;34m(self, key, method, tolerance)\u001b[0m\n\u001b[1;32m    351\u001b[0m                     \u001b[0;32mreturn\u001b[0m \u001b[0mself\u001b[0m\u001b[0;34m.\u001b[0m\u001b[0m_range\u001b[0m\u001b[0;34m.\u001b[0m\u001b[0mindex\u001b[0m\u001b[0;34m(\u001b[0m\u001b[0mnew_key\u001b[0m\u001b[0;34m)\u001b[0m\u001b[0;34m\u001b[0m\u001b[0;34m\u001b[0m\u001b[0m\n\u001b[1;32m    352\u001b[0m                 \u001b[0;32mexcept\u001b[0m \u001b[0mValueError\u001b[0m \u001b[0;32mas\u001b[0m \u001b[0merr\u001b[0m\u001b[0;34m:\u001b[0m\u001b[0;34m\u001b[0m\u001b[0;34m\u001b[0m\u001b[0m\n\u001b[0;32m--> 353\u001b[0;31m                     \u001b[0;32mraise\u001b[0m \u001b[0mKeyError\u001b[0m\u001b[0;34m(\u001b[0m\u001b[0mkey\u001b[0m\u001b[0;34m)\u001b[0m \u001b[0;32mfrom\u001b[0m \u001b[0merr\u001b[0m\u001b[0;34m\u001b[0m\u001b[0;34m\u001b[0m\u001b[0m\n\u001b[0m\u001b[1;32m    354\u001b[0m             \u001b[0;32mraise\u001b[0m \u001b[0mKeyError\u001b[0m\u001b[0;34m(\u001b[0m\u001b[0mkey\u001b[0m\u001b[0;34m)\u001b[0m\u001b[0;34m\u001b[0m\u001b[0;34m\u001b[0m\u001b[0m\n\u001b[1;32m    355\u001b[0m         \u001b[0;32mreturn\u001b[0m \u001b[0msuper\u001b[0m\u001b[0;34m(\u001b[0m\u001b[0;34m)\u001b[0m\u001b[0;34m.\u001b[0m\u001b[0mget_loc\u001b[0m\u001b[0;34m(\u001b[0m\u001b[0mkey\u001b[0m\u001b[0;34m,\u001b[0m \u001b[0mmethod\u001b[0m\u001b[0;34m=\u001b[0m\u001b[0mmethod\u001b[0m\u001b[0;34m,\u001b[0m \u001b[0mtolerance\u001b[0m\u001b[0;34m=\u001b[0m\u001b[0mtolerance\u001b[0m\u001b[0;34m)\u001b[0m\u001b[0;34m\u001b[0m\u001b[0;34m\u001b[0m\u001b[0m\n",
      "\u001b[0;31mKeyError\u001b[0m: 0"
     ]
    }
   ],
   "source": [
    "for dep_code in dep_fr['maille_code'].tolist() :\n",
    "    for i in range(len(depis_department_grand_public[f'{dep_code}'])) :\n",
    "        folium.Marker(\n",
    "        location=[depis_department_grand_public[f'{dep_code}'].loc[i,'latitude'], depis_department_grand_public[f'{dep_code}'].loc[i,'longitude']]).add_to(all_map_dep[f'{dep_code}'])\n",
    "\n",
    "        folium.Marker(\n",
    "        location=[depis_department_acces_restreint[f'{dep_code}'].loc[i,'latitude'], depis_department_acces_restreint[f'{dep_code}'].loc[i,'longitude']]).add_to(all_map_dep[f'{dep_code}'])\n",
    "\n",
    "\n",
    "\n"
   ]
  },
  {
   "cell_type": "code",
   "execution_count": null,
   "metadata": {},
   "outputs": [],
   "source": []
  }
 ]
}