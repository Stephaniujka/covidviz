{
 "metadata": {
  "language_info": {
   "codemirror_mode": {
    "name": "ipython",
    "version": 3
   },
   "file_extension": ".py",
   "mimetype": "text/x-python",
   "name": "python",
   "nbconvert_exporter": "python",
   "pygments_lexer": "ipython3",
   "version": "3.8.8"
  },
  "orig_nbformat": 2,
  "kernelspec": {
   "name": "python388jvsc74a57bd052468f69775ded3fc3aea402022332168a38761628198401c7f0c99bd5c14292",
   "display_name": "Python 3.8.8 64-bit ('covid_env': conda)"
  }
 },
 "nbformat": 4,
 "nbformat_minor": 2,
 "cells": [
  {
   "cell_type": "code",
   "execution_count": 1,
   "metadata": {},
   "outputs": [
    {
     "output_type": "stream",
     "name": "stdout",
     "text": [
      "Replace is False and data exists, so doing nothing. Use replace=True to re-download the data.\n",
      "Replace is False and data exists, so doing nothing. Use replace=True to re-download the data.\n"
     ]
    }
   ],
   "source": [
    "\n",
    "import os, sys\n",
    "sys.path.append(os.path.dirname(os.path.abspath(\"covidviz\")) + (os.path.sep + '..'))\n",
    "import covidviz as cvz\n",
    "import pandas as pd\n",
    "import geopandas as gpd\n"
   ]
  },
  {
   "cell_type": "code",
   "execution_count": 2,
   "metadata": {},
   "outputs": [
    {
     "output_type": "stream",
     "name": "stdout",
     "text": [
      "Replace is False and data exists, so doing nothing. Use replace=True to re-download the data.\n"
     ]
    }
   ],
   "source": [
    "url_dep = 'https://france-geojson.gregoiredavid.fr/repo/departements.geojson'\n",
    "url_reg = 'https://france-geojson.gregoiredavid.fr/repo/regions.geojson'\n",
    "departments = gpd.read_file(url_dep)\n",
    "regions = gpd.read_file(url_reg)\n",
    "\n",
    "\n",
    "# import covid data \n",
    "df_covid_raw = cvz.Load_db().save_as_df()\n",
    "\n",
    "# columns we want to keep \n",
    "columns = ['date', 'granularite', 'maille_code', 'maille_nom','cas_confirmes', 'hospitalises','deces']\n",
    "df_covid_cleaned = cvz.choose_columns(df_covid_raw, columns)\n",
    "\n",
    "# keep only departements\n",
    "df_covid_cleaned_dep = cvz.choose_granularity(df_covid_cleaned,\"departement\")\n",
    "\n",
    "# format departements\n",
    "df_covid = cvz.format_granularity(df_covid_cleaned_dep, \"departement\")\n",
    "\n",
    "\n",
    "# keep only regions\n",
    "df_covid_cleaned_reg = cvz.choose_granularity(df_covid_cleaned,\"region\")\n",
    "\n",
    "# format regions\n",
    "df_covid_reg = cvz.format_granularity(df_covid_cleaned_reg, \"region\")"
   ]
  },
  {
   "cell_type": "code",
   "execution_count": 3,
   "metadata": {},
   "outputs": [
    {
     "output_type": "display_data",
     "data": {
      "text/plain": "HBox(children=(IntSlider(value=0, max=434), Play(value=0, description='Press play', interval=50, max=434)))",
      "application/vnd.jupyter.widget-view+json": {
       "version_major": 2,
       "version_minor": 0,
       "model_id": "df0eb731836a40c5b273fb8349ab34ba"
      }
     },
     "metadata": {}
    },
    {
     "output_type": "display_data",
     "data": {
      "text/plain": "Output()",
      "application/vnd.jupyter.widget-view+json": {
       "version_major": 2,
       "version_minor": 0,
       "model_id": "e536835e85d4432fb515e64b4ec29eaa"
      }
     },
     "metadata": {}
    },
    {
     "output_type": "display_data",
     "data": {
      "text/plain": "DeckGLWidget(carto_key=None, custom_libraries=[], google_maps_key=None, json_input='{\"initialViewState\": {\"bea…",
      "application/vnd.jupyter.widget-view+json": {
       "version_major": 2,
       "version_minor": 0,
       "model_id": "62bf8cadb8ac4591aa3b26cfefa80384"
      }
     },
     "metadata": {}
    }
   ],
   "source": [
    "# Plot map with covid deads by department\n",
    "map = cvz.Map_covid(df_covid, departments, \"deces\")\n",
    "map.plot_all()\n"
   ]
  },
  {
   "cell_type": "code",
   "execution_count": 4,
   "metadata": {},
   "outputs": [
    {
     "output_type": "display_data",
     "data": {
      "text/plain": "HBox(children=(IntSlider(value=0, max=434), Play(value=0, description='Press play', interval=50, max=434)))",
      "application/vnd.jupyter.widget-view+json": {
       "version_major": 2,
       "version_minor": 0,
       "model_id": "58b3bddc45be41f89c2e5c2b157d488b"
      }
     },
     "metadata": {}
    },
    {
     "output_type": "display_data",
     "data": {
      "text/plain": "Output()",
      "application/vnd.jupyter.widget-view+json": {
       "version_major": 2,
       "version_minor": 0,
       "model_id": "9d47e11912ae4cbd9373451ad03f9156"
      }
     },
     "metadata": {}
    },
    {
     "output_type": "display_data",
     "data": {
      "text/plain": "DeckGLWidget(carto_key=None, custom_libraries=[], google_maps_key=None, json_input='{\"initialViewState\": {\"bea…",
      "application/vnd.jupyter.widget-view+json": {
       "version_major": 2,
       "version_minor": 0,
       "model_id": "586fb3e3669044c7884c71100979bbfa"
      }
     },
     "metadata": {}
    }
   ],
   "source": [
    "# Plot map with covid hospitalized by department\n",
    "map = cvz.Map_covid(df_covid, departments, \"hospitalises\")\n",
    "map.plot_all()"
   ]
  },
  {
   "cell_type": "code",
   "execution_count": 5,
   "metadata": {},
   "outputs": [
    {
     "output_type": "display_data",
     "data": {
      "text/plain": "HBox(children=(IntSlider(value=0, max=433), Play(value=0, description='Press play', interval=50, max=433)))",
      "application/vnd.jupyter.widget-view+json": {
       "version_major": 2,
       "version_minor": 0,
       "model_id": "d8511fb802314ceea35165ac29a3f2a7"
      }
     },
     "metadata": {}
    },
    {
     "output_type": "display_data",
     "data": {
      "text/plain": "Output()",
      "application/vnd.jupyter.widget-view+json": {
       "version_major": 2,
       "version_minor": 0,
       "model_id": "ee1d8e9ce9914abaa259b3a0134a924b"
      }
     },
     "metadata": {}
    },
    {
     "output_type": "display_data",
     "data": {
      "text/plain": "DeckGLWidget(carto_key=None, custom_libraries=[], google_maps_key=None, json_input='{\"initialViewState\": {\"bea…",
      "application/vnd.jupyter.widget-view+json": {
       "version_major": 2,
       "version_minor": 0,
       "model_id": "45a714c44abf4265af80d4c5791cd2d1"
      }
     },
     "metadata": {}
    }
   ],
   "source": [
    "# Plot map with covid death by region\n",
    "map = cvz.Map_covid(df_covid_reg, regions, \"deces\")\n",
    "map.plot_all()\n"
   ]
  },
  {
   "cell_type": "code",
   "execution_count": null,
   "metadata": {},
   "outputs": [],
   "source": [
    "# Plot map with covid hospitalized by region\n",
    "map = cvz.Map_covid(df_covid_reg, regions, \"hospitalises\")\n",
    "map.plot_all()"
   ]
  }
 ]
}