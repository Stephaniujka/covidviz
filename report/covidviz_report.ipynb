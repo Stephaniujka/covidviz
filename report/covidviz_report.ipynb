{
 "metadata": {
  "language_info": {
   "codemirror_mode": {
    "name": "ipython",
    "version": 3
   },
   "file_extension": ".py",
   "mimetype": "text/x-python",
   "name": "python",
   "nbconvert_exporter": "python",
   "pygments_lexer": "ipython3",
   "version": "3.8.8"
  },
  "orig_nbformat": 2,
  "kernelspec": {
   "name": "python388jvsc74a57bd0f2553dd8eab56fa176af5ba2b5dc4cf53e056913a0b7c75b8a54aa30280dccb2",
   "display_name": "Python 3.8.8 64-bit"
  }
 },
 "nbformat": 4,
 "nbformat_minor": 2,
 "cells": [
  {
   "cell_type": "code",
   "execution_count": 1,
   "metadata": {},
   "outputs": [],
   "source": [
    "\n",
    "import os, sys\n",
    "sys.path.append(os.path.dirname(os.path.abspath(\"covidviz\")) + (os.path.sep + '..'))\n",
    "import covidviz as cvz\n",
    "import pandas as pd\n",
    "import geopandas as gpd\n",
    "import plotly.express as px\n",
    "import numpy as np\n",
    "import folium\n"
   ]
  },
  {
   "cell_type": "code",
   "execution_count": 11,
   "metadata": {},
   "outputs": [
    {
     "output_type": "stream",
     "name": "stdout",
     "text": [
      "Replace is False and data exists, so doing nothing. Use replace=True to re-download the data.\n"
     ]
    },
    {
     "output_type": "execute_result",
     "data": {
      "text/plain": [
       "                   date granularite maille_code                  maille_nom  \\\n",
       "0      2020-01-01 00:00        pays         FRA                      France   \n",
       "1      2020-01-07 00:00        pays         FRA                      France   \n",
       "2      2020-01-08 00:00        pays         FRA                      France   \n",
       "3      2020-01-16 00:00        pays         FRA                      France   \n",
       "4      2020-01-17 00:00        pays         FRA                      France   \n",
       "...                 ...         ...         ...                         ...   \n",
       "50889  2021-04-16 00:00      region      REG-75          Nouvelle-Aquitaine   \n",
       "50890  2021-04-16 00:00      region      REG-76                   Occitanie   \n",
       "50891  2021-04-16 00:00      region      REG-84        Auvergne-Rhône-Alpes   \n",
       "50892  2021-04-16 00:00      region      REG-93  Provence-Alpes-Côte d'Azur   \n",
       "50893  2021-04-16 00:00      region      REG-94                       Corse   \n",
       "\n",
       "       cas_confirmes  cas_ehpad  cas_confirmes_ehpad  cas_possibles_ehpad  \\\n",
       "0                NaN        NaN                  NaN                  NaN   \n",
       "1          2727321.0        NaN             149671.0                  NaN   \n",
       "2                NaN        NaN                  NaN                  NaN   \n",
       "3          2894347.0        NaN             159791.0                  NaN   \n",
       "4          2910989.0        NaN             159791.0                  NaN   \n",
       "...              ...        ...                  ...                  ...   \n",
       "50889            NaN        NaN                  NaN                  NaN   \n",
       "50890            NaN        NaN                  NaN                  NaN   \n",
       "50891            NaN        NaN                  NaN                  NaN   \n",
       "50892            NaN        NaN                  NaN                  NaN   \n",
       "50893            NaN        NaN                  NaN                  NaN   \n",
       "\n",
       "         deces  deces_ehpad  reanimation  hospitalises  \\\n",
       "0      44985.0      19780.0          NaN       24296.0   \n",
       "1      46539.0      20302.0       2582.0       24521.0   \n",
       "2      46815.0          NaN          NaN           NaN   \n",
       "3      48783.0      21359.0       2741.0       25019.0   \n",
       "4      48924.0      21359.0       2776.0       25269.0   \n",
       "...        ...          ...          ...           ...   \n",
       "50889   3343.0          NaN        259.0        1318.0   \n",
       "50890   3920.0          NaN        405.0        1855.0   \n",
       "50891  10497.0          NaN        688.0        3772.0   \n",
       "50892   7130.0          NaN        586.0        3246.0   \n",
       "50893    180.0          NaN         15.0          93.0   \n",
       "\n",
       "       nouvelles_hospitalisations  nouvelles_reanimations    gueris  depistes  \\\n",
       "0                             NaN                     NaN  194901.0       NaN   \n",
       "1                          1438.0                   180.0  200079.0       NaN   \n",
       "2                             NaN                     NaN       NaN       NaN   \n",
       "3                          1197.0                   188.0  209056.0       NaN   \n",
       "4                           697.0                   136.0  209343.0       NaN   \n",
       "...                           ...                     ...       ...       ...   \n",
       "50889                        94.0                    21.0   14066.0       NaN   \n",
       "50890                       118.0                    33.0   17776.0       NaN   \n",
       "50891                       263.0                    55.0   44021.0       NaN   \n",
       "50892                       225.0                    56.0   34395.0       NaN   \n",
       "50893                         4.0                     0.0     809.0       NaN   \n",
       "\n",
       "                                     source_nom source_url source_archive  \\\n",
       "0      Ministère des Solidarités et de la Santé        NaN            NaN   \n",
       "1      Ministère des Solidarités et de la Santé        NaN            NaN   \n",
       "2      Ministère des Solidarités et de la Santé        NaN            NaN   \n",
       "3      Ministère des Solidarités et de la Santé        NaN            NaN   \n",
       "4      Ministère des Solidarités et de la Santé        NaN            NaN   \n",
       "...                                         ...        ...            ...   \n",
       "50889                            OpenCOVID19-fr        NaN            NaN   \n",
       "50890                            OpenCOVID19-fr        NaN            NaN   \n",
       "50891                            OpenCOVID19-fr        NaN            NaN   \n",
       "50892                            OpenCOVID19-fr        NaN            NaN   \n",
       "50893                            OpenCOVID19-fr        NaN            NaN   \n",
       "\n",
       "           source_type  \n",
       "0      ministere-sante  \n",
       "1      ministere-sante  \n",
       "2      ministere-sante  \n",
       "3      ministere-sante  \n",
       "4      ministere-sante  \n",
       "...                ...  \n",
       "50889   opencovid19-fr  \n",
       "50890   opencovid19-fr  \n",
       "50891   opencovid19-fr  \n",
       "50892   opencovid19-fr  \n",
       "50893   opencovid19-fr  \n",
       "\n",
       "[50894 rows x 20 columns]"
      ],
      "text/html": "<div>\n<style scoped>\n    .dataframe tbody tr th:only-of-type {\n        vertical-align: middle;\n    }\n\n    .dataframe tbody tr th {\n        vertical-align: top;\n    }\n\n    .dataframe thead th {\n        text-align: right;\n    }\n</style>\n<table border=\"1\" class=\"dataframe\">\n  <thead>\n    <tr style=\"text-align: right;\">\n      <th></th>\n      <th>date</th>\n      <th>granularite</th>\n      <th>maille_code</th>\n      <th>maille_nom</th>\n      <th>cas_confirmes</th>\n      <th>cas_ehpad</th>\n      <th>cas_confirmes_ehpad</th>\n      <th>cas_possibles_ehpad</th>\n      <th>deces</th>\n      <th>deces_ehpad</th>\n      <th>reanimation</th>\n      <th>hospitalises</th>\n      <th>nouvelles_hospitalisations</th>\n      <th>nouvelles_reanimations</th>\n      <th>gueris</th>\n      <th>depistes</th>\n      <th>source_nom</th>\n      <th>source_url</th>\n      <th>source_archive</th>\n      <th>source_type</th>\n    </tr>\n  </thead>\n  <tbody>\n    <tr>\n      <th>0</th>\n      <td>2020-01-01 00:00</td>\n      <td>pays</td>\n      <td>FRA</td>\n      <td>France</td>\n      <td>NaN</td>\n      <td>NaN</td>\n      <td>NaN</td>\n      <td>NaN</td>\n      <td>44985.0</td>\n      <td>19780.0</td>\n      <td>NaN</td>\n      <td>24296.0</td>\n      <td>NaN</td>\n      <td>NaN</td>\n      <td>194901.0</td>\n      <td>NaN</td>\n      <td>Ministère des Solidarités et de la Santé</td>\n      <td>NaN</td>\n      <td>NaN</td>\n      <td>ministere-sante</td>\n    </tr>\n    <tr>\n      <th>1</th>\n      <td>2020-01-07 00:00</td>\n      <td>pays</td>\n      <td>FRA</td>\n      <td>France</td>\n      <td>2727321.0</td>\n      <td>NaN</td>\n      <td>149671.0</td>\n      <td>NaN</td>\n      <td>46539.0</td>\n      <td>20302.0</td>\n      <td>2582.0</td>\n      <td>24521.0</td>\n      <td>1438.0</td>\n      <td>180.0</td>\n      <td>200079.0</td>\n      <td>NaN</td>\n      <td>Ministère des Solidarités et de la Santé</td>\n      <td>NaN</td>\n      <td>NaN</td>\n      <td>ministere-sante</td>\n    </tr>\n    <tr>\n      <th>2</th>\n      <td>2020-01-08 00:00</td>\n      <td>pays</td>\n      <td>FRA</td>\n      <td>France</td>\n      <td>NaN</td>\n      <td>NaN</td>\n      <td>NaN</td>\n      <td>NaN</td>\n      <td>46815.0</td>\n      <td>NaN</td>\n      <td>NaN</td>\n      <td>NaN</td>\n      <td>NaN</td>\n      <td>NaN</td>\n      <td>NaN</td>\n      <td>NaN</td>\n      <td>Ministère des Solidarités et de la Santé</td>\n      <td>NaN</td>\n      <td>NaN</td>\n      <td>ministere-sante</td>\n    </tr>\n    <tr>\n      <th>3</th>\n      <td>2020-01-16 00:00</td>\n      <td>pays</td>\n      <td>FRA</td>\n      <td>France</td>\n      <td>2894347.0</td>\n      <td>NaN</td>\n      <td>159791.0</td>\n      <td>NaN</td>\n      <td>48783.0</td>\n      <td>21359.0</td>\n      <td>2741.0</td>\n      <td>25019.0</td>\n      <td>1197.0</td>\n      <td>188.0</td>\n      <td>209056.0</td>\n      <td>NaN</td>\n      <td>Ministère des Solidarités et de la Santé</td>\n      <td>NaN</td>\n      <td>NaN</td>\n      <td>ministere-sante</td>\n    </tr>\n    <tr>\n      <th>4</th>\n      <td>2020-01-17 00:00</td>\n      <td>pays</td>\n      <td>FRA</td>\n      <td>France</td>\n      <td>2910989.0</td>\n      <td>NaN</td>\n      <td>159791.0</td>\n      <td>NaN</td>\n      <td>48924.0</td>\n      <td>21359.0</td>\n      <td>2776.0</td>\n      <td>25269.0</td>\n      <td>697.0</td>\n      <td>136.0</td>\n      <td>209343.0</td>\n      <td>NaN</td>\n      <td>Ministère des Solidarités et de la Santé</td>\n      <td>NaN</td>\n      <td>NaN</td>\n      <td>ministere-sante</td>\n    </tr>\n    <tr>\n      <th>...</th>\n      <td>...</td>\n      <td>...</td>\n      <td>...</td>\n      <td>...</td>\n      <td>...</td>\n      <td>...</td>\n      <td>...</td>\n      <td>...</td>\n      <td>...</td>\n      <td>...</td>\n      <td>...</td>\n      <td>...</td>\n      <td>...</td>\n      <td>...</td>\n      <td>...</td>\n      <td>...</td>\n      <td>...</td>\n      <td>...</td>\n      <td>...</td>\n      <td>...</td>\n    </tr>\n    <tr>\n      <th>50889</th>\n      <td>2021-04-16 00:00</td>\n      <td>region</td>\n      <td>REG-75</td>\n      <td>Nouvelle-Aquitaine</td>\n      <td>NaN</td>\n      <td>NaN</td>\n      <td>NaN</td>\n      <td>NaN</td>\n      <td>3343.0</td>\n      <td>NaN</td>\n      <td>259.0</td>\n      <td>1318.0</td>\n      <td>94.0</td>\n      <td>21.0</td>\n      <td>14066.0</td>\n      <td>NaN</td>\n      <td>OpenCOVID19-fr</td>\n      <td>NaN</td>\n      <td>NaN</td>\n      <td>opencovid19-fr</td>\n    </tr>\n    <tr>\n      <th>50890</th>\n      <td>2021-04-16 00:00</td>\n      <td>region</td>\n      <td>REG-76</td>\n      <td>Occitanie</td>\n      <td>NaN</td>\n      <td>NaN</td>\n      <td>NaN</td>\n      <td>NaN</td>\n      <td>3920.0</td>\n      <td>NaN</td>\n      <td>405.0</td>\n      <td>1855.0</td>\n      <td>118.0</td>\n      <td>33.0</td>\n      <td>17776.0</td>\n      <td>NaN</td>\n      <td>OpenCOVID19-fr</td>\n      <td>NaN</td>\n      <td>NaN</td>\n      <td>opencovid19-fr</td>\n    </tr>\n    <tr>\n      <th>50891</th>\n      <td>2021-04-16 00:00</td>\n      <td>region</td>\n      <td>REG-84</td>\n      <td>Auvergne-Rhône-Alpes</td>\n      <td>NaN</td>\n      <td>NaN</td>\n      <td>NaN</td>\n      <td>NaN</td>\n      <td>10497.0</td>\n      <td>NaN</td>\n      <td>688.0</td>\n      <td>3772.0</td>\n      <td>263.0</td>\n      <td>55.0</td>\n      <td>44021.0</td>\n      <td>NaN</td>\n      <td>OpenCOVID19-fr</td>\n      <td>NaN</td>\n      <td>NaN</td>\n      <td>opencovid19-fr</td>\n    </tr>\n    <tr>\n      <th>50892</th>\n      <td>2021-04-16 00:00</td>\n      <td>region</td>\n      <td>REG-93</td>\n      <td>Provence-Alpes-Côte d'Azur</td>\n      <td>NaN</td>\n      <td>NaN</td>\n      <td>NaN</td>\n      <td>NaN</td>\n      <td>7130.0</td>\n      <td>NaN</td>\n      <td>586.0</td>\n      <td>3246.0</td>\n      <td>225.0</td>\n      <td>56.0</td>\n      <td>34395.0</td>\n      <td>NaN</td>\n      <td>OpenCOVID19-fr</td>\n      <td>NaN</td>\n      <td>NaN</td>\n      <td>opencovid19-fr</td>\n    </tr>\n    <tr>\n      <th>50893</th>\n      <td>2021-04-16 00:00</td>\n      <td>region</td>\n      <td>REG-94</td>\n      <td>Corse</td>\n      <td>NaN</td>\n      <td>NaN</td>\n      <td>NaN</td>\n      <td>NaN</td>\n      <td>180.0</td>\n      <td>NaN</td>\n      <td>15.0</td>\n      <td>93.0</td>\n      <td>4.0</td>\n      <td>0.0</td>\n      <td>809.0</td>\n      <td>NaN</td>\n      <td>OpenCOVID19-fr</td>\n      <td>NaN</td>\n      <td>NaN</td>\n      <td>opencovid19-fr</td>\n    </tr>\n  </tbody>\n</table>\n<p>50894 rows × 20 columns</p>\n</div>"
     },
     "metadata": {},
     "execution_count": 11
    }
   ],
   "source": [
    "url_dep = 'https://france-geojson.gregoiredavid.fr/repo/departements.geojson'\n",
    "url_reg = 'https://france-geojson.gregoiredavid.fr/repo/regions.geojson'\n",
    "departments = gpd.read_file(url_dep)\n",
    "regions = gpd.read_file(url_reg)\n",
    "\n",
    "\n",
    "# import covid data \n",
    "df_covid_raw = cvz.Load_db().save_as_df()\n",
    "df_covid_raw[\"date\"] = df_covid_raw.date.astype(str) + ' 00:00'\n"
   ]
  },
  {
   "cell_type": "code",
   "execution_count": 14,
   "metadata": {},
   "outputs": [],
   "source": [
    "# columns we want to keep \n",
    "columns = ['date', 'granularite', 'maille_code', 'maille_nom','cas_confirmes', 'hospitalises','deces']\n",
    "df_covid_cleaned = cvz.choose_columns(df_covid_raw, columns)\n",
    "\n",
    "# keep only departements\n",
    "df_covid_cleaned_dep = cvz.choose_granularity(df_covid_cleaned,\"departement\")\n",
    "\n",
    "# format departements\n",
    "df_covid = cvz.format_granularity(df_covid_cleaned_dep, \"departement\")\n",
    "\n",
    "\n",
    "# keep only regions\n",
    "df_covid_cleaned_reg = cvz.choose_granularity(df_covid_cleaned,\"region\")\n",
    "\n",
    "# format regions\n",
    "df_covid_reg = cvz.format_granularity(df_covid_cleaned_reg, \"region\")"
   ]
  },
  {
   "cell_type": "code",
   "execution_count": 15,
   "metadata": {},
   "outputs": [
    {
     "output_type": "display_data",
     "data": {
      "text/plain": "HBox(children=(IntSlider(value=0, max=434), Play(value=0, description='Press play', interval=50, max=434)))",
      "application/vnd.jupyter.widget-view+json": {
       "version_major": 2,
       "version_minor": 0,
       "model_id": "9b51a63ab9cc4a61991ebced42095af5"
      }
     },
     "metadata": {}
    },
    {
     "output_type": "display_data",
     "data": {
      "text/plain": "Output()",
      "application/vnd.jupyter.widget-view+json": {
       "version_major": 2,
       "version_minor": 0,
       "model_id": "9c1a8aa4c1d246979fcf8549f169f455"
      }
     },
     "metadata": {}
    },
    {
     "output_type": "display_data",
     "data": {
      "text/plain": "DeckGLWidget(carto_key=None, custom_libraries=[], google_maps_key=None, json_input='{\"initialViewState\": {\"bea…",
      "application/vnd.jupyter.widget-view+json": {
       "version_major": 2,
       "version_minor": 0,
       "model_id": "f214a890d83942c2b8e6355aa8f10322"
      }
     },
     "metadata": {}
    }
   ],
   "source": [
    "# Plot map with covid deads by department\n",
    "map = cvz.Map_covid(df_covid, departments, \"deces\")\n",
    "map.plot_all()\n"
   ]
  },
  {
   "cell_type": "code",
   "execution_count": 17,
   "metadata": {},
   "outputs": [
    {
     "output_type": "display_data",
     "data": {
      "text/plain": "HBox(children=(IntSlider(value=0, max=434), Play(value=0, description='Press play', interval=50, max=434)))",
      "application/vnd.jupyter.widget-view+json": {
       "version_major": 2,
       "version_minor": 0,
       "model_id": "4b1b62becb7d4a9d8e4a065d0fefe1ab"
      }
     },
     "metadata": {}
    },
    {
     "output_type": "display_data",
     "data": {
      "text/plain": "Output()",
      "application/vnd.jupyter.widget-view+json": {
       "version_major": 2,
       "version_minor": 0,
       "model_id": "6b918ae2241d4113b3dab1d6852a5a4f"
      }
     },
     "metadata": {}
    },
    {
     "output_type": "display_data",
     "data": {
      "text/plain": "DeckGLWidget(carto_key=None, custom_libraries=[], google_maps_key=None, json_input='{\"initialViewState\": {\"bea…",
      "application/vnd.jupyter.widget-view+json": {
       "version_major": 2,
       "version_minor": 0,
       "model_id": "dbb96b4867f4458cb3a22c196c79abf9"
      }
     },
     "metadata": {}
    },
    {
     "output_type": "display_data",
     "data": {
      "text/plain": "HBox(children=(IntSlider(value=0, max=434), Play(value=0, description='Press play', interval=50, max=434)))",
      "application/vnd.jupyter.widget-view+json": {
       "version_major": 2,
       "version_minor": 0,
       "model_id": "05a2bc19fc9d47bbbb86a7c1492dcd20"
      }
     },
     "metadata": {}
    },
    {
     "output_type": "display_data",
     "data": {
      "text/plain": "Output()",
      "application/vnd.jupyter.widget-view+json": {
       "version_major": 2,
       "version_minor": 0,
       "model_id": "b30105c073954d559aa221f184f42e08"
      }
     },
     "metadata": {}
    },
    {
     "output_type": "display_data",
     "data": {
      "text/plain": "DeckGLWidget(carto_key=None, custom_libraries=[], google_maps_key=None, json_input='{\"initialViewState\": {\"bea…",
      "application/vnd.jupyter.widget-view+json": {
       "version_major": 2,
       "version_minor": 0,
       "model_id": "dbb96b4867f4458cb3a22c196c79abf9"
      }
     },
     "metadata": {}
    },
    {
     "output_type": "execute_result",
     "data": {
      "text/plain": [
       "NoneType"
      ]
     },
     "metadata": {},
     "execution_count": 17
    }
   ],
   "source": [
    "# Plot map with covid hospitalized by department\n",
    "map = cvz.Map_covid(df_covid, departments, \"hospitalises\")\n",
    "map.plot_all()"
   ]
  },
  {
   "cell_type": "code",
   "execution_count": 5,
   "metadata": {},
   "outputs": [
    {
     "output_type": "display_data",
     "data": {
      "text/plain": "HBox(children=(IntSlider(value=0, max=433), Play(value=0, description='Press play', interval=50, max=433)))",
      "application/vnd.jupyter.widget-view+json": {
       "version_major": 2,
       "version_minor": 0,
       "model_id": "d8511fb802314ceea35165ac29a3f2a7"
      }
     },
     "metadata": {}
    },
    {
     "output_type": "display_data",
     "data": {
      "text/plain": "Output()",
      "application/vnd.jupyter.widget-view+json": {
       "version_major": 2,
       "version_minor": 0,
       "model_id": "ee1d8e9ce9914abaa259b3a0134a924b"
      }
     },
     "metadata": {}
    },
    {
     "output_type": "display_data",
     "data": {
      "text/plain": "DeckGLWidget(carto_key=None, custom_libraries=[], google_maps_key=None, json_input='{\"initialViewState\": {\"bea…",
      "application/vnd.jupyter.widget-view+json": {
       "version_major": 2,
       "version_minor": 0,
       "model_id": "45a714c44abf4265af80d4c5791cd2d1"
      }
     },
     "metadata": {}
    }
   ],
   "source": [
    "# Plot map with covid death by region\n",
    "map = cvz.Map_covid(df_covid_reg, regions, \"deces\")\n",
    "map.plot_all()\n"
   ]
  },
  {
   "cell_type": "code",
   "execution_count": 18,
   "metadata": {},
   "outputs": [
    {
     "output_type": "display_data",
     "data": {
      "text/plain": "HBox(children=(IntSlider(value=0, max=433), Play(value=0, description='Press play', interval=50, max=433)))",
      "application/vnd.jupyter.widget-view+json": {
       "version_major": 2,
       "version_minor": 0,
       "model_id": "6450c848915e4107a84d560af9aeb606"
      }
     },
     "metadata": {}
    },
    {
     "output_type": "display_data",
     "data": {
      "text/plain": "Output()",
      "application/vnd.jupyter.widget-view+json": {
       "version_major": 2,
       "version_minor": 0,
       "model_id": "997c4ca431424426ad18025a95dca0e6"
      }
     },
     "metadata": {}
    },
    {
     "output_type": "display_data",
     "data": {
      "text/plain": "DeckGLWidget(carto_key=None, custom_libraries=[], google_maps_key=None, json_input='{\"initialViewState\": {\"bea…",
      "application/vnd.jupyter.widget-view+json": {
       "version_major": 2,
       "version_minor": 0,
       "model_id": "6b5baaa05fdc442db0fc9ca6b655f3aa"
      }
     },
     "metadata": {}
    }
   ],
   "source": [
    "# Plot map with covid hospitalized by region\n",
    "map = cvz.Map_covid(df_covid_reg, regions, \"hospitalises\")\n",
    "map.plot_all()\n"
   ]
  },
  {
   "cell_type": "code",
   "execution_count": 19,
   "metadata": {},
   "outputs": [
    {
     "output_type": "display_data",
     "data": {
      "text/plain": "<Figure size 864x864 with 1 Axes>",
      "image/svg+xml": "<?xml version=\"1.0\" encoding=\"utf-8\" standalone=\"no\"?>\r\n<!DOCTYPE svg PUBLIC \"-//W3C//DTD SVG 1.1//EN\"\r\n  \"http://www.w3.org/Graphics/SVG/1.1/DTD/svg11.dtd\">\r\n<!-- Created with matplotlib (https://matplotlib.org/) -->\r\n<svg height=\"693.995625pt\" version=\"1.1\" viewBox=\"0 0 684 693.995625\" width=\"684pt\" xmlns=\"http://www.w3.org/2000/svg\" xmlns:xlink=\"http://www.w3.org/1999/xlink\">\r\n <metadata>\r\n  <rdf:RDF xmlns:cc=\"http://creativecommons.org/ns#\" xmlns:dc=\"http://purl.org/dc/elements/1.1/\" xmlns:rdf=\"http://www.w3.org/1999/02/22-rdf-syntax-ns#\">\r\n   <cc:Work>\r\n    <dc:type rdf:resource=\"http://purl.org/dc/dcmitype/StillImage\"/>\r\n    <dc:date>2021-04-23T14:50:42.497803</dc:date>\r\n    <dc:format>image/svg+xml</dc:format>\r\n    <dc:creator>\r\n     <cc:Agent>\r\n      <dc:title>Matplotlib v3.3.4, https://matplotlib.org/</dc:title>\r\n     </cc:Agent>\r\n    </dc:creator>\r\n   </cc:Work>\r\n  </rdf:RDF>\r\n </metadata>\r\n <defs>\r\n  <style type=\"text/css\">*{stroke-linecap:butt;stroke-linejoin:round;}</style>\r\n </defs>\r\n <g id=\"figure_1\">\r\n  <g id=\"patch_1\">\r\n   <path d=\"M 0 693.995625 \r\nL 684 693.995625 \r\nL 684 0 \r\nL 0 0 \r\nz\r\n\" style=\"fill:none;\"/>\r\n  </g>\r\n  <g id=\"axes_1\">\r\n   <g id=\"patch_2\">\r\n    <path clip-path=\"url(#p9eaed15e85)\" d=\"M 339.01021 351.148491 \r\nQ 206.23625 303.9264 74.515685 257.078956 \r\n\" style=\"fill:none;stroke:#528b8b;stroke-linecap:round;\"/>\r\n    <path clip-path=\"url(#p9eaed15e85)\" d=\"M 77.614231 260.303705 \r\nL 74.515685 257.078956 \r\nL 78.954612 256.534968 \r\nL 77.614231 260.303705 \r\nz\r\n\" style=\"fill:#528b8b;stroke:#528b8b;stroke-linecap:round;\"/>\r\n   </g>\r\n   <g id=\"patch_3\">\r\n    <path clip-path=\"url(#p9eaed15e85)\" d=\"M 342.546526 346.724643 \r\nQ 279.639749 247.03152 217.329605 148.283926 \r\n\" style=\"fill:none;stroke:#528b8b;stroke-linecap:round;\"/>\r\n    <path clip-path=\"url(#p9eaed15e85)\" d=\"M 217.772771 152.734051 \r\nL 217.329605 148.283926 \r\nL 221.155604 150.599469 \r\nL 217.772771 152.734051 \r\nz\r\n\" style=\"fill:#528b8b;stroke:#528b8b;stroke-linecap:round;\"/>\r\n   </g>\r\n   <g id=\"patch_4\">\r\n    <path clip-path=\"url(#p9eaed15e85)\" d=\"M 355.388625 356.767873 \r\nQ 464.425594 392.818632 572.401045 428.518423 \r\n\" style=\"fill:none;stroke:#528b8b;stroke-linecap:round;\"/>\r\n    <path clip-path=\"url(#p9eaed15e85)\" d=\"M 569.231073 425.363859 \r\nL 572.401045 428.518423 \r\nL 567.97541 429.161662 \r\nL 569.231073 425.363859 \r\nz\r\n\" style=\"fill:#528b8b;stroke:#528b8b;stroke-linecap:round;\"/>\r\n   </g>\r\n   <g id=\"patch_5\">\r\n    <path clip-path=\"url(#p9eaed15e85)\" d=\"M 352.717443 360.695142 \r\nQ 435.127154 459.390494 516.820279 557.227647 \r\n\" style=\"fill:none;stroke:#528b8b;stroke-linecap:round;\"/>\r\n    <path clip-path=\"url(#p9eaed15e85)\" d=\"M 515.79173 552.875397 \r\nL 516.820279 557.227647 \r\nL 512.721349 555.439137 \r\nL 515.79173 552.875397 \r\nz\r\n\" style=\"fill:#528b8b;stroke:#528b8b;stroke-linecap:round;\"/>\r\n   </g>\r\n   <g id=\"patch_6\">\r\n    <path clip-path=\"url(#p9eaed15e85)\" d=\"M 347.643858 362.700644 \r\nQ 354.748255 492.120588 361.79137 620.424179 \r\n\" style=\"fill:none;stroke:#528b8b;stroke-linecap:round;\"/>\r\n    <path clip-path=\"url(#p9eaed15e85)\" d=\"M 363.569117 616.320568 \r\nL 361.79137 620.424179 \r\nL 359.57513 616.539815 \r\nL 363.569117 616.320568 \r\nz\r\n\" style=\"fill:#528b8b;stroke:#528b8b;stroke-linecap:round;\"/>\r\n   </g>\r\n   <g id=\"patch_7\">\r\n    <path clip-path=\"url(#p9eaed15e85)\" d=\"M 348.059686 345.435223 \r\nQ 360.762977 222.564671 373.351291 100.806225 \r\n\" style=\"fill:none;stroke:#528b8b;stroke-linecap:round;\"/>\r\n    <path clip-path=\"url(#p9eaed15e85)\" d=\"M 370.950537 104.579338 \r\nL 373.351291 100.806225 \r\nL 374.929329 104.990696 \r\nL 370.950537 104.579338 \r\nz\r\n\" style=\"fill:#528b8b;stroke:#528b8b;stroke-linecap:round;\"/>\r\n   </g>\r\n   <g id=\"patch_8\">\r\n    <path clip-path=\"url(#p9eaed15e85)\" d=\"M 90.643173 276.61394 \r\nQ 81.192686 268.105926 72.573115 260.345962 \r\n\" style=\"fill:none;stroke:#528b8b;stroke-linecap:round;\"/>\r\n    <path clip-path=\"url(#p9eaed15e85)\" d=\"M 74.207735 264.508655 \r\nL 72.573115 260.345962 \r\nL 76.884041 261.535882 \r\nL 74.207735 264.508655 \r\nz\r\n\" style=\"fill:#528b8b;stroke:#528b8b;stroke-linecap:round;\"/>\r\n   </g>\r\n   <g id=\"patch_9\">\r\n    <path clip-path=\"url(#p9eaed15e85)\" d=\"M 406.067968 352.989928 \r\nQ 456.440505 262.612092 506.268735 173.210847 \r\n\" style=\"fill:none;stroke:#528b8b;stroke-linecap:round;\"/>\r\n    <path clip-path=\"url(#p9eaed15e85)\" d=\"M 502.574382 175.731116 \r\nL 506.268735 173.210847 \r\nL 506.068339 177.67849 \r\nL 502.574382 175.731116 \r\nz\r\n\" style=\"fill:#528b8b;stroke:#528b8b;stroke-linecap:round;\"/>\r\n   </g>\r\n   <g id=\"patch_10\">\r\n    <path clip-path=\"url(#p9eaed15e85)\" d=\"M 409.905216 363.736243 \r\nQ 491.767302 396.071177 572.589533 427.995377 \r\n\" style=\"fill:none;stroke:#528b8b;stroke-linecap:round;\"/>\r\n    <path clip-path=\"url(#p9eaed15e85)\" d=\"M 569.603982 424.665739 \r\nL 572.589533 427.995377 \r\nL 568.134492 428.386035 \r\nL 569.603982 424.665739 \r\nz\r\n\" style=\"fill:#528b8b;stroke:#528b8b;stroke-linecap:round;\"/>\r\n   </g>\r\n   <g id=\"patch_11\">\r\n    <path clip-path=\"url(#p9eaed15e85)\" d=\"M 406.274624 368.004255 \r\nQ 462.469767 462.644788 518.094093 556.323984 \r\n\" style=\"fill:none;stroke:#528b8b;stroke-linecap:round;\"/>\r\n    <path clip-path=\"url(#p9eaed15e85)\" d=\"M 517.771566 551.863494 \r\nL 518.094093 556.323984 \r\nL 514.332184 553.905711 \r\nL 517.771566 551.863494 \r\nz\r\n\" style=\"fill:#528b8b;stroke:#528b8b;stroke-linecap:round;\"/>\r\n   </g>\r\n   <g id=\"patch_12\">\r\n    <path clip-path=\"url(#p9eaed15e85)\" d=\"M 410.212723 358.294852 \r\nQ 510.271814 331.246646 609.251611 304.490196 \r\n\" style=\"fill:none;stroke:#528b8b;stroke-linecap:round;\"/>\r\n    <path clip-path=\"url(#p9eaed15e85)\" d=\"M 604.868296 303.603318 \r\nL 609.251611 304.490196 \r\nL 605.912119 307.464721 \r\nL 604.868296 303.603318 \r\nz\r\n\" style=\"fill:#528b8b;stroke:#528b8b;stroke-linecap:round;\"/>\r\n   </g>\r\n   <g id=\"patch_13\">\r\n    <path clip-path=\"url(#p9eaed15e85)\" d=\"M 394.90231 365.715297 \r\nQ 274.571019 455.069061 155.137349 543.756283 \r\n\" style=\"fill:none;stroke:#528b8b;stroke-linecap:round;\"/>\r\n    <path clip-path=\"url(#p9eaed15e85)\" d=\"M 159.541119 542.977305 \r\nL 155.137349 543.756283 \r\nL 157.156428 539.76588 \r\nL 159.541119 542.977305 \r\nz\r\n\" style=\"fill:#528b8b;stroke:#528b8b;stroke-linecap:round;\"/>\r\n   </g>\r\n   <g id=\"patch_14\">\r\n    <path clip-path=\"url(#p9eaed15e85)\" d=\"M 396.202892 353.989511 \r\nQ 306.980678 250.283361 218.487629 147.424748 \r\n\" style=\"fill:none;stroke:#528b8b;stroke-linecap:round;\"/>\r\n    <path clip-path=\"url(#p9eaed15e85)\" d=\"M 219.580255 151.761356 \r\nL 218.487629 147.424748 \r\nL 222.612491 149.152611 \r\nL 219.580255 151.761356 \r\nz\r\n\" style=\"fill:#528b8b;stroke:#528b8b;stroke-linecap:round;\"/>\r\n   </g>\r\n   <g id=\"patch_15\">\r\n    <path clip-path=\"url(#p9eaed15e85)\" d=\"M 194.579512 465.830087 \r\nQ 173.061306 503.937569 152.092833 541.071503 \r\n\" style=\"fill:none;stroke:#528b8b;stroke-linecap:round;\"/>\r\n    <path clip-path=\"url(#p9eaed15e85)\" d=\"M 155.801154 538.571832 \r\nL 152.092833 541.071503 \r\nL 152.318088 536.605044 \r\nL 155.801154 538.571832 \r\nz\r\n\" style=\"fill:#528b8b;stroke:#528b8b;stroke-linecap:round;\"/>\r\n   </g>\r\n   <g id=\"patch_16\">\r\n    <path clip-path=\"url(#p9eaed15e85)\" d=\"M 194.105282 451.039477 \r\nQ 132.072767 356.046474 70.651554 261.989585 \r\n\" style=\"fill:none;stroke:#528b8b;stroke-linecap:round;\"/>\r\n    <path clip-path=\"url(#p9eaed15e85)\" d=\"M 71.164047 266.432259 \r\nL 70.651554 261.989585 \r\nL 74.513189 264.245196 \r\nL 71.164047 266.432259 \r\nz\r\n\" style=\"fill:#528b8b;stroke:#528b8b;stroke-linecap:round;\"/>\r\n   </g>\r\n   <g id=\"patch_17\">\r\n    <path clip-path=\"url(#p9eaed15e85)\" d=\"M 204.808186 464.564528 \r\nQ 280.583792 544.239375 355.588902 623.104077 \r\n\" style=\"fill:none;stroke:#528b8b;stroke-linecap:round;\"/>\r\n    <path clip-path=\"url(#p9eaed15e85)\" d=\"M 354.28152 618.827308 \r\nL 355.588902 623.104077 \r\nL 351.383058 621.583921 \r\nL 354.28152 618.827308 \r\nz\r\n\" style=\"fill:#528b8b;stroke:#528b8b;stroke-linecap:round;\"/>\r\n   </g>\r\n   <g id=\"patch_18\">\r\n    <path clip-path=\"url(#p9eaed15e85)\" d=\"M 339.01021 351.148491 \r\nQ 206.23625 303.9264 73.715105 256.794224 \r\n\" style=\"fill:none;stroke:#528b8b;stroke-linecap:round;stroke-width:0.24;\"/>\r\n    <path clip-path=\"url(#p9eaed15e85)\" d=\"M 76.813652 260.018973 \r\nL 73.715105 256.794224 \r\nL 78.154033 256.250236 \r\nL 76.813652 260.018973 \r\nz\r\n\" style=\"fill:#528b8b;stroke:#528b8b;stroke-linecap:round;stroke-width:0.24;\"/>\r\n   </g>\r\n   <g id=\"patch_19\">\r\n    <path clip-path=\"url(#p9eaed15e85)\" d=\"M 342.546526 346.724643 \r\nQ 279.639749 247.03152 217.30574 148.246105 \r\n\" style=\"fill:none;stroke:#528b8b;stroke-linecap:round;stroke-width:0.96;\"/>\r\n    <path clip-path=\"url(#p9eaed15e85)\" d=\"M 217.748905 152.696229 \r\nL 217.30574 148.246105 \r\nL 221.131738 150.561647 \r\nL 217.748905 152.696229 \r\nz\r\n\" style=\"fill:#528b8b;stroke:#528b8b;stroke-linecap:round;stroke-width:0.96;\"/>\r\n   </g>\r\n   <g id=\"patch_20\">\r\n    <path clip-path=\"url(#p9eaed15e85)\" d=\"M 355.388625 356.767873 \r\nQ 464.425594 392.818632 573.207798 428.785159 \r\n\" style=\"fill:none;stroke:#528b8b;stroke-linecap:round;stroke-width:0.24;\"/>\r\n    <path clip-path=\"url(#p9eaed15e85)\" d=\"M 570.037827 425.630595 \r\nL 573.207798 428.785159 \r\nL 568.782164 429.428398 \r\nL 570.037827 425.630595 \r\nz\r\n\" style=\"fill:#528b8b;stroke:#528b8b;stroke-linecap:round;stroke-width:0.24;\"/>\r\n   </g>\r\n   <g id=\"patch_21\">\r\n    <path clip-path=\"url(#p9eaed15e85)\" d=\"M 352.717443 360.695142 \r\nQ 435.127154 459.390494 516.963596 557.399287 \r\n\" style=\"fill:none;stroke:#528b8b;stroke-linecap:round;stroke-width:0.8;\"/>\r\n    <path clip-path=\"url(#p9eaed15e85)\" d=\"M 515.935047 553.047036 \r\nL 516.963596 557.399287 \r\nL 512.864666 555.610776 \r\nL 515.935047 553.047036 \r\nz\r\n\" style=\"fill:#528b8b;stroke:#528b8b;stroke-linecap:round;stroke-width:0.8;\"/>\r\n   </g>\r\n   <g id=\"patch_22\">\r\n    <path clip-path=\"url(#p9eaed15e85)\" d=\"M 347.643858 362.700644 \r\nQ 354.748255 492.120588 361.431037 613.860021 \r\n\" style=\"fill:none;stroke:#528b8b;stroke-linecap:round;stroke-width:6.88;\"/>\r\n    <path clip-path=\"url(#p9eaed15e85)\" d=\"M 363.208784 609.756411 \r\nL 361.431037 613.860021 \r\nL 359.214797 609.975658 \r\nL 363.208784 609.756411 \r\nz\r\n\" style=\"fill:#528b8b;stroke:#528b8b;stroke-linecap:round;stroke-width:6.88;\"/>\r\n   </g>\r\n   <g id=\"patch_23\">\r\n    <path clip-path=\"url(#p9eaed15e85)\" d=\"M 348.059686 345.435223 \r\nQ 360.762977 222.564671 373.411079 100.22793 \r\n\" style=\"fill:none;stroke:#528b8b;stroke-linecap:round;stroke-width:0.48;\"/>\r\n    <path clip-path=\"url(#p9eaed15e85)\" d=\"M 371.010326 104.001043 \r\nL 373.411079 100.22793 \r\nL 374.989118 104.412401 \r\nL 371.010326 104.001043 \r\nz\r\n\" style=\"fill:#528b8b;stroke:#528b8b;stroke-linecap:round;stroke-width:0.48;\"/>\r\n   </g>\r\n   <g id=\"patch_24\">\r\n    <path clip-path=\"url(#p9eaed15e85)\" d=\"M 90.643173 276.61394 \r\nQ 81.192686 268.105926 72.141039 259.956975 \r\n\" style=\"fill:none;stroke:#528b8b;stroke-linecap:round;stroke-width:0.48;\"/>\r\n    <path clip-path=\"url(#p9eaed15e85)\" d=\"M 73.775659 264.119669 \r\nL 72.141039 259.956975 \r\nL 76.451965 261.146895 \r\nL 73.775659 264.119669 \r\nz\r\n\" style=\"fill:#528b8b;stroke:#528b8b;stroke-linecap:round;stroke-width:0.48;\"/>\r\n   </g>\r\n   <g id=\"patch_25\">\r\n    <path clip-path=\"url(#p9eaed15e85)\" d=\"M 406.067968 352.989928 \r\nQ 456.440505 262.612092 506.573547 172.663956 \r\n\" style=\"fill:none;stroke:#528b8b;stroke-linecap:round;stroke-width:0.44;\"/>\r\n    <path clip-path=\"url(#p9eaed15e85)\" d=\"M 502.879195 175.184226 \r\nL 506.573547 172.663956 \r\nL 506.373151 177.1316 \r\nL 502.879195 175.184226 \r\nz\r\n\" style=\"fill:#528b8b;stroke:#528b8b;stroke-linecap:round;stroke-width:0.44;\"/>\r\n   </g>\r\n   <g id=\"patch_26\">\r\n    <path clip-path=\"url(#p9eaed15e85)\" d=\"M 409.905216 363.736243 \r\nQ 491.767302 396.071177 571.924026 427.732507 \r\n\" style=\"fill:none;stroke:#528b8b;stroke-linecap:round;stroke-width:1.64;\"/>\r\n    <path clip-path=\"url(#p9eaed15e85)\" d=\"M 568.938475 424.402869 \r\nL 571.924026 427.732507 \r\nL 567.468985 428.123165 \r\nL 568.938475 424.402869 \r\nz\r\n\" style=\"fill:#528b8b;stroke:#528b8b;stroke-linecap:round;stroke-width:1.64;\"/>\r\n   </g>\r\n   <g id=\"patch_27\">\r\n    <path clip-path=\"url(#p9eaed15e85)\" d=\"M 406.274624 368.004255 \r\nQ 462.469767 462.644788 517.591773 555.478008 \r\n\" style=\"fill:none;stroke:#528b8b;stroke-linecap:round;stroke-width:1.88;\"/>\r\n    <path clip-path=\"url(#p9eaed15e85)\" d=\"M 517.269247 551.017518 \r\nL 517.591773 555.478008 \r\nL 513.829865 553.059735 \r\nL 517.269247 551.017518 \r\nz\r\n\" style=\"fill:#528b8b;stroke:#528b8b;stroke-linecap:round;stroke-width:1.88;\"/>\r\n   </g>\r\n   <g id=\"patch_28\">\r\n    <path clip-path=\"url(#p9eaed15e85)\" d=\"M 410.212723 358.294852 \r\nQ 510.271814 331.246646 608.431346 304.711932 \r\n\" style=\"fill:none;stroke:#528b8b;stroke-linecap:round;stroke-width:1.76;\"/>\r\n    <path clip-path=\"url(#p9eaed15e85)\" d=\"M 604.048032 303.825054 \r\nL 608.431346 304.711932 \r\nL 605.091855 307.686457 \r\nL 604.048032 303.825054 \r\nz\r\n\" style=\"fill:#528b8b;stroke:#528b8b;stroke-linecap:round;stroke-width:1.76;\"/>\r\n   </g>\r\n   <g id=\"patch_29\">\r\n    <path clip-path=\"url(#p9eaed15e85)\" d=\"M 394.90231 365.715297 \r\nQ 274.571019 455.069061 154.957824 543.889592 \r\n\" style=\"fill:none;stroke:#528b8b;stroke-linecap:round;stroke-width:0.8;\"/>\r\n    <path clip-path=\"url(#p9eaed15e85)\" d=\"M 159.361595 543.110613 \r\nL 154.957824 543.889592 \r\nL 156.976904 539.899188 \r\nL 159.361595 543.110613 \r\nz\r\n\" style=\"fill:#528b8b;stroke:#528b8b;stroke-linecap:round;stroke-width:0.8;\"/>\r\n   </g>\r\n   <g id=\"patch_30\">\r\n    <path clip-path=\"url(#p9eaed15e85)\" d=\"M 396.202892 353.989511 \r\nQ 306.980678 250.283361 219.070962 148.102776 \r\n\" style=\"fill:none;stroke:#528b8b;stroke-linecap:round;stroke-width:1.8;\"/>\r\n    <path clip-path=\"url(#p9eaed15e85)\" d=\"M 220.163588 152.439384 \r\nL 219.070962 148.102776 \r\nL 223.195824 149.83064 \r\nL 220.163588 152.439384 \r\nz\r\n\" style=\"fill:#528b8b;stroke:#528b8b;stroke-linecap:round;stroke-width:1.8;\"/>\r\n   </g>\r\n   <g id=\"patch_31\">\r\n    <path clip-path=\"url(#p9eaed15e85)\" d=\"M 194.579512 465.830087 \r\nQ 173.061306 503.937569 152.444663 540.448434 \r\n\" style=\"fill:none;stroke:#528b8b;stroke-linecap:round;stroke-width:1.64;\"/>\r\n    <path clip-path=\"url(#p9eaed15e85)\" d=\"M 156.152983 537.948762 \r\nL 152.444663 540.448434 \r\nL 152.669918 535.981974 \r\nL 156.152983 537.948762 \r\nz\r\n\" style=\"fill:#528b8b;stroke:#528b8b;stroke-linecap:round;stroke-width:1.64;\"/>\r\n   </g>\r\n   <g id=\"patch_32\">\r\n    <path clip-path=\"url(#p9eaed15e85)\" d=\"M 194.105282 451.039477 \r\nQ 132.072767 356.046474 70.284773 261.427917 \r\n\" style=\"fill:none;stroke:#528b8b;stroke-linecap:round;stroke-width:0.4;\"/>\r\n    <path clip-path=\"url(#p9eaed15e85)\" d=\"M 70.797265 265.870591 \r\nL 70.284773 261.427917 \r\nL 74.146407 263.683527 \r\nL 70.797265 265.870591 \r\nz\r\n\" style=\"fill:#528b8b;stroke:#528b8b;stroke-linecap:round;stroke-width:0.4;\"/>\r\n   </g>\r\n   <g id=\"patch_33\">\r\n    <path clip-path=\"url(#p9eaed15e85)\" d=\"M 204.808186 464.564528 \r\nQ 280.583792 544.239375 356.2053 623.752193 \r\n\" style=\"fill:none;stroke:#528b8b;stroke-linecap:round;stroke-width:0.2;\"/>\r\n    <path clip-path=\"url(#p9eaed15e85)\" d=\"M 354.897918 619.475424 \r\nL 356.2053 623.752193 \r\nL 351.999455 622.232037 \r\nL 354.897918 619.475424 \r\nz\r\n\" style=\"fill:#528b8b;stroke:#528b8b;stroke-linecap:round;stroke-width:0.2;\"/>\r\n   </g>\r\n   <g id=\"text_1\">\r\n    <g id=\"patch_34\">\r\n     <path clip-path=\"url(#p9eaed15e85)\" d=\"M 200.613237 310.246626 \r\nL 206.607885 312.378669 \r\nQ 209.434438 313.383955 210.439723 310.557402 \r\nL 213.682816 301.438825 \r\nQ 214.688102 298.612272 211.861549 297.606986 \r\nL 205.866901 295.474943 \r\nQ 203.040348 294.469658 202.035063 297.296211 \r\nL 198.79197 306.414788 \r\nQ 197.786684 309.241341 200.613237 310.246626 \r\nz\r\n\" style=\"fill:#ffffff;stroke:#ffffff;stroke-linejoin:miter;\"/>\r\n    </g>\r\n    <g clip-path=\"url(#p9eaed15e85)\">\r\n     <!-- 6 -->\r\n     <g transform=\"translate(202.315416 305.460624)rotate(-340.421675)scale(0.1 -0.1)\">\r\n      <defs>\r\n       <path d=\"M 33.015625 40.375 \r\nQ 26.375 40.375 22.484375 35.828125 \r\nQ 18.609375 31.296875 18.609375 23.390625 \r\nQ 18.609375 15.53125 22.484375 10.953125 \r\nQ 26.375 6.390625 33.015625 6.390625 \r\nQ 39.65625 6.390625 43.53125 10.953125 \r\nQ 47.40625 15.53125 47.40625 23.390625 \r\nQ 47.40625 31.296875 43.53125 35.828125 \r\nQ 39.65625 40.375 33.015625 40.375 \r\nz\r\nM 52.59375 71.296875 \r\nL 52.59375 62.3125 \r\nQ 48.875 64.0625 45.09375 64.984375 \r\nQ 41.3125 65.921875 37.59375 65.921875 \r\nQ 27.828125 65.921875 22.671875 59.328125 \r\nQ 17.53125 52.734375 16.796875 39.40625 \r\nQ 19.671875 43.65625 24.015625 45.921875 \r\nQ 28.375 48.1875 33.59375 48.1875 \r\nQ 44.578125 48.1875 50.953125 41.515625 \r\nQ 57.328125 34.859375 57.328125 23.390625 \r\nQ 57.328125 12.15625 50.6875 5.359375 \r\nQ 44.046875 -1.421875 33.015625 -1.421875 \r\nQ 20.359375 -1.421875 13.671875 8.265625 \r\nQ 6.984375 17.96875 6.984375 36.375 \r\nQ 6.984375 53.65625 15.1875 63.9375 \r\nQ 23.390625 74.21875 37.203125 74.21875 \r\nQ 40.921875 74.21875 44.703125 73.484375 \r\nQ 48.484375 72.75 52.59375 71.296875 \r\nz\r\n\" id=\"DejaVuSans-54\"/>\r\n      </defs>\r\n      <use xlink:href=\"#DejaVuSans-54\"/>\r\n     </g>\r\n    </g>\r\n   </g>\r\n   <g id=\"text_2\">\r\n    <g id=\"patch_35\">\r\n     <path clip-path=\"url(#p9eaed15e85)\" d=\"M 269.61436 245.833174 \r\nL 276.404999 256.594812 \r\nQ 278.005935 259.131937 280.54306 257.531 \r\nL 288.72793 252.366313 \r\nQ 291.265055 250.765376 289.664119 248.228251 \r\nL 282.87348 237.466613 \r\nQ 281.272544 234.929488 278.735419 236.530425 \r\nL 270.550549 241.695112 \r\nQ 268.013424 243.296049 269.61436 245.833174 \r\nz\r\n\" style=\"fill:#ffffff;stroke:#ffffff;stroke-linejoin:miter;\"/>\r\n    </g>\r\n    <g clip-path=\"url(#p9eaed15e85)\">\r\n     <!-- 24 -->\r\n     <g transform=\"translate(273.910294 243.122421)rotate(-302.252097)scale(0.1 -0.1)\">\r\n      <defs>\r\n       <path d=\"M 19.1875 8.296875 \r\nL 53.609375 8.296875 \r\nL 53.609375 0 \r\nL 7.328125 0 \r\nL 7.328125 8.296875 \r\nQ 12.9375 14.109375 22.625 23.890625 \r\nQ 32.328125 33.6875 34.8125 36.53125 \r\nQ 39.546875 41.84375 41.421875 45.53125 \r\nQ 43.3125 49.21875 43.3125 52.78125 \r\nQ 43.3125 58.59375 39.234375 62.25 \r\nQ 35.15625 65.921875 28.609375 65.921875 \r\nQ 23.96875 65.921875 18.8125 64.3125 \r\nQ 13.671875 62.703125 7.8125 59.421875 \r\nL 7.8125 69.390625 \r\nQ 13.765625 71.78125 18.9375 73 \r\nQ 24.125 74.21875 28.421875 74.21875 \r\nQ 39.75 74.21875 46.484375 68.546875 \r\nQ 53.21875 62.890625 53.21875 53.421875 \r\nQ 53.21875 48.921875 51.53125 44.890625 \r\nQ 49.859375 40.875 45.40625 35.40625 \r\nQ 44.1875 33.984375 37.640625 27.21875 \r\nQ 31.109375 20.453125 19.1875 8.296875 \r\nz\r\n\" id=\"DejaVuSans-50\"/>\r\n       <path d=\"M 37.796875 64.3125 \r\nL 12.890625 25.390625 \r\nL 37.796875 25.390625 \r\nz\r\nM 35.203125 72.90625 \r\nL 47.609375 72.90625 \r\nL 47.609375 25.390625 \r\nL 58.015625 25.390625 \r\nL 58.015625 17.1875 \r\nL 47.609375 17.1875 \r\nL 47.609375 0 \r\nL 37.796875 0 \r\nL 37.796875 17.1875 \r\nL 4.890625 17.1875 \r\nL 4.890625 26.703125 \r\nz\r\n\" id=\"DejaVuSans-52\"/>\r\n      </defs>\r\n      <use xlink:href=\"#DejaVuSans-50\"/>\r\n      <use x=\"63.623047\" xlink:href=\"#DejaVuSans-52\"/>\r\n     </g>\r\n    </g>\r\n   </g>\r\n   <g id=\"text_3\">\r\n    <g id=\"patch_36\">\r\n     <path clip-path=\"url(#p9eaed15e85)\" d=\"M 458.945327 399.263116 \r\nL 464.986208 401.260405 \r\nQ 467.834561 402.202152 468.776308 399.3538 \r\nL 471.814424 390.164896 \r\nQ 472.756171 387.316544 469.907819 386.374796 \r\nL 463.866938 384.377507 \r\nQ 461.018586 383.43576 460.076838 386.284112 \r\nL 457.038722 395.473016 \r\nQ 456.096975 398.321369 458.945327 399.263116 \r\nz\r\n\" style=\"fill:#ffffff;stroke:#ffffff;stroke-linejoin:miter;\"/>\r\n    </g>\r\n    <g clip-path=\"url(#p9eaed15e85)\">\r\n     <!-- 6 -->\r\n     <g transform=\"translate(460.539921 394.440203)rotate(-341.704628)scale(0.1 -0.1)\">\r\n      <use xlink:href=\"#DejaVuSans-54\"/>\r\n     </g>\r\n    </g>\r\n   </g>\r\n   <g id=\"text_4\">\r\n    <g id=\"patch_37\">\r\n     <path clip-path=\"url(#p9eaed15e85)\" d=\"M 425.032868 459.532063 \r\nL 433.188765 469.299712 \r\nQ 435.11157 471.602497 437.414355 469.679692 \r\nL 444.843238 463.476644 \r\nQ 447.146023 461.553839 445.223219 459.251054 \r\nL 437.067321 449.483405 \r\nQ 435.144517 447.180619 432.841731 449.103424 \r\nL 425.412849 455.306472 \r\nQ 423.110063 457.229277 425.032868 459.532063 \r\nz\r\n\" style=\"fill:#ffffff;stroke:#ffffff;stroke-linejoin:miter;\"/>\r\n    </g>\r\n    <g clip-path=\"url(#p9eaed15e85)\">\r\n     <!-- 20 -->\r\n     <g transform=\"translate(428.932012 456.276314)rotate(-309.861571)scale(0.1 -0.1)\">\r\n      <defs>\r\n       <path d=\"M 31.78125 66.40625 \r\nQ 24.171875 66.40625 20.328125 58.90625 \r\nQ 16.5 51.421875 16.5 36.375 \r\nQ 16.5 21.390625 20.328125 13.890625 \r\nQ 24.171875 6.390625 31.78125 6.390625 \r\nQ 39.453125 6.390625 43.28125 13.890625 \r\nQ 47.125 21.390625 47.125 36.375 \r\nQ 47.125 51.421875 43.28125 58.90625 \r\nQ 39.453125 66.40625 31.78125 66.40625 \r\nz\r\nM 31.78125 74.21875 \r\nQ 44.046875 74.21875 50.515625 64.515625 \r\nQ 56.984375 54.828125 56.984375 36.375 \r\nQ 56.984375 17.96875 50.515625 8.265625 \r\nQ 44.046875 -1.421875 31.78125 -1.421875 \r\nQ 19.53125 -1.421875 13.0625 8.265625 \r\nQ 6.59375 17.96875 6.59375 36.375 \r\nQ 6.59375 54.828125 13.0625 64.515625 \r\nQ 19.53125 74.21875 31.78125 74.21875 \r\nz\r\n\" id=\"DejaVuSans-48\"/>\r\n      </defs>\r\n      <use xlink:href=\"#DejaVuSans-50\"/>\r\n      <use x=\"63.623047\" xlink:href=\"#DejaVuSans-48\"/>\r\n     </g>\r\n    </g>\r\n   </g>\r\n   <g id=\"text_5\">\r\n    <g id=\"patch_38\">\r\n     <path clip-path=\"url(#p9eaed15e85)\" d=\"M 346.397824 483.020055 \r\nL 347.444041 502.078861 \r\nQ 347.608476 505.074351 350.603966 504.909916 \r\nL 360.267542 504.379443 \r\nQ 363.263032 504.215008 363.098597 501.219518 \r\nL 362.052381 482.160712 \r\nQ 361.887946 479.165221 358.892456 479.329656 \r\nL 349.22888 479.86013 \r\nQ 346.233389 480.024565 346.397824 483.020055 \r\nz\r\n\" style=\"fill:#ffffff;stroke:#ffffff;stroke-linejoin:miter;\"/>\r\n    </g>\r\n    <g clip-path=\"url(#p9eaed15e85)\">\r\n     <!-- 172 -->\r\n     <g transform=\"translate(351.469876 482.741629)rotate(-273.142049)scale(0.1 -0.1)\">\r\n      <defs>\r\n       <path d=\"M 12.40625 8.296875 \r\nL 28.515625 8.296875 \r\nL 28.515625 63.921875 \r\nL 10.984375 60.40625 \r\nL 10.984375 69.390625 \r\nL 28.421875 72.90625 \r\nL 38.28125 72.90625 \r\nL 38.28125 8.296875 \r\nL 54.390625 8.296875 \r\nL 54.390625 0 \r\nL 12.40625 0 \r\nz\r\n\" id=\"DejaVuSans-49\"/>\r\n       <path d=\"M 8.203125 72.90625 \r\nL 55.078125 72.90625 \r\nL 55.078125 68.703125 \r\nL 28.609375 0 \r\nL 18.3125 0 \r\nL 43.21875 64.59375 \r\nL 8.203125 64.59375 \r\nz\r\n\" id=\"DejaVuSans-55\"/>\r\n      </defs>\r\n      <use xlink:href=\"#DejaVuSans-49\"/>\r\n      <use x=\"63.623047\" xlink:href=\"#DejaVuSans-55\"/>\r\n      <use x=\"127.246094\" xlink:href=\"#DejaVuSans-50\"/>\r\n     </g>\r\n    </g>\r\n   </g>\r\n   <g id=\"text_6\">\r\n    <g id=\"patch_39\">\r\n     <path clip-path=\"url(#p9eaed15e85)\" d=\"M 367.906017 229.700998 \r\nL 369.214648 217.043466 \r\nQ 369.523167 214.059372 366.539073 213.750854 \r\nL 356.912262 212.755561 \r\nQ 353.928168 212.447043 353.619649 215.431137 \r\nL 352.311017 228.088668 \r\nQ 352.002499 231.072762 354.986593 231.381281 \r\nL 364.613404 232.376574 \r\nQ 367.597498 232.685092 367.906017 229.700998 \r\nz\r\n\" style=\"fill:#ffffff;stroke:#ffffff;stroke-linejoin:miter;\"/>\r\n    </g>\r\n    <g clip-path=\"url(#p9eaed15e85)\">\r\n     <!-- 12 -->\r\n     <g transform=\"translate(362.853262 229.178606)rotate(-84.097299)scale(0.1 -0.1)\">\r\n      <use xlink:href=\"#DejaVuSans-49\"/>\r\n      <use x=\"63.623047\" xlink:href=\"#DejaVuSans-50\"/>\r\n     </g>\r\n    </g>\r\n   </g>\r\n   <g id=\"text_7\">\r\n    <g id=\"patch_40\">\r\n     <path clip-path=\"url(#p9eaed15e85)\" d=\"M 71.2193 269.67497 \r\nL 80.676436 278.18897 \r\nQ 82.906016 280.1962 84.913246 277.96662 \r\nL 91.388654 270.773902 \r\nQ 93.395884 268.544322 91.166304 266.537092 \r\nL 81.709168 258.023091 \r\nQ 79.479588 256.015861 77.472358 258.245441 \r\nL 70.99695 265.438159 \r\nQ 68.98972 267.66774 71.2193 269.67497 \r\nz\r\n\" style=\"fill:#ffffff;stroke:#ffffff;stroke-linejoin:miter;\"/>\r\n    </g>\r\n    <g clip-path=\"url(#p9eaed15e85)\">\r\n     <!-- 12 -->\r\n     <g transform=\"translate(74.618001 265.899779)rotate(-318.004158)scale(0.1 -0.1)\">\r\n      <use xlink:href=\"#DejaVuSans-49\"/>\r\n      <use x=\"63.623047\" xlink:href=\"#DejaVuSans-50\"/>\r\n     </g>\r\n    </g>\r\n   </g>\r\n   <g id=\"text_8\">\r\n    <g id=\"patch_41\">\r\n     <path clip-path=\"url(#p9eaed15e85)\" d=\"M 460.19056 271.985595 \r\nL 466.385645 260.870446 \r\nQ 467.846175 258.249978 465.225708 256.789447 \r\nL 456.77197 252.077715 \r\nQ 454.151503 250.617184 452.690972 253.237651 \r\nL 446.495888 264.352801 \r\nQ 445.035357 266.973269 447.655825 268.4338 \r\nL 456.109562 273.145532 \r\nQ 458.73003 274.606063 460.19056 271.985595 \r\nz\r\n\" style=\"fill:#ffffff;stroke:#ffffff;stroke-linejoin:miter;\"/>\r\n    </g>\r\n    <g clip-path=\"url(#p9eaed15e85)\">\r\n     <!-- 11 -->\r\n     <g transform=\"translate(455.753508 269.512582)rotate(-60.866672)scale(0.1 -0.1)\">\r\n      <use xlink:href=\"#DejaVuSans-49\"/>\r\n      <use x=\"63.623047\" xlink:href=\"#DejaVuSans-49\"/>\r\n     </g>\r\n    </g>\r\n   </g>\r\n   <g id=\"text_9\">\r\n    <g id=\"patch_42\">\r\n     <path clip-path=\"url(#p9eaed15e85)\" d=\"M 482.970368 401.024882 \r\nL 494.805558 405.699697 \r\nQ 497.59578 406.801814 498.697897 404.011592 \r\nL 502.253374 395.010221 \r\nQ 503.355492 392.219999 500.56527 391.117882 \r\nL 488.73008 386.443067 \r\nQ 485.939858 385.340949 484.837741 388.131171 \r\nL 481.282264 397.132542 \r\nQ 480.180146 399.922764 482.970368 401.024882 \r\nz\r\n\" style=\"fill:#ffffff;stroke:#ffffff;stroke-linejoin:miter;\"/>\r\n    </g>\r\n    <g clip-path=\"url(#p9eaed15e85)\">\r\n     <!-- 41 -->\r\n     <g transform=\"translate(484.836505 396.300397)rotate(-338.446337)scale(0.1 -0.1)\">\r\n      <use xlink:href=\"#DejaVuSans-52\"/>\r\n      <use x=\"63.623047\" xlink:href=\"#DejaVuSans-49\"/>\r\n     </g>\r\n    </g>\r\n   </g>\r\n   <g id=\"text_10\">\r\n    <g id=\"patch_43\">\r\n     <path clip-path=\"url(#p9eaed15e85)\" d=\"M 452.480505 461.175485 \r\nL 458.977309 472.117018 \r\nQ 460.508972 474.696554 463.088509 473.164891 \r\nL 471.4102 468.223682 \r\nQ 473.989737 466.692019 472.458074 464.112483 \r\nL 465.961269 453.170949 \r\nQ 464.429606 450.591413 461.85007 452.123076 \r\nL 453.528378 457.064285 \r\nQ 450.948841 458.595948 452.480505 461.175485 \r\nz\r\n\" style=\"fill:#ffffff;stroke:#ffffff;stroke-linejoin:miter;\"/>\r\n    </g>\r\n    <g clip-path=\"url(#p9eaed15e85)\">\r\n     <!-- 47 -->\r\n     <g transform=\"translate(456.848251 458.582028)rotate(-300.700764)scale(0.1 -0.1)\">\r\n      <use xlink:href=\"#DejaVuSans-52\"/>\r\n      <use x=\"63.623047\" xlink:href=\"#DejaVuSans-55\"/>\r\n     </g>\r\n    </g>\r\n   </g>\r\n   <g id=\"text_11\">\r\n    <g id=\"patch_44\">\r\n     <path clip-path=\"url(#p9eaed15e85)\" d=\"M 506.176459 340.474141 \r\nL 518.460547 337.153478 \r\nQ 521.356599 336.37061 520.573732 333.474558 \r\nL 518.048168 324.131773 \r\nQ 517.265301 321.235721 514.369249 322.018588 \r\nL 502.08516 325.339252 \r\nQ 499.189108 326.122119 499.971976 329.018171 \r\nL 502.497539 338.360956 \r\nQ 503.280407 341.257009 506.176459 340.474141 \r\nz\r\n\" style=\"fill:#ffffff;stroke:#ffffff;stroke-linejoin:miter;\"/>\r\n    </g>\r\n    <g clip-path=\"url(#p9eaed15e85)\">\r\n     <!-- 44 -->\r\n     <g transform=\"translate(504.850885 335.570461)rotate(-15.126787)scale(0.1 -0.1)\">\r\n      <use xlink:href=\"#DejaVuSans-52\"/>\r\n      <use x=\"63.623047\" xlink:href=\"#DejaVuSans-52\"/>\r\n     </g>\r\n    </g>\r\n   </g>\r\n   <g id=\"text_12\">\r\n    <g id=\"patch_45\">\r\n     <path clip-path=\"url(#p9eaed15e85)\" d=\"M 274.132893 465.158366 \r\nL 284.349239 457.572068 \r\nQ 286.757807 455.78355 284.969289 453.374982 \r\nL 279.199456 445.604839 \r\nQ 277.410938 443.19627 275.002369 444.984788 \r\nL 264.786023 452.571085 \r\nQ 262.377454 454.359603 264.165972 456.768172 \r\nL 269.935806 464.538315 \r\nQ 271.724324 466.946884 274.132893 465.158366 \r\nz\r\n\" style=\"fill:#ffffff;stroke:#ffffff;stroke-linejoin:miter;\"/>\r\n    </g>\r\n    <g clip-path=\"url(#p9eaed15e85)\">\r\n     <!-- 20 -->\r\n     <g transform=\"translate(271.104522 461.080107)rotate(-36.596274)scale(0.1 -0.1)\">\r\n      <use xlink:href=\"#DejaVuSans-50\"/>\r\n      <use x=\"63.623047\" xlink:href=\"#DejaVuSans-48\"/>\r\n     </g>\r\n    </g>\r\n   </g>\r\n   <g id=\"text_13\">\r\n    <g id=\"patch_46\">\r\n     <path clip-path=\"url(#p9eaed15e85)\" d=\"M 296.88848 250.572515 \r\nL 305.187547 260.218815 \r\nQ 307.144105 262.492992 309.418282 260.536434 \r\nL 316.754872 254.224496 \r\nQ 319.029049 252.267938 317.072491 249.993761 \r\nL 308.773424 240.347461 \r\nQ 306.816866 238.073284 304.542689 240.029842 \r\nL 297.206099 246.34178 \r\nQ 294.931922 248.298338 296.88848 250.572515 \r\nz\r\n\" style=\"fill:#ffffff;stroke:#ffffff;stroke-linejoin:miter;\"/>\r\n    </g>\r\n    <g clip-path=\"url(#p9eaed15e85)\">\r\n     <!-- 45 -->\r\n     <g transform=\"translate(300.739183 247.259614)rotate(-310.706621)scale(0.1 -0.1)\">\r\n      <defs>\r\n       <path d=\"M 10.796875 72.90625 \r\nL 49.515625 72.90625 \r\nL 49.515625 64.59375 \r\nL 19.828125 64.59375 \r\nL 19.828125 46.734375 \r\nQ 21.96875 47.46875 24.109375 47.828125 \r\nQ 26.265625 48.1875 28.421875 48.1875 \r\nQ 40.625 48.1875 47.75 41.5 \r\nQ 54.890625 34.8125 54.890625 23.390625 \r\nQ 54.890625 11.625 47.5625 5.09375 \r\nQ 40.234375 -1.421875 26.90625 -1.421875 \r\nQ 22.3125 -1.421875 17.546875 -0.640625 \r\nQ 12.796875 0.140625 7.71875 1.703125 \r\nL 7.71875 11.625 \r\nQ 12.109375 9.234375 16.796875 8.0625 \r\nQ 21.484375 6.890625 26.703125 6.890625 \r\nQ 35.15625 6.890625 40.078125 11.328125 \r\nQ 45.015625 15.765625 45.015625 23.390625 \r\nQ 45.015625 31 40.078125 35.4375 \r\nQ 35.15625 39.890625 26.703125 39.890625 \r\nQ 22.75 39.890625 18.8125 39.015625 \r\nQ 14.890625 38.140625 10.796875 36.28125 \r\nz\r\n\" id=\"DejaVuSans-53\"/>\r\n      </defs>\r\n      <use xlink:href=\"#DejaVuSans-52\"/>\r\n      <use x=\"63.623047\" xlink:href=\"#DejaVuSans-53\"/>\r\n     </g>\r\n    </g>\r\n   </g>\r\n   <g id=\"text_14\">\r\n    <g id=\"patch_47\">\r\n     <path clip-path=\"url(#p9eaed15e85)\" d=\"M 176.758708 513.332562 \r\nL 183.015551 502.252059 \r\nQ 184.490642 499.63976 181.878343 498.164669 \r\nL 173.450956 493.405965 \r\nQ 170.838657 491.930874 169.363566 494.543173 \r\nL 163.106723 505.623676 \r\nQ 161.631632 508.235975 164.243932 509.711066 \r\nL 172.671318 514.46977 \r\nQ 175.283617 515.944861 176.758708 513.332562 \r\nz\r\n\" style=\"fill:#ffffff;stroke:#ffffff;stroke-linejoin:miter;\"/>\r\n    </g>\r\n    <g clip-path=\"url(#p9eaed15e85)\">\r\n     <!-- 41 -->\r\n     <g transform=\"translate(172.335486 510.834895)rotate(-60.547823)scale(0.1 -0.1)\">\r\n      <use xlink:href=\"#DejaVuSans-52\"/>\r\n      <use x=\"63.623047\" xlink:href=\"#DejaVuSans-49\"/>\r\n     </g>\r\n    </g>\r\n   </g>\r\n   <g id=\"text_15\">\r\n    <g id=\"patch_48\">\r\n     <path clip-path=\"url(#p9eaed15e85)\" d=\"M 122.029814 355.004425 \r\nL 128.987409 365.658883 \r\nQ 130.627706 368.17074 133.139563 366.530443 \r\nL 141.242917 361.238774 \r\nQ 143.754774 359.598477 142.114477 357.08662 \r\nL 135.156881 346.432161 \r\nQ 133.516584 343.920305 131.004727 345.560602 \r\nL 122.901373 350.85227 \r\nQ 120.389516 352.492568 122.029814 355.004425 \r\nz\r\n\" style=\"fill:#ffffff;stroke:#ffffff;stroke-linejoin:miter;\"/>\r\n    </g>\r\n    <g clip-path=\"url(#p9eaed15e85)\">\r\n     <!-- 10 -->\r\n     <g transform=\"translate(126.282963 352.227025)rotate(-303.145418)scale(0.1 -0.1)\">\r\n      <use xlink:href=\"#DejaVuSans-49\"/>\r\n      <use x=\"63.623047\" xlink:href=\"#DejaVuSans-48\"/>\r\n     </g>\r\n    </g>\r\n   </g>\r\n   <g id=\"text_16\">\r\n    <g id=\"patch_49\">\r\n     <path clip-path=\"url(#p9eaed15e85)\" d=\"M 272.710287 547.335635 \r\nL 277.095025 551.946002 \r\nQ 279.162485 554.119848 281.336332 552.052389 \r\nL 288.349252 545.382677 \r\nQ 290.523099 543.315217 288.455639 541.14137 \r\nL 284.070901 536.531004 \r\nQ 282.003441 534.357157 279.829594 536.424617 \r\nL 272.816674 543.094329 \r\nQ 270.642827 545.161789 272.710287 547.335635 \r\nz\r\n\" style=\"fill:#ffffff;stroke:#ffffff;stroke-linejoin:miter;\"/>\r\n    </g>\r\n    <g clip-path=\"url(#p9eaed15e85)\">\r\n     <!-- 5 -->\r\n     <g transform=\"translate(276.391108 543.834952)rotate(-313.563123)scale(0.1 -0.1)\">\r\n      <use xlink:href=\"#DejaVuSans-53\"/>\r\n     </g>\r\n    </g>\r\n   </g>\r\n   <g id=\"PathCollection_1\">\r\n    <defs>\r\n     <path d=\"M 0 8.660254 \r\nC 2.296726 8.660254 4.499694 7.747755 6.123724 6.123724 \r\nC 7.747755 4.499694 8.660254 2.296726 8.660254 0 \r\nC 8.660254 -2.296726 7.747755 -4.499694 6.123724 -6.123724 \r\nC 4.499694 -7.747755 2.296726 -8.660254 0 -8.660254 \r\nC -2.296726 -8.660254 -4.499694 -7.747755 -6.123724 -6.123724 \r\nC -7.747755 -4.499694 -8.660254 -2.296726 -8.660254 0 \r\nC -8.660254 2.296726 -7.747755 4.499694 -6.123724 6.123724 \r\nC -4.499694 7.747755 -2.296726 8.660254 0 8.660254 \r\nz\r\n\" id=\"mb22405e15e\" style=\"stroke:#528b8b;\"/>\r\n    </defs>\r\n    <g clip-path=\"url(#p9eaed15e85)\">\r\n     <use style=\"fill:#528b8b;stroke:#528b8b;\" x=\"347.169001\" xlink:href=\"#mb22405e15e\" y=\"354.050229\"/>\r\n     <use style=\"fill:#528b8b;stroke:#528b8b;\" x=\"65.305785\" xlink:href=\"#mb22405e15e\" y=\"253.803384\"/>\r\n     <use style=\"fill:#528b8b;stroke:#528b8b;\" x=\"212.109478\" xlink:href=\"#mb22405e15e\" y=\"140.011196\"/>\r\n     <use style=\"fill:#528b8b;stroke:#528b8b;\" x=\"97.079819\" xlink:href=\"#mb22405e15e\" y=\"282.408677\"/>\r\n     <use style=\"fill:#528b8b;stroke:#528b8b;\" x=\"581.684145\" xlink:href=\"#mb22405e15e\" y=\"431.587684\"/>\r\n     <use style=\"fill:#528b8b;stroke:#528b8b;\" x=\"523.087086\" xlink:href=\"#mb22405e15e\" y=\"564.732888\"/>\r\n     <use style=\"fill:#528b8b;stroke:#528b8b;\" x=\"401.851493\" xlink:href=\"#mb22405e15e\" y=\"360.55508\"/>\r\n     <use style=\"fill:#528b8b;stroke:#528b8b;\" x=\"511.03004\" xlink:href=\"#mb22405e15e\" y=\"164.668167\"/>\r\n     <use style=\"fill:#528b8b;stroke:#528b8b;\" x=\"198.838505\" xlink:href=\"#mb22405e15e\" y=\"458.287661\"/>\r\n     <use style=\"fill:#528b8b;stroke:#528b8b;\" x=\"147.283769\" xlink:href=\"#mb22405e15e\" y=\"549.588074\"/>\r\n     <use style=\"fill:#528b8b;stroke:#528b8b;\" x=\"362.327421\" xlink:href=\"#mb22405e15e\" y=\"630.189344\"/>\r\n     <use style=\"fill:#528b8b;stroke:#528b8b;\" x=\"374.356665\" xlink:href=\"#mb22405e15e\" y=\"91.081906\"/>\r\n     <use style=\"fill:#528b8b;stroke:#528b8b;\" x=\"618.694215\" xlink:href=\"#mb22405e15e\" y=\"301.93765\"/>\r\n    </g>\r\n   </g>\r\n   <g id=\"text_17\">\r\n    <g clip-path=\"url(#p9eaed15e85)\">\r\n     <!-- Grand Est -->\r\n     <g transform=\"translate(302.799001 359.017104)scale(0.18 -0.18)\">\r\n      <defs>\r\n       <path d=\"M 59.515625 10.40625 \r\nL 59.515625 29.984375 \r\nL 43.40625 29.984375 \r\nL 43.40625 38.09375 \r\nL 69.28125 38.09375 \r\nL 69.28125 6.78125 \r\nQ 63.578125 2.734375 56.6875 0.65625 \r\nQ 49.8125 -1.421875 42 -1.421875 \r\nQ 24.90625 -1.421875 15.25 8.5625 \r\nQ 5.609375 18.5625 5.609375 36.375 \r\nQ 5.609375 54.25 15.25 64.234375 \r\nQ 24.90625 74.21875 42 74.21875 \r\nQ 49.125 74.21875 55.546875 72.453125 \r\nQ 61.96875 70.703125 67.390625 67.28125 \r\nL 67.390625 56.78125 \r\nQ 61.921875 61.421875 55.765625 63.765625 \r\nQ 49.609375 66.109375 42.828125 66.109375 \r\nQ 29.4375 66.109375 22.71875 58.640625 \r\nQ 16.015625 51.171875 16.015625 36.375 \r\nQ 16.015625 21.625 22.71875 14.15625 \r\nQ 29.4375 6.6875 42.828125 6.6875 \r\nQ 48.046875 6.6875 52.140625 7.59375 \r\nQ 56.25 8.5 59.515625 10.40625 \r\nz\r\n\" id=\"DejaVuSans-71\"/>\r\n       <path d=\"M 41.109375 46.296875 \r\nQ 39.59375 47.171875 37.8125 47.578125 \r\nQ 36.03125 48 33.890625 48 \r\nQ 26.265625 48 22.1875 43.046875 \r\nQ 18.109375 38.09375 18.109375 28.8125 \r\nL 18.109375 0 \r\nL 9.078125 0 \r\nL 9.078125 54.6875 \r\nL 18.109375 54.6875 \r\nL 18.109375 46.1875 \r\nQ 20.953125 51.171875 25.484375 53.578125 \r\nQ 30.03125 56 36.53125 56 \r\nQ 37.453125 56 38.578125 55.875 \r\nQ 39.703125 55.765625 41.0625 55.515625 \r\nz\r\n\" id=\"DejaVuSans-114\"/>\r\n       <path d=\"M 34.28125 27.484375 \r\nQ 23.390625 27.484375 19.1875 25 \r\nQ 14.984375 22.515625 14.984375 16.5 \r\nQ 14.984375 11.71875 18.140625 8.90625 \r\nQ 21.296875 6.109375 26.703125 6.109375 \r\nQ 34.1875 6.109375 38.703125 11.40625 \r\nQ 43.21875 16.703125 43.21875 25.484375 \r\nL 43.21875 27.484375 \r\nz\r\nM 52.203125 31.203125 \r\nL 52.203125 0 \r\nL 43.21875 0 \r\nL 43.21875 8.296875 \r\nQ 40.140625 3.328125 35.546875 0.953125 \r\nQ 30.953125 -1.421875 24.3125 -1.421875 \r\nQ 15.921875 -1.421875 10.953125 3.296875 \r\nQ 6 8.015625 6 15.921875 \r\nQ 6 25.140625 12.171875 29.828125 \r\nQ 18.359375 34.515625 30.609375 34.515625 \r\nL 43.21875 34.515625 \r\nL 43.21875 35.40625 \r\nQ 43.21875 41.609375 39.140625 45 \r\nQ 35.0625 48.390625 27.6875 48.390625 \r\nQ 23 48.390625 18.546875 47.265625 \r\nQ 14.109375 46.140625 10.015625 43.890625 \r\nL 10.015625 52.203125 \r\nQ 14.9375 54.109375 19.578125 55.046875 \r\nQ 24.21875 56 28.609375 56 \r\nQ 40.484375 56 46.34375 49.84375 \r\nQ 52.203125 43.703125 52.203125 31.203125 \r\nz\r\n\" id=\"DejaVuSans-97\"/>\r\n       <path d=\"M 54.890625 33.015625 \r\nL 54.890625 0 \r\nL 45.90625 0 \r\nL 45.90625 32.71875 \r\nQ 45.90625 40.484375 42.875 44.328125 \r\nQ 39.84375 48.1875 33.796875 48.1875 \r\nQ 26.515625 48.1875 22.3125 43.546875 \r\nQ 18.109375 38.921875 18.109375 30.90625 \r\nL 18.109375 0 \r\nL 9.078125 0 \r\nL 9.078125 54.6875 \r\nL 18.109375 54.6875 \r\nL 18.109375 46.1875 \r\nQ 21.34375 51.125 25.703125 53.5625 \r\nQ 30.078125 56 35.796875 56 \r\nQ 45.21875 56 50.046875 50.171875 \r\nQ 54.890625 44.34375 54.890625 33.015625 \r\nz\r\n\" id=\"DejaVuSans-110\"/>\r\n       <path d=\"M 45.40625 46.390625 \r\nL 45.40625 75.984375 \r\nL 54.390625 75.984375 \r\nL 54.390625 0 \r\nL 45.40625 0 \r\nL 45.40625 8.203125 \r\nQ 42.578125 3.328125 38.25 0.953125 \r\nQ 33.9375 -1.421875 27.875 -1.421875 \r\nQ 17.96875 -1.421875 11.734375 6.484375 \r\nQ 5.515625 14.40625 5.515625 27.296875 \r\nQ 5.515625 40.1875 11.734375 48.09375 \r\nQ 17.96875 56 27.875 56 \r\nQ 33.9375 56 38.25 53.625 \r\nQ 42.578125 51.265625 45.40625 46.390625 \r\nz\r\nM 14.796875 27.296875 \r\nQ 14.796875 17.390625 18.875 11.75 \r\nQ 22.953125 6.109375 30.078125 6.109375 \r\nQ 37.203125 6.109375 41.296875 11.75 \r\nQ 45.40625 17.390625 45.40625 27.296875 \r\nQ 45.40625 37.203125 41.296875 42.84375 \r\nQ 37.203125 48.484375 30.078125 48.484375 \r\nQ 22.953125 48.484375 18.875 42.84375 \r\nQ 14.796875 37.203125 14.796875 27.296875 \r\nz\r\n\" id=\"DejaVuSans-100\"/>\r\n       <path id=\"DejaVuSans-32\"/>\r\n       <path d=\"M 9.8125 72.90625 \r\nL 55.90625 72.90625 \r\nL 55.90625 64.59375 \r\nL 19.671875 64.59375 \r\nL 19.671875 43.015625 \r\nL 54.390625 43.015625 \r\nL 54.390625 34.71875 \r\nL 19.671875 34.71875 \r\nL 19.671875 8.296875 \r\nL 56.78125 8.296875 \r\nL 56.78125 0 \r\nL 9.8125 0 \r\nz\r\n\" id=\"DejaVuSans-69\"/>\r\n       <path d=\"M 44.28125 53.078125 \r\nL 44.28125 44.578125 \r\nQ 40.484375 46.53125 36.375 47.5 \r\nQ 32.28125 48.484375 27.875 48.484375 \r\nQ 21.1875 48.484375 17.84375 46.4375 \r\nQ 14.5 44.390625 14.5 40.28125 \r\nQ 14.5 37.15625 16.890625 35.375 \r\nQ 19.28125 33.59375 26.515625 31.984375 \r\nL 29.59375 31.296875 \r\nQ 39.15625 29.25 43.1875 25.515625 \r\nQ 47.21875 21.78125 47.21875 15.09375 \r\nQ 47.21875 7.46875 41.1875 3.015625 \r\nQ 35.15625 -1.421875 24.609375 -1.421875 \r\nQ 20.21875 -1.421875 15.453125 -0.5625 \r\nQ 10.6875 0.296875 5.421875 2 \r\nL 5.421875 11.28125 \r\nQ 10.40625 8.6875 15.234375 7.390625 \r\nQ 20.0625 6.109375 24.8125 6.109375 \r\nQ 31.15625 6.109375 34.5625 8.28125 \r\nQ 37.984375 10.453125 37.984375 14.40625 \r\nQ 37.984375 18.0625 35.515625 20.015625 \r\nQ 33.0625 21.96875 24.703125 23.78125 \r\nL 21.578125 24.515625 \r\nQ 13.234375 26.265625 9.515625 29.90625 \r\nQ 5.8125 33.546875 5.8125 39.890625 \r\nQ 5.8125 47.609375 11.28125 51.796875 \r\nQ 16.75 56 26.8125 56 \r\nQ 31.78125 56 36.171875 55.265625 \r\nQ 40.578125 54.546875 44.28125 53.078125 \r\nz\r\n\" id=\"DejaVuSans-115\"/>\r\n       <path d=\"M 18.3125 70.21875 \r\nL 18.3125 54.6875 \r\nL 36.8125 54.6875 \r\nL 36.8125 47.703125 \r\nL 18.3125 47.703125 \r\nL 18.3125 18.015625 \r\nQ 18.3125 11.328125 20.140625 9.421875 \r\nQ 21.96875 7.515625 27.59375 7.515625 \r\nL 36.8125 7.515625 \r\nL 36.8125 0 \r\nL 27.59375 0 \r\nQ 17.1875 0 13.234375 3.875 \r\nQ 9.28125 7.765625 9.28125 18.015625 \r\nL 9.28125 47.703125 \r\nL 2.6875 47.703125 \r\nL 2.6875 54.6875 \r\nL 9.28125 54.6875 \r\nL 9.28125 70.21875 \r\nz\r\n\" id=\"DejaVuSans-116\"/>\r\n      </defs>\r\n      <use xlink:href=\"#DejaVuSans-71\"/>\r\n      <use x=\"77.490234\" xlink:href=\"#DejaVuSans-114\"/>\r\n      <use x=\"118.603516\" xlink:href=\"#DejaVuSans-97\"/>\r\n      <use x=\"179.882812\" xlink:href=\"#DejaVuSans-110\"/>\r\n      <use x=\"243.261719\" xlink:href=\"#DejaVuSans-100\"/>\r\n      <use x=\"306.738281\" xlink:href=\"#DejaVuSans-32\"/>\r\n      <use x=\"338.525391\" xlink:href=\"#DejaVuSans-69\"/>\r\n      <use x=\"401.708984\" xlink:href=\"#DejaVuSans-115\"/>\r\n      <use x=\"453.808594\" xlink:href=\"#DejaVuSans-116\"/>\r\n     </g>\r\n    </g>\r\n   </g>\r\n   <g id=\"text_18\">\r\n    <g clip-path=\"url(#p9eaed15e85)\">\r\n     <!-- Provence-Alpes-Côte-d'Azur -->\r\n     <g transform=\"translate(-59.486246 259.130259)scale(0.18 -0.18)\">\r\n      <defs>\r\n       <path d=\"M 19.671875 64.796875 \r\nL 19.671875 37.40625 \r\nL 32.078125 37.40625 \r\nQ 38.96875 37.40625 42.71875 40.96875 \r\nQ 46.484375 44.53125 46.484375 51.125 \r\nQ 46.484375 57.671875 42.71875 61.234375 \r\nQ 38.96875 64.796875 32.078125 64.796875 \r\nz\r\nM 9.8125 72.90625 \r\nL 32.078125 72.90625 \r\nQ 44.34375 72.90625 50.609375 67.359375 \r\nQ 56.890625 61.8125 56.890625 51.125 \r\nQ 56.890625 40.328125 50.609375 34.8125 \r\nQ 44.34375 29.296875 32.078125 29.296875 \r\nL 19.671875 29.296875 \r\nL 19.671875 0 \r\nL 9.8125 0 \r\nz\r\n\" id=\"DejaVuSans-80\"/>\r\n       <path d=\"M 30.609375 48.390625 \r\nQ 23.390625 48.390625 19.1875 42.75 \r\nQ 14.984375 37.109375 14.984375 27.296875 \r\nQ 14.984375 17.484375 19.15625 11.84375 \r\nQ 23.34375 6.203125 30.609375 6.203125 \r\nQ 37.796875 6.203125 41.984375 11.859375 \r\nQ 46.1875 17.53125 46.1875 27.296875 \r\nQ 46.1875 37.015625 41.984375 42.703125 \r\nQ 37.796875 48.390625 30.609375 48.390625 \r\nz\r\nM 30.609375 56 \r\nQ 42.328125 56 49.015625 48.375 \r\nQ 55.71875 40.765625 55.71875 27.296875 \r\nQ 55.71875 13.875 49.015625 6.21875 \r\nQ 42.328125 -1.421875 30.609375 -1.421875 \r\nQ 18.84375 -1.421875 12.171875 6.21875 \r\nQ 5.515625 13.875 5.515625 27.296875 \r\nQ 5.515625 40.765625 12.171875 48.375 \r\nQ 18.84375 56 30.609375 56 \r\nz\r\n\" id=\"DejaVuSans-111\"/>\r\n       <path d=\"M 2.984375 54.6875 \r\nL 12.5 54.6875 \r\nL 29.59375 8.796875 \r\nL 46.6875 54.6875 \r\nL 56.203125 54.6875 \r\nL 35.6875 0 \r\nL 23.484375 0 \r\nz\r\n\" id=\"DejaVuSans-118\"/>\r\n       <path d=\"M 56.203125 29.59375 \r\nL 56.203125 25.203125 \r\nL 14.890625 25.203125 \r\nQ 15.484375 15.921875 20.484375 11.0625 \r\nQ 25.484375 6.203125 34.421875 6.203125 \r\nQ 39.59375 6.203125 44.453125 7.46875 \r\nQ 49.3125 8.734375 54.109375 11.28125 \r\nL 54.109375 2.78125 \r\nQ 49.265625 0.734375 44.1875 -0.34375 \r\nQ 39.109375 -1.421875 33.890625 -1.421875 \r\nQ 20.796875 -1.421875 13.15625 6.1875 \r\nQ 5.515625 13.8125 5.515625 26.8125 \r\nQ 5.515625 40.234375 12.765625 48.109375 \r\nQ 20.015625 56 32.328125 56 \r\nQ 43.359375 56 49.78125 48.890625 \r\nQ 56.203125 41.796875 56.203125 29.59375 \r\nz\r\nM 47.21875 32.234375 \r\nQ 47.125 39.59375 43.09375 43.984375 \r\nQ 39.0625 48.390625 32.421875 48.390625 \r\nQ 24.90625 48.390625 20.390625 44.140625 \r\nQ 15.875 39.890625 15.1875 32.171875 \r\nz\r\n\" id=\"DejaVuSans-101\"/>\r\n       <path d=\"M 48.78125 52.59375 \r\nL 48.78125 44.1875 \r\nQ 44.96875 46.296875 41.140625 47.34375 \r\nQ 37.3125 48.390625 33.40625 48.390625 \r\nQ 24.65625 48.390625 19.8125 42.84375 \r\nQ 14.984375 37.3125 14.984375 27.296875 \r\nQ 14.984375 17.28125 19.8125 11.734375 \r\nQ 24.65625 6.203125 33.40625 6.203125 \r\nQ 37.3125 6.203125 41.140625 7.25 \r\nQ 44.96875 8.296875 48.78125 10.40625 \r\nL 48.78125 2.09375 \r\nQ 45.015625 0.34375 40.984375 -0.53125 \r\nQ 36.96875 -1.421875 32.421875 -1.421875 \r\nQ 20.0625 -1.421875 12.78125 6.34375 \r\nQ 5.515625 14.109375 5.515625 27.296875 \r\nQ 5.515625 40.671875 12.859375 48.328125 \r\nQ 20.21875 56 33.015625 56 \r\nQ 37.15625 56 41.109375 55.140625 \r\nQ 45.0625 54.296875 48.78125 52.59375 \r\nz\r\n\" id=\"DejaVuSans-99\"/>\r\n       <path d=\"M 4.890625 31.390625 \r\nL 31.203125 31.390625 \r\nL 31.203125 23.390625 \r\nL 4.890625 23.390625 \r\nz\r\n\" id=\"DejaVuSans-45\"/>\r\n       <path d=\"M 34.1875 63.1875 \r\nL 20.796875 26.90625 \r\nL 47.609375 26.90625 \r\nz\r\nM 28.609375 72.90625 \r\nL 39.796875 72.90625 \r\nL 67.578125 0 \r\nL 57.328125 0 \r\nL 50.6875 18.703125 \r\nL 17.828125 18.703125 \r\nL 11.1875 0 \r\nL 0.78125 0 \r\nz\r\n\" id=\"DejaVuSans-65\"/>\r\n       <path d=\"M 9.421875 75.984375 \r\nL 18.40625 75.984375 \r\nL 18.40625 0 \r\nL 9.421875 0 \r\nz\r\n\" id=\"DejaVuSans-108\"/>\r\n       <path d=\"M 18.109375 8.203125 \r\nL 18.109375 -20.796875 \r\nL 9.078125 -20.796875 \r\nL 9.078125 54.6875 \r\nL 18.109375 54.6875 \r\nL 18.109375 46.390625 \r\nQ 20.953125 51.265625 25.265625 53.625 \r\nQ 29.59375 56 35.59375 56 \r\nQ 45.5625 56 51.78125 48.09375 \r\nQ 58.015625 40.1875 58.015625 27.296875 \r\nQ 58.015625 14.40625 51.78125 6.484375 \r\nQ 45.5625 -1.421875 35.59375 -1.421875 \r\nQ 29.59375 -1.421875 25.265625 0.953125 \r\nQ 20.953125 3.328125 18.109375 8.203125 \r\nz\r\nM 48.6875 27.296875 \r\nQ 48.6875 37.203125 44.609375 42.84375 \r\nQ 40.53125 48.484375 33.40625 48.484375 \r\nQ 26.265625 48.484375 22.1875 42.84375 \r\nQ 18.109375 37.203125 18.109375 27.296875 \r\nQ 18.109375 17.390625 22.1875 11.75 \r\nQ 26.265625 6.109375 33.40625 6.109375 \r\nQ 40.53125 6.109375 44.609375 11.75 \r\nQ 48.6875 17.390625 48.6875 27.296875 \r\nz\r\n\" id=\"DejaVuSans-112\"/>\r\n       <path d=\"M 64.40625 67.28125 \r\nL 64.40625 56.890625 \r\nQ 59.421875 61.53125 53.78125 63.8125 \r\nQ 48.140625 66.109375 41.796875 66.109375 \r\nQ 29.296875 66.109375 22.65625 58.46875 \r\nQ 16.015625 50.828125 16.015625 36.375 \r\nQ 16.015625 21.96875 22.65625 14.328125 \r\nQ 29.296875 6.6875 41.796875 6.6875 \r\nQ 48.140625 6.6875 53.78125 8.984375 \r\nQ 59.421875 11.28125 64.40625 15.921875 \r\nL 64.40625 5.609375 \r\nQ 59.234375 2.09375 53.4375 0.328125 \r\nQ 47.65625 -1.421875 41.21875 -1.421875 \r\nQ 24.65625 -1.421875 15.125 8.703125 \r\nQ 5.609375 18.84375 5.609375 36.375 \r\nQ 5.609375 53.953125 15.125 64.078125 \r\nQ 24.65625 74.21875 41.21875 74.21875 \r\nQ 47.75 74.21875 53.53125 72.484375 \r\nQ 59.328125 70.75 64.40625 67.28125 \r\nz\r\n\" id=\"DejaVuSans-67\"/>\r\n       <path d=\"M 30.609375 48.390625 \r\nQ 23.390625 48.390625 19.1875 42.75 \r\nQ 14.984375 37.109375 14.984375 27.296875 \r\nQ 14.984375 17.484375 19.15625 11.84375 \r\nQ 23.34375 6.203125 30.609375 6.203125 \r\nQ 37.796875 6.203125 41.984375 11.859375 \r\nQ 46.1875 17.53125 46.1875 27.296875 \r\nQ 46.1875 37.015625 41.984375 42.703125 \r\nQ 37.796875 48.390625 30.609375 48.390625 \r\nz\r\nM 30.609375 56 \r\nQ 42.328125 56 49.015625 48.375 \r\nQ 55.71875 40.765625 55.71875 27.296875 \r\nQ 55.71875 13.875 49.015625 6.21875 \r\nQ 42.328125 -1.421875 30.609375 -1.421875 \r\nQ 18.84375 -1.421875 12.171875 6.21875 \r\nQ 5.515625 13.875 5.515625 27.296875 \r\nQ 5.515625 40.765625 12.171875 48.375 \r\nQ 18.84375 56 30.609375 56 \r\nz\r\nM 27 79.984375 \r\nL 34.234375 79.984375 \r\nL 46.1875 61.625 \r\nL 39.40625 61.625 \r\nL 30.609375 73.578125 \r\nL 21.828125 61.625 \r\nL 15.046875 61.625 \r\nz\r\n\" id=\"DejaVuSans-244\"/>\r\n       <path d=\"M 17.921875 72.90625 \r\nL 17.921875 45.796875 \r\nL 9.625 45.796875 \r\nL 9.625 72.90625 \r\nz\r\n\" id=\"DejaVuSans-39\"/>\r\n       <path d=\"M 5.515625 54.6875 \r\nL 48.1875 54.6875 \r\nL 48.1875 46.484375 \r\nL 14.40625 7.171875 \r\nL 48.1875 7.171875 \r\nL 48.1875 0 \r\nL 4.296875 0 \r\nL 4.296875 8.203125 \r\nL 38.09375 47.515625 \r\nL 5.515625 47.515625 \r\nz\r\n\" id=\"DejaVuSans-122\"/>\r\n       <path d=\"M 8.5 21.578125 \r\nL 8.5 54.6875 \r\nL 17.484375 54.6875 \r\nL 17.484375 21.921875 \r\nQ 17.484375 14.15625 20.5 10.265625 \r\nQ 23.53125 6.390625 29.59375 6.390625 \r\nQ 36.859375 6.390625 41.078125 11.03125 \r\nQ 45.3125 15.671875 45.3125 23.6875 \r\nL 45.3125 54.6875 \r\nL 54.296875 54.6875 \r\nL 54.296875 0 \r\nL 45.3125 0 \r\nL 45.3125 8.40625 \r\nQ 42.046875 3.421875 37.71875 1 \r\nQ 33.40625 -1.421875 27.6875 -1.421875 \r\nQ 18.265625 -1.421875 13.375 4.4375 \r\nQ 8.5 10.296875 8.5 21.578125 \r\nz\r\nM 31.109375 56 \r\nz\r\n\" id=\"DejaVuSans-117\"/>\r\n      </defs>\r\n      <use xlink:href=\"#DejaVuSans-80\"/>\r\n      <use x=\"58.552734\" xlink:href=\"#DejaVuSans-114\"/>\r\n      <use x=\"97.416016\" xlink:href=\"#DejaVuSans-111\"/>\r\n      <use x=\"158.597656\" xlink:href=\"#DejaVuSans-118\"/>\r\n      <use x=\"217.777344\" xlink:href=\"#DejaVuSans-101\"/>\r\n      <use x=\"279.300781\" xlink:href=\"#DejaVuSans-110\"/>\r\n      <use x=\"342.679688\" xlink:href=\"#DejaVuSans-99\"/>\r\n      <use x=\"397.660156\" xlink:href=\"#DejaVuSans-101\"/>\r\n      <use x=\"459.183594\" xlink:href=\"#DejaVuSans-45\"/>\r\n      <use x=\"493.017578\" xlink:href=\"#DejaVuSans-65\"/>\r\n      <use x=\"561.425781\" xlink:href=\"#DejaVuSans-108\"/>\r\n      <use x=\"589.208984\" xlink:href=\"#DejaVuSans-112\"/>\r\n      <use x=\"652.685547\" xlink:href=\"#DejaVuSans-101\"/>\r\n      <use x=\"714.208984\" xlink:href=\"#DejaVuSans-115\"/>\r\n      <use x=\"766.308594\" xlink:href=\"#DejaVuSans-45\"/>\r\n      <use x=\"802.392578\" xlink:href=\"#DejaVuSans-67\"/>\r\n      <use x=\"872.216797\" xlink:href=\"#DejaVuSans-244\"/>\r\n      <use x=\"933.398438\" xlink:href=\"#DejaVuSans-116\"/>\r\n      <use x=\"972.607422\" xlink:href=\"#DejaVuSans-101\"/>\r\n      <use x=\"1034.130859\" xlink:href=\"#DejaVuSans-45\"/>\r\n      <use x=\"1070.214844\" xlink:href=\"#DejaVuSans-100\"/>\r\n      <use x=\"1133.691406\" xlink:href=\"#DejaVuSans-39\"/>\r\n      <use x=\"1161.181641\" xlink:href=\"#DejaVuSans-65\"/>\r\n      <use x=\"1229.589844\" xlink:href=\"#DejaVuSans-122\"/>\r\n      <use x=\"1282.080078\" xlink:href=\"#DejaVuSans-117\"/>\r\n      <use x=\"1345.458984\" xlink:href=\"#DejaVuSans-114\"/>\r\n     </g>\r\n    </g>\r\n   </g>\r\n   <g id=\"text_19\">\r\n    <g clip-path=\"url(#p9eaed15e85)\">\r\n     <!-- Nouvelle-Aquitaine -->\r\n     <g transform=\"translate(127.015884 144.978071)scale(0.18 -0.18)\">\r\n      <defs>\r\n       <path d=\"M 9.8125 72.90625 \r\nL 23.09375 72.90625 \r\nL 55.421875 11.921875 \r\nL 55.421875 72.90625 \r\nL 64.984375 72.90625 \r\nL 64.984375 0 \r\nL 51.703125 0 \r\nL 19.390625 60.984375 \r\nL 19.390625 0 \r\nL 9.8125 0 \r\nz\r\n\" id=\"DejaVuSans-78\"/>\r\n       <path d=\"M 14.796875 27.296875 \r\nQ 14.796875 17.390625 18.875 11.75 \r\nQ 22.953125 6.109375 30.078125 6.109375 \r\nQ 37.203125 6.109375 41.296875 11.75 \r\nQ 45.40625 17.390625 45.40625 27.296875 \r\nQ 45.40625 37.203125 41.296875 42.84375 \r\nQ 37.203125 48.484375 30.078125 48.484375 \r\nQ 22.953125 48.484375 18.875 42.84375 \r\nQ 14.796875 37.203125 14.796875 27.296875 \r\nz\r\nM 45.40625 8.203125 \r\nQ 42.578125 3.328125 38.25 0.953125 \r\nQ 33.9375 -1.421875 27.875 -1.421875 \r\nQ 17.96875 -1.421875 11.734375 6.484375 \r\nQ 5.515625 14.40625 5.515625 27.296875 \r\nQ 5.515625 40.1875 11.734375 48.09375 \r\nQ 17.96875 56 27.875 56 \r\nQ 33.9375 56 38.25 53.625 \r\nQ 42.578125 51.265625 45.40625 46.390625 \r\nL 45.40625 54.6875 \r\nL 54.390625 54.6875 \r\nL 54.390625 -20.796875 \r\nL 45.40625 -20.796875 \r\nz\r\n\" id=\"DejaVuSans-113\"/>\r\n       <path d=\"M 9.421875 54.6875 \r\nL 18.40625 54.6875 \r\nL 18.40625 0 \r\nL 9.421875 0 \r\nz\r\nM 9.421875 75.984375 \r\nL 18.40625 75.984375 \r\nL 18.40625 64.59375 \r\nL 9.421875 64.59375 \r\nz\r\n\" id=\"DejaVuSans-105\"/>\r\n      </defs>\r\n      <use xlink:href=\"#DejaVuSans-78\"/>\r\n      <use x=\"74.804688\" xlink:href=\"#DejaVuSans-111\"/>\r\n      <use x=\"135.986328\" xlink:href=\"#DejaVuSans-117\"/>\r\n      <use x=\"199.365234\" xlink:href=\"#DejaVuSans-118\"/>\r\n      <use x=\"258.544922\" xlink:href=\"#DejaVuSans-101\"/>\r\n      <use x=\"320.068359\" xlink:href=\"#DejaVuSans-108\"/>\r\n      <use x=\"347.851562\" xlink:href=\"#DejaVuSans-108\"/>\r\n      <use x=\"375.634766\" xlink:href=\"#DejaVuSans-101\"/>\r\n      <use x=\"437.158203\" xlink:href=\"#DejaVuSans-45\"/>\r\n      <use x=\"470.992188\" xlink:href=\"#DejaVuSans-65\"/>\r\n      <use x=\"537.650391\" xlink:href=\"#DejaVuSans-113\"/>\r\n      <use x=\"601.126953\" xlink:href=\"#DejaVuSans-117\"/>\r\n      <use x=\"664.505859\" xlink:href=\"#DejaVuSans-105\"/>\r\n      <use x=\"692.289062\" xlink:href=\"#DejaVuSans-116\"/>\r\n      <use x=\"731.498047\" xlink:href=\"#DejaVuSans-97\"/>\r\n      <use x=\"792.777344\" xlink:href=\"#DejaVuSans-105\"/>\r\n      <use x=\"820.560547\" xlink:href=\"#DejaVuSans-110\"/>\r\n      <use x=\"883.939453\" xlink:href=\"#DejaVuSans-101\"/>\r\n     </g>\r\n    </g>\r\n   </g>\r\n   <g id=\"text_20\">\r\n    <g clip-path=\"url(#p9eaed15e85)\">\r\n     <!-- Corse -->\r\n     <g transform=\"translate(71.362319 287.375552)scale(0.18 -0.18)\">\r\n      <use xlink:href=\"#DejaVuSans-67\"/>\r\n      <use x=\"69.824219\" xlink:href=\"#DejaVuSans-111\"/>\r\n      <use x=\"131.005859\" xlink:href=\"#DejaVuSans-114\"/>\r\n      <use x=\"172.119141\" xlink:href=\"#DejaVuSans-115\"/>\r\n      <use x=\"224.21875\" xlink:href=\"#DejaVuSans-101\"/>\r\n     </g>\r\n    </g>\r\n   </g>\r\n   <g id=\"text_21\">\r\n    <g clip-path=\"url(#p9eaed15e85)\">\r\n     <!-- Bretagne -->\r\n     <g transform=\"translate(540.475395 436.554559)scale(0.18 -0.18)\">\r\n      <defs>\r\n       <path d=\"M 19.671875 34.8125 \r\nL 19.671875 8.109375 \r\nL 35.5 8.109375 \r\nQ 43.453125 8.109375 47.28125 11.40625 \r\nQ 51.125 14.703125 51.125 21.484375 \r\nQ 51.125 28.328125 47.28125 31.5625 \r\nQ 43.453125 34.8125 35.5 34.8125 \r\nz\r\nM 19.671875 64.796875 \r\nL 19.671875 42.828125 \r\nL 34.28125 42.828125 \r\nQ 41.5 42.828125 45.03125 45.53125 \r\nQ 48.578125 48.25 48.578125 53.8125 \r\nQ 48.578125 59.328125 45.03125 62.0625 \r\nQ 41.5 64.796875 34.28125 64.796875 \r\nz\r\nM 9.8125 72.90625 \r\nL 35.015625 72.90625 \r\nQ 46.296875 72.90625 52.390625 68.21875 \r\nQ 58.5 63.53125 58.5 54.890625 \r\nQ 58.5 48.1875 55.375 44.234375 \r\nQ 52.25 40.28125 46.1875 39.3125 \r\nQ 53.46875 37.75 57.5 32.78125 \r\nQ 61.53125 27.828125 61.53125 20.40625 \r\nQ 61.53125 10.640625 54.890625 5.3125 \r\nQ 48.25 0 35.984375 0 \r\nL 9.8125 0 \r\nz\r\n\" id=\"DejaVuSans-66\"/>\r\n       <path d=\"M 45.40625 27.984375 \r\nQ 45.40625 37.75 41.375 43.109375 \r\nQ 37.359375 48.484375 30.078125 48.484375 \r\nQ 22.859375 48.484375 18.828125 43.109375 \r\nQ 14.796875 37.75 14.796875 27.984375 \r\nQ 14.796875 18.265625 18.828125 12.890625 \r\nQ 22.859375 7.515625 30.078125 7.515625 \r\nQ 37.359375 7.515625 41.375 12.890625 \r\nQ 45.40625 18.265625 45.40625 27.984375 \r\nz\r\nM 54.390625 6.78125 \r\nQ 54.390625 -7.171875 48.1875 -13.984375 \r\nQ 42 -20.796875 29.203125 -20.796875 \r\nQ 24.46875 -20.796875 20.265625 -20.09375 \r\nQ 16.0625 -19.390625 12.109375 -17.921875 \r\nL 12.109375 -9.1875 \r\nQ 16.0625 -11.328125 19.921875 -12.34375 \r\nQ 23.78125 -13.375 27.78125 -13.375 \r\nQ 36.625 -13.375 41.015625 -8.765625 \r\nQ 45.40625 -4.15625 45.40625 5.171875 \r\nL 45.40625 9.625 \r\nQ 42.625 4.78125 38.28125 2.390625 \r\nQ 33.9375 0 27.875 0 \r\nQ 17.828125 0 11.671875 7.65625 \r\nQ 5.515625 15.328125 5.515625 27.984375 \r\nQ 5.515625 40.671875 11.671875 48.328125 \r\nQ 17.828125 56 27.875 56 \r\nQ 33.9375 56 38.28125 53.609375 \r\nQ 42.625 51.21875 45.40625 46.390625 \r\nL 45.40625 54.6875 \r\nL 54.390625 54.6875 \r\nz\r\n\" id=\"DejaVuSans-103\"/>\r\n      </defs>\r\n      <use xlink:href=\"#DejaVuSans-66\"/>\r\n      <use x=\"68.603516\" xlink:href=\"#DejaVuSans-114\"/>\r\n      <use x=\"107.466797\" xlink:href=\"#DejaVuSans-101\"/>\r\n      <use x=\"168.990234\" xlink:href=\"#DejaVuSans-116\"/>\r\n      <use x=\"208.199219\" xlink:href=\"#DejaVuSans-97\"/>\r\n      <use x=\"269.478516\" xlink:href=\"#DejaVuSans-103\"/>\r\n      <use x=\"332.955078\" xlink:href=\"#DejaVuSans-110\"/>\r\n      <use x=\"396.333984\" xlink:href=\"#DejaVuSans-101\"/>\r\n     </g>\r\n    </g>\r\n   </g>\r\n   <g id=\"text_22\">\r\n    <g clip-path=\"url(#p9eaed15e85)\">\r\n     <!-- Pays-de-la-Loire -->\r\n     <g transform=\"translate(451.627086 569.699763)scale(0.18 -0.18)\">\r\n      <defs>\r\n       <path d=\"M 32.171875 -5.078125 \r\nQ 28.375 -14.84375 24.75 -17.8125 \r\nQ 21.140625 -20.796875 15.09375 -20.796875 \r\nL 7.90625 -20.796875 \r\nL 7.90625 -13.28125 \r\nL 13.1875 -13.28125 \r\nQ 16.890625 -13.28125 18.9375 -11.515625 \r\nQ 21 -9.765625 23.484375 -3.21875 \r\nL 25.09375 0.875 \r\nL 2.984375 54.6875 \r\nL 12.5 54.6875 \r\nL 29.59375 11.921875 \r\nL 46.6875 54.6875 \r\nL 56.203125 54.6875 \r\nz\r\n\" id=\"DejaVuSans-121\"/>\r\n       <path d=\"M 9.8125 72.90625 \r\nL 19.671875 72.90625 \r\nL 19.671875 8.296875 \r\nL 55.171875 8.296875 \r\nL 55.171875 0 \r\nL 9.8125 0 \r\nz\r\n\" id=\"DejaVuSans-76\"/>\r\n      </defs>\r\n      <use xlink:href=\"#DejaVuSans-80\"/>\r\n      <use x=\"55.802734\" xlink:href=\"#DejaVuSans-97\"/>\r\n      <use x=\"117.082031\" xlink:href=\"#DejaVuSans-121\"/>\r\n      <use x=\"176.261719\" xlink:href=\"#DejaVuSans-115\"/>\r\n      <use x=\"228.361328\" xlink:href=\"#DejaVuSans-45\"/>\r\n      <use x=\"264.445312\" xlink:href=\"#DejaVuSans-100\"/>\r\n      <use x=\"327.921875\" xlink:href=\"#DejaVuSans-101\"/>\r\n      <use x=\"389.445312\" xlink:href=\"#DejaVuSans-45\"/>\r\n      <use x=\"425.529297\" xlink:href=\"#DejaVuSans-108\"/>\r\n      <use x=\"453.3125\" xlink:href=\"#DejaVuSans-97\"/>\r\n      <use x=\"514.591797\" xlink:href=\"#DejaVuSans-45\"/>\r\n      <use x=\"550.675781\" xlink:href=\"#DejaVuSans-76\"/>\r\n      <use x=\"604.638672\" xlink:href=\"#DejaVuSans-111\"/>\r\n      <use x=\"665.820312\" xlink:href=\"#DejaVuSans-105\"/>\r\n      <use x=\"693.603516\" xlink:href=\"#DejaVuSans-114\"/>\r\n      <use x=\"732.466797\" xlink:href=\"#DejaVuSans-101\"/>\r\n     </g>\r\n    </g>\r\n   </g>\r\n   <g id=\"text_23\">\r\n    <g clip-path=\"url(#p9eaed15e85)\">\r\n     <!-- Île-de-France -->\r\n     <g transform=\"translate(343.48368 365.521955)scale(0.18 -0.18)\">\r\n      <defs>\r\n       <path d=\"M 9.8125 72.90625 \r\nL 19.671875 72.90625 \r\nL 19.671875 0 \r\nL 9.8125 0 \r\nz\r\nM 10.203125 92.828125 \r\nL 19.390625 92.828125 \r\nL 29.6875 79.84375 \r\nL 22.90625 79.84375 \r\nL 14.796875 88.53125 \r\nL 6.6875 79.84375 \r\nL -0.09375 79.84375 \r\nz\r\n\" id=\"DejaVuSans-206\"/>\r\n       <path d=\"M 9.8125 72.90625 \r\nL 51.703125 72.90625 \r\nL 51.703125 64.59375 \r\nL 19.671875 64.59375 \r\nL 19.671875 43.109375 \r\nL 48.578125 43.109375 \r\nL 48.578125 34.8125 \r\nL 19.671875 34.8125 \r\nL 19.671875 0 \r\nL 9.8125 0 \r\nz\r\n\" id=\"DejaVuSans-70\"/>\r\n      </defs>\r\n      <use xlink:href=\"#DejaVuSans-206\"/>\r\n      <use x=\"29.492188\" xlink:href=\"#DejaVuSans-108\"/>\r\n      <use x=\"57.275391\" xlink:href=\"#DejaVuSans-101\"/>\r\n      <use x=\"118.798828\" xlink:href=\"#DejaVuSans-45\"/>\r\n      <use x=\"154.882812\" xlink:href=\"#DejaVuSans-100\"/>\r\n      <use x=\"218.359375\" xlink:href=\"#DejaVuSans-101\"/>\r\n      <use x=\"279.882812\" xlink:href=\"#DejaVuSans-45\"/>\r\n      <use x=\"315.966797\" xlink:href=\"#DejaVuSans-70\"/>\r\n      <use x=\"366.236328\" xlink:href=\"#DejaVuSans-114\"/>\r\n      <use x=\"407.349609\" xlink:href=\"#DejaVuSans-97\"/>\r\n      <use x=\"468.628906\" xlink:href=\"#DejaVuSans-110\"/>\r\n      <use x=\"532.007812\" xlink:href=\"#DejaVuSans-99\"/>\r\n      <use x=\"586.988281\" xlink:href=\"#DejaVuSans-101\"/>\r\n     </g>\r\n    </g>\r\n   </g>\r\n   <g id=\"text_24\">\r\n    <g clip-path=\"url(#p9eaed15e85)\">\r\n     <!-- Centre-Val de Loire -->\r\n     <g transform=\"translate(425.875977 169.635042)scale(0.18 -0.18)\">\r\n      <defs>\r\n       <path d=\"M 28.609375 0 \r\nL 0.78125 72.90625 \r\nL 11.078125 72.90625 \r\nL 34.1875 11.53125 \r\nL 57.328125 72.90625 \r\nL 67.578125 72.90625 \r\nL 39.796875 0 \r\nz\r\n\" id=\"DejaVuSans-86\"/>\r\n      </defs>\r\n      <use xlink:href=\"#DejaVuSans-67\"/>\r\n      <use x=\"69.824219\" xlink:href=\"#DejaVuSans-101\"/>\r\n      <use x=\"131.347656\" xlink:href=\"#DejaVuSans-110\"/>\r\n      <use x=\"194.726562\" xlink:href=\"#DejaVuSans-116\"/>\r\n      <use x=\"233.935547\" xlink:href=\"#DejaVuSans-114\"/>\r\n      <use x=\"272.798828\" xlink:href=\"#DejaVuSans-101\"/>\r\n      <use x=\"334.322266\" xlink:href=\"#DejaVuSans-45\"/>\r\n      <use x=\"364.53125\" xlink:href=\"#DejaVuSans-86\"/>\r\n      <use x=\"425.189453\" xlink:href=\"#DejaVuSans-97\"/>\r\n      <use x=\"486.46875\" xlink:href=\"#DejaVuSans-108\"/>\r\n      <use x=\"514.251953\" xlink:href=\"#DejaVuSans-32\"/>\r\n      <use x=\"546.039062\" xlink:href=\"#DejaVuSans-100\"/>\r\n      <use x=\"609.515625\" xlink:href=\"#DejaVuSans-101\"/>\r\n      <use x=\"671.039062\" xlink:href=\"#DejaVuSans-32\"/>\r\n      <use x=\"702.826172\" xlink:href=\"#DejaVuSans-76\"/>\r\n      <use x=\"756.789062\" xlink:href=\"#DejaVuSans-111\"/>\r\n      <use x=\"817.970703\" xlink:href=\"#DejaVuSans-105\"/>\r\n      <use x=\"845.753906\" xlink:href=\"#DejaVuSans-114\"/>\r\n      <use x=\"884.617188\" xlink:href=\"#DejaVuSans-101\"/>\r\n     </g>\r\n    </g>\r\n   </g>\r\n   <g id=\"text_25\">\r\n    <g clip-path=\"url(#p9eaed15e85)\">\r\n     <!-- Bourgogne-Franche-Comté -->\r\n     <g transform=\"translate(77.983974 463.614536)scale(0.18 -0.18)\">\r\n      <defs>\r\n       <path d=\"M 54.890625 33.015625 \r\nL 54.890625 0 \r\nL 45.90625 0 \r\nL 45.90625 32.71875 \r\nQ 45.90625 40.484375 42.875 44.328125 \r\nQ 39.84375 48.1875 33.796875 48.1875 \r\nQ 26.515625 48.1875 22.3125 43.546875 \r\nQ 18.109375 38.921875 18.109375 30.90625 \r\nL 18.109375 0 \r\nL 9.078125 0 \r\nL 9.078125 75.984375 \r\nL 18.109375 75.984375 \r\nL 18.109375 46.1875 \r\nQ 21.34375 51.125 25.703125 53.5625 \r\nQ 30.078125 56 35.796875 56 \r\nQ 45.21875 56 50.046875 50.171875 \r\nQ 54.890625 44.34375 54.890625 33.015625 \r\nz\r\n\" id=\"DejaVuSans-104\"/>\r\n       <path d=\"M 52 44.1875 \r\nQ 55.375 50.25 60.0625 53.125 \r\nQ 64.75 56 71.09375 56 \r\nQ 79.640625 56 84.28125 50.015625 \r\nQ 88.921875 44.046875 88.921875 33.015625 \r\nL 88.921875 0 \r\nL 79.890625 0 \r\nL 79.890625 32.71875 \r\nQ 79.890625 40.578125 77.09375 44.375 \r\nQ 74.3125 48.1875 68.609375 48.1875 \r\nQ 61.625 48.1875 57.5625 43.546875 \r\nQ 53.515625 38.921875 53.515625 30.90625 \r\nL 53.515625 0 \r\nL 44.484375 0 \r\nL 44.484375 32.71875 \r\nQ 44.484375 40.625 41.703125 44.40625 \r\nQ 38.921875 48.1875 33.109375 48.1875 \r\nQ 26.21875 48.1875 22.15625 43.53125 \r\nQ 18.109375 38.875 18.109375 30.90625 \r\nL 18.109375 0 \r\nL 9.078125 0 \r\nL 9.078125 54.6875 \r\nL 18.109375 54.6875 \r\nL 18.109375 46.1875 \r\nQ 21.1875 51.21875 25.484375 53.609375 \r\nQ 29.78125 56 35.6875 56 \r\nQ 41.65625 56 45.828125 52.96875 \r\nQ 50 49.953125 52 44.1875 \r\nz\r\n\" id=\"DejaVuSans-109\"/>\r\n       <path d=\"M 56.203125 29.59375 \r\nL 56.203125 25.203125 \r\nL 14.890625 25.203125 \r\nQ 15.484375 15.921875 20.484375 11.0625 \r\nQ 25.484375 6.203125 34.421875 6.203125 \r\nQ 39.59375 6.203125 44.453125 7.46875 \r\nQ 49.3125 8.734375 54.109375 11.28125 \r\nL 54.109375 2.78125 \r\nQ 49.265625 0.734375 44.1875 -0.34375 \r\nQ 39.109375 -1.421875 33.890625 -1.421875 \r\nQ 20.796875 -1.421875 13.15625 6.1875 \r\nQ 5.515625 13.8125 5.515625 26.8125 \r\nQ 5.515625 40.234375 12.765625 48.109375 \r\nQ 20.015625 56 32.328125 56 \r\nQ 43.359375 56 49.78125 48.890625 \r\nQ 56.203125 41.796875 56.203125 29.59375 \r\nz\r\nM 47.21875 32.234375 \r\nQ 47.125 39.59375 43.09375 43.984375 \r\nQ 39.0625 48.390625 32.421875 48.390625 \r\nQ 24.90625 48.390625 20.390625 44.140625 \r\nQ 15.875 39.890625 15.1875 32.171875 \r\nz\r\nM 38.578125 79.984375 \r\nL 48.296875 79.984375 \r\nL 32.375 61.625 \r\nL 24.90625 61.625 \r\nz\r\n\" id=\"DejaVuSans-233\"/>\r\n      </defs>\r\n      <use xlink:href=\"#DejaVuSans-66\"/>\r\n      <use x=\"68.603516\" xlink:href=\"#DejaVuSans-111\"/>\r\n      <use x=\"129.785156\" xlink:href=\"#DejaVuSans-117\"/>\r\n      <use x=\"193.164062\" xlink:href=\"#DejaVuSans-114\"/>\r\n      <use x=\"232.527344\" xlink:href=\"#DejaVuSans-103\"/>\r\n      <use x=\"296.003906\" xlink:href=\"#DejaVuSans-111\"/>\r\n      <use x=\"357.185547\" xlink:href=\"#DejaVuSans-103\"/>\r\n      <use x=\"420.662109\" xlink:href=\"#DejaVuSans-110\"/>\r\n      <use x=\"484.041016\" xlink:href=\"#DejaVuSans-101\"/>\r\n      <use x=\"545.564453\" xlink:href=\"#DejaVuSans-45\"/>\r\n      <use x=\"581.648438\" xlink:href=\"#DejaVuSans-70\"/>\r\n      <use x=\"631.917969\" xlink:href=\"#DejaVuSans-114\"/>\r\n      <use x=\"673.03125\" xlink:href=\"#DejaVuSans-97\"/>\r\n      <use x=\"734.310547\" xlink:href=\"#DejaVuSans-110\"/>\r\n      <use x=\"797.689453\" xlink:href=\"#DejaVuSans-99\"/>\r\n      <use x=\"852.669922\" xlink:href=\"#DejaVuSans-104\"/>\r\n      <use x=\"916.048828\" xlink:href=\"#DejaVuSans-101\"/>\r\n      <use x=\"977.572266\" xlink:href=\"#DejaVuSans-45\"/>\r\n      <use x=\"1013.65625\" xlink:href=\"#DejaVuSans-67\"/>\r\n      <use x=\"1083.480469\" xlink:href=\"#DejaVuSans-111\"/>\r\n      <use x=\"1144.662109\" xlink:href=\"#DejaVuSans-109\"/>\r\n      <use x=\"1242.074219\" xlink:href=\"#DejaVuSans-116\"/>\r\n      <use x=\"1281.283203\" xlink:href=\"#DejaVuSans-233\"/>\r\n     </g>\r\n    </g>\r\n   </g>\r\n   <g id=\"text_26\">\r\n    <g clip-path=\"url(#p9eaed15e85)\">\r\n     <!-- Auvergne-Rhône-Alpes -->\r\n     <g transform=\"translate(44.467206 554.914949)scale(0.18 -0.18)\">\r\n      <defs>\r\n       <path d=\"M 44.390625 34.1875 \r\nQ 47.5625 33.109375 50.5625 29.59375 \r\nQ 53.5625 26.078125 56.59375 19.921875 \r\nL 66.609375 0 \r\nL 56 0 \r\nL 46.6875 18.703125 \r\nQ 43.0625 26.03125 39.671875 28.421875 \r\nQ 36.28125 30.8125 30.421875 30.8125 \r\nL 19.671875 30.8125 \r\nL 19.671875 0 \r\nL 9.8125 0 \r\nL 9.8125 72.90625 \r\nL 32.078125 72.90625 \r\nQ 44.578125 72.90625 50.734375 67.671875 \r\nQ 56.890625 62.453125 56.890625 51.90625 \r\nQ 56.890625 45.015625 53.6875 40.46875 \r\nQ 50.484375 35.9375 44.390625 34.1875 \r\nz\r\nM 19.671875 64.796875 \r\nL 19.671875 38.921875 \r\nL 32.078125 38.921875 \r\nQ 39.203125 38.921875 42.84375 42.21875 \r\nQ 46.484375 45.515625 46.484375 51.90625 \r\nQ 46.484375 58.296875 42.84375 61.546875 \r\nQ 39.203125 64.796875 32.078125 64.796875 \r\nz\r\n\" id=\"DejaVuSans-82\"/>\r\n      </defs>\r\n      <use xlink:href=\"#DejaVuSans-65\"/>\r\n      <use x=\"68.408203\" xlink:href=\"#DejaVuSans-117\"/>\r\n      <use x=\"131.787109\" xlink:href=\"#DejaVuSans-118\"/>\r\n      <use x=\"190.966797\" xlink:href=\"#DejaVuSans-101\"/>\r\n      <use x=\"252.490234\" xlink:href=\"#DejaVuSans-114\"/>\r\n      <use x=\"291.853516\" xlink:href=\"#DejaVuSans-103\"/>\r\n      <use x=\"355.330078\" xlink:href=\"#DejaVuSans-110\"/>\r\n      <use x=\"418.708984\" xlink:href=\"#DejaVuSans-101\"/>\r\n      <use x=\"480.232422\" xlink:href=\"#DejaVuSans-45\"/>\r\n      <use x=\"516.316406\" xlink:href=\"#DejaVuSans-82\"/>\r\n      <use x=\"585.798828\" xlink:href=\"#DejaVuSans-104\"/>\r\n      <use x=\"649.177734\" xlink:href=\"#DejaVuSans-244\"/>\r\n      <use x=\"710.359375\" xlink:href=\"#DejaVuSans-110\"/>\r\n      <use x=\"773.738281\" xlink:href=\"#DejaVuSans-101\"/>\r\n      <use x=\"835.261719\" xlink:href=\"#DejaVuSans-45\"/>\r\n      <use x=\"869.095703\" xlink:href=\"#DejaVuSans-65\"/>\r\n      <use x=\"937.503906\" xlink:href=\"#DejaVuSans-108\"/>\r\n      <use x=\"965.287109\" xlink:href=\"#DejaVuSans-112\"/>\r\n      <use x=\"1028.763672\" xlink:href=\"#DejaVuSans-101\"/>\r\n      <use x=\"1090.287109\" xlink:href=\"#DejaVuSans-115\"/>\r\n     </g>\r\n    </g>\r\n   </g>\r\n   <g id=\"text_27\">\r\n    <g clip-path=\"url(#p9eaed15e85)\">\r\n     <!-- Other european country -->\r\n     <g transform=\"translate(253.918202 635.156219)scale(0.18 -0.18)\">\r\n      <defs>\r\n       <path d=\"M 39.40625 66.21875 \r\nQ 28.65625 66.21875 22.328125 58.203125 \r\nQ 16.015625 50.203125 16.015625 36.375 \r\nQ 16.015625 22.609375 22.328125 14.59375 \r\nQ 28.65625 6.59375 39.40625 6.59375 \r\nQ 50.140625 6.59375 56.421875 14.59375 \r\nQ 62.703125 22.609375 62.703125 36.375 \r\nQ 62.703125 50.203125 56.421875 58.203125 \r\nQ 50.140625 66.21875 39.40625 66.21875 \r\nz\r\nM 39.40625 74.21875 \r\nQ 54.734375 74.21875 63.90625 63.9375 \r\nQ 73.09375 53.65625 73.09375 36.375 \r\nQ 73.09375 19.140625 63.90625 8.859375 \r\nQ 54.734375 -1.421875 39.40625 -1.421875 \r\nQ 24.03125 -1.421875 14.8125 8.828125 \r\nQ 5.609375 19.09375 5.609375 36.375 \r\nQ 5.609375 53.65625 14.8125 63.9375 \r\nQ 24.03125 74.21875 39.40625 74.21875 \r\nz\r\n\" id=\"DejaVuSans-79\"/>\r\n      </defs>\r\n      <use xlink:href=\"#DejaVuSans-79\"/>\r\n      <use x=\"78.710938\" xlink:href=\"#DejaVuSans-116\"/>\r\n      <use x=\"117.919922\" xlink:href=\"#DejaVuSans-104\"/>\r\n      <use x=\"181.298828\" xlink:href=\"#DejaVuSans-101\"/>\r\n      <use x=\"242.822266\" xlink:href=\"#DejaVuSans-114\"/>\r\n      <use x=\"283.935547\" xlink:href=\"#DejaVuSans-32\"/>\r\n      <use x=\"315.722656\" xlink:href=\"#DejaVuSans-101\"/>\r\n      <use x=\"377.246094\" xlink:href=\"#DejaVuSans-117\"/>\r\n      <use x=\"440.625\" xlink:href=\"#DejaVuSans-114\"/>\r\n      <use x=\"479.488281\" xlink:href=\"#DejaVuSans-111\"/>\r\n      <use x=\"540.669922\" xlink:href=\"#DejaVuSans-112\"/>\r\n      <use x=\"604.146484\" xlink:href=\"#DejaVuSans-101\"/>\r\n      <use x=\"665.669922\" xlink:href=\"#DejaVuSans-97\"/>\r\n      <use x=\"726.949219\" xlink:href=\"#DejaVuSans-110\"/>\r\n      <use x=\"790.328125\" xlink:href=\"#DejaVuSans-32\"/>\r\n      <use x=\"822.115234\" xlink:href=\"#DejaVuSans-99\"/>\r\n      <use x=\"877.095703\" xlink:href=\"#DejaVuSans-111\"/>\r\n      <use x=\"938.277344\" xlink:href=\"#DejaVuSans-117\"/>\r\n      <use x=\"1001.65625\" xlink:href=\"#DejaVuSans-110\"/>\r\n      <use x=\"1065.035156\" xlink:href=\"#DejaVuSans-116\"/>\r\n      <use x=\"1104.244141\" xlink:href=\"#DejaVuSans-114\"/>\r\n      <use x=\"1145.357422\" xlink:href=\"#DejaVuSans-121\"/>\r\n     </g>\r\n    </g>\r\n   </g>\r\n   <g id=\"text_28\">\r\n    <g clip-path=\"url(#p9eaed15e85)\">\r\n     <!-- Occitanie -->\r\n     <g transform=\"translate(332.089009 96.048781)scale(0.18 -0.18)\">\r\n      <use xlink:href=\"#DejaVuSans-79\"/>\r\n      <use x=\"78.710938\" xlink:href=\"#DejaVuSans-99\"/>\r\n      <use x=\"133.691406\" xlink:href=\"#DejaVuSans-99\"/>\r\n      <use x=\"188.671875\" xlink:href=\"#DejaVuSans-105\"/>\r\n      <use x=\"216.455078\" xlink:href=\"#DejaVuSans-116\"/>\r\n      <use x=\"255.664062\" xlink:href=\"#DejaVuSans-97\"/>\r\n      <use x=\"316.943359\" xlink:href=\"#DejaVuSans-110\"/>\r\n      <use x=\"380.322266\" xlink:href=\"#DejaVuSans-105\"/>\r\n      <use x=\"408.105469\" xlink:href=\"#DejaVuSans-101\"/>\r\n     </g>\r\n    </g>\r\n   </g>\r\n   <g id=\"text_29\">\r\n    <g clip-path=\"url(#p9eaed15e85)\">\r\n     <!-- Normandie -->\r\n     <g transform=\"translate(569.174527 306.904525)scale(0.18 -0.18)\">\r\n      <use xlink:href=\"#DejaVuSans-78\"/>\r\n      <use x=\"74.804688\" xlink:href=\"#DejaVuSans-111\"/>\r\n      <use x=\"135.986328\" xlink:href=\"#DejaVuSans-114\"/>\r\n      <use x=\"175.349609\" xlink:href=\"#DejaVuSans-109\"/>\r\n      <use x=\"272.761719\" xlink:href=\"#DejaVuSans-97\"/>\r\n      <use x=\"334.041016\" xlink:href=\"#DejaVuSans-110\"/>\r\n      <use x=\"397.419922\" xlink:href=\"#DejaVuSans-100\"/>\r\n      <use x=\"460.896484\" xlink:href=\"#DejaVuSans-105\"/>\r\n      <use x=\"488.679688\" xlink:href=\"#DejaVuSans-101\"/>\r\n     </g>\r\n    </g>\r\n   </g>\r\n   <g id=\"text_30\">\r\n    <!-- French patient transfers' graph -->\r\n    <g transform=\"translate(124.88625 28.475625)scale(0.28 -0.28)\">\r\n     <defs>\r\n      <path d=\"M 37.109375 75.984375 \r\nL 37.109375 68.5 \r\nL 28.515625 68.5 \r\nQ 23.6875 68.5 21.796875 66.546875 \r\nQ 19.921875 64.59375 19.921875 59.515625 \r\nL 19.921875 54.6875 \r\nL 34.71875 54.6875 \r\nL 34.71875 47.703125 \r\nL 19.921875 47.703125 \r\nL 19.921875 0 \r\nL 10.890625 0 \r\nL 10.890625 47.703125 \r\nL 2.296875 47.703125 \r\nL 2.296875 54.6875 \r\nL 10.890625 54.6875 \r\nL 10.890625 58.5 \r\nQ 10.890625 67.625 15.140625 71.796875 \r\nQ 19.390625 75.984375 28.609375 75.984375 \r\nz\r\n\" id=\"DejaVuSans-102\"/>\r\n     </defs>\r\n     <use xlink:href=\"#DejaVuSans-70\"/>\r\n     <use x=\"50.269531\" xlink:href=\"#DejaVuSans-114\"/>\r\n     <use x=\"89.132812\" xlink:href=\"#DejaVuSans-101\"/>\r\n     <use x=\"150.65625\" xlink:href=\"#DejaVuSans-110\"/>\r\n     <use x=\"214.035156\" xlink:href=\"#DejaVuSans-99\"/>\r\n     <use x=\"269.015625\" xlink:href=\"#DejaVuSans-104\"/>\r\n     <use x=\"332.394531\" xlink:href=\"#DejaVuSans-32\"/>\r\n     <use x=\"364.181641\" xlink:href=\"#DejaVuSans-112\"/>\r\n     <use x=\"427.658203\" xlink:href=\"#DejaVuSans-97\"/>\r\n     <use x=\"488.9375\" xlink:href=\"#DejaVuSans-116\"/>\r\n     <use x=\"528.146484\" xlink:href=\"#DejaVuSans-105\"/>\r\n     <use x=\"555.929688\" xlink:href=\"#DejaVuSans-101\"/>\r\n     <use x=\"617.453125\" xlink:href=\"#DejaVuSans-110\"/>\r\n     <use x=\"680.832031\" xlink:href=\"#DejaVuSans-116\"/>\r\n     <use x=\"720.041016\" xlink:href=\"#DejaVuSans-32\"/>\r\n     <use x=\"751.828125\" xlink:href=\"#DejaVuSans-116\"/>\r\n     <use x=\"791.037109\" xlink:href=\"#DejaVuSans-114\"/>\r\n     <use x=\"832.150391\" xlink:href=\"#DejaVuSans-97\"/>\r\n     <use x=\"893.429688\" xlink:href=\"#DejaVuSans-110\"/>\r\n     <use x=\"956.808594\" xlink:href=\"#DejaVuSans-115\"/>\r\n     <use x=\"1008.908203\" xlink:href=\"#DejaVuSans-102\"/>\r\n     <use x=\"1044.113281\" xlink:href=\"#DejaVuSans-101\"/>\r\n     <use x=\"1105.636719\" xlink:href=\"#DejaVuSans-114\"/>\r\n     <use x=\"1146.75\" xlink:href=\"#DejaVuSans-115\"/>\r\n     <use x=\"1198.849609\" xlink:href=\"#DejaVuSans-39\"/>\r\n     <use x=\"1226.339844\" xlink:href=\"#DejaVuSans-32\"/>\r\n     <use x=\"1258.126953\" xlink:href=\"#DejaVuSans-103\"/>\r\n     <use x=\"1321.603516\" xlink:href=\"#DejaVuSans-114\"/>\r\n     <use x=\"1362.716797\" xlink:href=\"#DejaVuSans-97\"/>\r\n     <use x=\"1423.996094\" xlink:href=\"#DejaVuSans-112\"/>\r\n     <use x=\"1487.472656\" xlink:href=\"#DejaVuSans-104\"/>\r\n    </g>\r\n   </g>\r\n  </g>\r\n </g>\r\n <defs>\r\n  <clipPath id=\"p9eaed15e85\">\r\n   <rect height=\"652.32\" width=\"669.6\" x=\"7.2\" y=\"34.475625\"/>\r\n  </clipPath>\r\n </defs>\r\n</svg>\r\n",
      "image/png": "[encoded data removed]"
     },
     "metadata": {}
    },
    {
     "output_type": "display_data",
     "data": {
      "text/plain": "<Figure size 864x864 with 0 Axes>"
     },
     "metadata": {}
    },
    {
     "output_type": "display_data",
     "data": {
      "text/plain": "<Figure size 432x288 with 1 Axes>",
      "image/svg+xml": "<?xml version=\"1.0\" encoding=\"utf-8\" standalone=\"no\"?>\r\n<!DOCTYPE svg PUBLIC \"-//W3C//DTD SVG 1.1//EN\"\r\n  \"http://www.w3.org/Graphics/SVG/1.1/DTD/svg11.dtd\">\r\n<!-- Created with matplotlib (https://matplotlib.org/) -->\r\n<svg height=\"271.695312pt\" version=\"1.1\" viewBox=\"0 0 329.470312 271.695312\" width=\"329.470312pt\" xmlns=\"http://www.w3.org/2000/svg\" xmlns:xlink=\"http://www.w3.org/1999/xlink\">\r\n <metadata>\r\n  <rdf:RDF xmlns:cc=\"http://creativecommons.org/ns#\" xmlns:dc=\"http://purl.org/dc/elements/1.1/\" xmlns:rdf=\"http://www.w3.org/1999/02/22-rdf-syntax-ns#\">\r\n   <cc:Work>\r\n    <dc:type rdf:resource=\"http://purl.org/dc/dcmitype/StillImage\"/>\r\n    <dc:date>2021-04-23T14:50:43.422231</dc:date>\r\n    <dc:format>image/svg+xml</dc:format>\r\n    <dc:creator>\r\n     <cc:Agent>\r\n      <dc:title>Matplotlib v3.3.4, https://matplotlib.org/</dc:title>\r\n     </cc:Agent>\r\n    </dc:creator>\r\n   </cc:Work>\r\n  </rdf:RDF>\r\n </metadata>\r\n <defs>\r\n  <style type=\"text/css\">*{stroke-linecap:butt;stroke-linejoin:round;}</style>\r\n </defs>\r\n <g id=\"figure_1\">\r\n  <g id=\"patch_1\">\r\n   <path d=\"M -0 271.695312 \r\nL 329.470313 271.695312 \r\nL 329.470313 0 \r\nL -0 0 \r\nz\r\n\" style=\"fill:none;\"/>\r\n  </g>\r\n  <g id=\"axes_1\">\r\n   <g id=\"patch_2\">\r\n    <path d=\"M 56.015156 260.995313 \r\nL 273.455156 260.995313 \r\nL 273.455156 43.555313 \r\nL 56.015156 43.555313 \r\nz\r\n\" style=\"fill:#ffffff;\"/>\r\n   </g>\r\n   <g id=\"matplotlib.axis_1\">\r\n    <g id=\"xtick_1\">\r\n     <g id=\"line2d_1\">\r\n      <defs>\r\n       <path d=\"M 0 0 \r\nL 0 3.5 \r\n\" id=\"m3ff0ccbe03\" style=\"stroke:#000000;stroke-width:0.8;\"/>\r\n      </defs>\r\n      <g>\r\n       <use style=\"stroke:#000000;stroke-width:0.8;\" x=\"64.378233\" xlink:href=\"#m3ff0ccbe03\" y=\"260.995313\"/>\r\n      </g>\r\n     </g>\r\n     <g id=\"line2d_2\">\r\n      <defs>\r\n       <path d=\"M 0 0 \r\nL 0 -3.5 \r\n\" id=\"m9e0f86fdb2\" style=\"stroke:#000000;stroke-width:0.8;\"/>\r\n      </defs>\r\n      <g>\r\n       <use style=\"stroke:#000000;stroke-width:0.8;\" x=\"64.378233\" xlink:href=\"#m9e0f86fdb2\" y=\"43.555313\"/>\r\n      </g>\r\n     </g>\r\n     <g id=\"text_1\">\r\n      <!-- 0 -->\r\n      <g transform=\"translate(61.196983 34.475625)scale(0.1 -0.1)\">\r\n       <defs>\r\n        <path d=\"M 31.78125 66.40625 \r\nQ 24.171875 66.40625 20.328125 58.90625 \r\nQ 16.5 51.421875 16.5 36.375 \r\nQ 16.5 21.390625 20.328125 13.890625 \r\nQ 24.171875 6.390625 31.78125 6.390625 \r\nQ 39.453125 6.390625 43.28125 13.890625 \r\nQ 47.125 21.390625 47.125 36.375 \r\nQ 47.125 51.421875 43.28125 58.90625 \r\nQ 39.453125 66.40625 31.78125 66.40625 \r\nz\r\nM 31.78125 74.21875 \r\nQ 44.046875 74.21875 50.515625 64.515625 \r\nQ 56.984375 54.828125 56.984375 36.375 \r\nQ 56.984375 17.96875 50.515625 8.265625 \r\nQ 44.046875 -1.421875 31.78125 -1.421875 \r\nQ 19.53125 -1.421875 13.0625 8.265625 \r\nQ 6.59375 17.96875 6.59375 36.375 \r\nQ 6.59375 54.828125 13.0625 64.515625 \r\nQ 19.53125 74.21875 31.78125 74.21875 \r\nz\r\n\" id=\"DejaVuSans-48\"/>\r\n       </defs>\r\n       <use xlink:href=\"#DejaVuSans-48\"/>\r\n      </g>\r\n     </g>\r\n    </g>\r\n    <g id=\"xtick_2\">\r\n     <g id=\"line2d_3\">\r\n      <g>\r\n       <use style=\"stroke:#000000;stroke-width:0.8;\" x=\"97.830541\" xlink:href=\"#m3ff0ccbe03\" y=\"260.995313\"/>\r\n      </g>\r\n     </g>\r\n     <g id=\"line2d_4\">\r\n      <g>\r\n       <use style=\"stroke:#000000;stroke-width:0.8;\" x=\"97.830541\" xlink:href=\"#m9e0f86fdb2\" y=\"43.555313\"/>\r\n      </g>\r\n     </g>\r\n     <g id=\"text_2\">\r\n      <!-- 2 -->\r\n      <g transform=\"translate(94.649291 34.475625)scale(0.1 -0.1)\">\r\n       <defs>\r\n        <path d=\"M 19.1875 8.296875 \r\nL 53.609375 8.296875 \r\nL 53.609375 0 \r\nL 7.328125 0 \r\nL 7.328125 8.296875 \r\nQ 12.9375 14.109375 22.625 23.890625 \r\nQ 32.328125 33.6875 34.8125 36.53125 \r\nQ 39.546875 41.84375 41.421875 45.53125 \r\nQ 43.3125 49.21875 43.3125 52.78125 \r\nQ 43.3125 58.59375 39.234375 62.25 \r\nQ 35.15625 65.921875 28.609375 65.921875 \r\nQ 23.96875 65.921875 18.8125 64.3125 \r\nQ 13.671875 62.703125 7.8125 59.421875 \r\nL 7.8125 69.390625 \r\nQ 13.765625 71.78125 18.9375 73 \r\nQ 24.125 74.21875 28.421875 74.21875 \r\nQ 39.75 74.21875 46.484375 68.546875 \r\nQ 53.21875 62.890625 53.21875 53.421875 \r\nQ 53.21875 48.921875 51.53125 44.890625 \r\nQ 49.859375 40.875 45.40625 35.40625 \r\nQ 44.1875 33.984375 37.640625 27.21875 \r\nQ 31.109375 20.453125 19.1875 8.296875 \r\nz\r\n\" id=\"DejaVuSans-50\"/>\r\n       </defs>\r\n       <use xlink:href=\"#DejaVuSans-50\"/>\r\n      </g>\r\n     </g>\r\n    </g>\r\n    <g id=\"xtick_3\">\r\n     <g id=\"line2d_5\">\r\n      <g>\r\n       <use style=\"stroke:#000000;stroke-width:0.8;\" x=\"131.282849\" xlink:href=\"#m3ff0ccbe03\" y=\"260.995313\"/>\r\n      </g>\r\n     </g>\r\n     <g id=\"line2d_6\">\r\n      <g>\r\n       <use style=\"stroke:#000000;stroke-width:0.8;\" x=\"131.282849\" xlink:href=\"#m9e0f86fdb2\" y=\"43.555313\"/>\r\n      </g>\r\n     </g>\r\n     <g id=\"text_3\">\r\n      <!-- 4 -->\r\n      <g transform=\"translate(128.101599 34.475625)scale(0.1 -0.1)\">\r\n       <defs>\r\n        <path d=\"M 37.796875 64.3125 \r\nL 12.890625 25.390625 \r\nL 37.796875 25.390625 \r\nz\r\nM 35.203125 72.90625 \r\nL 47.609375 72.90625 \r\nL 47.609375 25.390625 \r\nL 58.015625 25.390625 \r\nL 58.015625 17.1875 \r\nL 47.609375 17.1875 \r\nL 47.609375 0 \r\nL 37.796875 0 \r\nL 37.796875 17.1875 \r\nL 4.890625 17.1875 \r\nL 4.890625 26.703125 \r\nz\r\n\" id=\"DejaVuSans-52\"/>\r\n       </defs>\r\n       <use xlink:href=\"#DejaVuSans-52\"/>\r\n      </g>\r\n     </g>\r\n    </g>\r\n    <g id=\"xtick_4\">\r\n     <g id=\"line2d_7\">\r\n      <g>\r\n       <use style=\"stroke:#000000;stroke-width:0.8;\" x=\"164.735156\" xlink:href=\"#m3ff0ccbe03\" y=\"260.995313\"/>\r\n      </g>\r\n     </g>\r\n     <g id=\"line2d_8\">\r\n      <g>\r\n       <use style=\"stroke:#000000;stroke-width:0.8;\" x=\"164.735156\" xlink:href=\"#m9e0f86fdb2\" y=\"43.555313\"/>\r\n      </g>\r\n     </g>\r\n     <g id=\"text_4\">\r\n      <!-- 6 -->\r\n      <g transform=\"translate(161.553906 34.475625)scale(0.1 -0.1)\">\r\n       <defs>\r\n        <path d=\"M 33.015625 40.375 \r\nQ 26.375 40.375 22.484375 35.828125 \r\nQ 18.609375 31.296875 18.609375 23.390625 \r\nQ 18.609375 15.53125 22.484375 10.953125 \r\nQ 26.375 6.390625 33.015625 6.390625 \r\nQ 39.65625 6.390625 43.53125 10.953125 \r\nQ 47.40625 15.53125 47.40625 23.390625 \r\nQ 47.40625 31.296875 43.53125 35.828125 \r\nQ 39.65625 40.375 33.015625 40.375 \r\nz\r\nM 52.59375 71.296875 \r\nL 52.59375 62.3125 \r\nQ 48.875 64.0625 45.09375 64.984375 \r\nQ 41.3125 65.921875 37.59375 65.921875 \r\nQ 27.828125 65.921875 22.671875 59.328125 \r\nQ 17.53125 52.734375 16.796875 39.40625 \r\nQ 19.671875 43.65625 24.015625 45.921875 \r\nQ 28.375 48.1875 33.59375 48.1875 \r\nQ 44.578125 48.1875 50.953125 41.515625 \r\nQ 57.328125 34.859375 57.328125 23.390625 \r\nQ 57.328125 12.15625 50.6875 5.359375 \r\nQ 44.046875 -1.421875 33.015625 -1.421875 \r\nQ 20.359375 -1.421875 13.671875 8.265625 \r\nQ 6.984375 17.96875 6.984375 36.375 \r\nQ 6.984375 53.65625 15.1875 63.9375 \r\nQ 23.390625 74.21875 37.203125 74.21875 \r\nQ 40.921875 74.21875 44.703125 73.484375 \r\nQ 48.484375 72.75 52.59375 71.296875 \r\nz\r\n\" id=\"DejaVuSans-54\"/>\r\n       </defs>\r\n       <use xlink:href=\"#DejaVuSans-54\"/>\r\n      </g>\r\n     </g>\r\n    </g>\r\n    <g id=\"xtick_5\">\r\n     <g id=\"line2d_9\">\r\n      <g>\r\n       <use style=\"stroke:#000000;stroke-width:0.8;\" x=\"198.187464\" xlink:href=\"#m3ff0ccbe03\" y=\"260.995313\"/>\r\n      </g>\r\n     </g>\r\n     <g id=\"line2d_10\">\r\n      <g>\r\n       <use style=\"stroke:#000000;stroke-width:0.8;\" x=\"198.187464\" xlink:href=\"#m9e0f86fdb2\" y=\"43.555313\"/>\r\n      </g>\r\n     </g>\r\n     <g id=\"text_5\">\r\n      <!-- 8 -->\r\n      <g transform=\"translate(195.006214 34.475625)scale(0.1 -0.1)\">\r\n       <defs>\r\n        <path d=\"M 31.78125 34.625 \r\nQ 24.75 34.625 20.71875 30.859375 \r\nQ 16.703125 27.09375 16.703125 20.515625 \r\nQ 16.703125 13.921875 20.71875 10.15625 \r\nQ 24.75 6.390625 31.78125 6.390625 \r\nQ 38.8125 6.390625 42.859375 10.171875 \r\nQ 46.921875 13.96875 46.921875 20.515625 \r\nQ 46.921875 27.09375 42.890625 30.859375 \r\nQ 38.875 34.625 31.78125 34.625 \r\nz\r\nM 21.921875 38.8125 \r\nQ 15.578125 40.375 12.03125 44.71875 \r\nQ 8.5 49.078125 8.5 55.328125 \r\nQ 8.5 64.0625 14.71875 69.140625 \r\nQ 20.953125 74.21875 31.78125 74.21875 \r\nQ 42.671875 74.21875 48.875 69.140625 \r\nQ 55.078125 64.0625 55.078125 55.328125 \r\nQ 55.078125 49.078125 51.53125 44.71875 \r\nQ 48 40.375 41.703125 38.8125 \r\nQ 48.828125 37.15625 52.796875 32.3125 \r\nQ 56.78125 27.484375 56.78125 20.515625 \r\nQ 56.78125 9.90625 50.3125 4.234375 \r\nQ 43.84375 -1.421875 31.78125 -1.421875 \r\nQ 19.734375 -1.421875 13.25 4.234375 \r\nQ 6.78125 9.90625 6.78125 20.515625 \r\nQ 6.78125 27.484375 10.78125 32.3125 \r\nQ 14.796875 37.15625 21.921875 38.8125 \r\nz\r\nM 18.3125 54.390625 \r\nQ 18.3125 48.734375 21.84375 45.5625 \r\nQ 25.390625 42.390625 31.78125 42.390625 \r\nQ 38.140625 42.390625 41.71875 45.5625 \r\nQ 45.3125 48.734375 45.3125 54.390625 \r\nQ 45.3125 60.0625 41.71875 63.234375 \r\nQ 38.140625 66.40625 31.78125 66.40625 \r\nQ 25.390625 66.40625 21.84375 63.234375 \r\nQ 18.3125 60.0625 18.3125 54.390625 \r\nz\r\n\" id=\"DejaVuSans-56\"/>\r\n       </defs>\r\n       <use xlink:href=\"#DejaVuSans-56\"/>\r\n      </g>\r\n     </g>\r\n    </g>\r\n    <g id=\"xtick_6\">\r\n     <g id=\"line2d_11\">\r\n      <g>\r\n       <use style=\"stroke:#000000;stroke-width:0.8;\" x=\"231.639772\" xlink:href=\"#m3ff0ccbe03\" y=\"260.995313\"/>\r\n      </g>\r\n     </g>\r\n     <g id=\"line2d_12\">\r\n      <g>\r\n       <use style=\"stroke:#000000;stroke-width:0.8;\" x=\"231.639772\" xlink:href=\"#m9e0f86fdb2\" y=\"43.555313\"/>\r\n      </g>\r\n     </g>\r\n     <g id=\"text_6\">\r\n      <!-- 10 -->\r\n      <g transform=\"translate(225.277272 34.475625)scale(0.1 -0.1)\">\r\n       <defs>\r\n        <path d=\"M 12.40625 8.296875 \r\nL 28.515625 8.296875 \r\nL 28.515625 63.921875 \r\nL 10.984375 60.40625 \r\nL 10.984375 69.390625 \r\nL 28.421875 72.90625 \r\nL 38.28125 72.90625 \r\nL 38.28125 8.296875 \r\nL 54.390625 8.296875 \r\nL 54.390625 0 \r\nL 12.40625 0 \r\nz\r\n\" id=\"DejaVuSans-49\"/>\r\n       </defs>\r\n       <use xlink:href=\"#DejaVuSans-49\"/>\r\n       <use x=\"63.623047\" xlink:href=\"#DejaVuSans-48\"/>\r\n      </g>\r\n     </g>\r\n    </g>\r\n    <g id=\"xtick_7\">\r\n     <g id=\"line2d_13\">\r\n      <g>\r\n       <use style=\"stroke:#000000;stroke-width:0.8;\" x=\"265.092079\" xlink:href=\"#m3ff0ccbe03\" y=\"260.995313\"/>\r\n      </g>\r\n     </g>\r\n     <g id=\"line2d_14\">\r\n      <g>\r\n       <use style=\"stroke:#000000;stroke-width:0.8;\" x=\"265.092079\" xlink:href=\"#m9e0f86fdb2\" y=\"43.555313\"/>\r\n      </g>\r\n     </g>\r\n     <g id=\"text_7\">\r\n      <!-- 12 -->\r\n      <g transform=\"translate(258.729579 34.475625)scale(0.1 -0.1)\">\r\n       <use xlink:href=\"#DejaVuSans-49\"/>\r\n       <use x=\"63.623047\" xlink:href=\"#DejaVuSans-50\"/>\r\n      </g>\r\n     </g>\r\n    </g>\r\n   </g>\r\n   <g id=\"matplotlib.axis_2\">\r\n    <g id=\"ytick_1\">\r\n     <g id=\"line2d_15\">\r\n      <defs>\r\n       <path d=\"M 0 0 \r\nL -3.5 0 \r\n\" id=\"me6216dfc04\" style=\"stroke:#000000;stroke-width:0.8;\"/>\r\n      </defs>\r\n      <g>\r\n       <use style=\"stroke:#000000;stroke-width:0.8;\" x=\"56.015156\" xlink:href=\"#me6216dfc04\" y=\"51.918389\"/>\r\n      </g>\r\n     </g>\r\n     <g id=\"text_8\">\r\n      <!-- 0 -->\r\n      <g transform=\"translate(42.652656 55.717608)scale(0.1 -0.1)\">\r\n       <use xlink:href=\"#DejaVuSans-48\"/>\r\n      </g>\r\n     </g>\r\n    </g>\r\n    <g id=\"ytick_2\">\r\n     <g id=\"line2d_16\">\r\n      <g>\r\n       <use style=\"stroke:#000000;stroke-width:0.8;\" x=\"56.015156\" xlink:href=\"#me6216dfc04\" y=\"85.370697\"/>\r\n      </g>\r\n     </g>\r\n     <g id=\"text_9\">\r\n      <!-- 2 -->\r\n      <g transform=\"translate(42.652656 89.169916)scale(0.1 -0.1)\">\r\n       <use xlink:href=\"#DejaVuSans-50\"/>\r\n      </g>\r\n     </g>\r\n    </g>\r\n    <g id=\"ytick_3\">\r\n     <g id=\"line2d_17\">\r\n      <g>\r\n       <use style=\"stroke:#000000;stroke-width:0.8;\" x=\"56.015156\" xlink:href=\"#me6216dfc04\" y=\"118.823005\"/>\r\n      </g>\r\n     </g>\r\n     <g id=\"text_10\">\r\n      <!-- 4 -->\r\n      <g transform=\"translate(42.652656 122.622224)scale(0.1 -0.1)\">\r\n       <use xlink:href=\"#DejaVuSans-52\"/>\r\n      </g>\r\n     </g>\r\n    </g>\r\n    <g id=\"ytick_4\">\r\n     <g id=\"line2d_18\">\r\n      <g>\r\n       <use style=\"stroke:#000000;stroke-width:0.8;\" x=\"56.015156\" xlink:href=\"#me6216dfc04\" y=\"152.275312\"/>\r\n      </g>\r\n     </g>\r\n     <g id=\"text_11\">\r\n      <!-- 6 -->\r\n      <g transform=\"translate(42.652656 156.074531)scale(0.1 -0.1)\">\r\n       <use xlink:href=\"#DejaVuSans-54\"/>\r\n      </g>\r\n     </g>\r\n    </g>\r\n    <g id=\"ytick_5\">\r\n     <g id=\"line2d_19\">\r\n      <g>\r\n       <use style=\"stroke:#000000;stroke-width:0.8;\" x=\"56.015156\" xlink:href=\"#me6216dfc04\" y=\"185.72762\"/>\r\n      </g>\r\n     </g>\r\n     <g id=\"text_12\">\r\n      <!-- 8 -->\r\n      <g transform=\"translate(42.652656 189.526839)scale(0.1 -0.1)\">\r\n       <use xlink:href=\"#DejaVuSans-56\"/>\r\n      </g>\r\n     </g>\r\n    </g>\r\n    <g id=\"ytick_6\">\r\n     <g id=\"line2d_20\">\r\n      <g>\r\n       <use style=\"stroke:#000000;stroke-width:0.8;\" x=\"56.015156\" xlink:href=\"#me6216dfc04\" y=\"219.179928\"/>\r\n      </g>\r\n     </g>\r\n     <g id=\"text_13\">\r\n      <!-- 10 -->\r\n      <g transform=\"translate(36.290156 222.979147)scale(0.1 -0.1)\">\r\n       <use xlink:href=\"#DejaVuSans-49\"/>\r\n       <use x=\"63.623047\" xlink:href=\"#DejaVuSans-48\"/>\r\n      </g>\r\n     </g>\r\n    </g>\r\n    <g id=\"ytick_7\">\r\n     <g id=\"line2d_21\">\r\n      <g>\r\n       <use style=\"stroke:#000000;stroke-width:0.8;\" x=\"56.015156\" xlink:href=\"#me6216dfc04\" y=\"252.632236\"/>\r\n      </g>\r\n     </g>\r\n     <g id=\"text_14\">\r\n      <!-- 12 -->\r\n      <g transform=\"translate(36.290156 256.431454)scale(0.1 -0.1)\">\r\n       <use xlink:href=\"#DejaVuSans-49\"/>\r\n       <use x=\"63.623047\" xlink:href=\"#DejaVuSans-50\"/>\r\n      </g>\r\n     </g>\r\n    </g>\r\n   </g>\r\n   <g id=\"line2d_22\">\r\n    <defs>\r\n     <path d=\"M -5 5 \r\nL 5 5 \r\nL 5 -5 \r\nL -5 -5 \r\nz\r\n\" id=\"mca7e0f382e\" style=\"stroke:#5f9ea0;stroke-linejoin:miter;\"/>\r\n    </defs>\r\n    <g clip-path=\"url(#pb8acf2b889)\">\r\n     <use style=\"fill:#5f9ea0;stroke:#5f9ea0;stroke-linejoin:miter;\" x=\"81.104387\" xlink:href=\"#mca7e0f382e\" y=\"51.918389\"/>\r\n     <use style=\"fill:#5f9ea0;stroke:#5f9ea0;stroke-linejoin:miter;\" x=\"97.830541\" xlink:href=\"#mca7e0f382e\" y=\"51.918389\"/>\r\n     <use style=\"fill:#5f9ea0;stroke:#5f9ea0;stroke-linejoin:miter;\" x=\"131.282849\" xlink:href=\"#mca7e0f382e\" y=\"51.918389\"/>\r\n     <use style=\"fill:#5f9ea0;stroke:#5f9ea0;stroke-linejoin:miter;\" x=\"148.009002\" xlink:href=\"#mca7e0f382e\" y=\"51.918389\"/>\r\n     <use style=\"fill:#5f9ea0;stroke:#5f9ea0;stroke-linejoin:miter;\" x=\"231.639772\" xlink:href=\"#mca7e0f382e\" y=\"51.918389\"/>\r\n     <use style=\"fill:#5f9ea0;stroke:#5f9ea0;stroke-linejoin:miter;\" x=\"248.365925\" xlink:href=\"#mca7e0f382e\" y=\"51.918389\"/>\r\n     <use style=\"fill:#5f9ea0;stroke:#5f9ea0;stroke-linejoin:miter;\" x=\"81.104387\" xlink:href=\"#mca7e0f382e\" y=\"102.096851\"/>\r\n     <use style=\"fill:#5f9ea0;stroke:#5f9ea0;stroke-linejoin:miter;\" x=\"97.830541\" xlink:href=\"#mca7e0f382e\" y=\"152.275312\"/>\r\n     <use style=\"fill:#5f9ea0;stroke:#5f9ea0;stroke-linejoin:miter;\" x=\"131.282849\" xlink:href=\"#mca7e0f382e\" y=\"152.275312\"/>\r\n     <use style=\"fill:#5f9ea0;stroke:#5f9ea0;stroke-linejoin:miter;\" x=\"148.009002\" xlink:href=\"#mca7e0f382e\" y=\"152.275312\"/>\r\n     <use style=\"fill:#5f9ea0;stroke:#5f9ea0;stroke-linejoin:miter;\" x=\"181.46131\" xlink:href=\"#mca7e0f382e\" y=\"152.275312\"/>\r\n     <use style=\"fill:#5f9ea0;stroke:#5f9ea0;stroke-linejoin:miter;\" x=\"214.913618\" xlink:href=\"#mca7e0f382e\" y=\"152.275312\"/>\r\n     <use style=\"fill:#5f9ea0;stroke:#5f9ea0;stroke-linejoin:miter;\" x=\"265.092079\" xlink:href=\"#mca7e0f382e\" y=\"152.275312\"/>\r\n     <use style=\"fill:#5f9ea0;stroke:#5f9ea0;stroke-linejoin:miter;\" x=\"81.104387\" xlink:href=\"#mca7e0f382e\" y=\"185.72762\"/>\r\n     <use style=\"fill:#5f9ea0;stroke:#5f9ea0;stroke-linejoin:miter;\" x=\"214.913618\" xlink:href=\"#mca7e0f382e\" y=\"185.72762\"/>\r\n     <use style=\"fill:#5f9ea0;stroke:#5f9ea0;stroke-linejoin:miter;\" x=\"231.639772\" xlink:href=\"#mca7e0f382e\" y=\"185.72762\"/>\r\n    </g>\r\n   </g>\r\n   <g id=\"patch_3\">\r\n    <path d=\"M 56.015156 260.995312 \r\nL 56.015156 43.555312 \r\n\" style=\"fill:none;stroke:#000000;stroke-linecap:square;stroke-linejoin:miter;stroke-width:0.8;\"/>\r\n   </g>\r\n   <g id=\"patch_4\">\r\n    <path d=\"M 273.455156 260.995312 \r\nL 273.455156 43.555312 \r\n\" style=\"fill:none;stroke:#000000;stroke-linecap:square;stroke-linejoin:miter;stroke-width:0.8;\"/>\r\n   </g>\r\n   <g id=\"patch_5\">\r\n    <path d=\"M 56.015156 260.995313 \r\nL 273.455156 260.995313 \r\n\" style=\"fill:none;stroke:#000000;stroke-linecap:square;stroke-linejoin:miter;stroke-width:0.8;\"/>\r\n   </g>\r\n   <g id=\"patch_6\">\r\n    <path d=\"M 56.015156 43.555313 \r\nL 273.455156 43.555313 \r\n\" style=\"fill:none;stroke:#000000;stroke-linecap:square;stroke-linejoin:miter;stroke-width:0.8;\"/>\r\n   </g>\r\n   <g id=\"text_15\">\r\n    <!-- Adjacency matrix of transfer graph -->\r\n    <g transform=\"translate(7.2 20.877187)scale(0.18 -0.18)\">\r\n     <defs>\r\n      <path d=\"M 34.1875 63.1875 \r\nL 20.796875 26.90625 \r\nL 47.609375 26.90625 \r\nz\r\nM 28.609375 72.90625 \r\nL 39.796875 72.90625 \r\nL 67.578125 0 \r\nL 57.328125 0 \r\nL 50.6875 18.703125 \r\nL 17.828125 18.703125 \r\nL 11.1875 0 \r\nL 0.78125 0 \r\nz\r\n\" id=\"DejaVuSans-65\"/>\r\n      <path d=\"M 45.40625 46.390625 \r\nL 45.40625 75.984375 \r\nL 54.390625 75.984375 \r\nL 54.390625 0 \r\nL 45.40625 0 \r\nL 45.40625 8.203125 \r\nQ 42.578125 3.328125 38.25 0.953125 \r\nQ 33.9375 -1.421875 27.875 -1.421875 \r\nQ 17.96875 -1.421875 11.734375 6.484375 \r\nQ 5.515625 14.40625 5.515625 27.296875 \r\nQ 5.515625 40.1875 11.734375 48.09375 \r\nQ 17.96875 56 27.875 56 \r\nQ 33.9375 56 38.25 53.625 \r\nQ 42.578125 51.265625 45.40625 46.390625 \r\nz\r\nM 14.796875 27.296875 \r\nQ 14.796875 17.390625 18.875 11.75 \r\nQ 22.953125 6.109375 30.078125 6.109375 \r\nQ 37.203125 6.109375 41.296875 11.75 \r\nQ 45.40625 17.390625 45.40625 27.296875 \r\nQ 45.40625 37.203125 41.296875 42.84375 \r\nQ 37.203125 48.484375 30.078125 48.484375 \r\nQ 22.953125 48.484375 18.875 42.84375 \r\nQ 14.796875 37.203125 14.796875 27.296875 \r\nz\r\n\" id=\"DejaVuSans-100\"/>\r\n      <path d=\"M 9.421875 54.6875 \r\nL 18.40625 54.6875 \r\nL 18.40625 -0.984375 \r\nQ 18.40625 -11.421875 14.421875 -16.109375 \r\nQ 10.453125 -20.796875 1.609375 -20.796875 \r\nL -1.8125 -20.796875 \r\nL -1.8125 -13.1875 \r\nL 0.59375 -13.1875 \r\nQ 5.71875 -13.1875 7.5625 -10.8125 \r\nQ 9.421875 -8.453125 9.421875 -0.984375 \r\nz\r\nM 9.421875 75.984375 \r\nL 18.40625 75.984375 \r\nL 18.40625 64.59375 \r\nL 9.421875 64.59375 \r\nz\r\n\" id=\"DejaVuSans-106\"/>\r\n      <path d=\"M 34.28125 27.484375 \r\nQ 23.390625 27.484375 19.1875 25 \r\nQ 14.984375 22.515625 14.984375 16.5 \r\nQ 14.984375 11.71875 18.140625 8.90625 \r\nQ 21.296875 6.109375 26.703125 6.109375 \r\nQ 34.1875 6.109375 38.703125 11.40625 \r\nQ 43.21875 16.703125 43.21875 25.484375 \r\nL 43.21875 27.484375 \r\nz\r\nM 52.203125 31.203125 \r\nL 52.203125 0 \r\nL 43.21875 0 \r\nL 43.21875 8.296875 \r\nQ 40.140625 3.328125 35.546875 0.953125 \r\nQ 30.953125 -1.421875 24.3125 -1.421875 \r\nQ 15.921875 -1.421875 10.953125 3.296875 \r\nQ 6 8.015625 6 15.921875 \r\nQ 6 25.140625 12.171875 29.828125 \r\nQ 18.359375 34.515625 30.609375 34.515625 \r\nL 43.21875 34.515625 \r\nL 43.21875 35.40625 \r\nQ 43.21875 41.609375 39.140625 45 \r\nQ 35.0625 48.390625 27.6875 48.390625 \r\nQ 23 48.390625 18.546875 47.265625 \r\nQ 14.109375 46.140625 10.015625 43.890625 \r\nL 10.015625 52.203125 \r\nQ 14.9375 54.109375 19.578125 55.046875 \r\nQ 24.21875 56 28.609375 56 \r\nQ 40.484375 56 46.34375 49.84375 \r\nQ 52.203125 43.703125 52.203125 31.203125 \r\nz\r\n\" id=\"DejaVuSans-97\"/>\r\n      <path d=\"M 48.78125 52.59375 \r\nL 48.78125 44.1875 \r\nQ 44.96875 46.296875 41.140625 47.34375 \r\nQ 37.3125 48.390625 33.40625 48.390625 \r\nQ 24.65625 48.390625 19.8125 42.84375 \r\nQ 14.984375 37.3125 14.984375 27.296875 \r\nQ 14.984375 17.28125 19.8125 11.734375 \r\nQ 24.65625 6.203125 33.40625 6.203125 \r\nQ 37.3125 6.203125 41.140625 7.25 \r\nQ 44.96875 8.296875 48.78125 10.40625 \r\nL 48.78125 2.09375 \r\nQ 45.015625 0.34375 40.984375 -0.53125 \r\nQ 36.96875 -1.421875 32.421875 -1.421875 \r\nQ 20.0625 -1.421875 12.78125 6.34375 \r\nQ 5.515625 14.109375 5.515625 27.296875 \r\nQ 5.515625 40.671875 12.859375 48.328125 \r\nQ 20.21875 56 33.015625 56 \r\nQ 37.15625 56 41.109375 55.140625 \r\nQ 45.0625 54.296875 48.78125 52.59375 \r\nz\r\n\" id=\"DejaVuSans-99\"/>\r\n      <path d=\"M 56.203125 29.59375 \r\nL 56.203125 25.203125 \r\nL 14.890625 25.203125 \r\nQ 15.484375 15.921875 20.484375 11.0625 \r\nQ 25.484375 6.203125 34.421875 6.203125 \r\nQ 39.59375 6.203125 44.453125 7.46875 \r\nQ 49.3125 8.734375 54.109375 11.28125 \r\nL 54.109375 2.78125 \r\nQ 49.265625 0.734375 44.1875 -0.34375 \r\nQ 39.109375 -1.421875 33.890625 -1.421875 \r\nQ 20.796875 -1.421875 13.15625 6.1875 \r\nQ 5.515625 13.8125 5.515625 26.8125 \r\nQ 5.515625 40.234375 12.765625 48.109375 \r\nQ 20.015625 56 32.328125 56 \r\nQ 43.359375 56 49.78125 48.890625 \r\nQ 56.203125 41.796875 56.203125 29.59375 \r\nz\r\nM 47.21875 32.234375 \r\nQ 47.125 39.59375 43.09375 43.984375 \r\nQ 39.0625 48.390625 32.421875 48.390625 \r\nQ 24.90625 48.390625 20.390625 44.140625 \r\nQ 15.875 39.890625 15.1875 32.171875 \r\nz\r\n\" id=\"DejaVuSans-101\"/>\r\n      <path d=\"M 54.890625 33.015625 \r\nL 54.890625 0 \r\nL 45.90625 0 \r\nL 45.90625 32.71875 \r\nQ 45.90625 40.484375 42.875 44.328125 \r\nQ 39.84375 48.1875 33.796875 48.1875 \r\nQ 26.515625 48.1875 22.3125 43.546875 \r\nQ 18.109375 38.921875 18.109375 30.90625 \r\nL 18.109375 0 \r\nL 9.078125 0 \r\nL 9.078125 54.6875 \r\nL 18.109375 54.6875 \r\nL 18.109375 46.1875 \r\nQ 21.34375 51.125 25.703125 53.5625 \r\nQ 30.078125 56 35.796875 56 \r\nQ 45.21875 56 50.046875 50.171875 \r\nQ 54.890625 44.34375 54.890625 33.015625 \r\nz\r\n\" id=\"DejaVuSans-110\"/>\r\n      <path d=\"M 32.171875 -5.078125 \r\nQ 28.375 -14.84375 24.75 -17.8125 \r\nQ 21.140625 -20.796875 15.09375 -20.796875 \r\nL 7.90625 -20.796875 \r\nL 7.90625 -13.28125 \r\nL 13.1875 -13.28125 \r\nQ 16.890625 -13.28125 18.9375 -11.515625 \r\nQ 21 -9.765625 23.484375 -3.21875 \r\nL 25.09375 0.875 \r\nL 2.984375 54.6875 \r\nL 12.5 54.6875 \r\nL 29.59375 11.921875 \r\nL 46.6875 54.6875 \r\nL 56.203125 54.6875 \r\nz\r\n\" id=\"DejaVuSans-121\"/>\r\n      <path id=\"DejaVuSans-32\"/>\r\n      <path d=\"M 52 44.1875 \r\nQ 55.375 50.25 60.0625 53.125 \r\nQ 64.75 56 71.09375 56 \r\nQ 79.640625 56 84.28125 50.015625 \r\nQ 88.921875 44.046875 88.921875 33.015625 \r\nL 88.921875 0 \r\nL 79.890625 0 \r\nL 79.890625 32.71875 \r\nQ 79.890625 40.578125 77.09375 44.375 \r\nQ 74.3125 48.1875 68.609375 48.1875 \r\nQ 61.625 48.1875 57.5625 43.546875 \r\nQ 53.515625 38.921875 53.515625 30.90625 \r\nL 53.515625 0 \r\nL 44.484375 0 \r\nL 44.484375 32.71875 \r\nQ 44.484375 40.625 41.703125 44.40625 \r\nQ 38.921875 48.1875 33.109375 48.1875 \r\nQ 26.21875 48.1875 22.15625 43.53125 \r\nQ 18.109375 38.875 18.109375 30.90625 \r\nL 18.109375 0 \r\nL 9.078125 0 \r\nL 9.078125 54.6875 \r\nL 18.109375 54.6875 \r\nL 18.109375 46.1875 \r\nQ 21.1875 51.21875 25.484375 53.609375 \r\nQ 29.78125 56 35.6875 56 \r\nQ 41.65625 56 45.828125 52.96875 \r\nQ 50 49.953125 52 44.1875 \r\nz\r\n\" id=\"DejaVuSans-109\"/>\r\n      <path d=\"M 18.3125 70.21875 \r\nL 18.3125 54.6875 \r\nL 36.8125 54.6875 \r\nL 36.8125 47.703125 \r\nL 18.3125 47.703125 \r\nL 18.3125 18.015625 \r\nQ 18.3125 11.328125 20.140625 9.421875 \r\nQ 21.96875 7.515625 27.59375 7.515625 \r\nL 36.8125 7.515625 \r\nL 36.8125 0 \r\nL 27.59375 0 \r\nQ 17.1875 0 13.234375 3.875 \r\nQ 9.28125 7.765625 9.28125 18.015625 \r\nL 9.28125 47.703125 \r\nL 2.6875 47.703125 \r\nL 2.6875 54.6875 \r\nL 9.28125 54.6875 \r\nL 9.28125 70.21875 \r\nz\r\n\" id=\"DejaVuSans-116\"/>\r\n      <path d=\"M 41.109375 46.296875 \r\nQ 39.59375 47.171875 37.8125 47.578125 \r\nQ 36.03125 48 33.890625 48 \r\nQ 26.265625 48 22.1875 43.046875 \r\nQ 18.109375 38.09375 18.109375 28.8125 \r\nL 18.109375 0 \r\nL 9.078125 0 \r\nL 9.078125 54.6875 \r\nL 18.109375 54.6875 \r\nL 18.109375 46.1875 \r\nQ 20.953125 51.171875 25.484375 53.578125 \r\nQ 30.03125 56 36.53125 56 \r\nQ 37.453125 56 38.578125 55.875 \r\nQ 39.703125 55.765625 41.0625 55.515625 \r\nz\r\n\" id=\"DejaVuSans-114\"/>\r\n      <path d=\"M 9.421875 54.6875 \r\nL 18.40625 54.6875 \r\nL 18.40625 0 \r\nL 9.421875 0 \r\nz\r\nM 9.421875 75.984375 \r\nL 18.40625 75.984375 \r\nL 18.40625 64.59375 \r\nL 9.421875 64.59375 \r\nz\r\n\" id=\"DejaVuSans-105\"/>\r\n      <path d=\"M 54.890625 54.6875 \r\nL 35.109375 28.078125 \r\nL 55.90625 0 \r\nL 45.3125 0 \r\nL 29.390625 21.484375 \r\nL 13.484375 0 \r\nL 2.875 0 \r\nL 24.125 28.609375 \r\nL 4.6875 54.6875 \r\nL 15.28125 54.6875 \r\nL 29.78125 35.203125 \r\nL 44.28125 54.6875 \r\nz\r\n\" id=\"DejaVuSans-120\"/>\r\n      <path d=\"M 30.609375 48.390625 \r\nQ 23.390625 48.390625 19.1875 42.75 \r\nQ 14.984375 37.109375 14.984375 27.296875 \r\nQ 14.984375 17.484375 19.15625 11.84375 \r\nQ 23.34375 6.203125 30.609375 6.203125 \r\nQ 37.796875 6.203125 41.984375 11.859375 \r\nQ 46.1875 17.53125 46.1875 27.296875 \r\nQ 46.1875 37.015625 41.984375 42.703125 \r\nQ 37.796875 48.390625 30.609375 48.390625 \r\nz\r\nM 30.609375 56 \r\nQ 42.328125 56 49.015625 48.375 \r\nQ 55.71875 40.765625 55.71875 27.296875 \r\nQ 55.71875 13.875 49.015625 6.21875 \r\nQ 42.328125 -1.421875 30.609375 -1.421875 \r\nQ 18.84375 -1.421875 12.171875 6.21875 \r\nQ 5.515625 13.875 5.515625 27.296875 \r\nQ 5.515625 40.765625 12.171875 48.375 \r\nQ 18.84375 56 30.609375 56 \r\nz\r\n\" id=\"DejaVuSans-111\"/>\r\n      <path d=\"M 37.109375 75.984375 \r\nL 37.109375 68.5 \r\nL 28.515625 68.5 \r\nQ 23.6875 68.5 21.796875 66.546875 \r\nQ 19.921875 64.59375 19.921875 59.515625 \r\nL 19.921875 54.6875 \r\nL 34.71875 54.6875 \r\nL 34.71875 47.703125 \r\nL 19.921875 47.703125 \r\nL 19.921875 0 \r\nL 10.890625 0 \r\nL 10.890625 47.703125 \r\nL 2.296875 47.703125 \r\nL 2.296875 54.6875 \r\nL 10.890625 54.6875 \r\nL 10.890625 58.5 \r\nQ 10.890625 67.625 15.140625 71.796875 \r\nQ 19.390625 75.984375 28.609375 75.984375 \r\nz\r\n\" id=\"DejaVuSans-102\"/>\r\n      <path d=\"M 44.28125 53.078125 \r\nL 44.28125 44.578125 \r\nQ 40.484375 46.53125 36.375 47.5 \r\nQ 32.28125 48.484375 27.875 48.484375 \r\nQ 21.1875 48.484375 17.84375 46.4375 \r\nQ 14.5 44.390625 14.5 40.28125 \r\nQ 14.5 37.15625 16.890625 35.375 \r\nQ 19.28125 33.59375 26.515625 31.984375 \r\nL 29.59375 31.296875 \r\nQ 39.15625 29.25 43.1875 25.515625 \r\nQ 47.21875 21.78125 47.21875 15.09375 \r\nQ 47.21875 7.46875 41.1875 3.015625 \r\nQ 35.15625 -1.421875 24.609375 -1.421875 \r\nQ 20.21875 -1.421875 15.453125 -0.5625 \r\nQ 10.6875 0.296875 5.421875 2 \r\nL 5.421875 11.28125 \r\nQ 10.40625 8.6875 15.234375 7.390625 \r\nQ 20.0625 6.109375 24.8125 6.109375 \r\nQ 31.15625 6.109375 34.5625 8.28125 \r\nQ 37.984375 10.453125 37.984375 14.40625 \r\nQ 37.984375 18.0625 35.515625 20.015625 \r\nQ 33.0625 21.96875 24.703125 23.78125 \r\nL 21.578125 24.515625 \r\nQ 13.234375 26.265625 9.515625 29.90625 \r\nQ 5.8125 33.546875 5.8125 39.890625 \r\nQ 5.8125 47.609375 11.28125 51.796875 \r\nQ 16.75 56 26.8125 56 \r\nQ 31.78125 56 36.171875 55.265625 \r\nQ 40.578125 54.546875 44.28125 53.078125 \r\nz\r\n\" id=\"DejaVuSans-115\"/>\r\n      <path d=\"M 45.40625 27.984375 \r\nQ 45.40625 37.75 41.375 43.109375 \r\nQ 37.359375 48.484375 30.078125 48.484375 \r\nQ 22.859375 48.484375 18.828125 43.109375 \r\nQ 14.796875 37.75 14.796875 27.984375 \r\nQ 14.796875 18.265625 18.828125 12.890625 \r\nQ 22.859375 7.515625 30.078125 7.515625 \r\nQ 37.359375 7.515625 41.375 12.890625 \r\nQ 45.40625 18.265625 45.40625 27.984375 \r\nz\r\nM 54.390625 6.78125 \r\nQ 54.390625 -7.171875 48.1875 -13.984375 \r\nQ 42 -20.796875 29.203125 -20.796875 \r\nQ 24.46875 -20.796875 20.265625 -20.09375 \r\nQ 16.0625 -19.390625 12.109375 -17.921875 \r\nL 12.109375 -9.1875 \r\nQ 16.0625 -11.328125 19.921875 -12.34375 \r\nQ 23.78125 -13.375 27.78125 -13.375 \r\nQ 36.625 -13.375 41.015625 -8.765625 \r\nQ 45.40625 -4.15625 45.40625 5.171875 \r\nL 45.40625 9.625 \r\nQ 42.625 4.78125 38.28125 2.390625 \r\nQ 33.9375 0 27.875 0 \r\nQ 17.828125 0 11.671875 7.65625 \r\nQ 5.515625 15.328125 5.515625 27.984375 \r\nQ 5.515625 40.671875 11.671875 48.328125 \r\nQ 17.828125 56 27.875 56 \r\nQ 33.9375 56 38.28125 53.609375 \r\nQ 42.625 51.21875 45.40625 46.390625 \r\nL 45.40625 54.6875 \r\nL 54.390625 54.6875 \r\nz\r\n\" id=\"DejaVuSans-103\"/>\r\n      <path d=\"M 18.109375 8.203125 \r\nL 18.109375 -20.796875 \r\nL 9.078125 -20.796875 \r\nL 9.078125 54.6875 \r\nL 18.109375 54.6875 \r\nL 18.109375 46.390625 \r\nQ 20.953125 51.265625 25.265625 53.625 \r\nQ 29.59375 56 35.59375 56 \r\nQ 45.5625 56 51.78125 48.09375 \r\nQ 58.015625 40.1875 58.015625 27.296875 \r\nQ 58.015625 14.40625 51.78125 6.484375 \r\nQ 45.5625 -1.421875 35.59375 -1.421875 \r\nQ 29.59375 -1.421875 25.265625 0.953125 \r\nQ 20.953125 3.328125 18.109375 8.203125 \r\nz\r\nM 48.6875 27.296875 \r\nQ 48.6875 37.203125 44.609375 42.84375 \r\nQ 40.53125 48.484375 33.40625 48.484375 \r\nQ 26.265625 48.484375 22.1875 42.84375 \r\nQ 18.109375 37.203125 18.109375 27.296875 \r\nQ 18.109375 17.390625 22.1875 11.75 \r\nQ 26.265625 6.109375 33.40625 6.109375 \r\nQ 40.53125 6.109375 44.609375 11.75 \r\nQ 48.6875 17.390625 48.6875 27.296875 \r\nz\r\n\" id=\"DejaVuSans-112\"/>\r\n      <path d=\"M 54.890625 33.015625 \r\nL 54.890625 0 \r\nL 45.90625 0 \r\nL 45.90625 32.71875 \r\nQ 45.90625 40.484375 42.875 44.328125 \r\nQ 39.84375 48.1875 33.796875 48.1875 \r\nQ 26.515625 48.1875 22.3125 43.546875 \r\nQ 18.109375 38.921875 18.109375 30.90625 \r\nL 18.109375 0 \r\nL 9.078125 0 \r\nL 9.078125 75.984375 \r\nL 18.109375 75.984375 \r\nL 18.109375 46.1875 \r\nQ 21.34375 51.125 25.703125 53.5625 \r\nQ 30.078125 56 35.796875 56 \r\nQ 45.21875 56 50.046875 50.171875 \r\nQ 54.890625 44.34375 54.890625 33.015625 \r\nz\r\n\" id=\"DejaVuSans-104\"/>\r\n     </defs>\r\n     <use xlink:href=\"#DejaVuSans-65\"/>\r\n     <use x=\"66.658203\" xlink:href=\"#DejaVuSans-100\"/>\r\n     <use x=\"130.134766\" xlink:href=\"#DejaVuSans-106\"/>\r\n     <use x=\"157.917969\" xlink:href=\"#DejaVuSans-97\"/>\r\n     <use x=\"219.197266\" xlink:href=\"#DejaVuSans-99\"/>\r\n     <use x=\"274.177734\" xlink:href=\"#DejaVuSans-101\"/>\r\n     <use x=\"335.701172\" xlink:href=\"#DejaVuSans-110\"/>\r\n     <use x=\"399.080078\" xlink:href=\"#DejaVuSans-99\"/>\r\n     <use x=\"454.060547\" xlink:href=\"#DejaVuSans-121\"/>\r\n     <use x=\"513.240234\" xlink:href=\"#DejaVuSans-32\"/>\r\n     <use x=\"545.027344\" xlink:href=\"#DejaVuSans-109\"/>\r\n     <use x=\"642.439453\" xlink:href=\"#DejaVuSans-97\"/>\r\n     <use x=\"703.71875\" xlink:href=\"#DejaVuSans-116\"/>\r\n     <use x=\"742.927734\" xlink:href=\"#DejaVuSans-114\"/>\r\n     <use x=\"784.041016\" xlink:href=\"#DejaVuSans-105\"/>\r\n     <use x=\"811.824219\" xlink:href=\"#DejaVuSans-120\"/>\r\n     <use x=\"871.003906\" xlink:href=\"#DejaVuSans-32\"/>\r\n     <use x=\"902.791016\" xlink:href=\"#DejaVuSans-111\"/>\r\n     <use x=\"963.972656\" xlink:href=\"#DejaVuSans-102\"/>\r\n     <use x=\"999.177734\" xlink:href=\"#DejaVuSans-32\"/>\r\n     <use x=\"1030.964844\" xlink:href=\"#DejaVuSans-116\"/>\r\n     <use x=\"1070.173828\" xlink:href=\"#DejaVuSans-114\"/>\r\n     <use x=\"1111.287109\" xlink:href=\"#DejaVuSans-97\"/>\r\n     <use x=\"1172.566406\" xlink:href=\"#DejaVuSans-110\"/>\r\n     <use x=\"1235.945312\" xlink:href=\"#DejaVuSans-115\"/>\r\n     <use x=\"1288.044922\" xlink:href=\"#DejaVuSans-102\"/>\r\n     <use x=\"1323.25\" xlink:href=\"#DejaVuSans-101\"/>\r\n     <use x=\"1384.773438\" xlink:href=\"#DejaVuSans-114\"/>\r\n     <use x=\"1425.886719\" xlink:href=\"#DejaVuSans-32\"/>\r\n     <use x=\"1457.673828\" xlink:href=\"#DejaVuSans-103\"/>\r\n     <use x=\"1521.150391\" xlink:href=\"#DejaVuSans-114\"/>\r\n     <use x=\"1562.263672\" xlink:href=\"#DejaVuSans-97\"/>\r\n     <use x=\"1623.542969\" xlink:href=\"#DejaVuSans-112\"/>\r\n     <use x=\"1687.019531\" xlink:href=\"#DejaVuSans-104\"/>\r\n    </g>\r\n   </g>\r\n  </g>\r\n </g>\r\n <defs>\r\n  <clipPath id=\"pb8acf2b889\">\r\n   <rect height=\"217.44\" width=\"217.44\" x=\"56.015156\" y=\"43.555313\"/>\r\n  </clipPath>\r\n </defs>\r\n</svg>\r\n",
      "image/png": "[encoded data removed]"
     },
     "metadata": {
      "needs_background": "light"
     }
    }
   ],
   "source": [
    "G = cvz.create_transfer_graph()\n",
    "cvz.plot_transfer_graph(G)\n",
    "\n",
    "A = cvz.plot_adjacency_matrix(G)"
   ]
  },
  {
   "cell_type": "code",
   "execution_count": 20,
   "metadata": {},
   "outputs": [],
   "source": [
    "import pydeck as pdk \n"
   ]
  },
  {
   "cell_type": "code",
   "execution_count": 21,
   "metadata": {},
   "outputs": [
    {
     "output_type": "error",
     "ename": "AttributeError",
     "evalue": "'Map_covid' object has no attribute 'to_json'",
     "traceback": [
      "\u001b[1;31m---------------------------------------------------------------------------\u001b[0m",
      "\u001b[1;31mAttributeError\u001b[0m                            Traceback (most recent call last)",
      "\u001b[1;32m<ipython-input-21-900e034c267c>\u001b[0m in \u001b[0;36m<module>\u001b[1;34m\u001b[0m\n\u001b[1;32m----> 1\u001b[1;33m \u001b[0mmap\u001b[0m\u001b[1;33m.\u001b[0m\u001b[0mto_json\u001b[0m\u001b[1;33m(\u001b[0m\u001b[1;34m\"bla.json\"\u001b[0m\u001b[1;33m)\u001b[0m\u001b[1;33m\u001b[0m\u001b[1;33m\u001b[0m\u001b[0m\n\u001b[0m",
      "\u001b[1;31mAttributeError\u001b[0m: 'Map_covid' object has no attribute 'to_json'"
     ]
    }
   ],
   "source": [
    "map.to_json(\"bla.json\")"
   ]
  },
  {
   "source": [
    "# Screening data treatment\n"
   ],
   "cell_type": "markdown",
   "metadata": {}
  },
  {
   "source": [
    "## The map of France with all the covid screening centers"
   ],
   "cell_type": "markdown",
   "metadata": {}
  },
  {
   "source": [
    "From https://www.data.gouv.fr/fr/datasets/sites-de-prelevements-pour-les-tests-covid/, we import data from collection sites for COVID tests. These data include basic information such as address, telephone number, hours, website, collection methods (with / without appointment, on site / drive). The type of screening performed (PCR, antigen) is also indicated. There are two types of covid testing centers, depending on the audience accepted. In general, these are all public sites (they will be indicated by green markers on the map), but there are also restricted access sampling sites (they will be indicated by red markers on the map). These screening centers rather accept nursing staff, hospitalized patients, fragile patients, etc.\n",
    "\n",
    "There are also the coordinates of each sampling site, which will allow us to place them on the map. We also import a table with the coordinates of each department in France. Having a lot of screening locations, the map of France would become illegible. We then opted to display the maps of the French departments."
   ],
   "cell_type": "markdown",
   "metadata": {}
  },
  {
   "cell_type": "code",
   "execution_count": 2,
   "metadata": {},
   "outputs": [],
   "source": [
    "# all informations about screening centers in public access in France\n",
    "\n",
    "grand_public_path = '../covidviz/data/scr_public_centers.csv'\n",
    "depis_grand_public = pd.read_csv(grand_public_path)\n",
    "\n",
    "# all informtations about screening centers in restricted access in France\n",
    "\n",
    "acces_restreint_path = '../covidviz/data/scr_private_centers.csv'\n",
    "depis_acces_restreint = pd.read_csv(acces_restreint_path)\n",
    "\n",
    "# coordinates of french departments\n",
    "\n",
    "dep_fr = pd.read_csv('../covidviz/data/depart_fr_coord.csv', delimiter=';')"
   ]
  },
  {
   "source": [
    "We cleaned and also checked that each center had its geographic coordinates. There were 5 missing for the public centers, we found them thanks to the address. After that, we gathered in a dictionary all the maps of departments, to then add the markers (green and red) by department. Here we display the map of the Hérault department (34)."
   ],
   "cell_type": "markdown",
   "metadata": {}
  },
  {
   "cell_type": "code",
   "execution_count": 8,
   "metadata": {},
   "outputs": [
    {
     "output_type": "execute_result",
     "data": {
      "text/plain": [
       "<folium.folium.Map at 0x7fd7caf7b910>"
      ],
      "text/html": "<div style=\"width:100%;\"><div style=\"position:relative;width:100%;height:0;padding-bottom:60%;\"><span style=\"color:#565656\">Make this Notebook Trusted to load map: File -> Trust Notebook</span><iframe src=\"about:blank\" style=\"position:absolute;width:100%;height:100%;left:0;top:0;border:none !important;\" data-html=%3C%21DOCTYPE%20html%3E%0A%3Chead%3E%20%20%20%20%0A%20%20%20%20%3Cmeta%20http-equiv%3D%22content-type%22%20content%3D%22text/html%3B%20charset%3DUTF-8%22%20/%3E%0A%20%20%20%20%0A%20%20%20%20%20%20%20%20%3Cscript%3E%0A%20%20%20%20%20%20%20%20%20%20%20%20L_NO_TOUCH%20%3D%20false%3B%0A%20%20%20%20%20%20%20%20%20%20%20%20L_DISABLE_3D%20%3D%20false%3B%0A%20%20%20%20%20%20%20%20%3C/script%3E%0A%20%20%20%20%0A%20%20%20%20%3Cstyle%3Ehtml%2C%20body%20%7Bwidth%3A%20100%25%3Bheight%3A%20100%25%3Bmargin%3A%200%3Bpadding%3A%200%3B%7D%3C/style%3E%0A%20%20%20%20%3Cstyle%3E%23map%20%7Bposition%3Aabsolute%3Btop%3A0%3Bbottom%3A0%3Bright%3A0%3Bleft%3A0%3B%7D%3C/style%3E%0A%20%20%20%20%3Cscript%20src%3D%22https%3A//cdn.jsdelivr.net/npm/leaflet%401.6.0/dist/leaflet.js%22%3E%3C/script%3E%0A%20%20%20%20%3Cscript%20src%3D%22https%3A//code.jquery.com/jquery-1.12.4.min.js%22%3E%3C/script%3E%0A%20%20%20%20%3Cscript%20src%3D%22https%3A//maxcdn.bootstrapcdn.com/bootstrap/3.2.0/js/bootstrap.min.js%22%3E%3C/script%3E%0A%20%20%20%20%3Cscript%20src%3D%22https%3A//cdnjs.cloudflare.com/ajax/libs/Leaflet.awesome-markers/2.0.2/leaflet.awesome-markers.js%22%3E%3C/script%3E%0A%20%20%20%20%3Clink%20rel%3D%22stylesheet%22%20href%3D%22https%3A//cdn.jsdelivr.net/npm/leaflet%401.6.0/dist/leaflet.css%22/%3E%0A%20%20%20%20%3Clink%20rel%3D%22stylesheet%22%20href%3D%22https%3A//maxcdn.bootstrapcdn.com/bootstrap/3.2.0/css/bootstrap.min.css%22/%3E%0A%20%20%20%20%3Clink%20rel%3D%22stylesheet%22%20href%3D%22https%3A//maxcdn.bootstrapcdn.com/bootstrap/3.2.0/css/bootstrap-theme.min.css%22/%3E%0A%20%20%20%20%3Clink%20rel%3D%22stylesheet%22%20href%3D%22https%3A//maxcdn.bootstrapcdn.com/font-awesome/4.6.3/css/font-awesome.min.css%22/%3E%0A%20%20%20%20%3Clink%20rel%3D%22stylesheet%22%20href%3D%22https%3A//cdnjs.cloudflare.com/ajax/libs/Leaflet.awesome-markers/2.0.2/leaflet.awesome-markers.css%22/%3E%0A%20%20%20%20%3Clink%20rel%3D%22stylesheet%22%20href%3D%22https%3A//cdn.jsdelivr.net/gh/python-visualization/folium/folium/templates/leaflet.awesome.rotate.min.css%22/%3E%0A%20%20%20%20%0A%20%20%20%20%20%20%20%20%20%20%20%20%3Cmeta%20name%3D%22viewport%22%20content%3D%22width%3Ddevice-width%2C%0A%20%20%20%20%20%20%20%20%20%20%20%20%20%20%20%20initial-scale%3D1.0%2C%20maximum-scale%3D1.0%2C%20user-scalable%3Dno%22%20/%3E%0A%20%20%20%20%20%20%20%20%20%20%20%20%3Cstyle%3E%0A%20%20%20%20%20%20%20%20%20%20%20%20%20%20%20%20%23map_2d6b94ddbdfc4564ac60676369dd8f38%20%7B%0A%20%20%20%20%20%20%20%20%20%20%20%20%20%20%20%20%20%20%20%20position%3A%20relative%3B%0A%20%20%20%20%20%20%20%20%20%20%20%20%20%20%20%20%20%20%20%20width%3A%20100.0%25%3B%0A%20%20%20%20%20%20%20%20%20%20%20%20%20%20%20%20%20%20%20%20height%3A%20100.0%25%3B%0A%20%20%20%20%20%20%20%20%20%20%20%20%20%20%20%20%20%20%20%20left%3A%200.0%25%3B%0A%20%20%20%20%20%20%20%20%20%20%20%20%20%20%20%20%20%20%20%20top%3A%200.0%25%3B%0A%20%20%20%20%20%20%20%20%20%20%20%20%20%20%20%20%7D%0A%20%20%20%20%20%20%20%20%20%20%20%20%3C/style%3E%0A%20%20%20%20%20%20%20%20%0A%3C/head%3E%0A%3Cbody%3E%20%20%20%20%0A%20%20%20%20%0A%20%20%20%20%20%20%20%20%20%20%20%20%3Cdiv%20class%3D%22folium-map%22%20id%3D%22map_2d6b94ddbdfc4564ac60676369dd8f38%22%20%3E%3C/div%3E%0A%20%20%20%20%20%20%20%20%0A%3C/body%3E%0A%3Cscript%3E%20%20%20%20%0A%20%20%20%20%0A%20%20%20%20%20%20%20%20%20%20%20%20var%20map_2d6b94ddbdfc4564ac60676369dd8f38%20%3D%20L.map%28%0A%20%20%20%20%20%20%20%20%20%20%20%20%20%20%20%20%22map_2d6b94ddbdfc4564ac60676369dd8f38%22%2C%0A%20%20%20%20%20%20%20%20%20%20%20%20%20%20%20%20%7B%0A%20%20%20%20%20%20%20%20%20%20%20%20%20%20%20%20%20%20%20%20center%3A%20%5B43.590116%2C%202.8065874%5D%2C%0A%20%20%20%20%20%20%20%20%20%20%20%20%20%20%20%20%20%20%20%20crs%3A%20L.CRS.EPSG3857%2C%0A%20%20%20%20%20%20%20%20%20%20%20%20%20%20%20%20%20%20%20%20zoom%3A%208%2C%0A%20%20%20%20%20%20%20%20%20%20%20%20%20%20%20%20%20%20%20%20zoomControl%3A%20true%2C%0A%20%20%20%20%20%20%20%20%20%20%20%20%20%20%20%20%20%20%20%20preferCanvas%3A%20false%2C%0A%20%20%20%20%20%20%20%20%20%20%20%20%20%20%20%20%7D%0A%20%20%20%20%20%20%20%20%20%20%20%20%29%3B%0A%0A%20%20%20%20%20%20%20%20%20%20%20%20%0A%0A%20%20%20%20%20%20%20%20%0A%20%20%20%20%0A%20%20%20%20%20%20%20%20%20%20%20%20var%20tile_layer_6f1b4b1f221f48ab8a07790d41063757%20%3D%20L.tileLayer%28%0A%20%20%20%20%20%20%20%20%20%20%20%20%20%20%20%20%22https%3A//%7Bs%7D.tile.openstreetmap.org/%7Bz%7D/%7Bx%7D/%7By%7D.png%22%2C%0A%20%20%20%20%20%20%20%20%20%20%20%20%20%20%20%20%7B%22attribution%22%3A%20%22Data%20by%20%5Cu0026copy%3B%20%5Cu003ca%20href%3D%5C%22http%3A//openstreetmap.org%5C%22%5Cu003eOpenStreetMap%5Cu003c/a%5Cu003e%2C%20under%20%5Cu003ca%20href%3D%5C%22http%3A//www.openstreetmap.org/copyright%5C%22%5Cu003eODbL%5Cu003c/a%5Cu003e.%22%2C%20%22detectRetina%22%3A%20false%2C%20%22maxNativeZoom%22%3A%2018%2C%20%22maxZoom%22%3A%2018%2C%20%22minZoom%22%3A%200%2C%20%22noWrap%22%3A%20false%2C%20%22opacity%22%3A%201%2C%20%22subdomains%22%3A%20%22abc%22%2C%20%22tms%22%3A%20false%7D%0A%20%20%20%20%20%20%20%20%20%20%20%20%29.addTo%28map_2d6b94ddbdfc4564ac60676369dd8f38%29%3B%0A%20%20%20%20%20%20%20%20%0A%20%20%20%20%0A%20%20%20%20%20%20%20%20%20%20%20%20var%20marker_4303ed46c202432082c330024dbb5d84%20%3D%20L.marker%28%0A%20%20%20%20%20%20%20%20%20%20%20%20%20%20%20%20%5B43.4614896477999%2C%203.42412218123667%5D%2C%0A%20%20%20%20%20%20%20%20%20%20%20%20%20%20%20%20%7B%7D%0A%20%20%20%20%20%20%20%20%20%20%20%20%29.addTo%28map_2d6b94ddbdfc4564ac60676369dd8f38%29%3B%0A%20%20%20%20%20%20%20%20%0A%20%20%20%20%0A%20%20%20%20%20%20%20%20%20%20%20%20var%20icon_1398edf163224bbd957e01aa0d3aac14%20%3D%20L.AwesomeMarkers.icon%28%0A%20%20%20%20%20%20%20%20%20%20%20%20%20%20%20%20%7B%22extraClasses%22%3A%20%22fa-rotate-0%22%2C%20%22icon%22%3A%20%22info-sign%22%2C%20%22iconColor%22%3A%20%22white%22%2C%20%22markerColor%22%3A%20%22green%22%2C%20%22prefix%22%3A%20%22glyphicon%22%7D%0A%20%20%20%20%20%20%20%20%20%20%20%20%29%3B%0A%20%20%20%20%20%20%20%20%20%20%20%20marker_4303ed46c202432082c330024dbb5d84.setIcon%28icon_1398edf163224bbd957e01aa0d3aac14%29%3B%0A%20%20%20%20%20%20%20%20%0A%20%20%20%20%0A%20%20%20%20%20%20%20%20var%20popup_f92f9a6eff244d629e0c8e3650f5925c%20%3D%20L.popup%28%7B%22maxWidth%22%3A%20500%7D%29%3B%0A%0A%20%20%20%20%20%20%20%20%0A%20%20%20%20%20%20%20%20%20%20%20%20var%20html_ec3fbb8abef247499da0d3a6acfce985%20%3D%20%24%28%60%3Cdiv%20id%3D%22html_ec3fbb8abef247499da0d3a6acfce985%22%20style%3D%22width%3A%20100.0%25%3B%20height%3A%20100.0%25%3B%22%3E%3Ch4%3E%3Cb%3E%3Cp%20style%3D%22text-align%3Acenter%3B%22%3ELBM%20Biomed34%20P%C3%A9zenas%3C/p%3E%3C/b%3E%3C/h4%3E%3Cbr%3E%3Ch5%3E%3Cb%3EAdresse%20%3A%20%3C/b%3E%3C/h5%3E6%20Place%20du%2014%20Juillet%2034120%20P%C3%A9zenas%3Cbr%3E%3Ci%3ELocal%20d%C3%A9di%C3%A9%3C/i%3E%3Cbr%3E%3Cstrong%3E%3Cb%3ETest%20RT-PCR%20%3A%20%3C/b%3E%3C/strong%3EOUI%3Cbr%3E%3Cstrong%3E%3Cb%3ETest%20antig%C3%A9nique%20%3A%20%3C/b%3E%3C/strong%3ENON%3Cbr%3E%3Cstrong%3E%3Cb%3EModalit%C3%A9s%20de%20pr%C3%A9l%C3%A8vement%20%3A%20%3C/b%3E%3C/strong%3ESur%20place%3Cbr%3E%3Cstrong%3E%3Cb%3EPublic%20%3A%20%3C/b%3E%3C/strong%3ETout%20public%3Cbr%3E%3Cstrong%3E%3Cb%3EAcc%C3%A8s%20%3A%20%3C/b%3E%3C/strong%3ESur%20rendez-vous%20uniquement%3Cbr%3E%3Ch5%3E%3Cb%3EHoraire%20%3A%20%3C/b%3E%3C/h5%3ESur%20rendez-vous%20uniquement%20%7C%20Du%20lundi%20au%20vendredi%20%3A%209h-12h%20et%2014h-18h%3Cbr%3E%3Cstrong%3E%3Cb%3EPersonnes%20prioritaires%20%3A%20%3C/b%3E%3C/strong%3E-%3Cbr%3E%3Cstrong%3E%3Cb%3ET%C3%A9l%C3%A9phone%20%3A%20%3C/b%3E%3C/strong%3E0467988543%3Cbr%3E%3Cstrong%3E%3Cb%3ESite%20internet%20%3A%20%3C/b%3E%3C/strong%3E-%3C/div%3E%60%29%5B0%5D%3B%0A%20%20%20%20%20%20%20%20%20%20%20%20popup_f92f9a6eff244d629e0c8e3650f5925c.setContent%28html_ec3fbb8abef247499da0d3a6acfce985%29%3B%0A%20%20%20%20%20%20%20%20%0A%0A%20%20%20%20%20%20%20%20marker_4303ed46c202432082c330024dbb5d84.bindPopup%28popup_f92f9a6eff244d629e0c8e3650f5925c%29%0A%20%20%20%20%20%20%20%20%3B%0A%0A%20%20%20%20%20%20%20%20%0A%20%20%20%20%0A%20%20%20%20%0A%20%20%20%20%20%20%20%20%20%20%20%20marker_4303ed46c202432082c330024dbb5d84.bindTooltip%28%0A%20%20%20%20%20%20%20%20%20%20%20%20%20%20%20%20%60%3Cdiv%3E%0A%20%20%20%20%20%20%20%20%20%20%20%20%20%20%20%20%20%20%20%20%20%3Cstrong%3E6%20Place%20du%2014%20Juillet%2034120%20P%C3%A9zenas%3C/strong%3E%0A%20%20%20%20%20%20%20%20%20%20%20%20%20%20%20%20%20%3C/div%3E%60%2C%0A%20%20%20%20%20%20%20%20%20%20%20%20%20%20%20%20%7B%22sticky%22%3A%20true%7D%0A%20%20%20%20%20%20%20%20%20%20%20%20%29%3B%0A%20%20%20%20%20%20%20%20%0A%20%20%20%20%0A%20%20%20%20%20%20%20%20%20%20%20%20var%20marker_a30bd3799c594d70a34d2db3a344c2a3%20%3D%20L.marker%28%0A%20%20%20%20%20%20%20%20%20%20%20%20%20%20%20%20%5B43.460948%2C%203.424244%5D%2C%0A%20%20%20%20%20%20%20%20%20%20%20%20%20%20%20%20%7B%7D%0A%20%20%20%20%20%20%20%20%20%20%20%20%29.addTo%28map_2d6b94ddbdfc4564ac60676369dd8f38%29%3B%0A%20%20%20%20%20%20%20%20%0A%20%20%20%20%0A%20%20%20%20%20%20%20%20%20%20%20%20var%20icon_04e0146f0404403da3fc247b86820cf0%20%3D%20L.AwesomeMarkers.icon%28%0A%20%20%20%20%20%20%20%20%20%20%20%20%20%20%20%20%7B%22extraClasses%22%3A%20%22fa-rotate-0%22%2C%20%22icon%22%3A%20%22info-sign%22%2C%20%22iconColor%22%3A%20%22white%22%2C%20%22markerColor%22%3A%20%22green%22%2C%20%22prefix%22%3A%20%22glyphicon%22%7D%0A%20%20%20%20%20%20%20%20%20%20%20%20%29%3B%0A%20%20%20%20%20%20%20%20%20%20%20%20marker_a30bd3799c594d70a34d2db3a344c2a3.setIcon%28icon_04e0146f0404403da3fc247b86820cf0%29%3B%0A%20%20%20%20%20%20%20%20%0A%20%20%20%20%0A%20%20%20%20%20%20%20%20var%20popup_ee8259d193ad49229ab367b6e9c11873%20%3D%20L.popup%28%7B%22maxWidth%22%3A%20500%7D%29%3B%0A%0A%20%20%20%20%20%20%20%20%0A%20%20%20%20%20%20%20%20%20%20%20%20var%20html_f4c9718726c44d9383308a6d2a18c415%20%3D%20%24%28%60%3Cdiv%20id%3D%22html_f4c9718726c44d9383308a6d2a18c415%22%20style%3D%22width%3A%20100.0%25%3B%20height%3A%20100.0%25%3B%22%3E%3Ch4%3E%3Cb%3E%3Cp%20style%3D%22text-align%3Acenter%3B%22%3ECentre%20m%C3%A9dical%20Calypso%3C/p%3E%3C/b%3E%3C/h4%3E%3Cbr%3E%3Ch5%3E%3Cb%3EAdresse%20%3A%20%3C/b%3E%3C/h5%3EZA%20du%20Coustel%2034320%20Roujan%3Cbr%3E%3Ci%3ELocal%20d%C3%A9di%C3%A9%20sur%20secteur%20COVID%3C/i%3E%3Cbr%3E%3Cstrong%3E%3Cb%3ETest%20RT-PCR%20%3A%20%3C/b%3E%3C/strong%3EOUI%3Cbr%3E%3Cstrong%3E%3Cb%3ETest%20antig%C3%A9nique%20%3A%20%3C/b%3E%3C/strong%3ENON%3Cbr%3E%3Cstrong%3E%3Cb%3EModalit%C3%A9s%20de%20pr%C3%A9l%C3%A8vement%20%3A%20%3C/b%3E%3C/strong%3ESur%20place%3Cbr%3E%3Cstrong%3E%3Cb%3EPublic%20%3A%20%3C/b%3E%3C/strong%3ETout%20public%3Cbr%3E%3Cstrong%3E%3Cb%3EAcc%C3%A8s%20%3A%20%3C/b%3E%3C/strong%3ESur%20rendez-vous%20uniquement%3Cbr%3E%3Ch5%3E%3Cb%3EHoraire%20%3A%20%3C/b%3E%3C/h5%3E10h00%20-%2012h00%20%7C%2015h00%20-%2017h00%20%7C%20Du%20lundi%20au%20vendredi%3Cbr%3E%3Cstrong%3E%3Cb%3EPersonnes%20prioritaires%20%3A%20%3C/b%3E%3C/strong%3E-%3Cbr%3E%3Cstrong%3E%3Cb%3ET%C3%A9l%C3%A9phone%20%3A%20%3C/b%3E%3C/strong%3E0467246038%3Cbr%3E%3Cstrong%3E%3Cb%3ESite%20internet%20%3A%20%3C/b%3E%3C/strong%3E-%3C/div%3E%60%29%5B0%5D%3B%0A%20%20%20%20%20%20%20%20%20%20%20%20popup_ee8259d193ad49229ab367b6e9c11873.setContent%28html_f4c9718726c44d9383308a6d2a18c415%29%3B%0A%20%20%20%20%20%20%20%20%0A%0A%20%20%20%20%20%20%20%20marker_a30bd3799c594d70a34d2db3a344c2a3.bindPopup%28popup_ee8259d193ad49229ab367b6e9c11873%29%0A%20%20%20%20%20%20%20%20%3B%0A%0A%20%20%20%20%20%20%20%20%0A%20%20%20%20%0A%20%20%20%20%0A%20%20%20%20%20%20%20%20%20%20%20%20marker_a30bd3799c594d70a34d2db3a344c2a3.bindTooltip%28%0A%20%20%20%20%20%20%20%20%20%20%20%20%20%20%20%20%60%3Cdiv%3E%0A%20%20%20%20%20%20%20%20%20%20%20%20%20%20%20%20%20%20%20%20%20%3Cstrong%3EZA%20du%20Coustel%2034320%20Roujan%3C/strong%3E%0A%20%20%20%20%20%20%20%20%20%20%20%20%20%20%20%20%20%3C/div%3E%60%2C%0A%20%20%20%20%20%20%20%20%20%20%20%20%20%20%20%20%7B%22sticky%22%3A%20true%7D%0A%20%20%20%20%20%20%20%20%20%20%20%20%29%3B%0A%20%20%20%20%20%20%20%20%0A%20%20%20%20%0A%20%20%20%20%20%20%20%20%20%20%20%20var%20marker_80951fb87e9349e99699a30558bb21e6%20%3D%20L.marker%28%0A%20%20%20%20%20%20%20%20%20%20%20%20%20%20%20%20%5B43.5483123290897%2C%203.77791759814749%5D%2C%0A%20%20%20%20%20%20%20%20%20%20%20%20%20%20%20%20%7B%7D%0A%20%20%20%20%20%20%20%20%20%20%20%20%29.addTo%28map_2d6b94ddbdfc4564ac60676369dd8f38%29%3B%0A%20%20%20%20%20%20%20%20%0A%20%20%20%20%0A%20%20%20%20%20%20%20%20%20%20%20%20var%20icon_2251ad6f79f344ed935fde28e7fc6a81%20%3D%20L.AwesomeMarkers.icon%28%0A%20%20%20%20%20%20%20%20%20%20%20%20%20%20%20%20%7B%22extraClasses%22%3A%20%22fa-rotate-0%22%2C%20%22icon%22%3A%20%22info-sign%22%2C%20%22iconColor%22%3A%20%22white%22%2C%20%22markerColor%22%3A%20%22green%22%2C%20%22prefix%22%3A%20%22glyphicon%22%7D%0A%20%20%20%20%20%20%20%20%20%20%20%20%29%3B%0A%20%20%20%20%20%20%20%20%20%20%20%20marker_80951fb87e9349e99699a30558bb21e6.setIcon%28icon_2251ad6f79f344ed935fde28e7fc6a81%29%3B%0A%20%20%20%20%20%20%20%20%0A%20%20%20%20%0A%20%20%20%20%20%20%20%20var%20popup_d92204662c2545eda68dd38887acd3a6%20%3D%20L.popup%28%7B%22maxWidth%22%3A%20500%7D%29%3B%0A%0A%20%20%20%20%20%20%20%20%0A%20%20%20%20%20%20%20%20%20%20%20%20var%20html_0695623d2d1e4689a5d335cfdb24ae02%20%3D%20%24%28%60%3Cdiv%20id%3D%22html_0695623d2d1e4689a5d335cfdb24ae02%22%20style%3D%22width%3A%20100.0%25%3B%20height%3A%20100.0%25%3B%22%3E%3Ch4%3E%3Cb%3E%3Cp%20style%3D%22text-align%3Acenter%3B%22%3ELBM%20BIOMED%2034%20FABREGUES%20%20%20%20%20%20%20%20%20%20pr%C3%A9l%C3%A8vements%20PCR%20r%C3%A9alis%C3%A9s%20%C3%A0%20domicile%20uniquement%3C/p%3E%3C/b%3E%3C/h4%3E%3Cbr%3E%3Ch5%3E%3Cb%3EAdresse%20%3A%20%3C/b%3E%3C/h5%3E9%20R%20CALMETTE%2034690%20FABREGUES%3Cbr%3E%3Ci%3Epr%C3%A9l%C3%A8vements%20PCR%20r%C3%A9alis%C3%A9s%20%C3%A0%20domicile%20uniquement%3C/i%3E%3Cbr%3E%3Cstrong%3E%3Cb%3ETest%20RT-PCR%20%3A%20%3C/b%3E%3C/strong%3EOUI%3Cbr%3E%3Cstrong%3E%3Cb%3ETest%20antig%C3%A9nique%20%3A%20%3C/b%3E%3C/strong%3ENON%3Cbr%3E%3Cstrong%3E%3Cb%3EModalit%C3%A9s%20de%20pr%C3%A9l%C3%A8vement%20%3A%20%3C/b%3E%3C/strong%3EA%20domicile%3Cbr%3E%3Cstrong%3E%3Cb%3EPublic%20%3A%20%3C/b%3E%3C/strong%3ETout%20public%3Cbr%3E%3Cstrong%3E%3Cb%3EAcc%C3%A8s%20%3A%20%3C/b%3E%3C/strong%3ESur%20rendez-vous%20uniquement%3Cbr%3E%3Ch5%3E%3Cb%3EHoraire%20%3A%20%3C/b%3E%3C/h5%3Elundi%20%3A%2010h00-12h00%20%7C%20mardi%20%3A%2010h00-12h00%20%20%7C%20mercredi%20%3A%2010h00-12h00%20%20%7C%20jeudi%20%3A%2010h00-12h00%20%20%7C%20vendredi%20%3A%2010h00-12h00%20%20%7C%20samedi%20%3A%20ferm%C3%A9%20%7C%20dimanche%20%3A%20ferm%C3%A9%3Cbr%3E%3Cstrong%3E%3Cb%3EPersonnes%20prioritaires%20%3A%20%3C/b%3E%3C/strong%3E-%3Cbr%3E%3Cstrong%3E%3Cb%3ET%C3%A9l%C3%A9phone%20%3A%20%3C/b%3E%3C/strong%3E04%2067%2085%2044%2055%3Cbr%3E%3Cstrong%3E%3Cb%3ESite%20internet%20%3A%20%3C/b%3E%3C/strong%3E-%3C/div%3E%60%29%5B0%5D%3B%0A%20%20%20%20%20%20%20%20%20%20%20%20popup_d92204662c2545eda68dd38887acd3a6.setContent%28html_0695623d2d1e4689a5d335cfdb24ae02%29%3B%0A%20%20%20%20%20%20%20%20%0A%0A%20%20%20%20%20%20%20%20marker_80951fb87e9349e99699a30558bb21e6.bindPopup%28popup_d92204662c2545eda68dd38887acd3a6%29%0A%20%20%20%20%20%20%20%20%3B%0A%0A%20%20%20%20%20%20%20%20%0A%20%20%20%20%0A%20%20%20%20%0A%20%20%20%20%20%20%20%20%20%20%20%20marker_80951fb87e9349e99699a30558bb21e6.bindTooltip%28%0A%20%20%20%20%20%20%20%20%20%20%20%20%20%20%20%20%60%3Cdiv%3E%0A%20%20%20%20%20%20%20%20%20%20%20%20%20%20%20%20%20%20%20%20%20%3Cstrong%3E9%20R%20CALMETTE%2034690%20FABREGUES%3C/strong%3E%0A%20%20%20%20%20%20%20%20%20%20%20%20%20%20%20%20%20%3C/div%3E%60%2C%0A%20%20%20%20%20%20%20%20%20%20%20%20%20%20%20%20%7B%22sticky%22%3A%20true%7D%0A%20%20%20%20%20%20%20%20%20%20%20%20%29%3B%0A%20%20%20%20%20%20%20%20%0A%20%20%20%20%0A%20%20%20%20%20%20%20%20%20%20%20%20var%20marker_3c6e6fa133ce4f56aede2d9922260fac%20%3D%20L.marker%28%0A%20%20%20%20%20%20%20%20%20%20%20%20%20%20%20%20%5B43.5268691477668%2C%203.92987293901817%5D%2C%0A%20%20%20%20%20%20%20%20%20%20%20%20%20%20%20%20%7B%7D%0A%20%20%20%20%20%20%20%20%20%20%20%20%29.addTo%28map_2d6b94ddbdfc4564ac60676369dd8f38%29%3B%0A%20%20%20%20%20%20%20%20%0A%20%20%20%20%0A%20%20%20%20%20%20%20%20%20%20%20%20var%20icon_5a2a77c37fe2405493f35d4c92bfda06%20%3D%20L.AwesomeMarkers.icon%28%0A%20%20%20%20%20%20%20%20%20%20%20%20%20%20%20%20%7B%22extraClasses%22%3A%20%22fa-rotate-0%22%2C%20%22icon%22%3A%20%22info-sign%22%2C%20%22iconColor%22%3A%20%22white%22%2C%20%22markerColor%22%3A%20%22green%22%2C%20%22prefix%22%3A%20%22glyphicon%22%7D%0A%20%20%20%20%20%20%20%20%20%20%20%20%29%3B%0A%20%20%20%20%20%20%20%20%20%20%20%20marker_3c6e6fa133ce4f56aede2d9922260fac.setIcon%28icon_5a2a77c37fe2405493f35d4c92bfda06%29%3B%0A%20%20%20%20%20%20%20%20%0A%20%20%20%20%0A%20%20%20%20%20%20%20%20var%20popup_8c0deb4269014660b170ecec98b6ec6c%20%3D%20L.popup%28%7B%22maxWidth%22%3A%20500%7D%29%3B%0A%0A%20%20%20%20%20%20%20%20%0A%20%20%20%20%20%20%20%20%20%20%20%20var%20html_90cca0f40c1a44ddabdb820608c2c71d%20%3D%20%24%28%60%3Cdiv%20id%3D%22html_90cca0f40c1a44ddabdb820608c2c71d%22%20style%3D%22width%3A%20100.0%25%3B%20height%3A%20100.0%25%3B%22%3E%3Ch4%3E%3Cb%3E%3Cp%20style%3D%22text-align%3Acenter%3B%22%3ELBM%20BIOMED%2034%20PALAVAS%20LES%20FLOTS%3C/p%3E%3C/b%3E%3C/h4%3E%3Cbr%3E%3Ch5%3E%3Cb%3EAdresse%20%3A%20%3C/b%3E%3C/h5%3E11%20R%20BLANCHE%20DE%20CASTILLE%2034250%20PALAVAS%20LES%20FLOTS%3Cbr%3E%3Ci%3E-%3C/i%3E%3Cbr%3E%3Cstrong%3E%3Cb%3ETest%20RT-PCR%20%3A%20%3C/b%3E%3C/strong%3EOUI%3Cbr%3E%3Cstrong%3E%3Cb%3ETest%20antig%C3%A9nique%20%3A%20%3C/b%3E%3C/strong%3ENON%3Cbr%3E%3Cstrong%3E%3Cb%3EModalit%C3%A9s%20de%20pr%C3%A9l%C3%A8vement%20%3A%20%3C/b%3E%3C/strong%3ESur%20place%3Cbr%3E%3Cstrong%3E%3Cb%3EPublic%20%3A%20%3C/b%3E%3C/strong%3ETout%20public%3Cbr%3E%3Cstrong%3E%3Cb%3EAcc%C3%A8s%20%3A%20%3C/b%3E%3C/strong%3ESur%20rendez-vous%20uniquement%3Cbr%3E%3Ch5%3E%3Cb%3EHoraire%20%3A%20%3C/b%3E%3C/h5%3Elundi%20%3A%2010h00-12h00%20%20%7C%20mardi%20%3A%2010h00-12h00%20%20%7C%20mercredi%20%3A%2010h00-12h00%20%20%7C%20jeudi%20%3A%2010h00-12h00%20%20%7C%20vendredi%20%3A%2010h00-12h00%20%20%7C%20samedi%20%3A%20ferm%C3%A9%20%7C%20dimanche%20%3A%20ferm%C3%A9%3Cbr%3E%3Cstrong%3E%3Cb%3EPersonnes%20prioritaires%20%3A%20%3C/b%3E%3C/strong%3E-%3Cbr%3E%3Cstrong%3E%3Cb%3ET%C3%A9l%C3%A9phone%20%3A%20%3C/b%3E%3C/strong%3E-%3Cbr%3E%3Cstrong%3E%3Cb%3ESite%20internet%20%3A%20%3C/b%3E%3C/strong%3E-%3C/div%3E%60%29%5B0%5D%3B%0A%20%20%20%20%20%20%20%20%20%20%20%20popup_8c0deb4269014660b170ecec98b6ec6c.setContent%28html_90cca0f40c1a44ddabdb820608c2c71d%29%3B%0A%20%20%20%20%20%20%20%20%0A%0A%20%20%20%20%20%20%20%20marker_3c6e6fa133ce4f56aede2d9922260fac.bindPopup%28popup_8c0deb4269014660b170ecec98b6ec6c%29%0A%20%20%20%20%20%20%20%20%3B%0A%0A%20%20%20%20%20%20%20%20%0A%20%20%20%20%0A%20%20%20%20%0A%20%20%20%20%20%20%20%20%20%20%20%20marker_3c6e6fa133ce4f56aede2d9922260fac.bindTooltip%28%0A%20%20%20%20%20%20%20%20%20%20%20%20%20%20%20%20%60%3Cdiv%3E%0A%20%20%20%20%20%20%20%20%20%20%20%20%20%20%20%20%20%20%20%20%20%3Cstrong%3E11%20R%20BLANCHE%20DE%20CASTILLE%2034250%20PALAVAS%20LES%20FLOTS%3C/strong%3E%0A%20%20%20%20%20%20%20%20%20%20%20%20%20%20%20%20%20%3C/div%3E%60%2C%0A%20%20%20%20%20%20%20%20%20%20%20%20%20%20%20%20%7B%22sticky%22%3A%20true%7D%0A%20%20%20%20%20%20%20%20%20%20%20%20%29%3B%0A%20%20%20%20%20%20%20%20%0A%20%20%20%20%0A%20%20%20%20%20%20%20%20%20%20%20%20var%20marker_db70745a7aa44a1187271c6bc450e9fa%20%3D%20L.marker%28%0A%20%20%20%20%20%20%20%20%20%20%20%20%20%20%20%20%5B43.2998087482647%2C%203.49274328024983%5D%2C%0A%20%20%20%20%20%20%20%20%20%20%20%20%20%20%20%20%7B%7D%0A%20%20%20%20%20%20%20%20%20%20%20%20%29.addTo%28map_2d6b94ddbdfc4564ac60676369dd8f38%29%3B%0A%20%20%20%20%20%20%20%20%0A%20%20%20%20%0A%20%20%20%20%20%20%20%20%20%20%20%20var%20icon_8edb3d79400748f98895f9c55838ca7f%20%3D%20L.AwesomeMarkers.icon%28%0A%20%20%20%20%20%20%20%20%20%20%20%20%20%20%20%20%7B%22extraClasses%22%3A%20%22fa-rotate-0%22%2C%20%22icon%22%3A%20%22info-sign%22%2C%20%22iconColor%22%3A%20%22white%22%2C%20%22markerColor%22%3A%20%22green%22%2C%20%22prefix%22%3A%20%22glyphicon%22%7D%0A%20%20%20%20%20%20%20%20%20%20%20%20%29%3B%0A%20%20%20%20%20%20%20%20%20%20%20%20marker_db70745a7aa44a1187271c6bc450e9fa.setIcon%28icon_8edb3d79400748f98895f9c55838ca7f%29%3B%0A%20%20%20%20%20%20%20%20%0A%20%20%20%20%0A%20%20%20%20%20%20%20%20var%20popup_fa3dc4f5a7eb418daa6b3c262db973ea%20%3D%20L.popup%28%7B%22maxWidth%22%3A%20500%7D%29%3B%0A%0A%20%20%20%20%20%20%20%20%0A%20%20%20%20%20%20%20%20%20%20%20%20var%20html_12cf48b16af24272b44e29e0c20e1772%20%3D%20%24%28%60%3Cdiv%20id%3D%22html_12cf48b16af24272b44e29e0c20e1772%22%20style%3D%22width%3A%20100.0%25%3B%20height%3A%20100.0%25%3B%22%3E%3Ch4%3E%3Cb%3E%3Cp%20style%3D%22text-align%3Acenter%3B%22%3ELBM%20BIOMED%2034%20AGDE%20EUROPE%3C/p%3E%3C/b%3E%3C/h4%3E%3Cbr%3E%3Ch5%3E%3Cb%3EAdresse%20%3A%20%3C/b%3E%3C/h5%3E2%20R%20DE%20ROME%2034300%20AGDE%3Cbr%3E%3Ci%3E-%3C/i%3E%3Cbr%3E%3Cstrong%3E%3Cb%3ETest%20RT-PCR%20%3A%20%3C/b%3E%3C/strong%3EOUI%3Cbr%3E%3Cstrong%3E%3Cb%3ETest%20antig%C3%A9nique%20%3A%20%3C/b%3E%3C/strong%3ENON%3Cbr%3E%3Cstrong%3E%3Cb%3EModalit%C3%A9s%20de%20pr%C3%A9l%C3%A8vement%20%3A%20%3C/b%3E%3C/strong%3ESur%20place%3Cbr%3E%3Cstrong%3E%3Cb%3EPublic%20%3A%20%3C/b%3E%3C/strong%3ETout%20public%3Cbr%3E%3Cstrong%3E%3Cb%3EAcc%C3%A8s%20%3A%20%3C/b%3E%3C/strong%3ESur%20rendez-vous%20uniquement%3Cbr%3E%3Ch5%3E%3Cb%3EHoraire%20%3A%20%3C/b%3E%3C/h5%3Elundi%20%3A%2010h00-12h00%20et%2015h00-17h00%20%7C%20mardi%20%3A%2010h00-12h00%20et%2015h00-17h00%20%7C%20mercredi%20%3A%2010h00-12h00%20et%2015h00-17h00%20%7C%20jeudi%20%3A%2010h00-12h00%20et%2015h00-17h00%20%7C%20vendredi%20%3A%2010h00-12h00%20et%2015h00-17h00%20%7C%20samedi%20%3A%2010h00-12h00%20%7C%20dimanche%20%3A%20ferm%C3%A9%3Cbr%3E%3Cstrong%3E%3Cb%3EPersonnes%20prioritaires%20%3A%20%3C/b%3E%3C/strong%3E-%3Cbr%3E%3Cstrong%3E%3Cb%3ET%C3%A9l%C3%A9phone%20%3A%20%3C/b%3E%3C/strong%3E-%3Cbr%3E%3Cstrong%3E%3Cb%3ESite%20internet%20%3A%20%3C/b%3E%3C/strong%3E-%3C/div%3E%60%29%5B0%5D%3B%0A%20%20%20%20%20%20%20%20%20%20%20%20popup_fa3dc4f5a7eb418daa6b3c262db973ea.setContent%28html_12cf48b16af24272b44e29e0c20e1772%29%3B%0A%20%20%20%20%20%20%20%20%0A%0A%20%20%20%20%20%20%20%20marker_db70745a7aa44a1187271c6bc450e9fa.bindPopup%28popup_fa3dc4f5a7eb418daa6b3c262db973ea%29%0A%20%20%20%20%20%20%20%20%3B%0A%0A%20%20%20%20%20%20%20%20%0A%20%20%20%20%0A%20%20%20%20%0A%20%20%20%20%20%20%20%20%20%20%20%20marker_db70745a7aa44a1187271c6bc450e9fa.bindTooltip%28%0A%20%20%20%20%20%20%20%20%20%20%20%20%20%20%20%20%60%3Cdiv%3E%0A%20%20%20%20%20%20%20%20%20%20%20%20%20%20%20%20%20%20%20%20%20%3Cstrong%3E2%20R%20DE%20ROME%2034300%20AGDE%3C/strong%3E%0A%20%20%20%20%20%20%20%20%20%20%20%20%20%20%20%20%20%3C/div%3E%60%2C%0A%20%20%20%20%20%20%20%20%20%20%20%20%20%20%20%20%7B%22sticky%22%3A%20true%7D%0A%20%20%20%20%20%20%20%20%20%20%20%20%29%3B%0A%20%20%20%20%20%20%20%20%0A%20%20%20%20%0A%20%20%20%20%20%20%20%20%20%20%20%20var%20marker_ad48987223924fb9832e60eabe8fc621%20%3D%20L.marker%28%0A%20%20%20%20%20%20%20%20%20%20%20%20%20%20%20%20%5B43.3124466001951%2C%203.47083886935929%5D%2C%0A%20%20%20%20%20%20%20%20%20%20%20%20%20%20%20%20%7B%7D%0A%20%20%20%20%20%20%20%20%20%20%20%20%29.addTo%28map_2d6b94ddbdfc4564ac60676369dd8f38%29%3B%0A%20%20%20%20%20%20%20%20%0A%20%20%20%20%0A%20%20%20%20%20%20%20%20%20%20%20%20var%20icon_3d81f04e9f274ec0aaaab2b5ad921833%20%3D%20L.AwesomeMarkers.icon%28%0A%20%20%20%20%20%20%20%20%20%20%20%20%20%20%20%20%7B%22extraClasses%22%3A%20%22fa-rotate-0%22%2C%20%22icon%22%3A%20%22info-sign%22%2C%20%22iconColor%22%3A%20%22white%22%2C%20%22markerColor%22%3A%20%22green%22%2C%20%22prefix%22%3A%20%22glyphicon%22%7D%0A%20%20%20%20%20%20%20%20%20%20%20%20%29%3B%0A%20%20%20%20%20%20%20%20%20%20%20%20marker_ad48987223924fb9832e60eabe8fc621.setIcon%28icon_3d81f04e9f274ec0aaaab2b5ad921833%29%3B%0A%20%20%20%20%20%20%20%20%0A%20%20%20%20%0A%20%20%20%20%20%20%20%20var%20popup_2cabd845ef0049b38230489d5508b587%20%3D%20L.popup%28%7B%22maxWidth%22%3A%20500%7D%29%3B%0A%0A%20%20%20%20%20%20%20%20%0A%20%20%20%20%20%20%20%20%20%20%20%20var%20html_637dade8eadc4edc993e9078b513bc71%20%3D%20%24%28%60%3Cdiv%20id%3D%22html_637dade8eadc4edc993e9078b513bc71%22%20style%3D%22width%3A%20100.0%25%3B%20height%3A%20100.0%25%3B%22%3E%3Ch4%3E%3Cb%3E%3Cp%20style%3D%22text-align%3Acenter%3B%22%3ELBM%20BIOMED%2034%20AGDE%20TUILERIES%3C/p%3E%3C/b%3E%3C/h4%3E%3Cbr%3E%3Ch5%3E%3Cb%3EAdresse%20%3A%20%3C/b%3E%3C/h5%3E6%20AV%20DU%2011%20NOVEMBRE%201918%2034300%20AGDE%3Cbr%3E%3Ci%3E-%3C/i%3E%3Cbr%3E%3Cstrong%3E%3Cb%3ETest%20RT-PCR%20%3A%20%3C/b%3E%3C/strong%3EOUI%3Cbr%3E%3Cstrong%3E%3Cb%3ETest%20antig%C3%A9nique%20%3A%20%3C/b%3E%3C/strong%3ENON%3Cbr%3E%3Cstrong%3E%3Cb%3EModalit%C3%A9s%20de%20pr%C3%A9l%C3%A8vement%20%3A%20%3C/b%3E%3C/strong%3ESur%20place%3Cbr%3E%3Cstrong%3E%3Cb%3EPublic%20%3A%20%3C/b%3E%3C/strong%3ETout%20public%3Cbr%3E%3Cstrong%3E%3Cb%3EAcc%C3%A8s%20%3A%20%3C/b%3E%3C/strong%3ESur%20rendez-vous%20uniquement%3Cbr%3E%3Ch5%3E%3Cb%3EHoraire%20%3A%20%3C/b%3E%3C/h5%3Elundi%20%3A13h30-16h30%20%7C%20mardi%20%3A%2013h30-16h30%20%7C%20mercredi%20%3A%2013h30-16h30%20%7C%20jeudi%20%3A%2013h30-16h30%20%7C%20vendredi%20%3A%2013h30-16h30%20%7C%20samedi%20%3A%20ferm%C3%A9%20%7C%20dimanche%20%3A%20ferm%C3%A9%3Cbr%3E%3Cstrong%3E%3Cb%3EPersonnes%20prioritaires%20%3A%20%3C/b%3E%3C/strong%3E-%3Cbr%3E%3Cstrong%3E%3Cb%3ET%C3%A9l%C3%A9phone%20%3A%20%3C/b%3E%3C/strong%3E0467943292%20ou%200467942327%3Cbr%3E%3Cstrong%3E%3Cb%3ESite%20internet%20%3A%20%3C/b%3E%3C/strong%3E-%3C/div%3E%60%29%5B0%5D%3B%0A%20%20%20%20%20%20%20%20%20%20%20%20popup_2cabd845ef0049b38230489d5508b587.setContent%28html_637dade8eadc4edc993e9078b513bc71%29%3B%0A%20%20%20%20%20%20%20%20%0A%0A%20%20%20%20%20%20%20%20marker_ad48987223924fb9832e60eabe8fc621.bindPopup%28popup_2cabd845ef0049b38230489d5508b587%29%0A%20%20%20%20%20%20%20%20%3B%0A%0A%20%20%20%20%20%20%20%20%0A%20%20%20%20%0A%20%20%20%20%0A%20%20%20%20%20%20%20%20%20%20%20%20marker_ad48987223924fb9832e60eabe8fc621.bindTooltip%28%0A%20%20%20%20%20%20%20%20%20%20%20%20%20%20%20%20%60%3Cdiv%3E%0A%20%20%20%20%20%20%20%20%20%20%20%20%20%20%20%20%20%20%20%20%20%3Cstrong%3E6%20AV%20DU%2011%20NOVEMBRE%201918%2034300%20AGDE%3C/strong%3E%0A%20%20%20%20%20%20%20%20%20%20%20%20%20%20%20%20%20%3C/div%3E%60%2C%0A%20%20%20%20%20%20%20%20%20%20%20%20%20%20%20%20%7B%22sticky%22%3A%20true%7D%0A%20%20%20%20%20%20%20%20%20%20%20%20%29%3B%0A%20%20%20%20%20%20%20%20%0A%20%20%20%20%0A%20%20%20%20%20%20%20%20%20%20%20%20var%20marker_69a006ae29a54315b53e2604bd00e2e1%20%3D%20L.marker%28%0A%20%20%20%20%20%20%20%20%20%20%20%20%20%20%20%20%5B43.2682118898164%2C%203.28191876411438%5D%2C%0A%20%20%20%20%20%20%20%20%20%20%20%20%20%20%20%20%7B%7D%0A%20%20%20%20%20%20%20%20%20%20%20%20%29.addTo%28map_2d6b94ddbdfc4564ac60676369dd8f38%29%3B%0A%20%20%20%20%20%20%20%20%0A%20%20%20%20%0A%20%20%20%20%20%20%20%20%20%20%20%20var%20icon_9a45d256c7954f04bf560974192328ce%20%3D%20L.AwesomeMarkers.icon%28%0A%20%20%20%20%20%20%20%20%20%20%20%20%20%20%20%20%7B%22extraClasses%22%3A%20%22fa-rotate-0%22%2C%20%22icon%22%3A%20%22info-sign%22%2C%20%22iconColor%22%3A%20%22white%22%2C%20%22markerColor%22%3A%20%22green%22%2C%20%22prefix%22%3A%20%22glyphicon%22%7D%0A%20%20%20%20%20%20%20%20%20%20%20%20%29%3B%0A%20%20%20%20%20%20%20%20%20%20%20%20marker_69a006ae29a54315b53e2604bd00e2e1.setIcon%28icon_9a45d256c7954f04bf560974192328ce%29%3B%0A%20%20%20%20%20%20%20%20%0A%20%20%20%20%0A%20%20%20%20%20%20%20%20var%20popup_bb798d214e5746dda65144d63116a687%20%3D%20L.popup%28%7B%22maxWidth%22%3A%20500%7D%29%3B%0A%0A%20%20%20%20%20%20%20%20%0A%20%20%20%20%20%20%20%20%20%20%20%20var%20html_046f9127c0bc47b9b3e2869eea3590fd%20%3D%20%24%28%60%3Cdiv%20id%3D%22html_046f9127c0bc47b9b3e2869eea3590fd%22%20style%3D%22width%3A%20100.0%25%3B%20height%3A%20100.0%25%3B%22%3E%3Ch4%3E%3Cb%3E%3Cp%20style%3D%22text-align%3Acenter%3B%22%3ELBM%20BIOMED%2034%20SERIGNAN%3C/p%3E%3C/b%3E%3C/h4%3E%3Cbr%3E%3Ch5%3E%3Cb%3EAdresse%20%3A%20%3C/b%3E%3C/h5%3ERTE%20DE%20VALRAS%2034410%20SERIGNAN%3Cbr%3E%3Ci%3E-%3C/i%3E%3Cbr%3E%3Cstrong%3E%3Cb%3ETest%20RT-PCR%20%3A%20%3C/b%3E%3C/strong%3EOUI%3Cbr%3E%3Cstrong%3E%3Cb%3ETest%20antig%C3%A9nique%20%3A%20%3C/b%3E%3C/strong%3ENON%3Cbr%3E%3Cstrong%3E%3Cb%3EModalit%C3%A9s%20de%20pr%C3%A9l%C3%A8vement%20%3A%20%3C/b%3E%3C/strong%3ESur%20place%3Cbr%3E%3Cstrong%3E%3Cb%3EPublic%20%3A%20%3C/b%3E%3C/strong%3ETout%20public%3Cbr%3E%3Cstrong%3E%3Cb%3EAcc%C3%A8s%20%3A%20%3C/b%3E%3C/strong%3ESur%20rendez-vous%20uniquement%3Cbr%3E%3Ch5%3E%3Cb%3EHoraire%20%3A%20%3C/b%3E%3C/h5%3Elundi%20%3A%2010h00-12h00%20et%2014h00-17h30%20%7C%20mardi%20%3A%2010h00-12h00%20et%2014h00-17h30%20%7C%20mercredi%20%3A%2010h00-12h00%20et%2014h00-17h30%20%7C%20jeudi%20%3A%2010h00-12h00%20et%2014h00-17h30%20%7C%20vendredi%20%3A%2010h00-12h00%20et%2014h00-17h30%20%7C%20samedi%20%3A%2010h00-11h30%20%7C%20dimanche%20%3A%20ferm%C3%A9%3Cbr%3E%3Cstrong%3E%3Cb%3EPersonnes%20prioritaires%20%3A%20%3C/b%3E%3C/strong%3E-%3Cbr%3E%3Cstrong%3E%3Cb%3ET%C3%A9l%C3%A9phone%20%3A%20%3C/b%3E%3C/strong%3E0467627730%3Cbr%3E%3Cstrong%3E%3Cb%3ESite%20internet%20%3A%20%3C/b%3E%3C/strong%3E-%3C/div%3E%60%29%5B0%5D%3B%0A%20%20%20%20%20%20%20%20%20%20%20%20popup_bb798d214e5746dda65144d63116a687.setContent%28html_046f9127c0bc47b9b3e2869eea3590fd%29%3B%0A%20%20%20%20%20%20%20%20%0A%0A%20%20%20%20%20%20%20%20marker_69a006ae29a54315b53e2604bd00e2e1.bindPopup%28popup_bb798d214e5746dda65144d63116a687%29%0A%20%20%20%20%20%20%20%20%3B%0A%0A%20%20%20%20%20%20%20%20%0A%20%20%20%20%0A%20%20%20%20%0A%20%20%20%20%20%20%20%20%20%20%20%20marker_69a006ae29a54315b53e2604bd00e2e1.bindTooltip%28%0A%20%20%20%20%20%20%20%20%20%20%20%20%20%20%20%20%60%3Cdiv%3E%0A%20%20%20%20%20%20%20%20%20%20%20%20%20%20%20%20%20%20%20%20%20%3Cstrong%3ERTE%20DE%20VALRAS%2034410%20SERIGNAN%3C/strong%3E%0A%20%20%20%20%20%20%20%20%20%20%20%20%20%20%20%20%20%3C/div%3E%60%2C%0A%20%20%20%20%20%20%20%20%20%20%20%20%20%20%20%20%7B%22sticky%22%3A%20true%7D%0A%20%20%20%20%20%20%20%20%20%20%20%20%29%3B%0A%20%20%20%20%20%20%20%20%0A%20%20%20%20%0A%20%20%20%20%20%20%20%20%20%20%20%20var%20marker_df3eba9f7e6c404083fc53e3c0563474%20%3D%20L.marker%28%0A%20%20%20%20%20%20%20%20%20%20%20%20%20%20%20%20%5B43.3525902762058%2C%203.23264836954584%5D%2C%0A%20%20%20%20%20%20%20%20%20%20%20%20%20%20%20%20%7B%7D%0A%20%20%20%20%20%20%20%20%20%20%20%20%29.addTo%28map_2d6b94ddbdfc4564ac60676369dd8f38%29%3B%0A%20%20%20%20%20%20%20%20%0A%20%20%20%20%0A%20%20%20%20%20%20%20%20%20%20%20%20var%20icon_830ad3dc2d1a47359017f42d5ede9b22%20%3D%20L.AwesomeMarkers.icon%28%0A%20%20%20%20%20%20%20%20%20%20%20%20%20%20%20%20%7B%22extraClasses%22%3A%20%22fa-rotate-0%22%2C%20%22icon%22%3A%20%22info-sign%22%2C%20%22iconColor%22%3A%20%22white%22%2C%20%22markerColor%22%3A%20%22green%22%2C%20%22prefix%22%3A%20%22glyphicon%22%7D%0A%20%20%20%20%20%20%20%20%20%20%20%20%29%3B%0A%20%20%20%20%20%20%20%20%20%20%20%20marker_df3eba9f7e6c404083fc53e3c0563474.setIcon%28icon_830ad3dc2d1a47359017f42d5ede9b22%29%3B%0A%20%20%20%20%20%20%20%20%0A%20%20%20%20%0A%20%20%20%20%20%20%20%20var%20popup_1900093d055b488296747a071b271a80%20%3D%20L.popup%28%7B%22maxWidth%22%3A%20500%7D%29%3B%0A%0A%20%20%20%20%20%20%20%20%0A%20%20%20%20%20%20%20%20%20%20%20%20var%20html_32c58486f646497abfeb0b095de819e9%20%3D%20%24%28%60%3Cdiv%20id%3D%22html_32c58486f646497abfeb0b095de819e9%22%20style%3D%22width%3A%20100.0%25%3B%20height%3A%20100.0%25%3B%22%3E%3Ch4%3E%3Cb%3E%3Cp%20style%3D%22text-align%3Acenter%3B%22%3ELBM%20BIOMED%2034%20LIBERTE%20PIGNAN%3C/p%3E%3C/b%3E%3C/h4%3E%3Cbr%3E%3Ch5%3E%3Cb%3EAdresse%20%3A%20%3C/b%3E%3C/h5%3E60%20ALL%20DE%20LA%20LIBERTE%2034570%20PIGNAN%3Cbr%3E%3Ci%3E-%3C/i%3E%3Cbr%3E%3Cstrong%3E%3Cb%3ETest%20RT-PCR%20%3A%20%3C/b%3E%3C/strong%3EOUI%3Cbr%3E%3Cstrong%3E%3Cb%3ETest%20antig%C3%A9nique%20%3A%20%3C/b%3E%3C/strong%3ENON%3Cbr%3E%3Cstrong%3E%3Cb%3EModalit%C3%A9s%20de%20pr%C3%A9l%C3%A8vement%20%3A%20%3C/b%3E%3C/strong%3ESur%20place%3Cbr%3E%3Cstrong%3E%3Cb%3EPublic%20%3A%20%3C/b%3E%3C/strong%3ETout%20public%3Cbr%3E%3Cstrong%3E%3Cb%3EAcc%C3%A8s%20%3A%20%3C/b%3E%3C/strong%3ESur%20rendez-vous%20uniquement%3Cbr%3E%3Ch5%3E%3Cb%3EHoraire%20%3A%20%3C/b%3E%3C/h5%3Elundi%20%3A%2010h00-12h00%20%20%7C%20mardi%20%3A%2010h00-12h00%20%20%7C%20mercredi%20%3A%2010h00-12h00%20%20%7C%20jeudi%20%3A%2010h00-%2012h00%20%7C%20vendredi%20%3A%2010h00-12h00%20%20%7C%20samedi%20%3A%2010h00-12h00%20%7C%20dimanche%20%3A%20ferm%C3%A9%3Cbr%3E%3Cstrong%3E%3Cb%3EPersonnes%20prioritaires%20%3A%20%3C/b%3E%3C/strong%3E-%3Cbr%3E%3Cstrong%3E%3Cb%3ET%C3%A9l%C3%A9phone%20%3A%20%3C/b%3E%3C/strong%3E-%3Cbr%3E%3Cstrong%3E%3Cb%3ESite%20internet%20%3A%20%3C/b%3E%3C/strong%3E-%3C/div%3E%60%29%5B0%5D%3B%0A%20%20%20%20%20%20%20%20%20%20%20%20popup_1900093d055b488296747a071b271a80.setContent%28html_32c58486f646497abfeb0b095de819e9%29%3B%0A%20%20%20%20%20%20%20%20%0A%0A%20%20%20%20%20%20%20%20marker_df3eba9f7e6c404083fc53e3c0563474.bindPopup%28popup_1900093d055b488296747a071b271a80%29%0A%20%20%20%20%20%20%20%20%3B%0A%0A%20%20%20%20%20%20%20%20%0A%20%20%20%20%0A%20%20%20%20%0A%20%20%20%20%20%20%20%20%20%20%20%20marker_df3eba9f7e6c404083fc53e3c0563474.bindTooltip%28%0A%20%20%20%20%20%20%20%20%20%20%20%20%20%20%20%20%60%3Cdiv%3E%0A%20%20%20%20%20%20%20%20%20%20%20%20%20%20%20%20%20%20%20%20%20%3Cstrong%3E60%20ALL%20DE%20LA%20LIBERTE%2034570%20PIGNAN%3C/strong%3E%0A%20%20%20%20%20%20%20%20%20%20%20%20%20%20%20%20%20%3C/div%3E%60%2C%0A%20%20%20%20%20%20%20%20%20%20%20%20%20%20%20%20%7B%22sticky%22%3A%20true%7D%0A%20%20%20%20%20%20%20%20%20%20%20%20%29%3B%0A%20%20%20%20%20%20%20%20%0A%20%20%20%20%0A%20%20%20%20%20%20%20%20%20%20%20%20var%20marker_005cd3b189c746178a035d22e37f2cad%20%3D%20L.marker%28%0A%20%20%20%20%20%20%20%20%20%20%20%20%20%20%20%20%5B43.3868343865186%2C%203.42142480138651%5D%2C%0A%20%20%20%20%20%20%20%20%20%20%20%20%20%20%20%20%7B%7D%0A%20%20%20%20%20%20%20%20%20%20%20%20%29.addTo%28map_2d6b94ddbdfc4564ac60676369dd8f38%29%3B%0A%20%20%20%20%20%20%20%20%0A%20%20%20%20%0A%20%20%20%20%20%20%20%20%20%20%20%20var%20icon_b838dd75b5b74cce96d6a2b20040597a%20%3D%20L.AwesomeMarkers.icon%28%0A%20%20%20%20%20%20%20%20%20%20%20%20%20%20%20%20%7B%22extraClasses%22%3A%20%22fa-rotate-0%22%2C%20%22icon%22%3A%20%22info-sign%22%2C%20%22iconColor%22%3A%20%22white%22%2C%20%22markerColor%22%3A%20%22green%22%2C%20%22prefix%22%3A%20%22glyphicon%22%7D%0A%20%20%20%20%20%20%20%20%20%20%20%20%29%3B%0A%20%20%20%20%20%20%20%20%20%20%20%20marker_005cd3b189c746178a035d22e37f2cad.setIcon%28icon_b838dd75b5b74cce96d6a2b20040597a%29%3B%0A%20%20%20%20%20%20%20%20%0A%20%20%20%20%0A%20%20%20%20%20%20%20%20var%20popup_65d2bdd3f4294928a82d0dda9d64e36d%20%3D%20L.popup%28%7B%22maxWidth%22%3A%20500%7D%29%3B%0A%0A%20%20%20%20%20%20%20%20%0A%20%20%20%20%20%20%20%20%20%20%20%20var%20html_d70621f164e5460d93cf3cb0a169e905%20%3D%20%24%28%60%3Cdiv%20id%3D%22html_d70621f164e5460d93cf3cb0a169e905%22%20style%3D%22width%3A%20100.0%25%3B%20height%3A%20100.0%25%3B%22%3E%3Ch4%3E%3Cb%3E%3Cp%20style%3D%22text-align%3Acenter%3B%22%3ELBM%20BIOMED%2034%20SAINT-THIBERY%3C/p%3E%3C/b%3E%3C/h4%3E%3Cbr%3E%3Ch5%3E%3Cb%3EAdresse%20%3A%20%3C/b%3E%3C/h5%3E3%20AV%20RICCARDO%20MAZZA%2034630%20ST%20THIBERY%3Cbr%3E%3Ci%3EDrive%3C/i%3E%3Cbr%3E%3Cstrong%3E%3Cb%3ETest%20RT-PCR%20%3A%20%3C/b%3E%3C/strong%3EOUI%3Cbr%3E%3Cstrong%3E%3Cb%3ETest%20antig%C3%A9nique%20%3A%20%3C/b%3E%3C/strong%3ENON%3Cbr%3E%3Cstrong%3E%3Cb%3EModalit%C3%A9s%20de%20pr%C3%A9l%C3%A8vement%20%3A%20%3C/b%3E%3C/strong%3EDrive/Sur%20place%3Cbr%3E%3Cstrong%3E%3Cb%3EPublic%20%3A%20%3C/b%3E%3C/strong%3ETout%20public%3Cbr%3E%3Cstrong%3E%3Cb%3EAcc%C3%A8s%20%3A%20%3C/b%3E%3C/strong%3ESur%20rendez-vous%20uniquement%3Cbr%3E%3Ch5%3E%3Cb%3EHoraire%20%3A%20%3C/b%3E%3C/h5%3Elundi%20%3A%208h30-12h00%20et%2014h00-17h00%20%7C%20mardi%20%3A%2010h00-12h00%20et%2014h00-17h00%20%7C%20mercredi%20%3A%2010h00-12h00%20et%2014h00-17h00%20%7C%20jeudi%20%3A%2010h00-12h00%20et%2014h00-17h00%20%7C%20vendredi%20%3A%208h30-12h00%20et%2014h00-17h00%20%7C%20samedi%20%3A%20ferm%C3%A9%20%7C%20dimanche%20%3A%20ferm%C3%A9%3Cbr%3E%3Cstrong%3E%3Cb%3EPersonnes%20prioritaires%20%3A%20%3C/b%3E%3C/strong%3E-%3Cbr%3E%3Cstrong%3E%3Cb%3ET%C3%A9l%C3%A9phone%20%3A%20%3C/b%3E%3C/strong%3E0614970011%3Cbr%3E%3Cstrong%3E%3Cb%3ESite%20internet%20%3A%20%3C/b%3E%3C/strong%3E-%3C/div%3E%60%29%5B0%5D%3B%0A%20%20%20%20%20%20%20%20%20%20%20%20popup_65d2bdd3f4294928a82d0dda9d64e36d.setContent%28html_d70621f164e5460d93cf3cb0a169e905%29%3B%0A%20%20%20%20%20%20%20%20%0A%0A%20%20%20%20%20%20%20%20marker_005cd3b189c746178a035d22e37f2cad.bindPopup%28popup_65d2bdd3f4294928a82d0dda9d64e36d%29%0A%20%20%20%20%20%20%20%20%3B%0A%0A%20%20%20%20%20%20%20%20%0A%20%20%20%20%0A%20%20%20%20%0A%20%20%20%20%20%20%20%20%20%20%20%20marker_005cd3b189c746178a035d22e37f2cad.bindTooltip%28%0A%20%20%20%20%20%20%20%20%20%20%20%20%20%20%20%20%60%3Cdiv%3E%0A%20%20%20%20%20%20%20%20%20%20%20%20%20%20%20%20%20%20%20%20%20%3Cstrong%3E3%20AV%20RICCARDO%20MAZZA%2034630%20ST%20THIBERY%3C/strong%3E%0A%20%20%20%20%20%20%20%20%20%20%20%20%20%20%20%20%20%3C/div%3E%60%2C%0A%20%20%20%20%20%20%20%20%20%20%20%20%20%20%20%20%7B%22sticky%22%3A%20true%7D%0A%20%20%20%20%20%20%20%20%20%20%20%20%29%3B%0A%20%20%20%20%20%20%20%20%0A%20%20%20%20%0A%20%20%20%20%20%20%20%20%20%20%20%20var%20marker_774804c39cb941fabbb5ac34a9304ad8%20%3D%20L.marker%28%0A%20%20%20%20%20%20%20%20%20%20%20%20%20%20%20%20%5B43.4040446329224%2C%203.69745658986976%5D%2C%0A%20%20%20%20%20%20%20%20%20%20%20%20%20%20%20%20%7B%7D%0A%20%20%20%20%20%20%20%20%20%20%20%20%29.addTo%28map_2d6b94ddbdfc4564ac60676369dd8f38%29%3B%0A%20%20%20%20%20%20%20%20%0A%20%20%20%20%0A%20%20%20%20%20%20%20%20%20%20%20%20var%20icon_009632d7a40f46909bd713113a4ce0e7%20%3D%20L.AwesomeMarkers.icon%28%0A%20%20%20%20%20%20%20%20%20%20%20%20%20%20%20%20%7B%22extraClasses%22%3A%20%22fa-rotate-0%22%2C%20%22icon%22%3A%20%22info-sign%22%2C%20%22iconColor%22%3A%20%22white%22%2C%20%22markerColor%22%3A%20%22green%22%2C%20%22prefix%22%3A%20%22glyphicon%22%7D%0A%20%20%20%20%20%20%20%20%20%20%20%20%29%3B%0A%20%20%20%20%20%20%20%20%20%20%20%20marker_774804c39cb941fabbb5ac34a9304ad8.setIcon%28icon_009632d7a40f46909bd713113a4ce0e7%29%3B%0A%20%20%20%20%20%20%20%20%0A%20%20%20%20%0A%20%20%20%20%20%20%20%20var%20popup_c7dd47fe948e4588af29c629e2591a1a%20%3D%20L.popup%28%7B%22maxWidth%22%3A%20500%7D%29%3B%0A%0A%20%20%20%20%20%20%20%20%0A%20%20%20%20%20%20%20%20%20%20%20%20var%20html_c866165d59b04519a3b6d7e94aba84b6%20%3D%20%24%28%60%3Cdiv%20id%3D%22html_c866165d59b04519a3b6d7e94aba84b6%22%20style%3D%22width%3A%20100.0%25%3B%20height%3A%20100.0%25%3B%22%3E%3Ch4%3E%3Cb%3E%3Cp%20style%3D%22text-align%3Acenter%3B%22%3ELBM%20BIOMED%2034%20SETE%20LEOPOLD%20SUQUET%3C/p%3E%3C/b%3E%3C/h4%3E%3Cbr%3E%3Ch5%3E%3Cb%3EAdresse%20%3A%20%3C/b%3E%3C/h5%3E16%20QU%20LEOPOLD%20SUQUET%2034200%20SETE%3Cbr%3E%3Ci%3EDrive%20dans%20le%20garage%20%C3%A0%20l%27arri%C3%A8re%20du%20laboratoire%3C/i%3E%3Cbr%3E%3Cstrong%3E%3Cb%3ETest%20RT-PCR%20%3A%20%3C/b%3E%3C/strong%3EOUI%3Cbr%3E%3Cstrong%3E%3Cb%3ETest%20antig%C3%A9nique%20%3A%20%3C/b%3E%3C/strong%3ENON%3Cbr%3E%3Cstrong%3E%3Cb%3EModalit%C3%A9s%20de%20pr%C3%A9l%C3%A8vement%20%3A%20%3C/b%3E%3C/strong%3EDrive/Sur%20place%3Cbr%3E%3Cstrong%3E%3Cb%3EPublic%20%3A%20%3C/b%3E%3C/strong%3ETout%20public%3Cbr%3E%3Cstrong%3E%3Cb%3EAcc%C3%A8s%20%3A%20%3C/b%3E%3C/strong%3ESur%20rendez-vous%20uniquement%3Cbr%3E%3Ch5%3E%3Cb%3EHoraire%20%3A%20%3C/b%3E%3C/h5%3E-%3Cbr%3E%3Cstrong%3E%3Cb%3EPersonnes%20prioritaires%20%3A%20%3C/b%3E%3C/strong%3E-%3Cbr%3E%3Cstrong%3E%3Cb%3ET%C3%A9l%C3%A9phone%20%3A%20%3C/b%3E%3C/strong%3E04%2067%2018%2033%2040%3Cbr%3E%3Cstrong%3E%3Cb%3ESite%20internet%20%3A%20%3C/b%3E%3C/strong%3E-%3C/div%3E%60%29%5B0%5D%3B%0A%20%20%20%20%20%20%20%20%20%20%20%20popup_c7dd47fe948e4588af29c629e2591a1a.setContent%28html_c866165d59b04519a3b6d7e94aba84b6%29%3B%0A%20%20%20%20%20%20%20%20%0A%0A%20%20%20%20%20%20%20%20marker_774804c39cb941fabbb5ac34a9304ad8.bindPopup%28popup_c7dd47fe948e4588af29c629e2591a1a%29%0A%20%20%20%20%20%20%20%20%3B%0A%0A%20%20%20%20%20%20%20%20%0A%20%20%20%20%0A%20%20%20%20%0A%20%20%20%20%20%20%20%20%20%20%20%20marker_774804c39cb941fabbb5ac34a9304ad8.bindTooltip%28%0A%20%20%20%20%20%20%20%20%20%20%20%20%20%20%20%20%60%3Cdiv%3E%0A%20%20%20%20%20%20%20%20%20%20%20%20%20%20%20%20%20%20%20%20%20%3Cstrong%3E16%20QU%20LEOPOLD%20SUQUET%2034200%20SETE%3C/strong%3E%0A%20%20%20%20%20%20%20%20%20%20%20%20%20%20%20%20%20%3C/div%3E%60%2C%0A%20%20%20%20%20%20%20%20%20%20%20%20%20%20%20%20%7B%22sticky%22%3A%20true%7D%0A%20%20%20%20%20%20%20%20%20%20%20%20%29%3B%0A%20%20%20%20%20%20%20%20%0A%20%20%20%20%0A%20%20%20%20%20%20%20%20%20%20%20%20var%20marker_55367eb8677f4348a7d60e4d1145dc42%20%3D%20L.marker%28%0A%20%20%20%20%20%20%20%20%20%20%20%20%20%20%20%20%5B43.5077042994799%2C%203.80115433679497%5D%2C%0A%20%20%20%20%20%20%20%20%20%20%20%20%20%20%20%20%7B%7D%0A%20%20%20%20%20%20%20%20%20%20%20%20%29.addTo%28map_2d6b94ddbdfc4564ac60676369dd8f38%29%3B%0A%20%20%20%20%20%20%20%20%0A%20%20%20%20%0A%20%20%20%20%20%20%20%20%20%20%20%20var%20icon_6e821260cf5144b4b4a96508dd01d68c%20%3D%20L.AwesomeMarkers.icon%28%0A%20%20%20%20%20%20%20%20%20%20%20%20%20%20%20%20%7B%22extraClasses%22%3A%20%22fa-rotate-0%22%2C%20%22icon%22%3A%20%22info-sign%22%2C%20%22iconColor%22%3A%20%22white%22%2C%20%22markerColor%22%3A%20%22green%22%2C%20%22prefix%22%3A%20%22glyphicon%22%7D%0A%20%20%20%20%20%20%20%20%20%20%20%20%29%3B%0A%20%20%20%20%20%20%20%20%20%20%20%20marker_55367eb8677f4348a7d60e4d1145dc42.setIcon%28icon_6e821260cf5144b4b4a96508dd01d68c%29%3B%0A%20%20%20%20%20%20%20%20%0A%20%20%20%20%0A%20%20%20%20%20%20%20%20var%20popup_afca814d4c1442cfa5b58e77469f334f%20%3D%20L.popup%28%7B%22maxWidth%22%3A%20500%7D%29%3B%0A%0A%20%20%20%20%20%20%20%20%0A%20%20%20%20%20%20%20%20%20%20%20%20var%20html_0b655fa43d4d49429422dec9bd2ee0a6%20%3D%20%24%28%60%3Cdiv%20id%3D%22html_0b655fa43d4d49429422dec9bd2ee0a6%22%20style%3D%22width%3A%20100.0%25%3B%20height%3A%20100.0%25%3B%22%3E%3Ch4%3E%3Cb%3E%3Cp%20style%3D%22text-align%3Acenter%3B%22%3ELBM%20BIOMED%2034%20MIREVAL%3C/p%3E%3C/b%3E%3C/h4%3E%3Cbr%3E%3Ch5%3E%3Cb%3EAdresse%20%3A%20%3C/b%3E%3C/h5%3E2%20BD%20JEAN%20JAURES%2034110%20MIREVAL%3Cbr%3E%3Ci%3E-%3C/i%3E%3Cbr%3E%3Cstrong%3E%3Cb%3ETest%20RT-PCR%20%3A%20%3C/b%3E%3C/strong%3EOUI%3Cbr%3E%3Cstrong%3E%3Cb%3ETest%20antig%C3%A9nique%20%3A%20%3C/b%3E%3C/strong%3ENON%3Cbr%3E%3Cstrong%3E%3Cb%3EModalit%C3%A9s%20de%20pr%C3%A9l%C3%A8vement%20%3A%20%3C/b%3E%3C/strong%3ESur%20place%3Cbr%3E%3Cstrong%3E%3Cb%3EPublic%20%3A%20%3C/b%3E%3C/strong%3ETout%20public%3Cbr%3E%3Cstrong%3E%3Cb%3EAcc%C3%A8s%20%3A%20%3C/b%3E%3C/strong%3ESur%20rendez-vous%20uniquement%3Cbr%3E%3Ch5%3E%3Cb%3EHoraire%20%3A%20%3C/b%3E%3C/h5%3Elundi%20%3A%2010h00-12h00%20%20%7C%20mardi%20%3A%2010h00-12h00%20%7C%20mercredi%20%3A10h00-12h00%20%7C%20jeudi%20%3A10h00-12h00%20%7C%20vendredi%20%3A%2010h00-12h00%20%7C%20samedi%20%3A%20%20%7C%20dimanche%20%3A%20ferm%C3%A9%3Cbr%3E%3Cstrong%3E%3Cb%3EPersonnes%20prioritaires%20%3A%20%3C/b%3E%3C/strong%3E-%3Cbr%3E%3Cstrong%3E%3Cb%3ET%C3%A9l%C3%A9phone%20%3A%20%3C/b%3E%3C/strong%3E-%3Cbr%3E%3Cstrong%3E%3Cb%3ESite%20internet%20%3A%20%3C/b%3E%3C/strong%3E-%3C/div%3E%60%29%5B0%5D%3B%0A%20%20%20%20%20%20%20%20%20%20%20%20popup_afca814d4c1442cfa5b58e77469f334f.setContent%28html_0b655fa43d4d49429422dec9bd2ee0a6%29%3B%0A%20%20%20%20%20%20%20%20%0A%0A%20%20%20%20%20%20%20%20marker_55367eb8677f4348a7d60e4d1145dc42.bindPopup%28popup_afca814d4c1442cfa5b58e77469f334f%29%0A%20%20%20%20%20%20%20%20%3B%0A%0A%20%20%20%20%20%20%20%20%0A%20%20%20%20%0A%20%20%20%20%0A%20%20%20%20%20%20%20%20%20%20%20%20marker_55367eb8677f4348a7d60e4d1145dc42.bindTooltip%28%0A%20%20%20%20%20%20%20%20%20%20%20%20%20%20%20%20%60%3Cdiv%3E%0A%20%20%20%20%20%20%20%20%20%20%20%20%20%20%20%20%20%20%20%20%20%3Cstrong%3E2%20BD%20JEAN%20JAURES%2034110%20MIREVAL%3C/strong%3E%0A%20%20%20%20%20%20%20%20%20%20%20%20%20%20%20%20%20%3C/div%3E%60%2C%0A%20%20%20%20%20%20%20%20%20%20%20%20%20%20%20%20%7B%22sticky%22%3A%20true%7D%0A%20%20%20%20%20%20%20%20%20%20%20%20%29%3B%0A%20%20%20%20%20%20%20%20%0A%20%20%20%20%0A%20%20%20%20%20%20%20%20%20%20%20%20var%20marker_51941652cfe244029fea21edf396c20d%20%3D%20L.marker%28%0A%20%20%20%20%20%20%20%20%20%20%20%20%20%20%20%20%5B43.4409914265899%2C%203.680994946658%5D%2C%0A%20%20%20%20%20%20%20%20%20%20%20%20%20%20%20%20%7B%7D%0A%20%20%20%20%20%20%20%20%20%20%20%20%29.addTo%28map_2d6b94ddbdfc4564ac60676369dd8f38%29%3B%0A%20%20%20%20%20%20%20%20%0A%20%20%20%20%0A%20%20%20%20%20%20%20%20%20%20%20%20var%20icon_942b02acec494de2830eb789e848c2a2%20%3D%20L.AwesomeMarkers.icon%28%0A%20%20%20%20%20%20%20%20%20%20%20%20%20%20%20%20%7B%22extraClasses%22%3A%20%22fa-rotate-0%22%2C%20%22icon%22%3A%20%22info-sign%22%2C%20%22iconColor%22%3A%20%22white%22%2C%20%22markerColor%22%3A%20%22green%22%2C%20%22prefix%22%3A%20%22glyphicon%22%7D%0A%20%20%20%20%20%20%20%20%20%20%20%20%29%3B%0A%20%20%20%20%20%20%20%20%20%20%20%20marker_51941652cfe244029fea21edf396c20d.setIcon%28icon_942b02acec494de2830eb789e848c2a2%29%3B%0A%20%20%20%20%20%20%20%20%0A%20%20%20%20%0A%20%20%20%20%20%20%20%20var%20popup_cfc4b70d008144e0a00aa4dcff3e72c2%20%3D%20L.popup%28%7B%22maxWidth%22%3A%20500%7D%29%3B%0A%0A%20%20%20%20%20%20%20%20%0A%20%20%20%20%20%20%20%20%20%20%20%20var%20html_99664188fef44f108810f03a78294840%20%3D%20%24%28%60%3Cdiv%20id%3D%22html_99664188fef44f108810f03a78294840%22%20style%3D%22width%3A%20100.0%25%3B%20height%3A%20100.0%25%3B%22%3E%3Ch4%3E%3Cb%3E%3Cp%20style%3D%22text-align%3Acenter%3B%22%3ELBM%20BIOMED%2034%20BALARUC%20LES%20BAINS%3C/p%3E%3C/b%3E%3C/h4%3E%3Cbr%3E%3Ch5%3E%3Cb%3EAdresse%20%3A%20%3C/b%3E%3C/h5%3E12%20AV%20DU%20PORT%2034540%20BALARUC%20LES%20BAINS%3Cbr%3E%3Ci%3E-%3C/i%3E%3Cbr%3E%3Cstrong%3E%3Cb%3ETest%20RT-PCR%20%3A%20%3C/b%3E%3C/strong%3EOUI%3Cbr%3E%3Cstrong%3E%3Cb%3ETest%20antig%C3%A9nique%20%3A%20%3C/b%3E%3C/strong%3ENON%3Cbr%3E%3Cstrong%3E%3Cb%3EModalit%C3%A9s%20de%20pr%C3%A9l%C3%A8vement%20%3A%20%3C/b%3E%3C/strong%3ESur%20place%3Cbr%3E%3Cstrong%3E%3Cb%3EPublic%20%3A%20%3C/b%3E%3C/strong%3ETout%20public%3Cbr%3E%3Cstrong%3E%3Cb%3EAcc%C3%A8s%20%3A%20%3C/b%3E%3C/strong%3ESur%20rendez-vous%20uniquement%3Cbr%3E%3Ch5%3E%3Cb%3EHoraire%20%3A%20%3C/b%3E%3C/h5%3Elundi%20%3A%2011h00-12h30%20%20%7C%20mardi%20%3A%2011h00-12h30%20%7C%20mercredi%20%3A%2011h00-12h30%20%7C%20jeudi%20%3A%2011h00-12h30%20%7C%20vendredi%20%3A%2011h00-12h30%20%7C%20samedi%20%3A%20%20%7C%20dimanche%20%3A%20ferm%C3%A9%3Cbr%3E%3Cstrong%3E%3Cb%3EPersonnes%20prioritaires%20%3A%20%3C/b%3E%3C/strong%3E-%3Cbr%3E%3Cstrong%3E%3Cb%3ET%C3%A9l%C3%A9phone%20%3A%20%3C/b%3E%3C/strong%3E-%3Cbr%3E%3Cstrong%3E%3Cb%3ESite%20internet%20%3A%20%3C/b%3E%3C/strong%3E-%3C/div%3E%60%29%5B0%5D%3B%0A%20%20%20%20%20%20%20%20%20%20%20%20popup_cfc4b70d008144e0a00aa4dcff3e72c2.setContent%28html_99664188fef44f108810f03a78294840%29%3B%0A%20%20%20%20%20%20%20%20%0A%0A%20%20%20%20%20%20%20%20marker_51941652cfe244029fea21edf396c20d.bindPopup%28popup_cfc4b70d008144e0a00aa4dcff3e72c2%29%0A%20%20%20%20%20%20%20%20%3B%0A%0A%20%20%20%20%20%20%20%20%0A%20%20%20%20%0A%20%20%20%20%0A%20%20%20%20%20%20%20%20%20%20%20%20marker_51941652cfe244029fea21edf396c20d.bindTooltip%28%0A%20%20%20%20%20%20%20%20%20%20%20%20%20%20%20%20%60%3Cdiv%3E%0A%20%20%20%20%20%20%20%20%20%20%20%20%20%20%20%20%20%20%20%20%20%3Cstrong%3E12%20AV%20DU%20PORT%2034540%20BALARUC%20LES%20BAINS%3C/strong%3E%0A%20%20%20%20%20%20%20%20%20%20%20%20%20%20%20%20%20%3C/div%3E%60%2C%0A%20%20%20%20%20%20%20%20%20%20%20%20%20%20%20%20%7B%22sticky%22%3A%20true%7D%0A%20%20%20%20%20%20%20%20%20%20%20%20%29%3B%0A%20%20%20%20%20%20%20%20%0A%20%20%20%20%0A%20%20%20%20%20%20%20%20%20%20%20%20var%20marker_a340eb7fd216473fba5a30c22db24c2d%20%3D%20L.marker%28%0A%20%20%20%20%20%20%20%20%20%20%20%20%20%20%20%20%5B43.3561748621022%2C%203.53011938496249%5D%2C%0A%20%20%20%20%20%20%20%20%20%20%20%20%20%20%20%20%7B%7D%0A%20%20%20%20%20%20%20%20%20%20%20%20%29.addTo%28map_2d6b94ddbdfc4564ac60676369dd8f38%29%3B%0A%20%20%20%20%20%20%20%20%0A%20%20%20%20%0A%20%20%20%20%20%20%20%20%20%20%20%20var%20icon_f0efd7a9739f4aea82df03db7edf3045%20%3D%20L.AwesomeMarkers.icon%28%0A%20%20%20%20%20%20%20%20%20%20%20%20%20%20%20%20%7B%22extraClasses%22%3A%20%22fa-rotate-0%22%2C%20%22icon%22%3A%20%22info-sign%22%2C%20%22iconColor%22%3A%20%22white%22%2C%20%22markerColor%22%3A%20%22green%22%2C%20%22prefix%22%3A%20%22glyphicon%22%7D%0A%20%20%20%20%20%20%20%20%20%20%20%20%29%3B%0A%20%20%20%20%20%20%20%20%20%20%20%20marker_a340eb7fd216473fba5a30c22db24c2d.setIcon%28icon_f0efd7a9739f4aea82df03db7edf3045%29%3B%0A%20%20%20%20%20%20%20%20%0A%20%20%20%20%0A%20%20%20%20%20%20%20%20var%20popup_e817bc6ebb1b4b9e9bf27d06f5e085ed%20%3D%20L.popup%28%7B%22maxWidth%22%3A%20500%7D%29%3B%0A%0A%20%20%20%20%20%20%20%20%0A%20%20%20%20%20%20%20%20%20%20%20%20var%20html_39feb3d9d95d41338360229f2bf887c7%20%3D%20%24%28%60%3Cdiv%20id%3D%22html_39feb3d9d95d41338360229f2bf887c7%22%20style%3D%22width%3A%20100.0%25%3B%20height%3A%20100.0%25%3B%22%3E%3Ch4%3E%3Cb%3E%3Cp%20style%3D%22text-align%3Acenter%3B%22%3ELBM%20BIOMED%2034%20MARSEILLAN%3C/p%3E%3C/b%3E%3C/h4%3E%3Cbr%3E%3Ch5%3E%3Cb%3EAdresse%20%3A%20%3C/b%3E%3C/h5%3E39%20BD%20PASTEUR%2034340%20MARSEILLAN%3Cbr%3E%3Ci%3E-%3C/i%3E%3Cbr%3E%3Cstrong%3E%3Cb%3ETest%20RT-PCR%20%3A%20%3C/b%3E%3C/strong%3EOUI%3Cbr%3E%3Cstrong%3E%3Cb%3ETest%20antig%C3%A9nique%20%3A%20%3C/b%3E%3C/strong%3ENON%3Cbr%3E%3Cstrong%3E%3Cb%3EModalit%C3%A9s%20de%20pr%C3%A9l%C3%A8vement%20%3A%20%3C/b%3E%3C/strong%3ESur%20place%3Cbr%3E%3Cstrong%3E%3Cb%3EPublic%20%3A%20%3C/b%3E%3C/strong%3ETout%20public%3Cbr%3E%3Cstrong%3E%3Cb%3EAcc%C3%A8s%20%3A%20%3C/b%3E%3C/strong%3ESur%20rendez-vous%20uniquement%3Cbr%3E%3Ch5%3E%3Cb%3EHoraire%20%3A%20%3C/b%3E%3C/h5%3Elundi%20%3A%2010h00-12h00%20%20%7C%20mardi%20%3A%2010h00-12h00%20%7C%20mercredi%20%3A%2010h00-12h00%20%7C%20jeudi%20%3A%2010h00-12h00%20%7C%20vendredi%20%3A%2010h00-12h00%20%7C%20samedi%20%3A%20ferm%C3%A9%20%7C%20dimanche%20%3A%20ferm%C3%A9%3Cbr%3E%3Cstrong%3E%3Cb%3EPersonnes%20prioritaires%20%3A%20%3C/b%3E%3C/strong%3E-%3Cbr%3E%3Cstrong%3E%3Cb%3ET%C3%A9l%C3%A9phone%20%3A%20%3C/b%3E%3C/strong%3E-%3Cbr%3E%3Cstrong%3E%3Cb%3ESite%20internet%20%3A%20%3C/b%3E%3C/strong%3E-%3C/div%3E%60%29%5B0%5D%3B%0A%20%20%20%20%20%20%20%20%20%20%20%20popup_e817bc6ebb1b4b9e9bf27d06f5e085ed.setContent%28html_39feb3d9d95d41338360229f2bf887c7%29%3B%0A%20%20%20%20%20%20%20%20%0A%0A%20%20%20%20%20%20%20%20marker_a340eb7fd216473fba5a30c22db24c2d.bindPopup%28popup_e817bc6ebb1b4b9e9bf27d06f5e085ed%29%0A%20%20%20%20%20%20%20%20%3B%0A%0A%20%20%20%20%20%20%20%20%0A%20%20%20%20%0A%20%20%20%20%0A%20%20%20%20%20%20%20%20%20%20%20%20marker_a340eb7fd216473fba5a30c22db24c2d.bindTooltip%28%0A%20%20%20%20%20%20%20%20%20%20%20%20%20%20%20%20%60%3Cdiv%3E%0A%20%20%20%20%20%20%20%20%20%20%20%20%20%20%20%20%20%20%20%20%20%3Cstrong%3E39%20BD%20PASTEUR%2034340%20MARSEILLAN%3C/strong%3E%0A%20%20%20%20%20%20%20%20%20%20%20%20%20%20%20%20%20%3C/div%3E%60%2C%0A%20%20%20%20%20%20%20%20%20%20%20%20%20%20%20%20%7B%22sticky%22%3A%20true%7D%0A%20%20%20%20%20%20%20%20%20%20%20%20%29%3B%0A%20%20%20%20%20%20%20%20%0A%20%20%20%20%0A%20%20%20%20%20%20%20%20%20%20%20%20var%20marker_a5e58a36a7c843f386f23b9131f1227e%20%3D%20L.marker%28%0A%20%20%20%20%20%20%20%20%20%20%20%20%20%20%20%20%5B43.5341877927797%2C%203.85287958263937%5D%2C%0A%20%20%20%20%20%20%20%20%20%20%20%20%20%20%20%20%7B%7D%0A%20%20%20%20%20%20%20%20%20%20%20%20%29.addTo%28map_2d6b94ddbdfc4564ac60676369dd8f38%29%3B%0A%20%20%20%20%20%20%20%20%0A%20%20%20%20%0A%20%20%20%20%20%20%20%20%20%20%20%20var%20icon_4034fb474c7f4769b487a986a761ffde%20%3D%20L.AwesomeMarkers.icon%28%0A%20%20%20%20%20%20%20%20%20%20%20%20%20%20%20%20%7B%22extraClasses%22%3A%20%22fa-rotate-0%22%2C%20%22icon%22%3A%20%22info-sign%22%2C%20%22iconColor%22%3A%20%22white%22%2C%20%22markerColor%22%3A%20%22green%22%2C%20%22prefix%22%3A%20%22glyphicon%22%7D%0A%20%20%20%20%20%20%20%20%20%20%20%20%29%3B%0A%20%20%20%20%20%20%20%20%20%20%20%20marker_a5e58a36a7c843f386f23b9131f1227e.setIcon%28icon_4034fb474c7f4769b487a986a761ffde%29%3B%0A%20%20%20%20%20%20%20%20%0A%20%20%20%20%0A%20%20%20%20%20%20%20%20var%20popup_dc8175be4dc144c6a936ecd11c3dd131%20%3D%20L.popup%28%7B%22maxWidth%22%3A%20500%7D%29%3B%0A%0A%20%20%20%20%20%20%20%20%0A%20%20%20%20%20%20%20%20%20%20%20%20var%20html_cc21298d3a124454b9a8c42dd83ceae8%20%3D%20%24%28%60%3Cdiv%20id%3D%22html_cc21298d3a124454b9a8c42dd83ceae8%22%20style%3D%22width%3A%20100.0%25%3B%20height%3A%20100.0%25%3B%22%3E%3Ch4%3E%3Cb%3E%3Cp%20style%3D%22text-align%3Acenter%3B%22%3ELBM%20BIOMED%2034%20VILLENEUVE%20LES%20MAGUELONE%3C/p%3E%3C/b%3E%3C/h4%3E%3Cbr%3E%3Ch5%3E%3Cb%3EAdresse%20%3A%20%3C/b%3E%3C/h5%3E3%20ALL%20DU%20COLLEGE%2034750%20VILLENEUVE%20LES%20MAGUELONE%3Cbr%3E%3Ci%3EDrive%3C/i%3E%3Cbr%3E%3Cstrong%3E%3Cb%3ETest%20RT-PCR%20%3A%20%3C/b%3E%3C/strong%3EOUI%3Cbr%3E%3Cstrong%3E%3Cb%3ETest%20antig%C3%A9nique%20%3A%20%3C/b%3E%3C/strong%3ENON%3Cbr%3E%3Cstrong%3E%3Cb%3EModalit%C3%A9s%20de%20pr%C3%A9l%C3%A8vement%20%3A%20%3C/b%3E%3C/strong%3EDrive/Sur%20place%3Cbr%3E%3Cstrong%3E%3Cb%3EPublic%20%3A%20%3C/b%3E%3C/strong%3ETout%20public%3Cbr%3E%3Cstrong%3E%3Cb%3EAcc%C3%A8s%20%3A%20%3C/b%3E%3C/strong%3ESur%20rendez-vous%20uniquement%3Cbr%3E%3Ch5%3E%3Cb%3EHoraire%20%3A%20%3C/b%3E%3C/h5%3Elundi%20%3A%2010h00-12h30%20%20%7C%20mardi%20%3A%2010h00-12h30%20%20%7C%20mercredi%20%3A%2010h00-12h30%20%20%7C%20jeudi%20%3A%2010h00-12h30%20%20%7C%20vendredi%20%3A%2010h00-12h30%20%20%7C%20samedi%20%3A%2010h00-12h00%20%20%7C%20dimanche%20%3A%20ferm%C3%A9%3Cbr%3E%3Cstrong%3E%3Cb%3EPersonnes%20prioritaires%20%3A%20%3C/b%3E%3C/strong%3E-%3Cbr%3E%3Cstrong%3E%3Cb%3ET%C3%A9l%C3%A9phone%20%3A%20%3C/b%3E%3C/strong%3E04%2067%2069%2051%2041%3Cbr%3E%3Cstrong%3E%3Cb%3ESite%20internet%20%3A%20%3C/b%3E%3C/strong%3E-%3C/div%3E%60%29%5B0%5D%3B%0A%20%20%20%20%20%20%20%20%20%20%20%20popup_dc8175be4dc144c6a936ecd11c3dd131.setContent%28html_cc21298d3a124454b9a8c42dd83ceae8%29%3B%0A%20%20%20%20%20%20%20%20%0A%0A%20%20%20%20%20%20%20%20marker_a5e58a36a7c843f386f23b9131f1227e.bindPopup%28popup_dc8175be4dc144c6a936ecd11c3dd131%29%0A%20%20%20%20%20%20%20%20%3B%0A%0A%20%20%20%20%20%20%20%20%0A%20%20%20%20%0A%20%20%20%20%0A%20%20%20%20%20%20%20%20%20%20%20%20marker_a5e58a36a7c843f386f23b9131f1227e.bindTooltip%28%0A%20%20%20%20%20%20%20%20%20%20%20%20%20%20%20%20%60%3Cdiv%3E%0A%20%20%20%20%20%20%20%20%20%20%20%20%20%20%20%20%20%20%20%20%20%3Cstrong%3E3%20ALL%20DU%20COLLEGE%2034750%20VILLENEUVE%20LES%20MAGUELONE%3C/strong%3E%0A%20%20%20%20%20%20%20%20%20%20%20%20%20%20%20%20%20%3C/div%3E%60%2C%0A%20%20%20%20%20%20%20%20%20%20%20%20%20%20%20%20%7B%22sticky%22%3A%20true%7D%0A%20%20%20%20%20%20%20%20%20%20%20%20%29%3B%0A%20%20%20%20%20%20%20%20%0A%20%20%20%20%0A%20%20%20%20%20%20%20%20%20%20%20%20var%20marker_870fc3af6db24809ad5e34c1fad37a0c%20%3D%20L.marker%28%0A%20%20%20%20%20%20%20%20%20%20%20%20%20%20%20%20%5B43.5932530019633%2C%203.0822111252359%5D%2C%0A%20%20%20%20%20%20%20%20%20%20%20%20%20%20%20%20%7B%7D%0A%20%20%20%20%20%20%20%20%20%20%20%20%29.addTo%28map_2d6b94ddbdfc4564ac60676369dd8f38%29%3B%0A%20%20%20%20%20%20%20%20%0A%20%20%20%20%0A%20%20%20%20%20%20%20%20%20%20%20%20var%20icon_b108b81b2a6149e897a27e319c524c99%20%3D%20L.AwesomeMarkers.icon%28%0A%20%20%20%20%20%20%20%20%20%20%20%20%20%20%20%20%7B%22extraClasses%22%3A%20%22fa-rotate-0%22%2C%20%22icon%22%3A%20%22info-sign%22%2C%20%22iconColor%22%3A%20%22white%22%2C%20%22markerColor%22%3A%20%22green%22%2C%20%22prefix%22%3A%20%22glyphicon%22%7D%0A%20%20%20%20%20%20%20%20%20%20%20%20%29%3B%0A%20%20%20%20%20%20%20%20%20%20%20%20marker_870fc3af6db24809ad5e34c1fad37a0c.setIcon%28icon_b108b81b2a6149e897a27e319c524c99%29%3B%0A%20%20%20%20%20%20%20%20%0A%20%20%20%20%0A%20%20%20%20%20%20%20%20var%20popup_6360c0a68227449f9384c527203c61b6%20%3D%20L.popup%28%7B%22maxWidth%22%3A%20500%7D%29%3B%0A%0A%20%20%20%20%20%20%20%20%0A%20%20%20%20%20%20%20%20%20%20%20%20var%20html_ea248777eb9c47bf9d66adf5a87acff2%20%3D%20%24%28%60%3Cdiv%20id%3D%22html_ea248777eb9c47bf9d66adf5a87acff2%22%20style%3D%22width%3A%20100.0%25%3B%20height%3A%20100.0%25%3B%22%3E%3Ch4%3E%3Cb%3E%3Cp%20style%3D%22text-align%3Acenter%3B%22%3ELBM%20BIOMED%2034%20LAMALOU%20LES%20BAINS%3C/p%3E%3C/b%3E%3C/h4%3E%3Cbr%3E%3Ch5%3E%3Cb%3EAdresse%20%3A%20%3C/b%3E%3C/h5%3E26%20AV%20CHARCOT%2034240%20LAMALOU%20LES%20BAINS%3Cbr%3E%3Ci%3E-%3C/i%3E%3Cbr%3E%3Cstrong%3E%3Cb%3ETest%20RT-PCR%20%3A%20%3C/b%3E%3C/strong%3EOUI%3Cbr%3E%3Cstrong%3E%3Cb%3ETest%20antig%C3%A9nique%20%3A%20%3C/b%3E%3C/strong%3ENON%3Cbr%3E%3Cstrong%3E%3Cb%3EModalit%C3%A9s%20de%20pr%C3%A9l%C3%A8vement%20%3A%20%3C/b%3E%3C/strong%3ESur%20place%3Cbr%3E%3Cstrong%3E%3Cb%3EPublic%20%3A%20%3C/b%3E%3C/strong%3ETout%20public%3Cbr%3E%3Cstrong%3E%3Cb%3EAcc%C3%A8s%20%3A%20%3C/b%3E%3C/strong%3ESur%20rendez-vous%20uniquement%3Cbr%3E%3Ch5%3E%3Cb%3EHoraire%20%3A%20%3C/b%3E%3C/h5%3Elundi%20%3A%2011h00-14h00%20%20%7C%20mardi%20%3A%2011h00-14h00%20%7C%20mercredi%20%3A%2011h00-14h00%20%7C%20jeudi%20%3A%2011h00-14h00%20%7C%20vendredi%20%3A%2011h00-14h00%20%7C%20samedi%20%3A%20%20%7C%20dimanche%20%3A%20ferm%C3%A9%3Cbr%3E%3Cstrong%3E%3Cb%3EPersonnes%20prioritaires%20%3A%20%3C/b%3E%3C/strong%3E-%3Cbr%3E%3Cstrong%3E%3Cb%3ET%C3%A9l%C3%A9phone%20%3A%20%3C/b%3E%3C/strong%3E-%3Cbr%3E%3Cstrong%3E%3Cb%3ESite%20internet%20%3A%20%3C/b%3E%3C/strong%3E-%3C/div%3E%60%29%5B0%5D%3B%0A%20%20%20%20%20%20%20%20%20%20%20%20popup_6360c0a68227449f9384c527203c61b6.setContent%28html_ea248777eb9c47bf9d66adf5a87acff2%29%3B%0A%20%20%20%20%20%20%20%20%0A%0A%20%20%20%20%20%20%20%20marker_870fc3af6db24809ad5e34c1fad37a0c.bindPopup%28popup_6360c0a68227449f9384c527203c61b6%29%0A%20%20%20%20%20%20%20%20%3B%0A%0A%20%20%20%20%20%20%20%20%0A%20%20%20%20%0A%20%20%20%20%0A%20%20%20%20%20%20%20%20%20%20%20%20marker_870fc3af6db24809ad5e34c1fad37a0c.bindTooltip%28%0A%20%20%20%20%20%20%20%20%20%20%20%20%20%20%20%20%60%3Cdiv%3E%0A%20%20%20%20%20%20%20%20%20%20%20%20%20%20%20%20%20%20%20%20%20%3Cstrong%3E26%20AV%20CHARCOT%2034240%20LAMALOU%20LES%20BAINS%3C/strong%3E%0A%20%20%20%20%20%20%20%20%20%20%20%20%20%20%20%20%20%3C/div%3E%60%2C%0A%20%20%20%20%20%20%20%20%20%20%20%20%20%20%20%20%7B%22sticky%22%3A%20true%7D%0A%20%20%20%20%20%20%20%20%20%20%20%20%29%3B%0A%20%20%20%20%20%20%20%20%0A%20%20%20%20%0A%20%20%20%20%20%20%20%20%20%20%20%20var%20marker_37664f21d9ff4e2b96ff31d9c98f6379%20%3D%20L.marker%28%0A%20%20%20%20%20%20%20%20%20%20%20%20%20%20%20%20%5B43.6152507090804%2C%203.15467703162313%5D%2C%0A%20%20%20%20%20%20%20%20%20%20%20%20%20%20%20%20%7B%7D%0A%20%20%20%20%20%20%20%20%20%20%20%20%29.addTo%28map_2d6b94ddbdfc4564ac60676369dd8f38%29%3B%0A%20%20%20%20%20%20%20%20%0A%20%20%20%20%0A%20%20%20%20%20%20%20%20%20%20%20%20var%20icon_15185d12bd8c4e4fb2119bb7f9e74544%20%3D%20L.AwesomeMarkers.icon%28%0A%20%20%20%20%20%20%20%20%20%20%20%20%20%20%20%20%7B%22extraClasses%22%3A%20%22fa-rotate-0%22%2C%20%22icon%22%3A%20%22info-sign%22%2C%20%22iconColor%22%3A%20%22white%22%2C%20%22markerColor%22%3A%20%22green%22%2C%20%22prefix%22%3A%20%22glyphicon%22%7D%0A%20%20%20%20%20%20%20%20%20%20%20%20%29%3B%0A%20%20%20%20%20%20%20%20%20%20%20%20marker_37664f21d9ff4e2b96ff31d9c98f6379.setIcon%28icon_15185d12bd8c4e4fb2119bb7f9e74544%29%3B%0A%20%20%20%20%20%20%20%20%0A%20%20%20%20%0A%20%20%20%20%20%20%20%20var%20popup_9bd835239bef47928c49ad242170eb09%20%3D%20L.popup%28%7B%22maxWidth%22%3A%20500%7D%29%3B%0A%0A%20%20%20%20%20%20%20%20%0A%20%20%20%20%20%20%20%20%20%20%20%20var%20html_c6cba97ecc3f48d8ae809d6cae64ef6d%20%3D%20%24%28%60%3Cdiv%20id%3D%22html_c6cba97ecc3f48d8ae809d6cae64ef6d%22%20style%3D%22width%3A%20100.0%25%3B%20height%3A%20100.0%25%3B%22%3E%3Ch4%3E%3Cb%3E%3Cp%20style%3D%22text-align%3Acenter%3B%22%3ELBM%20BIOMED%2034%20BEDARIEUX%3C/p%3E%3C/b%3E%3C/h4%3E%3Cbr%3E%3Ch5%3E%3Cb%3EAdresse%20%3A%20%3C/b%3E%3C/h5%3E7%20R%20GASSENC%2034600%20BEDARIEUX%3Cbr%3E%3Ci%3E-%3C/i%3E%3Cbr%3E%3Cstrong%3E%3Cb%3ETest%20RT-PCR%20%3A%20%3C/b%3E%3C/strong%3EOUI%3Cbr%3E%3Cstrong%3E%3Cb%3ETest%20antig%C3%A9nique%20%3A%20%3C/b%3E%3C/strong%3ENON%3Cbr%3E%3Cstrong%3E%3Cb%3EModalit%C3%A9s%20de%20pr%C3%A9l%C3%A8vement%20%3A%20%3C/b%3E%3C/strong%3ESur%20place%3Cbr%3E%3Cstrong%3E%3Cb%3EPublic%20%3A%20%3C/b%3E%3C/strong%3ETout%20public%3Cbr%3E%3Cstrong%3E%3Cb%3EAcc%C3%A8s%20%3A%20%3C/b%3E%3C/strong%3ESur%20rendez-vous%20uniquement%3Cbr%3E%3Ch5%3E%3Cb%3EHoraire%20%3A%20%3C/b%3E%3C/h5%3E-%3Cbr%3E%3Cstrong%3E%3Cb%3EPersonnes%20prioritaires%20%3A%20%3C/b%3E%3C/strong%3E-%3Cbr%3E%3Cstrong%3E%3Cb%3ET%C3%A9l%C3%A9phone%20%3A%20%3C/b%3E%3C/strong%3E0467950218%3Cbr%3E%3Cstrong%3E%3Cb%3ESite%20internet%20%3A%20%3C/b%3E%3C/strong%3E-%3C/div%3E%60%29%5B0%5D%3B%0A%20%20%20%20%20%20%20%20%20%20%20%20popup_9bd835239bef47928c49ad242170eb09.setContent%28html_c6cba97ecc3f48d8ae809d6cae64ef6d%29%3B%0A%20%20%20%20%20%20%20%20%0A%0A%20%20%20%20%20%20%20%20marker_37664f21d9ff4e2b96ff31d9c98f6379.bindPopup%28popup_9bd835239bef47928c49ad242170eb09%29%0A%20%20%20%20%20%20%20%20%3B%0A%0A%20%20%20%20%20%20%20%20%0A%20%20%20%20%0A%20%20%20%20%0A%20%20%20%20%20%20%20%20%20%20%20%20marker_37664f21d9ff4e2b96ff31d9c98f6379.bindTooltip%28%0A%20%20%20%20%20%20%20%20%20%20%20%20%20%20%20%20%60%3Cdiv%3E%0A%20%20%20%20%20%20%20%20%20%20%20%20%20%20%20%20%20%20%20%20%20%3Cstrong%3E7%20R%20GASSENC%2034600%20BEDARIEUX%3C/strong%3E%0A%20%20%20%20%20%20%20%20%20%20%20%20%20%20%20%20%20%3C/div%3E%60%2C%0A%20%20%20%20%20%20%20%20%20%20%20%20%20%20%20%20%7B%22sticky%22%3A%20true%7D%0A%20%20%20%20%20%20%20%20%20%20%20%20%29%3B%0A%20%20%20%20%20%20%20%20%0A%20%20%20%20%0A%20%20%20%20%20%20%20%20%20%20%20%20var%20marker_7749da3c73784f4b816eb570ca1be4be%20%3D%20L.marker%28%0A%20%20%20%20%20%20%20%20%20%20%20%20%20%20%20%20%5B43.4895461319907%2C%202.75828200464452%5D%2C%0A%20%20%20%20%20%20%20%20%20%20%20%20%20%20%20%20%7B%7D%0A%20%20%20%20%20%20%20%20%20%20%20%20%29.addTo%28map_2d6b94ddbdfc4564ac60676369dd8f38%29%3B%0A%20%20%20%20%20%20%20%20%0A%20%20%20%20%0A%20%20%20%20%20%20%20%20%20%20%20%20var%20icon_838a5e0b00f94e88a0ad811785fb7adf%20%3D%20L.AwesomeMarkers.icon%28%0A%20%20%20%20%20%20%20%20%20%20%20%20%20%20%20%20%7B%22extraClasses%22%3A%20%22fa-rotate-0%22%2C%20%22icon%22%3A%20%22info-sign%22%2C%20%22iconColor%22%3A%20%22white%22%2C%20%22markerColor%22%3A%20%22green%22%2C%20%22prefix%22%3A%20%22glyphicon%22%7D%0A%20%20%20%20%20%20%20%20%20%20%20%20%29%3B%0A%20%20%20%20%20%20%20%20%20%20%20%20marker_7749da3c73784f4b816eb570ca1be4be.setIcon%28icon_838a5e0b00f94e88a0ad811785fb7adf%29%3B%0A%20%20%20%20%20%20%20%20%0A%20%20%20%20%0A%20%20%20%20%20%20%20%20var%20popup_af879f0150a24578a6c0b2f5bba3adc0%20%3D%20L.popup%28%7B%22maxWidth%22%3A%20500%7D%29%3B%0A%0A%20%20%20%20%20%20%20%20%0A%20%20%20%20%20%20%20%20%20%20%20%20var%20html_2873481afc354e449a25894a86817b1d%20%3D%20%24%28%60%3Cdiv%20id%3D%22html_2873481afc354e449a25894a86817b1d%22%20style%3D%22width%3A%20100.0%25%3B%20height%3A%20100.0%25%3B%22%3E%3Ch4%3E%3Cb%3E%3Cp%20style%3D%22text-align%3Acenter%3B%22%3ELBM%20SAINT%20PONS%20DE%20THOMIERES%3C/p%3E%3C/b%3E%3C/h4%3E%3Cbr%3E%3Ch5%3E%3Cb%3EAdresse%20%3A%20%3C/b%3E%3C/h5%3E12%20PL%20DU%20FOIRAIL%2034220%20ST%20PONS%20DE%20THOMIERES%3Cbr%3E%3Ci%3E-%3C/i%3E%3Cbr%3E%3Cstrong%3E%3Cb%3ETest%20RT-PCR%20%3A%20%3C/b%3E%3C/strong%3EOUI%3Cbr%3E%3Cstrong%3E%3Cb%3ETest%20antig%C3%A9nique%20%3A%20%3C/b%3E%3C/strong%3ENON%3Cbr%3E%3Cstrong%3E%3Cb%3EModalit%C3%A9s%20de%20pr%C3%A9l%C3%A8vement%20%3A%20%3C/b%3E%3C/strong%3ESur%20place%3Cbr%3E%3Cstrong%3E%3Cb%3EPublic%20%3A%20%3C/b%3E%3C/strong%3ETout%20public%3Cbr%3E%3Cstrong%3E%3Cb%3EAcc%C3%A8s%20%3A%20%3C/b%3E%3C/strong%3ESur%20rendez-vous%20uniquement%3Cbr%3E%3Ch5%3E%3Cb%3EHoraire%20%3A%20%3C/b%3E%3C/h5%3E-%3Cbr%3E%3Cstrong%3E%3Cb%3EPersonnes%20prioritaires%20%3A%20%3C/b%3E%3C/strong%3E-%3Cbr%3E%3Cstrong%3E%3Cb%3ET%C3%A9l%C3%A9phone%20%3A%20%3C/b%3E%3C/strong%3E-%3Cbr%3E%3Cstrong%3E%3Cb%3ESite%20internet%20%3A%20%3C/b%3E%3C/strong%3E-%3C/div%3E%60%29%5B0%5D%3B%0A%20%20%20%20%20%20%20%20%20%20%20%20popup_af879f0150a24578a6c0b2f5bba3adc0.setContent%28html_2873481afc354e449a25894a86817b1d%29%3B%0A%20%20%20%20%20%20%20%20%0A%0A%20%20%20%20%20%20%20%20marker_7749da3c73784f4b816eb570ca1be4be.bindPopup%28popup_af879f0150a24578a6c0b2f5bba3adc0%29%0A%20%20%20%20%20%20%20%20%3B%0A%0A%20%20%20%20%20%20%20%20%0A%20%20%20%20%0A%20%20%20%20%0A%20%20%20%20%20%20%20%20%20%20%20%20marker_7749da3c73784f4b816eb570ca1be4be.bindTooltip%28%0A%20%20%20%20%20%20%20%20%20%20%20%20%20%20%20%20%60%3Cdiv%3E%0A%20%20%20%20%20%20%20%20%20%20%20%20%20%20%20%20%20%20%20%20%20%3Cstrong%3E12%20PL%20DU%20FOIRAIL%2034220%20ST%20PONS%20DE%20THOMIERES%3C/strong%3E%0A%20%20%20%20%20%20%20%20%20%20%20%20%20%20%20%20%20%3C/div%3E%60%2C%0A%20%20%20%20%20%20%20%20%20%20%20%20%20%20%20%20%7B%22sticky%22%3A%20true%7D%0A%20%20%20%20%20%20%20%20%20%20%20%20%29%3B%0A%20%20%20%20%20%20%20%20%0A%20%20%20%20%0A%20%20%20%20%20%20%20%20%20%20%20%20var%20marker_70e5553ef081493ea98ffade6d228709%20%3D%20L.marker%28%0A%20%20%20%20%20%20%20%20%20%20%20%20%20%20%20%20%5B43.4614896477999%2C%203.42412218123667%5D%2C%0A%20%20%20%20%20%20%20%20%20%20%20%20%20%20%20%20%7B%7D%0A%20%20%20%20%20%20%20%20%20%20%20%20%29.addTo%28map_2d6b94ddbdfc4564ac60676369dd8f38%29%3B%0A%20%20%20%20%20%20%20%20%0A%20%20%20%20%0A%20%20%20%20%20%20%20%20%20%20%20%20var%20icon_4e9d7efa59054a8397e4d051cb313de7%20%3D%20L.AwesomeMarkers.icon%28%0A%20%20%20%20%20%20%20%20%20%20%20%20%20%20%20%20%7B%22extraClasses%22%3A%20%22fa-rotate-0%22%2C%20%22icon%22%3A%20%22info-sign%22%2C%20%22iconColor%22%3A%20%22white%22%2C%20%22markerColor%22%3A%20%22green%22%2C%20%22prefix%22%3A%20%22glyphicon%22%7D%0A%20%20%20%20%20%20%20%20%20%20%20%20%29%3B%0A%20%20%20%20%20%20%20%20%20%20%20%20marker_70e5553ef081493ea98ffade6d228709.setIcon%28icon_4e9d7efa59054a8397e4d051cb313de7%29%3B%0A%20%20%20%20%20%20%20%20%0A%20%20%20%20%0A%20%20%20%20%20%20%20%20var%20popup_478a19a203e4429382bb28fc044f2963%20%3D%20L.popup%28%7B%22maxWidth%22%3A%20500%7D%29%3B%0A%0A%20%20%20%20%20%20%20%20%0A%20%20%20%20%20%20%20%20%20%20%20%20var%20html_7215302ddf5c493dad43f8d42e0b5754%20%3D%20%24%28%60%3Cdiv%20id%3D%22html_7215302ddf5c493dad43f8d42e0b5754%22%20style%3D%22width%3A%20100.0%25%3B%20height%3A%20100.0%25%3B%22%3E%3Ch4%3E%3Cb%3E%3Cp%20style%3D%22text-align%3Acenter%3B%22%3ELBM%20BIOMED%2034%20PEZENAS%2014%20JUILLET%3C/p%3E%3C/b%3E%3C/h4%3E%3Cbr%3E%3Ch5%3E%3Cb%3EAdresse%20%3A%20%3C/b%3E%3C/h5%3E6%20PL%20DU%2014%20JUILLET%2034120%20PEZENAS%3Cbr%3E%3Ci%3E-%3C/i%3E%3Cbr%3E%3Cstrong%3E%3Cb%3ETest%20RT-PCR%20%3A%20%3C/b%3E%3C/strong%3EOUI%3Cbr%3E%3Cstrong%3E%3Cb%3ETest%20antig%C3%A9nique%20%3A%20%3C/b%3E%3C/strong%3ENON%3Cbr%3E%3Cstrong%3E%3Cb%3EModalit%C3%A9s%20de%20pr%C3%A9l%C3%A8vement%20%3A%20%3C/b%3E%3C/strong%3ESur%20place%3Cbr%3E%3Cstrong%3E%3Cb%3EPublic%20%3A%20%3C/b%3E%3C/strong%3ETout%20public%3Cbr%3E%3Cstrong%3E%3Cb%3EAcc%C3%A8s%20%3A%20%3C/b%3E%3C/strong%3E-%3Cbr%3E%3Ch5%3E%3Cb%3EHoraire%20%3A%20%3C/b%3E%3C/h5%3E-%3Cbr%3E%3Cstrong%3E%3Cb%3EPersonnes%20prioritaires%20%3A%20%3C/b%3E%3C/strong%3E-%3Cbr%3E%3Cstrong%3E%3Cb%3ET%C3%A9l%C3%A9phone%20%3A%20%3C/b%3E%3C/strong%3E-%3Cbr%3E%3Cstrong%3E%3Cb%3ESite%20internet%20%3A%20%3C/b%3E%3C/strong%3E-%3C/div%3E%60%29%5B0%5D%3B%0A%20%20%20%20%20%20%20%20%20%20%20%20popup_478a19a203e4429382bb28fc044f2963.setContent%28html_7215302ddf5c493dad43f8d42e0b5754%29%3B%0A%20%20%20%20%20%20%20%20%0A%0A%20%20%20%20%20%20%20%20marker_70e5553ef081493ea98ffade6d228709.bindPopup%28popup_478a19a203e4429382bb28fc044f2963%29%0A%20%20%20%20%20%20%20%20%3B%0A%0A%20%20%20%20%20%20%20%20%0A%20%20%20%20%0A%20%20%20%20%0A%20%20%20%20%20%20%20%20%20%20%20%20marker_70e5553ef081493ea98ffade6d228709.bindTooltip%28%0A%20%20%20%20%20%20%20%20%20%20%20%20%20%20%20%20%60%3Cdiv%3E%0A%20%20%20%20%20%20%20%20%20%20%20%20%20%20%20%20%20%20%20%20%20%3Cstrong%3E6%20PL%20DU%2014%20JUILLET%2034120%20PEZENAS%3C/strong%3E%0A%20%20%20%20%20%20%20%20%20%20%20%20%20%20%20%20%20%3C/div%3E%60%2C%0A%20%20%20%20%20%20%20%20%20%20%20%20%20%20%20%20%7B%22sticky%22%3A%20true%7D%0A%20%20%20%20%20%20%20%20%20%20%20%20%29%3B%0A%20%20%20%20%20%20%20%20%0A%20%20%20%20%0A%20%20%20%20%20%20%20%20%20%20%20%20var%20marker_70e829c6e9064f22976644d33ab70021%20%3D%20L.marker%28%0A%20%20%20%20%20%20%20%20%20%20%20%20%20%20%20%20%5B43.609125%2C%203.88437%5D%2C%0A%20%20%20%20%20%20%20%20%20%20%20%20%20%20%20%20%7B%7D%0A%20%20%20%20%20%20%20%20%20%20%20%20%29.addTo%28map_2d6b94ddbdfc4564ac60676369dd8f38%29%3B%0A%20%20%20%20%20%20%20%20%0A%20%20%20%20%0A%20%20%20%20%20%20%20%20%20%20%20%20var%20icon_74bffe740f354a648a1320eadf28e048%20%3D%20L.AwesomeMarkers.icon%28%0A%20%20%20%20%20%20%20%20%20%20%20%20%20%20%20%20%7B%22extraClasses%22%3A%20%22fa-rotate-0%22%2C%20%22icon%22%3A%20%22info-sign%22%2C%20%22iconColor%22%3A%20%22white%22%2C%20%22markerColor%22%3A%20%22green%22%2C%20%22prefix%22%3A%20%22glyphicon%22%7D%0A%20%20%20%20%20%20%20%20%20%20%20%20%29%3B%0A%20%20%20%20%20%20%20%20%20%20%20%20marker_70e829c6e9064f22976644d33ab70021.setIcon%28icon_74bffe740f354a648a1320eadf28e048%29%3B%0A%20%20%20%20%20%20%20%20%0A%20%20%20%20%0A%20%20%20%20%20%20%20%20var%20popup_2c328ec6a2e548fd9ce29bc99070afbb%20%3D%20L.popup%28%7B%22maxWidth%22%3A%20500%7D%29%3B%0A%0A%20%20%20%20%20%20%20%20%0A%20%20%20%20%20%20%20%20%20%20%20%20var%20html_bc51655405424c6d9a28b36853c8a5df%20%3D%20%24%28%60%3Cdiv%20id%3D%22html_bc51655405424c6d9a28b36853c8a5df%22%20style%3D%22width%3A%20100.0%25%3B%20height%3A%20100.0%25%3B%22%3E%3Ch4%3E%3Cb%3E%3Cp%20style%3D%22text-align%3Acenter%3B%22%3ELBM%20LABOSUD%20SALLE%20PAGEZY%20CENTRE%20VILLE%3C/p%3E%3C/b%3E%3C/h4%3E%3Cbr%3E%3Ch5%3E%3Cb%3EAdresse%20%3A%20%3C/b%3E%3C/h5%3E1%20Place%20Francis%20Ponge%2034000%20Montpellier%3Cbr%3E%3Ci%3ECentre%20de%20d%C3%A9pistage%20d%C3%A9di%C3%A9%3C/i%3E%3Cbr%3E%3Cstrong%3E%3Cb%3ETest%20RT-PCR%20%3A%20%3C/b%3E%3C/strong%3EOUI%3Cbr%3E%3Cstrong%3E%3Cb%3ETest%20antig%C3%A9nique%20%3A%20%3C/b%3E%3C/strong%3ENON%3Cbr%3E%3Cstrong%3E%3Cb%3EModalit%C3%A9s%20de%20pr%C3%A9l%C3%A8vement%20%3A%20%3C/b%3E%3C/strong%3ESur%20place%3Cbr%3E%3Cstrong%3E%3Cb%3EPublic%20%3A%20%3C/b%3E%3C/strong%3ETout%20public%3Cbr%3E%3Cstrong%3E%3Cb%3EAcc%C3%A8s%20%3A%20%3C/b%3E%3C/strong%3ESur%20rendez-vous%20uniquement%3Cbr%3E%3Ch5%3E%3Cb%3EHoraire%20%3A%20%3C/b%3E%3C/h5%3E-%3Cbr%3E%3Cstrong%3E%3Cb%3EPersonnes%20prioritaires%20%3A%20%3C/b%3E%3C/strong%3E-%3Cbr%3E%3Cstrong%3E%3Cb%3ET%C3%A9l%C3%A9phone%20%3A%20%3C/b%3E%3C/strong%3E-%3Cbr%3E%3Cstrong%3E%3Cb%3ESite%20internet%20%3A%20%3C/b%3E%3C/strong%3Ehttps%3A//labosud.fr/rdvcovid19%3C/div%3E%60%29%5B0%5D%3B%0A%20%20%20%20%20%20%20%20%20%20%20%20popup_2c328ec6a2e548fd9ce29bc99070afbb.setContent%28html_bc51655405424c6d9a28b36853c8a5df%29%3B%0A%20%20%20%20%20%20%20%20%0A%0A%20%20%20%20%20%20%20%20marker_70e829c6e9064f22976644d33ab70021.bindPopup%28popup_2c328ec6a2e548fd9ce29bc99070afbb%29%0A%20%20%20%20%20%20%20%20%3B%0A%0A%20%20%20%20%20%20%20%20%0A%20%20%20%20%0A%20%20%20%20%0A%20%20%20%20%20%20%20%20%20%20%20%20marker_70e829c6e9064f22976644d33ab70021.bindTooltip%28%0A%20%20%20%20%20%20%20%20%20%20%20%20%20%20%20%20%60%3Cdiv%3E%0A%20%20%20%20%20%20%20%20%20%20%20%20%20%20%20%20%20%20%20%20%20%3Cstrong%3E1%20Place%20Francis%20Ponge%2034000%20Montpellier%3C/strong%3E%0A%20%20%20%20%20%20%20%20%20%20%20%20%20%20%20%20%20%3C/div%3E%60%2C%0A%20%20%20%20%20%20%20%20%20%20%20%20%20%20%20%20%7B%22sticky%22%3A%20true%7D%0A%20%20%20%20%20%20%20%20%20%20%20%20%29%3B%0A%20%20%20%20%20%20%20%20%0A%20%20%20%20%0A%20%20%20%20%20%20%20%20%20%20%20%20var%20marker_8dc09eb34a9d405a9d7d405c8fcf3f84%20%3D%20L.marker%28%0A%20%20%20%20%20%20%20%20%20%20%20%20%20%20%20%20%5B43.6356199568277%2C%203.89139779666471%5D%2C%0A%20%20%20%20%20%20%20%20%20%20%20%20%20%20%20%20%7B%7D%0A%20%20%20%20%20%20%20%20%20%20%20%20%29.addTo%28map_2d6b94ddbdfc4564ac60676369dd8f38%29%3B%0A%20%20%20%20%20%20%20%20%0A%20%20%20%20%0A%20%20%20%20%20%20%20%20%20%20%20%20var%20icon_0c8806e1f08e4581b061615185c6dad3%20%3D%20L.AwesomeMarkers.icon%28%0A%20%20%20%20%20%20%20%20%20%20%20%20%20%20%20%20%7B%22extraClasses%22%3A%20%22fa-rotate-0%22%2C%20%22icon%22%3A%20%22info-sign%22%2C%20%22iconColor%22%3A%20%22white%22%2C%20%22markerColor%22%3A%20%22green%22%2C%20%22prefix%22%3A%20%22glyphicon%22%7D%0A%20%20%20%20%20%20%20%20%20%20%20%20%29%3B%0A%20%20%20%20%20%20%20%20%20%20%20%20marker_8dc09eb34a9d405a9d7d405c8fcf3f84.setIcon%28icon_0c8806e1f08e4581b061615185c6dad3%29%3B%0A%20%20%20%20%20%20%20%20%0A%20%20%20%20%0A%20%20%20%20%20%20%20%20var%20popup_200a433ca618482480fb9eae234565d6%20%3D%20L.popup%28%7B%22maxWidth%22%3A%20500%7D%29%3B%0A%0A%20%20%20%20%20%20%20%20%0A%20%20%20%20%20%20%20%20%20%20%20%20var%20html_4d79bd81816042d691be2e3093e0676c%20%3D%20%24%28%60%3Cdiv%20id%3D%22html_4d79bd81816042d691be2e3093e0676c%22%20style%3D%22width%3A%20100.0%25%3B%20height%3A%20100.0%25%3B%22%3E%3Ch4%3E%3Cb%3E%3Cp%20style%3D%22text-align%3Acenter%3B%22%3ELBM%20BIOPOLE%20CASTELNAU%20LE%20LEZ%20E.%20COMBES%3C/p%3E%3C/b%3E%3C/h4%3E%3Cbr%3E%3Ch5%3E%3Cb%3EAdresse%20%3A%20%3C/b%3E%3C/h5%3E50%20R%20EMILE%20COMBES%2034170%20CASTELNAU%20LE%20LEZ%3Cbr%3E%3Ci%3E-%3C/i%3E%3Cbr%3E%3Cstrong%3E%3Cb%3ETest%20RT-PCR%20%3A%20%3C/b%3E%3C/strong%3EOUI%3Cbr%3E%3Cstrong%3E%3Cb%3ETest%20antig%C3%A9nique%20%3A%20%3C/b%3E%3C/strong%3ENON%3Cbr%3E%3Cstrong%3E%3Cb%3EModalit%C3%A9s%20de%20pr%C3%A9l%C3%A8vement%20%3A%20%3C/b%3E%3C/strong%3ESur%20place%3Cbr%3E%3Cstrong%3E%3Cb%3EPublic%20%3A%20%3C/b%3E%3C/strong%3ECas%20contacts%20liste%20CPAM/Tout%20public%20-%20sur%20ordonnance%3Cbr%3E%3Cstrong%3E%3Cb%3EAcc%C3%A8s%20%3A%20%3C/b%3E%3C/strong%3EAvec%20ou%20sans%20rendez-vous%3Cbr%3E%3Ch5%3E%3Cb%3EHoraire%20%3A%20%3C/b%3E%3C/h5%3Elundi%20%3A%208h00-12h30%20et%2014h00-16h00%20%7C%20mardi%20%3A%208h00-12h30%20et%2014h00-16h00%20%7C%20mercredi%20%3A%208h00-12h30%20et%2014h00-16h00%20%7C%20jeudi%20%3A%208h00-12h30%20et%2014h00-16h00%20%7C%20vendredi%20%3A%208h00-12h30%20et%2014h00-16h00%20%7C%20pas%20de%20pr%C3%A9l%C3%A8vements%20le%20samedi%20matin%20%7C%20dimanche%20%3A%20ferm%C3%A9%3Cbr%3E%3Cstrong%3E%3Cb%3EPersonnes%20prioritaires%20%3A%20%3C/b%3E%3C/strong%3Elundi%20%3A%208h00-12h30%20et%2014h00-16h00%20%7C%20mardi%20%3A%208h00-12h30%20et%2014h00-16h00%20%7C%20mercredi%20%3A%208h00-12h30%20et%2014h00-16h00%20%7C%20jeudi%20%3A%208h00-12h30%20et%2014h00-16h00%20%7C%20vendredi%20%3A%208h00-12h30%20et%2014h00-16h00%20%7C%20pas%20de%20pr%C3%A9l%C3%A8vements%20le%20samedi%20matin%20%7C%20dimanche%20%3A%20ferm%C3%A9%3Cbr%3E%3Cstrong%3E%3Cb%3ET%C3%A9l%C3%A9phone%20%3A%20%3C/b%3E%3C/strong%3E0467793957%3Cbr%3E%3Cstrong%3E%3Cb%3ESite%20internet%20%3A%20%3C/b%3E%3C/strong%3Ebiopole34.bio%3C/div%3E%60%29%5B0%5D%3B%0A%20%20%20%20%20%20%20%20%20%20%20%20popup_200a433ca618482480fb9eae234565d6.setContent%28html_4d79bd81816042d691be2e3093e0676c%29%3B%0A%20%20%20%20%20%20%20%20%0A%0A%20%20%20%20%20%20%20%20marker_8dc09eb34a9d405a9d7d405c8fcf3f84.bindPopup%28popup_200a433ca618482480fb9eae234565d6%29%0A%20%20%20%20%20%20%20%20%3B%0A%0A%20%20%20%20%20%20%20%20%0A%20%20%20%20%0A%20%20%20%20%0A%20%20%20%20%20%20%20%20%20%20%20%20marker_8dc09eb34a9d405a9d7d405c8fcf3f84.bindTooltip%28%0A%20%20%20%20%20%20%20%20%20%20%20%20%20%20%20%20%60%3Cdiv%3E%0A%20%20%20%20%20%20%20%20%20%20%20%20%20%20%20%20%20%20%20%20%20%3Cstrong%3E50%20R%20EMILE%20COMBES%2034170%20CASTELNAU%20LE%20LEZ%3C/strong%3E%0A%20%20%20%20%20%20%20%20%20%20%20%20%20%20%20%20%20%3C/div%3E%60%2C%0A%20%20%20%20%20%20%20%20%20%20%20%20%20%20%20%20%7B%22sticky%22%3A%20true%7D%0A%20%20%20%20%20%20%20%20%20%20%20%20%29%3B%0A%20%20%20%20%20%20%20%20%0A%20%20%20%20%0A%20%20%20%20%20%20%20%20%20%20%20%20var%20marker_0e83b4d966d840f0a9de3fbda38281e9%20%3D%20L.marker%28%0A%20%20%20%20%20%20%20%20%20%20%20%20%20%20%20%20%5B43.3396736237271%2C%203.25430690978088%5D%2C%0A%20%20%20%20%20%20%20%20%20%20%20%20%20%20%20%20%7B%7D%0A%20%20%20%20%20%20%20%20%20%20%20%20%29.addTo%28map_2d6b94ddbdfc4564ac60676369dd8f38%29%3B%0A%20%20%20%20%20%20%20%20%0A%20%20%20%20%0A%20%20%20%20%20%20%20%20%20%20%20%20var%20icon_9b91735ee2fa43ada962777f74e28ba4%20%3D%20L.AwesomeMarkers.icon%28%0A%20%20%20%20%20%20%20%20%20%20%20%20%20%20%20%20%7B%22extraClasses%22%3A%20%22fa-rotate-0%22%2C%20%22icon%22%3A%20%22info-sign%22%2C%20%22iconColor%22%3A%20%22white%22%2C%20%22markerColor%22%3A%20%22green%22%2C%20%22prefix%22%3A%20%22glyphicon%22%7D%0A%20%20%20%20%20%20%20%20%20%20%20%20%29%3B%0A%20%20%20%20%20%20%20%20%20%20%20%20marker_0e83b4d966d840f0a9de3fbda38281e9.setIcon%28icon_9b91735ee2fa43ada962777f74e28ba4%29%3B%0A%20%20%20%20%20%20%20%20%0A%20%20%20%20%0A%20%20%20%20%20%20%20%20var%20popup_1d8f767396f941a7af45d252e44cae40%20%3D%20L.popup%28%7B%22maxWidth%22%3A%20500%7D%29%3B%0A%0A%20%20%20%20%20%20%20%20%0A%20%20%20%20%20%20%20%20%20%20%20%20var%20html_69bca78423f1447eaae8644c9ee0b99a%20%3D%20%24%28%60%3Cdiv%20id%3D%22html_69bca78423f1447eaae8644c9ee0b99a%22%20style%3D%22width%3A%20100.0%25%3B%20height%3A%20100.0%25%3B%22%3E%3Ch4%3E%3Cb%3E%3Cp%20style%3D%22text-align%3Acenter%3B%22%3ECH%20BEZIERS%3C/p%3E%3C/b%3E%3C/h4%3E%3Cbr%3E%3Ch5%3E%3Cb%3EAdresse%20%3A%20%3C/b%3E%3C/h5%3E2%20R%20VALENTIN%20HAUY%2034525%20BEZIERS%20CEDEX%3Cbr%3E%3Ci%3EService%20des%20urgences%20et%20autres%20services%3C/i%3E%3Cbr%3E%3Cstrong%3E%3Cb%3ETest%20RT-PCR%20%3A%20%3C/b%3E%3C/strong%3EOUI%3Cbr%3E%3Cstrong%3E%3Cb%3ETest%20antig%C3%A9nique%20%3A%20%3C/b%3E%3C/strong%3ENON%3Cbr%3E%3Cstrong%3E%3Cb%3EModalit%C3%A9s%20de%20pr%C3%A9l%C3%A8vement%20%3A%20%3C/b%3E%3C/strong%3ESur%20place%3Cbr%3E%3Cstrong%3E%3Cb%3EPublic%20%3A%20%3C/b%3E%3C/strong%3ETout%20public%3Cbr%3E%3Cstrong%3E%3Cb%3EAcc%C3%A8s%20%3A%20%3C/b%3E%3C/strong%3E-%3Cbr%3E%3Ch5%3E%3Cb%3EHoraire%20%3A%20%3C/b%3E%3C/h5%3E-%3Cbr%3E%3Cstrong%3E%3Cb%3EPersonnes%20prioritaires%20%3A%20%3C/b%3E%3C/strong%3E-%3Cbr%3E%3Cstrong%3E%3Cb%3ET%C3%A9l%C3%A9phone%20%3A%20%3C/b%3E%3C/strong%3E0467357200%20ou%20%200467357035%3Cbr%3E%3Cstrong%3E%3Cb%3ESite%20internet%20%3A%20%3C/b%3E%3C/strong%3E-%3C/div%3E%60%29%5B0%5D%3B%0A%20%20%20%20%20%20%20%20%20%20%20%20popup_1d8f767396f941a7af45d252e44cae40.setContent%28html_69bca78423f1447eaae8644c9ee0b99a%29%3B%0A%20%20%20%20%20%20%20%20%0A%0A%20%20%20%20%20%20%20%20marker_0e83b4d966d840f0a9de3fbda38281e9.bindPopup%28popup_1d8f767396f941a7af45d252e44cae40%29%0A%20%20%20%20%20%20%20%20%3B%0A%0A%20%20%20%20%20%20%20%20%0A%20%20%20%20%0A%20%20%20%20%0A%20%20%20%20%20%20%20%20%20%20%20%20marker_0e83b4d966d840f0a9de3fbda38281e9.bindTooltip%28%0A%20%20%20%20%20%20%20%20%20%20%20%20%20%20%20%20%60%3Cdiv%3E%0A%20%20%20%20%20%20%20%20%20%20%20%20%20%20%20%20%20%20%20%20%20%3Cstrong%3E2%20R%20VALENTIN%20HAUY%2034525%20BEZIERS%20CEDEX%3C/strong%3E%0A%20%20%20%20%20%20%20%20%20%20%20%20%20%20%20%20%20%3C/div%3E%60%2C%0A%20%20%20%20%20%20%20%20%20%20%20%20%20%20%20%20%7B%22sticky%22%3A%20true%7D%0A%20%20%20%20%20%20%20%20%20%20%20%20%29%3B%0A%20%20%20%20%20%20%20%20%0A%20%20%20%20%0A%20%20%20%20%20%20%20%20%20%20%20%20var%20marker_6c740ea397de4150b23f334ad39ba4db%20%3D%20L.marker%28%0A%20%20%20%20%20%20%20%20%20%20%20%20%20%20%20%20%5B43.3458543403822%2C%203.22998332103409%5D%2C%0A%20%20%20%20%20%20%20%20%20%20%20%20%20%20%20%20%7B%7D%0A%20%20%20%20%20%20%20%20%20%20%20%20%29.addTo%28map_2d6b94ddbdfc4564ac60676369dd8f38%29%3B%0A%20%20%20%20%20%20%20%20%0A%20%20%20%20%0A%20%20%20%20%20%20%20%20%20%20%20%20var%20icon_b29d1bda0e2c4006a46d25c024e97046%20%3D%20L.AwesomeMarkers.icon%28%0A%20%20%20%20%20%20%20%20%20%20%20%20%20%20%20%20%7B%22extraClasses%22%3A%20%22fa-rotate-0%22%2C%20%22icon%22%3A%20%22info-sign%22%2C%20%22iconColor%22%3A%20%22white%22%2C%20%22markerColor%22%3A%20%22green%22%2C%20%22prefix%22%3A%20%22glyphicon%22%7D%0A%20%20%20%20%20%20%20%20%20%20%20%20%29%3B%0A%20%20%20%20%20%20%20%20%20%20%20%20marker_6c740ea397de4150b23f334ad39ba4db.setIcon%28icon_b29d1bda0e2c4006a46d25c024e97046%29%3B%0A%20%20%20%20%20%20%20%20%0A%20%20%20%20%0A%20%20%20%20%20%20%20%20var%20popup_fbe32c1b336445f8af7b5daff6a0a123%20%3D%20L.popup%28%7B%22maxWidth%22%3A%20500%7D%29%3B%0A%0A%20%20%20%20%20%20%20%20%0A%20%20%20%20%20%20%20%20%20%20%20%20var%20html_9b44852c957e40c984879bda6fc08393%20%3D%20%24%28%60%3Cdiv%20id%3D%22html_9b44852c957e40c984879bda6fc08393%22%20style%3D%22width%3A%20100.0%25%3B%20height%3A%20100.0%25%3B%22%3E%3Ch4%3E%3Cb%3E%3Cp%20style%3D%22text-align%3Acenter%3B%22%3ESSR%20CH%20BEZIERS%3C/p%3E%3C/b%3E%3C/h4%3E%3Cbr%3E%3Ch5%3E%3Cb%3EAdresse%20%3A%20%3C/b%3E%3C/h5%3E2%20BD%20PERREAL%2034525%20BEZIERS%20CEDEX%3Cbr%3E%3Ci%3E-%3C/i%3E%3Cbr%3E%3Cstrong%3E%3Cb%3ETest%20RT-PCR%20%3A%20%3C/b%3E%3C/strong%3EOUI%3Cbr%3E%3Cstrong%3E%3Cb%3ETest%20antig%C3%A9nique%20%3A%20%3C/b%3E%3C/strong%3ENON%3Cbr%3E%3Cstrong%3E%3Cb%3EModalit%C3%A9s%20de%20pr%C3%A9l%C3%A8vement%20%3A%20%3C/b%3E%3C/strong%3ESur%20place%3Cbr%3E%3Cstrong%3E%3Cb%3EPublic%20%3A%20%3C/b%3E%3C/strong%3ETout%20public%3Cbr%3E%3Cstrong%3E%3Cb%3EAcc%C3%A8s%20%3A%20%3C/b%3E%3C/strong%3E-%3Cbr%3E%3Ch5%3E%3Cb%3EHoraire%20%3A%20%3C/b%3E%3C/h5%3E-%3Cbr%3E%3Cstrong%3E%3Cb%3EPersonnes%20prioritaires%20%3A%20%3C/b%3E%3C/strong%3E-%3Cbr%3E%3Cstrong%3E%3Cb%3ET%C3%A9l%C3%A9phone%20%3A%20%3C/b%3E%3C/strong%3E-%3Cbr%3E%3Cstrong%3E%3Cb%3ESite%20internet%20%3A%20%3C/b%3E%3C/strong%3E-%3C/div%3E%60%29%5B0%5D%3B%0A%20%20%20%20%20%20%20%20%20%20%20%20popup_fbe32c1b336445f8af7b5daff6a0a123.setContent%28html_9b44852c957e40c984879bda6fc08393%29%3B%0A%20%20%20%20%20%20%20%20%0A%0A%20%20%20%20%20%20%20%20marker_6c740ea397de4150b23f334ad39ba4db.bindPopup%28popup_fbe32c1b336445f8af7b5daff6a0a123%29%0A%20%20%20%20%20%20%20%20%3B%0A%0A%20%20%20%20%20%20%20%20%0A%20%20%20%20%0A%20%20%20%20%0A%20%20%20%20%20%20%20%20%20%20%20%20marker_6c740ea397de4150b23f334ad39ba4db.bindTooltip%28%0A%20%20%20%20%20%20%20%20%20%20%20%20%20%20%20%20%60%3Cdiv%3E%0A%20%20%20%20%20%20%20%20%20%20%20%20%20%20%20%20%20%20%20%20%20%3Cstrong%3E2%20BD%20PERREAL%2034525%20BEZIERS%20CEDEX%3C/strong%3E%0A%20%20%20%20%20%20%20%20%20%20%20%20%20%20%20%20%20%3C/div%3E%60%2C%0A%20%20%20%20%20%20%20%20%20%20%20%20%20%20%20%20%7B%22sticky%22%3A%20true%7D%0A%20%20%20%20%20%20%20%20%20%20%20%20%29%3B%0A%20%20%20%20%20%20%20%20%0A%20%20%20%20%0A%20%20%20%20%20%20%20%20%20%20%20%20var%20marker_d1297635f22443879e2f9b714f1b7db1%20%3D%20L.marker%28%0A%20%20%20%20%20%20%20%20%20%20%20%20%20%20%20%20%5B43.627401%2C%203.869126%5D%2C%0A%20%20%20%20%20%20%20%20%20%20%20%20%20%20%20%20%7B%7D%0A%20%20%20%20%20%20%20%20%20%20%20%20%29.addTo%28map_2d6b94ddbdfc4564ac60676369dd8f38%29%3B%0A%20%20%20%20%20%20%20%20%0A%20%20%20%20%0A%20%20%20%20%20%20%20%20%20%20%20%20var%20icon_7e28295bc43e4139aee32e42260fcb1d%20%3D%20L.AwesomeMarkers.icon%28%0A%20%20%20%20%20%20%20%20%20%20%20%20%20%20%20%20%7B%22extraClasses%22%3A%20%22fa-rotate-0%22%2C%20%22icon%22%3A%20%22info-sign%22%2C%20%22iconColor%22%3A%20%22white%22%2C%20%22markerColor%22%3A%20%22green%22%2C%20%22prefix%22%3A%20%22glyphicon%22%7D%0A%20%20%20%20%20%20%20%20%20%20%20%20%29%3B%0A%20%20%20%20%20%20%20%20%20%20%20%20marker_d1297635f22443879e2f9b714f1b7db1.setIcon%28icon_7e28295bc43e4139aee32e42260fcb1d%29%3B%0A%20%20%20%20%20%20%20%20%0A%20%20%20%20%0A%20%20%20%20%20%20%20%20var%20popup_dda3156f3e934aebb7fbdf6052a70350%20%3D%20L.popup%28%7B%22maxWidth%22%3A%20500%7D%29%3B%0A%0A%20%20%20%20%20%20%20%20%0A%20%20%20%20%20%20%20%20%20%20%20%20var%20html_292ff040f72f470aaebc4e809de208a3%20%3D%20%24%28%60%3Cdiv%20id%3D%22html_292ff040f72f470aaebc4e809de208a3%22%20style%3D%22width%3A%20100.0%25%3B%20height%3A%20100.0%25%3B%22%3E%3Ch4%3E%3Cb%3E%3Cp%20style%3D%22text-align%3Acenter%3B%22%3EDrive%20du%20CHU%20de%20Montpellier%3C/p%3E%3C/b%3E%3C/h4%3E%3Cbr%3E%3Ch5%3E%3Cb%3EAdresse%20%3A%20%3C/b%3E%3C/h5%3ERue%20du%20Truel%2034090%20Montpellier%3Cbr%3E%3Ci%3EDrive%3C/i%3E%3Cbr%3E%3Cstrong%3E%3Cb%3ETest%20RT-PCR%20%3A%20%3C/b%3E%3C/strong%3EOUI%3Cbr%3E%3Cstrong%3E%3Cb%3ETest%20antig%C3%A9nique%20%3A%20%3C/b%3E%3C/strong%3ENON%3Cbr%3E%3Cstrong%3E%3Cb%3EModalit%C3%A9s%20de%20pr%C3%A9l%C3%A8vement%20%3A%20%3C/b%3E%3C/strong%3ESur%20place%3Cbr%3E%3Cstrong%3E%3Cb%3EPublic%20%3A%20%3C/b%3E%3C/strong%3ETout%20public%3Cbr%3E%3Cstrong%3E%3Cb%3EAcc%C3%A8s%20%3A%20%3C/b%3E%3C/strong%3ESur%20rendez-vous%20uniquement%3Cbr%3E%3Ch5%3E%3Cb%3EHoraire%20%3A%20%3C/b%3E%3C/h5%3EHoraires%20du%20mois%20d%27ao%C3%BBt%20%3A%20%7C%20Du%20lundi%20au%20dimanche%2C%20de%208h30%20%C3%A0%2013h%3Cbr%3E%3Cstrong%3E%3Cb%3EPersonnes%20prioritaires%20%3A%20%3C/b%3E%3C/strong%3E-%3Cbr%3E%3Cstrong%3E%3Cb%3ET%C3%A9l%C3%A9phone%20%3A%20%3C/b%3E%3C/strong%3E0467330551%3Cbr%3E%3Cstrong%3E%3Cb%3ESite%20internet%20%3A%20%3C/b%3E%3C/strong%3E-%3C/div%3E%60%29%5B0%5D%3B%0A%20%20%20%20%20%20%20%20%20%20%20%20popup_dda3156f3e934aebb7fbdf6052a70350.setContent%28html_292ff040f72f470aaebc4e809de208a3%29%3B%0A%20%20%20%20%20%20%20%20%0A%0A%20%20%20%20%20%20%20%20marker_d1297635f22443879e2f9b714f1b7db1.bindPopup%28popup_dda3156f3e934aebb7fbdf6052a70350%29%0A%20%20%20%20%20%20%20%20%3B%0A%0A%20%20%20%20%20%20%20%20%0A%20%20%20%20%0A%20%20%20%20%0A%20%20%20%20%20%20%20%20%20%20%20%20marker_d1297635f22443879e2f9b714f1b7db1.bindTooltip%28%0A%20%20%20%20%20%20%20%20%20%20%20%20%20%20%20%20%60%3Cdiv%3E%0A%20%20%20%20%20%20%20%20%20%20%20%20%20%20%20%20%20%20%20%20%20%3Cstrong%3ERue%20du%20Truel%2034090%20Montpellier%3C/strong%3E%0A%20%20%20%20%20%20%20%20%20%20%20%20%20%20%20%20%20%3C/div%3E%60%2C%0A%20%20%20%20%20%20%20%20%20%20%20%20%20%20%20%20%7B%22sticky%22%3A%20true%7D%0A%20%20%20%20%20%20%20%20%20%20%20%20%29%3B%0A%20%20%20%20%20%20%20%20%0A%20%20%20%20%0A%20%20%20%20%20%20%20%20%20%20%20%20var%20marker_28f5c56cb6ee4eadba69a0ce2ca8d442%20%3D%20L.marker%28%0A%20%20%20%20%20%20%20%20%20%20%20%20%20%20%20%20%5B43.573135%2C%203.863864%5D%2C%0A%20%20%20%20%20%20%20%20%20%20%20%20%20%20%20%20%7B%7D%0A%20%20%20%20%20%20%20%20%20%20%20%20%29.addTo%28map_2d6b94ddbdfc4564ac60676369dd8f38%29%3B%0A%20%20%20%20%20%20%20%20%0A%20%20%20%20%0A%20%20%20%20%20%20%20%20%20%20%20%20var%20icon_2edb2c3e3d7c47389573152223391ef4%20%3D%20L.AwesomeMarkers.icon%28%0A%20%20%20%20%20%20%20%20%20%20%20%20%20%20%20%20%7B%22extraClasses%22%3A%20%22fa-rotate-0%22%2C%20%22icon%22%3A%20%22info-sign%22%2C%20%22iconColor%22%3A%20%22white%22%2C%20%22markerColor%22%3A%20%22red%22%2C%20%22prefix%22%3A%20%22glyphicon%22%7D%0A%20%20%20%20%20%20%20%20%20%20%20%20%29%3B%0A%20%20%20%20%20%20%20%20%20%20%20%20marker_28f5c56cb6ee4eadba69a0ce2ca8d442.setIcon%28icon_2edb2c3e3d7c47389573152223391ef4%29%3B%0A%20%20%20%20%20%20%20%20%0A%20%20%20%20%0A%20%20%20%20%20%20%20%20var%20popup_4ff255ffbadf42828f83499e9e511d89%20%3D%20L.popup%28%7B%22maxWidth%22%3A%20500%7D%29%3B%0A%0A%20%20%20%20%20%20%20%20%0A%20%20%20%20%20%20%20%20%20%20%20%20var%20html_5fd2abc3d3c649fc99053297f642bc5c%20%3D%20%24%28%60%3Cdiv%20id%3D%22html_5fd2abc3d3c649fc99053297f642bc5c%22%20style%3D%22width%3A%20100.0%25%3B%20height%3A%20100.0%25%3B%22%3E%3Ch4%3E%3Cb%3E%3Cp%20style%3D%22text-align%3Acenter%3B%22%3ELBM%20LABOSUD%20MONTPELLIER%20GAROSUD%3C/p%3E%3C/b%3E%3C/h4%3E%3Cbr%3E%3Ch5%3E%3Cb%3EAdresse%20%3A%20%3C/b%3E%3C/h5%3E90%20Rue%20Nicolas%20Ch%C3%A9deville%2034070%20Montpellier%3Cbr%3E%3Ci%3ECentre%20de%20d%C3%A9pistage%20d%C3%A9di%C3%A9%3C/i%3E%3Cbr%3E%3Cstrong%3E%3Cb%3ETest%20RT-PCR%20%3A%20%3C/b%3E%3C/strong%3EOUI%3Cbr%3E%3Cstrong%3E%3Cb%3ETest%20antig%C3%A9nique%20%3A%20%3C/b%3E%3C/strong%3ENON%3Cbr%3E%3Cstrong%3E%3Cb%3EModalit%C3%A9s%20de%20pr%C3%A9l%C3%A8vement%20%3A%20%3C/b%3E%3C/strong%3EDrive%3Cbr%3E%3Cstrong%3E%3Cb%3EPublic%20%3A%20%3C/b%3E%3C/strong%3EPatients%20avec%20sympt%C3%B4mes/Cas%20contacts%20liste%20CPAM/Personnel%20soignant%3Cbr%3E%3Cstrong%3E%3Cb%3EAcc%C3%A8s%20%3A%20%3C/b%3E%3C/strong%3ESur%20rendez-vous%20uniquement%3Cbr%3E%3Ch5%3E%3Cb%3EHoraire%20%3A%20%3C/b%3E%3C/h5%3E-%3Cbr%3E%3Cstrong%3E%3Cb%3EPersonnes%20prioritaires%20%3A%20%3C/b%3E%3C/strong%3E-%3Cbr%3E%3Cstrong%3E%3Cb%3ET%C3%A9l%C3%A9phone%20%3A%20%3C/b%3E%3C/strong%3E-%3Cbr%3E%3Cstrong%3E%3Cb%3ESite%20internet%20%3A%20%3C/b%3E%3C/strong%3Ehttps%3A//labosud.fr/rdvcovid19%3C/div%3E%60%29%5B0%5D%3B%0A%20%20%20%20%20%20%20%20%20%20%20%20popup_4ff255ffbadf42828f83499e9e511d89.setContent%28html_5fd2abc3d3c649fc99053297f642bc5c%29%3B%0A%20%20%20%20%20%20%20%20%0A%0A%20%20%20%20%20%20%20%20marker_28f5c56cb6ee4eadba69a0ce2ca8d442.bindPopup%28popup_4ff255ffbadf42828f83499e9e511d89%29%0A%20%20%20%20%20%20%20%20%3B%0A%0A%20%20%20%20%20%20%20%20%0A%20%20%20%20%0A%20%20%20%20%0A%20%20%20%20%20%20%20%20%20%20%20%20marker_28f5c56cb6ee4eadba69a0ce2ca8d442.bindTooltip%28%0A%20%20%20%20%20%20%20%20%20%20%20%20%20%20%20%20%60%3Cdiv%3E%0A%20%20%20%20%20%20%20%20%20%20%20%20%20%20%20%20%20%20%20%20%20%3Cstrong%3E90%20Rue%20Nicolas%20Ch%C3%A9deville%2034070%20Montpellier%3C/strong%3E%0A%20%20%20%20%20%20%20%20%20%20%20%20%20%20%20%20%20%3C/div%3E%60%2C%0A%20%20%20%20%20%20%20%20%20%20%20%20%20%20%20%20%7B%22sticky%22%3A%20true%7D%0A%20%20%20%20%20%20%20%20%20%20%20%20%29%3B%0A%20%20%20%20%20%20%20%20%0A%20%20%20%20%0A%20%20%20%20%20%20%20%20%20%20%20%20var%20marker_65d47ef51ca64dc28d52d941a01a2ec0%20%3D%20L.marker%28%0A%20%20%20%20%20%20%20%20%20%20%20%20%20%20%20%20%5B43.676807%2C%204.14021%5D%2C%0A%20%20%20%20%20%20%20%20%20%20%20%20%20%20%20%20%7B%7D%0A%20%20%20%20%20%20%20%20%20%20%20%20%29.addTo%28map_2d6b94ddbdfc4564ac60676369dd8f38%29%3B%0A%20%20%20%20%20%20%20%20%0A%20%20%20%20%0A%20%20%20%20%20%20%20%20%20%20%20%20var%20icon_efa98a4676f443d5869a0128d3dcfa9d%20%3D%20L.AwesomeMarkers.icon%28%0A%20%20%20%20%20%20%20%20%20%20%20%20%20%20%20%20%7B%22extraClasses%22%3A%20%22fa-rotate-0%22%2C%20%22icon%22%3A%20%22info-sign%22%2C%20%22iconColor%22%3A%20%22white%22%2C%20%22markerColor%22%3A%20%22red%22%2C%20%22prefix%22%3A%20%22glyphicon%22%7D%0A%20%20%20%20%20%20%20%20%20%20%20%20%29%3B%0A%20%20%20%20%20%20%20%20%20%20%20%20marker_65d47ef51ca64dc28d52d941a01a2ec0.setIcon%28icon_efa98a4676f443d5869a0128d3dcfa9d%29%3B%0A%20%20%20%20%20%20%20%20%0A%20%20%20%20%0A%20%20%20%20%20%20%20%20var%20popup_8a6bed0de189487495ed5aaa0029df86%20%3D%20L.popup%28%7B%22maxWidth%22%3A%20500%7D%29%3B%0A%0A%20%20%20%20%20%20%20%20%0A%20%20%20%20%20%20%20%20%20%20%20%20var%20html_34469b1d2b074f11b2f1dad6c5e10595%20%3D%20%24%28%60%3Cdiv%20id%3D%22html_34469b1d2b074f11b2f1dad6c5e10595%22%20style%3D%22width%3A%20100.0%25%3B%20height%3A%20100.0%25%3B%22%3E%3Ch4%3E%3Cb%3E%3Cp%20style%3D%22text-align%3Acenter%3B%22%3ELBM%20LABOSUD%20LUNEL%20VAUBAN%3C/p%3E%3C/b%3E%3C/h4%3E%3Cbr%3E%3Ch5%3E%3Cb%3EAdresse%20%3A%20%3C/b%3E%3C/h5%3E207%20Avenue%20du%20General%20de%20Gaulle%2034400%20Lunel%3Cbr%3E%3Ci%3ECentre%20de%20d%C3%A9pistage%20d%C3%A9di%C3%A9%3C/i%3E%3Cbr%3E%3Cstrong%3E%3Cb%3ETest%20RT-PCR%20%3A%20%3C/b%3E%3C/strong%3EOUI%3Cbr%3E%3Cstrong%3E%3Cb%3ETest%20antig%C3%A9nique%20%3A%20%3C/b%3E%3C/strong%3ENON%3Cbr%3E%3Cstrong%3E%3Cb%3EModalit%C3%A9s%20de%20pr%C3%A9l%C3%A8vement%20%3A%20%3C/b%3E%3C/strong%3EDrive%3Cbr%3E%3Cstrong%3E%3Cb%3EPublic%20%3A%20%3C/b%3E%3C/strong%3ECas%20contacts%20liste%20CPAM/Personnel%20soignant/Patients%20avec%20sympt%C3%B4mes%3Cbr%3E%3Cstrong%3E%3Cb%3EAcc%C3%A8s%20%3A%20%3C/b%3E%3C/strong%3ESur%20rendez-vous%20uniquement%3Cbr%3E%3Ch5%3E%3Cb%3EHoraire%20%3A%20%3C/b%3E%3C/h5%3E-%3Cbr%3E%3Cstrong%3E%3Cb%3EPersonnes%20prioritaires%20%3A%20%3C/b%3E%3C/strong%3E-%3Cbr%3E%3Cstrong%3E%3Cb%3ET%C3%A9l%C3%A9phone%20%3A%20%3C/b%3E%3C/strong%3E-%3Cbr%3E%3Cstrong%3E%3Cb%3ESite%20internet%20%3A%20%3C/b%3E%3C/strong%3Ehttps%3A//labosud.fr/rdvcovid19%3C/div%3E%60%29%5B0%5D%3B%0A%20%20%20%20%20%20%20%20%20%20%20%20popup_8a6bed0de189487495ed5aaa0029df86.setContent%28html_34469b1d2b074f11b2f1dad6c5e10595%29%3B%0A%20%20%20%20%20%20%20%20%0A%0A%20%20%20%20%20%20%20%20marker_65d47ef51ca64dc28d52d941a01a2ec0.bindPopup%28popup_8a6bed0de189487495ed5aaa0029df86%29%0A%20%20%20%20%20%20%20%20%3B%0A%0A%20%20%20%20%20%20%20%20%0A%20%20%20%20%0A%20%20%20%20%0A%20%20%20%20%20%20%20%20%20%20%20%20marker_65d47ef51ca64dc28d52d941a01a2ec0.bindTooltip%28%0A%20%20%20%20%20%20%20%20%20%20%20%20%20%20%20%20%60%3Cdiv%3E%0A%20%20%20%20%20%20%20%20%20%20%20%20%20%20%20%20%20%20%20%20%20%3Cstrong%3E207%20Avenue%20du%20General%20de%20Gaulle%2034400%20Lunel%3C/strong%3E%0A%20%20%20%20%20%20%20%20%20%20%20%20%20%20%20%20%20%3C/div%3E%60%2C%0A%20%20%20%20%20%20%20%20%20%20%20%20%20%20%20%20%7B%22sticky%22%3A%20true%7D%0A%20%20%20%20%20%20%20%20%20%20%20%20%29%3B%0A%20%20%20%20%20%20%20%20%0A%20%20%20%20%0A%20%20%20%20%20%20%20%20%20%20%20%20var%20marker_6f0e9fabbc1e4252b38812c4bcf8183a%20%3D%20L.marker%28%0A%20%20%20%20%20%20%20%20%20%20%20%20%20%20%20%20%5B43.335929%2C%203.264036%5D%2C%0A%20%20%20%20%20%20%20%20%20%20%20%20%20%20%20%20%7B%7D%0A%20%20%20%20%20%20%20%20%20%20%20%20%29.addTo%28map_2d6b94ddbdfc4564ac60676369dd8f38%29%3B%0A%20%20%20%20%20%20%20%20%0A%20%20%20%20%0A%20%20%20%20%20%20%20%20%20%20%20%20var%20icon_0d6626bfc95b4f1bb3f2f88c4a0689f3%20%3D%20L.AwesomeMarkers.icon%28%0A%20%20%20%20%20%20%20%20%20%20%20%20%20%20%20%20%7B%22extraClasses%22%3A%20%22fa-rotate-0%22%2C%20%22icon%22%3A%20%22info-sign%22%2C%20%22iconColor%22%3A%20%22white%22%2C%20%22markerColor%22%3A%20%22red%22%2C%20%22prefix%22%3A%20%22glyphicon%22%7D%0A%20%20%20%20%20%20%20%20%20%20%20%20%29%3B%0A%20%20%20%20%20%20%20%20%20%20%20%20marker_6f0e9fabbc1e4252b38812c4bcf8183a.setIcon%28icon_0d6626bfc95b4f1bb3f2f88c4a0689f3%29%3B%0A%20%20%20%20%20%20%20%20%0A%20%20%20%20%0A%20%20%20%20%20%20%20%20var%20popup_5f1caf65a04d499db2025f7d6e7dfcdb%20%3D%20L.popup%28%7B%22maxWidth%22%3A%20500%7D%29%3B%0A%0A%20%20%20%20%20%20%20%20%0A%20%20%20%20%20%20%20%20%20%20%20%20var%20html_99d4ecd382944208a19a236b906a509f%20%3D%20%24%28%60%3Cdiv%20id%3D%22html_99d4ecd382944208a19a236b906a509f%22%20style%3D%22width%3A%20100.0%25%3B%20height%3A%20100.0%25%3B%22%3E%3Ch4%3E%3Cb%3E%3Cp%20style%3D%22text-align%3Acenter%3B%22%3ELBM%20LABOSUD%20B%C3%89ZIERS%3C/p%3E%3C/b%3E%3C/h4%3E%3Cbr%3E%3Ch5%3E%3Cb%3EAdresse%20%3A%20%3C/b%3E%3C/h5%3EAvenue%20des%20Olympiades%2034500%20B%C3%A9ziers%3Cbr%3E%3Ci%3ECentre%20de%20d%C3%A9pistage%20d%C3%A9di%C3%A9%3C/i%3E%3Cbr%3E%3Cstrong%3E%3Cb%3ETest%20RT-PCR%20%3A%20%3C/b%3E%3C/strong%3EOUI%3Cbr%3E%3Cstrong%3E%3Cb%3ETest%20antig%C3%A9nique%20%3A%20%3C/b%3E%3C/strong%3ENON%3Cbr%3E%3Cstrong%3E%3Cb%3EModalit%C3%A9s%20de%20pr%C3%A9l%C3%A8vement%20%3A%20%3C/b%3E%3C/strong%3EDrive%3Cbr%3E%3Cstrong%3E%3Cb%3EPublic%20%3A%20%3C/b%3E%3C/strong%3ECas%20contacts%20liste%20CPAM/Personnel%20soignant/Patients%20avec%20sympt%C3%B4mes%3Cbr%3E%3Cstrong%3E%3Cb%3EAcc%C3%A8s%20%3A%20%3C/b%3E%3C/strong%3ESans%20rendez-vous%3Cbr%3E%3Ch5%3E%3Cb%3EHoraire%20%3A%20%3C/b%3E%3C/h5%3E-%3Cbr%3E%3Cstrong%3E%3Cb%3EPersonnes%20prioritaires%20%3A%20%3C/b%3E%3C/strong%3E-%3Cbr%3E%3Cstrong%3E%3Cb%3ET%C3%A9l%C3%A9phone%20%3A%20%3C/b%3E%3C/strong%3E-%3Cbr%3E%3Cstrong%3E%3Cb%3ESite%20internet%20%3A%20%3C/b%3E%3C/strong%3E-%3C/div%3E%60%29%5B0%5D%3B%0A%20%20%20%20%20%20%20%20%20%20%20%20popup_5f1caf65a04d499db2025f7d6e7dfcdb.setContent%28html_99d4ecd382944208a19a236b906a509f%29%3B%0A%20%20%20%20%20%20%20%20%0A%0A%20%20%20%20%20%20%20%20marker_6f0e9fabbc1e4252b38812c4bcf8183a.bindPopup%28popup_5f1caf65a04d499db2025f7d6e7dfcdb%29%0A%20%20%20%20%20%20%20%20%3B%0A%0A%20%20%20%20%20%20%20%20%0A%20%20%20%20%0A%20%20%20%20%0A%20%20%20%20%20%20%20%20%20%20%20%20marker_6f0e9fabbc1e4252b38812c4bcf8183a.bindTooltip%28%0A%20%20%20%20%20%20%20%20%20%20%20%20%20%20%20%20%60%3Cdiv%3E%0A%20%20%20%20%20%20%20%20%20%20%20%20%20%20%20%20%20%20%20%20%20%3Cstrong%3EAvenue%20des%20Olympiades%2034500%20B%C3%A9ziers%3C/strong%3E%0A%20%20%20%20%20%20%20%20%20%20%20%20%20%20%20%20%20%3C/div%3E%60%2C%0A%20%20%20%20%20%20%20%20%20%20%20%20%20%20%20%20%7B%22sticky%22%3A%20true%7D%0A%20%20%20%20%20%20%20%20%20%20%20%20%29%3B%0A%20%20%20%20%20%20%20%20%0A%20%20%20%20%0A%20%20%20%20%20%20%20%20%20%20%20%20var%20marker_84f757ccd0054a9fa9e2044a835fab81%20%3D%20L.marker%28%0A%20%20%20%20%20%20%20%20%20%20%20%20%20%20%20%20%5B44.135701%2C%204.101607%5D%2C%0A%20%20%20%20%20%20%20%20%20%20%20%20%20%20%20%20%7B%7D%0A%20%20%20%20%20%20%20%20%20%20%20%20%29.addTo%28map_2d6b94ddbdfc4564ac60676369dd8f38%29%3B%0A%20%20%20%20%20%20%20%20%0A%20%20%20%20%0A%20%20%20%20%20%20%20%20%20%20%20%20var%20icon_c815cd6d57fd47cdbaf6b418c39b50e1%20%3D%20L.AwesomeMarkers.icon%28%0A%20%20%20%20%20%20%20%20%20%20%20%20%20%20%20%20%7B%22extraClasses%22%3A%20%22fa-rotate-0%22%2C%20%22icon%22%3A%20%22info-sign%22%2C%20%22iconColor%22%3A%20%22white%22%2C%20%22markerColor%22%3A%20%22red%22%2C%20%22prefix%22%3A%20%22glyphicon%22%7D%0A%20%20%20%20%20%20%20%20%20%20%20%20%29%3B%0A%20%20%20%20%20%20%20%20%20%20%20%20marker_84f757ccd0054a9fa9e2044a835fab81.setIcon%28icon_c815cd6d57fd47cdbaf6b418c39b50e1%29%3B%0A%20%20%20%20%20%20%20%20%0A%20%20%20%20%0A%20%20%20%20%20%20%20%20var%20popup_a1f28a8b3fd14be993a62d2979501714%20%3D%20L.popup%28%7B%22maxWidth%22%3A%20500%7D%29%3B%0A%0A%20%20%20%20%20%20%20%20%0A%20%20%20%20%20%20%20%20%20%20%20%20var%20html_8de9abb349e5404ca4a7ebc1d7cfcea9%20%3D%20%24%28%60%3Cdiv%20id%3D%22html_8de9abb349e5404ca4a7ebc1d7cfcea9%22%20style%3D%22width%3A%20100.0%25%3B%20height%3A%20100.0%25%3B%22%3E%3Ch4%3E%3Cb%3E%3Cp%20style%3D%22text-align%3Acenter%3B%22%3ELBM%20LABOSUD%20AL%C3%88S%3C/p%3E%3C/b%3E%3C/h4%3E%3Cbr%3E%3Ch5%3E%3Cb%3EAdresse%20%3A%20%3C/b%3E%3C/h5%3E40%20Avenue%20Vincent%20d%27Indy%2030100%20Al%C3%A8s%3Cbr%3E%3Ci%3ECentre%20de%20d%C3%A9pistage%20d%C3%A9di%C3%A9%3C/i%3E%3Cbr%3E%3Cstrong%3E%3Cb%3ETest%20RT-PCR%20%3A%20%3C/b%3E%3C/strong%3EOUI%3Cbr%3E%3Cstrong%3E%3Cb%3ETest%20antig%C3%A9nique%20%3A%20%3C/b%3E%3C/strong%3ENON%3Cbr%3E%3Cstrong%3E%3Cb%3EModalit%C3%A9s%20de%20pr%C3%A9l%C3%A8vement%20%3A%20%3C/b%3E%3C/strong%3EDrive%3Cbr%3E%3Cstrong%3E%3Cb%3EPublic%20%3A%20%3C/b%3E%3C/strong%3ECas%20contacts%20liste%20CPAM/Personnel%20soignant/Patients%20pour%20des%20bilans%20pr%C3%A9-op%C3%A9ratoire/Patients%20avec%20sympt%C3%B4mes%3Cbr%3E%3Cstrong%3E%3Cb%3EAcc%C3%A8s%20%3A%20%3C/b%3E%3C/strong%3ESur%20rendez-vous%20uniquement%3Cbr%3E%3Ch5%3E%3Cb%3EHoraire%20%3A%20%3C/b%3E%3C/h5%3E-%3Cbr%3E%3Cstrong%3E%3Cb%3EPersonnes%20prioritaires%20%3A%20%3C/b%3E%3C/strong%3E-%3Cbr%3E%3Cstrong%3E%3Cb%3ET%C3%A9l%C3%A9phone%20%3A%20%3C/b%3E%3C/strong%3E-%3Cbr%3E%3Cstrong%3E%3Cb%3ESite%20internet%20%3A%20%3C/b%3E%3C/strong%3Ehttps%3A//labosud.fr/rdvcovid19%3C/div%3E%60%29%5B0%5D%3B%0A%20%20%20%20%20%20%20%20%20%20%20%20popup_a1f28a8b3fd14be993a62d2979501714.setContent%28html_8de9abb349e5404ca4a7ebc1d7cfcea9%29%3B%0A%20%20%20%20%20%20%20%20%0A%0A%20%20%20%20%20%20%20%20marker_84f757ccd0054a9fa9e2044a835fab81.bindPopup%28popup_a1f28a8b3fd14be993a62d2979501714%29%0A%20%20%20%20%20%20%20%20%3B%0A%0A%20%20%20%20%20%20%20%20%0A%20%20%20%20%0A%20%20%20%20%0A%20%20%20%20%20%20%20%20%20%20%20%20marker_84f757ccd0054a9fa9e2044a835fab81.bindTooltip%28%0A%20%20%20%20%20%20%20%20%20%20%20%20%20%20%20%20%60%3Cdiv%3E%0A%20%20%20%20%20%20%20%20%20%20%20%20%20%20%20%20%20%20%20%20%20%3Cstrong%3E40%20Avenue%20Vincent%20d%27Indy%2030100%20Al%C3%A8s%3C/strong%3E%0A%20%20%20%20%20%20%20%20%20%20%20%20%20%20%20%20%20%3C/div%3E%60%2C%0A%20%20%20%20%20%20%20%20%20%20%20%20%20%20%20%20%7B%22sticky%22%3A%20true%7D%0A%20%20%20%20%20%20%20%20%20%20%20%20%29%3B%0A%20%20%20%20%20%20%20%20%0A%20%20%20%20%0A%20%20%20%20%20%20%20%20%20%20%20%20var%20marker_13531294bc904f2190ab89b10184abcc%20%3D%20L.marker%28%0A%20%20%20%20%20%20%20%20%20%20%20%20%20%20%20%20%5B43.6750792716434%2C%204.62786986446558%5D%2C%0A%20%20%20%20%20%20%20%20%20%20%20%20%20%20%20%20%7B%7D%0A%20%20%20%20%20%20%20%20%20%20%20%20%29.addTo%28map_2d6b94ddbdfc4564ac60676369dd8f38%29%3B%0A%20%20%20%20%20%20%20%20%0A%20%20%20%20%0A%20%20%20%20%20%20%20%20%20%20%20%20var%20icon_d1b88a8023ed4ca79ffb1da24fe7a45d%20%3D%20L.AwesomeMarkers.icon%28%0A%20%20%20%20%20%20%20%20%20%20%20%20%20%20%20%20%7B%22extraClasses%22%3A%20%22fa-rotate-0%22%2C%20%22icon%22%3A%20%22info-sign%22%2C%20%22iconColor%22%3A%20%22white%22%2C%20%22markerColor%22%3A%20%22red%22%2C%20%22prefix%22%3A%20%22glyphicon%22%7D%0A%20%20%20%20%20%20%20%20%20%20%20%20%29%3B%0A%20%20%20%20%20%20%20%20%20%20%20%20marker_13531294bc904f2190ab89b10184abcc.setIcon%28icon_d1b88a8023ed4ca79ffb1da24fe7a45d%29%3B%0A%20%20%20%20%20%20%20%20%0A%20%20%20%20%0A%20%20%20%20%20%20%20%20var%20popup_195fab530fb549bea2263175db33ba77%20%3D%20L.popup%28%7B%22maxWidth%22%3A%20500%7D%29%3B%0A%0A%20%20%20%20%20%20%20%20%0A%20%20%20%20%20%20%20%20%20%20%20%20var%20html_2bc5bf74d2454fda91512dbd2099a917%20%3D%20%24%28%60%3Cdiv%20id%3D%22html_2bc5bf74d2454fda91512dbd2099a917%22%20style%3D%22width%3A%20100.0%25%3B%20height%3A%20100.0%25%3B%22%3E%3Ch4%3E%3Cb%3E%3Cp%20style%3D%22text-align%3Acenter%3B%22%3ELBM%20LABOSUD%20ARLES%20TRINQUETAILLE%3C/p%3E%3C/b%3E%3C/h4%3E%3Cbr%3E%3Ch5%3E%3Cb%3EAdresse%20%3A%20%3C/b%3E%3C/h5%3E28%20Avenue%20du%20Dr%20Morel%2013200%20Arles%3Cbr%3E%3Ci%3ECentre%20de%20d%C3%A9pistage%20d%C3%A9di%C3%A9%3C/i%3E%3Cbr%3E%3Cstrong%3E%3Cb%3ETest%20RT-PCR%20%3A%20%3C/b%3E%3C/strong%3EOUI%3Cbr%3E%3Cstrong%3E%3Cb%3ETest%20antig%C3%A9nique%20%3A%20%3C/b%3E%3C/strong%3ENON%3Cbr%3E%3Cstrong%3E%3Cb%3EModalit%C3%A9s%20de%20pr%C3%A9l%C3%A8vement%20%3A%20%3C/b%3E%3C/strong%3ESur%20place%3Cbr%3E%3Cstrong%3E%3Cb%3EPublic%20%3A%20%3C/b%3E%3C/strong%3ECas%20contacts%20liste%20CPAM/Patients%20avec%20sympt%C3%B4mes/Patients%20pour%20des%20bilans%20pr%C3%A9-op%C3%A9ratoire/Personnel%20soignant%3Cbr%3E%3Cstrong%3E%3Cb%3EAcc%C3%A8s%20%3A%20%3C/b%3E%3C/strong%3ESur%20rendez-vous%20uniquement%3Cbr%3E%3Ch5%3E%3Cb%3EHoraire%20%3A%20%3C/b%3E%3C/h5%3EAppeler%20le%20laboratoire%3Cbr%3E%3Cstrong%3E%3Cb%3EPersonnes%20prioritaires%20%3A%20%3C/b%3E%3C/strong%3E-%3Cbr%3E%3Cstrong%3E%3Cb%3ET%C3%A9l%C3%A9phone%20%3A%20%3C/b%3E%3C/strong%3E-%3Cbr%3E%3Cstrong%3E%3Cb%3ESite%20internet%20%3A%20%3C/b%3E%3C/strong%3Ehttps%3A//labosud.fr/rdvcovid19%3C/div%3E%60%29%5B0%5D%3B%0A%20%20%20%20%20%20%20%20%20%20%20%20popup_195fab530fb549bea2263175db33ba77.setContent%28html_2bc5bf74d2454fda91512dbd2099a917%29%3B%0A%20%20%20%20%20%20%20%20%0A%0A%20%20%20%20%20%20%20%20marker_13531294bc904f2190ab89b10184abcc.bindPopup%28popup_195fab530fb549bea2263175db33ba77%29%0A%20%20%20%20%20%20%20%20%3B%0A%0A%20%20%20%20%20%20%20%20%0A%20%20%20%20%0A%20%20%20%20%0A%20%20%20%20%20%20%20%20%20%20%20%20marker_13531294bc904f2190ab89b10184abcc.bindTooltip%28%0A%20%20%20%20%20%20%20%20%20%20%20%20%20%20%20%20%60%3Cdiv%3E%0A%20%20%20%20%20%20%20%20%20%20%20%20%20%20%20%20%20%20%20%20%20%3Cstrong%3E28%20Avenue%20du%20Dr%20Morel%2013200%20Arles%3C/strong%3E%0A%20%20%20%20%20%20%20%20%20%20%20%20%20%20%20%20%20%3C/div%3E%60%2C%0A%20%20%20%20%20%20%20%20%20%20%20%20%20%20%20%20%7B%22sticky%22%3A%20true%7D%0A%20%20%20%20%20%20%20%20%20%20%20%20%29%3B%0A%20%20%20%20%20%20%20%20%0A%20%20%20%20%0A%20%20%20%20%20%20%20%20%20%20%20%20var%20marker_f5d1dbed54a340288932432734d2a754%20%3D%20L.marker%28%0A%20%20%20%20%20%20%20%20%20%20%20%20%20%20%20%20%5B43.808746%2C%204.660619%5D%2C%0A%20%20%20%20%20%20%20%20%20%20%20%20%20%20%20%20%7B%7D%0A%20%20%20%20%20%20%20%20%20%20%20%20%29.addTo%28map_2d6b94ddbdfc4564ac60676369dd8f38%29%3B%0A%20%20%20%20%20%20%20%20%0A%20%20%20%20%0A%20%20%20%20%20%20%20%20%20%20%20%20var%20icon_29c04ebc348341f891282ab131bc569c%20%3D%20L.AwesomeMarkers.icon%28%0A%20%20%20%20%20%20%20%20%20%20%20%20%20%20%20%20%7B%22extraClasses%22%3A%20%22fa-rotate-0%22%2C%20%22icon%22%3A%20%22info-sign%22%2C%20%22iconColor%22%3A%20%22white%22%2C%20%22markerColor%22%3A%20%22red%22%2C%20%22prefix%22%3A%20%22glyphicon%22%7D%0A%20%20%20%20%20%20%20%20%20%20%20%20%29%3B%0A%20%20%20%20%20%20%20%20%20%20%20%20marker_f5d1dbed54a340288932432734d2a754.setIcon%28icon_29c04ebc348341f891282ab131bc569c%29%3B%0A%20%20%20%20%20%20%20%20%0A%20%20%20%20%0A%20%20%20%20%20%20%20%20var%20popup_c59e3681c91f4d3a81af2f7657805da6%20%3D%20L.popup%28%7B%22maxWidth%22%3A%20500%7D%29%3B%0A%0A%20%20%20%20%20%20%20%20%0A%20%20%20%20%20%20%20%20%20%20%20%20var%20html_d8986f0ef8f94b9c87c040ca44fa66dc%20%3D%20%24%28%60%3Cdiv%20id%3D%22html_d8986f0ef8f94b9c87c040ca44fa66dc%22%20style%3D%22width%3A%20100.0%25%3B%20height%3A%20100.0%25%3B%22%3E%3Ch4%3E%3Cb%3E%3Cp%20style%3D%22text-align%3Acenter%3B%22%3ELBM%20LABOSUD%20TARASCON%3C/p%3E%3C/b%3E%3C/h4%3E%3Cbr%3E%3Ch5%3E%3Cb%3EAdresse%20%3A%20%3C/b%3E%3C/h5%3EBoulevard%20Alphonse%20Daudet%2013150%20Tarascon%3Cbr%3E%3Ci%3ECentre%20de%20d%C3%A9pistage%20d%C3%A9di%C3%A9%3C/i%3E%3Cbr%3E%3Cstrong%3E%3Cb%3ETest%20RT-PCR%20%3A%20%3C/b%3E%3C/strong%3EOUI%3Cbr%3E%3Cstrong%3E%3Cb%3ETest%20antig%C3%A9nique%20%3A%20%3C/b%3E%3C/strong%3ENON%3Cbr%3E%3Cstrong%3E%3Cb%3EModalit%C3%A9s%20de%20pr%C3%A9l%C3%A8vement%20%3A%20%3C/b%3E%3C/strong%3ESur%20place%3Cbr%3E%3Cstrong%3E%3Cb%3EPublic%20%3A%20%3C/b%3E%3C/strong%3ECas%20contacts%20liste%20CPAM/Personnel%20soignant/Patients%20avec%20sympt%C3%B4mes%3Cbr%3E%3Cstrong%3E%3Cb%3EAcc%C3%A8s%20%3A%20%3C/b%3E%3C/strong%3ESur%20rendez-vous%20uniquement%3Cbr%3E%3Ch5%3E%3Cb%3EHoraire%20%3A%20%3C/b%3E%3C/h5%3EAppeler%20le%20laboratoire%3Cbr%3E%3Cstrong%3E%3Cb%3EPersonnes%20prioritaires%20%3A%20%3C/b%3E%3C/strong%3E-%3Cbr%3E%3Cstrong%3E%3Cb%3ET%C3%A9l%C3%A9phone%20%3A%20%3C/b%3E%3C/strong%3E-%3Cbr%3E%3Cstrong%3E%3Cb%3ESite%20internet%20%3A%20%3C/b%3E%3C/strong%3Ehttps%3A//labosud.fr/rdvcovid19%3C/div%3E%60%29%5B0%5D%3B%0A%20%20%20%20%20%20%20%20%20%20%20%20popup_c59e3681c91f4d3a81af2f7657805da6.setContent%28html_d8986f0ef8f94b9c87c040ca44fa66dc%29%3B%0A%20%20%20%20%20%20%20%20%0A%0A%20%20%20%20%20%20%20%20marker_f5d1dbed54a340288932432734d2a754.bindPopup%28popup_c59e3681c91f4d3a81af2f7657805da6%29%0A%20%20%20%20%20%20%20%20%3B%0A%0A%20%20%20%20%20%20%20%20%0A%20%20%20%20%0A%20%20%20%20%0A%20%20%20%20%20%20%20%20%20%20%20%20marker_f5d1dbed54a340288932432734d2a754.bindTooltip%28%0A%20%20%20%20%20%20%20%20%20%20%20%20%20%20%20%20%60%3Cdiv%3E%0A%20%20%20%20%20%20%20%20%20%20%20%20%20%20%20%20%20%20%20%20%20%3Cstrong%3EBoulevard%20Alphonse%20Daudet%2013150%20Tarascon%3C/strong%3E%0A%20%20%20%20%20%20%20%20%20%20%20%20%20%20%20%20%20%3C/div%3E%60%2C%0A%20%20%20%20%20%20%20%20%20%20%20%20%20%20%20%20%7B%22sticky%22%3A%20true%7D%0A%20%20%20%20%20%20%20%20%20%20%20%20%29%3B%0A%20%20%20%20%20%20%20%20%0A%20%20%20%20%0A%20%20%20%20%20%20%20%20%20%20%20%20var%20marker_9774f9b0e31d42859b4414d4b01c15a0%20%3D%20L.marker%28%0A%20%20%20%20%20%20%20%20%20%20%20%20%20%20%20%20%5B43.814742%2C%204.35398%5D%2C%0A%20%20%20%20%20%20%20%20%20%20%20%20%20%20%20%20%7B%7D%0A%20%20%20%20%20%20%20%20%20%20%20%20%29.addTo%28map_2d6b94ddbdfc4564ac60676369dd8f38%29%3B%0A%20%20%20%20%20%20%20%20%0A%20%20%20%20%0A%20%20%20%20%20%20%20%20%20%20%20%20var%20icon_46d927dd28c247f3adc34e70cdc7fe9a%20%3D%20L.AwesomeMarkers.icon%28%0A%20%20%20%20%20%20%20%20%20%20%20%20%20%20%20%20%7B%22extraClasses%22%3A%20%22fa-rotate-0%22%2C%20%22icon%22%3A%20%22info-sign%22%2C%20%22iconColor%22%3A%20%22white%22%2C%20%22markerColor%22%3A%20%22red%22%2C%20%22prefix%22%3A%20%22glyphicon%22%7D%0A%20%20%20%20%20%20%20%20%20%20%20%20%29%3B%0A%20%20%20%20%20%20%20%20%20%20%20%20marker_9774f9b0e31d42859b4414d4b01c15a0.setIcon%28icon_46d927dd28c247f3adc34e70cdc7fe9a%29%3B%0A%20%20%20%20%20%20%20%20%0A%20%20%20%20%0A%20%20%20%20%20%20%20%20var%20popup_7aa44b7289794257aaf594a7369fb23d%20%3D%20L.popup%28%7B%22maxWidth%22%3A%20500%7D%29%3B%0A%0A%20%20%20%20%20%20%20%20%0A%20%20%20%20%20%20%20%20%20%20%20%20var%20html_84d9760f8d47416faf5d019a3bcd40b1%20%3D%20%24%28%60%3Cdiv%20id%3D%22html_84d9760f8d47416faf5d019a3bcd40b1%22%20style%3D%22width%3A%20100.0%25%3B%20height%3A%20100.0%25%3B%22%3E%3Ch4%3E%3Cb%3E%3Cp%20style%3D%22text-align%3Acenter%3B%22%3ELBM%20LABOSUD%20NIMES%20CARRE%20MEDICAL%3C/p%3E%3C/b%3E%3C/h4%3E%3Cbr%3E%3Ch5%3E%3Cb%3EAdresse%20%3A%20%3C/b%3E%3C/h5%3EParking%20du%20Parnasse%2030900%20NIMES%3Cbr%3E%3Ci%3ECentre%20de%20d%C3%A9pistage%20d%C3%A9di%C3%A9%3C/i%3E%3Cbr%3E%3Cstrong%3E%3Cb%3ETest%20RT-PCR%20%3A%20%3C/b%3E%3C/strong%3EOUI%3Cbr%3E%3Cstrong%3E%3Cb%3ETest%20antig%C3%A9nique%20%3A%20%3C/b%3E%3C/strong%3ENON%3Cbr%3E%3Cstrong%3E%3Cb%3EModalit%C3%A9s%20de%20pr%C3%A9l%C3%A8vement%20%3A%20%3C/b%3E%3C/strong%3EDrive%3Cbr%3E%3Cstrong%3E%3Cb%3EPublic%20%3A%20%3C/b%3E%3C/strong%3ECas%20contacts%20liste%20CPAM/Patients%20avec%20sympt%C3%B4mes/Patients%20pour%20des%20bilans%20pr%C3%A9-op%C3%A9ratoire/Personnel%20soignant%3Cbr%3E%3Cstrong%3E%3Cb%3EAcc%C3%A8s%20%3A%20%3C/b%3E%3C/strong%3ESans%20rendez-vous%3Cbr%3E%3Ch5%3E%3Cb%3EHoraire%20%3A%20%3C/b%3E%3C/h5%3EAppeler%20le%20laboratoire%3Cbr%3E%3Cstrong%3E%3Cb%3EPersonnes%20prioritaires%20%3A%20%3C/b%3E%3C/strong%3E-%3Cbr%3E%3Cstrong%3E%3Cb%3ET%C3%A9l%C3%A9phone%20%3A%20%3C/b%3E%3C/strong%3E-%3Cbr%3E%3Cstrong%3E%3Cb%3ESite%20internet%20%3A%20%3C/b%3E%3C/strong%3E-%3C/div%3E%60%29%5B0%5D%3B%0A%20%20%20%20%20%20%20%20%20%20%20%20popup_7aa44b7289794257aaf594a7369fb23d.setContent%28html_84d9760f8d47416faf5d019a3bcd40b1%29%3B%0A%20%20%20%20%20%20%20%20%0A%0A%20%20%20%20%20%20%20%20marker_9774f9b0e31d42859b4414d4b01c15a0.bindPopup%28popup_7aa44b7289794257aaf594a7369fb23d%29%0A%20%20%20%20%20%20%20%20%3B%0A%0A%20%20%20%20%20%20%20%20%0A%20%20%20%20%0A%20%20%20%20%0A%20%20%20%20%20%20%20%20%20%20%20%20marker_9774f9b0e31d42859b4414d4b01c15a0.bindTooltip%28%0A%20%20%20%20%20%20%20%20%20%20%20%20%20%20%20%20%60%3Cdiv%3E%0A%20%20%20%20%20%20%20%20%20%20%20%20%20%20%20%20%20%20%20%20%20%3Cstrong%3EParking%20du%20Parnasse%2030900%20NIMES%3C/strong%3E%0A%20%20%20%20%20%20%20%20%20%20%20%20%20%20%20%20%20%3C/div%3E%60%2C%0A%20%20%20%20%20%20%20%20%20%20%20%20%20%20%20%20%7B%22sticky%22%3A%20true%7D%0A%20%20%20%20%20%20%20%20%20%20%20%20%29%3B%0A%20%20%20%20%20%20%20%20%0A%20%20%20%20%0A%20%20%20%20%20%20%20%20%20%20%20%20var%20marker_db27bbd1268148b380eb937d14f4f97a%20%3D%20L.marker%28%0A%20%20%20%20%20%20%20%20%20%20%20%20%20%20%20%20%5B43.781739%2C%204.0788%5D%2C%0A%20%20%20%20%20%20%20%20%20%20%20%20%20%20%20%20%7B%7D%0A%20%20%20%20%20%20%20%20%20%20%20%20%29.addTo%28map_2d6b94ddbdfc4564ac60676369dd8f38%29%3B%0A%20%20%20%20%20%20%20%20%0A%20%20%20%20%0A%20%20%20%20%20%20%20%20%20%20%20%20var%20icon_c390cf4aa82b490b8bd4067bf883f75b%20%3D%20L.AwesomeMarkers.icon%28%0A%20%20%20%20%20%20%20%20%20%20%20%20%20%20%20%20%7B%22extraClasses%22%3A%20%22fa-rotate-0%22%2C%20%22icon%22%3A%20%22info-sign%22%2C%20%22iconColor%22%3A%20%22white%22%2C%20%22markerColor%22%3A%20%22red%22%2C%20%22prefix%22%3A%20%22glyphicon%22%7D%0A%20%20%20%20%20%20%20%20%20%20%20%20%29%3B%0A%20%20%20%20%20%20%20%20%20%20%20%20marker_db27bbd1268148b380eb937d14f4f97a.setIcon%28icon_c390cf4aa82b490b8bd4067bf883f75b%29%3B%0A%20%20%20%20%20%20%20%20%0A%20%20%20%20%0A%20%20%20%20%20%20%20%20var%20popup_191ae6eea54d4dd9ac2b278cd8f111be%20%3D%20L.popup%28%7B%22maxWidth%22%3A%20500%7D%29%3B%0A%0A%20%20%20%20%20%20%20%20%0A%20%20%20%20%20%20%20%20%20%20%20%20var%20html_2900c514db404ba087cb4b3177461284%20%3D%20%24%28%60%3Cdiv%20id%3D%22html_2900c514db404ba087cb4b3177461284%22%20style%3D%22width%3A%20100.0%25%3B%20height%3A%20100.0%25%3B%22%3E%3Ch4%3E%3Cb%3E%3Cp%20style%3D%22text-align%3Acenter%3B%22%3ELBM%20LABOSUD%20SOMMIERES%3C/p%3E%3C/b%3E%3C/h4%3E%3Cbr%3E%3Ch5%3E%3Cb%3EAdresse%20%3A%20%3C/b%3E%3C/h5%3E218%20Chemin%20de%20Campagne%2030250%20Sommi%C3%A8res%3Cbr%3E%3Ci%3ECentre%20de%20d%C3%A9pistage%20d%C3%A9di%C3%A9%3C/i%3E%3Cbr%3E%3Cstrong%3E%3Cb%3ETest%20RT-PCR%20%3A%20%3C/b%3E%3C/strong%3EOUI%3Cbr%3E%3Cstrong%3E%3Cb%3ETest%20antig%C3%A9nique%20%3A%20%3C/b%3E%3C/strong%3ENON%3Cbr%3E%3Cstrong%3E%3Cb%3EModalit%C3%A9s%20de%20pr%C3%A9l%C3%A8vement%20%3A%20%3C/b%3E%3C/strong%3EDrive%3Cbr%3E%3Cstrong%3E%3Cb%3EPublic%20%3A%20%3C/b%3E%3C/strong%3ECas%20contacts%20liste%20CPAM/Personnel%20soignant/Patients%20avec%20sympt%C3%B4mes%3Cbr%3E%3Cstrong%3E%3Cb%3EAcc%C3%A8s%20%3A%20%3C/b%3E%3C/strong%3ESur%20rendez-vous%20uniquement%3Cbr%3E%3Ch5%3E%3Cb%3EHoraire%20%3A%20%3C/b%3E%3C/h5%3EAppeler%20le%20Laboratoire%3Cbr%3E%3Cstrong%3E%3Cb%3EPersonnes%20prioritaires%20%3A%20%3C/b%3E%3C/strong%3E-%3Cbr%3E%3Cstrong%3E%3Cb%3ET%C3%A9l%C3%A9phone%20%3A%20%3C/b%3E%3C/strong%3E04%2066%2080%2000%2056%3Cbr%3E%3Cstrong%3E%3Cb%3ESite%20internet%20%3A%20%3C/b%3E%3C/strong%3E-%3C/div%3E%60%29%5B0%5D%3B%0A%20%20%20%20%20%20%20%20%20%20%20%20popup_191ae6eea54d4dd9ac2b278cd8f111be.setContent%28html_2900c514db404ba087cb4b3177461284%29%3B%0A%20%20%20%20%20%20%20%20%0A%0A%20%20%20%20%20%20%20%20marker_db27bbd1268148b380eb937d14f4f97a.bindPopup%28popup_191ae6eea54d4dd9ac2b278cd8f111be%29%0A%20%20%20%20%20%20%20%20%3B%0A%0A%20%20%20%20%20%20%20%20%0A%20%20%20%20%0A%20%20%20%20%0A%20%20%20%20%20%20%20%20%20%20%20%20marker_db27bbd1268148b380eb937d14f4f97a.bindTooltip%28%0A%20%20%20%20%20%20%20%20%20%20%20%20%20%20%20%20%60%3Cdiv%3E%0A%20%20%20%20%20%20%20%20%20%20%20%20%20%20%20%20%20%20%20%20%20%3Cstrong%3E218%20Chemin%20de%20Campagne%2030250%20Sommi%C3%A8res%3C/strong%3E%0A%20%20%20%20%20%20%20%20%20%20%20%20%20%20%20%20%20%3C/div%3E%60%2C%0A%20%20%20%20%20%20%20%20%20%20%20%20%20%20%20%20%7B%22sticky%22%3A%20true%7D%0A%20%20%20%20%20%20%20%20%20%20%20%20%29%3B%0A%20%20%20%20%20%20%20%20%0A%20%20%20%20%0A%20%20%20%20%20%20%20%20%20%20%20%20var%20marker_2efdd62613ec4564a56e36bc0dc3708f%20%3D%20L.marker%28%0A%20%20%20%20%20%20%20%20%20%20%20%20%20%20%20%20%5B44.121382%2C%204.087544%5D%2C%0A%20%20%20%20%20%20%20%20%20%20%20%20%20%20%20%20%7B%7D%0A%20%20%20%20%20%20%20%20%20%20%20%20%29.addTo%28map_2d6b94ddbdfc4564ac60676369dd8f38%29%3B%0A%20%20%20%20%20%20%20%20%0A%20%20%20%20%0A%20%20%20%20%20%20%20%20%20%20%20%20var%20icon_0baab9a7087c42df8a92ef850ed1a649%20%3D%20L.AwesomeMarkers.icon%28%0A%20%20%20%20%20%20%20%20%20%20%20%20%20%20%20%20%7B%22extraClasses%22%3A%20%22fa-rotate-0%22%2C%20%22icon%22%3A%20%22info-sign%22%2C%20%22iconColor%22%3A%20%22white%22%2C%20%22markerColor%22%3A%20%22red%22%2C%20%22prefix%22%3A%20%22glyphicon%22%7D%0A%20%20%20%20%20%20%20%20%20%20%20%20%29%3B%0A%20%20%20%20%20%20%20%20%20%20%20%20marker_2efdd62613ec4564a56e36bc0dc3708f.setIcon%28icon_0baab9a7087c42df8a92ef850ed1a649%29%3B%0A%20%20%20%20%20%20%20%20%0A%20%20%20%20%0A%20%20%20%20%20%20%20%20var%20popup_f7e9ade36513484598f8748f5504496e%20%3D%20L.popup%28%7B%22maxWidth%22%3A%20500%7D%29%3B%0A%0A%20%20%20%20%20%20%20%20%0A%20%20%20%20%20%20%20%20%20%20%20%20var%20html_2ed06eaa3f0f46f4ab4656b699347349%20%3D%20%24%28%60%3Cdiv%20id%3D%22html_2ed06eaa3f0f46f4ab4656b699347349%22%20style%3D%22width%3A%20100.0%25%3B%20height%3A%20100.0%25%3B%22%3E%3Ch4%3E%3Cb%3E%3Cp%20style%3D%22text-align%3Acenter%3B%22%3ELBM%20LABOSUD%20ALES%20CARNOT%3C/p%3E%3C/b%3E%3C/h4%3E%3Cbr%3E%3Ch5%3E%3Cb%3EAdresse%20%3A%20%3C/b%3E%3C/h5%3E45%20Avenue%20Carnot%2030100%20Al%C3%A8s%3Cbr%3E%3Ci%3ELaboratoire%3C/i%3E%3Cbr%3E%3Cstrong%3E%3Cb%3ETest%20RT-PCR%20%3A%20%3C/b%3E%3C/strong%3EOUI%3Cbr%3E%3Cstrong%3E%3Cb%3ETest%20antig%C3%A9nique%20%3A%20%3C/b%3E%3C/strong%3ENON%3Cbr%3E%3Cstrong%3E%3Cb%3EModalit%C3%A9s%20de%20pr%C3%A9l%C3%A8vement%20%3A%20%3C/b%3E%3C/strong%3ESur%20place%3Cbr%3E%3Cstrong%3E%3Cb%3EPublic%20%3A%20%3C/b%3E%3C/strong%3EPatients%20pour%20des%20bilans%20pr%C3%A9-op%C3%A9ratoire%3Cbr%3E%3Cstrong%3E%3Cb%3EAcc%C3%A8s%20%3A%20%3C/b%3E%3C/strong%3ESans%20rendez-vous%3Cbr%3E%3Ch5%3E%3Cb%3EHoraire%20%3A%20%3C/b%3E%3C/h5%3EAppeler%20le%20laboratoire%3Cbr%3E%3Cstrong%3E%3Cb%3EPersonnes%20prioritaires%20%3A%20%3C/b%3E%3C/strong%3E-%3Cbr%3E%3Cstrong%3E%3Cb%3ET%C3%A9l%C3%A9phone%20%3A%20%3C/b%3E%3C/strong%3E-%3Cbr%3E%3Cstrong%3E%3Cb%3ESite%20internet%20%3A%20%3C/b%3E%3C/strong%3E-%3C/div%3E%60%29%5B0%5D%3B%0A%20%20%20%20%20%20%20%20%20%20%20%20popup_f7e9ade36513484598f8748f5504496e.setContent%28html_2ed06eaa3f0f46f4ab4656b699347349%29%3B%0A%20%20%20%20%20%20%20%20%0A%0A%20%20%20%20%20%20%20%20marker_2efdd62613ec4564a56e36bc0dc3708f.bindPopup%28popup_f7e9ade36513484598f8748f5504496e%29%0A%20%20%20%20%20%20%20%20%3B%0A%0A%20%20%20%20%20%20%20%20%0A%20%20%20%20%0A%20%20%20%20%0A%20%20%20%20%20%20%20%20%20%20%20%20marker_2efdd62613ec4564a56e36bc0dc3708f.bindTooltip%28%0A%20%20%20%20%20%20%20%20%20%20%20%20%20%20%20%20%60%3Cdiv%3E%0A%20%20%20%20%20%20%20%20%20%20%20%20%20%20%20%20%20%20%20%20%20%3Cstrong%3E45%20Avenue%20Carnot%2030100%20Al%C3%A8s%3C/strong%3E%0A%20%20%20%20%20%20%20%20%20%20%20%20%20%20%20%20%20%3C/div%3E%60%2C%0A%20%20%20%20%20%20%20%20%20%20%20%20%20%20%20%20%7B%22sticky%22%3A%20true%7D%0A%20%20%20%20%20%20%20%20%20%20%20%20%29%3B%0A%20%20%20%20%20%20%20%20%0A%20%20%20%20%0A%20%20%20%20%20%20%20%20%20%20%20%20var%20marker_e7eabbb490d6438bb4ca64c250a21b68%20%3D%20L.marker%28%0A%20%20%20%20%20%20%20%20%20%20%20%20%20%20%20%20%5B44.259945%2C%204.199587%5D%2C%0A%20%20%20%20%20%20%20%20%20%20%20%20%20%20%20%20%7B%7D%0A%20%20%20%20%20%20%20%20%20%20%20%20%29.addTo%28map_2d6b94ddbdfc4564ac60676369dd8f38%29%3B%0A%20%20%20%20%20%20%20%20%0A%20%20%20%20%0A%20%20%20%20%20%20%20%20%20%20%20%20var%20icon_3a4d7ac90eae41f59de3c8f602315ae4%20%3D%20L.AwesomeMarkers.icon%28%0A%20%20%20%20%20%20%20%20%20%20%20%20%20%20%20%20%7B%22extraClasses%22%3A%20%22fa-rotate-0%22%2C%20%22icon%22%3A%20%22info-sign%22%2C%20%22iconColor%22%3A%20%22white%22%2C%20%22markerColor%22%3A%20%22red%22%2C%20%22prefix%22%3A%20%22glyphicon%22%7D%0A%20%20%20%20%20%20%20%20%20%20%20%20%29%3B%0A%20%20%20%20%20%20%20%20%20%20%20%20marker_e7eabbb490d6438bb4ca64c250a21b68.setIcon%28icon_3a4d7ac90eae41f59de3c8f602315ae4%29%3B%0A%20%20%20%20%20%20%20%20%0A%20%20%20%20%0A%20%20%20%20%20%20%20%20var%20popup_3eb0d39704744adb8f8c34313fcd4db0%20%3D%20L.popup%28%7B%22maxWidth%22%3A%20500%7D%29%3B%0A%0A%20%20%20%20%20%20%20%20%0A%20%20%20%20%20%20%20%20%20%20%20%20var%20html_36fc9d79cf9c42f5bec3ef12945b596d%20%3D%20%24%28%60%3Cdiv%20id%3D%22html_36fc9d79cf9c42f5bec3ef12945b596d%22%20style%3D%22width%3A%20100.0%25%3B%20height%3A%20100.0%25%3B%22%3E%3Ch4%3E%3Cb%3E%3Cp%20style%3D%22text-align%3Acenter%3B%22%3ELBM%20LABOSUD%20SAINT-AMBROIX%3C/p%3E%3C/b%3E%3C/h4%3E%3Cbr%3E%3Ch5%3E%3Cb%3EAdresse%20%3A%20%3C/b%3E%3C/h5%3E22%20Rue%20de%20la%20R%C3%A9publique%2030500%20Saint-Ambroix%3Cbr%3E%3Ci%3ELaboratoire%3C/i%3E%3Cbr%3E%3Cstrong%3E%3Cb%3ETest%20RT-PCR%20%3A%20%3C/b%3E%3C/strong%3EOUI%3Cbr%3E%3Cstrong%3E%3Cb%3ETest%20antig%C3%A9nique%20%3A%20%3C/b%3E%3C/strong%3ENON%3Cbr%3E%3Cstrong%3E%3Cb%3EModalit%C3%A9s%20de%20pr%C3%A9l%C3%A8vement%20%3A%20%3C/b%3E%3C/strong%3ESur%20place%3Cbr%3E%3Cstrong%3E%3Cb%3EPublic%20%3A%20%3C/b%3E%3C/strong%3EPatients%20pour%20des%20bilans%20pr%C3%A9-op%C3%A9ratoire%3Cbr%3E%3Cstrong%3E%3Cb%3EAcc%C3%A8s%20%3A%20%3C/b%3E%3C/strong%3ESans%20rendez-vous%3Cbr%3E%3Ch5%3E%3Cb%3EHoraire%20%3A%20%3C/b%3E%3C/h5%3EAppeler%20le%20laboratoire%3Cbr%3E%3Cstrong%3E%3Cb%3EPersonnes%20prioritaires%20%3A%20%3C/b%3E%3C/strong%3E-%3Cbr%3E%3Cstrong%3E%3Cb%3ET%C3%A9l%C3%A9phone%20%3A%20%3C/b%3E%3C/strong%3E-%3Cbr%3E%3Cstrong%3E%3Cb%3ESite%20internet%20%3A%20%3C/b%3E%3C/strong%3E-%3C/div%3E%60%29%5B0%5D%3B%0A%20%20%20%20%20%20%20%20%20%20%20%20popup_3eb0d39704744adb8f8c34313fcd4db0.setContent%28html_36fc9d79cf9c42f5bec3ef12945b596d%29%3B%0A%20%20%20%20%20%20%20%20%0A%0A%20%20%20%20%20%20%20%20marker_e7eabbb490d6438bb4ca64c250a21b68.bindPopup%28popup_3eb0d39704744adb8f8c34313fcd4db0%29%0A%20%20%20%20%20%20%20%20%3B%0A%0A%20%20%20%20%20%20%20%20%0A%20%20%20%20%0A%20%20%20%20%0A%20%20%20%20%20%20%20%20%20%20%20%20marker_e7eabbb490d6438bb4ca64c250a21b68.bindTooltip%28%0A%20%20%20%20%20%20%20%20%20%20%20%20%20%20%20%20%60%3Cdiv%3E%0A%20%20%20%20%20%20%20%20%20%20%20%20%20%20%20%20%20%20%20%20%20%3Cstrong%3E22%20Rue%20de%20la%20R%C3%A9publique%2030500%20Saint-Ambroix%3C/strong%3E%0A%20%20%20%20%20%20%20%20%20%20%20%20%20%20%20%20%20%3C/div%3E%60%2C%0A%20%20%20%20%20%20%20%20%20%20%20%20%20%20%20%20%7B%22sticky%22%3A%20true%7D%0A%20%20%20%20%20%20%20%20%20%20%20%20%29%3B%0A%20%20%20%20%20%20%20%20%0A%20%20%20%20%0A%20%20%20%20%20%20%20%20%20%20%20%20var%20marker_182bbef0a7dd4abba9849f71941693dd%20%3D%20L.marker%28%0A%20%20%20%20%20%20%20%20%20%20%20%20%20%20%20%20%5B44.12643%2C%204.079213%5D%2C%0A%20%20%20%20%20%20%20%20%20%20%20%20%20%20%20%20%7B%7D%0A%20%20%20%20%20%20%20%20%20%20%20%20%29.addTo%28map_2d6b94ddbdfc4564ac60676369dd8f38%29%3B%0A%20%20%20%20%20%20%20%20%0A%20%20%20%20%0A%20%20%20%20%20%20%20%20%20%20%20%20var%20icon_e0aefd017b41495c9fef5304a5c563ad%20%3D%20L.AwesomeMarkers.icon%28%0A%20%20%20%20%20%20%20%20%20%20%20%20%20%20%20%20%7B%22extraClasses%22%3A%20%22fa-rotate-0%22%2C%20%22icon%22%3A%20%22info-sign%22%2C%20%22iconColor%22%3A%20%22white%22%2C%20%22markerColor%22%3A%20%22red%22%2C%20%22prefix%22%3A%20%22glyphicon%22%7D%0A%20%20%20%20%20%20%20%20%20%20%20%20%29%3B%0A%20%20%20%20%20%20%20%20%20%20%20%20marker_182bbef0a7dd4abba9849f71941693dd.setIcon%28icon_e0aefd017b41495c9fef5304a5c563ad%29%3B%0A%20%20%20%20%20%20%20%20%0A%20%20%20%20%0A%20%20%20%20%20%20%20%20var%20popup_ae590695147f47f68b59c15671f552cb%20%3D%20L.popup%28%7B%22maxWidth%22%3A%20500%7D%29%3B%0A%0A%20%20%20%20%20%20%20%20%0A%20%20%20%20%20%20%20%20%20%20%20%20var%20html_d61cce1131764f7389ed4b5259f7ed61%20%3D%20%24%28%60%3Cdiv%20id%3D%22html_d61cce1131764f7389ed4b5259f7ed61%22%20style%3D%22width%3A%20100.0%25%3B%20height%3A%20100.0%25%3B%22%3E%3Ch4%3E%3Cb%3E%3Cp%20style%3D%22text-align%3Acenter%3B%22%3ELBM%20LABOSUD%20ALES%20MARTYRS%3C/p%3E%3C/b%3E%3C/h4%3E%3Cbr%3E%3Ch5%3E%3Cb%3EAdresse%20%3A%20%3C/b%3E%3C/h5%3E12%20Place%20des%20Martyrs%20de%20la%20Resistance%2030100%20Al%C3%A8s%3Cbr%3E%3Ci%3ELaboratoire%3C/i%3E%3Cbr%3E%3Cstrong%3E%3Cb%3ETest%20RT-PCR%20%3A%20%3C/b%3E%3C/strong%3EOUI%3Cbr%3E%3Cstrong%3E%3Cb%3ETest%20antig%C3%A9nique%20%3A%20%3C/b%3E%3C/strong%3ENON%3Cbr%3E%3Cstrong%3E%3Cb%3EModalit%C3%A9s%20de%20pr%C3%A9l%C3%A8vement%20%3A%20%3C/b%3E%3C/strong%3ESur%20place%3Cbr%3E%3Cstrong%3E%3Cb%3EPublic%20%3A%20%3C/b%3E%3C/strong%3EPatients%20pour%20des%20bilans%20pr%C3%A9-op%C3%A9ratoire%3Cbr%3E%3Cstrong%3E%3Cb%3EAcc%C3%A8s%20%3A%20%3C/b%3E%3C/strong%3ESans%20rendez-vous%3Cbr%3E%3Ch5%3E%3Cb%3EHoraire%20%3A%20%3C/b%3E%3C/h5%3EAppeler%20le%20laboratoire%3Cbr%3E%3Cstrong%3E%3Cb%3EPersonnes%20prioritaires%20%3A%20%3C/b%3E%3C/strong%3E-%3Cbr%3E%3Cstrong%3E%3Cb%3ET%C3%A9l%C3%A9phone%20%3A%20%3C/b%3E%3C/strong%3E-%3Cbr%3E%3Cstrong%3E%3Cb%3ESite%20internet%20%3A%20%3C/b%3E%3C/strong%3E-%3C/div%3E%60%29%5B0%5D%3B%0A%20%20%20%20%20%20%20%20%20%20%20%20popup_ae590695147f47f68b59c15671f552cb.setContent%28html_d61cce1131764f7389ed4b5259f7ed61%29%3B%0A%20%20%20%20%20%20%20%20%0A%0A%20%20%20%20%20%20%20%20marker_182bbef0a7dd4abba9849f71941693dd.bindPopup%28popup_ae590695147f47f68b59c15671f552cb%29%0A%20%20%20%20%20%20%20%20%3B%0A%0A%20%20%20%20%20%20%20%20%0A%20%20%20%20%0A%20%20%20%20%0A%20%20%20%20%20%20%20%20%20%20%20%20marker_182bbef0a7dd4abba9849f71941693dd.bindTooltip%28%0A%20%20%20%20%20%20%20%20%20%20%20%20%20%20%20%20%60%3Cdiv%3E%0A%20%20%20%20%20%20%20%20%20%20%20%20%20%20%20%20%20%20%20%20%20%3Cstrong%3E12%20Place%20des%20Martyrs%20de%20la%20Resistance%2030100%20Al%C3%A8s%3C/strong%3E%0A%20%20%20%20%20%20%20%20%20%20%20%20%20%20%20%20%20%3C/div%3E%60%2C%0A%20%20%20%20%20%20%20%20%20%20%20%20%20%20%20%20%7B%22sticky%22%3A%20true%7D%0A%20%20%20%20%20%20%20%20%20%20%20%20%29%3B%0A%20%20%20%20%20%20%20%20%0A%20%20%20%20%0A%20%20%20%20%20%20%20%20%20%20%20%20var%20marker_97e7285916c84687b842018394afa668%20%3D%20L.marker%28%0A%20%20%20%20%20%20%20%20%20%20%20%20%20%20%20%20%5B44.210502%2C%204.031665%5D%2C%0A%20%20%20%20%20%20%20%20%20%20%20%20%20%20%20%20%7B%7D%0A%20%20%20%20%20%20%20%20%20%20%20%20%29.addTo%28map_2d6b94ddbdfc4564ac60676369dd8f38%29%3B%0A%20%20%20%20%20%20%20%20%0A%20%20%20%20%0A%20%20%20%20%20%20%20%20%20%20%20%20var%20icon_250efae1027a4cb387b36465caa585d4%20%3D%20L.AwesomeMarkers.icon%28%0A%20%20%20%20%20%20%20%20%20%20%20%20%20%20%20%20%7B%22extraClasses%22%3A%20%22fa-rotate-0%22%2C%20%22icon%22%3A%20%22info-sign%22%2C%20%22iconColor%22%3A%20%22white%22%2C%20%22markerColor%22%3A%20%22red%22%2C%20%22prefix%22%3A%20%22glyphicon%22%7D%0A%20%20%20%20%20%20%20%20%20%20%20%20%29%3B%0A%20%20%20%20%20%20%20%20%20%20%20%20marker_97e7285916c84687b842018394afa668.setIcon%28icon_250efae1027a4cb387b36465caa585d4%29%3B%0A%20%20%20%20%20%20%20%20%0A%20%20%20%20%0A%20%20%20%20%20%20%20%20var%20popup_e63d81c1aac24e33b30aaa4cca84bf45%20%3D%20L.popup%28%7B%22maxWidth%22%3A%20500%7D%29%3B%0A%0A%20%20%20%20%20%20%20%20%0A%20%20%20%20%20%20%20%20%20%20%20%20var%20html_96bd04bce7994eb2bc92e148ffbe3753%20%3D%20%24%28%60%3Cdiv%20id%3D%22html_96bd04bce7994eb2bc92e148ffbe3753%22%20style%3D%22width%3A%20100.0%25%3B%20height%3A%20100.0%25%3B%22%3E%3Ch4%3E%3Cb%3E%3Cp%20style%3D%22text-align%3Acenter%3B%22%3ELBM%20LABOSUD%20LA%20GRAND%20COMBE%3C/p%3E%3C/b%3E%3C/h4%3E%3Cbr%3E%3Ch5%3E%3Cb%3EAdresse%20%3A%20%3C/b%3E%3C/h5%3E12%20Rue%20de%20la%20Cl%C3%A8de%2030110%20La%20Grand-Combe%3Cbr%3E%3Ci%3ELaboratoire%3C/i%3E%3Cbr%3E%3Cstrong%3E%3Cb%3ETest%20RT-PCR%20%3A%20%3C/b%3E%3C/strong%3EOUI%3Cbr%3E%3Cstrong%3E%3Cb%3ETest%20antig%C3%A9nique%20%3A%20%3C/b%3E%3C/strong%3ENON%3Cbr%3E%3Cstrong%3E%3Cb%3EModalit%C3%A9s%20de%20pr%C3%A9l%C3%A8vement%20%3A%20%3C/b%3E%3C/strong%3ESur%20place%3Cbr%3E%3Cstrong%3E%3Cb%3EPublic%20%3A%20%3C/b%3E%3C/strong%3EPatients%20pour%20des%20bilans%20pr%C3%A9-op%C3%A9ratoire%3Cbr%3E%3Cstrong%3E%3Cb%3EAcc%C3%A8s%20%3A%20%3C/b%3E%3C/strong%3ESans%20rendez-vous%3Cbr%3E%3Ch5%3E%3Cb%3EHoraire%20%3A%20%3C/b%3E%3C/h5%3EAppeler%20le%20laboratoire%3Cbr%3E%3Cstrong%3E%3Cb%3EPersonnes%20prioritaires%20%3A%20%3C/b%3E%3C/strong%3E-%3Cbr%3E%3Cstrong%3E%3Cb%3ET%C3%A9l%C3%A9phone%20%3A%20%3C/b%3E%3C/strong%3E-%3Cbr%3E%3Cstrong%3E%3Cb%3ESite%20internet%20%3A%20%3C/b%3E%3C/strong%3E-%3C/div%3E%60%29%5B0%5D%3B%0A%20%20%20%20%20%20%20%20%20%20%20%20popup_e63d81c1aac24e33b30aaa4cca84bf45.setContent%28html_96bd04bce7994eb2bc92e148ffbe3753%29%3B%0A%20%20%20%20%20%20%20%20%0A%0A%20%20%20%20%20%20%20%20marker_97e7285916c84687b842018394afa668.bindPopup%28popup_e63d81c1aac24e33b30aaa4cca84bf45%29%0A%20%20%20%20%20%20%20%20%3B%0A%0A%20%20%20%20%20%20%20%20%0A%20%20%20%20%0A%20%20%20%20%0A%20%20%20%20%20%20%20%20%20%20%20%20marker_97e7285916c84687b842018394afa668.bindTooltip%28%0A%20%20%20%20%20%20%20%20%20%20%20%20%20%20%20%20%60%3Cdiv%3E%0A%20%20%20%20%20%20%20%20%20%20%20%20%20%20%20%20%20%20%20%20%20%3Cstrong%3E12%20Rue%20de%20la%20Cl%C3%A8de%2030110%20La%20Grand-Combe%3C/strong%3E%0A%20%20%20%20%20%20%20%20%20%20%20%20%20%20%20%20%20%3C/div%3E%60%2C%0A%20%20%20%20%20%20%20%20%20%20%20%20%20%20%20%20%7B%22sticky%22%3A%20true%7D%0A%20%20%20%20%20%20%20%20%20%20%20%20%29%3B%0A%20%20%20%20%20%20%20%20%0A%20%20%20%20%0A%20%20%20%20%20%20%20%20%20%20%20%20var%20marker_38b612b0e02a4bb58d162e595a5692f5%20%3D%20L.marker%28%0A%20%20%20%20%20%20%20%20%20%20%20%20%20%20%20%20%5B44.0819299168966%2C%204.07755900016788%5D%2C%0A%20%20%20%20%20%20%20%20%20%20%20%20%20%20%20%20%7B%7D%0A%20%20%20%20%20%20%20%20%20%20%20%20%29.addTo%28map_2d6b94ddbdfc4564ac60676369dd8f38%29%3B%0A%20%20%20%20%20%20%20%20%0A%20%20%20%20%0A%20%20%20%20%20%20%20%20%20%20%20%20var%20icon_a4a493127a9345c8bff3df141a2a89c7%20%3D%20L.AwesomeMarkers.icon%28%0A%20%20%20%20%20%20%20%20%20%20%20%20%20%20%20%20%7B%22extraClasses%22%3A%20%22fa-rotate-0%22%2C%20%22icon%22%3A%20%22info-sign%22%2C%20%22iconColor%22%3A%20%22white%22%2C%20%22markerColor%22%3A%20%22red%22%2C%20%22prefix%22%3A%20%22glyphicon%22%7D%0A%20%20%20%20%20%20%20%20%20%20%20%20%29%3B%0A%20%20%20%20%20%20%20%20%20%20%20%20marker_38b612b0e02a4bb58d162e595a5692f5.setIcon%28icon_a4a493127a9345c8bff3df141a2a89c7%29%3B%0A%20%20%20%20%20%20%20%20%0A%20%20%20%20%0A%20%20%20%20%20%20%20%20var%20popup_2b3682419f8a4925b793aa346b4297bc%20%3D%20L.popup%28%7B%22maxWidth%22%3A%20500%7D%29%3B%0A%0A%20%20%20%20%20%20%20%20%0A%20%20%20%20%20%20%20%20%20%20%20%20var%20html_5dfda317827643738234bb684cb83f9a%20%3D%20%24%28%60%3Cdiv%20id%3D%22html_5dfda317827643738234bb684cb83f9a%22%20style%3D%22width%3A%20100.0%25%3B%20height%3A%20100.0%25%3B%22%3E%3Ch4%3E%3Cb%3E%3Cp%20style%3D%22text-align%3Acenter%3B%22%3ELBM%20LABOSUD%20SAINT-CHRISTOL-LES-ALES%3C/p%3E%3C/b%3E%3C/h4%3E%3Cbr%3E%3Ch5%3E%3Cb%3EAdresse%20%3A%20%3C/b%3E%3C/h5%3E218%20Avenue%20Jean%20Moulin%2030380%20Saint%20Christol%20les%20Al%C3%A8s%3Cbr%3E%3Ci%3ELaboratoire%3C/i%3E%3Cbr%3E%3Cstrong%3E%3Cb%3ETest%20RT-PCR%20%3A%20%3C/b%3E%3C/strong%3EOUI%3Cbr%3E%3Cstrong%3E%3Cb%3ETest%20antig%C3%A9nique%20%3A%20%3C/b%3E%3C/strong%3ENON%3Cbr%3E%3Cstrong%3E%3Cb%3EModalit%C3%A9s%20de%20pr%C3%A9l%C3%A8vement%20%3A%20%3C/b%3E%3C/strong%3ESur%20place%3Cbr%3E%3Cstrong%3E%3Cb%3EPublic%20%3A%20%3C/b%3E%3C/strong%3EPatients%20pour%20des%20bilans%20pr%C3%A9-op%C3%A9ratoire%3Cbr%3E%3Cstrong%3E%3Cb%3EAcc%C3%A8s%20%3A%20%3C/b%3E%3C/strong%3ESans%20rendez-vous%3Cbr%3E%3Ch5%3E%3Cb%3EHoraire%20%3A%20%3C/b%3E%3C/h5%3EAppeler%20le%20laboratoire%3Cbr%3E%3Cstrong%3E%3Cb%3EPersonnes%20prioritaires%20%3A%20%3C/b%3E%3C/strong%3E-%3Cbr%3E%3Cstrong%3E%3Cb%3ET%C3%A9l%C3%A9phone%20%3A%20%3C/b%3E%3C/strong%3E-%3Cbr%3E%3Cstrong%3E%3Cb%3ESite%20internet%20%3A%20%3C/b%3E%3C/strong%3E-%3C/div%3E%60%29%5B0%5D%3B%0A%20%20%20%20%20%20%20%20%20%20%20%20popup_2b3682419f8a4925b793aa346b4297bc.setContent%28html_5dfda317827643738234bb684cb83f9a%29%3B%0A%20%20%20%20%20%20%20%20%0A%0A%20%20%20%20%20%20%20%20marker_38b612b0e02a4bb58d162e595a5692f5.bindPopup%28popup_2b3682419f8a4925b793aa346b4297bc%29%0A%20%20%20%20%20%20%20%20%3B%0A%0A%20%20%20%20%20%20%20%20%0A%20%20%20%20%0A%20%20%20%20%0A%20%20%20%20%20%20%20%20%20%20%20%20marker_38b612b0e02a4bb58d162e595a5692f5.bindTooltip%28%0A%20%20%20%20%20%20%20%20%20%20%20%20%20%20%20%20%60%3Cdiv%3E%0A%20%20%20%20%20%20%20%20%20%20%20%20%20%20%20%20%20%20%20%20%20%3Cstrong%3E218%20Avenue%20Jean%20Moulin%2030380%20Saint%20Christol%20les%20Al%C3%A8s%3C/strong%3E%0A%20%20%20%20%20%20%20%20%20%20%20%20%20%20%20%20%20%3C/div%3E%60%2C%0A%20%20%20%20%20%20%20%20%20%20%20%20%20%20%20%20%7B%22sticky%22%3A%20true%7D%0A%20%20%20%20%20%20%20%20%20%20%20%20%29%3B%0A%20%20%20%20%20%20%20%20%0A%20%20%20%20%0A%20%20%20%20%20%20%20%20%20%20%20%20var%20marker_8e020fc754b2492fa6f248be515ddc29%20%3D%20L.marker%28%0A%20%20%20%20%20%20%20%20%20%20%20%20%20%20%20%20%5B44.0544579067974%2C%203.98453729701864%5D%2C%0A%20%20%20%20%20%20%20%20%20%20%20%20%20%20%20%20%7B%7D%0A%20%20%20%20%20%20%20%20%20%20%20%20%29.addTo%28map_2d6b94ddbdfc4564ac60676369dd8f38%29%3B%0A%20%20%20%20%20%20%20%20%0A%20%20%20%20%0A%20%20%20%20%20%20%20%20%20%20%20%20var%20icon_c4e4af1f0fb5453b9e2cc1687a9d54dd%20%3D%20L.AwesomeMarkers.icon%28%0A%20%20%20%20%20%20%20%20%20%20%20%20%20%20%20%20%7B%22extraClasses%22%3A%20%22fa-rotate-0%22%2C%20%22icon%22%3A%20%22info-sign%22%2C%20%22iconColor%22%3A%20%22white%22%2C%20%22markerColor%22%3A%20%22red%22%2C%20%22prefix%22%3A%20%22glyphicon%22%7D%0A%20%20%20%20%20%20%20%20%20%20%20%20%29%3B%0A%20%20%20%20%20%20%20%20%20%20%20%20marker_8e020fc754b2492fa6f248be515ddc29.setIcon%28icon_c4e4af1f0fb5453b9e2cc1687a9d54dd%29%3B%0A%20%20%20%20%20%20%20%20%0A%20%20%20%20%0A%20%20%20%20%20%20%20%20var%20popup_9626b7fbe7be4448994b8db903cb653d%20%3D%20L.popup%28%7B%22maxWidth%22%3A%20500%7D%29%3B%0A%0A%20%20%20%20%20%20%20%20%0A%20%20%20%20%20%20%20%20%20%20%20%20var%20html_f54f6b5873a146bbacfb1609eb6fe1c3%20%3D%20%24%28%60%3Cdiv%20id%3D%22html_f54f6b5873a146bbacfb1609eb6fe1c3%22%20style%3D%22width%3A%20100.0%25%3B%20height%3A%20100.0%25%3B%22%3E%3Ch4%3E%3Cb%3E%3Cp%20style%3D%22text-align%3Acenter%3B%22%3ELBM%20LABOSUD%20ANDUZE%3C/p%3E%3C/b%3E%3C/h4%3E%3Cbr%3E%3Ch5%3E%3Cb%3EAdresse%20%3A%20%3C/b%3E%3C/h5%3E6%20Boulevard%20Jean%20Jaur%C3%A8s%2030140%20Anduze%3Cbr%3E%3Ci%3ELaboratoire%3C/i%3E%3Cbr%3E%3Cstrong%3E%3Cb%3ETest%20RT-PCR%20%3A%20%3C/b%3E%3C/strong%3EOUI%3Cbr%3E%3Cstrong%3E%3Cb%3ETest%20antig%C3%A9nique%20%3A%20%3C/b%3E%3C/strong%3ENON%3Cbr%3E%3Cstrong%3E%3Cb%3EModalit%C3%A9s%20de%20pr%C3%A9l%C3%A8vement%20%3A%20%3C/b%3E%3C/strong%3ESur%20place%3Cbr%3E%3Cstrong%3E%3Cb%3EPublic%20%3A%20%3C/b%3E%3C/strong%3EPatients%20pour%20des%20bilans%20pr%C3%A9-op%C3%A9ratoire%3Cbr%3E%3Cstrong%3E%3Cb%3EAcc%C3%A8s%20%3A%20%3C/b%3E%3C/strong%3ESans%20rendez-vous%3Cbr%3E%3Ch5%3E%3Cb%3EHoraire%20%3A%20%3C/b%3E%3C/h5%3EAppeler%20le%20laboratoire%3Cbr%3E%3Cstrong%3E%3Cb%3EPersonnes%20prioritaires%20%3A%20%3C/b%3E%3C/strong%3E-%3Cbr%3E%3Cstrong%3E%3Cb%3ET%C3%A9l%C3%A9phone%20%3A%20%3C/b%3E%3C/strong%3E-%3Cbr%3E%3Cstrong%3E%3Cb%3ESite%20internet%20%3A%20%3C/b%3E%3C/strong%3E-%3C/div%3E%60%29%5B0%5D%3B%0A%20%20%20%20%20%20%20%20%20%20%20%20popup_9626b7fbe7be4448994b8db903cb653d.setContent%28html_f54f6b5873a146bbacfb1609eb6fe1c3%29%3B%0A%20%20%20%20%20%20%20%20%0A%0A%20%20%20%20%20%20%20%20marker_8e020fc754b2492fa6f248be515ddc29.bindPopup%28popup_9626b7fbe7be4448994b8db903cb653d%29%0A%20%20%20%20%20%20%20%20%3B%0A%0A%20%20%20%20%20%20%20%20%0A%20%20%20%20%0A%20%20%20%20%0A%20%20%20%20%20%20%20%20%20%20%20%20marker_8e020fc754b2492fa6f248be515ddc29.bindTooltip%28%0A%20%20%20%20%20%20%20%20%20%20%20%20%20%20%20%20%60%3Cdiv%3E%0A%20%20%20%20%20%20%20%20%20%20%20%20%20%20%20%20%20%20%20%20%20%3Cstrong%3E6%20Boulevard%20Jean%20Jaur%C3%A8s%2030140%20Anduze%3C/strong%3E%0A%20%20%20%20%20%20%20%20%20%20%20%20%20%20%20%20%20%3C/div%3E%60%2C%0A%20%20%20%20%20%20%20%20%20%20%20%20%20%20%20%20%7B%22sticky%22%3A%20true%7D%0A%20%20%20%20%20%20%20%20%20%20%20%20%29%3B%0A%20%20%20%20%20%20%20%20%0A%20%20%20%20%0A%20%20%20%20%20%20%20%20%20%20%20%20var%20marker_b170e35352c54f88b5b3b8a3cbbf8e8d%20%3D%20L.marker%28%0A%20%20%20%20%20%20%20%20%20%20%20%20%20%20%20%20%5B43.603631%2C%203.913143%5D%2C%0A%20%20%20%20%20%20%20%20%20%20%20%20%20%20%20%20%7B%7D%0A%20%20%20%20%20%20%20%20%20%20%20%20%29.addTo%28map_2d6b94ddbdfc4564ac60676369dd8f38%29%3B%0A%20%20%20%20%20%20%20%20%0A%20%20%20%20%0A%20%20%20%20%20%20%20%20%20%20%20%20var%20icon_bfa1918313c140aa8d0ad6486476b343%20%3D%20L.AwesomeMarkers.icon%28%0A%20%20%20%20%20%20%20%20%20%20%20%20%20%20%20%20%7B%22extraClasses%22%3A%20%22fa-rotate-0%22%2C%20%22icon%22%3A%20%22info-sign%22%2C%20%22iconColor%22%3A%20%22white%22%2C%20%22markerColor%22%3A%20%22red%22%2C%20%22prefix%22%3A%20%22glyphicon%22%7D%0A%20%20%20%20%20%20%20%20%20%20%20%20%29%3B%0A%20%20%20%20%20%20%20%20%20%20%20%20marker_b170e35352c54f88b5b3b8a3cbbf8e8d.setIcon%28icon_bfa1918313c140aa8d0ad6486476b343%29%3B%0A%20%20%20%20%20%20%20%20%0A%20%20%20%20%0A%20%20%20%20%20%20%20%20var%20popup_9b3158fd32cc496aa694ccaeed437200%20%3D%20L.popup%28%7B%22maxWidth%22%3A%20500%7D%29%3B%0A%0A%20%20%20%20%20%20%20%20%0A%20%20%20%20%20%20%20%20%20%20%20%20var%20html_f2920fdadd314d689697ef896b36fc5d%20%3D%20%24%28%60%3Cdiv%20id%3D%22html_f2920fdadd314d689697ef896b36fc5d%22%20style%3D%22width%3A%20100.0%25%3B%20height%3A%20100.0%25%3B%22%3E%3Ch4%3E%3Cb%3E%3Cp%20style%3D%22text-align%3Acenter%3B%22%3ELBM%20LABOSUD%20MONTPELLIER%20CLINIQUE%20DU%20MILLENAIRE%3C/p%3E%3C/b%3E%3C/h4%3E%3Cbr%3E%3Ch5%3E%3Cb%3EAdresse%20%3A%20%3C/b%3E%3C/h5%3EBoulevard%20P%C3%A9n%C3%A9lope%2034000%20Montpellier%3Cbr%3E%3Ci%3ELaboratoire%3C/i%3E%3Cbr%3E%3Cstrong%3E%3Cb%3ETest%20RT-PCR%20%3A%20%3C/b%3E%3C/strong%3EOUI%3Cbr%3E%3Cstrong%3E%3Cb%3ETest%20antig%C3%A9nique%20%3A%20%3C/b%3E%3C/strong%3ENON%3Cbr%3E%3Cstrong%3E%3Cb%3EModalit%C3%A9s%20de%20pr%C3%A9l%C3%A8vement%20%3A%20%3C/b%3E%3C/strong%3ESur%20place%3Cbr%3E%3Cstrong%3E%3Cb%3EPublic%20%3A%20%3C/b%3E%3C/strong%3EPatients%20pour%20des%20bilans%20pr%C3%A9-op%C3%A9ratoire%3Cbr%3E%3Cstrong%3E%3Cb%3EAcc%C3%A8s%20%3A%20%3C/b%3E%3C/strong%3ESur%20rendez-vous%20uniquement%3Cbr%3E%3Ch5%3E%3Cb%3EHoraire%20%3A%20%3C/b%3E%3C/h5%3EAppeler%20le%20laboratoire%3Cbr%3E%3Cstrong%3E%3Cb%3EPersonnes%20prioritaires%20%3A%20%3C/b%3E%3C/strong%3E-%3Cbr%3E%3Cstrong%3E%3Cb%3ET%C3%A9l%C3%A9phone%20%3A%20%3C/b%3E%3C/strong%3E04%2099%2053%2063%2063%3Cbr%3E%3Cstrong%3E%3Cb%3ESite%20internet%20%3A%20%3C/b%3E%3C/strong%3E-%3C/div%3E%60%29%5B0%5D%3B%0A%20%20%20%20%20%20%20%20%20%20%20%20popup_9b3158fd32cc496aa694ccaeed437200.setContent%28html_f2920fdadd314d689697ef896b36fc5d%29%3B%0A%20%20%20%20%20%20%20%20%0A%0A%20%20%20%20%20%20%20%20marker_b170e35352c54f88b5b3b8a3cbbf8e8d.bindPopup%28popup_9b3158fd32cc496aa694ccaeed437200%29%0A%20%20%20%20%20%20%20%20%3B%0A%0A%20%20%20%20%20%20%20%20%0A%20%20%20%20%0A%20%20%20%20%0A%20%20%20%20%20%20%20%20%20%20%20%20marker_b170e35352c54f88b5b3b8a3cbbf8e8d.bindTooltip%28%0A%20%20%20%20%20%20%20%20%20%20%20%20%20%20%20%20%60%3Cdiv%3E%0A%20%20%20%20%20%20%20%20%20%20%20%20%20%20%20%20%20%20%20%20%20%3Cstrong%3EBoulevard%20P%C3%A9n%C3%A9lope%2034000%20Montpellier%3C/strong%3E%0A%20%20%20%20%20%20%20%20%20%20%20%20%20%20%20%20%20%3C/div%3E%60%2C%0A%20%20%20%20%20%20%20%20%20%20%20%20%20%20%20%20%7B%22sticky%22%3A%20true%7D%0A%20%20%20%20%20%20%20%20%20%20%20%20%29%3B%0A%20%20%20%20%20%20%20%20%0A%20%20%20%20%0A%20%20%20%20%20%20%20%20%20%20%20%20var%20marker_ef130559fb0b43b98c0abcd06ad788f5%20%3D%20L.marker%28%0A%20%20%20%20%20%20%20%20%20%20%20%20%20%20%20%20%5B43.61534%2C%203.840069%5D%2C%0A%20%20%20%20%20%20%20%20%20%20%20%20%20%20%20%20%7B%7D%0A%20%20%20%20%20%20%20%20%20%20%20%20%29.addTo%28map_2d6b94ddbdfc4564ac60676369dd8f38%29%3B%0A%20%20%20%20%20%20%20%20%0A%20%20%20%20%0A%20%20%20%20%20%20%20%20%20%20%20%20var%20icon_5f09c144227746e999bbcce7ccd7dd60%20%3D%20L.AwesomeMarkers.icon%28%0A%20%20%20%20%20%20%20%20%20%20%20%20%20%20%20%20%7B%22extraClasses%22%3A%20%22fa-rotate-0%22%2C%20%22icon%22%3A%20%22info-sign%22%2C%20%22iconColor%22%3A%20%22white%22%2C%20%22markerColor%22%3A%20%22red%22%2C%20%22prefix%22%3A%20%22glyphicon%22%7D%0A%20%20%20%20%20%20%20%20%20%20%20%20%29%3B%0A%20%20%20%20%20%20%20%20%20%20%20%20marker_ef130559fb0b43b98c0abcd06ad788f5.setIcon%28icon_5f09c144227746e999bbcce7ccd7dd60%29%3B%0A%20%20%20%20%20%20%20%20%0A%20%20%20%20%0A%20%20%20%20%20%20%20%20var%20popup_8d6cfb081a34400bbbc48885ffd8d23e%20%3D%20L.popup%28%7B%22maxWidth%22%3A%20500%7D%29%3B%0A%0A%20%20%20%20%20%20%20%20%0A%20%20%20%20%20%20%20%20%20%20%20%20var%20html_452556808ee44517a367f105a1335193%20%3D%20%24%28%60%3Cdiv%20id%3D%22html_452556808ee44517a367f105a1335193%22%20style%3D%22width%3A%20100.0%25%3B%20height%3A%20100.0%25%3B%22%3E%3Ch4%3E%3Cb%3E%3Cp%20style%3D%22text-align%3Acenter%3B%22%3ELBM%20LABOSUD%20MONTPELLIER%20ALCO%3C/p%3E%3C/b%3E%3C/h4%3E%3Cbr%3E%3Ch5%3E%3Cb%3EAdresse%20%3A%20%3C/b%3E%3C/h5%3E141%20Avenue%20Paul%20Bringuier%2034080%20Montpellier%3Cbr%3E%3Ci%3ELaboratoire%3C/i%3E%3Cbr%3E%3Cstrong%3E%3Cb%3ETest%20RT-PCR%20%3A%20%3C/b%3E%3C/strong%3EOUI%3Cbr%3E%3Cstrong%3E%3Cb%3ETest%20antig%C3%A9nique%20%3A%20%3C/b%3E%3C/strong%3ENON%3Cbr%3E%3Cstrong%3E%3Cb%3EModalit%C3%A9s%20de%20pr%C3%A9l%C3%A8vement%20%3A%20%3C/b%3E%3C/strong%3ESur%20place%3Cbr%3E%3Cstrong%3E%3Cb%3EPublic%20%3A%20%3C/b%3E%3C/strong%3EPatients%20pour%20des%20bilans%20pr%C3%A9-op%C3%A9ratoire%3Cbr%3E%3Cstrong%3E%3Cb%3EAcc%C3%A8s%20%3A%20%3C/b%3E%3C/strong%3ESur%20rendez-vous%20uniquement%3Cbr%3E%3Ch5%3E%3Cb%3EHoraire%20%3A%20%3C/b%3E%3C/h5%3EAppeler%20le%20laboratoire%3Cbr%3E%3Cstrong%3E%3Cb%3EPersonnes%20prioritaires%20%3A%20%3C/b%3E%3C/strong%3E-%3Cbr%3E%3Cstrong%3E%3Cb%3ET%C3%A9l%C3%A9phone%20%3A%20%3C/b%3E%3C/strong%3E04%2067%2045%2045%2018%3Cbr%3E%3Cstrong%3E%3Cb%3ESite%20internet%20%3A%20%3C/b%3E%3C/strong%3E-%3C/div%3E%60%29%5B0%5D%3B%0A%20%20%20%20%20%20%20%20%20%20%20%20popup_8d6cfb081a34400bbbc48885ffd8d23e.setContent%28html_452556808ee44517a367f105a1335193%29%3B%0A%20%20%20%20%20%20%20%20%0A%0A%20%20%20%20%20%20%20%20marker_ef130559fb0b43b98c0abcd06ad788f5.bindPopup%28popup_8d6cfb081a34400bbbc48885ffd8d23e%29%0A%20%20%20%20%20%20%20%20%3B%0A%0A%20%20%20%20%20%20%20%20%0A%20%20%20%20%0A%20%20%20%20%0A%20%20%20%20%20%20%20%20%20%20%20%20marker_ef130559fb0b43b98c0abcd06ad788f5.bindTooltip%28%0A%20%20%20%20%20%20%20%20%20%20%20%20%20%20%20%20%60%3Cdiv%3E%0A%20%20%20%20%20%20%20%20%20%20%20%20%20%20%20%20%20%20%20%20%20%3Cstrong%3E141%20Avenue%20Paul%20Bringuier%2034080%20Montpellier%3C/strong%3E%0A%20%20%20%20%20%20%20%20%20%20%20%20%20%20%20%20%20%3C/div%3E%60%2C%0A%20%20%20%20%20%20%20%20%20%20%20%20%20%20%20%20%7B%22sticky%22%3A%20true%7D%0A%20%20%20%20%20%20%20%20%20%20%20%20%29%3B%0A%20%20%20%20%20%20%20%20%0A%20%20%20%20%0A%20%20%20%20%20%20%20%20%20%20%20%20var%20marker_d240e5213ace4966ac694042865158b0%20%3D%20L.marker%28%0A%20%20%20%20%20%20%20%20%20%20%20%20%20%20%20%20%5B43.613119%2C%203.852201%5D%2C%0A%20%20%20%20%20%20%20%20%20%20%20%20%20%20%20%20%7B%7D%0A%20%20%20%20%20%20%20%20%20%20%20%20%29.addTo%28map_2d6b94ddbdfc4564ac60676369dd8f38%29%3B%0A%20%20%20%20%20%20%20%20%0A%20%20%20%20%0A%20%20%20%20%20%20%20%20%20%20%20%20var%20icon_36516c6a6ea349a5804db03ed857dae3%20%3D%20L.AwesomeMarkers.icon%28%0A%20%20%20%20%20%20%20%20%20%20%20%20%20%20%20%20%7B%22extraClasses%22%3A%20%22fa-rotate-0%22%2C%20%22icon%22%3A%20%22info-sign%22%2C%20%22iconColor%22%3A%20%22white%22%2C%20%22markerColor%22%3A%20%22red%22%2C%20%22prefix%22%3A%20%22glyphicon%22%7D%0A%20%20%20%20%20%20%20%20%20%20%20%20%29%3B%0A%20%20%20%20%20%20%20%20%20%20%20%20marker_d240e5213ace4966ac694042865158b0.setIcon%28icon_36516c6a6ea349a5804db03ed857dae3%29%3B%0A%20%20%20%20%20%20%20%20%0A%20%20%20%20%0A%20%20%20%20%20%20%20%20var%20popup_309aa48ad3264fa3a7184a4f3355f5af%20%3D%20L.popup%28%7B%22maxWidth%22%3A%20500%7D%29%3B%0A%0A%20%20%20%20%20%20%20%20%0A%20%20%20%20%20%20%20%20%20%20%20%20var%20html_b21ed49c25cd4419a5a9507f21379d02%20%3D%20%24%28%60%3Cdiv%20id%3D%22html_b21ed49c25cd4419a5a9507f21379d02%22%20style%3D%22width%3A%20100.0%25%3B%20height%3A%20100.0%25%3B%22%3E%3Ch4%3E%3Cb%3E%3Cp%20style%3D%22text-align%3Acenter%3B%22%3ELBM%20LABOSUD%20MONTPELLIER%20CLINIQUE%20CLEMENTVILLE%3C/p%3E%3C/b%3E%3C/h4%3E%3Cbr%3E%3Ch5%3E%3Cb%3EAdresse%20%3A%20%3C/b%3E%3C/h5%3E25%20Rue%20de%20Cl%C3%A9mentville%2034070%20Montpellier%3Cbr%3E%3Ci%3ELaboratoire%3C/i%3E%3Cbr%3E%3Cstrong%3E%3Cb%3ETest%20RT-PCR%20%3A%20%3C/b%3E%3C/strong%3EOUI%3Cbr%3E%3Cstrong%3E%3Cb%3ETest%20antig%C3%A9nique%20%3A%20%3C/b%3E%3C/strong%3ENON%3Cbr%3E%3Cstrong%3E%3Cb%3EModalit%C3%A9s%20de%20pr%C3%A9l%C3%A8vement%20%3A%20%3C/b%3E%3C/strong%3ESur%20place%3Cbr%3E%3Cstrong%3E%3Cb%3EPublic%20%3A%20%3C/b%3E%3C/strong%3EPatients%20pour%20des%20bilans%20pr%C3%A9-op%C3%A9ratoire%3Cbr%3E%3Cstrong%3E%3Cb%3EAcc%C3%A8s%20%3A%20%3C/b%3E%3C/strong%3ESur%20rendez-vous%20uniquement%3Cbr%3E%3Ch5%3E%3Cb%3EHoraire%20%3A%20%3C/b%3E%3C/h5%3EAppeler%20le%20laboratoire%3Cbr%3E%3Cstrong%3E%3Cb%3EPersonnes%20prioritaires%20%3A%20%3C/b%3E%3C/strong%3E-%3Cbr%3E%3Cstrong%3E%3Cb%3ET%C3%A9l%C3%A9phone%20%3A%20%3C/b%3E%3C/strong%3E04%2067%2092%2008%2037%3Cbr%3E%3Cstrong%3E%3Cb%3ESite%20internet%20%3A%20%3C/b%3E%3C/strong%3E-%3C/div%3E%60%29%5B0%5D%3B%0A%20%20%20%20%20%20%20%20%20%20%20%20popup_309aa48ad3264fa3a7184a4f3355f5af.setContent%28html_b21ed49c25cd4419a5a9507f21379d02%29%3B%0A%20%20%20%20%20%20%20%20%0A%0A%20%20%20%20%20%20%20%20marker_d240e5213ace4966ac694042865158b0.bindPopup%28popup_309aa48ad3264fa3a7184a4f3355f5af%29%0A%20%20%20%20%20%20%20%20%3B%0A%0A%20%20%20%20%20%20%20%20%0A%20%20%20%20%0A%20%20%20%20%0A%20%20%20%20%20%20%20%20%20%20%20%20marker_d240e5213ace4966ac694042865158b0.bindTooltip%28%0A%20%20%20%20%20%20%20%20%20%20%20%20%20%20%20%20%60%3Cdiv%3E%0A%20%20%20%20%20%20%20%20%20%20%20%20%20%20%20%20%20%20%20%20%20%3Cstrong%3E25%20Rue%20de%20Cl%C3%A9mentville%2034070%20Montpellier%3C/strong%3E%0A%20%20%20%20%20%20%20%20%20%20%20%20%20%20%20%20%20%3C/div%3E%60%2C%0A%20%20%20%20%20%20%20%20%20%20%20%20%20%20%20%20%7B%22sticky%22%3A%20true%7D%0A%20%20%20%20%20%20%20%20%20%20%20%20%29%3B%0A%20%20%20%20%20%20%20%20%0A%20%20%20%20%0A%20%20%20%20%20%20%20%20%20%20%20%20var%20marker_4102443ec79e46d4aa939d8c22678f59%20%3D%20L.marker%28%0A%20%20%20%20%20%20%20%20%20%20%20%20%20%20%20%20%5B43.583112%2C%203.861834%5D%2C%0A%20%20%20%20%20%20%20%20%20%20%20%20%20%20%20%20%7B%7D%0A%20%20%20%20%20%20%20%20%20%20%20%20%29.addTo%28map_2d6b94ddbdfc4564ac60676369dd8f38%29%3B%0A%20%20%20%20%20%20%20%20%0A%20%20%20%20%0A%20%20%20%20%20%20%20%20%20%20%20%20var%20icon_6c26a30d03cc4c068892826e1dba95a3%20%3D%20L.AwesomeMarkers.icon%28%0A%20%20%20%20%20%20%20%20%20%20%20%20%20%20%20%20%7B%22extraClasses%22%3A%20%22fa-rotate-0%22%2C%20%22icon%22%3A%20%22info-sign%22%2C%20%22iconColor%22%3A%20%22white%22%2C%20%22markerColor%22%3A%20%22red%22%2C%20%22prefix%22%3A%20%22glyphicon%22%7D%0A%20%20%20%20%20%20%20%20%20%20%20%20%29%3B%0A%20%20%20%20%20%20%20%20%20%20%20%20marker_4102443ec79e46d4aa939d8c22678f59.setIcon%28icon_6c26a30d03cc4c068892826e1dba95a3%29%3B%0A%20%20%20%20%20%20%20%20%0A%20%20%20%20%0A%20%20%20%20%20%20%20%20var%20popup_994ad2e54dc84398be7f8b19369b8156%20%3D%20L.popup%28%7B%22maxWidth%22%3A%20500%7D%29%3B%0A%0A%20%20%20%20%20%20%20%20%0A%20%20%20%20%20%20%20%20%20%20%20%20var%20html_ff3a1df1bede41d5bbb386e66fd2518d%20%3D%20%24%28%60%3Cdiv%20id%3D%22html_ff3a1df1bede41d5bbb386e66fd2518d%22%20style%3D%22width%3A%20100.0%25%3B%20height%3A%20100.0%25%3B%22%3E%3Ch4%3E%3Cb%3E%3Cp%20style%3D%22text-align%3Acenter%3B%22%3ELBM%20LABOSUD%20MONTPELLIER%20CLINIQUE%20ST%20ROCH%3C/p%3E%3C/b%3E%3C/h4%3E%3Cbr%3E%3Ch5%3E%3Cb%3EAdresse%20%3A%20%3C/b%3E%3C/h5%3E550%20Avenue%20du%20Colonel%20Pavelet%2034070%20Montpellier%3Cbr%3E%3Ci%3ELaboratoire%3C/i%3E%3Cbr%3E%3Cstrong%3E%3Cb%3ETest%20RT-PCR%20%3A%20%3C/b%3E%3C/strong%3EOUI%3Cbr%3E%3Cstrong%3E%3Cb%3ETest%20antig%C3%A9nique%20%3A%20%3C/b%3E%3C/strong%3ENON%3Cbr%3E%3Cstrong%3E%3Cb%3EModalit%C3%A9s%20de%20pr%C3%A9l%C3%A8vement%20%3A%20%3C/b%3E%3C/strong%3ESur%20place%3Cbr%3E%3Cstrong%3E%3Cb%3EPublic%20%3A%20%3C/b%3E%3C/strong%3EPatients%20pour%20des%20bilans%20pr%C3%A9-op%C3%A9ratoire%3Cbr%3E%3Cstrong%3E%3Cb%3EAcc%C3%A8s%20%3A%20%3C/b%3E%3C/strong%3ESur%20rendez-vous%20uniquement%3Cbr%3E%3Ch5%3E%3Cb%3EHoraire%20%3A%20%3C/b%3E%3C/h5%3EAppeler%20le%20laboratoire%3Cbr%3E%3Cstrong%3E%3Cb%3EPersonnes%20prioritaires%20%3A%20%3C/b%3E%3C/strong%3E-%3Cbr%3E%3Cstrong%3E%3Cb%3ET%C3%A9l%C3%A9phone%20%3A%20%3C/b%3E%3C/strong%3E04%2067%2004%2038%2055%3Cbr%3E%3Cstrong%3E%3Cb%3ESite%20internet%20%3A%20%3C/b%3E%3C/strong%3E-%3C/div%3E%60%29%5B0%5D%3B%0A%20%20%20%20%20%20%20%20%20%20%20%20popup_994ad2e54dc84398be7f8b19369b8156.setContent%28html_ff3a1df1bede41d5bbb386e66fd2518d%29%3B%0A%20%20%20%20%20%20%20%20%0A%0A%20%20%20%20%20%20%20%20marker_4102443ec79e46d4aa939d8c22678f59.bindPopup%28popup_994ad2e54dc84398be7f8b19369b8156%29%0A%20%20%20%20%20%20%20%20%3B%0A%0A%20%20%20%20%20%20%20%20%0A%20%20%20%20%0A%20%20%20%20%0A%20%20%20%20%20%20%20%20%20%20%20%20marker_4102443ec79e46d4aa939d8c22678f59.bindTooltip%28%0A%20%20%20%20%20%20%20%20%20%20%20%20%20%20%20%20%60%3Cdiv%3E%0A%20%20%20%20%20%20%20%20%20%20%20%20%20%20%20%20%20%20%20%20%20%3Cstrong%3E550%20Avenue%20du%20Colonel%20Pavelet%2034070%20Montpellier%3C/strong%3E%0A%20%20%20%20%20%20%20%20%20%20%20%20%20%20%20%20%20%3C/div%3E%60%2C%0A%20%20%20%20%20%20%20%20%20%20%20%20%20%20%20%20%7B%22sticky%22%3A%20true%7D%0A%20%20%20%20%20%20%20%20%20%20%20%20%29%3B%0A%20%20%20%20%20%20%20%20%0A%20%20%20%20%0A%20%20%20%20%20%20%20%20%20%20%20%20var%20marker_904a80e5dcc44b6c8471e7d9db6efa70%20%3D%20L.marker%28%0A%20%20%20%20%20%20%20%20%20%20%20%20%20%20%20%20%5B43.6637945808652%2C%204.12329208268337%5D%2C%0A%20%20%20%20%20%20%20%20%20%20%20%20%20%20%20%20%7B%7D%0A%20%20%20%20%20%20%20%20%20%20%20%20%29.addTo%28map_2d6b94ddbdfc4564ac60676369dd8f38%29%3B%0A%20%20%20%20%20%20%20%20%0A%20%20%20%20%0A%20%20%20%20%20%20%20%20%20%20%20%20var%20icon_324351023ff448cab3b25263ee9b21df%20%3D%20L.AwesomeMarkers.icon%28%0A%20%20%20%20%20%20%20%20%20%20%20%20%20%20%20%20%7B%22extraClasses%22%3A%20%22fa-rotate-0%22%2C%20%22icon%22%3A%20%22info-sign%22%2C%20%22iconColor%22%3A%20%22white%22%2C%20%22markerColor%22%3A%20%22red%22%2C%20%22prefix%22%3A%20%22glyphicon%22%7D%0A%20%20%20%20%20%20%20%20%20%20%20%20%29%3B%0A%20%20%20%20%20%20%20%20%20%20%20%20marker_904a80e5dcc44b6c8471e7d9db6efa70.setIcon%28icon_324351023ff448cab3b25263ee9b21df%29%3B%0A%20%20%20%20%20%20%20%20%0A%20%20%20%20%0A%20%20%20%20%20%20%20%20var%20popup_00c86e5976044a3596889c552e7427a5%20%3D%20L.popup%28%7B%22maxWidth%22%3A%20500%7D%29%3B%0A%0A%20%20%20%20%20%20%20%20%0A%20%20%20%20%20%20%20%20%20%20%20%20var%20html_2a81af634e6643bcb2af9344b0302e08%20%3D%20%24%28%60%3Cdiv%20id%3D%22html_2a81af634e6643bcb2af9344b0302e08%22%20style%3D%22width%3A%20100.0%25%3B%20height%3A%20100.0%25%3B%22%3E%3Ch4%3E%3Cb%3E%3Cp%20style%3D%22text-align%3Acenter%3B%22%3ELBM%20LABOSUD%20LUNEL%20VIA%20DOMITIA%3C/p%3E%3C/b%3E%3C/h4%3E%3Cbr%3E%3Ch5%3E%3Cb%3EAdresse%20%3A%20%3C/b%3E%3C/h5%3EClinique%20Via%20Domitia-%20Chemin%20des%20Alicantes-%20B%C3%A2timent%20B%20%2034400%20Lunel%3Cbr%3E%3Ci%3ELaboratoire%3C/i%3E%3Cbr%3E%3Cstrong%3E%3Cb%3ETest%20RT-PCR%20%3A%20%3C/b%3E%3C/strong%3EOUI%3Cbr%3E%3Cstrong%3E%3Cb%3ETest%20antig%C3%A9nique%20%3A%20%3C/b%3E%3C/strong%3ENON%3Cbr%3E%3Cstrong%3E%3Cb%3EModalit%C3%A9s%20de%20pr%C3%A9l%C3%A8vement%20%3A%20%3C/b%3E%3C/strong%3ESur%20place%3Cbr%3E%3Cstrong%3E%3Cb%3EPublic%20%3A%20%3C/b%3E%3C/strong%3EPatients%20pour%20des%20bilans%20pr%C3%A9-op%C3%A9ratoire%3Cbr%3E%3Cstrong%3E%3Cb%3EAcc%C3%A8s%20%3A%20%3C/b%3E%3C/strong%3ESur%20rendez-vous%20uniquement%3Cbr%3E%3Ch5%3E%3Cb%3EHoraire%20%3A%20%3C/b%3E%3C/h5%3EAppeler%20le%20laboratoire%3Cbr%3E%3Cstrong%3E%3Cb%3EPersonnes%20prioritaires%20%3A%20%3C/b%3E%3C/strong%3E-%3Cbr%3E%3Cstrong%3E%3Cb%3ET%C3%A9l%C3%A9phone%20%3A%20%3C/b%3E%3C/strong%3E04%2067%2071%2008%2040%3Cbr%3E%3Cstrong%3E%3Cb%3ESite%20internet%20%3A%20%3C/b%3E%3C/strong%3E-%3C/div%3E%60%29%5B0%5D%3B%0A%20%20%20%20%20%20%20%20%20%20%20%20popup_00c86e5976044a3596889c552e7427a5.setContent%28html_2a81af634e6643bcb2af9344b0302e08%29%3B%0A%20%20%20%20%20%20%20%20%0A%0A%20%20%20%20%20%20%20%20marker_904a80e5dcc44b6c8471e7d9db6efa70.bindPopup%28popup_00c86e5976044a3596889c552e7427a5%29%0A%20%20%20%20%20%20%20%20%3B%0A%0A%20%20%20%20%20%20%20%20%0A%20%20%20%20%0A%20%20%20%20%0A%20%20%20%20%20%20%20%20%20%20%20%20marker_904a80e5dcc44b6c8471e7d9db6efa70.bindTooltip%28%0A%20%20%20%20%20%20%20%20%20%20%20%20%20%20%20%20%60%3Cdiv%3E%0A%20%20%20%20%20%20%20%20%20%20%20%20%20%20%20%20%20%20%20%20%20%3Cstrong%3EClinique%20Via%20Domitia-%20Chemin%20des%20Alicantes-%20B%C3%A2timent%20B%20%2034400%20Lunel%3C/strong%3E%0A%20%20%20%20%20%20%20%20%20%20%20%20%20%20%20%20%20%3C/div%3E%60%2C%0A%20%20%20%20%20%20%20%20%20%20%20%20%20%20%20%20%7B%22sticky%22%3A%20true%7D%0A%20%20%20%20%20%20%20%20%20%20%20%20%29%3B%0A%20%20%20%20%20%20%20%20%0A%20%20%20%20%0A%20%20%20%20%20%20%20%20%20%20%20%20var%20marker_dc7af020b973403199e85cd58de39bf1%20%3D%20L.marker%28%0A%20%20%20%20%20%20%20%20%20%20%20%20%20%20%20%20%5B43.447904%2C%203.754946%5D%2C%0A%20%20%20%20%20%20%20%20%20%20%20%20%20%20%20%20%7B%7D%0A%20%20%20%20%20%20%20%20%20%20%20%20%29.addTo%28map_2d6b94ddbdfc4564ac60676369dd8f38%29%3B%0A%20%20%20%20%20%20%20%20%0A%20%20%20%20%0A%20%20%20%20%20%20%20%20%20%20%20%20var%20icon_11d7be1b32a146faa0acd230d0ab2477%20%3D%20L.AwesomeMarkers.icon%28%0A%20%20%20%20%20%20%20%20%20%20%20%20%20%20%20%20%7B%22extraClasses%22%3A%20%22fa-rotate-0%22%2C%20%22icon%22%3A%20%22info-sign%22%2C%20%22iconColor%22%3A%20%22white%22%2C%20%22markerColor%22%3A%20%22red%22%2C%20%22prefix%22%3A%20%22glyphicon%22%7D%0A%20%20%20%20%20%20%20%20%20%20%20%20%29%3B%0A%20%20%20%20%20%20%20%20%20%20%20%20marker_dc7af020b973403199e85cd58de39bf1.setIcon%28icon_11d7be1b32a146faa0acd230d0ab2477%29%3B%0A%20%20%20%20%20%20%20%20%0A%20%20%20%20%0A%20%20%20%20%20%20%20%20var%20popup_70bf1da433db4491b7ccd81c9c79f5c2%20%3D%20L.popup%28%7B%22maxWidth%22%3A%20500%7D%29%3B%0A%0A%20%20%20%20%20%20%20%20%0A%20%20%20%20%20%20%20%20%20%20%20%20var%20html_ba113d6a22584074bc47580c24591329%20%3D%20%24%28%60%3Cdiv%20id%3D%22html_ba113d6a22584074bc47580c24591329%22%20style%3D%22width%3A%20100.0%25%3B%20height%3A%20100.0%25%3B%22%3E%3Ch4%3E%3Cb%3E%3Cp%20style%3D%22text-align%3Acenter%3B%22%3ELBM%20LABOSUD%20FRONTIGNAN%20MISTRAL%3C/p%3E%3C/b%3E%3C/h4%3E%3Cbr%3E%3Ch5%3E%3Cb%3EAdresse%20%3A%20%3C/b%3E%3C/h5%3ERue%20Anatole%20France%2034110%20Frontignan%3Cbr%3E%3Ci%3ECentre%20de%20d%C3%A9pistage%20d%C3%A9di%C3%A9%3C/i%3E%3Cbr%3E%3Cstrong%3E%3Cb%3ETest%20RT-PCR%20%3A%20%3C/b%3E%3C/strong%3EOUI%3Cbr%3E%3Cstrong%3E%3Cb%3ETest%20antig%C3%A9nique%20%3A%20%3C/b%3E%3C/strong%3ENON%3Cbr%3E%3Cstrong%3E%3Cb%3EModalit%C3%A9s%20de%20pr%C3%A9l%C3%A8vement%20%3A%20%3C/b%3E%3C/strong%3ESur%20place%3Cbr%3E%3Cstrong%3E%3Cb%3EPublic%20%3A%20%3C/b%3E%3C/strong%3EPatients%20avec%20sympt%C3%B4mes/Cas%20contacts%20liste%20CPAM/Patients%20pour%20des%20bilans%20pr%C3%A9-op%C3%A9ratoire/Personnel%20soignant%3Cbr%3E%3Cstrong%3E%3Cb%3EAcc%C3%A8s%20%3A%20%3C/b%3E%3C/strong%3ESur%20rendez-vous%20uniquement%3Cbr%3E%3Ch5%3E%3Cb%3EHoraire%20%3A%20%3C/b%3E%3C/h5%3EAppeler%20le%20laboratoire%3Cbr%3E%3Cstrong%3E%3Cb%3EPersonnes%20prioritaires%20%3A%20%3C/b%3E%3C/strong%3E-%3Cbr%3E%3Cstrong%3E%3Cb%3ET%C3%A9l%C3%A9phone%20%3A%20%3C/b%3E%3C/strong%3E04%2067%2048%2036%2000%3Cbr%3E%3Cstrong%3E%3Cb%3ESite%20internet%20%3A%20%3C/b%3E%3C/strong%3E-%3C/div%3E%60%29%5B0%5D%3B%0A%20%20%20%20%20%20%20%20%20%20%20%20popup_70bf1da433db4491b7ccd81c9c79f5c2.setContent%28html_ba113d6a22584074bc47580c24591329%29%3B%0A%20%20%20%20%20%20%20%20%0A%0A%20%20%20%20%20%20%20%20marker_dc7af020b973403199e85cd58de39bf1.bindPopup%28popup_70bf1da433db4491b7ccd81c9c79f5c2%29%0A%20%20%20%20%20%20%20%20%3B%0A%0A%20%20%20%20%20%20%20%20%0A%20%20%20%20%0A%20%20%20%20%0A%20%20%20%20%20%20%20%20%20%20%20%20marker_dc7af020b973403199e85cd58de39bf1.bindTooltip%28%0A%20%20%20%20%20%20%20%20%20%20%20%20%20%20%20%20%60%3Cdiv%3E%0A%20%20%20%20%20%20%20%20%20%20%20%20%20%20%20%20%20%20%20%20%20%3Cstrong%3ERue%20Anatole%20France%2034110%20Frontignan%3C/strong%3E%0A%20%20%20%20%20%20%20%20%20%20%20%20%20%20%20%20%20%3C/div%3E%60%2C%0A%20%20%20%20%20%20%20%20%20%20%20%20%20%20%20%20%7B%22sticky%22%3A%20true%7D%0A%20%20%20%20%20%20%20%20%20%20%20%20%29%3B%0A%20%20%20%20%20%20%20%20%0A%20%20%20%20%0A%20%20%20%20%20%20%20%20%20%20%20%20var%20marker_6567ba35fc4340f688035be5af58fe40%20%3D%20L.marker%28%0A%20%20%20%20%20%20%20%20%20%20%20%20%20%20%20%20%5B43.6186314947033%2C%203.87114195259911%5D%2C%0A%20%20%20%20%20%20%20%20%20%20%20%20%20%20%20%20%7B%7D%0A%20%20%20%20%20%20%20%20%20%20%20%20%29.addTo%28map_2d6b94ddbdfc4564ac60676369dd8f38%29%3B%0A%20%20%20%20%20%20%20%20%0A%20%20%20%20%0A%20%20%20%20%20%20%20%20%20%20%20%20var%20icon_717b83ea5e624e30bd7b554ae067c630%20%3D%20L.AwesomeMarkers.icon%28%0A%20%20%20%20%20%20%20%20%20%20%20%20%20%20%20%20%7B%22extraClasses%22%3A%20%22fa-rotate-0%22%2C%20%22icon%22%3A%20%22info-sign%22%2C%20%22iconColor%22%3A%20%22white%22%2C%20%22markerColor%22%3A%20%22red%22%2C%20%22prefix%22%3A%20%22glyphicon%22%7D%0A%20%20%20%20%20%20%20%20%20%20%20%20%29%3B%0A%20%20%20%20%20%20%20%20%20%20%20%20marker_6567ba35fc4340f688035be5af58fe40.setIcon%28icon_717b83ea5e624e30bd7b554ae067c630%29%3B%0A%20%20%20%20%20%20%20%20%0A%20%20%20%20%0A%20%20%20%20%20%20%20%20var%20popup_0ac404db2cfb43439bbc7dfbb66f2904%20%3D%20L.popup%28%7B%22maxWidth%22%3A%20500%7D%29%3B%0A%0A%20%20%20%20%20%20%20%20%0A%20%20%20%20%20%20%20%20%20%20%20%20var%20html_72397b3aedf24ad69db52fa3d0e79c60%20%3D%20%24%28%60%3Cdiv%20id%3D%22html_72397b3aedf24ad69db52fa3d0e79c60%22%20style%3D%22width%3A%20100.0%25%3B%20height%3A%20100.0%25%3B%22%3E%3Ch4%3E%3Cb%3E%3Cp%20style%3D%22text-align%3Acenter%3B%22%3ELBM%20LABOSUD%20MONTPELLIER%20CLINIQUE%20ST%20JEAN%3C/p%3E%3C/b%3E%3C/h4%3E%3Cbr%3E%3Ch5%3E%3Cb%3EAdresse%20%3A%20%3C/b%3E%3C/h5%3EClinique%20St%20Jean%20-%202%20place%20de%20l%27Europe%2034430%20Saint%20Jean%20de%20V%C3%A9das%3Cbr%3E%3Ci%3ELaboratoire%3C/i%3E%3Cbr%3E%3Cstrong%3E%3Cb%3ETest%20RT-PCR%20%3A%20%3C/b%3E%3C/strong%3EOUI%3Cbr%3E%3Cstrong%3E%3Cb%3ETest%20antig%C3%A9nique%20%3A%20%3C/b%3E%3C/strong%3ENON%3Cbr%3E%3Cstrong%3E%3Cb%3EModalit%C3%A9s%20de%20pr%C3%A9l%C3%A8vement%20%3A%20%3C/b%3E%3C/strong%3ESur%20place%3Cbr%3E%3Cstrong%3E%3Cb%3EPublic%20%3A%20%3C/b%3E%3C/strong%3EPatients%20pour%20des%20bilans%20pr%C3%A9-op%C3%A9ratoire%3Cbr%3E%3Cstrong%3E%3Cb%3EAcc%C3%A8s%20%3A%20%3C/b%3E%3C/strong%3ESur%20rendez-vous%20uniquement%3Cbr%3E%3Ch5%3E%3Cb%3EHoraire%20%3A%20%3C/b%3E%3C/h5%3EAppeler%20le%20laboratoire%3Cbr%3E%3Cstrong%3E%3Cb%3EPersonnes%20prioritaires%20%3A%20%3C/b%3E%3C/strong%3E-%3Cbr%3E%3Cstrong%3E%3Cb%3ET%C3%A9l%C3%A9phone%20%3A%20%3C/b%3E%3C/strong%3E04%2067%2061%2020%2094%3Cbr%3E%3Cstrong%3E%3Cb%3ESite%20internet%20%3A%20%3C/b%3E%3C/strong%3E-%3C/div%3E%60%29%5B0%5D%3B%0A%20%20%20%20%20%20%20%20%20%20%20%20popup_0ac404db2cfb43439bbc7dfbb66f2904.setContent%28html_72397b3aedf24ad69db52fa3d0e79c60%29%3B%0A%20%20%20%20%20%20%20%20%0A%0A%20%20%20%20%20%20%20%20marker_6567ba35fc4340f688035be5af58fe40.bindPopup%28popup_0ac404db2cfb43439bbc7dfbb66f2904%29%0A%20%20%20%20%20%20%20%20%3B%0A%0A%20%20%20%20%20%20%20%20%0A%20%20%20%20%0A%20%20%20%20%0A%20%20%20%20%20%20%20%20%20%20%20%20marker_6567ba35fc4340f688035be5af58fe40.bindTooltip%28%0A%20%20%20%20%20%20%20%20%20%20%20%20%20%20%20%20%60%3Cdiv%3E%0A%20%20%20%20%20%20%20%20%20%20%20%20%20%20%20%20%20%20%20%20%20%3Cstrong%3EClinique%20St%20Jean%20-%202%20place%20de%20l%27Europe%2034430%20Saint%20Jean%20de%20V%C3%A9das%3C/strong%3E%0A%20%20%20%20%20%20%20%20%20%20%20%20%20%20%20%20%20%3C/div%3E%60%2C%0A%20%20%20%20%20%20%20%20%20%20%20%20%20%20%20%20%7B%22sticky%22%3A%20true%7D%0A%20%20%20%20%20%20%20%20%20%20%20%20%29%3B%0A%20%20%20%20%20%20%20%20%0A%20%20%20%20%0A%20%20%20%20%20%20%20%20%20%20%20%20var%20marker_4d0e7c13f7c846ac8095191704f55172%20%3D%20L.marker%28%0A%20%20%20%20%20%20%20%20%20%20%20%20%20%20%20%20%5B43.354196139174%2C%203.22562992572784%5D%2C%0A%20%20%20%20%20%20%20%20%20%20%20%20%20%20%20%20%7B%7D%0A%20%20%20%20%20%20%20%20%20%20%20%20%29.addTo%28map_2d6b94ddbdfc4564ac60676369dd8f38%29%3B%0A%20%20%20%20%20%20%20%20%0A%20%20%20%20%0A%20%20%20%20%20%20%20%20%20%20%20%20var%20icon_8615289b0fb74adc9b0336e8d9af991b%20%3D%20L.AwesomeMarkers.icon%28%0A%20%20%20%20%20%20%20%20%20%20%20%20%20%20%20%20%7B%22extraClasses%22%3A%20%22fa-rotate-0%22%2C%20%22icon%22%3A%20%22info-sign%22%2C%20%22iconColor%22%3A%20%22white%22%2C%20%22markerColor%22%3A%20%22red%22%2C%20%22prefix%22%3A%20%22glyphicon%22%7D%0A%20%20%20%20%20%20%20%20%20%20%20%20%29%3B%0A%20%20%20%20%20%20%20%20%20%20%20%20marker_4d0e7c13f7c846ac8095191704f55172.setIcon%28icon_8615289b0fb74adc9b0336e8d9af991b%29%3B%0A%20%20%20%20%20%20%20%20%0A%20%20%20%20%0A%20%20%20%20%20%20%20%20var%20popup_4467b4f4510e46878f230ae277366330%20%3D%20L.popup%28%7B%22maxWidth%22%3A%20500%7D%29%3B%0A%0A%20%20%20%20%20%20%20%20%0A%20%20%20%20%20%20%20%20%20%20%20%20var%20html_8a11335c5310489db300f90aea4a4aa5%20%3D%20%24%28%60%3Cdiv%20id%3D%22html_8a11335c5310489db300f90aea4a4aa5%22%20style%3D%22width%3A%20100.0%25%3B%20height%3A%20100.0%25%3B%22%3E%3Ch4%3E%3Cb%3E%3Cp%20style%3D%22text-align%3Acenter%3B%22%3ELBM%20LABOSUD%20BEZIERS%20BIO2000%3C/p%3E%3C/b%3E%3C/h4%3E%3Cbr%3E%3Ch5%3E%3Cb%3EAdresse%20%3A%20%3C/b%3E%3C/h5%3E2%20bis%20square%20des%20volontaires%20biterrois%20%2039-45%2034500%20B%C3%A9ziers%3Cbr%3E%3Ci%3ELaboratoire%3C/i%3E%3Cbr%3E%3Cstrong%3E%3Cb%3ETest%20RT-PCR%20%3A%20%3C/b%3E%3C/strong%3EOUI%3Cbr%3E%3Cstrong%3E%3Cb%3ETest%20antig%C3%A9nique%20%3A%20%3C/b%3E%3C/strong%3ENON%3Cbr%3E%3Cstrong%3E%3Cb%3EModalit%C3%A9s%20de%20pr%C3%A9l%C3%A8vement%20%3A%20%3C/b%3E%3C/strong%3ESur%20place%3Cbr%3E%3Cstrong%3E%3Cb%3EPublic%20%3A%20%3C/b%3E%3C/strong%3EPatients%20pour%20des%20bilans%20pr%C3%A9-op%C3%A9ratoire%3Cbr%3E%3Cstrong%3E%3Cb%3EAcc%C3%A8s%20%3A%20%3C/b%3E%3C/strong%3ESur%20rendez-vous%20uniquement%3Cbr%3E%3Ch5%3E%3Cb%3EHoraire%20%3A%20%3C/b%3E%3C/h5%3EAppeler%20le%20laboratoire%3Cbr%3E%3Cstrong%3E%3Cb%3EPersonnes%20prioritaires%20%3A%20%3C/b%3E%3C/strong%3E-%3Cbr%3E%3Cstrong%3E%3Cb%3ET%C3%A9l%C3%A9phone%20%3A%20%3C/b%3E%3C/strong%3E04%2067%2090%2020%2000%3Cbr%3E%3Cstrong%3E%3Cb%3ESite%20internet%20%3A%20%3C/b%3E%3C/strong%3ERendez-vous%20par%20t%C3%A9l%C3%A9phone%3C/div%3E%60%29%5B0%5D%3B%0A%20%20%20%20%20%20%20%20%20%20%20%20popup_4467b4f4510e46878f230ae277366330.setContent%28html_8a11335c5310489db300f90aea4a4aa5%29%3B%0A%20%20%20%20%20%20%20%20%0A%0A%20%20%20%20%20%20%20%20marker_4d0e7c13f7c846ac8095191704f55172.bindPopup%28popup_4467b4f4510e46878f230ae277366330%29%0A%20%20%20%20%20%20%20%20%3B%0A%0A%20%20%20%20%20%20%20%20%0A%20%20%20%20%0A%20%20%20%20%0A%20%20%20%20%20%20%20%20%20%20%20%20marker_4d0e7c13f7c846ac8095191704f55172.bindTooltip%28%0A%20%20%20%20%20%20%20%20%20%20%20%20%20%20%20%20%60%3Cdiv%3E%0A%20%20%20%20%20%20%20%20%20%20%20%20%20%20%20%20%20%20%20%20%20%3Cstrong%3E2%20bis%20square%20des%20volontaires%20biterrois%20%2039-45%2034500%20B%C3%A9ziers%3C/strong%3E%0A%20%20%20%20%20%20%20%20%20%20%20%20%20%20%20%20%20%3C/div%3E%60%2C%0A%20%20%20%20%20%20%20%20%20%20%20%20%20%20%20%20%7B%22sticky%22%3A%20true%7D%0A%20%20%20%20%20%20%20%20%20%20%20%20%29%3B%0A%20%20%20%20%20%20%20%20%0A%20%20%20%20%0A%20%20%20%20%20%20%20%20%20%20%20%20var%20marker_98e1c188cd0f42e48cb76ba5a0fbe22f%20%3D%20L.marker%28%0A%20%20%20%20%20%20%20%20%20%20%20%20%20%20%20%20%5B43.623953%2C%203.437393%5D%2C%0A%20%20%20%20%20%20%20%20%20%20%20%20%20%20%20%20%7B%7D%0A%20%20%20%20%20%20%20%20%20%20%20%20%29.addTo%28map_2d6b94ddbdfc4564ac60676369dd8f38%29%3B%0A%20%20%20%20%20%20%20%20%0A%20%20%20%20%0A%20%20%20%20%20%20%20%20%20%20%20%20var%20icon_82fd957c6cb5453e9bce2da1b8a511f1%20%3D%20L.AwesomeMarkers.icon%28%0A%20%20%20%20%20%20%20%20%20%20%20%20%20%20%20%20%7B%22extraClasses%22%3A%20%22fa-rotate-0%22%2C%20%22icon%22%3A%20%22info-sign%22%2C%20%22iconColor%22%3A%20%22white%22%2C%20%22markerColor%22%3A%20%22red%22%2C%20%22prefix%22%3A%20%22glyphicon%22%7D%0A%20%20%20%20%20%20%20%20%20%20%20%20%29%3B%0A%20%20%20%20%20%20%20%20%20%20%20%20marker_98e1c188cd0f42e48cb76ba5a0fbe22f.setIcon%28icon_82fd957c6cb5453e9bce2da1b8a511f1%29%3B%0A%20%20%20%20%20%20%20%20%0A%20%20%20%20%0A%20%20%20%20%20%20%20%20var%20popup_3a00281011a9461f848f622649238644%20%3D%20L.popup%28%7B%22maxWidth%22%3A%20500%7D%29%3B%0A%0A%20%20%20%20%20%20%20%20%0A%20%20%20%20%20%20%20%20%20%20%20%20var%20html_d63962832c094b7e9bd53da36bbf7f66%20%3D%20%24%28%60%3Cdiv%20id%3D%22html_d63962832c094b7e9bd53da36bbf7f66%22%20style%3D%22width%3A%20100.0%25%3B%20height%3A%20100.0%25%3B%22%3E%3Ch4%3E%3Cb%3E%3Cp%20style%3D%22text-align%3Acenter%3B%22%3ELBM%20LABOSUD%20CLERMONT%20L%27HERAULT%3C/p%3E%3C/b%3E%3C/h4%3E%3Cbr%3E%3Ch5%3E%3Cb%3EAdresse%20%3A%20%3C/b%3E%3C/h5%3E24%20Avenue%20Raymond%20Lacombe%2034800%20Clermont-l%27H%C3%A9rault%3Cbr%3E%3Ci%3ECentre%20de%20d%C3%A9pistage%20d%C3%A9di%C3%A9%3C/i%3E%3Cbr%3E%3Cstrong%3E%3Cb%3ETest%20RT-PCR%20%3A%20%3C/b%3E%3C/strong%3EOUI%3Cbr%3E%3Cstrong%3E%3Cb%3ETest%20antig%C3%A9nique%20%3A%20%3C/b%3E%3C/strong%3ENON%3Cbr%3E%3Cstrong%3E%3Cb%3EModalit%C3%A9s%20de%20pr%C3%A9l%C3%A8vement%20%3A%20%3C/b%3E%3C/strong%3ESur%20place%3Cbr%3E%3Cstrong%3E%3Cb%3EPublic%20%3A%20%3C/b%3E%3C/strong%3ECas%20contacts%20liste%20CPAM/Patients%20avec%20sympt%C3%B4mes/Patients%20pour%20des%20bilans%20pr%C3%A9-op%C3%A9ratoire/Personnel%20soignant%3Cbr%3E%3Cstrong%3E%3Cb%3EAcc%C3%A8s%20%3A%20%3C/b%3E%3C/strong%3ESur%20rendez-vous%20uniquement%3Cbr%3E%3Ch5%3E%3Cb%3EHoraire%20%3A%20%3C/b%3E%3C/h5%3EAppeler%20le%20laboratoire%3Cbr%3E%3Cstrong%3E%3Cb%3EPersonnes%20prioritaires%20%3A%20%3C/b%3E%3C/strong%3E-%3Cbr%3E%3Cstrong%3E%3Cb%3ET%C3%A9l%C3%A9phone%20%3A%20%3C/b%3E%3C/strong%3E04%2067%2096%2003%2069%3Cbr%3E%3Cstrong%3E%3Cb%3ESite%20internet%20%3A%20%3C/b%3E%3C/strong%3ERendez-vous%20par%20t%C3%A9l%C3%A9phone%3C/div%3E%60%29%5B0%5D%3B%0A%20%20%20%20%20%20%20%20%20%20%20%20popup_3a00281011a9461f848f622649238644.setContent%28html_d63962832c094b7e9bd53da36bbf7f66%29%3B%0A%20%20%20%20%20%20%20%20%0A%0A%20%20%20%20%20%20%20%20marker_98e1c188cd0f42e48cb76ba5a0fbe22f.bindPopup%28popup_3a00281011a9461f848f622649238644%29%0A%20%20%20%20%20%20%20%20%3B%0A%0A%20%20%20%20%20%20%20%20%0A%20%20%20%20%0A%20%20%20%20%0A%20%20%20%20%20%20%20%20%20%20%20%20marker_98e1c188cd0f42e48cb76ba5a0fbe22f.bindTooltip%28%0A%20%20%20%20%20%20%20%20%20%20%20%20%20%20%20%20%60%3Cdiv%3E%0A%20%20%20%20%20%20%20%20%20%20%20%20%20%20%20%20%20%20%20%20%20%3Cstrong%3E24%20Avenue%20Raymond%20Lacombe%2034800%20Clermont-l%27H%C3%A9rault%3C/strong%3E%0A%20%20%20%20%20%20%20%20%20%20%20%20%20%20%20%20%20%3C/div%3E%60%2C%0A%20%20%20%20%20%20%20%20%20%20%20%20%20%20%20%20%7B%22sticky%22%3A%20true%7D%0A%20%20%20%20%20%20%20%20%20%20%20%20%29%3B%0A%20%20%20%20%20%20%20%20%0A%20%20%20%20%0A%20%20%20%20%20%20%20%20%20%20%20%20var%20marker_8f82f0e148d44450b9fd254a1f44f98a%20%3D%20L.marker%28%0A%20%20%20%20%20%20%20%20%20%20%20%20%20%20%20%20%5B43.7239985969081%2C%203.32205596326149%5D%2C%0A%20%20%20%20%20%20%20%20%20%20%20%20%20%20%20%20%7B%7D%0A%20%20%20%20%20%20%20%20%20%20%20%20%29.addTo%28map_2d6b94ddbdfc4564ac60676369dd8f38%29%3B%0A%20%20%20%20%20%20%20%20%0A%20%20%20%20%0A%20%20%20%20%20%20%20%20%20%20%20%20var%20icon_6ab5b157414f4e8b8caa159a93d26017%20%3D%20L.AwesomeMarkers.icon%28%0A%20%20%20%20%20%20%20%20%20%20%20%20%20%20%20%20%7B%22extraClasses%22%3A%20%22fa-rotate-0%22%2C%20%22icon%22%3A%20%22info-sign%22%2C%20%22iconColor%22%3A%20%22white%22%2C%20%22markerColor%22%3A%20%22red%22%2C%20%22prefix%22%3A%20%22glyphicon%22%7D%0A%20%20%20%20%20%20%20%20%20%20%20%20%29%3B%0A%20%20%20%20%20%20%20%20%20%20%20%20marker_8f82f0e148d44450b9fd254a1f44f98a.setIcon%28icon_6ab5b157414f4e8b8caa159a93d26017%29%3B%0A%20%20%20%20%20%20%20%20%0A%20%20%20%20%0A%20%20%20%20%20%20%20%20var%20popup_07f34771022446b7902a18544ddb97d0%20%3D%20L.popup%28%7B%22maxWidth%22%3A%20500%7D%29%3B%0A%0A%20%20%20%20%20%20%20%20%0A%20%20%20%20%20%20%20%20%20%20%20%20var%20html_ae898982894d429393f683c4474addfb%20%3D%20%24%28%60%3Cdiv%20id%3D%22html_ae898982894d429393f683c4474addfb%22%20style%3D%22width%3A%20100.0%25%3B%20height%3A%20100.0%25%3B%22%3E%3Ch4%3E%3Cb%3E%3Cp%20style%3D%22text-align%3Acenter%3B%22%3ELBM%20LABOSUD%20LODEVE%3C/p%3E%3C/b%3E%3C/h4%3E%3Cbr%3E%3Ch5%3E%3Cb%3EAdresse%20%3A%20%3C/b%3E%3C/h5%3E256%20All%C3%A9e%20Dani%C3%A8le%20Mitterand%2034700%20Lod%C3%A8ve%3Cbr%3E%3Ci%3ECentre%20de%20d%C3%A9pistage%20d%C3%A9di%C3%A9%3C/i%3E%3Cbr%3E%3Cstrong%3E%3Cb%3ETest%20RT-PCR%20%3A%20%3C/b%3E%3C/strong%3EOUI%3Cbr%3E%3Cstrong%3E%3Cb%3ETest%20antig%C3%A9nique%20%3A%20%3C/b%3E%3C/strong%3ENON%3Cbr%3E%3Cstrong%3E%3Cb%3EModalit%C3%A9s%20de%20pr%C3%A9l%C3%A8vement%20%3A%20%3C/b%3E%3C/strong%3EDrive%3Cbr%3E%3Cstrong%3E%3Cb%3EPublic%20%3A%20%3C/b%3E%3C/strong%3ECas%20contacts%20liste%20CPAM/Personnel%20soignant/Patients%20pour%20des%20bilans%20pr%C3%A9-op%C3%A9ratoire/Patients%20avec%20sympt%C3%B4mes%3Cbr%3E%3Cstrong%3E%3Cb%3EAcc%C3%A8s%20%3A%20%3C/b%3E%3C/strong%3ESur%20rendez-vous%20uniquement%3Cbr%3E%3Ch5%3E%3Cb%3EHoraire%20%3A%20%3C/b%3E%3C/h5%3EAppeler%20le%20laboratoire%3Cbr%3E%3Cstrong%3E%3Cb%3EPersonnes%20prioritaires%20%3A%20%3C/b%3E%3C/strong%3E-%3Cbr%3E%3Cstrong%3E%3Cb%3ET%C3%A9l%C3%A9phone%20%3A%20%3C/b%3E%3C/strong%3E-%3Cbr%3E%3Cstrong%3E%3Cb%3ESite%20internet%20%3A%20%3C/b%3E%3C/strong%3Ehttps%3A//labosud.fr/rdvcovid19%3C/div%3E%60%29%5B0%5D%3B%0A%20%20%20%20%20%20%20%20%20%20%20%20popup_07f34771022446b7902a18544ddb97d0.setContent%28html_ae898982894d429393f683c4474addfb%29%3B%0A%20%20%20%20%20%20%20%20%0A%0A%20%20%20%20%20%20%20%20marker_8f82f0e148d44450b9fd254a1f44f98a.bindPopup%28popup_07f34771022446b7902a18544ddb97d0%29%0A%20%20%20%20%20%20%20%20%3B%0A%0A%20%20%20%20%20%20%20%20%0A%20%20%20%20%0A%20%20%20%20%0A%20%20%20%20%20%20%20%20%20%20%20%20marker_8f82f0e148d44450b9fd254a1f44f98a.bindTooltip%28%0A%20%20%20%20%20%20%20%20%20%20%20%20%20%20%20%20%60%3Cdiv%3E%0A%20%20%20%20%20%20%20%20%20%20%20%20%20%20%20%20%20%20%20%20%20%3Cstrong%3E256%20All%C3%A9e%20Dani%C3%A8le%20Mitterand%2034700%20Lod%C3%A8ve%3C/strong%3E%0A%20%20%20%20%20%20%20%20%20%20%20%20%20%20%20%20%20%3C/div%3E%60%2C%0A%20%20%20%20%20%20%20%20%20%20%20%20%20%20%20%20%7B%22sticky%22%3A%20true%7D%0A%20%20%20%20%20%20%20%20%20%20%20%20%29%3B%0A%20%20%20%20%20%20%20%20%0A%20%20%20%20%0A%20%20%20%20%20%20%20%20%20%20%20%20var%20marker_706057a945f5445fbda0d4b34c779b28%20%3D%20L.marker%28%0A%20%20%20%20%20%20%20%20%20%20%20%20%20%20%20%20%5B43.6760295728803%2C%203.81644616710203%5D%2C%0A%20%20%20%20%20%20%20%20%20%20%20%20%20%20%20%20%7B%7D%0A%20%20%20%20%20%20%20%20%20%20%20%20%29.addTo%28map_2d6b94ddbdfc4564ac60676369dd8f38%29%3B%0A%20%20%20%20%20%20%20%20%0A%20%20%20%20%0A%20%20%20%20%20%20%20%20%20%20%20%20var%20icon_265e7a1a9fe247f1a4c37bcfac024a6f%20%3D%20L.AwesomeMarkers.icon%28%0A%20%20%20%20%20%20%20%20%20%20%20%20%20%20%20%20%7B%22extraClasses%22%3A%20%22fa-rotate-0%22%2C%20%22icon%22%3A%20%22info-sign%22%2C%20%22iconColor%22%3A%20%22white%22%2C%20%22markerColor%22%3A%20%22red%22%2C%20%22prefix%22%3A%20%22glyphicon%22%7D%0A%20%20%20%20%20%20%20%20%20%20%20%20%29%3B%0A%20%20%20%20%20%20%20%20%20%20%20%20marker_706057a945f5445fbda0d4b34c779b28.setIcon%28icon_265e7a1a9fe247f1a4c37bcfac024a6f%29%3B%0A%20%20%20%20%20%20%20%20%0A%20%20%20%20%0A%20%20%20%20%20%20%20%20var%20popup_48e4d410296b4399929b16d548e5e7b4%20%3D%20L.popup%28%7B%22maxWidth%22%3A%20500%7D%29%3B%0A%0A%20%20%20%20%20%20%20%20%0A%20%20%20%20%20%20%20%20%20%20%20%20var%20html_ac0bb1e9468c4e7f9ecef1e7f3d5fcf3%20%3D%20%24%28%60%3Cdiv%20id%3D%22html_ac0bb1e9468c4e7f9ecef1e7f3d5fcf3%22%20style%3D%22width%3A%20100.0%25%3B%20height%3A%20100.0%25%3B%22%3E%3Ch4%3E%3Cb%3E%3Cp%20style%3D%22text-align%3Acenter%3B%22%3ELBM%20LABOSUD%20SAINT%20GELY%20DU%20FESC%3C/p%3E%3C/b%3E%3C/h4%3E%3Cbr%3E%3Ch5%3E%3Cb%3EAdresse%20%3A%20%3C/b%3E%3C/h5%3E41%20Impasse%20des%20Trois%20Pointes%2034980%20St%20Gely%20Du%20Fesc%3Cbr%3E%3Ci%3ECentre%20de%20d%C3%A9pistage%20d%C3%A9di%C3%A9%3C/i%3E%3Cbr%3E%3Cstrong%3E%3Cb%3ETest%20RT-PCR%20%3A%20%3C/b%3E%3C/strong%3EOUI%3Cbr%3E%3Cstrong%3E%3Cb%3ETest%20antig%C3%A9nique%20%3A%20%3C/b%3E%3C/strong%3ENON%3Cbr%3E%3Cstrong%3E%3Cb%3EModalit%C3%A9s%20de%20pr%C3%A9l%C3%A8vement%20%3A%20%3C/b%3E%3C/strong%3ESur%20place%3Cbr%3E%3Cstrong%3E%3Cb%3EPublic%20%3A%20%3C/b%3E%3C/strong%3ECas%20contacts%20liste%20CPAM/Personnel%20soignant/Patients%20avec%20sympt%C3%B4mes%3Cbr%3E%3Cstrong%3E%3Cb%3EAcc%C3%A8s%20%3A%20%3C/b%3E%3C/strong%3ESur%20rendez-vous%20uniquement%3Cbr%3E%3Ch5%3E%3Cb%3EHoraire%20%3A%20%3C/b%3E%3C/h5%3EAppeler%20le%20laboratoire%3Cbr%3E%3Cstrong%3E%3Cb%3EPersonnes%20prioritaires%20%3A%20%3C/b%3E%3C/strong%3E-%3Cbr%3E%3Cstrong%3E%3Cb%3ET%C3%A9l%C3%A9phone%20%3A%20%3C/b%3E%3C/strong%3E-%3Cbr%3E%3Cstrong%3E%3Cb%3ESite%20internet%20%3A%20%3C/b%3E%3C/strong%3Ehttps%3A//labosud.fr/rdvcovid19%3C/div%3E%60%29%5B0%5D%3B%0A%20%20%20%20%20%20%20%20%20%20%20%20popup_48e4d410296b4399929b16d548e5e7b4.setContent%28html_ac0bb1e9468c4e7f9ecef1e7f3d5fcf3%29%3B%0A%20%20%20%20%20%20%20%20%0A%0A%20%20%20%20%20%20%20%20marker_706057a945f5445fbda0d4b34c779b28.bindPopup%28popup_48e4d410296b4399929b16d548e5e7b4%29%0A%20%20%20%20%20%20%20%20%3B%0A%0A%20%20%20%20%20%20%20%20%0A%20%20%20%20%0A%20%20%20%20%0A%20%20%20%20%20%20%20%20%20%20%20%20marker_706057a945f5445fbda0d4b34c779b28.bindTooltip%28%0A%20%20%20%20%20%20%20%20%20%20%20%20%20%20%20%20%60%3Cdiv%3E%0A%20%20%20%20%20%20%20%20%20%20%20%20%20%20%20%20%20%20%20%20%20%3Cstrong%3E41%20Impasse%20des%20Trois%20Pointes%2034980%20St%20Gely%20Du%20Fesc%3C/strong%3E%0A%20%20%20%20%20%20%20%20%20%20%20%20%20%20%20%20%20%3C/div%3E%60%2C%0A%20%20%20%20%20%20%20%20%20%20%20%20%20%20%20%20%7B%22sticky%22%3A%20true%7D%0A%20%20%20%20%20%20%20%20%20%20%20%20%29%3B%0A%20%20%20%20%20%20%20%20%0A%20%20%20%20%0A%20%20%20%20%20%20%20%20%20%20%20%20var%20marker_21bf38198e634828be0bc5fe826771b5%20%3D%20L.marker%28%0A%20%20%20%20%20%20%20%20%20%20%20%20%20%20%20%20%5B43.366289%2C%203.254753%5D%2C%0A%20%20%20%20%20%20%20%20%20%20%20%20%20%20%20%20%7B%7D%0A%20%20%20%20%20%20%20%20%20%20%20%20%29.addTo%28map_2d6b94ddbdfc4564ac60676369dd8f38%29%3B%0A%20%20%20%20%20%20%20%20%0A%20%20%20%20%0A%20%20%20%20%20%20%20%20%20%20%20%20var%20icon_b81a80d989c64870b9bffa261a390459%20%3D%20L.AwesomeMarkers.icon%28%0A%20%20%20%20%20%20%20%20%20%20%20%20%20%20%20%20%7B%22extraClasses%22%3A%20%22fa-rotate-0%22%2C%20%22icon%22%3A%20%22info-sign%22%2C%20%22iconColor%22%3A%20%22white%22%2C%20%22markerColor%22%3A%20%22red%22%2C%20%22prefix%22%3A%20%22glyphicon%22%7D%0A%20%20%20%20%20%20%20%20%20%20%20%20%29%3B%0A%20%20%20%20%20%20%20%20%20%20%20%20marker_21bf38198e634828be0bc5fe826771b5.setIcon%28icon_b81a80d989c64870b9bffa261a390459%29%3B%0A%20%20%20%20%20%20%20%20%0A%20%20%20%20%0A%20%20%20%20%20%20%20%20var%20popup_3f46068f132141d6b2c4b85f2b4df8ec%20%3D%20L.popup%28%7B%22maxWidth%22%3A%20500%7D%29%3B%0A%0A%20%20%20%20%20%20%20%20%0A%20%20%20%20%20%20%20%20%20%20%20%20var%20html_68179d8a11c640b58d41abfaca84db3f%20%3D%20%24%28%60%3Cdiv%20id%3D%22html_68179d8a11c640b58d41abfaca84db3f%22%20style%3D%22width%3A%20100.0%25%3B%20height%3A%20100.0%25%3B%22%3E%3Ch4%3E%3Cb%3E%3Cp%20style%3D%22text-align%3Acenter%3B%22%3ELBM%20LABOSUD%20BOUJAN%20SUR%20LIBRON%3C/p%3E%3C/b%3E%3C/h4%3E%3Cbr%3E%3Ch5%3E%3Cb%3EAdresse%20%3A%20%3C/b%3E%3C/h5%3E12%20Rue%20de%20la%20Margeride%20-%20Clinique%20St%20Privat-%20B%C3%A2timent%20des%20consultations%204%20%2034760%20Boujan-sur-Libron%3Cbr%3E%3Ci%3ELaboratoire%3C/i%3E%3Cbr%3E%3Cstrong%3E%3Cb%3ETest%20RT-PCR%20%3A%20%3C/b%3E%3C/strong%3EOUI%3Cbr%3E%3Cstrong%3E%3Cb%3ETest%20antig%C3%A9nique%20%3A%20%3C/b%3E%3C/strong%3ENON%3Cbr%3E%3Cstrong%3E%3Cb%3EModalit%C3%A9s%20de%20pr%C3%A9l%C3%A8vement%20%3A%20%3C/b%3E%3C/strong%3ESur%20place%3Cbr%3E%3Cstrong%3E%3Cb%3EPublic%20%3A%20%3C/b%3E%3C/strong%3EPatients%20pour%20des%20bilans%20pr%C3%A9-op%C3%A9ratoire%3Cbr%3E%3Cstrong%3E%3Cb%3EAcc%C3%A8s%20%3A%20%3C/b%3E%3C/strong%3ESur%20rendez-vous%20uniquement%3Cbr%3E%3Ch5%3E%3Cb%3EHoraire%20%3A%20%3C/b%3E%3C/h5%3EAppeler%20le%20laboratoire%3Cbr%3E%3Cstrong%3E%3Cb%3EPersonnes%20prioritaires%20%3A%20%3C/b%3E%3C/strong%3E-%3Cbr%3E%3Cstrong%3E%3Cb%3ET%C3%A9l%C3%A9phone%20%3A%20%3C/b%3E%3C/strong%3E04%2067%2076%2089%2060%3Cbr%3E%3Cstrong%3E%3Cb%3ESite%20internet%20%3A%20%3C/b%3E%3C/strong%3ERendez-vous%20par%20t%C3%A9l%C3%A9phone%3C/div%3E%60%29%5B0%5D%3B%0A%20%20%20%20%20%20%20%20%20%20%20%20popup_3f46068f132141d6b2c4b85f2b4df8ec.setContent%28html_68179d8a11c640b58d41abfaca84db3f%29%3B%0A%20%20%20%20%20%20%20%20%0A%0A%20%20%20%20%20%20%20%20marker_21bf38198e634828be0bc5fe826771b5.bindPopup%28popup_3f46068f132141d6b2c4b85f2b4df8ec%29%0A%20%20%20%20%20%20%20%20%3B%0A%0A%20%20%20%20%20%20%20%20%0A%20%20%20%20%0A%20%20%20%20%0A%20%20%20%20%20%20%20%20%20%20%20%20marker_21bf38198e634828be0bc5fe826771b5.bindTooltip%28%0A%20%20%20%20%20%20%20%20%20%20%20%20%20%20%20%20%60%3Cdiv%3E%0A%20%20%20%20%20%20%20%20%20%20%20%20%20%20%20%20%20%20%20%20%20%3Cstrong%3E12%20Rue%20de%20la%20Margeride%20-%20Clinique%20St%20Privat-%20B%C3%A2timent%20des%20consultations%204%20%2034760%20Boujan-sur-Libron%3C/strong%3E%0A%20%20%20%20%20%20%20%20%20%20%20%20%20%20%20%20%20%3C/div%3E%60%2C%0A%20%20%20%20%20%20%20%20%20%20%20%20%20%20%20%20%7B%22sticky%22%3A%20true%7D%0A%20%20%20%20%20%20%20%20%20%20%20%20%29%3B%0A%20%20%20%20%20%20%20%20%0A%20%20%20%20%0A%20%20%20%20%20%20%20%20%20%20%20%20var%20marker_ae9b2617f293426b9d0c1621b3c13090%20%3D%20L.marker%28%0A%20%20%20%20%20%20%20%20%20%20%20%20%20%20%20%20%5B43.9325198626572%2C%203.70297804967399%5D%2C%0A%20%20%20%20%20%20%20%20%20%20%20%20%20%20%20%20%7B%7D%0A%20%20%20%20%20%20%20%20%20%20%20%20%29.addTo%28map_2d6b94ddbdfc4564ac60676369dd8f38%29%3B%0A%20%20%20%20%20%20%20%20%0A%20%20%20%20%0A%20%20%20%20%20%20%20%20%20%20%20%20var%20icon_43a4cefc4a0741ef9939b3edff37344d%20%3D%20L.AwesomeMarkers.icon%28%0A%20%20%20%20%20%20%20%20%20%20%20%20%20%20%20%20%7B%22extraClasses%22%3A%20%22fa-rotate-0%22%2C%20%22icon%22%3A%20%22info-sign%22%2C%20%22iconColor%22%3A%20%22white%22%2C%20%22markerColor%22%3A%20%22red%22%2C%20%22prefix%22%3A%20%22glyphicon%22%7D%0A%20%20%20%20%20%20%20%20%20%20%20%20%29%3B%0A%20%20%20%20%20%20%20%20%20%20%20%20marker_ae9b2617f293426b9d0c1621b3c13090.setIcon%28icon_43a4cefc4a0741ef9939b3edff37344d%29%3B%0A%20%20%20%20%20%20%20%20%0A%20%20%20%20%0A%20%20%20%20%20%20%20%20var%20popup_ee711af8633e47e68ff8948673a3a7d4%20%3D%20L.popup%28%7B%22maxWidth%22%3A%20500%7D%29%3B%0A%0A%20%20%20%20%20%20%20%20%0A%20%20%20%20%20%20%20%20%20%20%20%20var%20html_3d98417c78fa4f299b1f1dbe68eaad56%20%3D%20%24%28%60%3Cdiv%20id%3D%22html_3d98417c78fa4f299b1f1dbe68eaad56%22%20style%3D%22width%3A%20100.0%25%3B%20height%3A%20100.0%25%3B%22%3E%3Ch4%3E%3Cb%3E%3Cp%20style%3D%22text-align%3Acenter%3B%22%3ELBM%20LABOSUD%20GANGES%3C/p%3E%3C/b%3E%3C/h4%3E%3Cbr%3E%3Ch5%3E%3Cb%3EAdresse%20%3A%20%3C/b%3E%3C/h5%3EPolyclinique%20Saint%20Louis%2C%2010%20Place%20Joseph%20Boudouresques%2034190%20Ganges%3Cbr%3E%3Ci%3ECentre%20de%20d%C3%A9pistage%20d%C3%A9di%C3%A9%3C/i%3E%3Cbr%3E%3Cstrong%3E%3Cb%3ETest%20RT-PCR%20%3A%20%3C/b%3E%3C/strong%3EOUI%3Cbr%3E%3Cstrong%3E%3Cb%3ETest%20antig%C3%A9nique%20%3A%20%3C/b%3E%3C/strong%3ENON%3Cbr%3E%3Cstrong%3E%3Cb%3EModalit%C3%A9s%20de%20pr%C3%A9l%C3%A8vement%20%3A%20%3C/b%3E%3C/strong%3EDrive%3Cbr%3E%3Cstrong%3E%3Cb%3EPublic%20%3A%20%3C/b%3E%3C/strong%3ECas%20contacts%20liste%20CPAM/Personnel%20soignant/Patients%20pour%20des%20bilans%20pr%C3%A9-op%C3%A9ratoire/Patients%20avec%20sympt%C3%B4mes%3Cbr%3E%3Cstrong%3E%3Cb%3EAcc%C3%A8s%20%3A%20%3C/b%3E%3C/strong%3ESur%20rendez-vous%20uniquement%3Cbr%3E%3Ch5%3E%3Cb%3EHoraire%20%3A%20%3C/b%3E%3C/h5%3EAppeler%20le%20laboratoire%3Cbr%3E%3Cstrong%3E%3Cb%3EPersonnes%20prioritaires%20%3A%20%3C/b%3E%3C/strong%3E-%3Cbr%3E%3Cstrong%3E%3Cb%3ET%C3%A9l%C3%A9phone%20%3A%20%3C/b%3E%3C/strong%3E-%3Cbr%3E%3Cstrong%3E%3Cb%3ESite%20internet%20%3A%20%3C/b%3E%3C/strong%3Ehttps%3A//labosud.fr/rdvcovid19%3C/div%3E%60%29%5B0%5D%3B%0A%20%20%20%20%20%20%20%20%20%20%20%20popup_ee711af8633e47e68ff8948673a3a7d4.setContent%28html_3d98417c78fa4f299b1f1dbe68eaad56%29%3B%0A%20%20%20%20%20%20%20%20%0A%0A%20%20%20%20%20%20%20%20marker_ae9b2617f293426b9d0c1621b3c13090.bindPopup%28popup_ee711af8633e47e68ff8948673a3a7d4%29%0A%20%20%20%20%20%20%20%20%3B%0A%0A%20%20%20%20%20%20%20%20%0A%20%20%20%20%0A%20%20%20%20%0A%20%20%20%20%20%20%20%20%20%20%20%20marker_ae9b2617f293426b9d0c1621b3c13090.bindTooltip%28%0A%20%20%20%20%20%20%20%20%20%20%20%20%20%20%20%20%60%3Cdiv%3E%0A%20%20%20%20%20%20%20%20%20%20%20%20%20%20%20%20%20%20%20%20%20%3Cstrong%3EPolyclinique%20Saint%20Louis%2C%2010%20Place%20Joseph%20Boudouresques%2034190%20Ganges%3C/strong%3E%0A%20%20%20%20%20%20%20%20%20%20%20%20%20%20%20%20%20%3C/div%3E%60%2C%0A%20%20%20%20%20%20%20%20%20%20%20%20%20%20%20%20%7B%22sticky%22%3A%20true%7D%0A%20%20%20%20%20%20%20%20%20%20%20%20%29%3B%0A%20%20%20%20%20%20%20%20%0A%3C/script%3E onload=\"this.contentDocument.open();this.contentDocument.write(    decodeURIComponent(this.getAttribute('data-html')));this.contentDocument.close();\" allowfullscreen webkitallowfullscreen mozallowfullscreen></iframe></div></div>"
     },
     "metadata": {},
     "execution_count": 8
    }
   ],
   "source": [
    "cvz.map_screening('34', dep_fr, depis_grand_public, depis_acces_restreint)"
   ]
  },
  {
   "source": [
    "## Visualization of the evolution of screening in France according to age group and / or department"
   ],
   "cell_type": "markdown",
   "metadata": {}
  },
  {
   "source": [
    "From https://www.data.gouv.fr/fr/datasets/donnees-relatives-aux-resultats-des-tests-virologiques-covid-19/, we import data on the number of screened per day (since May 13, 2020) according to the age group, but also the department. It is also indicated the number of positive tests."
   ],
   "cell_type": "markdown",
   "metadata": {}
  },
  {
   "cell_type": "code",
   "execution_count": 2,
   "metadata": {},
   "outputs": [],
   "source": [
    "screening_daily = pd.read_csv(\n",
    "    '../covidviz/data/sp-pos-quot-dep-2021-04-16-19h05.csv',\n",
    "    delimiter=';',\n",
    "    low_memory=False)"
   ]
  },
  {
   "source": [
    "This shows the number of daily screening among 30-39 year olds in the Hérault department (34). The color indicates the percentage of positive tests: the more the color intensifies towards yellow, the higher the percentage."
   ],
   "cell_type": "markdown",
   "metadata": {}
  },
  {
   "cell_type": "code",
   "execution_count": 6,
   "metadata": {},
   "outputs": [
    {
     "output_type": "stream",
     "name": "stderr",
     "text": [
      "/Users/stef/opt/anaconda3/envs/stef_env/lib/python3.8/site-packages/pandas/core/frame.py:4308: SettingWithCopyWarning: \nA value is trying to be set on a copy of a slice from a DataFrame\n\nSee the caveats in the documentation: https://pandas.pydata.org/pandas-docs/stable/user_guide/indexing.html#returning-a-view-versus-a-copy\n  return super().drop(\n/Users/stef/opt/anaconda3/envs/stef_env/lib/python3.8/site-packages/pandas/core/frame.py:4308: SettingWithCopyWarning: \nA value is trying to be set on a copy of a slice from a DataFrame\n\nSee the caveats in the documentation: https://pandas.pydata.org/pandas-docs/stable/user_guide/indexing.html#returning-a-view-versus-a-copy\n  return super().drop(\n/Users/stef/opt/anaconda3/envs/stef_env/lib/python3.8/site-packages/pandas/core/frame.py:4308: SettingWithCopyWarning: \nA value is trying to be set on a copy of a slice from a DataFrame\n\nSee the caveats in the documentation: https://pandas.pydata.org/pandas-docs/stable/user_guide/indexing.html#returning-a-view-versus-a-copy\n  return super().drop(\n/Users/stef/opt/anaconda3/envs/stef_env/lib/python3.8/site-packages/pandas/core/frame.py:4308: SettingWithCopyWarning: \nA value is trying to be set on a copy of a slice from a DataFrame\n\nSee the caveats in the documentation: https://pandas.pydata.org/pandas-docs/stable/user_guide/indexing.html#returning-a-view-versus-a-copy\n  return super().drop(\n/Users/stef/opt/anaconda3/envs/stef_env/lib/python3.8/site-packages/pandas/core/frame.py:4308: SettingWithCopyWarning: \nA value is trying to be set on a copy of a slice from a DataFrame\n\nSee the caveats in the documentation: https://pandas.pydata.org/pandas-docs/stable/user_guide/indexing.html#returning-a-view-versus-a-copy\n  return super().drop(\n/Users/stef/opt/anaconda3/envs/stef_env/lib/python3.8/site-packages/pandas/core/frame.py:4308: SettingWithCopyWarning: \nA value is trying to be set on a copy of a slice from a DataFrame\n\nSee the caveats in the documentation: https://pandas.pydata.org/pandas-docs/stable/user_guide/indexing.html#returning-a-view-versus-a-copy\n  return super().drop(\n/Users/stef/opt/anaconda3/envs/stef_env/lib/python3.8/site-packages/pandas/core/frame.py:4308: SettingWithCopyWarning: \nA value is trying to be set on a copy of a slice from a DataFrame\n\nSee the caveats in the documentation: https://pandas.pydata.org/pandas-docs/stable/user_guide/indexing.html#returning-a-view-versus-a-copy\n  return super().drop(\n/Users/stef/opt/anaconda3/envs/stef_env/lib/python3.8/site-packages/pandas/core/frame.py:4308: SettingWithCopyWarning: \nA value is trying to be set on a copy of a slice from a DataFrame\n\nSee the caveats in the documentation: https://pandas.pydata.org/pandas-docs/stable/user_guide/indexing.html#returning-a-view-versus-a-copy\n  return super().drop(\n/Users/stef/opt/anaconda3/envs/stef_env/lib/python3.8/site-packages/pandas/core/frame.py:4308: SettingWithCopyWarning: \nA value is trying to be set on a copy of a slice from a DataFrame\n\nSee the caveats in the documentation: https://pandas.pydata.org/pandas-docs/stable/user_guide/indexing.html#returning-a-view-versus-a-copy\n  return super().drop(\n/Users/stef/opt/anaconda3/envs/stef_env/lib/python3.8/site-packages/pandas/core/frame.py:4308: SettingWithCopyWarning: \nA value is trying to be set on a copy of a slice from a DataFrame\n\nSee the caveats in the documentation: https://pandas.pydata.org/pandas-docs/stable/user_guide/indexing.html#returning-a-view-versus-a-copy\n  return super().drop(\n/Users/stef/opt/anaconda3/envs/stef_env/lib/python3.8/site-packages/pandas/core/frame.py:4308: SettingWithCopyWarning: \nA value is trying to be set on a copy of a slice from a DataFrame\n\nSee the caveats in the documentation: https://pandas.pydata.org/pandas-docs/stable/user_guide/indexing.html#returning-a-view-versus-a-copy\n  return super().drop(\n"
     ]
    },
    {
     "output_type": "display_data",
     "data": {
      "application/vnd.plotly.v1+json": {
       "config": {
        "plotlyServerURL": "https://plot.ly"
       },
       "data": [
        {
         "alignmentgroup": "True",
         "hovertemplate": "date=%{x}<br>Tests number=%{y}<br>% positive tests=%{marker.color}<extra></extra>",
         "legendgroup": "",
         "marker": {
          "color": [
           0,
           0,
           0.591715976331361,
           0,
           0,
           1.3333333333333335,
           1.1235955056179776,
           0.5617977528089888,
           0,
           0.6756756756756757,
           0,
           0,
           0.6097560975609756,
           0,
           0,
           0.6666666666666667,
           0,
           2.564102564102564,
           0,
           0,
           0.6369426751592357,
           0,
           0,
           0,
           0,
           0,
           0,
           0,
           0,
           0.9433962264150944,
           0,
           0,
           0,
           0.6329113924050633,
           0,
           0,
           0,
           0.7352941176470588,
           0,
           0,
           0.6451612903225806,
           0,
           1.7699115044247788,
           0,
           1.7699115044247788,
           0,
           0,
           0.5405405405405406,
           0,
           0.6944444444444444,
           0,
           0.6756756756756757,
           4.10958904109589,
           0,
           0.5847953216374269,
           0.6369426751592357,
           1.0050251256281406,
           0,
           0.9009009009009009,
           1.1235955056179776,
           0,
           0.35211267605633806,
           0,
           0.39370078740157477,
           0.6369426751592357,
           0.35335689045936397,
           0.6134969325153374,
           0,
           1.7064846416382253,
           0.6944444444444444,
           1.4234875444839856,
           0.7168458781362007,
           1.3201320132013201,
           1.1976047904191618,
           0,
           1.0443864229765014,
           0.6230529595015576,
           0,
           0.5952380952380952,
           1.557632398753894,
           0,
           0,
           1.1527377521613833,
           0.7662835249042145,
           1.8518518518518516,
           0.5405405405405406,
           0.27472527472527475,
           3.0864197530864197,
           0,
           2.73972602739726,
           3.7940379403794036,
           3.91304347826087,
           6.0546875,
           4.329896907216495,
           1.0416666666666665,
           2.0408163265306123,
           7.03851261620186,
           5.625,
           5.272108843537415,
           4.38871473354232,
           3.762662807525326,
           4.577464788732395,
           5.333333333333334,
           4.3478260869565215,
           4.615384615384616,
           4.819277108433735,
           5.614973262032086,
           4.768211920529802,
           3.4482758620689653,
           12.048192771084338,
           5.094614264919942,
           4.240766073871409,
           6.185567010309279,
           4.913294797687861,
           4.172274562584119,
           5.164319248826291,
           4.938271604938271,
           4.411764705882353,
           5.459387483355526,
           4.784688995215311,
           5.5369127516778525,
           2.954209748892171,
           4.048582995951417,
           3.4482758620689653,
           4.615384615384616,
           3.880597014925373,
           4.690117252931323,
           5.901639344262295,
           6.572769953051644,
           6.530612244897959,
           7.792207792207792,
           6.54490106544901,
           5.623901581722319,
           5.133470225872689,
           6.854838709677419,
           5.565217391304348,
           5.627705627705628,
           5.263157894736842,
           6.7164179104477615,
           6.474820143884892,
           7.8152753108348145,
           6.294964028776978,
           6.885758998435055,
           11.702127659574469,
           9.523809523809524,
           8.916323731138547,
           8.12603648424544,
           11.194029850746269,
           8.874172185430464,
           7.459207459207459,
           13.569321533923304,
           7.6923076923076925,
           8.535178777393309,
           9.06113537117904,
           8.596300326441785,
           9.528907922912206,
           8.512720156555773,
           11.547344110854503,
           8.641975308641975,
           12.312633832976445,
           12.684031710079275,
           15.59432933478735,
           13.761467889908257,
           13.903743315508022,
           17.75544388609715,
           10.92436974789916,
           13.673655423883318,
           11.130587204206837,
           13.368513632365875,
           13.249776186213072,
           10.749774164408311,
           11.83533447684391,
           11.11111111111111,
           14.054927302100161,
           13.760504201680673,
           11.867905056759547,
           11.50278293135436,
           9.1324200913242,
           11.055276381909549,
           14.285714285714285,
           13.095238095238097,
           7.667386609071274,
           3.90625,
           7.399347116430903,
           7.773851590106007,
           5.982905982905983,
           4.838709677419355,
           7.275320970042796,
           4.107648725212465,
           5.172413793103448,
           4.591836734693878,
           3.7135278514588856,
           3.594771241830065,
           6.25,
           5.546995377503852,
           3.8461538461538463,
           3.6585365853658534,
           3.431372549019608,
           3.8461538461538463,
           2.2857142857142856,
           3.125,
           4.140127388535031,
           2.135231316725979,
           1.5706806282722512,
           3.872053872053872,
           2.750809061488673,
           4.482758620689655,
           1,
           3.6127167630057806,
           3.953147877013177,
           3.041144901610018,
           4.654654654654655,
           3.75,
           4.166666666666666,
           3.1578947368421053,
           4.232804232804233,
           2.797202797202797,
           3.2653061224489797,
           2.4875621890547266,
           2.3399014778325125,
           2.9644268774703555,
           1.2987012987012987,
           1.6624685138539042,
           1.4435695538057742,
           1.2366034624896949,
           1.5196078431372548,
           4.3478260869565215,
           2.717391304347826,
           5.109489051094891,
           4.08673894912427,
           4.618284637134779,
           2.907488986784141,
           3.0947775628626695,
           0,
           3.8580246913580245,
           5.785123966942149,
           5.590062111801243,
           3.967446592065107,
           3.9755351681957185,
           4.1707080504364695,
           5.075187969924812,
           5.465587044534413,
           4.23728813559322,
           6.170421155729676,
           5.0732807215332585,
           4.051172707889126,
           5.391658189216684,
           4.233301975540922,
           5.792163543441227,
           4.6875,
           5.529953917050691,
           5.036726128016789,
           4.253214638971316,
           5.802707930367505,
           4.918032786885246,
           5.140961857379768,
           1.9230769230769231,
           5.777400169923534,
           4.085801838610827,
           3.789279112754159,
           4.195804195804196,
           3.0927835051546393,
           4.369747899159663,
           5.555555555555555,
           4.616652926628195,
           2.8901734104046244,
           4.5142296368989205,
           3.554274735830932,
           4.194078947368421,
           5.445544554455446,
           4.8,
           7.375643224699828,
           5.267702936096718,
           3.926701570680628,
           5.14018691588785,
           3.490909090909091,
           4.354354354354354,
           5.660377358490567,
           4.787234042553192,
           3.6511156186612577,
           4.631578947368421,
           3.7453183520599254,
           6.275805119735756,
           5.518394648829431,
           2,
           7.65262252794497,
           5.251875669882101,
           6.021505376344086,
           5.555555555555555,
           5.21901211556384,
           5.9259259259259265,
           5.263157894736842,
           6.261682242990655,
           5.163329820864067,
           4.477611940298507,
           7.126948775055679,
           4.453049370764763,
           5.181347150259067,
           2.1739130434782608,
           7.019230769230769,
           5.698924731182796,
           4.439746300211417,
           4.516129032258064,
           5.062362435803375,
           5.2259887005649714,
           4.166666666666666,
           8.426073131955485,
           5.173951828724353,
           6.0578661844484625,
           6.147540983606557,
           5.483870967741936,
           5.758426966292135,
           9.649122807017543,
           8.452624403544649,
           7.0588235294117645,
           6.1390532544378695,
           5.672823218997362,
           6.274957216200798,
           5.197505197505198,
           5.555555555555555,
           8.12431842966194,
           6.822262118491921,
           6.261624302541848,
           5.9159314997405295,
           4.753597906672481,
           6.428571428571428,
           8.391608391608392,
           9.688581314878892,
           8.962264150943396,
           7.765023632680622,
           7.636363636363637,
           6.501950585175553,
           5.658198614318707,
           5.555555555555555,
           10.530085959885387,
           7.733333333333333
          ],
          "coloraxis": "coloraxis"
         },
         "name": "",
         "offsetgroup": "",
         "orientation": "v",
         "showlegend": false,
         "textposition": "auto",
         "type": "bar",
         "x": [
          "2020-05-13",
          "2020-05-14",
          "2020-05-15",
          "2020-05-16",
          "2020-05-17",
          "2020-05-18",
          "2020-05-19",
          "2020-05-20",
          "2020-05-21",
          "2020-05-22",
          "2020-05-23",
          "2020-05-24",
          "2020-05-25",
          "2020-05-26",
          "2020-05-27",
          "2020-05-28",
          "2020-05-29",
          "2020-05-30",
          "2020-05-31",
          "2020-06-01",
          "2020-06-02",
          "2020-06-03",
          "2020-06-04",
          "2020-06-05",
          "2020-06-06",
          "2020-06-07",
          "2020-06-08",
          "2020-06-09",
          "2020-06-10",
          "2020-06-11",
          "2020-06-12",
          "2020-06-13",
          "2020-06-14",
          "2020-06-15",
          "2020-06-16",
          "2020-06-17",
          "2020-06-18",
          "2020-06-19",
          "2020-06-20",
          "2020-06-21",
          "2020-06-22",
          "2020-06-23",
          "2020-06-24",
          "2020-06-25",
          "2020-06-26",
          "2020-06-27",
          "2020-06-28",
          "2020-06-29",
          "2020-06-30",
          "2020-07-01",
          "2020-07-02",
          "2020-07-03",
          "2020-07-04",
          "2020-07-05",
          "2020-07-06",
          "2020-07-07",
          "2020-07-08",
          "2020-07-09",
          "2020-07-10",
          "2020-07-11",
          "2020-07-12",
          "2020-07-13",
          "2020-07-14",
          "2020-07-15",
          "2020-07-16",
          "2020-07-17",
          "2020-07-18",
          "2020-07-19",
          "2020-07-20",
          "2020-07-21",
          "2020-07-22",
          "2020-07-23",
          "2020-07-24",
          "2020-07-25",
          "2020-07-26",
          "2020-07-27",
          "2020-07-28",
          "2020-07-29",
          "2020-07-30",
          "2020-07-31",
          "2020-08-01",
          "2020-08-02",
          "2020-08-03",
          "2020-08-04",
          "2020-08-05",
          "2020-08-06",
          "2020-08-07",
          "2020-08-08",
          "2020-08-09",
          "2020-08-10",
          "2020-08-11",
          "2020-08-12",
          "2020-08-13",
          "2020-08-14",
          "2020-08-15",
          "2020-08-16",
          "2020-08-17",
          "2020-08-18",
          "2020-08-19",
          "2020-08-20",
          "2020-08-21",
          "2020-08-22",
          "2020-08-23",
          "2020-08-24",
          "2020-08-25",
          "2020-08-26",
          "2020-08-27",
          "2020-08-28",
          "2020-08-29",
          "2020-08-30",
          "2020-08-31",
          "2020-09-01",
          "2020-09-02",
          "2020-09-03",
          "2020-09-04",
          "2020-09-05",
          "2020-09-06",
          "2020-09-07",
          "2020-09-08",
          "2020-09-09",
          "2020-09-10",
          "2020-09-11",
          "2020-09-12",
          "2020-09-13",
          "2020-09-14",
          "2020-09-15",
          "2020-09-16",
          "2020-09-17",
          "2020-09-18",
          "2020-09-19",
          "2020-09-20",
          "2020-09-21",
          "2020-09-22",
          "2020-09-23",
          "2020-09-24",
          "2020-09-25",
          "2020-09-26",
          "2020-09-27",
          "2020-09-28",
          "2020-09-29",
          "2020-09-30",
          "2020-10-01",
          "2020-10-02",
          "2020-10-03",
          "2020-10-04",
          "2020-10-05",
          "2020-10-06",
          "2020-10-07",
          "2020-10-08",
          "2020-10-09",
          "2020-10-10",
          "2020-10-11",
          "2020-10-12",
          "2020-10-13",
          "2020-10-14",
          "2020-10-15",
          "2020-10-16",
          "2020-10-17",
          "2020-10-18",
          "2020-10-19",
          "2020-10-20",
          "2020-10-21",
          "2020-10-22",
          "2020-10-23",
          "2020-10-24",
          "2020-10-25",
          "2020-10-26",
          "2020-10-27",
          "2020-10-28",
          "2020-10-29",
          "2020-10-30",
          "2020-10-31",
          "2020-11-01",
          "2020-11-02",
          "2020-11-03",
          "2020-11-04",
          "2020-11-05",
          "2020-11-06",
          "2020-11-07",
          "2020-11-08",
          "2020-11-09",
          "2020-11-10",
          "2020-11-11",
          "2020-11-12",
          "2020-11-13",
          "2020-11-14",
          "2020-11-15",
          "2020-11-16",
          "2020-11-17",
          "2020-11-18",
          "2020-11-19",
          "2020-11-20",
          "2020-11-21",
          "2020-11-22",
          "2020-11-23",
          "2020-11-24",
          "2020-11-25",
          "2020-11-26",
          "2020-11-27",
          "2020-11-28",
          "2020-11-29",
          "2020-11-30",
          "2020-12-01",
          "2020-12-02",
          "2020-12-03",
          "2020-12-04",
          "2020-12-05",
          "2020-12-06",
          "2020-12-07",
          "2020-12-08",
          "2020-12-09",
          "2020-12-10",
          "2020-12-11",
          "2020-12-12",
          "2020-12-13",
          "2020-12-14",
          "2020-12-15",
          "2020-12-16",
          "2020-12-17",
          "2020-12-18",
          "2020-12-19",
          "2020-12-20",
          "2020-12-21",
          "2020-12-22",
          "2020-12-23",
          "2020-12-24",
          "2020-12-25",
          "2020-12-26",
          "2020-12-27",
          "2020-12-28",
          "2020-12-29",
          "2020-12-30",
          "2020-12-31",
          "2021-01-01",
          "2021-01-02",
          "2021-01-03",
          "2021-01-04",
          "2021-01-05",
          "2021-01-06",
          "2021-01-07",
          "2021-01-08",
          "2021-01-09",
          "2021-01-10",
          "2021-01-11",
          "2021-01-12",
          "2021-01-13",
          "2021-01-14",
          "2021-01-15",
          "2021-01-16",
          "2021-01-17",
          "2021-01-18",
          "2021-01-19",
          "2021-01-20",
          "2021-01-21",
          "2021-01-22",
          "2021-01-23",
          "2021-01-24",
          "2021-01-25",
          "2021-01-26",
          "2021-01-27",
          "2021-01-28",
          "2021-01-29",
          "2021-01-30",
          "2021-01-31",
          "2021-02-01",
          "2021-02-02",
          "2021-02-03",
          "2021-02-04",
          "2021-02-05",
          "2021-02-06",
          "2021-02-07",
          "2021-02-08",
          "2021-02-09",
          "2021-02-10",
          "2021-02-11",
          "2021-02-12",
          "2021-02-13",
          "2021-02-14",
          "2021-02-15",
          "2021-02-16",
          "2021-02-17",
          "2021-02-18",
          "2021-02-19",
          "2021-02-20",
          "2021-02-21",
          "2021-02-22",
          "2021-02-23",
          "2021-02-24",
          "2021-02-25",
          "2021-02-26",
          "2021-02-27",
          "2021-02-28",
          "2021-03-01",
          "2021-03-02",
          "2021-03-03",
          "2021-03-04",
          "2021-03-05",
          "2021-03-06",
          "2021-03-07",
          "2021-03-08",
          "2021-03-09",
          "2021-03-10",
          "2021-03-11",
          "2021-03-12",
          "2021-03-13",
          "2021-03-14",
          "2021-03-15",
          "2021-03-16",
          "2021-03-17",
          "2021-03-18",
          "2021-03-19",
          "2021-03-20",
          "2021-03-21",
          "2021-03-22",
          "2021-03-23",
          "2021-03-24",
          "2021-03-25",
          "2021-03-26",
          "2021-03-27",
          "2021-03-28",
          "2021-03-29",
          "2021-03-30",
          "2021-03-31",
          "2021-04-01",
          "2021-04-02",
          "2021-04-03",
          "2021-04-04",
          "2021-04-05",
          "2021-04-06",
          "2021-04-07",
          "2021-04-08",
          "2021-04-09",
          "2021-04-10",
          "2021-04-11",
          "2021-04-12",
          "2021-04-13"
         ],
         "xaxis": "x",
         "y": [
          150,
          114,
          169,
          92,
          12,
          150,
          178,
          178,
          10,
          148,
          62,
          13,
          164,
          166,
          134,
          150,
          188,
          78,
          32,
          37,
          157,
          162,
          117,
          165,
          72,
          14,
          188,
          170,
          124,
          106,
          140,
          71,
          16,
          158,
          148,
          88,
          89,
          136,
          47,
          17,
          155,
          106,
          113,
          110,
          113,
          61,
          22,
          185,
          132,
          144,
          120,
          148,
          73,
          24,
          171,
          157,
          199,
          164,
          222,
          89,
          33,
          284,
          44,
          254,
          314,
          283,
          163,
          36,
          293,
          288,
          281,
          279,
          303,
          167,
          37,
          383,
          321,
          316,
          336,
          321,
          118,
          34,
          347,
          261,
          270,
          370,
          364,
          162,
          59,
          365,
          369,
          460,
          512,
          485,
          96,
          49,
          753,
          640,
          588,
          638,
          691,
          284,
          75,
          690,
          650,
          664,
          748,
          755,
          261,
          83,
          687,
          731,
          679,
          692,
          743,
          213,
          81,
          748,
          751,
          627,
          596,
          677,
          247,
          116,
          780,
          670,
          597,
          610,
          639,
          245,
          77,
          657,
          569,
          487,
          496,
          575,
          231,
          76,
          536,
          556,
          563,
          556,
          639,
          282,
          84,
          729,
          603,
          670,
          755,
          858,
          339,
          78,
          867,
          916,
          919,
          934,
          1022,
          433,
          162,
          934,
          883,
          917,
          1090,
          1122,
          597,
          119,
          1097,
          1141,
          1137,
          1117,
          1107,
          583,
          72,
          1238,
          952,
          969,
          1078,
          1095,
          398,
          105,
          1008,
          926,
          128,
          919,
          849,
          351,
          62,
          701,
          706,
          580,
          588,
          754,
          306,
          48,
          649,
          572,
          574,
          612,
          598,
          350,
          64,
          628,
          562,
          573,
          594,
          618,
          290,
          100,
          692,
          683,
          559,
          666,
          800,
          384,
          95,
          945,
          858,
          980,
          1206,
          1624,
          1012,
          231,
          1985,
          2286,
          2426,
          2040,
          92,
          920,
          137,
          1199,
          1061,
          1135,
          1034,
          74,
          648,
          121,
          1288,
          983,
          981,
          1031,
          1064,
          494,
          118,
          1021,
          887,
          938,
          983,
          1063,
          587,
          128,
          1085,
          953,
          1011,
          1034,
          1159,
          603,
          104,
          1177,
          979,
          1082,
          1144,
          1261,
          595,
          108,
          1213,
          1038,
          1019,
          1041,
          1216,
          606,
          125,
          1166,
          1158,
          1146,
          1070,
          1375,
          666,
          106,
          1128,
          986,
          950,
          1068,
          1211,
          598,
          100,
          1163,
          933,
          930,
          936,
          1073,
          540,
          114,
          1070,
          949,
          938,
          898,
          1033,
          579,
          92,
          1040,
          930,
          946,
          1085,
          1363,
          708,
          96,
          1258,
          1121,
          1106,
          1220,
          1550,
          712,
          114,
          1467,
          1360,
          1352,
          1516,
          1753,
          962,
          126,
          1834,
          1671,
          1613,
          1927,
          2293,
          1120,
          143,
          289,
          1908,
          1481,
          1375,
          1538,
          866,
          180,
          1396,
          1125
         ],
         "yaxis": "y"
        }
       ],
       "layout": {
        "barmode": "relative",
        "coloraxis": {
         "colorbar": {
          "title": {
           "text": "% positive tests"
          }
         },
         "colorscale": [
          [
           0,
           "#0d0887"
          ],
          [
           0.1111111111111111,
           "#46039f"
          ],
          [
           0.2222222222222222,
           "#7201a8"
          ],
          [
           0.3333333333333333,
           "#9c179e"
          ],
          [
           0.4444444444444444,
           "#bd3786"
          ],
          [
           0.5555555555555556,
           "#d8576b"
          ],
          [
           0.6666666666666666,
           "#ed7953"
          ],
          [
           0.7777777777777778,
           "#fb9f3a"
          ],
          [
           0.8888888888888888,
           "#fdca26"
          ],
          [
           1,
           "#f0f921"
          ]
         ]
        },
        "height": 600,
        "legend": {
         "tracegroupgap": 0
        },
        "template": {
         "data": {
          "bar": [
           {
            "error_x": {
             "color": "#2a3f5f"
            },
            "error_y": {
             "color": "#2a3f5f"
            },
            "marker": {
             "line": {
              "color": "#E5ECF6",
              "width": 0.5
             }
            },
            "type": "bar"
           }
          ],
          "barpolar": [
           {
            "marker": {
             "line": {
              "color": "#E5ECF6",
              "width": 0.5
             }
            },
            "type": "barpolar"
           }
          ],
          "carpet": [
           {
            "aaxis": {
             "endlinecolor": "#2a3f5f",
             "gridcolor": "white",
             "linecolor": "white",
             "minorgridcolor": "white",
             "startlinecolor": "#2a3f5f"
            },
            "baxis": {
             "endlinecolor": "#2a3f5f",
             "gridcolor": "white",
             "linecolor": "white",
             "minorgridcolor": "white",
             "startlinecolor": "#2a3f5f"
            },
            "type": "carpet"
           }
          ],
          "choropleth": [
           {
            "colorbar": {
             "outlinewidth": 0,
             "ticks": ""
            },
            "type": "choropleth"
           }
          ],
          "contour": [
           {
            "colorbar": {
             "outlinewidth": 0,
             "ticks": ""
            },
            "colorscale": [
             [
              0,
              "#0d0887"
             ],
             [
              0.1111111111111111,
              "#46039f"
             ],
             [
              0.2222222222222222,
              "#7201a8"
             ],
             [
              0.3333333333333333,
              "#9c179e"
             ],
             [
              0.4444444444444444,
              "#bd3786"
             ],
             [
              0.5555555555555556,
              "#d8576b"
             ],
             [
              0.6666666666666666,
              "#ed7953"
             ],
             [
              0.7777777777777778,
              "#fb9f3a"
             ],
             [
              0.8888888888888888,
              "#fdca26"
             ],
             [
              1,
              "#f0f921"
             ]
            ],
            "type": "contour"
           }
          ],
          "contourcarpet": [
           {
            "colorbar": {
             "outlinewidth": 0,
             "ticks": ""
            },
            "type": "contourcarpet"
           }
          ],
          "heatmap": [
           {
            "colorbar": {
             "outlinewidth": 0,
             "ticks": ""
            },
            "colorscale": [
             [
              0,
              "#0d0887"
             ],
             [
              0.1111111111111111,
              "#46039f"
             ],
             [
              0.2222222222222222,
              "#7201a8"
             ],
             [
              0.3333333333333333,
              "#9c179e"
             ],
             [
              0.4444444444444444,
              "#bd3786"
             ],
             [
              0.5555555555555556,
              "#d8576b"
             ],
             [
              0.6666666666666666,
              "#ed7953"
             ],
             [
              0.7777777777777778,
              "#fb9f3a"
             ],
             [
              0.8888888888888888,
              "#fdca26"
             ],
             [
              1,
              "#f0f921"
             ]
            ],
            "type": "heatmap"
           }
          ],
          "heatmapgl": [
           {
            "colorbar": {
             "outlinewidth": 0,
             "ticks": ""
            },
            "colorscale": [
             [
              0,
              "#0d0887"
             ],
             [
              0.1111111111111111,
              "#46039f"
             ],
             [
              0.2222222222222222,
              "#7201a8"
             ],
             [
              0.3333333333333333,
              "#9c179e"
             ],
             [
              0.4444444444444444,
              "#bd3786"
             ],
             [
              0.5555555555555556,
              "#d8576b"
             ],
             [
              0.6666666666666666,
              "#ed7953"
             ],
             [
              0.7777777777777778,
              "#fb9f3a"
             ],
             [
              0.8888888888888888,
              "#fdca26"
             ],
             [
              1,
              "#f0f921"
             ]
            ],
            "type": "heatmapgl"
           }
          ],
          "histogram": [
           {
            "marker": {
             "colorbar": {
              "outlinewidth": 0,
              "ticks": ""
             }
            },
            "type": "histogram"
           }
          ],
          "histogram2d": [
           {
            "colorbar": {
             "outlinewidth": 0,
             "ticks": ""
            },
            "colorscale": [
             [
              0,
              "#0d0887"
             ],
             [
              0.1111111111111111,
              "#46039f"
             ],
             [
              0.2222222222222222,
              "#7201a8"
             ],
             [
              0.3333333333333333,
              "#9c179e"
             ],
             [
              0.4444444444444444,
              "#bd3786"
             ],
             [
              0.5555555555555556,
              "#d8576b"
             ],
             [
              0.6666666666666666,
              "#ed7953"
             ],
             [
              0.7777777777777778,
              "#fb9f3a"
             ],
             [
              0.8888888888888888,
              "#fdca26"
             ],
             [
              1,
              "#f0f921"
             ]
            ],
            "type": "histogram2d"
           }
          ],
          "histogram2dcontour": [
           {
            "colorbar": {
             "outlinewidth": 0,
             "ticks": ""
            },
            "colorscale": [
             [
              0,
              "#0d0887"
             ],
             [
              0.1111111111111111,
              "#46039f"
             ],
             [
              0.2222222222222222,
              "#7201a8"
             ],
             [
              0.3333333333333333,
              "#9c179e"
             ],
             [
              0.4444444444444444,
              "#bd3786"
             ],
             [
              0.5555555555555556,
              "#d8576b"
             ],
             [
              0.6666666666666666,
              "#ed7953"
             ],
             [
              0.7777777777777778,
              "#fb9f3a"
             ],
             [
              0.8888888888888888,
              "#fdca26"
             ],
             [
              1,
              "#f0f921"
             ]
            ],
            "type": "histogram2dcontour"
           }
          ],
          "mesh3d": [
           {
            "colorbar": {
             "outlinewidth": 0,
             "ticks": ""
            },
            "type": "mesh3d"
           }
          ],
          "parcoords": [
           {
            "line": {
             "colorbar": {
              "outlinewidth": 0,
              "ticks": ""
             }
            },
            "type": "parcoords"
           }
          ],
          "pie": [
           {
            "automargin": true,
            "type": "pie"
           }
          ],
          "scatter": [
           {
            "marker": {
             "colorbar": {
              "outlinewidth": 0,
              "ticks": ""
             }
            },
            "type": "scatter"
           }
          ],
          "scatter3d": [
           {
            "line": {
             "colorbar": {
              "outlinewidth": 0,
              "ticks": ""
             }
            },
            "marker": {
             "colorbar": {
              "outlinewidth": 0,
              "ticks": ""
             }
            },
            "type": "scatter3d"
           }
          ],
          "scattercarpet": [
           {
            "marker": {
             "colorbar": {
              "outlinewidth": 0,
              "ticks": ""
             }
            },
            "type": "scattercarpet"
           }
          ],
          "scattergeo": [
           {
            "marker": {
             "colorbar": {
              "outlinewidth": 0,
              "ticks": ""
             }
            },
            "type": "scattergeo"
           }
          ],
          "scattergl": [
           {
            "marker": {
             "colorbar": {
              "outlinewidth": 0,
              "ticks": ""
             }
            },
            "type": "scattergl"
           }
          ],
          "scattermapbox": [
           {
            "marker": {
             "colorbar": {
              "outlinewidth": 0,
              "ticks": ""
             }
            },
            "type": "scattermapbox"
           }
          ],
          "scatterpolar": [
           {
            "marker": {
             "colorbar": {
              "outlinewidth": 0,
              "ticks": ""
             }
            },
            "type": "scatterpolar"
           }
          ],
          "scatterpolargl": [
           {
            "marker": {
             "colorbar": {
              "outlinewidth": 0,
              "ticks": ""
             }
            },
            "type": "scatterpolargl"
           }
          ],
          "scatterternary": [
           {
            "marker": {
             "colorbar": {
              "outlinewidth": 0,
              "ticks": ""
             }
            },
            "type": "scatterternary"
           }
          ],
          "surface": [
           {
            "colorbar": {
             "outlinewidth": 0,
             "ticks": ""
            },
            "colorscale": [
             [
              0,
              "#0d0887"
             ],
             [
              0.1111111111111111,
              "#46039f"
             ],
             [
              0.2222222222222222,
              "#7201a8"
             ],
             [
              0.3333333333333333,
              "#9c179e"
             ],
             [
              0.4444444444444444,
              "#bd3786"
             ],
             [
              0.5555555555555556,
              "#d8576b"
             ],
             [
              0.6666666666666666,
              "#ed7953"
             ],
             [
              0.7777777777777778,
              "#fb9f3a"
             ],
             [
              0.8888888888888888,
              "#fdca26"
             ],
             [
              1,
              "#f0f921"
             ]
            ],
            "type": "surface"
           }
          ],
          "table": [
           {
            "cells": {
             "fill": {
              "color": "#EBF0F8"
             },
             "line": {
              "color": "white"
             }
            },
            "header": {
             "fill": {
              "color": "#C8D4E3"
             },
             "line": {
              "color": "white"
             }
            },
            "type": "table"
           }
          ]
         },
         "layout": {
          "annotationdefaults": {
           "arrowcolor": "#2a3f5f",
           "arrowhead": 0,
           "arrowwidth": 1
          },
          "autotypenumbers": "strict",
          "coloraxis": {
           "colorbar": {
            "outlinewidth": 0,
            "ticks": ""
           }
          },
          "colorscale": {
           "diverging": [
            [
             0,
             "#8e0152"
            ],
            [
             0.1,
             "#c51b7d"
            ],
            [
             0.2,
             "#de77ae"
            ],
            [
             0.3,
             "#f1b6da"
            ],
            [
             0.4,
             "#fde0ef"
            ],
            [
             0.5,
             "#f7f7f7"
            ],
            [
             0.6,
             "#e6f5d0"
            ],
            [
             0.7,
             "#b8e186"
            ],
            [
             0.8,
             "#7fbc41"
            ],
            [
             0.9,
             "#4d9221"
            ],
            [
             1,
             "#276419"
            ]
           ],
           "sequential": [
            [
             0,
             "#0d0887"
            ],
            [
             0.1111111111111111,
             "#46039f"
            ],
            [
             0.2222222222222222,
             "#7201a8"
            ],
            [
             0.3333333333333333,
             "#9c179e"
            ],
            [
             0.4444444444444444,
             "#bd3786"
            ],
            [
             0.5555555555555556,
             "#d8576b"
            ],
            [
             0.6666666666666666,
             "#ed7953"
            ],
            [
             0.7777777777777778,
             "#fb9f3a"
            ],
            [
             0.8888888888888888,
             "#fdca26"
            ],
            [
             1,
             "#f0f921"
            ]
           ],
           "sequentialminus": [
            [
             0,
             "#0d0887"
            ],
            [
             0.1111111111111111,
             "#46039f"
            ],
            [
             0.2222222222222222,
             "#7201a8"
            ],
            [
             0.3333333333333333,
             "#9c179e"
            ],
            [
             0.4444444444444444,
             "#bd3786"
            ],
            [
             0.5555555555555556,
             "#d8576b"
            ],
            [
             0.6666666666666666,
             "#ed7953"
            ],
            [
             0.7777777777777778,
             "#fb9f3a"
            ],
            [
             0.8888888888888888,
             "#fdca26"
            ],
            [
             1,
             "#f0f921"
            ]
           ]
          },
          "colorway": [
           "#636efa",
           "#EF553B",
           "#00cc96",
           "#ab63fa",
           "#FFA15A",
           "#19d3f3",
           "#FF6692",
           "#B6E880",
           "#FF97FF",
           "#FECB52"
          ],
          "font": {
           "color": "#2a3f5f"
          },
          "geo": {
           "bgcolor": "white",
           "lakecolor": "white",
           "landcolor": "#E5ECF6",
           "showlakes": true,
           "showland": true,
           "subunitcolor": "white"
          },
          "hoverlabel": {
           "align": "left"
          },
          "hovermode": "closest",
          "mapbox": {
           "style": "light"
          },
          "paper_bgcolor": "white",
          "plot_bgcolor": "#E5ECF6",
          "polar": {
           "angularaxis": {
            "gridcolor": "white",
            "linecolor": "white",
            "ticks": ""
           },
           "bgcolor": "#E5ECF6",
           "radialaxis": {
            "gridcolor": "white",
            "linecolor": "white",
            "ticks": ""
           }
          },
          "scene": {
           "xaxis": {
            "backgroundcolor": "#E5ECF6",
            "gridcolor": "white",
            "gridwidth": 2,
            "linecolor": "white",
            "showbackground": true,
            "ticks": "",
            "zerolinecolor": "white"
           },
           "yaxis": {
            "backgroundcolor": "#E5ECF6",
            "gridcolor": "white",
            "gridwidth": 2,
            "linecolor": "white",
            "showbackground": true,
            "ticks": "",
            "zerolinecolor": "white"
           },
           "zaxis": {
            "backgroundcolor": "#E5ECF6",
            "gridcolor": "white",
            "gridwidth": 2,
            "linecolor": "white",
            "showbackground": true,
            "ticks": "",
            "zerolinecolor": "white"
           }
          },
          "shapedefaults": {
           "line": {
            "color": "#2a3f5f"
           }
          },
          "ternary": {
           "aaxis": {
            "gridcolor": "white",
            "linecolor": "white",
            "ticks": ""
           },
           "baxis": {
            "gridcolor": "white",
            "linecolor": "white",
            "ticks": ""
           },
           "bgcolor": "#E5ECF6",
           "caxis": {
            "gridcolor": "white",
            "linecolor": "white",
            "ticks": ""
           }
          },
          "title": {
           "x": 0.05
          },
          "xaxis": {
           "automargin": true,
           "gridcolor": "white",
           "linecolor": "white",
           "ticks": "",
           "title": {
            "standoff": 15
           },
           "zerolinecolor": "white",
           "zerolinewidth": 2
          },
          "yaxis": {
           "automargin": true,
           "gridcolor": "white",
           "linecolor": "white",
           "ticks": "",
           "title": {
            "standoff": 15
           },
           "zerolinecolor": "white",
           "zerolinewidth": 2
          }
         }
        },
        "title": {
         "text": "Screening in department 34 for class age 39"
        },
        "width": 1000,
        "xaxis": {
         "anchor": "y",
         "domain": [
          0,
          1
         ],
         "rangeslider": {
          "visible": true
         },
         "title": {
          "text": "date"
         }
        },
        "yaxis": {
         "anchor": "x",
         "domain": [
          0,
          1
         ],
         "title": {
          "text": "Tests number"
         }
        }
       }
      }
     },
     "metadata": {}
    }
   ],
   "source": [
    "cvz.daily_test(39, '34', screening_daily)"
   ]
  },
  {
   "source": [
    "This shows the number of daily screening in the Hérault department (34). The color indicates the percentage of positive tests: the more the color intensifies towards yellow, the higher the percentage."
   ],
   "cell_type": "markdown",
   "metadata": {}
  },
  {
   "cell_type": "code",
   "execution_count": 7,
   "metadata": {},
   "outputs": [
    {
     "output_type": "stream",
     "name": "stderr",
     "text": [
      "/Users/stef/opt/anaconda3/envs/stef_env/lib/python3.8/site-packages/pandas/core/frame.py:4308: SettingWithCopyWarning:\n\n\nA value is trying to be set on a copy of a slice from a DataFrame\n\nSee the caveats in the documentation: https://pandas.pydata.org/pandas-docs/stable/user_guide/indexing.html#returning-a-view-versus-a-copy\n\n"
     ]
    },
    {
     "output_type": "display_data",
     "data": {
      "application/vnd.plotly.v1+json": {
       "config": {
        "plotlyServerURL": "https://plot.ly"
       },
       "data": [
        {
         "alignmentgroup": "True",
         "hovertemplate": "date=%{x}<br>Tests number=%{y}<br>% positive tests=%{marker.color}<extra></extra>",
         "legendgroup": "",
         "marker": {
          "color": [
           1.0338345864661653,
           0.7415254237288136,
           0.35574528637495556,
           0.17123287671232876,
           0.6622516556291391,
           1.2004801920768309,
           0.9938837920489296,
           1.4398354473774426,
           0,
           0.4944375772558714,
           0,
           0.6666666666666667,
           0.18791105543376135,
           0,
           0.08806693086745927,
           0.16194331983805668,
           0,
           1.2048192771084338,
           0,
           0,
           0.27519779841761266,
           0.066006600660066,
           0.22026431718061676,
           0.20100502512562815,
           0.1531393568147014,
           0,
           0.11504170261719873,
           0.13610071452875128,
           0.8068582955118508,
           0.12315270935960591,
           0.1557632398753894,
           0,
           0.6024096385542169,
           0.32819166393173616,
           0.15594541910331383,
           0.316288877174486,
           0.13898540653231412,
           0.14908684308609765,
           0,
           0,
           0.0681663258350375,
           0.18340210912425492,
           0.5399568034557235,
           0.3731343283582089,
           0.628930817610063,
           0.3305785123966942,
           0.8968609865470852,
           0.19563090968373,
           0.11909487892020643,
           0.4299226139294927,
           0.3329633740288568,
           0.20754064337599448,
           0.6201550387596899,
           1.092896174863388,
           0.12775471095496646,
           0.37243947858473,
           0.8917713822456425,
           0.3502626970227671,
           0.58689272905119,
           0.653061224489796,
           0,
           0.3661327231121282,
           0,
           0.4491858506457047,
           0.5780346820809248,
           0.2587991718426501,
           0.8690928843020097,
           0,
           0.6610009442870632,
           0.6816990036706869,
           0.33613445378151263,
           0.6430868167202572,
           0.42462845010615713,
           0.8620689655172413,
           0.37453183520599254,
           0.6850618458610847,
           1.033464566929134,
           0.9647118558009646,
           0.8028335301062574,
           1.4630902238971404,
           0.49109883364027007,
           0.7067137809187279,
           1.3009374402142722,
           0.823045267489712,
           1.443241742991951,
           1.5877016129032258,
           2.0998500107135203,
           2.2181146025878005,
           1.7964071856287425,
           2.450592885375494,
           3.0296279795054577,
           3.8272072754831377,
           4.451990190530088,
           3.558602677113941,
           2.689075630252101,
           0.911854103343465,
           4.838900035406586,
           5.056103825875355,
           4.475138121546961,
           5.408697770739432,
           3.970835670218732,
           4.456751054852321,
           4.49438202247191,
           4.239244491080798,
           5.063756743501716,
           4.311493278430422,
           4.759154441492433,
           5.162011173184357,
           4.230317273795535,
           7.347670250896058,
           4.560954816709292,
           4.019419668059162,
           4.589006555723651,
           4.94061757719715,
           4.884374324616382,
           4.112017015242822,
           7.524752475247524,
           5.045726900031536,
           4.89853044086774,
           4.74298485224733,
           5.447269910933264,
           4.321755854734699,
           4.44305381727159,
           4.704097116843703,
           4.950781702374059,
           5.005005005005005,
           4.681697612732096,
           5.8156213326378925,
           5.459863503412414,
           5.04750593824228,
           6.462585034013606,
           5.452753750136866,
           5.306712202810981,
           4.511930585683297,
           5.029013539651837,
           4.977540366638339,
           6.6722736192879175,
           6.4981949458483745,
           5.449093990353279,
           6.1039837947332884,
           6.303479749001712,
           7.184438449524351,
           7.5674465465129295,
           10.736639383726528,
           7.984790874524715,
           7.8930481283422465,
           8.564760793465577,
           10.545579320599337,
           7.934560327198365,
           7.8225441376188325,
           12.253550985796057,
           6.091370558375635,
           8.978675645342312,
           8.598413971308918,
           10.015228881125147,
           9.090909090909092,
           7.984699976093712,
           10.982048574445617,
           10.305343511450381,
           10.989453345141293,
           11.950759277563124,
           15.535881501659999,
           12.093676122931441,
           13.976693372177712,
           15.27795945062132,
           16.555555555555557,
           15.293046705412786,
           14.328193071018603,
           14.865740407458066,
           13.955124147147782,
           11.554109031733116,
           12.811693895098882,
           10.87378640776699,
           13.368641601676174,
           12.669754297825575,
           12.636300363467637,
           11.137034241405338,
           10.144731502772892,
           14.231642694928084,
           14.349112426035504,
           11.981667394151026,
           8.779728828628585,
           6.906338694418164,
           7.5824422343528,
           8.208704419425308,
           6.254695717505634,
           7.905982905982905,
           7.284526094506901,
           4.383589126291504,
           4.774628252788104,
           4.841549295774648,
           4.435700232516544,
           4.4400099775505115,
           4.567307692307692,
           4.00160868690931,
           3.8289875499177826,
           3.577325261419923,
           4.164987236329437,
           3.658399730669958,
           3.7019681349578253,
           3.296703296703297,
           3.5059676044330774,
           3.2393442622950817,
           3.9739684297978397,
           3.998462129950019,
           2.559614963902866,
           4.039330321551953,
           2.9197080291970803,
           3.1096388117119043,
           3.204901614233534,
           3.430531732418525,
           3.1407476854564633,
           3.1821646341463414,
           3.8411739318083726,
           2.946273830155979,
           3.4964420627251163,
           2.9356768885564697,
           3.824540803489055,
           2.4402869185831544,
           2.077041275896784,
           2.171204840718989,
           1.6835016835016834,
           2.0051584990431817,
           1.5108313275319385,
           1.3565689241364915,
           1.4727930152570774,
           1.9543973941368076,
           2.542016806722689,
           2.939255388634879,
           3.8350910834132312,
           4.111355533641811,
           3.079770008591633,
           2.919492774992628,
           4.4543429844097995,
           4.5682179064370345,
           6.283422459893048,
           5.197356670834077,
           5.726355315653602,
           5.2128865144892345,
           5.275121492396927,
           5.703883495145631,
           5.452996307867084,
           4.940014114326042,
           6.531547164572777,
           5.284388866478419,
           5.69538560826073,
           5.229517722254503,
           5.2723059096176135,
           4.506206152185645,
           5.9760956175298805,
           5.608333879315993,
           5.248508946322068,
           5.0810130564731795,
           6.011765653960835,
           5.015453779151447,
           5.280340667139816,
           4.27892234548336,
           6.311962987442168,
           5.075519435712643,
           4.294117647058823,
           5.105278338621287,
           4.2392638036809815,
           4.723789528933211,
           5.215123859191656,
           4.909384309831181,
           4.657612173789376,
           4.9677022454629345,
           4.179058949134447,
           4.452859754505092,
           5.231866825208085,
           2.4804177545691903,
           5.968430323148838,
           4.567776656575849,
           4.306346892805088,
           4.620314479469409,
           3.936608200327111,
           3.2539221382916907,
           3.5555555555555554,
           5.249671895506531,
           4.2431537767077945,
           4.527170912532534,
           3.8220551378446115,
           4.8903878583473865,
           4.934569247546347,
           4.24886191198786,
           6.869716892526499,
           5.839354730297429,
           6.682804530128815,
           6.1008433518751115,
           5.589025186905713,
           4.973456272701872,
           6,
           6.806739612002416,
           4.794359576968272,
           4.869706840390879,
           6.423811639271435,
           4.676573426573427,
           5.549568965517242,
           5.417276720351391,
           5.668092601912431,
           4.88599348534202,
           5.940759282436379,
           5.761663856098933,
           4.27049890434694,
           5.650307460262211,
           8.04093567251462,
           6.984452211642762,
           6.0531697341513295,
           6.364209199747953,
           6.187161639597835,
           5.47924141465915,
           6.066052572455629,
           7.723035952063914,
           8.1743019083771,
           7.123685976291657,
           6.815642458100559,
           7.085795578901291,
           6.139789078177704,
           6.799896184791073,
           5.853658536585367,
           8.52004716981132,
           7.456836210919272,
           6.6475254270280795,
           6.164232449366809,
           6.04417310109535,
           5.687518442018295,
           6.723716381418093,
           8.373755425070206,
           8.343649418172815,
           7.73806275579809,
           8.098918083462133,
           6.527252963403902,
           7.666966157532196,
           8.7,
           10.521316421746661,
           8.881754949170679
          ],
          "coloraxis": "coloraxis"
         },
         "name": "",
         "offsetgroup": "",
         "orientation": "v",
         "showlegend": false,
         "textposition": "auto",
         "type": "bar",
         "x": [
          "2020-05-13T00:00:00",
          "2020-05-14T00:00:00",
          "2020-05-15T00:00:00",
          "2020-05-16T00:00:00",
          "2020-05-17T00:00:00",
          "2020-05-18T00:00:00",
          "2020-05-19T00:00:00",
          "2020-05-20T00:00:00",
          "2020-05-21T00:00:00",
          "2020-05-22T00:00:00",
          "2020-05-23T00:00:00",
          "2020-05-24T00:00:00",
          "2020-05-25T00:00:00",
          "2020-05-26T00:00:00",
          "2020-05-27T00:00:00",
          "2020-05-28T00:00:00",
          "2020-05-29T00:00:00",
          "2020-05-30T00:00:00",
          "2020-05-31T00:00:00",
          "2020-06-01T00:00:00",
          "2020-06-02T00:00:00",
          "2020-06-03T00:00:00",
          "2020-06-04T00:00:00",
          "2020-06-05T00:00:00",
          "2020-06-06T00:00:00",
          "2020-06-07T00:00:00",
          "2020-06-08T00:00:00",
          "2020-06-09T00:00:00",
          "2020-06-10T00:00:00",
          "2020-06-11T00:00:00",
          "2020-06-12T00:00:00",
          "2020-06-13T00:00:00",
          "2020-06-14T00:00:00",
          "2020-06-15T00:00:00",
          "2020-06-16T00:00:00",
          "2020-06-17T00:00:00",
          "2020-06-18T00:00:00",
          "2020-06-19T00:00:00",
          "2020-06-20T00:00:00",
          "2020-06-21T00:00:00",
          "2020-06-22T00:00:00",
          "2020-06-23T00:00:00",
          "2020-06-24T00:00:00",
          "2020-06-25T00:00:00",
          "2020-06-26T00:00:00",
          "2020-06-27T00:00:00",
          "2020-06-28T00:00:00",
          "2020-06-29T00:00:00",
          "2020-06-30T00:00:00",
          "2020-07-01T00:00:00",
          "2020-07-02T00:00:00",
          "2020-07-03T00:00:00",
          "2020-07-04T00:00:00",
          "2020-07-05T00:00:00",
          "2020-07-06T00:00:00",
          "2020-07-07T00:00:00",
          "2020-07-08T00:00:00",
          "2020-07-09T00:00:00",
          "2020-07-10T00:00:00",
          "2020-07-11T00:00:00",
          "2020-07-12T00:00:00",
          "2020-07-13T00:00:00",
          "2020-07-14T00:00:00",
          "2020-07-15T00:00:00",
          "2020-07-16T00:00:00",
          "2020-07-17T00:00:00",
          "2020-07-18T00:00:00",
          "2020-07-19T00:00:00",
          "2020-07-20T00:00:00",
          "2020-07-21T00:00:00",
          "2020-07-22T00:00:00",
          "2020-07-23T00:00:00",
          "2020-07-24T00:00:00",
          "2020-07-25T00:00:00",
          "2020-07-26T00:00:00",
          "2020-07-27T00:00:00",
          "2020-07-28T00:00:00",
          "2020-07-29T00:00:00",
          "2020-07-30T00:00:00",
          "2020-07-31T00:00:00",
          "2020-08-01T00:00:00",
          "2020-08-02T00:00:00",
          "2020-08-03T00:00:00",
          "2020-08-04T00:00:00",
          "2020-08-05T00:00:00",
          "2020-08-06T00:00:00",
          "2020-08-07T00:00:00",
          "2020-08-08T00:00:00",
          "2020-08-09T00:00:00",
          "2020-08-10T00:00:00",
          "2020-08-11T00:00:00",
          "2020-08-12T00:00:00",
          "2020-08-13T00:00:00",
          "2020-08-14T00:00:00",
          "2020-08-15T00:00:00",
          "2020-08-16T00:00:00",
          "2020-08-17T00:00:00",
          "2020-08-18T00:00:00",
          "2020-08-19T00:00:00",
          "2020-08-20T00:00:00",
          "2020-08-21T00:00:00",
          "2020-08-22T00:00:00",
          "2020-08-23T00:00:00",
          "2020-08-24T00:00:00",
          "2020-08-25T00:00:00",
          "2020-08-26T00:00:00",
          "2020-08-27T00:00:00",
          "2020-08-28T00:00:00",
          "2020-08-29T00:00:00",
          "2020-08-30T00:00:00",
          "2020-08-31T00:00:00",
          "2020-09-01T00:00:00",
          "2020-09-02T00:00:00",
          "2020-09-03T00:00:00",
          "2020-09-04T00:00:00",
          "2020-09-05T00:00:00",
          "2020-09-06T00:00:00",
          "2020-09-07T00:00:00",
          "2020-09-08T00:00:00",
          "2020-09-09T00:00:00",
          "2020-09-10T00:00:00",
          "2020-09-11T00:00:00",
          "2020-09-12T00:00:00",
          "2020-09-13T00:00:00",
          "2020-09-14T00:00:00",
          "2020-09-15T00:00:00",
          "2020-09-16T00:00:00",
          "2020-09-17T00:00:00",
          "2020-09-18T00:00:00",
          "2020-09-19T00:00:00",
          "2020-09-20T00:00:00",
          "2020-09-21T00:00:00",
          "2020-09-22T00:00:00",
          "2020-09-23T00:00:00",
          "2020-09-24T00:00:00",
          "2020-09-25T00:00:00",
          "2020-09-26T00:00:00",
          "2020-09-27T00:00:00",
          "2020-09-28T00:00:00",
          "2020-09-29T00:00:00",
          "2020-09-30T00:00:00",
          "2020-10-01T00:00:00",
          "2020-10-02T00:00:00",
          "2020-10-03T00:00:00",
          "2020-10-04T00:00:00",
          "2020-10-05T00:00:00",
          "2020-10-06T00:00:00",
          "2020-10-07T00:00:00",
          "2020-10-08T00:00:00",
          "2020-10-09T00:00:00",
          "2020-10-10T00:00:00",
          "2020-10-11T00:00:00",
          "2020-10-12T00:00:00",
          "2020-10-13T00:00:00",
          "2020-10-14T00:00:00",
          "2020-10-15T00:00:00",
          "2020-10-16T00:00:00",
          "2020-10-17T00:00:00",
          "2020-10-18T00:00:00",
          "2020-10-19T00:00:00",
          "2020-10-20T00:00:00",
          "2020-10-21T00:00:00",
          "2020-10-22T00:00:00",
          "2020-10-23T00:00:00",
          "2020-10-24T00:00:00",
          "2020-10-25T00:00:00",
          "2020-10-26T00:00:00",
          "2020-10-27T00:00:00",
          "2020-10-28T00:00:00",
          "2020-10-29T00:00:00",
          "2020-10-30T00:00:00",
          "2020-10-31T00:00:00",
          "2020-11-01T00:00:00",
          "2020-11-02T00:00:00",
          "2020-11-03T00:00:00",
          "2020-11-04T00:00:00",
          "2020-11-05T00:00:00",
          "2020-11-06T00:00:00",
          "2020-11-07T00:00:00",
          "2020-11-08T00:00:00",
          "2020-11-09T00:00:00",
          "2020-11-10T00:00:00",
          "2020-11-11T00:00:00",
          "2020-11-12T00:00:00",
          "2020-11-13T00:00:00",
          "2020-11-14T00:00:00",
          "2020-11-15T00:00:00",
          "2020-11-16T00:00:00",
          "2020-11-17T00:00:00",
          "2020-11-18T00:00:00",
          "2020-11-19T00:00:00",
          "2020-11-20T00:00:00",
          "2020-11-21T00:00:00",
          "2020-11-22T00:00:00",
          "2020-11-23T00:00:00",
          "2020-11-24T00:00:00",
          "2020-11-25T00:00:00",
          "2020-11-26T00:00:00",
          "2020-11-27T00:00:00",
          "2020-11-28T00:00:00",
          "2020-11-29T00:00:00",
          "2020-11-30T00:00:00",
          "2020-12-01T00:00:00",
          "2020-12-02T00:00:00",
          "2020-12-03T00:00:00",
          "2020-12-04T00:00:00",
          "2020-12-05T00:00:00",
          "2020-12-06T00:00:00",
          "2020-12-07T00:00:00",
          "2020-12-08T00:00:00",
          "2020-12-09T00:00:00",
          "2020-12-10T00:00:00",
          "2020-12-11T00:00:00",
          "2020-12-12T00:00:00",
          "2020-12-13T00:00:00",
          "2020-12-14T00:00:00",
          "2020-12-15T00:00:00",
          "2020-12-16T00:00:00",
          "2020-12-17T00:00:00",
          "2020-12-18T00:00:00",
          "2020-12-19T00:00:00",
          "2020-12-20T00:00:00",
          "2020-12-21T00:00:00",
          "2020-12-22T00:00:00",
          "2020-12-23T00:00:00",
          "2020-12-24T00:00:00",
          "2020-12-25T00:00:00",
          "2020-12-26T00:00:00",
          "2020-12-27T00:00:00",
          "2020-12-28T00:00:00",
          "2020-12-29T00:00:00",
          "2020-12-30T00:00:00",
          "2020-12-31T00:00:00",
          "2021-01-01T00:00:00",
          "2021-01-02T00:00:00",
          "2021-01-03T00:00:00",
          "2021-01-04T00:00:00",
          "2021-01-05T00:00:00",
          "2021-01-06T00:00:00",
          "2021-01-07T00:00:00",
          "2021-01-08T00:00:00",
          "2021-01-09T00:00:00",
          "2021-01-10T00:00:00",
          "2021-01-11T00:00:00",
          "2021-01-12T00:00:00",
          "2021-01-13T00:00:00",
          "2021-01-14T00:00:00",
          "2021-01-15T00:00:00",
          "2021-01-16T00:00:00",
          "2021-01-17T00:00:00",
          "2021-01-18T00:00:00",
          "2021-01-19T00:00:00",
          "2021-01-20T00:00:00",
          "2021-01-21T00:00:00",
          "2021-01-22T00:00:00",
          "2021-01-23T00:00:00",
          "2021-01-24T00:00:00",
          "2021-01-25T00:00:00",
          "2021-01-26T00:00:00",
          "2021-01-27T00:00:00",
          "2021-01-28T00:00:00",
          "2021-01-29T00:00:00",
          "2021-01-30T00:00:00",
          "2021-01-31T00:00:00",
          "2021-02-01T00:00:00",
          "2021-02-02T00:00:00",
          "2021-02-03T00:00:00",
          "2021-02-04T00:00:00",
          "2021-02-05T00:00:00",
          "2021-02-06T00:00:00",
          "2021-02-07T00:00:00",
          "2021-02-08T00:00:00",
          "2021-02-09T00:00:00",
          "2021-02-10T00:00:00",
          "2021-02-11T00:00:00",
          "2021-02-12T00:00:00",
          "2021-02-13T00:00:00",
          "2021-02-14T00:00:00",
          "2021-02-15T00:00:00",
          "2021-02-16T00:00:00",
          "2021-02-17T00:00:00",
          "2021-02-18T00:00:00",
          "2021-02-19T00:00:00",
          "2021-02-20T00:00:00",
          "2021-02-21T00:00:00",
          "2021-02-22T00:00:00",
          "2021-02-23T00:00:00",
          "2021-02-24T00:00:00",
          "2021-02-25T00:00:00",
          "2021-02-26T00:00:00",
          "2021-02-27T00:00:00",
          "2021-02-28T00:00:00",
          "2021-03-01T00:00:00",
          "2021-03-02T00:00:00",
          "2021-03-03T00:00:00",
          "2021-03-04T00:00:00",
          "2021-03-05T00:00:00",
          "2021-03-06T00:00:00",
          "2021-03-07T00:00:00",
          "2021-03-08T00:00:00",
          "2021-03-09T00:00:00",
          "2021-03-10T00:00:00",
          "2021-03-11T00:00:00",
          "2021-03-12T00:00:00",
          "2021-03-13T00:00:00",
          "2021-03-14T00:00:00",
          "2021-03-15T00:00:00",
          "2021-03-16T00:00:00",
          "2021-03-17T00:00:00",
          "2021-03-18T00:00:00",
          "2021-03-19T00:00:00",
          "2021-03-20T00:00:00",
          "2021-03-21T00:00:00",
          "2021-03-22T00:00:00",
          "2021-03-23T00:00:00",
          "2021-03-24T00:00:00",
          "2021-03-25T00:00:00",
          "2021-03-26T00:00:00",
          "2021-03-27T00:00:00",
          "2021-03-28T00:00:00",
          "2021-03-29T00:00:00",
          "2021-03-30T00:00:00",
          "2021-03-31T00:00:00",
          "2021-04-01T00:00:00",
          "2021-04-02T00:00:00",
          "2021-04-03T00:00:00",
          "2021-04-04T00:00:00",
          "2021-04-05T00:00:00",
          "2021-04-06T00:00:00",
          "2021-04-07T00:00:00",
          "2021-04-08T00:00:00",
          "2021-04-09T00:00:00",
          "2021-04-10T00:00:00",
          "2021-04-11T00:00:00",
          "2021-04-12T00:00:00",
          "2021-04-13T00:00:00"
         ],
         "xaxis": "x",
         "y": [
          2128,
          1888,
          2811,
          1168,
          302,
          2499,
          2616,
          2917,
          386,
          3236,
          1098,
          300,
          3193,
          2692,
          2271,
          2470,
          3235,
          1328,
          484,
          630,
          2907,
          3030,
          1816,
          2985,
          1306,
          286,
          3477,
          2939,
          1983,
          1624,
          2568,
          1290,
          332,
          3047,
          2565,
          1897,
          1439,
          2683,
          982,
          258,
          2934,
          2181,
          1852,
          1608,
          2544,
          1210,
          446,
          3067,
          2519,
          2326,
          1802,
          2891,
          1290,
          366,
          3131,
          2685,
          2467,
          2284,
          3067,
          1225,
          452,
          4370,
          632,
          3562,
          3114,
          3864,
          1841,
          483,
          4236,
          3814,
          3570,
          3421,
          4239,
          1856,
          534,
          5255,
          4064,
          3939,
          4235,
          4511,
          1629,
          566,
          5227,
          3888,
          3603,
          3968,
          4667,
          2164,
          668,
          5060,
          4489,
          5278,
          5301,
          6126,
          1190,
          658,
          8473,
          7397,
          7240,
          8209,
          8915,
          3792,
          1068,
          9530,
          8156,
          8257,
          8657,
          8950,
          3404,
          1116,
          9384,
          8857,
          7932,
          8420,
          9254,
          2821,
          1010,
          9513,
          8574,
          8054,
          7747,
          8839,
          3196,
          1318,
          10362,
          8991,
          7540,
          7669,
          9231,
          3368,
          1176,
          9133,
          7613,
          6915,
          7238,
          8237,
          3567,
          1108,
          7671,
          7405,
          7012,
          7043,
          8933,
          4154,
          1052,
          9350,
          8570,
          8743,
          9780,
          11045,
          4717,
          1182,
          12474,
          11223,
          11163,
          11858,
          12549,
          5682,
          2096,
          12421,
          11129,
          11747,
          13536,
          13730,
          7645,
          1800,
          14281,
          14461,
          13891,
          14217,
          14748,
          6978,
          1030,
          17182,
          12739,
          12931,
          14573,
          14786,
          5284,
          1352,
          13746,
          13497,
          2114,
          13373,
          11902,
          5324,
          936,
          10941,
          9969,
          8608,
          7952,
          11182,
          4009,
          832,
          9946,
          8514,
          7268,
          7443,
          8911,
          4268,
          910,
          9384,
          7625,
          7222,
          7803,
          9142,
          3763,
          1370,
          9358,
          8487,
          7579,
          8533,
          10496,
          4634,
          1154,
          11383,
          10696,
          11923,
          13523,
          18873,
          11238,
          2376,
          24038,
          27005,
          28749,
          22678,
          1228,
          9520,
          1531,
          14602,
          13183,
          15131,
          13564,
          898,
          8187,
          1496,
          16797,
          12783,
          12354,
          12758,
          14008,
          7042,
          1417,
          14407,
          12395,
          12396,
          12047,
          13808,
          7412,
          1506,
          15263,
          12575,
          12714,
          12409,
          14236,
          7045,
          1262,
          15130,
          13043,
          13600,
          13868,
          16300,
          7621,
          1534,
          16112,
          14063,
          13004,
          13113,
          15316,
          7569,
          1532,
          14761,
          14865,
          15094,
          13419,
          17731,
          8605,
          1350,
          16001,
          13292,
          12679,
          12768,
          14825,
          7336,
          1318,
          14906,
          11902,
          11567,
          11146,
          13777,
          7158,
          1400,
          14897,
          12765,
          12280,
          11255,
          13728,
          7424,
          1366,
          15896,
          13201,
          11985,
          14232,
          19623,
          8619,
          1368,
          16594,
          14670,
          14283,
          14223,
          19510,
          8902,
          1502,
          19231,
          17884,
          17900,
          18276,
          23421,
          11559,
          1640,
          23744,
          21430,
          20549,
          22663,
          27845,
          13556,
          1636,
          3917,
          24234,
          18325,
          16175,
          19319,
          10017,
          2000,
          17897,
          14952
         ],
         "yaxis": "y"
        }
       ],
       "layout": {
        "barmode": "relative",
        "coloraxis": {
         "colorbar": {
          "title": {
           "text": "% positive tests"
          }
         },
         "colorscale": [
          [
           0,
           "#0d0887"
          ],
          [
           0.1111111111111111,
           "#46039f"
          ],
          [
           0.2222222222222222,
           "#7201a8"
          ],
          [
           0.3333333333333333,
           "#9c179e"
          ],
          [
           0.4444444444444444,
           "#bd3786"
          ],
          [
           0.5555555555555556,
           "#d8576b"
          ],
          [
           0.6666666666666666,
           "#ed7953"
          ],
          [
           0.7777777777777778,
           "#fb9f3a"
          ],
          [
           0.8888888888888888,
           "#fdca26"
          ],
          [
           1,
           "#f0f921"
          ]
         ]
        },
        "height": 600,
        "legend": {
         "tracegroupgap": 0
        },
        "template": {
         "data": {
          "bar": [
           {
            "error_x": {
             "color": "#2a3f5f"
            },
            "error_y": {
             "color": "#2a3f5f"
            },
            "marker": {
             "line": {
              "color": "#E5ECF6",
              "width": 0.5
             }
            },
            "type": "bar"
           }
          ],
          "barpolar": [
           {
            "marker": {
             "line": {
              "color": "#E5ECF6",
              "width": 0.5
             }
            },
            "type": "barpolar"
           }
          ],
          "carpet": [
           {
            "aaxis": {
             "endlinecolor": "#2a3f5f",
             "gridcolor": "white",
             "linecolor": "white",
             "minorgridcolor": "white",
             "startlinecolor": "#2a3f5f"
            },
            "baxis": {
             "endlinecolor": "#2a3f5f",
             "gridcolor": "white",
             "linecolor": "white",
             "minorgridcolor": "white",
             "startlinecolor": "#2a3f5f"
            },
            "type": "carpet"
           }
          ],
          "choropleth": [
           {
            "colorbar": {
             "outlinewidth": 0,
             "ticks": ""
            },
            "type": "choropleth"
           }
          ],
          "contour": [
           {
            "colorbar": {
             "outlinewidth": 0,
             "ticks": ""
            },
            "colorscale": [
             [
              0,
              "#0d0887"
             ],
             [
              0.1111111111111111,
              "#46039f"
             ],
             [
              0.2222222222222222,
              "#7201a8"
             ],
             [
              0.3333333333333333,
              "#9c179e"
             ],
             [
              0.4444444444444444,
              "#bd3786"
             ],
             [
              0.5555555555555556,
              "#d8576b"
             ],
             [
              0.6666666666666666,
              "#ed7953"
             ],
             [
              0.7777777777777778,
              "#fb9f3a"
             ],
             [
              0.8888888888888888,
              "#fdca26"
             ],
             [
              1,
              "#f0f921"
             ]
            ],
            "type": "contour"
           }
          ],
          "contourcarpet": [
           {
            "colorbar": {
             "outlinewidth": 0,
             "ticks": ""
            },
            "type": "contourcarpet"
           }
          ],
          "heatmap": [
           {
            "colorbar": {
             "outlinewidth": 0,
             "ticks": ""
            },
            "colorscale": [
             [
              0,
              "#0d0887"
             ],
             [
              0.1111111111111111,
              "#46039f"
             ],
             [
              0.2222222222222222,
              "#7201a8"
             ],
             [
              0.3333333333333333,
              "#9c179e"
             ],
             [
              0.4444444444444444,
              "#bd3786"
             ],
             [
              0.5555555555555556,
              "#d8576b"
             ],
             [
              0.6666666666666666,
              "#ed7953"
             ],
             [
              0.7777777777777778,
              "#fb9f3a"
             ],
             [
              0.8888888888888888,
              "#fdca26"
             ],
             [
              1,
              "#f0f921"
             ]
            ],
            "type": "heatmap"
           }
          ],
          "heatmapgl": [
           {
            "colorbar": {
             "outlinewidth": 0,
             "ticks": ""
            },
            "colorscale": [
             [
              0,
              "#0d0887"
             ],
             [
              0.1111111111111111,
              "#46039f"
             ],
             [
              0.2222222222222222,
              "#7201a8"
             ],
             [
              0.3333333333333333,
              "#9c179e"
             ],
             [
              0.4444444444444444,
              "#bd3786"
             ],
             [
              0.5555555555555556,
              "#d8576b"
             ],
             [
              0.6666666666666666,
              "#ed7953"
             ],
             [
              0.7777777777777778,
              "#fb9f3a"
             ],
             [
              0.8888888888888888,
              "#fdca26"
             ],
             [
              1,
              "#f0f921"
             ]
            ],
            "type": "heatmapgl"
           }
          ],
          "histogram": [
           {
            "marker": {
             "colorbar": {
              "outlinewidth": 0,
              "ticks": ""
             }
            },
            "type": "histogram"
           }
          ],
          "histogram2d": [
           {
            "colorbar": {
             "outlinewidth": 0,
             "ticks": ""
            },
            "colorscale": [
             [
              0,
              "#0d0887"
             ],
             [
              0.1111111111111111,
              "#46039f"
             ],
             [
              0.2222222222222222,
              "#7201a8"
             ],
             [
              0.3333333333333333,
              "#9c179e"
             ],
             [
              0.4444444444444444,
              "#bd3786"
             ],
             [
              0.5555555555555556,
              "#d8576b"
             ],
             [
              0.6666666666666666,
              "#ed7953"
             ],
             [
              0.7777777777777778,
              "#fb9f3a"
             ],
             [
              0.8888888888888888,
              "#fdca26"
             ],
             [
              1,
              "#f0f921"
             ]
            ],
            "type": "histogram2d"
           }
          ],
          "histogram2dcontour": [
           {
            "colorbar": {
             "outlinewidth": 0,
             "ticks": ""
            },
            "colorscale": [
             [
              0,
              "#0d0887"
             ],
             [
              0.1111111111111111,
              "#46039f"
             ],
             [
              0.2222222222222222,
              "#7201a8"
             ],
             [
              0.3333333333333333,
              "#9c179e"
             ],
             [
              0.4444444444444444,
              "#bd3786"
             ],
             [
              0.5555555555555556,
              "#d8576b"
             ],
             [
              0.6666666666666666,
              "#ed7953"
             ],
             [
              0.7777777777777778,
              "#fb9f3a"
             ],
             [
              0.8888888888888888,
              "#fdca26"
             ],
             [
              1,
              "#f0f921"
             ]
            ],
            "type": "histogram2dcontour"
           }
          ],
          "mesh3d": [
           {
            "colorbar": {
             "outlinewidth": 0,
             "ticks": ""
            },
            "type": "mesh3d"
           }
          ],
          "parcoords": [
           {
            "line": {
             "colorbar": {
              "outlinewidth": 0,
              "ticks": ""
             }
            },
            "type": "parcoords"
           }
          ],
          "pie": [
           {
            "automargin": true,
            "type": "pie"
           }
          ],
          "scatter": [
           {
            "marker": {
             "colorbar": {
              "outlinewidth": 0,
              "ticks": ""
             }
            },
            "type": "scatter"
           }
          ],
          "scatter3d": [
           {
            "line": {
             "colorbar": {
              "outlinewidth": 0,
              "ticks": ""
             }
            },
            "marker": {
             "colorbar": {
              "outlinewidth": 0,
              "ticks": ""
             }
            },
            "type": "scatter3d"
           }
          ],
          "scattercarpet": [
           {
            "marker": {
             "colorbar": {
              "outlinewidth": 0,
              "ticks": ""
             }
            },
            "type": "scattercarpet"
           }
          ],
          "scattergeo": [
           {
            "marker": {
             "colorbar": {
              "outlinewidth": 0,
              "ticks": ""
             }
            },
            "type": "scattergeo"
           }
          ],
          "scattergl": [
           {
            "marker": {
             "colorbar": {
              "outlinewidth": 0,
              "ticks": ""
             }
            },
            "type": "scattergl"
           }
          ],
          "scattermapbox": [
           {
            "marker": {
             "colorbar": {
              "outlinewidth": 0,
              "ticks": ""
             }
            },
            "type": "scattermapbox"
           }
          ],
          "scatterpolar": [
           {
            "marker": {
             "colorbar": {
              "outlinewidth": 0,
              "ticks": ""
             }
            },
            "type": "scatterpolar"
           }
          ],
          "scatterpolargl": [
           {
            "marker": {
             "colorbar": {
              "outlinewidth": 0,
              "ticks": ""
             }
            },
            "type": "scatterpolargl"
           }
          ],
          "scatterternary": [
           {
            "marker": {
             "colorbar": {
              "outlinewidth": 0,
              "ticks": ""
             }
            },
            "type": "scatterternary"
           }
          ],
          "surface": [
           {
            "colorbar": {
             "outlinewidth": 0,
             "ticks": ""
            },
            "colorscale": [
             [
              0,
              "#0d0887"
             ],
             [
              0.1111111111111111,
              "#46039f"
             ],
             [
              0.2222222222222222,
              "#7201a8"
             ],
             [
              0.3333333333333333,
              "#9c179e"
             ],
             [
              0.4444444444444444,
              "#bd3786"
             ],
             [
              0.5555555555555556,
              "#d8576b"
             ],
             [
              0.6666666666666666,
              "#ed7953"
             ],
             [
              0.7777777777777778,
              "#fb9f3a"
             ],
             [
              0.8888888888888888,
              "#fdca26"
             ],
             [
              1,
              "#f0f921"
             ]
            ],
            "type": "surface"
           }
          ],
          "table": [
           {
            "cells": {
             "fill": {
              "color": "#EBF0F8"
             },
             "line": {
              "color": "white"
             }
            },
            "header": {
             "fill": {
              "color": "#C8D4E3"
             },
             "line": {
              "color": "white"
             }
            },
            "type": "table"
           }
          ]
         },
         "layout": {
          "annotationdefaults": {
           "arrowcolor": "#2a3f5f",
           "arrowhead": 0,
           "arrowwidth": 1
          },
          "autotypenumbers": "strict",
          "coloraxis": {
           "colorbar": {
            "outlinewidth": 0,
            "ticks": ""
           }
          },
          "colorscale": {
           "diverging": [
            [
             0,
             "#8e0152"
            ],
            [
             0.1,
             "#c51b7d"
            ],
            [
             0.2,
             "#de77ae"
            ],
            [
             0.3,
             "#f1b6da"
            ],
            [
             0.4,
             "#fde0ef"
            ],
            [
             0.5,
             "#f7f7f7"
            ],
            [
             0.6,
             "#e6f5d0"
            ],
            [
             0.7,
             "#b8e186"
            ],
            [
             0.8,
             "#7fbc41"
            ],
            [
             0.9,
             "#4d9221"
            ],
            [
             1,
             "#276419"
            ]
           ],
           "sequential": [
            [
             0,
             "#0d0887"
            ],
            [
             0.1111111111111111,
             "#46039f"
            ],
            [
             0.2222222222222222,
             "#7201a8"
            ],
            [
             0.3333333333333333,
             "#9c179e"
            ],
            [
             0.4444444444444444,
             "#bd3786"
            ],
            [
             0.5555555555555556,
             "#d8576b"
            ],
            [
             0.6666666666666666,
             "#ed7953"
            ],
            [
             0.7777777777777778,
             "#fb9f3a"
            ],
            [
             0.8888888888888888,
             "#fdca26"
            ],
            [
             1,
             "#f0f921"
            ]
           ],
           "sequentialminus": [
            [
             0,
             "#0d0887"
            ],
            [
             0.1111111111111111,
             "#46039f"
            ],
            [
             0.2222222222222222,
             "#7201a8"
            ],
            [
             0.3333333333333333,
             "#9c179e"
            ],
            [
             0.4444444444444444,
             "#bd3786"
            ],
            [
             0.5555555555555556,
             "#d8576b"
            ],
            [
             0.6666666666666666,
             "#ed7953"
            ],
            [
             0.7777777777777778,
             "#fb9f3a"
            ],
            [
             0.8888888888888888,
             "#fdca26"
            ],
            [
             1,
             "#f0f921"
            ]
           ]
          },
          "colorway": [
           "#636efa",
           "#EF553B",
           "#00cc96",
           "#ab63fa",
           "#FFA15A",
           "#19d3f3",
           "#FF6692",
           "#B6E880",
           "#FF97FF",
           "#FECB52"
          ],
          "font": {
           "color": "#2a3f5f"
          },
          "geo": {
           "bgcolor": "white",
           "lakecolor": "white",
           "landcolor": "#E5ECF6",
           "showlakes": true,
           "showland": true,
           "subunitcolor": "white"
          },
          "hoverlabel": {
           "align": "left"
          },
          "hovermode": "closest",
          "mapbox": {
           "style": "light"
          },
          "paper_bgcolor": "white",
          "plot_bgcolor": "#E5ECF6",
          "polar": {
           "angularaxis": {
            "gridcolor": "white",
            "linecolor": "white",
            "ticks": ""
           },
           "bgcolor": "#E5ECF6",
           "radialaxis": {
            "gridcolor": "white",
            "linecolor": "white",
            "ticks": ""
           }
          },
          "scene": {
           "xaxis": {
            "backgroundcolor": "#E5ECF6",
            "gridcolor": "white",
            "gridwidth": 2,
            "linecolor": "white",
            "showbackground": true,
            "ticks": "",
            "zerolinecolor": "white"
           },
           "yaxis": {
            "backgroundcolor": "#E5ECF6",
            "gridcolor": "white",
            "gridwidth": 2,
            "linecolor": "white",
            "showbackground": true,
            "ticks": "",
            "zerolinecolor": "white"
           },
           "zaxis": {
            "backgroundcolor": "#E5ECF6",
            "gridcolor": "white",
            "gridwidth": 2,
            "linecolor": "white",
            "showbackground": true,
            "ticks": "",
            "zerolinecolor": "white"
           }
          },
          "shapedefaults": {
           "line": {
            "color": "#2a3f5f"
           }
          },
          "ternary": {
           "aaxis": {
            "gridcolor": "white",
            "linecolor": "white",
            "ticks": ""
           },
           "baxis": {
            "gridcolor": "white",
            "linecolor": "white",
            "ticks": ""
           },
           "bgcolor": "#E5ECF6",
           "caxis": {
            "gridcolor": "white",
            "linecolor": "white",
            "ticks": ""
           }
          },
          "title": {
           "x": 0.05
          },
          "xaxis": {
           "automargin": true,
           "gridcolor": "white",
           "linecolor": "white",
           "ticks": "",
           "title": {
            "standoff": 15
           },
           "zerolinecolor": "white",
           "zerolinewidth": 2
          },
          "yaxis": {
           "automargin": true,
           "gridcolor": "white",
           "linecolor": "white",
           "ticks": "",
           "title": {
            "standoff": 15
           },
           "zerolinecolor": "white",
           "zerolinewidth": 2
          }
         }
        },
        "title": {
         "text": "Covid Screening in department 34"
        },
        "width": 1000,
        "xaxis": {
         "anchor": "y",
         "domain": [
          0,
          1
         ],
         "rangeslider": {
          "visible": true
         },
         "title": {
          "text": "date"
         }
        },
        "yaxis": {
         "anchor": "x",
         "domain": [
          0,
          1
         ],
         "title": {
          "text": "Tests number"
         }
        }
       }
      }
     },
     "metadata": {}
    }
   ],
   "source": [
    "cvz.daily_test_dep('34', screening_daily)"
   ]
  },
  {
   "source": [
    "This shows the number of daily screening among 30-39 year olds in France. The color indicates the percentage of positive tests: the more the color intensifies towards yellow, the higher the percentage."
   ],
   "cell_type": "markdown",
   "metadata": {}
  },
  {
   "cell_type": "code",
   "execution_count": 10,
   "metadata": {},
   "outputs": [
    {
     "output_type": "stream",
     "name": "stderr",
     "text": [
      "/Users/stef/opt/anaconda3/envs/stef_env/lib/python3.8/site-packages/pandas/core/frame.py:4308: SettingWithCopyWarning:\n",
      "\n",
      "\n",
      "A value is trying to be set on a copy of a slice from a DataFrame\n",
      "\n",
      "See the caveats in the documentation: https://pandas.pydata.org/pandas-docs/stable/user_guide/indexing.html#returning-a-view-versus-a-copy\n",
      "\n",
      "/Users/stef/opt/anaconda3/envs/stef_env/lib/python3.8/site-packages/pandas/core/frame.py:4308: SettingWithCopyWarning:\n",
      "\n",
      "\n",
      "A value is trying to be set on a copy of a slice from a DataFrame\n",
      "\n",
      "See the caveats in the documentation: https://pandas.pydata.org/pandas-docs/stable/user_guide/indexing.html#returning-a-view-versus-a-copy\n",
      "\n",
      "/Users/stef/opt/anaconda3/envs/stef_env/lib/python3.8/site-packages/pandas/core/frame.py:4308: SettingWithCopyWarning:\n",
      "\n",
      "\n",
      "A value is trying to be set on a copy of a slice from a DataFrame\n",
      "\n",
      "See the caveats in the documentation: https://pandas.pydata.org/pandas-docs/stable/user_guide/indexing.html#returning-a-view-versus-a-copy\n",
      "\n",
      "/Users/stef/opt/anaconda3/envs/stef_env/lib/python3.8/site-packages/pandas/core/frame.py:4308: SettingWithCopyWarning:\n",
      "\n",
      "\n",
      "A value is trying to be set on a copy of a slice from a DataFrame\n",
      "\n",
      "See the caveats in the documentation: https://pandas.pydata.org/pandas-docs/stable/user_guide/indexing.html#returning-a-view-versus-a-copy\n",
      "\n",
      "/Users/stef/opt/anaconda3/envs/stef_env/lib/python3.8/site-packages/pandas/core/frame.py:4308: SettingWithCopyWarning:\n",
      "\n",
      "\n",
      "A value is trying to be set on a copy of a slice from a DataFrame\n",
      "\n",
      "See the caveats in the documentation: https://pandas.pydata.org/pandas-docs/stable/user_guide/indexing.html#returning-a-view-versus-a-copy\n",
      "\n",
      "/Users/stef/opt/anaconda3/envs/stef_env/lib/python3.8/site-packages/pandas/core/frame.py:4308: SettingWithCopyWarning:\n",
      "\n",
      "\n",
      "A value is trying to be set on a copy of a slice from a DataFrame\n",
      "\n",
      "See the caveats in the documentation: https://pandas.pydata.org/pandas-docs/stable/user_guide/indexing.html#returning-a-view-versus-a-copy\n",
      "\n",
      "/Users/stef/opt/anaconda3/envs/stef_env/lib/python3.8/site-packages/pandas/core/frame.py:4308: SettingWithCopyWarning:\n",
      "\n",
      "\n",
      "A value is trying to be set on a copy of a slice from a DataFrame\n",
      "\n",
      "See the caveats in the documentation: https://pandas.pydata.org/pandas-docs/stable/user_guide/indexing.html#returning-a-view-versus-a-copy\n",
      "\n",
      "/Users/stef/opt/anaconda3/envs/stef_env/lib/python3.8/site-packages/pandas/core/frame.py:4308: SettingWithCopyWarning:\n",
      "\n",
      "\n",
      "A value is trying to be set on a copy of a slice from a DataFrame\n",
      "\n",
      "See the caveats in the documentation: https://pandas.pydata.org/pandas-docs/stable/user_guide/indexing.html#returning-a-view-versus-a-copy\n",
      "\n",
      "/Users/stef/opt/anaconda3/envs/stef_env/lib/python3.8/site-packages/pandas/core/frame.py:4308: SettingWithCopyWarning:\n",
      "\n",
      "\n",
      "A value is trying to be set on a copy of a slice from a DataFrame\n",
      "\n",
      "See the caveats in the documentation: https://pandas.pydata.org/pandas-docs/stable/user_guide/indexing.html#returning-a-view-versus-a-copy\n",
      "\n",
      "/Users/stef/opt/anaconda3/envs/stef_env/lib/python3.8/site-packages/pandas/core/frame.py:4308: SettingWithCopyWarning:\n",
      "\n",
      "\n",
      "A value is trying to be set on a copy of a slice from a DataFrame\n",
      "\n",
      "See the caveats in the documentation: https://pandas.pydata.org/pandas-docs/stable/user_guide/indexing.html#returning-a-view-versus-a-copy\n",
      "\n",
      "/Users/stef/opt/anaconda3/envs/stef_env/lib/python3.8/site-packages/pandas/core/frame.py:4308: SettingWithCopyWarning:\n",
      "\n",
      "\n",
      "A value is trying to be set on a copy of a slice from a DataFrame\n",
      "\n",
      "See the caveats in the documentation: https://pandas.pydata.org/pandas-docs/stable/user_guide/indexing.html#returning-a-view-versus-a-copy\n",
      "\n"
     ]
    },
    {
     "output_type": "display_data",
     "data": {
      "application/vnd.plotly.v1+json": {
       "config": {
        "plotlyServerURL": "https://plot.ly"
       },
       "data": [
        {
         "alignmentgroup": "True",
         "hovertemplate": "date=%{x}<br>Tests number=%{y}<br>% positive tests=%{marker.color}<extra></extra>",
         "legendgroup": "",
         "marker": {
          "color": [
           1.8671833714990311,
           1.8397915988277433,
           1.9669199821189094,
           1.1353711790393013,
           1.310615989515072,
           1.4709925762991476,
           1.5546704355646923,
           1.72550052687039,
           1.678445229681979,
           1.2758931251876313,
           1.2678936605316973,
           1.6331658291457287,
           1.328556500970294,
           1.157002556168438,
           1.265214606021781,
           1.4155548324113243,
           0.9975445058317987,
           2.260327357755261,
           3.9906103286384975,
           1.9980970504281639,
           1.232,
           1.808066759388039,
           1.9625176803394626,
           1.4150158148826368,
           2.1654395842355996,
           1.9553072625698324,
           1.5019210618232623,
           1.5278024515899804,
           1.6501031314457153,
           2.2838807097017746,
           1.5578505163661822,
           1.5086206896551724,
           4.2105263157894735,
           1.715686274509804,
           1.9538518794194266,
           2.4859195960380656,
           2.268656716417911,
           2.338877338877339,
           2.297507788161994,
           3.770739064856712,
           1.7061454364750706,
           1.8433179723502304,
           2.1816997720612177,
           2.1105715353007097,
           1.447935921133703,
           2.061122956645345,
           3.452243958573072,
           1.532901296111665,
           1.8691588785046727,
           1.3059011950227917,
           1.3423676809000256,
           1.403016485443704,
           1.558846453624318,
           2.301255230125523,
           1.180896645417494,
           1.0475343413380769,
           1.056902897046334,
           1.0618529333687283,
           1.2343686970552643,
           1.3701390288132178,
           0.6789524733268671,
           1.2796169404771733,
           1.5752993068683048,
           1.231003039513678,
           1.357745319893026,
           1.1212333566923616,
           1.2904253624342839,
           1.9939577039274923,
           1.3364889322010303,
           1.392143349414197,
           1.5003802807163105,
           1.3543091655266757,
           1.3818606461658234,
           1.7752369489995485,
           1.863932898415657,
           1.4975247524752475,
           1.485502923278845,
           1.441899915182358,
           1.7310857596912426,
           1.6597273712427993,
           1.9782937216650638,
           1.9639934533551555,
           2.1632699533189115,
           2.3028278248419043,
           2.1109530583214795,
           2.1152914580978526,
           2.4404957771196667,
           2.4259448416751788,
           2.5989138867339023,
           2.794454753847833,
           2.8667386350005994,
           2.7690957942644077,
           3.3451237998989387,
           3.154980669180469,
           3.3499084009421614,
           3.3198614318706694,
           3.9188127816129965,
           3.8381018841591072,
           3.6042977612259746,
           3.5672585255868263,
           3.584488800853268,
           3.2006758025154873,
           5.319767441860465,
           4.022223700845033,
           4.090480019578366,
           4.070220625614261,
           4.211250860396721,
           4.209842556218875,
           4.0472175379426645,
           5.348346235045742,
           4.636723533935234,
           4.57796852646638,
           4.836984752650716,
           5.161934655443002,
           4.842920912995873,
           4.183710082526013,
           5.345911949685535,
           4.943042103678427,
           4.501639183833244,
           4.227134032894248,
           4.453734410761829,
           4.1612826034936585,
           4.062072113190324,
           5.611543747136968,
           5.121496177648344,
           4.751984815869268,
           5.2554931016862545,
           5.404013085026917,
           5.764960662298857,
           5.618061806180618,
           6.501854140914709,
           6.713302181546714,
           6.846297749079717,
           6.814002474171654,
           6.56733973730641,
           5.992189807370459,
           6.0398136382888605,
           5.9459459459459465,
           6.63576406172225,
           6.98751372118551,
           7.34844945919724,
           8.097947571631781,
           8.496407403728353,
           9.344816484224081,
           8.590963139120095,
           10.05457298779965,
           10.08022215365628,
           10.409014505385047,
           10.381841560910159,
           10.127426095428557,
           10.794149643418349,
           11.944566652001761,
           11.35928383734913,
           11.085417312322694,
           10.97020262216925,
           11.19640635215218,
           10.990832650941702,
           11.853024415983116,
           12.92239769060961,
           13.67483624052403,
           14.585306186868689,
           14.867266785161402,
           14.606095457159288,
           14.340026517148289,
           15.798280976648666,
           16.17074527252503,
           16.640066822785375,
           16.101763013676614,
           15.418912623943568,
           14.417036671600068,
           13.84941842187991,
           14.977111636148848,
           15.417214671927518,
           16.170552728133508,
           15.042019665884116,
           13.573312586576595,
           11.9738777853529,
           10.890648634220126,
           11.341264287380453,
           11.986374281456248,
           11.919316512180522,
           9.942088851091402,
           9.792689579923621,
           9.493346980552712,
           8.686178265058029,
           9.206745783885072,
           9.601745771958537,
           9.663855839205267,
           7.981424653070092,
           7.498439194295665,
           6.620593530402462,
           6.092256624506382,
           6.799973515195656,
           7.181490384615384,
           6.95441643012189,
           6.0031388961548515,
           6.114905301696825,
           5.672159016607821,
           5.226281091754514,
           5.981347731575626,
           7.569360675512665,
           6.7195099981985225,
           5.954761740569616,
           5.95033927373052,
           5.522475953674017,
           5.601187843558476,
           6.197309994208122,
           6.5922092073004634,
           6.592796318823716,
           5.604676438621743,
           5.663572503763171,
           5.416899832120873,
           5.316619281468079,
           5.7762425638073305,
           5.177407675597393,
           6.028211138954005,
           4.7979484634156435,
           4.271291259965725,
           3.6295014470268816,
           3.1878530565250243,
           3.042200025564706,
           2.8415705365647157,
           2.81771810134725,
           2.150893715319565,
           2.0608455156064798,
           2.1597170637604353,
           3.121212121212121,
           4.233926992547682,
           4.133286891907582,
           5.435014800573713,
           5.295202310127683,
           4.689727264088188,
           4.641052116732786,
           4.173501002369236,
           6.121464003217589,
           5.820721769499418,
           7.026883151450626,
           6.354335943270793,
           5.942465468896043,
           5.619168787107719,
           5.6908639450814285,
           5.793766286507158,
           5.653461158889046,
           6.795727636849132,
           5.940997342746863,
           6.145461379439955,
           6.052180537040563,
           5.9212198221092756,
           6.19155522931095,
           6.428862064288621,
           7.3489555790587,
           6.440645592589056,
           6.244182438721688,
           6.078644210231451,
           5.685269399495428,
           6.2250453720508165,
           6.1315979754157635,
           6.828613173157809,
           5.839806663214224,
           5.992941134739194,
           5.531483359454227,
           5.441845354126055,
           5.8256982006844025,
           6.996515679442508,
           6.833354962437456,
           5.6930241808508875,
           5.658467276440813,
           5.2538030424339475,
           5.056654076871806,
           5.730293448715815,
           6.281156530408774,
           6.3865420560747665,
           5.949500800763281,
           5.753583531159959,
           5.23130782695674,
           5.357087768008638,
           5.6558574349985395,
           6.746670569296064,
           6.989722789789882,
           6.387337383783026,
           6.614420062695925,
           6.187701400831483,
           6.20695973492541,
           6.583181146186624,
           7.4620452592380415,
           8.149521161569355,
           7.551260048776082,
           7.022304832713755,
           6.725927448360909,
           6.066193705659906,
           6.703359157668033,
           7.399577167019028,
           8.093363062763888,
           7.463649823469116,
           7.376339534794236,
           6.724128700679908,
           6.36034955171128,
           7.1204526133732005,
           8.25037501704623,
           8.341939011055764,
           7.710690685253915,
           8.110254697738227,
           7.541037870694973,
           7.072699682714857,
           8.167513919147906,
           9.624188225274139,
           9.712249001227251,
           8.431203052342912,
           8.257023367174018,
           7.5683940370228795,
           7.135823780406268,
           7.994288224956063,
           9.786637283381749,
           9.873653592691905,
           8.85546569924168,
           8.84383875758918,
           7.995365005793744,
           7.452455590386625,
           8.09364071087003,
           8.973862536302033,
           9.412825135204738,
           8.204710757780784,
           7.917335518561341,
           7.109525383523556,
           6.555638956652279,
           6.5329912349652215,
           8.153149303478335,
           9.687920969914684,
           9.862006604812077,
           9.383177570093459,
           8.71686453081802,
           8.197907522953193,
           8.584849090545672,
           9.350268685881778,
           10.915858506570784,
           10.041763052894693
          ],
          "coloraxis": "coloraxis"
         },
         "name": "",
         "offsetgroup": "",
         "orientation": "v",
         "showlegend": false,
         "textposition": "auto",
         "type": "bar",
         "x": [
          "2020-05-13T00:00:00",
          "2020-05-14T00:00:00",
          "2020-05-15T00:00:00",
          "2020-05-16T00:00:00",
          "2020-05-17T00:00:00",
          "2020-05-18T00:00:00",
          "2020-05-19T00:00:00",
          "2020-05-20T00:00:00",
          "2020-05-21T00:00:00",
          "2020-05-22T00:00:00",
          "2020-05-23T00:00:00",
          "2020-05-24T00:00:00",
          "2020-05-25T00:00:00",
          "2020-05-26T00:00:00",
          "2020-05-27T00:00:00",
          "2020-05-28T00:00:00",
          "2020-05-29T00:00:00",
          "2020-05-30T00:00:00",
          "2020-05-31T00:00:00",
          "2020-06-01T00:00:00",
          "2020-06-02T00:00:00",
          "2020-06-03T00:00:00",
          "2020-06-04T00:00:00",
          "2020-06-05T00:00:00",
          "2020-06-06T00:00:00",
          "2020-06-07T00:00:00",
          "2020-06-08T00:00:00",
          "2020-06-09T00:00:00",
          "2020-06-10T00:00:00",
          "2020-06-11T00:00:00",
          "2020-06-12T00:00:00",
          "2020-06-13T00:00:00",
          "2020-06-14T00:00:00",
          "2020-06-15T00:00:00",
          "2020-06-16T00:00:00",
          "2020-06-17T00:00:00",
          "2020-06-18T00:00:00",
          "2020-06-19T00:00:00",
          "2020-06-20T00:00:00",
          "2020-06-21T00:00:00",
          "2020-06-22T00:00:00",
          "2020-06-23T00:00:00",
          "2020-06-24T00:00:00",
          "2020-06-25T00:00:00",
          "2020-06-26T00:00:00",
          "2020-06-27T00:00:00",
          "2020-06-28T00:00:00",
          "2020-06-29T00:00:00",
          "2020-06-30T00:00:00",
          "2020-07-01T00:00:00",
          "2020-07-02T00:00:00",
          "2020-07-03T00:00:00",
          "2020-07-04T00:00:00",
          "2020-07-05T00:00:00",
          "2020-07-06T00:00:00",
          "2020-07-07T00:00:00",
          "2020-07-08T00:00:00",
          "2020-07-09T00:00:00",
          "2020-07-10T00:00:00",
          "2020-07-11T00:00:00",
          "2020-07-12T00:00:00",
          "2020-07-13T00:00:00",
          "2020-07-14T00:00:00",
          "2020-07-15T00:00:00",
          "2020-07-16T00:00:00",
          "2020-07-17T00:00:00",
          "2020-07-18T00:00:00",
          "2020-07-19T00:00:00",
          "2020-07-20T00:00:00",
          "2020-07-21T00:00:00",
          "2020-07-22T00:00:00",
          "2020-07-23T00:00:00",
          "2020-07-24T00:00:00",
          "2020-07-25T00:00:00",
          "2020-07-26T00:00:00",
          "2020-07-27T00:00:00",
          "2020-07-28T00:00:00",
          "2020-07-29T00:00:00",
          "2020-07-30T00:00:00",
          "2020-07-31T00:00:00",
          "2020-08-01T00:00:00",
          "2020-08-02T00:00:00",
          "2020-08-03T00:00:00",
          "2020-08-04T00:00:00",
          "2020-08-05T00:00:00",
          "2020-08-06T00:00:00",
          "2020-08-07T00:00:00",
          "2020-08-08T00:00:00",
          "2020-08-09T00:00:00",
          "2020-08-10T00:00:00",
          "2020-08-11T00:00:00",
          "2020-08-12T00:00:00",
          "2020-08-13T00:00:00",
          "2020-08-14T00:00:00",
          "2020-08-15T00:00:00",
          "2020-08-16T00:00:00",
          "2020-08-17T00:00:00",
          "2020-08-18T00:00:00",
          "2020-08-19T00:00:00",
          "2020-08-20T00:00:00",
          "2020-08-21T00:00:00",
          "2020-08-22T00:00:00",
          "2020-08-23T00:00:00",
          "2020-08-24T00:00:00",
          "2020-08-25T00:00:00",
          "2020-08-26T00:00:00",
          "2020-08-27T00:00:00",
          "2020-08-28T00:00:00",
          "2020-08-29T00:00:00",
          "2020-08-30T00:00:00",
          "2020-08-31T00:00:00",
          "2020-09-01T00:00:00",
          "2020-09-02T00:00:00",
          "2020-09-03T00:00:00",
          "2020-09-04T00:00:00",
          "2020-09-05T00:00:00",
          "2020-09-06T00:00:00",
          "2020-09-07T00:00:00",
          "2020-09-08T00:00:00",
          "2020-09-09T00:00:00",
          "2020-09-10T00:00:00",
          "2020-09-11T00:00:00",
          "2020-09-12T00:00:00",
          "2020-09-13T00:00:00",
          "2020-09-14T00:00:00",
          "2020-09-15T00:00:00",
          "2020-09-16T00:00:00",
          "2020-09-17T00:00:00",
          "2020-09-18T00:00:00",
          "2020-09-19T00:00:00",
          "2020-09-20T00:00:00",
          "2020-09-21T00:00:00",
          "2020-09-22T00:00:00",
          "2020-09-23T00:00:00",
          "2020-09-24T00:00:00",
          "2020-09-25T00:00:00",
          "2020-09-26T00:00:00",
          "2020-09-27T00:00:00",
          "2020-09-28T00:00:00",
          "2020-09-29T00:00:00",
          "2020-09-30T00:00:00",
          "2020-10-01T00:00:00",
          "2020-10-02T00:00:00",
          "2020-10-03T00:00:00",
          "2020-10-04T00:00:00",
          "2020-10-05T00:00:00",
          "2020-10-06T00:00:00",
          "2020-10-07T00:00:00",
          "2020-10-08T00:00:00",
          "2020-10-09T00:00:00",
          "2020-10-10T00:00:00",
          "2020-10-11T00:00:00",
          "2020-10-12T00:00:00",
          "2020-10-13T00:00:00",
          "2020-10-14T00:00:00",
          "2020-10-15T00:00:00",
          "2020-10-16T00:00:00",
          "2020-10-17T00:00:00",
          "2020-10-18T00:00:00",
          "2020-10-19T00:00:00",
          "2020-10-20T00:00:00",
          "2020-10-21T00:00:00",
          "2020-10-22T00:00:00",
          "2020-10-23T00:00:00",
          "2020-10-24T00:00:00",
          "2020-10-25T00:00:00",
          "2020-10-26T00:00:00",
          "2020-10-27T00:00:00",
          "2020-10-28T00:00:00",
          "2020-10-29T00:00:00",
          "2020-10-30T00:00:00",
          "2020-10-31T00:00:00",
          "2020-11-01T00:00:00",
          "2020-11-02T00:00:00",
          "2020-11-03T00:00:00",
          "2020-11-04T00:00:00",
          "2020-11-05T00:00:00",
          "2020-11-06T00:00:00",
          "2020-11-07T00:00:00",
          "2020-11-08T00:00:00",
          "2020-11-09T00:00:00",
          "2020-11-10T00:00:00",
          "2020-11-11T00:00:00",
          "2020-11-12T00:00:00",
          "2020-11-13T00:00:00",
          "2020-11-14T00:00:00",
          "2020-11-15T00:00:00",
          "2020-11-16T00:00:00",
          "2020-11-17T00:00:00",
          "2020-11-18T00:00:00",
          "2020-11-19T00:00:00",
          "2020-11-20T00:00:00",
          "2020-11-21T00:00:00",
          "2020-11-22T00:00:00",
          "2020-11-23T00:00:00",
          "2020-11-24T00:00:00",
          "2020-11-25T00:00:00",
          "2020-11-26T00:00:00",
          "2020-11-27T00:00:00",
          "2020-11-28T00:00:00",
          "2020-11-29T00:00:00",
          "2020-11-30T00:00:00",
          "2020-12-01T00:00:00",
          "2020-12-02T00:00:00",
          "2020-12-03T00:00:00",
          "2020-12-04T00:00:00",
          "2020-12-05T00:00:00",
          "2020-12-06T00:00:00",
          "2020-12-07T00:00:00",
          "2020-12-08T00:00:00",
          "2020-12-09T00:00:00",
          "2020-12-10T00:00:00",
          "2020-12-11T00:00:00",
          "2020-12-12T00:00:00",
          "2020-12-13T00:00:00",
          "2020-12-14T00:00:00",
          "2020-12-15T00:00:00",
          "2020-12-16T00:00:00",
          "2020-12-17T00:00:00",
          "2020-12-18T00:00:00",
          "2020-12-19T00:00:00",
          "2020-12-20T00:00:00",
          "2020-12-21T00:00:00",
          "2020-12-22T00:00:00",
          "2020-12-23T00:00:00",
          "2020-12-24T00:00:00",
          "2020-12-25T00:00:00",
          "2020-12-26T00:00:00",
          "2020-12-27T00:00:00",
          "2020-12-28T00:00:00",
          "2020-12-29T00:00:00",
          "2020-12-30T00:00:00",
          "2020-12-31T00:00:00",
          "2021-01-01T00:00:00",
          "2021-01-02T00:00:00",
          "2021-01-03T00:00:00",
          "2021-01-04T00:00:00",
          "2021-01-05T00:00:00",
          "2021-01-06T00:00:00",
          "2021-01-07T00:00:00",
          "2021-01-08T00:00:00",
          "2021-01-09T00:00:00",
          "2021-01-10T00:00:00",
          "2021-01-11T00:00:00",
          "2021-01-12T00:00:00",
          "2021-01-13T00:00:00",
          "2021-01-14T00:00:00",
          "2021-01-15T00:00:00",
          "2021-01-16T00:00:00",
          "2021-01-17T00:00:00",
          "2021-01-18T00:00:00",
          "2021-01-19T00:00:00",
          "2021-01-20T00:00:00",
          "2021-01-21T00:00:00",
          "2021-01-22T00:00:00",
          "2021-01-23T00:00:00",
          "2021-01-24T00:00:00",
          "2021-01-25T00:00:00",
          "2021-01-26T00:00:00",
          "2021-01-27T00:00:00",
          "2021-01-28T00:00:00",
          "2021-01-29T00:00:00",
          "2021-01-30T00:00:00",
          "2021-01-31T00:00:00",
          "2021-02-01T00:00:00",
          "2021-02-02T00:00:00",
          "2021-02-03T00:00:00",
          "2021-02-04T00:00:00",
          "2021-02-05T00:00:00",
          "2021-02-06T00:00:00",
          "2021-02-07T00:00:00",
          "2021-02-08T00:00:00",
          "2021-02-09T00:00:00",
          "2021-02-10T00:00:00",
          "2021-02-11T00:00:00",
          "2021-02-12T00:00:00",
          "2021-02-13T00:00:00",
          "2021-02-14T00:00:00",
          "2021-02-15T00:00:00",
          "2021-02-16T00:00:00",
          "2021-02-17T00:00:00",
          "2021-02-18T00:00:00",
          "2021-02-19T00:00:00",
          "2021-02-20T00:00:00",
          "2021-02-21T00:00:00",
          "2021-02-22T00:00:00",
          "2021-02-23T00:00:00",
          "2021-02-24T00:00:00",
          "2021-02-25T00:00:00",
          "2021-02-26T00:00:00",
          "2021-02-27T00:00:00",
          "2021-02-28T00:00:00",
          "2021-03-01T00:00:00",
          "2021-03-02T00:00:00",
          "2021-03-03T00:00:00",
          "2021-03-04T00:00:00",
          "2021-03-05T00:00:00",
          "2021-03-06T00:00:00",
          "2021-03-07T00:00:00",
          "2021-03-08T00:00:00",
          "2021-03-09T00:00:00",
          "2021-03-10T00:00:00",
          "2021-03-11T00:00:00",
          "2021-03-12T00:00:00",
          "2021-03-13T00:00:00",
          "2021-03-14T00:00:00",
          "2021-03-15T00:00:00",
          "2021-03-16T00:00:00",
          "2021-03-17T00:00:00",
          "2021-03-18T00:00:00",
          "2021-03-19T00:00:00",
          "2021-03-20T00:00:00",
          "2021-03-21T00:00:00",
          "2021-03-22T00:00:00",
          "2021-03-23T00:00:00",
          "2021-03-24T00:00:00",
          "2021-03-25T00:00:00",
          "2021-03-26T00:00:00",
          "2021-03-27T00:00:00",
          "2021-03-28T00:00:00",
          "2021-03-29T00:00:00",
          "2021-03-30T00:00:00",
          "2021-03-31T00:00:00",
          "2021-04-01T00:00:00",
          "2021-04-02T00:00:00",
          "2021-04-03T00:00:00",
          "2021-04-04T00:00:00",
          "2021-04-05T00:00:00",
          "2021-04-06T00:00:00",
          "2021-04-07T00:00:00",
          "2021-04-08T00:00:00",
          "2021-04-09T00:00:00",
          "2021-04-10T00:00:00",
          "2021-04-11T00:00:00",
          "2021-04-12T00:00:00",
          "2021-04-13T00:00:00"
         ],
         "xaxis": "x",
         "y": [
          5677,
          6142,
          6711,
          2290,
          763,
          7274,
          7783,
          7592,
          1132,
          6662,
          2445,
          796,
          6699,
          7433,
          6244,
          6146,
          6516,
          2566,
          852,
          1051,
          6250,
          5752,
          5656,
          6007,
          2309,
          716,
          5726,
          5629,
          5333,
          5298,
          5713,
          2320,
          665,
          5304,
          5374,
          5149,
          5025,
          5772,
          2568,
          663,
          6037,
          6293,
          6142,
          5354,
          6492,
          2814,
          869,
          8024,
          8025,
          8117,
          7822,
          8553,
          3849,
          956,
          9569,
          10119,
          10597,
          11301,
          12395,
          4963,
          1031,
          12113,
          1587,
          13160,
          14583,
          15697,
          6277,
          1655,
          14366,
          14510,
          14463,
          14620,
          15414,
          6647,
          2146,
          16160,
          16762,
          17685,
          17619,
          17533,
          7279,
          2444,
          17566,
          16762,
          17575,
          18579,
          18234,
          7832,
          2578,
          18322,
          16674,
          18237,
          19790,
          20951,
          3821,
          3464,
          24191,
          22928,
          23361,
          24837,
          26252,
          10654,
          3440,
          30058,
          28603,
          29507,
          31962,
          32329,
          13046,
          4263,
          35111,
          32853,
          32727,
          35045,
          35619,
          13935,
          4134,
          39854,
          40874,
          40311,
          42818,
          41790,
          15337,
          4366,
          43952,
          43203,
          39140,
          38823,
          36479,
          13332,
          4045,
          36167,
          33142,
          29909,
          30606,
          30473,
          11805,
          3145,
          32144,
          29152,
          27829,
          29526,
          30201,
          12424,
          3364,
          34999,
          32410,
          32126,
          35774,
          39003,
          16546,
          4546,
          44906,
          41947,
          41950,
          47417,
          50069,
          20847,
          5889,
          54348,
          50688,
          52323,
          57387,
          62601,
          26294,
          7192,
          67043,
          62223,
          60108,
          60810,
          63620,
          27088,
          6843,
          67592,
          58782,
          52699,
          55738,
          56195,
          21435,
          4697,
          55129,
          49386,
          7332,
          50804,
          43598,
          16010,
          3666,
          43285,
          36823,
          30433,
          34438,
          34946,
          15103,
          3328,
          35934,
          30584,
          28406,
          30588,
          31399,
          14261,
          3316,
          33306,
          29002,
          26822,
          30566,
          31654,
          15539,
          3671,
          37814,
          34043,
          31888,
          35740,
          38690,
          20844,
          5524,
          49484,
          48354,
          53684,
          67034,
          83379,
          54763,
          18898,
          110373,
          123809,
          126550,
          90197,
          6600,
          39585,
          8613,
          65538,
          57486,
          63138,
          55203,
          5487,
          37295,
          7731,
          67626,
          54152,
          48145,
          51876,
          54772,
          29549,
          7093,
          59920,
          51557,
          47889,
          52510,
          55090,
          31333,
          7373,
          60512,
          52355,
          51568,
          57118,
          62231,
          33060,
          6915,
          67759,
          57930,
          56383,
          65082,
          67716,
          36236,
          7175,
          69351,
          60337,
          56305,
          62450,
          67515,
          36054,
          7021,
          66875,
          58694,
          55183,
          59985,
          64830,
          34230,
          6833,
          65582,
          57113,
          54230,
          59893,
          65491,
          34497,
          6982,
          64740,
          55355,
          53800,
          58386,
          63994,
          33431,
          7095,
          63237,
          52682,
          51977,
          56037,
          61679,
          34113,
          7333,
          65848,
          55235,
          55399,
          66463,
          72490,
          41310,
          9393,
          76594,
          67096,
          64321,
          73252,
          82261,
          45520,
          9983,
          88012,
          79386,
          76754,
          87163,
          95700,
          56044,
          10330,
          100958,
          94592,
          89083,
          102862,
          106580,
          67427,
          11701,
          17816,
          101744,
          80250,
          79937,
          84302,
          50030,
          10235,
          78986,
          64411
         ],
         "yaxis": "y"
        }
       ],
       "layout": {
        "barmode": "relative",
        "coloraxis": {
         "colorbar": {
          "title": {
           "text": "% positive tests"
          }
         },
         "colorscale": [
          [
           0,
           "#0d0887"
          ],
          [
           0.1111111111111111,
           "#46039f"
          ],
          [
           0.2222222222222222,
           "#7201a8"
          ],
          [
           0.3333333333333333,
           "#9c179e"
          ],
          [
           0.4444444444444444,
           "#bd3786"
          ],
          [
           0.5555555555555556,
           "#d8576b"
          ],
          [
           0.6666666666666666,
           "#ed7953"
          ],
          [
           0.7777777777777778,
           "#fb9f3a"
          ],
          [
           0.8888888888888888,
           "#fdca26"
          ],
          [
           1,
           "#f0f921"
          ]
         ]
        },
        "height": 600,
        "legend": {
         "tracegroupgap": 0
        },
        "template": {
         "data": {
          "bar": [
           {
            "error_x": {
             "color": "#2a3f5f"
            },
            "error_y": {
             "color": "#2a3f5f"
            },
            "marker": {
             "line": {
              "color": "#E5ECF6",
              "width": 0.5
             }
            },
            "type": "bar"
           }
          ],
          "barpolar": [
           {
            "marker": {
             "line": {
              "color": "#E5ECF6",
              "width": 0.5
             }
            },
            "type": "barpolar"
           }
          ],
          "carpet": [
           {
            "aaxis": {
             "endlinecolor": "#2a3f5f",
             "gridcolor": "white",
             "linecolor": "white",
             "minorgridcolor": "white",
             "startlinecolor": "#2a3f5f"
            },
            "baxis": {
             "endlinecolor": "#2a3f5f",
             "gridcolor": "white",
             "linecolor": "white",
             "minorgridcolor": "white",
             "startlinecolor": "#2a3f5f"
            },
            "type": "carpet"
           }
          ],
          "choropleth": [
           {
            "colorbar": {
             "outlinewidth": 0,
             "ticks": ""
            },
            "type": "choropleth"
           }
          ],
          "contour": [
           {
            "colorbar": {
             "outlinewidth": 0,
             "ticks": ""
            },
            "colorscale": [
             [
              0,
              "#0d0887"
             ],
             [
              0.1111111111111111,
              "#46039f"
             ],
             [
              0.2222222222222222,
              "#7201a8"
             ],
             [
              0.3333333333333333,
              "#9c179e"
             ],
             [
              0.4444444444444444,
              "#bd3786"
             ],
             [
              0.5555555555555556,
              "#d8576b"
             ],
             [
              0.6666666666666666,
              "#ed7953"
             ],
             [
              0.7777777777777778,
              "#fb9f3a"
             ],
             [
              0.8888888888888888,
              "#fdca26"
             ],
             [
              1,
              "#f0f921"
             ]
            ],
            "type": "contour"
           }
          ],
          "contourcarpet": [
           {
            "colorbar": {
             "outlinewidth": 0,
             "ticks": ""
            },
            "type": "contourcarpet"
           }
          ],
          "heatmap": [
           {
            "colorbar": {
             "outlinewidth": 0,
             "ticks": ""
            },
            "colorscale": [
             [
              0,
              "#0d0887"
             ],
             [
              0.1111111111111111,
              "#46039f"
             ],
             [
              0.2222222222222222,
              "#7201a8"
             ],
             [
              0.3333333333333333,
              "#9c179e"
             ],
             [
              0.4444444444444444,
              "#bd3786"
             ],
             [
              0.5555555555555556,
              "#d8576b"
             ],
             [
              0.6666666666666666,
              "#ed7953"
             ],
             [
              0.7777777777777778,
              "#fb9f3a"
             ],
             [
              0.8888888888888888,
              "#fdca26"
             ],
             [
              1,
              "#f0f921"
             ]
            ],
            "type": "heatmap"
           }
          ],
          "heatmapgl": [
           {
            "colorbar": {
             "outlinewidth": 0,
             "ticks": ""
            },
            "colorscale": [
             [
              0,
              "#0d0887"
             ],
             [
              0.1111111111111111,
              "#46039f"
             ],
             [
              0.2222222222222222,
              "#7201a8"
             ],
             [
              0.3333333333333333,
              "#9c179e"
             ],
             [
              0.4444444444444444,
              "#bd3786"
             ],
             [
              0.5555555555555556,
              "#d8576b"
             ],
             [
              0.6666666666666666,
              "#ed7953"
             ],
             [
              0.7777777777777778,
              "#fb9f3a"
             ],
             [
              0.8888888888888888,
              "#fdca26"
             ],
             [
              1,
              "#f0f921"
             ]
            ],
            "type": "heatmapgl"
           }
          ],
          "histogram": [
           {
            "marker": {
             "colorbar": {
              "outlinewidth": 0,
              "ticks": ""
             }
            },
            "type": "histogram"
           }
          ],
          "histogram2d": [
           {
            "colorbar": {
             "outlinewidth": 0,
             "ticks": ""
            },
            "colorscale": [
             [
              0,
              "#0d0887"
             ],
             [
              0.1111111111111111,
              "#46039f"
             ],
             [
              0.2222222222222222,
              "#7201a8"
             ],
             [
              0.3333333333333333,
              "#9c179e"
             ],
             [
              0.4444444444444444,
              "#bd3786"
             ],
             [
              0.5555555555555556,
              "#d8576b"
             ],
             [
              0.6666666666666666,
              "#ed7953"
             ],
             [
              0.7777777777777778,
              "#fb9f3a"
             ],
             [
              0.8888888888888888,
              "#fdca26"
             ],
             [
              1,
              "#f0f921"
             ]
            ],
            "type": "histogram2d"
           }
          ],
          "histogram2dcontour": [
           {
            "colorbar": {
             "outlinewidth": 0,
             "ticks": ""
            },
            "colorscale": [
             [
              0,
              "#0d0887"
             ],
             [
              0.1111111111111111,
              "#46039f"
             ],
             [
              0.2222222222222222,
              "#7201a8"
             ],
             [
              0.3333333333333333,
              "#9c179e"
             ],
             [
              0.4444444444444444,
              "#bd3786"
             ],
             [
              0.5555555555555556,
              "#d8576b"
             ],
             [
              0.6666666666666666,
              "#ed7953"
             ],
             [
              0.7777777777777778,
              "#fb9f3a"
             ],
             [
              0.8888888888888888,
              "#fdca26"
             ],
             [
              1,
              "#f0f921"
             ]
            ],
            "type": "histogram2dcontour"
           }
          ],
          "mesh3d": [
           {
            "colorbar": {
             "outlinewidth": 0,
             "ticks": ""
            },
            "type": "mesh3d"
           }
          ],
          "parcoords": [
           {
            "line": {
             "colorbar": {
              "outlinewidth": 0,
              "ticks": ""
             }
            },
            "type": "parcoords"
           }
          ],
          "pie": [
           {
            "automargin": true,
            "type": "pie"
           }
          ],
          "scatter": [
           {
            "marker": {
             "colorbar": {
              "outlinewidth": 0,
              "ticks": ""
             }
            },
            "type": "scatter"
           }
          ],
          "scatter3d": [
           {
            "line": {
             "colorbar": {
              "outlinewidth": 0,
              "ticks": ""
             }
            },
            "marker": {
             "colorbar": {
              "outlinewidth": 0,
              "ticks": ""
             }
            },
            "type": "scatter3d"
           }
          ],
          "scattercarpet": [
           {
            "marker": {
             "colorbar": {
              "outlinewidth": 0,
              "ticks": ""
             }
            },
            "type": "scattercarpet"
           }
          ],
          "scattergeo": [
           {
            "marker": {
             "colorbar": {
              "outlinewidth": 0,
              "ticks": ""
             }
            },
            "type": "scattergeo"
           }
          ],
          "scattergl": [
           {
            "marker": {
             "colorbar": {
              "outlinewidth": 0,
              "ticks": ""
             }
            },
            "type": "scattergl"
           }
          ],
          "scattermapbox": [
           {
            "marker": {
             "colorbar": {
              "outlinewidth": 0,
              "ticks": ""
             }
            },
            "type": "scattermapbox"
           }
          ],
          "scatterpolar": [
           {
            "marker": {
             "colorbar": {
              "outlinewidth": 0,
              "ticks": ""
             }
            },
            "type": "scatterpolar"
           }
          ],
          "scatterpolargl": [
           {
            "marker": {
             "colorbar": {
              "outlinewidth": 0,
              "ticks": ""
             }
            },
            "type": "scatterpolargl"
           }
          ],
          "scatterternary": [
           {
            "marker": {
             "colorbar": {
              "outlinewidth": 0,
              "ticks": ""
             }
            },
            "type": "scatterternary"
           }
          ],
          "surface": [
           {
            "colorbar": {
             "outlinewidth": 0,
             "ticks": ""
            },
            "colorscale": [
             [
              0,
              "#0d0887"
             ],
             [
              0.1111111111111111,
              "#46039f"
             ],
             [
              0.2222222222222222,
              "#7201a8"
             ],
             [
              0.3333333333333333,
              "#9c179e"
             ],
             [
              0.4444444444444444,
              "#bd3786"
             ],
             [
              0.5555555555555556,
              "#d8576b"
             ],
             [
              0.6666666666666666,
              "#ed7953"
             ],
             [
              0.7777777777777778,
              "#fb9f3a"
             ],
             [
              0.8888888888888888,
              "#fdca26"
             ],
             [
              1,
              "#f0f921"
             ]
            ],
            "type": "surface"
           }
          ],
          "table": [
           {
            "cells": {
             "fill": {
              "color": "#EBF0F8"
             },
             "line": {
              "color": "white"
             }
            },
            "header": {
             "fill": {
              "color": "#C8D4E3"
             },
             "line": {
              "color": "white"
             }
            },
            "type": "table"
           }
          ]
         },
         "layout": {
          "annotationdefaults": {
           "arrowcolor": "#2a3f5f",
           "arrowhead": 0,
           "arrowwidth": 1
          },
          "autotypenumbers": "strict",
          "coloraxis": {
           "colorbar": {
            "outlinewidth": 0,
            "ticks": ""
           }
          },
          "colorscale": {
           "diverging": [
            [
             0,
             "#8e0152"
            ],
            [
             0.1,
             "#c51b7d"
            ],
            [
             0.2,
             "#de77ae"
            ],
            [
             0.3,
             "#f1b6da"
            ],
            [
             0.4,
             "#fde0ef"
            ],
            [
             0.5,
             "#f7f7f7"
            ],
            [
             0.6,
             "#e6f5d0"
            ],
            [
             0.7,
             "#b8e186"
            ],
            [
             0.8,
             "#7fbc41"
            ],
            [
             0.9,
             "#4d9221"
            ],
            [
             1,
             "#276419"
            ]
           ],
           "sequential": [
            [
             0,
             "#0d0887"
            ],
            [
             0.1111111111111111,
             "#46039f"
            ],
            [
             0.2222222222222222,
             "#7201a8"
            ],
            [
             0.3333333333333333,
             "#9c179e"
            ],
            [
             0.4444444444444444,
             "#bd3786"
            ],
            [
             0.5555555555555556,
             "#d8576b"
            ],
            [
             0.6666666666666666,
             "#ed7953"
            ],
            [
             0.7777777777777778,
             "#fb9f3a"
            ],
            [
             0.8888888888888888,
             "#fdca26"
            ],
            [
             1,
             "#f0f921"
            ]
           ],
           "sequentialminus": [
            [
             0,
             "#0d0887"
            ],
            [
             0.1111111111111111,
             "#46039f"
            ],
            [
             0.2222222222222222,
             "#7201a8"
            ],
            [
             0.3333333333333333,
             "#9c179e"
            ],
            [
             0.4444444444444444,
             "#bd3786"
            ],
            [
             0.5555555555555556,
             "#d8576b"
            ],
            [
             0.6666666666666666,
             "#ed7953"
            ],
            [
             0.7777777777777778,
             "#fb9f3a"
            ],
            [
             0.8888888888888888,
             "#fdca26"
            ],
            [
             1,
             "#f0f921"
            ]
           ]
          },
          "colorway": [
           "#636efa",
           "#EF553B",
           "#00cc96",
           "#ab63fa",
           "#FFA15A",
           "#19d3f3",
           "#FF6692",
           "#B6E880",
           "#FF97FF",
           "#FECB52"
          ],
          "font": {
           "color": "#2a3f5f"
          },
          "geo": {
           "bgcolor": "white",
           "lakecolor": "white",
           "landcolor": "#E5ECF6",
           "showlakes": true,
           "showland": true,
           "subunitcolor": "white"
          },
          "hoverlabel": {
           "align": "left"
          },
          "hovermode": "closest",
          "mapbox": {
           "style": "light"
          },
          "paper_bgcolor": "white",
          "plot_bgcolor": "#E5ECF6",
          "polar": {
           "angularaxis": {
            "gridcolor": "white",
            "linecolor": "white",
            "ticks": ""
           },
           "bgcolor": "#E5ECF6",
           "radialaxis": {
            "gridcolor": "white",
            "linecolor": "white",
            "ticks": ""
           }
          },
          "scene": {
           "xaxis": {
            "backgroundcolor": "#E5ECF6",
            "gridcolor": "white",
            "gridwidth": 2,
            "linecolor": "white",
            "showbackground": true,
            "ticks": "",
            "zerolinecolor": "white"
           },
           "yaxis": {
            "backgroundcolor": "#E5ECF6",
            "gridcolor": "white",
            "gridwidth": 2,
            "linecolor": "white",
            "showbackground": true,
            "ticks": "",
            "zerolinecolor": "white"
           },
           "zaxis": {
            "backgroundcolor": "#E5ECF6",
            "gridcolor": "white",
            "gridwidth": 2,
            "linecolor": "white",
            "showbackground": true,
            "ticks": "",
            "zerolinecolor": "white"
           }
          },
          "shapedefaults": {
           "line": {
            "color": "#2a3f5f"
           }
          },
          "ternary": {
           "aaxis": {
            "gridcolor": "white",
            "linecolor": "white",
            "ticks": ""
           },
           "baxis": {
            "gridcolor": "white",
            "linecolor": "white",
            "ticks": ""
           },
           "bgcolor": "#E5ECF6",
           "caxis": {
            "gridcolor": "white",
            "linecolor": "white",
            "ticks": ""
           }
          },
          "title": {
           "x": 0.05
          },
          "xaxis": {
           "automargin": true,
           "gridcolor": "white",
           "linecolor": "white",
           "ticks": "",
           "title": {
            "standoff": 15
           },
           "zerolinecolor": "white",
           "zerolinewidth": 2
          },
          "yaxis": {
           "automargin": true,
           "gridcolor": "white",
           "linecolor": "white",
           "ticks": "",
           "title": {
            "standoff": 15
           },
           "zerolinecolor": "white",
           "zerolinewidth": 2
          }
         }
        },
        "title": {
         "text": "Covid Screening in France for the age class 39"
        },
        "width": 1000,
        "xaxis": {
         "anchor": "y",
         "domain": [
          0,
          1
         ],
         "rangeslider": {
          "visible": true
         },
         "title": {
          "text": "date"
         }
        },
        "yaxis": {
         "anchor": "x",
         "domain": [
          0,
          1
         ],
         "title": {
          "text": "Tests number"
         }
        }
       }
      }
     },
     "metadata": {}
    }
   ],
   "source": [
    "cvz.daily_test_age(39, screening_daily)"
   ]
  },
  {
   "cell_type": "code",
   "execution_count": null,
   "metadata": {},
   "outputs": [],
   "source": []
  }
 ]
}