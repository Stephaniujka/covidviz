{
 "metadata": {
  "language_info": {
   "codemirror_mode": {
    "name": "ipython",
    "version": 3
   },
   "file_extension": ".py",
   "mimetype": "text/x-python",
   "name": "python",
   "nbconvert_exporter": "python",
   "pygments_lexer": "ipython3",
   "version": "3.8.8-final"
  },
  "orig_nbformat": 2,
  "kernelspec": {
   "name": "python388jvsc74a57bd0f2553dd8eab56fa176af5ba2b5dc4cf53e056913a0b7c75b8a54aa30280dccb2",
   "display_name": "Python 3.8.8 64-bit ('stef_env': conda)"
  }
 },
 "nbformat": 4,
 "nbformat_minor": 2,
 "cells": [
  {
   "cell_type": "code",
   "execution_count": 2,
   "metadata": {},
   "outputs": [],
   "source": [
    "import pandas as pd\n",
    "import plotly.express as px\n",
    "import numpy as np"
   ]
  },
  {
   "cell_type": "code",
   "execution_count": 3,
   "metadata": {},
   "outputs": [],
   "source": [
    "screening_daily = pd.read_csv('../screening/data/sp-pos-quot-dep-2021-04-16-19h05.csv', delimiter=';', low_memory=False)"
   ]
  },
  {
   "cell_type": "code",
   "execution_count": 4,
   "metadata": {},
   "outputs": [],
   "source": [
    "screening_daily.rename(columns={'cl_age90' : 'cl_age', 'jour' : 'date', 'T' : 'Tests number', 'P' : 'Positive tests'}, inplace=True)"
   ]
  },
  {
   "cell_type": "code",
   "execution_count": 5,
   "metadata": {},
   "outputs": [
    {
     "output_type": "execute_result",
     "data": {
      "text/plain": [
       "  dep        date  Positive tests  Tests number  cl_age      pop\n",
       "0  01  2020-05-13               0            16       9  83001.0\n",
       "1  01  2020-05-13               1            17      19  84665.0\n",
       "2  01  2020-05-13               0            34      29  65496.0\n",
       "3  01  2020-05-13               1            72      39  85588.0\n",
       "4  01  2020-05-13               0            54      49  89678.0"
      ],
      "text/html": "<div>\n<style scoped>\n    .dataframe tbody tr th:only-of-type {\n        vertical-align: middle;\n    }\n\n    .dataframe tbody tr th {\n        vertical-align: top;\n    }\n\n    .dataframe thead th {\n        text-align: right;\n    }\n</style>\n<table border=\"1\" class=\"dataframe\">\n  <thead>\n    <tr style=\"text-align: right;\">\n      <th></th>\n      <th>dep</th>\n      <th>date</th>\n      <th>Positive tests</th>\n      <th>Tests number</th>\n      <th>cl_age</th>\n      <th>pop</th>\n    </tr>\n  </thead>\n  <tbody>\n    <tr>\n      <th>0</th>\n      <td>01</td>\n      <td>2020-05-13</td>\n      <td>0</td>\n      <td>16</td>\n      <td>9</td>\n      <td>83001.0</td>\n    </tr>\n    <tr>\n      <th>1</th>\n      <td>01</td>\n      <td>2020-05-13</td>\n      <td>1</td>\n      <td>17</td>\n      <td>19</td>\n      <td>84665.0</td>\n    </tr>\n    <tr>\n      <th>2</th>\n      <td>01</td>\n      <td>2020-05-13</td>\n      <td>0</td>\n      <td>34</td>\n      <td>29</td>\n      <td>65496.0</td>\n    </tr>\n    <tr>\n      <th>3</th>\n      <td>01</td>\n      <td>2020-05-13</td>\n      <td>1</td>\n      <td>72</td>\n      <td>39</td>\n      <td>85588.0</td>\n    </tr>\n    <tr>\n      <th>4</th>\n      <td>01</td>\n      <td>2020-05-13</td>\n      <td>0</td>\n      <td>54</td>\n      <td>49</td>\n      <td>89678.0</td>\n    </tr>\n  </tbody>\n</table>\n</div>"
     },
     "metadata": {},
     "execution_count": 5
    }
   ],
   "source": [
    "screening_daily.head()"
   ]
  },
  {
   "cell_type": "code",
   "execution_count": 6,
   "metadata": {},
   "outputs": [],
   "source": [
    "DEP = pd.DataFrame(screening_daily['dep'].unique())\n",
    "DEP.set_axis(['code'], axis=1, inplace=True)"
   ]
  },
  {
   "cell_type": "code",
   "execution_count": 7,
   "metadata": {},
   "outputs": [],
   "source": [
    "AGE = pd.DataFrame(screening_daily['cl_age'].unique())\n",
    "AGE.set_axis(['classe'], axis=1, inplace=True)"
   ]
  },
  {
   "cell_type": "code",
   "execution_count": 8,
   "metadata": {},
   "outputs": [],
   "source": [
    "DATE = pd.DataFrame(screening_daily['date'].unique())\n",
    "DATE.set_axis(['day'], axis=1, inplace=True)"
   ]
  },
  {
   "cell_type": "code",
   "execution_count": 9,
   "metadata": {},
   "outputs": [
    {
     "output_type": "stream",
     "name": "stderr",
     "text": [
      "/Users/stef/opt/anaconda3/envs/stef_env/lib/python3.8/site-packages/pandas/core/frame.py:4308: SettingWithCopyWarning: \nA value is trying to be set on a copy of a slice from a DataFrame\n\nSee the caveats in the documentation: https://pandas.pydata.org/pandas-docs/stable/user_guide/indexing.html#returning-a-view-versus-a-copy\n  return super().drop(\n/Users/stef/opt/anaconda3/envs/stef_env/lib/python3.8/site-packages/pandas/core/frame.py:4308: SettingWithCopyWarning: \nA value is trying to be set on a copy of a slice from a DataFrame\n\nSee the caveats in the documentation: https://pandas.pydata.org/pandas-docs/stable/user_guide/indexing.html#returning-a-view-versus-a-copy\n  return super().drop(\n/Users/stef/opt/anaconda3/envs/stef_env/lib/python3.8/site-packages/pandas/core/frame.py:4308: SettingWithCopyWarning: \nA value is trying to be set on a copy of a slice from a DataFrame\n\nSee the caveats in the documentation: https://pandas.pydata.org/pandas-docs/stable/user_guide/indexing.html#returning-a-view-versus-a-copy\n  return super().drop(\n/Users/stef/opt/anaconda3/envs/stef_env/lib/python3.8/site-packages/pandas/core/frame.py:4308: SettingWithCopyWarning: \nA value is trying to be set on a copy of a slice from a DataFrame\n\nSee the caveats in the documentation: https://pandas.pydata.org/pandas-docs/stable/user_guide/indexing.html#returning-a-view-versus-a-copy\n  return super().drop(\n/Users/stef/opt/anaconda3/envs/stef_env/lib/python3.8/site-packages/pandas/core/frame.py:4308: SettingWithCopyWarning: \nA value is trying to be set on a copy of a slice from a DataFrame\n\nSee the caveats in the documentation: https://pandas.pydata.org/pandas-docs/stable/user_guide/indexing.html#returning-a-view-versus-a-copy\n  return super().drop(\n/Users/stef/opt/anaconda3/envs/stef_env/lib/python3.8/site-packages/pandas/core/frame.py:4308: SettingWithCopyWarning: \nA value is trying to be set on a copy of a slice from a DataFrame\n\nSee the caveats in the documentation: https://pandas.pydata.org/pandas-docs/stable/user_guide/indexing.html#returning-a-view-versus-a-copy\n  return super().drop(\n/Users/stef/opt/anaconda3/envs/stef_env/lib/python3.8/site-packages/pandas/core/frame.py:4308: SettingWithCopyWarning: \nA value is trying to be set on a copy of a slice from a DataFrame\n\nSee the caveats in the documentation: https://pandas.pydata.org/pandas-docs/stable/user_guide/indexing.html#returning-a-view-versus-a-copy\n  return super().drop(\n/Users/stef/opt/anaconda3/envs/stef_env/lib/python3.8/site-packages/pandas/core/frame.py:4308: SettingWithCopyWarning: \nA value is trying to be set on a copy of a slice from a DataFrame\n\nSee the caveats in the documentation: https://pandas.pydata.org/pandas-docs/stable/user_guide/indexing.html#returning-a-view-versus-a-copy\n  return super().drop(\n/Users/stef/opt/anaconda3/envs/stef_env/lib/python3.8/site-packages/pandas/core/frame.py:4308: SettingWithCopyWarning: \nA value is trying to be set on a copy of a slice from a DataFrame\n\nSee the caveats in the documentation: https://pandas.pydata.org/pandas-docs/stable/user_guide/indexing.html#returning-a-view-versus-a-copy\n  return super().drop(\n/Users/stef/opt/anaconda3/envs/stef_env/lib/python3.8/site-packages/pandas/core/frame.py:4308: SettingWithCopyWarning: \nA value is trying to be set on a copy of a slice from a DataFrame\n\nSee the caveats in the documentation: https://pandas.pydata.org/pandas-docs/stable/user_guide/indexing.html#returning-a-view-versus-a-copy\n  return super().drop(\n/Users/stef/opt/anaconda3/envs/stef_env/lib/python3.8/site-packages/pandas/core/frame.py:4308: SettingWithCopyWarning: \nA value is trying to be set on a copy of a slice from a DataFrame\n\nSee the caveats in the documentation: https://pandas.pydata.org/pandas-docs/stable/user_guide/indexing.html#returning-a-view-versus-a-copy\n  return super().drop(\n"
     ]
    }
   ],
   "source": [
    "screening_daily_age_dep = {}\n",
    "for age in AGE['classe'].tolist():\n",
    "    screening_daily_age_dep[age] = screening_daily[screening_daily['cl_age'] == age]\n",
    "    screening_daily_age_dep[age].drop(['cl_age'], axis=1, inplace=True)\n",
    "    screening_daily_age_dep[age] = screening_daily_age_dep[age].reset_index()\n",
    "    screening_daily_age_dep[age].drop(['pop','index'], axis=1, inplace=True)\n",
    "    screening_daily_age_dep[age]['Tests cumul'] = screening_daily_age_dep[age]['Tests number'].cumsum()\n",
    "    screening_daily_age_dep[age]['% positive tests'] = (screening_daily_age_dep[age]['Positive tests']/screening_daily_age_dep[age]['Tests number'])*100\n",
    "    screening_daily_age_dep[age].fillna(0, inplace=True)"
   ]
  },
  {
   "cell_type": "code",
   "execution_count": 10,
   "metadata": {},
   "outputs": [
    {
     "output_type": "execute_result",
     "data": {
      "text/plain": [
       "       dep        date  Positive tests  Tests number  Tests cumul  \\\n",
       "0       01  2020-05-13               0            16           16   \n",
       "1       01  2020-05-14               0            27           43   \n",
       "2       01  2020-05-15               0            31           74   \n",
       "3       01  2020-05-16               0            13           87   \n",
       "4       01  2020-05-17               0             0           87   \n",
       "...    ...         ...             ...           ...          ...   \n",
       "34939  978  2021-04-09               0             0      3373453   \n",
       "34940  978  2021-04-10               0             4      3373457   \n",
       "34941  978  2021-04-11               0             0      3373457   \n",
       "34942  978  2021-04-12               0             1      3373458   \n",
       "34943  978  2021-04-13               0             0      3373458   \n",
       "\n",
       "       % positive tests  \n",
       "0                   0.0  \n",
       "1                   0.0  \n",
       "2                   0.0  \n",
       "3                   0.0  \n",
       "4                   0.0  \n",
       "...                 ...  \n",
       "34939               0.0  \n",
       "34940               0.0  \n",
       "34941               0.0  \n",
       "34942               0.0  \n",
       "34943               0.0  \n",
       "\n",
       "[34944 rows x 6 columns]"
      ],
      "text/html": "<div>\n<style scoped>\n    .dataframe tbody tr th:only-of-type {\n        vertical-align: middle;\n    }\n\n    .dataframe tbody tr th {\n        vertical-align: top;\n    }\n\n    .dataframe thead th {\n        text-align: right;\n    }\n</style>\n<table border=\"1\" class=\"dataframe\">\n  <thead>\n    <tr style=\"text-align: right;\">\n      <th></th>\n      <th>dep</th>\n      <th>date</th>\n      <th>Positive tests</th>\n      <th>Tests number</th>\n      <th>Tests cumul</th>\n      <th>% positive tests</th>\n    </tr>\n  </thead>\n  <tbody>\n    <tr>\n      <th>0</th>\n      <td>01</td>\n      <td>2020-05-13</td>\n      <td>0</td>\n      <td>16</td>\n      <td>16</td>\n      <td>0.0</td>\n    </tr>\n    <tr>\n      <th>1</th>\n      <td>01</td>\n      <td>2020-05-14</td>\n      <td>0</td>\n      <td>27</td>\n      <td>43</td>\n      <td>0.0</td>\n    </tr>\n    <tr>\n      <th>2</th>\n      <td>01</td>\n      <td>2020-05-15</td>\n      <td>0</td>\n      <td>31</td>\n      <td>74</td>\n      <td>0.0</td>\n    </tr>\n    <tr>\n      <th>3</th>\n      <td>01</td>\n      <td>2020-05-16</td>\n      <td>0</td>\n      <td>13</td>\n      <td>87</td>\n      <td>0.0</td>\n    </tr>\n    <tr>\n      <th>4</th>\n      <td>01</td>\n      <td>2020-05-17</td>\n      <td>0</td>\n      <td>0</td>\n      <td>87</td>\n      <td>0.0</td>\n    </tr>\n    <tr>\n      <th>...</th>\n      <td>...</td>\n      <td>...</td>\n      <td>...</td>\n      <td>...</td>\n      <td>...</td>\n      <td>...</td>\n    </tr>\n    <tr>\n      <th>34939</th>\n      <td>978</td>\n      <td>2021-04-09</td>\n      <td>0</td>\n      <td>0</td>\n      <td>3373453</td>\n      <td>0.0</td>\n    </tr>\n    <tr>\n      <th>34940</th>\n      <td>978</td>\n      <td>2021-04-10</td>\n      <td>0</td>\n      <td>4</td>\n      <td>3373457</td>\n      <td>0.0</td>\n    </tr>\n    <tr>\n      <th>34941</th>\n      <td>978</td>\n      <td>2021-04-11</td>\n      <td>0</td>\n      <td>0</td>\n      <td>3373457</td>\n      <td>0.0</td>\n    </tr>\n    <tr>\n      <th>34942</th>\n      <td>978</td>\n      <td>2021-04-12</td>\n      <td>0</td>\n      <td>1</td>\n      <td>3373458</td>\n      <td>0.0</td>\n    </tr>\n    <tr>\n      <th>34943</th>\n      <td>978</td>\n      <td>2021-04-13</td>\n      <td>0</td>\n      <td>0</td>\n      <td>3373458</td>\n      <td>0.0</td>\n    </tr>\n  </tbody>\n</table>\n<p>34944 rows × 6 columns</p>\n</div>"
     },
     "metadata": {},
     "execution_count": 10
    }
   ],
   "source": [
    "screening_daily_age_dep[9]"
   ]
  },
  {
   "cell_type": "code",
   "execution_count": 11,
   "metadata": {},
   "outputs": [
    {
     "output_type": "stream",
     "name": "stderr",
     "text": [
      "/Users/stef/opt/anaconda3/envs/stef_env/lib/python3.8/site-packages/pandas/core/frame.py:4308: SettingWithCopyWarning: \n",
      "A value is trying to be set on a copy of a slice from a DataFrame\n",
      "\n",
      "See the caveats in the documentation: https://pandas.pydata.org/pandas-docs/stable/user_guide/indexing.html#returning-a-view-versus-a-copy\n",
      "  return super().drop(\n",
      "/Users/stef/opt/anaconda3/envs/stef_env/lib/python3.8/site-packages/pandas/core/frame.py:4308: SettingWithCopyWarning: \n",
      "A value is trying to be set on a copy of a slice from a DataFrame\n",
      "\n",
      "See the caveats in the documentation: https://pandas.pydata.org/pandas-docs/stable/user_guide/indexing.html#returning-a-view-versus-a-copy\n",
      "  return super().drop(\n",
      "/Users/stef/opt/anaconda3/envs/stef_env/lib/python3.8/site-packages/pandas/core/frame.py:4308: SettingWithCopyWarning: \n",
      "A value is trying to be set on a copy of a slice from a DataFrame\n",
      "\n",
      "See the caveats in the documentation: https://pandas.pydata.org/pandas-docs/stable/user_guide/indexing.html#returning-a-view-versus-a-copy\n",
      "  return super().drop(\n",
      "/Users/stef/opt/anaconda3/envs/stef_env/lib/python3.8/site-packages/pandas/core/frame.py:4308: SettingWithCopyWarning: \n",
      "A value is trying to be set on a copy of a slice from a DataFrame\n",
      "\n",
      "See the caveats in the documentation: https://pandas.pydata.org/pandas-docs/stable/user_guide/indexing.html#returning-a-view-versus-a-copy\n",
      "  return super().drop(\n",
      "/Users/stef/opt/anaconda3/envs/stef_env/lib/python3.8/site-packages/pandas/core/frame.py:4308: SettingWithCopyWarning: \n",
      "A value is trying to be set on a copy of a slice from a DataFrame\n",
      "\n",
      "See the caveats in the documentation: https://pandas.pydata.org/pandas-docs/stable/user_guide/indexing.html#returning-a-view-versus-a-copy\n",
      "  return super().drop(\n",
      "/Users/stef/opt/anaconda3/envs/stef_env/lib/python3.8/site-packages/pandas/core/frame.py:4308: SettingWithCopyWarning: \n",
      "A value is trying to be set on a copy of a slice from a DataFrame\n",
      "\n",
      "See the caveats in the documentation: https://pandas.pydata.org/pandas-docs/stable/user_guide/indexing.html#returning-a-view-versus-a-copy\n",
      "  return super().drop(\n",
      "/Users/stef/opt/anaconda3/envs/stef_env/lib/python3.8/site-packages/pandas/core/frame.py:4308: SettingWithCopyWarning: \n",
      "A value is trying to be set on a copy of a slice from a DataFrame\n",
      "\n",
      "See the caveats in the documentation: https://pandas.pydata.org/pandas-docs/stable/user_guide/indexing.html#returning-a-view-versus-a-copy\n",
      "  return super().drop(\n",
      "/Users/stef/opt/anaconda3/envs/stef_env/lib/python3.8/site-packages/pandas/core/frame.py:4308: SettingWithCopyWarning: \n",
      "A value is trying to be set on a copy of a slice from a DataFrame\n",
      "\n",
      "See the caveats in the documentation: https://pandas.pydata.org/pandas-docs/stable/user_guide/indexing.html#returning-a-view-versus-a-copy\n",
      "  return super().drop(\n",
      "/Users/stef/opt/anaconda3/envs/stef_env/lib/python3.8/site-packages/pandas/core/frame.py:4308: SettingWithCopyWarning: \n",
      "A value is trying to be set on a copy of a slice from a DataFrame\n",
      "\n",
      "See the caveats in the documentation: https://pandas.pydata.org/pandas-docs/stable/user_guide/indexing.html#returning-a-view-versus-a-copy\n",
      "  return super().drop(\n",
      "/Users/stef/opt/anaconda3/envs/stef_env/lib/python3.8/site-packages/pandas/core/frame.py:4308: SettingWithCopyWarning: \n",
      "A value is trying to be set on a copy of a slice from a DataFrame\n",
      "\n",
      "See the caveats in the documentation: https://pandas.pydata.org/pandas-docs/stable/user_guide/indexing.html#returning-a-view-versus-a-copy\n",
      "  return super().drop(\n",
      "/Users/stef/opt/anaconda3/envs/stef_env/lib/python3.8/site-packages/pandas/core/frame.py:4308: SettingWithCopyWarning: \n",
      "A value is trying to be set on a copy of a slice from a DataFrame\n",
      "\n",
      "See the caveats in the documentation: https://pandas.pydata.org/pandas-docs/stable/user_guide/indexing.html#returning-a-view-versus-a-copy\n",
      "  return super().drop(\n"
     ]
    }
   ],
   "source": [
    "screening_daily_age = {}\n",
    "for age in AGE['classe'].tolist():\n",
    "    screening_daily_age[age] = screening_daily[screening_daily['cl_age'] == age]\n",
    "    screening_daily_age[age].drop(['cl_age'], axis=1, inplace=True)\n",
    "    screening_daily_age[age] = screening_daily_age[age].reset_index()\n",
    "    screening_daily_age[age] = screening_daily_age[age].set_index('date')\n",
    "    screening_daily_age[age].index = pd.to_datetime(screening_daily_age[age].index,format=\"%Y-%m-%d\")\n",
    "    screening_daily_age[age] = screening_daily_age[age].resample(\"1D\").sum()\n",
    "    screening_daily_age[age].drop(['pop','index'], axis=1, inplace=True)\n",
    "    screening_daily_age[age]['Tests cumul'] = screening_daily_age[age]['Tests number'].cumsum()\n",
    "    screening_daily_age[age]['% positive tests'] = (screening_daily_age[age]['Positive tests']/screening_daily_age[age]['Tests number'])*100\n",
    "    screening_daily_age[age] = screening_daily_age[age].reset_index()"
   ]
  },
  {
   "cell_type": "code",
   "execution_count": 12,
   "metadata": {},
   "outputs": [
    {
     "output_type": "execute_result",
     "data": {
      "text/plain": [
       "          date  Positive tests  Tests number  Tests cumul  % positive tests\n",
       "0   2020-05-13              13          1276         1276          1.018809\n",
       "1   2020-05-14              18          1502         2778          1.198402\n",
       "2   2020-05-15              16          2079         4857          0.769601\n",
       "3   2020-05-16              10           894         5751          1.118568\n",
       "4   2020-05-17               6           411         6162          1.459854\n",
       "..         ...             ...           ...          ...               ...\n",
       "331 2021-04-09            2176         32225      3320720          6.752521\n",
       "332 2021-04-10            1177         15095      3335815          7.797284\n",
       "333 2021-04-11             258          3156      3338971          8.174905\n",
       "334 2021-04-12            2142         19612      3358583         10.921885\n",
       "335 2021-04-13            1588         14875      3373458         10.675630\n",
       "\n",
       "[336 rows x 5 columns]"
      ],
      "text/html": "<div>\n<style scoped>\n    .dataframe tbody tr th:only-of-type {\n        vertical-align: middle;\n    }\n\n    .dataframe tbody tr th {\n        vertical-align: top;\n    }\n\n    .dataframe thead th {\n        text-align: right;\n    }\n</style>\n<table border=\"1\" class=\"dataframe\">\n  <thead>\n    <tr style=\"text-align: right;\">\n      <th></th>\n      <th>date</th>\n      <th>Positive tests</th>\n      <th>Tests number</th>\n      <th>Tests cumul</th>\n      <th>% positive tests</th>\n    </tr>\n  </thead>\n  <tbody>\n    <tr>\n      <th>0</th>\n      <td>2020-05-13</td>\n      <td>13</td>\n      <td>1276</td>\n      <td>1276</td>\n      <td>1.018809</td>\n    </tr>\n    <tr>\n      <th>1</th>\n      <td>2020-05-14</td>\n      <td>18</td>\n      <td>1502</td>\n      <td>2778</td>\n      <td>1.198402</td>\n    </tr>\n    <tr>\n      <th>2</th>\n      <td>2020-05-15</td>\n      <td>16</td>\n      <td>2079</td>\n      <td>4857</td>\n      <td>0.769601</td>\n    </tr>\n    <tr>\n      <th>3</th>\n      <td>2020-05-16</td>\n      <td>10</td>\n      <td>894</td>\n      <td>5751</td>\n      <td>1.118568</td>\n    </tr>\n    <tr>\n      <th>4</th>\n      <td>2020-05-17</td>\n      <td>6</td>\n      <td>411</td>\n      <td>6162</td>\n      <td>1.459854</td>\n    </tr>\n    <tr>\n      <th>...</th>\n      <td>...</td>\n      <td>...</td>\n      <td>...</td>\n      <td>...</td>\n      <td>...</td>\n    </tr>\n    <tr>\n      <th>331</th>\n      <td>2021-04-09</td>\n      <td>2176</td>\n      <td>32225</td>\n      <td>3320720</td>\n      <td>6.752521</td>\n    </tr>\n    <tr>\n      <th>332</th>\n      <td>2021-04-10</td>\n      <td>1177</td>\n      <td>15095</td>\n      <td>3335815</td>\n      <td>7.797284</td>\n    </tr>\n    <tr>\n      <th>333</th>\n      <td>2021-04-11</td>\n      <td>258</td>\n      <td>3156</td>\n      <td>3338971</td>\n      <td>8.174905</td>\n    </tr>\n    <tr>\n      <th>334</th>\n      <td>2021-04-12</td>\n      <td>2142</td>\n      <td>19612</td>\n      <td>3358583</td>\n      <td>10.921885</td>\n    </tr>\n    <tr>\n      <th>335</th>\n      <td>2021-04-13</td>\n      <td>1588</td>\n      <td>14875</td>\n      <td>3373458</td>\n      <td>10.675630</td>\n    </tr>\n  </tbody>\n</table>\n<p>336 rows × 5 columns</p>\n</div>"
     },
     "metadata": {},
     "execution_count": 12
    }
   ],
   "source": [
    "screening_daily_age[9]"
   ]
  },
  {
   "cell_type": "code",
   "execution_count": 13,
   "metadata": {},
   "outputs": [
    {
     "output_type": "stream",
     "name": "stderr",
     "text": [
      "/Users/stef/opt/anaconda3/envs/stef_env/lib/python3.8/site-packages/pandas/core/frame.py:4308: SettingWithCopyWarning: \nA value is trying to be set on a copy of a slice from a DataFrame\n\nSee the caveats in the documentation: https://pandas.pydata.org/pandas-docs/stable/user_guide/indexing.html#returning-a-view-versus-a-copy\n  return super().drop(\n"
     ]
    }
   ],
   "source": [
    "screening_daily_dep = {}\n",
    "for dep_code in DEP['code'].tolist():\n",
    "    screening_daily_dep[dep_code] = screening_daily[screening_daily['dep'] == dep_code]\n",
    "    screening_daily_dep[dep_code].drop(['dep'], axis=1, inplace=True)\n",
    "    screening_daily_dep[dep_code] = screening_daily_dep[dep_code].reset_index()\n",
    "    screening_daily_dep[dep_code] = screening_daily_dep[dep_code].set_index('date')\n",
    "    screening_daily_dep[dep_code].index = pd.to_datetime(screening_daily_dep[dep_code].index,format=\"%Y-%m-%d\")\n",
    "    screening_daily_dep[dep_code] = screening_daily_dep[dep_code].resample(\"1D\").sum()\n",
    "    screening_daily_dep[dep_code].drop(['cl_age','pop','index'], axis=1, inplace=True)\n",
    "    screening_daily_dep[dep_code]['Tests cumul'] = screening_daily_dep[dep_code]['Tests number'].cumsum()\n",
    "    screening_daily_dep[dep_code]['% positive tests'] = (screening_daily_dep[dep_code]['Positive tests']/screening_daily_dep[dep_code]['Tests number'])*100\n",
    "    screening_daily_dep[dep_code] = screening_daily_dep[dep_code].reset_index()"
   ]
  },
  {
   "cell_type": "code",
   "execution_count": 14,
   "metadata": {},
   "outputs": [],
   "source": [
    "def daily_test(age,department):\n",
    "    df = screening_daily_age_dep[age][screening_daily_age_dep[age]['dep'] == f'{department}']\n",
    "    df.drop(['dep'], axis=1, inplace=True)\n",
    "    df = df.reset_index()\n",
    "\n",
    "    fig = px.bar(df, x='date', y='Tests number', color='% positive tests',\n",
    "             title=f\"Covid Screening in department {department} for class age {age} \", height=600, width=1000)\n",
    "    fig.update_xaxes(rangeslider_visible=True)\n",
    "    return(fig.show())"
   ]
  },
  {
   "cell_type": "code",
   "execution_count": 15,
   "metadata": {},
   "outputs": [
    {
     "output_type": "display_data",
     "data": {
      "application/vnd.plotly.v1+json": {
       "config": {
        "plotlyServerURL": "https://plot.ly"
       },
       "data": [
        {
         "alignmentgroup": "True",
         "hovertemplate": "date=%{x}<br>Tests number=%{y}<br>% positive tests=%{marker.color}<extra></extra>",
         "legendgroup": "",
         "marker": {
          "color": [
           0,
           0,
           0,
           0,
           0,
           0,
           0,
           0,
           0,
           0,
           0,
           0,
           0,
           0,
           0,
           0,
           0,
           0,
           0,
           0,
           0,
           0,
           0,
           0,
           0,
           0,
           0,
           0,
           0,
           0,
           0,
           0,
           0,
           0,
           0,
           0,
           0,
           0,
           0,
           0,
           0,
           0,
           0,
           0,
           0,
           0,
           0,
           0,
           0,
           0,
           0,
           0,
           0,
           0,
           0,
           0,
           0,
           0,
           0,
           0,
           0,
           0,
           0,
           4.761904761904762,
           3.3333333333333335,
           1.8867924528301887,
           0,
           0,
           0,
           0,
           0,
           0,
           0,
           0,
           6.666666666666667,
           0,
           0,
           0,
           0,
           0,
           8.333333333333332,
           0,
           0,
           0,
           0,
           0,
           0,
           0,
           0,
           0,
           0,
           0,
           0,
           0,
           0,
           0,
           0,
           0,
           0,
           0,
           0,
           0,
           0,
           0,
           0,
           0,
           0,
           0,
           0,
           0,
           0,
           0,
           0,
           0,
           2.857142857142857,
           0,
           0,
           0,
           0,
           0,
           0,
           0,
           0,
           0,
           0,
           0,
           0,
           0,
           0,
           0,
           0,
           0,
           6.0606060606060606,
           3.225806451612903,
           0,
           0,
           7.142857142857142,
           0,
           0,
           0,
           0,
           0,
           0,
           0,
           0,
           0,
           0,
           5.263157894736842,
           0,
           9.090909090909092,
           0,
           9.090909090909092,
           0,
           0,
           5.263157894736842,
           3.571428571428571,
           2.4390243902439024,
           3.4482758620689653,
           0,
           4,
           2.7777777777777777,
           0,
           5.405405405405405,
           2.941176470588235,
           3.8461538461538463,
           12.5,
           6.666666666666667,
           3.3333333333333335,
           5.769230769230769,
           4.761904761904762,
           6.122448979591836,
           8.108108108108109,
           9.090909090909092,
           1.7241379310344827,
           3.2679738562091507,
           8.536585365853659,
           3.225806451612903,
           7.59493670886076,
           1.8181818181818181,
           13.333333333333334,
           5.185185185185185,
           7.476635514018691,
           3.061224489795918,
           2.4691358024691357,
           5.88235294117647,
           7.317073170731707,
           0,
           10.75268817204301,
           6.329113924050633,
           3.225806451612903,
           0,
           0,
           0,
           0,
           0,
           0,
           1.5151515151515151,
           1.36986301369863,
           1.3157894736842104,
           0,
           0,
           1.4705882352941175,
           0,
           10.81081081081081,
           20.454545454545457,
           1.4492753623188406,
           0,
           0,
           1.3333333333333335,
           1.6129032258064515,
           10.294117647058822,
           1.4705882352941175,
           0,
           5.263157894736842,
           23.52941176470588,
           1.3888888888888888,
           3.7037037037037033,
           7.142857142857142,
           5.263157894736842,
           2.857142857142857,
           0,
           0,
           2.8301886792452833,
           0,
           6.756756756756757,
           3.3333333333333335,
           0,
           0,
           0,
           1.36986301369863,
           5.333333333333334,
           4.040404040404041,
           1.1764705882352942,
           0,
           0,
           0,
           2.3255813953488373,
           5.932203389830509,
           3.076923076923077,
           0,
           3.125,
           2.564102564102564,
           3.3333333333333335,
           3.896103896103896,
           6.779661016949152,
           2.1739130434782608,
           1.4084507042253522,
           0,
           0,
           0,
           2.247191011235955,
           5.333333333333334,
           5.454545454545454,
           1.2048192771084338,
           2.9850746268656714,
           2.272727272727273,
           0,
           1.1363636363636365,
           1.9047619047619049,
           1.5873015873015872,
           2.1052631578947367,
           1.4084507042253522,
           2.5316455696202533,
           0,
           6.521739130434782,
           4.25531914893617,
           4.3478260869565215,
           2.9850746268656714,
           0.8064516129032258,
           2.380952380952381,
           0,
           0,
           5.208333333333334,
           0,
           7.142857142857142,
           1.4084507042253522,
           0,
           3.7037037037037033,
           2.3529411764705883,
           4.819277108433735,
           0,
           5.64516129032258,
           0,
           0,
           0,
           0,
           1.4925373134328357,
           0,
           3.5294117647058822,
           1.6129032258064515,
           4.166666666666666,
           0,
           1.8867924528301887,
           0,
           1.2195121951219512,
           1.3888888888888888,
           4.10958904109589,
           5.555555555555555,
           0,
           1.1111111111111112,
           3.125,
           1.8518518518518516,
           0,
           0,
           0,
           0,
           3.4482758620689653,
           7.142857142857142,
           1.4084507042253522,
           1.694915254237288,
           5.88235294117647,
           0,
           4,
           0,
           0.9433962264150944,
           1.639344262295082,
           0,
           1.639344262295082,
           0,
           5.263157894736842,
           2.197802197802198,
           3.0303030303030303,
           4.3478260869565215,
           8.333333333333332,
           1.2658227848101267,
           0,
           3.0303030303030303,
           0,
           0.9900990099009901,
           1.7543859649122806,
           5.357142857142857,
           2.1739130434782608,
           0,
           3.3333333333333335,
           0,
           1.4285714285714286
          ],
          "coloraxis": "coloraxis"
         },
         "name": "",
         "offsetgroup": "",
         "orientation": "v",
         "showlegend": false,
         "textposition": "auto",
         "type": "bar",
         "x": [
          "2020-05-13",
          "2020-05-14",
          "2020-05-15",
          "2020-05-16",
          "2020-05-17",
          "2020-05-18",
          "2020-05-19",
          "2020-05-20",
          "2020-05-21",
          "2020-05-22",
          "2020-05-23",
          "2020-05-24",
          "2020-05-25",
          "2020-05-26",
          "2020-05-27",
          "2020-05-28",
          "2020-05-29",
          "2020-05-30",
          "2020-05-31",
          "2020-06-01",
          "2020-06-02",
          "2020-06-03",
          "2020-06-04",
          "2020-06-05",
          "2020-06-06",
          "2020-06-07",
          "2020-06-08",
          "2020-06-09",
          "2020-06-10",
          "2020-06-11",
          "2020-06-12",
          "2020-06-13",
          "2020-06-14",
          "2020-06-15",
          "2020-06-16",
          "2020-06-17",
          "2020-06-18",
          "2020-06-19",
          "2020-06-20",
          "2020-06-21",
          "2020-06-22",
          "2020-06-23",
          "2020-06-24",
          "2020-06-25",
          "2020-06-26",
          "2020-06-27",
          "2020-06-28",
          "2020-06-29",
          "2020-06-30",
          "2020-07-01",
          "2020-07-02",
          "2020-07-03",
          "2020-07-04",
          "2020-07-05",
          "2020-07-06",
          "2020-07-07",
          "2020-07-08",
          "2020-07-09",
          "2020-07-10",
          "2020-07-11",
          "2020-07-12",
          "2020-07-13",
          "2020-07-14",
          "2020-07-15",
          "2020-07-16",
          "2020-07-17",
          "2020-07-18",
          "2020-07-19",
          "2020-07-20",
          "2020-07-21",
          "2020-07-22",
          "2020-07-23",
          "2020-07-24",
          "2020-07-25",
          "2020-07-26",
          "2020-07-27",
          "2020-07-28",
          "2020-07-29",
          "2020-07-30",
          "2020-07-31",
          "2020-08-01",
          "2020-08-02",
          "2020-08-03",
          "2020-08-04",
          "2020-08-05",
          "2020-08-06",
          "2020-08-07",
          "2020-08-08",
          "2020-08-09",
          "2020-08-10",
          "2020-08-11",
          "2020-08-12",
          "2020-08-13",
          "2020-08-14",
          "2020-08-15",
          "2020-08-16",
          "2020-08-17",
          "2020-08-18",
          "2020-08-19",
          "2020-08-20",
          "2020-08-21",
          "2020-08-22",
          "2020-08-23",
          "2020-08-24",
          "2020-08-25",
          "2020-08-26",
          "2020-08-27",
          "2020-08-28",
          "2020-08-29",
          "2020-08-30",
          "2020-08-31",
          "2020-09-01",
          "2020-09-02",
          "2020-09-03",
          "2020-09-04",
          "2020-09-05",
          "2020-09-06",
          "2020-09-07",
          "2020-09-08",
          "2020-09-09",
          "2020-09-10",
          "2020-09-11",
          "2020-09-12",
          "2020-09-13",
          "2020-09-14",
          "2020-09-15",
          "2020-09-16",
          "2020-09-17",
          "2020-09-18",
          "2020-09-19",
          "2020-09-20",
          "2020-09-21",
          "2020-09-22",
          "2020-09-23",
          "2020-09-24",
          "2020-09-25",
          "2020-09-26",
          "2020-09-27",
          "2020-09-28",
          "2020-09-29",
          "2020-09-30",
          "2020-10-01",
          "2020-10-02",
          "2020-10-03",
          "2020-10-04",
          "2020-10-05",
          "2020-10-06",
          "2020-10-07",
          "2020-10-08",
          "2020-10-09",
          "2020-10-10",
          "2020-10-11",
          "2020-10-12",
          "2020-10-13",
          "2020-10-14",
          "2020-10-15",
          "2020-10-16",
          "2020-10-17",
          "2020-10-18",
          "2020-10-19",
          "2020-10-20",
          "2020-10-21",
          "2020-10-22",
          "2020-10-23",
          "2020-10-24",
          "2020-10-25",
          "2020-10-26",
          "2020-10-27",
          "2020-10-28",
          "2020-10-29",
          "2020-10-30",
          "2020-10-31",
          "2020-11-01",
          "2020-11-02",
          "2020-11-03",
          "2020-11-04",
          "2020-11-05",
          "2020-11-06",
          "2020-11-07",
          "2020-11-08",
          "2020-11-09",
          "2020-11-10",
          "2020-11-11",
          "2020-11-12",
          "2020-11-13",
          "2020-11-14",
          "2020-11-15",
          "2020-11-16",
          "2020-11-17",
          "2020-11-18",
          "2020-11-19",
          "2020-11-20",
          "2020-11-21",
          "2020-11-22",
          "2020-11-23",
          "2020-11-24",
          "2020-11-25",
          "2020-11-26",
          "2020-11-27",
          "2020-11-28",
          "2020-11-29",
          "2020-11-30",
          "2020-12-01",
          "2020-12-02",
          "2020-12-03",
          "2020-12-04",
          "2020-12-05",
          "2020-12-06",
          "2020-12-07",
          "2020-12-08",
          "2020-12-09",
          "2020-12-10",
          "2020-12-11",
          "2020-12-12",
          "2020-12-13",
          "2020-12-14",
          "2020-12-15",
          "2020-12-16",
          "2020-12-17",
          "2020-12-18",
          "2020-12-19",
          "2020-12-20",
          "2020-12-21",
          "2020-12-22",
          "2020-12-23",
          "2020-12-24",
          "2020-12-25",
          "2020-12-26",
          "2020-12-27",
          "2020-12-28",
          "2020-12-29",
          "2020-12-30",
          "2020-12-31",
          "2021-01-01",
          "2021-01-02",
          "2021-01-03",
          "2021-01-04",
          "2021-01-05",
          "2021-01-06",
          "2021-01-07",
          "2021-01-08",
          "2021-01-09",
          "2021-01-10",
          "2021-01-11",
          "2021-01-12",
          "2021-01-13",
          "2021-01-14",
          "2021-01-15",
          "2021-01-16",
          "2021-01-17",
          "2021-01-18",
          "2021-01-19",
          "2021-01-20",
          "2021-01-21",
          "2021-01-22",
          "2021-01-23",
          "2021-01-24",
          "2021-01-25",
          "2021-01-26",
          "2021-01-27",
          "2021-01-28",
          "2021-01-29",
          "2021-01-30",
          "2021-01-31",
          "2021-02-01",
          "2021-02-02",
          "2021-02-03",
          "2021-02-04",
          "2021-02-05",
          "2021-02-06",
          "2021-02-07",
          "2021-02-08",
          "2021-02-09",
          "2021-02-10",
          "2021-02-11",
          "2021-02-12",
          "2021-02-13",
          "2021-02-14",
          "2021-02-15",
          "2021-02-16",
          "2021-02-17",
          "2021-02-18",
          "2021-02-19",
          "2021-02-20",
          "2021-02-21",
          "2021-02-22",
          "2021-02-23",
          "2021-02-24",
          "2021-02-25",
          "2021-02-26",
          "2021-02-27",
          "2021-02-28",
          "2021-03-01",
          "2021-03-02",
          "2021-03-03",
          "2021-03-04",
          "2021-03-05",
          "2021-03-06",
          "2021-03-07",
          "2021-03-08",
          "2021-03-09",
          "2021-03-10",
          "2021-03-11",
          "2021-03-12",
          "2021-03-13",
          "2021-03-14",
          "2021-03-15",
          "2021-03-16",
          "2021-03-17",
          "2021-03-18",
          "2021-03-19",
          "2021-03-20",
          "2021-03-21",
          "2021-03-22",
          "2021-03-23",
          "2021-03-24",
          "2021-03-25",
          "2021-03-26",
          "2021-03-27",
          "2021-03-28",
          "2021-03-29",
          "2021-03-30",
          "2021-03-31",
          "2021-04-01",
          "2021-04-02",
          "2021-04-03",
          "2021-04-04",
          "2021-04-05",
          "2021-04-06",
          "2021-04-07",
          "2021-04-08",
          "2021-04-09",
          "2021-04-10",
          "2021-04-11",
          "2021-04-12",
          "2021-04-13"
         ],
         "xaxis": "x",
         "y": [
          11,
          9,
          9,
          4,
          4,
          17,
          10,
          11,
          11,
          14,
          11,
          8,
          23,
          15,
          13,
          13,
          13,
          5,
          2,
          2,
          27,
          17,
          13,
          9,
          5,
          6,
          18,
          11,
          12,
          8,
          12,
          8,
          3,
          20,
          11,
          10,
          12,
          20,
          3,
          5,
          13,
          15,
          9,
          16,
          10,
          8,
          4,
          21,
          11,
          5,
          11,
          15,
          10,
          5,
          22,
          14,
          7,
          9,
          12,
          6,
          1,
          55,
          10,
          21,
          30,
          53,
          17,
          12,
          37,
          52,
          24,
          23,
          27,
          6,
          15,
          40,
          34,
          22,
          23,
          29,
          12,
          6,
          41,
          37,
          29,
          25,
          27,
          16,
          2,
          26,
          22,
          16,
          18,
          19,
          6,
          5,
          26,
          15,
          17,
          13,
          18,
          8,
          4,
          30,
          26,
          20,
          18,
          26,
          7,
          8,
          21,
          24,
          13,
          18,
          35,
          6,
          7,
          28,
          24,
          10,
          16,
          20,
          14,
          3,
          30,
          54,
          34,
          21,
          36,
          10,
          4,
          31,
          33,
          31,
          38,
          33,
          14,
          12,
          36,
          35,
          51,
          17,
          38,
          25,
          5,
          29,
          25,
          19,
          24,
          22,
          10,
          11,
          32,
          68,
          19,
          28,
          41,
          29,
          11,
          50,
          36,
          33,
          37,
          68,
          26,
          8,
          90,
          60,
          52,
          42,
          49,
          37,
          11,
          58,
          153,
          82,
          62,
          79,
          55,
          15,
          135,
          107,
          98,
          162,
          51,
          41,
          12,
          93,
          79,
          62,
          37,
          59,
          30,
          19,
          59,
          73,
          66,
          73,
          76,
          32,
          21,
          68,
          35,
          37,
          44,
          69,
          29,
          11,
          75,
          62,
          68,
          68,
          54,
          38,
          17,
          72,
          81,
          84,
          57,
          105,
          29,
          24,
          106,
          58,
          74,
          60,
          21,
          35,
          53,
          73,
          75,
          99,
          85,
          24,
          82,
          15,
          86,
          118,
          65,
          58,
          64,
          39,
          30,
          77,
          59,
          46,
          71,
          56,
          46,
          28,
          89,
          75,
          55,
          83,
          67,
          44,
          30,
          88,
          105,
          63,
          95,
          71,
          79,
          26,
          92,
          94,
          115,
          67,
          124,
          42,
          18,
          85,
          96,
          87,
          56,
          71,
          44,
          27,
          85,
          83,
          146,
          124,
          70,
          46,
          25,
          177,
          134,
          71,
          85,
          62,
          72,
          31,
          106,
          90,
          82,
          72,
          73,
          36,
          30,
          90,
          64,
          54,
          51,
          74,
          53,
          29,
          87,
          70,
          71,
          59,
          51,
          49,
          25,
          81,
          106,
          61,
          95,
          61,
          47,
          19,
          91,
          99,
          69,
          84,
          79,
          35,
          33,
          25,
          101,
          114,
          56,
          92,
          65,
          30,
          76,
          70
         ],
         "yaxis": "y"
        }
       ],
       "layout": {
        "barmode": "relative",
        "coloraxis": {
         "colorbar": {
          "title": {
           "text": "% positive tests"
          }
         },
         "colorscale": [
          [
           0,
           "#0d0887"
          ],
          [
           0.1111111111111111,
           "#46039f"
          ],
          [
           0.2222222222222222,
           "#7201a8"
          ],
          [
           0.3333333333333333,
           "#9c179e"
          ],
          [
           0.4444444444444444,
           "#bd3786"
          ],
          [
           0.5555555555555556,
           "#d8576b"
          ],
          [
           0.6666666666666666,
           "#ed7953"
          ],
          [
           0.7777777777777778,
           "#fb9f3a"
          ],
          [
           0.8888888888888888,
           "#fdca26"
          ],
          [
           1,
           "#f0f921"
          ]
         ]
        },
        "height": 600,
        "legend": {
         "tracegroupgap": 0
        },
        "template": {
         "data": {
          "bar": [
           {
            "error_x": {
             "color": "#2a3f5f"
            },
            "error_y": {
             "color": "#2a3f5f"
            },
            "marker": {
             "line": {
              "color": "#E5ECF6",
              "width": 0.5
             }
            },
            "type": "bar"
           }
          ],
          "barpolar": [
           {
            "marker": {
             "line": {
              "color": "#E5ECF6",
              "width": 0.5
             }
            },
            "type": "barpolar"
           }
          ],
          "carpet": [
           {
            "aaxis": {
             "endlinecolor": "#2a3f5f",
             "gridcolor": "white",
             "linecolor": "white",
             "minorgridcolor": "white",
             "startlinecolor": "#2a3f5f"
            },
            "baxis": {
             "endlinecolor": "#2a3f5f",
             "gridcolor": "white",
             "linecolor": "white",
             "minorgridcolor": "white",
             "startlinecolor": "#2a3f5f"
            },
            "type": "carpet"
           }
          ],
          "choropleth": [
           {
            "colorbar": {
             "outlinewidth": 0,
             "ticks": ""
            },
            "type": "choropleth"
           }
          ],
          "contour": [
           {
            "colorbar": {
             "outlinewidth": 0,
             "ticks": ""
            },
            "colorscale": [
             [
              0,
              "#0d0887"
             ],
             [
              0.1111111111111111,
              "#46039f"
             ],
             [
              0.2222222222222222,
              "#7201a8"
             ],
             [
              0.3333333333333333,
              "#9c179e"
             ],
             [
              0.4444444444444444,
              "#bd3786"
             ],
             [
              0.5555555555555556,
              "#d8576b"
             ],
             [
              0.6666666666666666,
              "#ed7953"
             ],
             [
              0.7777777777777778,
              "#fb9f3a"
             ],
             [
              0.8888888888888888,
              "#fdca26"
             ],
             [
              1,
              "#f0f921"
             ]
            ],
            "type": "contour"
           }
          ],
          "contourcarpet": [
           {
            "colorbar": {
             "outlinewidth": 0,
             "ticks": ""
            },
            "type": "contourcarpet"
           }
          ],
          "heatmap": [
           {
            "colorbar": {
             "outlinewidth": 0,
             "ticks": ""
            },
            "colorscale": [
             [
              0,
              "#0d0887"
             ],
             [
              0.1111111111111111,
              "#46039f"
             ],
             [
              0.2222222222222222,
              "#7201a8"
             ],
             [
              0.3333333333333333,
              "#9c179e"
             ],
             [
              0.4444444444444444,
              "#bd3786"
             ],
             [
              0.5555555555555556,
              "#d8576b"
             ],
             [
              0.6666666666666666,
              "#ed7953"
             ],
             [
              0.7777777777777778,
              "#fb9f3a"
             ],
             [
              0.8888888888888888,
              "#fdca26"
             ],
             [
              1,
              "#f0f921"
             ]
            ],
            "type": "heatmap"
           }
          ],
          "heatmapgl": [
           {
            "colorbar": {
             "outlinewidth": 0,
             "ticks": ""
            },
            "colorscale": [
             [
              0,
              "#0d0887"
             ],
             [
              0.1111111111111111,
              "#46039f"
             ],
             [
              0.2222222222222222,
              "#7201a8"
             ],
             [
              0.3333333333333333,
              "#9c179e"
             ],
             [
              0.4444444444444444,
              "#bd3786"
             ],
             [
              0.5555555555555556,
              "#d8576b"
             ],
             [
              0.6666666666666666,
              "#ed7953"
             ],
             [
              0.7777777777777778,
              "#fb9f3a"
             ],
             [
              0.8888888888888888,
              "#fdca26"
             ],
             [
              1,
              "#f0f921"
             ]
            ],
            "type": "heatmapgl"
           }
          ],
          "histogram": [
           {
            "marker": {
             "colorbar": {
              "outlinewidth": 0,
              "ticks": ""
             }
            },
            "type": "histogram"
           }
          ],
          "histogram2d": [
           {
            "colorbar": {
             "outlinewidth": 0,
             "ticks": ""
            },
            "colorscale": [
             [
              0,
              "#0d0887"
             ],
             [
              0.1111111111111111,
              "#46039f"
             ],
             [
              0.2222222222222222,
              "#7201a8"
             ],
             [
              0.3333333333333333,
              "#9c179e"
             ],
             [
              0.4444444444444444,
              "#bd3786"
             ],
             [
              0.5555555555555556,
              "#d8576b"
             ],
             [
              0.6666666666666666,
              "#ed7953"
             ],
             [
              0.7777777777777778,
              "#fb9f3a"
             ],
             [
              0.8888888888888888,
              "#fdca26"
             ],
             [
              1,
              "#f0f921"
             ]
            ],
            "type": "histogram2d"
           }
          ],
          "histogram2dcontour": [
           {
            "colorbar": {
             "outlinewidth": 0,
             "ticks": ""
            },
            "colorscale": [
             [
              0,
              "#0d0887"
             ],
             [
              0.1111111111111111,
              "#46039f"
             ],
             [
              0.2222222222222222,
              "#7201a8"
             ],
             [
              0.3333333333333333,
              "#9c179e"
             ],
             [
              0.4444444444444444,
              "#bd3786"
             ],
             [
              0.5555555555555556,
              "#d8576b"
             ],
             [
              0.6666666666666666,
              "#ed7953"
             ],
             [
              0.7777777777777778,
              "#fb9f3a"
             ],
             [
              0.8888888888888888,
              "#fdca26"
             ],
             [
              1,
              "#f0f921"
             ]
            ],
            "type": "histogram2dcontour"
           }
          ],
          "mesh3d": [
           {
            "colorbar": {
             "outlinewidth": 0,
             "ticks": ""
            },
            "type": "mesh3d"
           }
          ],
          "parcoords": [
           {
            "line": {
             "colorbar": {
              "outlinewidth": 0,
              "ticks": ""
             }
            },
            "type": "parcoords"
           }
          ],
          "pie": [
           {
            "automargin": true,
            "type": "pie"
           }
          ],
          "scatter": [
           {
            "marker": {
             "colorbar": {
              "outlinewidth": 0,
              "ticks": ""
             }
            },
            "type": "scatter"
           }
          ],
          "scatter3d": [
           {
            "line": {
             "colorbar": {
              "outlinewidth": 0,
              "ticks": ""
             }
            },
            "marker": {
             "colorbar": {
              "outlinewidth": 0,
              "ticks": ""
             }
            },
            "type": "scatter3d"
           }
          ],
          "scattercarpet": [
           {
            "marker": {
             "colorbar": {
              "outlinewidth": 0,
              "ticks": ""
             }
            },
            "type": "scattercarpet"
           }
          ],
          "scattergeo": [
           {
            "marker": {
             "colorbar": {
              "outlinewidth": 0,
              "ticks": ""
             }
            },
            "type": "scattergeo"
           }
          ],
          "scattergl": [
           {
            "marker": {
             "colorbar": {
              "outlinewidth": 0,
              "ticks": ""
             }
            },
            "type": "scattergl"
           }
          ],
          "scattermapbox": [
           {
            "marker": {
             "colorbar": {
              "outlinewidth": 0,
              "ticks": ""
             }
            },
            "type": "scattermapbox"
           }
          ],
          "scatterpolar": [
           {
            "marker": {
             "colorbar": {
              "outlinewidth": 0,
              "ticks": ""
             }
            },
            "type": "scatterpolar"
           }
          ],
          "scatterpolargl": [
           {
            "marker": {
             "colorbar": {
              "outlinewidth": 0,
              "ticks": ""
             }
            },
            "type": "scatterpolargl"
           }
          ],
          "scatterternary": [
           {
            "marker": {
             "colorbar": {
              "outlinewidth": 0,
              "ticks": ""
             }
            },
            "type": "scatterternary"
           }
          ],
          "surface": [
           {
            "colorbar": {
             "outlinewidth": 0,
             "ticks": ""
            },
            "colorscale": [
             [
              0,
              "#0d0887"
             ],
             [
              0.1111111111111111,
              "#46039f"
             ],
             [
              0.2222222222222222,
              "#7201a8"
             ],
             [
              0.3333333333333333,
              "#9c179e"
             ],
             [
              0.4444444444444444,
              "#bd3786"
             ],
             [
              0.5555555555555556,
              "#d8576b"
             ],
             [
              0.6666666666666666,
              "#ed7953"
             ],
             [
              0.7777777777777778,
              "#fb9f3a"
             ],
             [
              0.8888888888888888,
              "#fdca26"
             ],
             [
              1,
              "#f0f921"
             ]
            ],
            "type": "surface"
           }
          ],
          "table": [
           {
            "cells": {
             "fill": {
              "color": "#EBF0F8"
             },
             "line": {
              "color": "white"
             }
            },
            "header": {
             "fill": {
              "color": "#C8D4E3"
             },
             "line": {
              "color": "white"
             }
            },
            "type": "table"
           }
          ]
         },
         "layout": {
          "annotationdefaults": {
           "arrowcolor": "#2a3f5f",
           "arrowhead": 0,
           "arrowwidth": 1
          },
          "autotypenumbers": "strict",
          "coloraxis": {
           "colorbar": {
            "outlinewidth": 0,
            "ticks": ""
           }
          },
          "colorscale": {
           "diverging": [
            [
             0,
             "#8e0152"
            ],
            [
             0.1,
             "#c51b7d"
            ],
            [
             0.2,
             "#de77ae"
            ],
            [
             0.3,
             "#f1b6da"
            ],
            [
             0.4,
             "#fde0ef"
            ],
            [
             0.5,
             "#f7f7f7"
            ],
            [
             0.6,
             "#e6f5d0"
            ],
            [
             0.7,
             "#b8e186"
            ],
            [
             0.8,
             "#7fbc41"
            ],
            [
             0.9,
             "#4d9221"
            ],
            [
             1,
             "#276419"
            ]
           ],
           "sequential": [
            [
             0,
             "#0d0887"
            ],
            [
             0.1111111111111111,
             "#46039f"
            ],
            [
             0.2222222222222222,
             "#7201a8"
            ],
            [
             0.3333333333333333,
             "#9c179e"
            ],
            [
             0.4444444444444444,
             "#bd3786"
            ],
            [
             0.5555555555555556,
             "#d8576b"
            ],
            [
             0.6666666666666666,
             "#ed7953"
            ],
            [
             0.7777777777777778,
             "#fb9f3a"
            ],
            [
             0.8888888888888888,
             "#fdca26"
            ],
            [
             1,
             "#f0f921"
            ]
           ],
           "sequentialminus": [
            [
             0,
             "#0d0887"
            ],
            [
             0.1111111111111111,
             "#46039f"
            ],
            [
             0.2222222222222222,
             "#7201a8"
            ],
            [
             0.3333333333333333,
             "#9c179e"
            ],
            [
             0.4444444444444444,
             "#bd3786"
            ],
            [
             0.5555555555555556,
             "#d8576b"
            ],
            [
             0.6666666666666666,
             "#ed7953"
            ],
            [
             0.7777777777777778,
             "#fb9f3a"
            ],
            [
             0.8888888888888888,
             "#fdca26"
            ],
            [
             1,
             "#f0f921"
            ]
           ]
          },
          "colorway": [
           "#636efa",
           "#EF553B",
           "#00cc96",
           "#ab63fa",
           "#FFA15A",
           "#19d3f3",
           "#FF6692",
           "#B6E880",
           "#FF97FF",
           "#FECB52"
          ],
          "font": {
           "color": "#2a3f5f"
          },
          "geo": {
           "bgcolor": "white",
           "lakecolor": "white",
           "landcolor": "#E5ECF6",
           "showlakes": true,
           "showland": true,
           "subunitcolor": "white"
          },
          "hoverlabel": {
           "align": "left"
          },
          "hovermode": "closest",
          "mapbox": {
           "style": "light"
          },
          "paper_bgcolor": "white",
          "plot_bgcolor": "#E5ECF6",
          "polar": {
           "angularaxis": {
            "gridcolor": "white",
            "linecolor": "white",
            "ticks": ""
           },
           "bgcolor": "#E5ECF6",
           "radialaxis": {
            "gridcolor": "white",
            "linecolor": "white",
            "ticks": ""
           }
          },
          "scene": {
           "xaxis": {
            "backgroundcolor": "#E5ECF6",
            "gridcolor": "white",
            "gridwidth": 2,
            "linecolor": "white",
            "showbackground": true,
            "ticks": "",
            "zerolinecolor": "white"
           },
           "yaxis": {
            "backgroundcolor": "#E5ECF6",
            "gridcolor": "white",
            "gridwidth": 2,
            "linecolor": "white",
            "showbackground": true,
            "ticks": "",
            "zerolinecolor": "white"
           },
           "zaxis": {
            "backgroundcolor": "#E5ECF6",
            "gridcolor": "white",
            "gridwidth": 2,
            "linecolor": "white",
            "showbackground": true,
            "ticks": "",
            "zerolinecolor": "white"
           }
          },
          "shapedefaults": {
           "line": {
            "color": "#2a3f5f"
           }
          },
          "ternary": {
           "aaxis": {
            "gridcolor": "white",
            "linecolor": "white",
            "ticks": ""
           },
           "baxis": {
            "gridcolor": "white",
            "linecolor": "white",
            "ticks": ""
           },
           "bgcolor": "#E5ECF6",
           "caxis": {
            "gridcolor": "white",
            "linecolor": "white",
            "ticks": ""
           }
          },
          "title": {
           "x": 0.05
          },
          "xaxis": {
           "automargin": true,
           "gridcolor": "white",
           "linecolor": "white",
           "ticks": "",
           "title": {
            "standoff": 15
           },
           "zerolinecolor": "white",
           "zerolinewidth": 2
          },
          "yaxis": {
           "automargin": true,
           "gridcolor": "white",
           "linecolor": "white",
           "ticks": "",
           "title": {
            "standoff": 15
           },
           "zerolinecolor": "white",
           "zerolinewidth": 2
          }
         }
        },
        "title": {
         "text": "Covid Screening in department 29 for class age 90 "
        },
        "width": 1000,
        "xaxis": {
         "anchor": "y",
         "domain": [
          0,
          1
         ],
         "rangeslider": {
          "visible": true
         },
         "title": {
          "text": "date"
         }
        },
        "yaxis": {
         "anchor": "x",
         "domain": [
          0,
          1
         ],
         "title": {
          "text": "Tests number"
         }
        }
       }
      }
     },
     "metadata": {}
    }
   ],
   "source": [
    "daily_test(90,'29')"
   ]
  },
  {
   "cell_type": "code",
   "execution_count": 16,
   "metadata": {},
   "outputs": [
    {
     "output_type": "execute_result",
     "data": {
      "text/plain": [
       "          date  Positive tests  Tests number  Tests cumul  % positive tests\n",
       "0   2020-05-13               4           416          416          0.961538\n",
       "1   2020-05-14               2           571          987          0.350263\n",
       "2   2020-05-15               4           790         1777          0.506329\n",
       "3   2020-05-16               4           372         2149          1.075269\n",
       "4   2020-05-17               0           106         2255          0.000000\n",
       "..         ...             ...           ...          ...               ...\n",
       "331 2021-04-09             280          9080      1308363          3.083700\n",
       "332 2021-04-10             164          5600      1313963          2.928571\n",
       "333 2021-04-11              28          1174      1315137          2.385009\n",
       "334 2021-04-12             374          8092      1323229          4.621849\n",
       "335 2021-04-13             300          7632      1330861          3.930818\n",
       "\n",
       "[336 rows x 5 columns]"
      ],
      "text/html": "<div>\n<style scoped>\n    .dataframe tbody tr th:only-of-type {\n        vertical-align: middle;\n    }\n\n    .dataframe tbody tr th {\n        vertical-align: top;\n    }\n\n    .dataframe thead th {\n        text-align: right;\n    }\n</style>\n<table border=\"1\" class=\"dataframe\">\n  <thead>\n    <tr style=\"text-align: right;\">\n      <th></th>\n      <th>date</th>\n      <th>Positive tests</th>\n      <th>Tests number</th>\n      <th>Tests cumul</th>\n      <th>% positive tests</th>\n    </tr>\n  </thead>\n  <tbody>\n    <tr>\n      <th>0</th>\n      <td>2020-05-13</td>\n      <td>4</td>\n      <td>416</td>\n      <td>416</td>\n      <td>0.961538</td>\n    </tr>\n    <tr>\n      <th>1</th>\n      <td>2020-05-14</td>\n      <td>2</td>\n      <td>571</td>\n      <td>987</td>\n      <td>0.350263</td>\n    </tr>\n    <tr>\n      <th>2</th>\n      <td>2020-05-15</td>\n      <td>4</td>\n      <td>790</td>\n      <td>1777</td>\n      <td>0.506329</td>\n    </tr>\n    <tr>\n      <th>3</th>\n      <td>2020-05-16</td>\n      <td>4</td>\n      <td>372</td>\n      <td>2149</td>\n      <td>1.075269</td>\n    </tr>\n    <tr>\n      <th>4</th>\n      <td>2020-05-17</td>\n      <td>0</td>\n      <td>106</td>\n      <td>2255</td>\n      <td>0.000000</td>\n    </tr>\n    <tr>\n      <th>...</th>\n      <td>...</td>\n      <td>...</td>\n      <td>...</td>\n      <td>...</td>\n      <td>...</td>\n    </tr>\n    <tr>\n      <th>331</th>\n      <td>2021-04-09</td>\n      <td>280</td>\n      <td>9080</td>\n      <td>1308363</td>\n      <td>3.083700</td>\n    </tr>\n    <tr>\n      <th>332</th>\n      <td>2021-04-10</td>\n      <td>164</td>\n      <td>5600</td>\n      <td>1313963</td>\n      <td>2.928571</td>\n    </tr>\n    <tr>\n      <th>333</th>\n      <td>2021-04-11</td>\n      <td>28</td>\n      <td>1174</td>\n      <td>1315137</td>\n      <td>2.385009</td>\n    </tr>\n    <tr>\n      <th>334</th>\n      <td>2021-04-12</td>\n      <td>374</td>\n      <td>8092</td>\n      <td>1323229</td>\n      <td>4.621849</td>\n    </tr>\n    <tr>\n      <th>335</th>\n      <td>2021-04-13</td>\n      <td>300</td>\n      <td>7632</td>\n      <td>1330861</td>\n      <td>3.930818</td>\n    </tr>\n  </tbody>\n</table>\n<p>336 rows × 5 columns</p>\n</div>"
     },
     "metadata": {},
     "execution_count": 16
    }
   ],
   "source": [
    "screening_daily_dep['29']"
   ]
  },
  {
   "cell_type": "code",
   "execution_count": 17,
   "metadata": {},
   "outputs": [],
   "source": [
    "def daily_test_dep(department):\n",
    "    fig = px.bar(screening_daily_dep[department], x='date', y='Tests number', color='% positive tests',\n",
    "             title=f\"Covid Screening in department {department}\", height=600, width=1000)\n",
    "    fig.update_xaxes(rangeslider_visible=True)\n",
    "    return(fig.show\n",
    "    ())"
   ]
  },
  {
   "cell_type": "code",
   "execution_count": 18,
   "metadata": {},
   "outputs": [
    {
     "output_type": "display_data",
     "data": {
      "application/vnd.plotly.v1+json": {
       "config": {
        "plotlyServerURL": "https://plot.ly"
       },
       "data": [
        {
         "alignmentgroup": "True",
         "hovertemplate": "date=%{x}<br>Tests number=%{y}<br>% positive tests=%{marker.color}<extra></extra>",
         "legendgroup": "",
         "marker": {
          "color": [
           1.0338345864661653,
           0.7415254237288136,
           0.35574528637495556,
           0.17123287671232876,
           0.6622516556291391,
           1.2004801920768309,
           0.9938837920489296,
           1.4398354473774426,
           0,
           0.4944375772558714,
           0,
           0.6666666666666667,
           0.18791105543376135,
           0,
           0.08806693086745927,
           0.16194331983805668,
           0,
           1.2048192771084338,
           0,
           0,
           0.27519779841761266,
           0.066006600660066,
           0.22026431718061676,
           0.20100502512562815,
           0.1531393568147014,
           0,
           0.11504170261719873,
           0.13610071452875128,
           0.8068582955118508,
           0.12315270935960591,
           0.1557632398753894,
           0,
           0.6024096385542169,
           0.32819166393173616,
           0.15594541910331383,
           0.316288877174486,
           0.13898540653231412,
           0.14908684308609765,
           0,
           0,
           0.0681663258350375,
           0.18340210912425492,
           0.5399568034557235,
           0.3731343283582089,
           0.628930817610063,
           0.3305785123966942,
           0.8968609865470852,
           0.19563090968373,
           0.11909487892020643,
           0.4299226139294927,
           0.3329633740288568,
           0.20754064337599448,
           0.6201550387596899,
           1.092896174863388,
           0.12775471095496646,
           0.37243947858473,
           0.8917713822456425,
           0.3502626970227671,
           0.58689272905119,
           0.653061224489796,
           0,
           0.3661327231121282,
           0,
           0.4491858506457047,
           0.5780346820809248,
           0.2587991718426501,
           0.8690928843020097,
           0,
           0.6610009442870632,
           0.6816990036706869,
           0.33613445378151263,
           0.6430868167202572,
           0.42462845010615713,
           0.8620689655172413,
           0.37453183520599254,
           0.6850618458610847,
           1.033464566929134,
           0.9647118558009646,
           0.8028335301062574,
           1.4630902238971404,
           0.49109883364027007,
           0.7067137809187279,
           1.3009374402142722,
           0.823045267489712,
           1.443241742991951,
           1.5877016129032258,
           2.0998500107135203,
           2.2181146025878005,
           1.7964071856287425,
           2.450592885375494,
           3.0296279795054577,
           3.8272072754831377,
           4.451990190530088,
           3.558602677113941,
           2.689075630252101,
           0.911854103343465,
           4.838900035406586,
           5.056103825875355,
           4.475138121546961,
           5.408697770739432,
           3.970835670218732,
           4.456751054852321,
           4.49438202247191,
           4.239244491080798,
           5.063756743501716,
           4.311493278430422,
           4.759154441492433,
           5.162011173184357,
           4.230317273795535,
           7.347670250896058,
           4.560954816709292,
           4.019419668059162,
           4.589006555723651,
           4.94061757719715,
           4.884374324616382,
           4.112017015242822,
           7.524752475247524,
           5.045726900031536,
           4.89853044086774,
           4.74298485224733,
           5.447269910933264,
           4.321755854734699,
           4.44305381727159,
           4.704097116843703,
           4.950781702374059,
           5.005005005005005,
           4.681697612732096,
           5.8156213326378925,
           5.459863503412414,
           5.04750593824228,
           6.462585034013606,
           5.452753750136866,
           5.306712202810981,
           4.511930585683297,
           5.029013539651837,
           4.977540366638339,
           6.6722736192879175,
           6.4981949458483745,
           5.449093990353279,
           6.1039837947332884,
           6.303479749001712,
           7.184438449524351,
           7.5674465465129295,
           10.736639383726528,
           7.984790874524715,
           7.8930481283422465,
           8.564760793465577,
           10.545579320599337,
           7.934560327198365,
           7.8225441376188325,
           12.253550985796057,
           6.091370558375635,
           8.978675645342312,
           8.598413971308918,
           10.015228881125147,
           9.090909090909092,
           7.984699976093712,
           10.982048574445617,
           10.305343511450381,
           10.989453345141293,
           11.950759277563124,
           15.535881501659999,
           12.093676122931441,
           13.976693372177712,
           15.27795945062132,
           16.555555555555557,
           15.293046705412786,
           14.328193071018603,
           14.865740407458066,
           13.955124147147782,
           11.554109031733116,
           12.811693895098882,
           10.87378640776699,
           13.368641601676174,
           12.669754297825575,
           12.636300363467637,
           11.137034241405338,
           10.144731502772892,
           14.231642694928084,
           14.349112426035504,
           11.981667394151026,
           8.779728828628585,
           6.906338694418164,
           7.5824422343528,
           8.208704419425308,
           6.254695717505634,
           7.905982905982905,
           7.284526094506901,
           4.383589126291504,
           4.774628252788104,
           4.841549295774648,
           4.435700232516544,
           4.4400099775505115,
           4.567307692307692,
           4.00160868690931,
           3.8289875499177826,
           3.577325261419923,
           4.164987236329437,
           3.658399730669958,
           3.7019681349578253,
           3.296703296703297,
           3.5059676044330774,
           3.2393442622950817,
           3.9739684297978397,
           3.998462129950019,
           2.559614963902866,
           4.039330321551953,
           2.9197080291970803,
           3.1096388117119043,
           3.204901614233534,
           3.430531732418525,
           3.1407476854564633,
           3.1821646341463414,
           3.8411739318083726,
           2.946273830155979,
           3.4964420627251163,
           2.9356768885564697,
           3.824540803489055,
           2.4402869185831544,
           2.077041275896784,
           2.171204840718989,
           1.6835016835016834,
           2.0051584990431817,
           1.5108313275319385,
           1.3565689241364915,
           1.4727930152570774,
           1.9543973941368076,
           2.542016806722689,
           2.939255388634879,
           3.8350910834132312,
           4.111355533641811,
           3.079770008591633,
           2.919492774992628,
           4.4543429844097995,
           4.5682179064370345,
           6.283422459893048,
           5.197356670834077,
           5.726355315653602,
           5.2128865144892345,
           5.275121492396927,
           5.703883495145631,
           5.452996307867084,
           4.940014114326042,
           6.531547164572777,
           5.284388866478419,
           5.69538560826073,
           5.229517722254503,
           5.2723059096176135,
           4.506206152185645,
           5.9760956175298805,
           5.608333879315993,
           5.248508946322068,
           5.0810130564731795,
           6.011765653960835,
           5.015453779151447,
           5.280340667139816,
           4.27892234548336,
           6.311962987442168,
           5.075519435712643,
           4.294117647058823,
           5.105278338621287,
           4.2392638036809815,
           4.723789528933211,
           5.215123859191656,
           4.909384309831181,
           4.657612173789376,
           4.9677022454629345,
           4.179058949134447,
           4.452859754505092,
           5.231866825208085,
           2.4804177545691903,
           5.968430323148838,
           4.567776656575849,
           4.306346892805088,
           4.620314479469409,
           3.936608200327111,
           3.2539221382916907,
           3.5555555555555554,
           5.249671895506531,
           4.2431537767077945,
           4.527170912532534,
           3.8220551378446115,
           4.8903878583473865,
           4.934569247546347,
           4.24886191198786,
           6.869716892526499,
           5.839354730297429,
           6.682804530128815,
           6.1008433518751115,
           5.589025186905713,
           4.973456272701872,
           6,
           6.806739612002416,
           4.794359576968272,
           4.869706840390879,
           6.423811639271435,
           4.676573426573427,
           5.549568965517242,
           5.417276720351391,
           5.668092601912431,
           4.88599348534202,
           5.940759282436379,
           5.761663856098933,
           4.27049890434694,
           5.650307460262211,
           8.04093567251462,
           6.984452211642762,
           6.0531697341513295,
           6.364209199747953,
           6.187161639597835,
           5.47924141465915,
           6.066052572455629,
           7.723035952063914,
           8.1743019083771,
           7.123685976291657,
           6.815642458100559,
           7.085795578901291,
           6.139789078177704,
           6.799896184791073,
           5.853658536585367,
           8.52004716981132,
           7.456836210919272,
           6.6475254270280795,
           6.164232449366809,
           6.04417310109535,
           5.687518442018295,
           6.723716381418093,
           8.373755425070206,
           8.343649418172815,
           7.73806275579809,
           8.098918083462133,
           6.527252963403902,
           7.666966157532196,
           8.7,
           10.521316421746661,
           8.881754949170679
          ],
          "coloraxis": "coloraxis"
         },
         "name": "",
         "offsetgroup": "",
         "orientation": "v",
         "showlegend": false,
         "textposition": "auto",
         "type": "bar",
         "x": [
          "2020-05-13T00:00:00",
          "2020-05-14T00:00:00",
          "2020-05-15T00:00:00",
          "2020-05-16T00:00:00",
          "2020-05-17T00:00:00",
          "2020-05-18T00:00:00",
          "2020-05-19T00:00:00",
          "2020-05-20T00:00:00",
          "2020-05-21T00:00:00",
          "2020-05-22T00:00:00",
          "2020-05-23T00:00:00",
          "2020-05-24T00:00:00",
          "2020-05-25T00:00:00",
          "2020-05-26T00:00:00",
          "2020-05-27T00:00:00",
          "2020-05-28T00:00:00",
          "2020-05-29T00:00:00",
          "2020-05-30T00:00:00",
          "2020-05-31T00:00:00",
          "2020-06-01T00:00:00",
          "2020-06-02T00:00:00",
          "2020-06-03T00:00:00",
          "2020-06-04T00:00:00",
          "2020-06-05T00:00:00",
          "2020-06-06T00:00:00",
          "2020-06-07T00:00:00",
          "2020-06-08T00:00:00",
          "2020-06-09T00:00:00",
          "2020-06-10T00:00:00",
          "2020-06-11T00:00:00",
          "2020-06-12T00:00:00",
          "2020-06-13T00:00:00",
          "2020-06-14T00:00:00",
          "2020-06-15T00:00:00",
          "2020-06-16T00:00:00",
          "2020-06-17T00:00:00",
          "2020-06-18T00:00:00",
          "2020-06-19T00:00:00",
          "2020-06-20T00:00:00",
          "2020-06-21T00:00:00",
          "2020-06-22T00:00:00",
          "2020-06-23T00:00:00",
          "2020-06-24T00:00:00",
          "2020-06-25T00:00:00",
          "2020-06-26T00:00:00",
          "2020-06-27T00:00:00",
          "2020-06-28T00:00:00",
          "2020-06-29T00:00:00",
          "2020-06-30T00:00:00",
          "2020-07-01T00:00:00",
          "2020-07-02T00:00:00",
          "2020-07-03T00:00:00",
          "2020-07-04T00:00:00",
          "2020-07-05T00:00:00",
          "2020-07-06T00:00:00",
          "2020-07-07T00:00:00",
          "2020-07-08T00:00:00",
          "2020-07-09T00:00:00",
          "2020-07-10T00:00:00",
          "2020-07-11T00:00:00",
          "2020-07-12T00:00:00",
          "2020-07-13T00:00:00",
          "2020-07-14T00:00:00",
          "2020-07-15T00:00:00",
          "2020-07-16T00:00:00",
          "2020-07-17T00:00:00",
          "2020-07-18T00:00:00",
          "2020-07-19T00:00:00",
          "2020-07-20T00:00:00",
          "2020-07-21T00:00:00",
          "2020-07-22T00:00:00",
          "2020-07-23T00:00:00",
          "2020-07-24T00:00:00",
          "2020-07-25T00:00:00",
          "2020-07-26T00:00:00",
          "2020-07-27T00:00:00",
          "2020-07-28T00:00:00",
          "2020-07-29T00:00:00",
          "2020-07-30T00:00:00",
          "2020-07-31T00:00:00",
          "2020-08-01T00:00:00",
          "2020-08-02T00:00:00",
          "2020-08-03T00:00:00",
          "2020-08-04T00:00:00",
          "2020-08-05T00:00:00",
          "2020-08-06T00:00:00",
          "2020-08-07T00:00:00",
          "2020-08-08T00:00:00",
          "2020-08-09T00:00:00",
          "2020-08-10T00:00:00",
          "2020-08-11T00:00:00",
          "2020-08-12T00:00:00",
          "2020-08-13T00:00:00",
          "2020-08-14T00:00:00",
          "2020-08-15T00:00:00",
          "2020-08-16T00:00:00",
          "2020-08-17T00:00:00",
          "2020-08-18T00:00:00",
          "2020-08-19T00:00:00",
          "2020-08-20T00:00:00",
          "2020-08-21T00:00:00",
          "2020-08-22T00:00:00",
          "2020-08-23T00:00:00",
          "2020-08-24T00:00:00",
          "2020-08-25T00:00:00",
          "2020-08-26T00:00:00",
          "2020-08-27T00:00:00",
          "2020-08-28T00:00:00",
          "2020-08-29T00:00:00",
          "2020-08-30T00:00:00",
          "2020-08-31T00:00:00",
          "2020-09-01T00:00:00",
          "2020-09-02T00:00:00",
          "2020-09-03T00:00:00",
          "2020-09-04T00:00:00",
          "2020-09-05T00:00:00",
          "2020-09-06T00:00:00",
          "2020-09-07T00:00:00",
          "2020-09-08T00:00:00",
          "2020-09-09T00:00:00",
          "2020-09-10T00:00:00",
          "2020-09-11T00:00:00",
          "2020-09-12T00:00:00",
          "2020-09-13T00:00:00",
          "2020-09-14T00:00:00",
          "2020-09-15T00:00:00",
          "2020-09-16T00:00:00",
          "2020-09-17T00:00:00",
          "2020-09-18T00:00:00",
          "2020-09-19T00:00:00",
          "2020-09-20T00:00:00",
          "2020-09-21T00:00:00",
          "2020-09-22T00:00:00",
          "2020-09-23T00:00:00",
          "2020-09-24T00:00:00",
          "2020-09-25T00:00:00",
          "2020-09-26T00:00:00",
          "2020-09-27T00:00:00",
          "2020-09-28T00:00:00",
          "2020-09-29T00:00:00",
          "2020-09-30T00:00:00",
          "2020-10-01T00:00:00",
          "2020-10-02T00:00:00",
          "2020-10-03T00:00:00",
          "2020-10-04T00:00:00",
          "2020-10-05T00:00:00",
          "2020-10-06T00:00:00",
          "2020-10-07T00:00:00",
          "2020-10-08T00:00:00",
          "2020-10-09T00:00:00",
          "2020-10-10T00:00:00",
          "2020-10-11T00:00:00",
          "2020-10-12T00:00:00",
          "2020-10-13T00:00:00",
          "2020-10-14T00:00:00",
          "2020-10-15T00:00:00",
          "2020-10-16T00:00:00",
          "2020-10-17T00:00:00",
          "2020-10-18T00:00:00",
          "2020-10-19T00:00:00",
          "2020-10-20T00:00:00",
          "2020-10-21T00:00:00",
          "2020-10-22T00:00:00",
          "2020-10-23T00:00:00",
          "2020-10-24T00:00:00",
          "2020-10-25T00:00:00",
          "2020-10-26T00:00:00",
          "2020-10-27T00:00:00",
          "2020-10-28T00:00:00",
          "2020-10-29T00:00:00",
          "2020-10-30T00:00:00",
          "2020-10-31T00:00:00",
          "2020-11-01T00:00:00",
          "2020-11-02T00:00:00",
          "2020-11-03T00:00:00",
          "2020-11-04T00:00:00",
          "2020-11-05T00:00:00",
          "2020-11-06T00:00:00",
          "2020-11-07T00:00:00",
          "2020-11-08T00:00:00",
          "2020-11-09T00:00:00",
          "2020-11-10T00:00:00",
          "2020-11-11T00:00:00",
          "2020-11-12T00:00:00",
          "2020-11-13T00:00:00",
          "2020-11-14T00:00:00",
          "2020-11-15T00:00:00",
          "2020-11-16T00:00:00",
          "2020-11-17T00:00:00",
          "2020-11-18T00:00:00",
          "2020-11-19T00:00:00",
          "2020-11-20T00:00:00",
          "2020-11-21T00:00:00",
          "2020-11-22T00:00:00",
          "2020-11-23T00:00:00",
          "2020-11-24T00:00:00",
          "2020-11-25T00:00:00",
          "2020-11-26T00:00:00",
          "2020-11-27T00:00:00",
          "2020-11-28T00:00:00",
          "2020-11-29T00:00:00",
          "2020-11-30T00:00:00",
          "2020-12-01T00:00:00",
          "2020-12-02T00:00:00",
          "2020-12-03T00:00:00",
          "2020-12-04T00:00:00",
          "2020-12-05T00:00:00",
          "2020-12-06T00:00:00",
          "2020-12-07T00:00:00",
          "2020-12-08T00:00:00",
          "2020-12-09T00:00:00",
          "2020-12-10T00:00:00",
          "2020-12-11T00:00:00",
          "2020-12-12T00:00:00",
          "2020-12-13T00:00:00",
          "2020-12-14T00:00:00",
          "2020-12-15T00:00:00",
          "2020-12-16T00:00:00",
          "2020-12-17T00:00:00",
          "2020-12-18T00:00:00",
          "2020-12-19T00:00:00",
          "2020-12-20T00:00:00",
          "2020-12-21T00:00:00",
          "2020-12-22T00:00:00",
          "2020-12-23T00:00:00",
          "2020-12-24T00:00:00",
          "2020-12-25T00:00:00",
          "2020-12-26T00:00:00",
          "2020-12-27T00:00:00",
          "2020-12-28T00:00:00",
          "2020-12-29T00:00:00",
          "2020-12-30T00:00:00",
          "2020-12-31T00:00:00",
          "2021-01-01T00:00:00",
          "2021-01-02T00:00:00",
          "2021-01-03T00:00:00",
          "2021-01-04T00:00:00",
          "2021-01-05T00:00:00",
          "2021-01-06T00:00:00",
          "2021-01-07T00:00:00",
          "2021-01-08T00:00:00",
          "2021-01-09T00:00:00",
          "2021-01-10T00:00:00",
          "2021-01-11T00:00:00",
          "2021-01-12T00:00:00",
          "2021-01-13T00:00:00",
          "2021-01-14T00:00:00",
          "2021-01-15T00:00:00",
          "2021-01-16T00:00:00",
          "2021-01-17T00:00:00",
          "2021-01-18T00:00:00",
          "2021-01-19T00:00:00",
          "2021-01-20T00:00:00",
          "2021-01-21T00:00:00",
          "2021-01-22T00:00:00",
          "2021-01-23T00:00:00",
          "2021-01-24T00:00:00",
          "2021-01-25T00:00:00",
          "2021-01-26T00:00:00",
          "2021-01-27T00:00:00",
          "2021-01-28T00:00:00",
          "2021-01-29T00:00:00",
          "2021-01-30T00:00:00",
          "2021-01-31T00:00:00",
          "2021-02-01T00:00:00",
          "2021-02-02T00:00:00",
          "2021-02-03T00:00:00",
          "2021-02-04T00:00:00",
          "2021-02-05T00:00:00",
          "2021-02-06T00:00:00",
          "2021-02-07T00:00:00",
          "2021-02-08T00:00:00",
          "2021-02-09T00:00:00",
          "2021-02-10T00:00:00",
          "2021-02-11T00:00:00",
          "2021-02-12T00:00:00",
          "2021-02-13T00:00:00",
          "2021-02-14T00:00:00",
          "2021-02-15T00:00:00",
          "2021-02-16T00:00:00",
          "2021-02-17T00:00:00",
          "2021-02-18T00:00:00",
          "2021-02-19T00:00:00",
          "2021-02-20T00:00:00",
          "2021-02-21T00:00:00",
          "2021-02-22T00:00:00",
          "2021-02-23T00:00:00",
          "2021-02-24T00:00:00",
          "2021-02-25T00:00:00",
          "2021-02-26T00:00:00",
          "2021-02-27T00:00:00",
          "2021-02-28T00:00:00",
          "2021-03-01T00:00:00",
          "2021-03-02T00:00:00",
          "2021-03-03T00:00:00",
          "2021-03-04T00:00:00",
          "2021-03-05T00:00:00",
          "2021-03-06T00:00:00",
          "2021-03-07T00:00:00",
          "2021-03-08T00:00:00",
          "2021-03-09T00:00:00",
          "2021-03-10T00:00:00",
          "2021-03-11T00:00:00",
          "2021-03-12T00:00:00",
          "2021-03-13T00:00:00",
          "2021-03-14T00:00:00",
          "2021-03-15T00:00:00",
          "2021-03-16T00:00:00",
          "2021-03-17T00:00:00",
          "2021-03-18T00:00:00",
          "2021-03-19T00:00:00",
          "2021-03-20T00:00:00",
          "2021-03-21T00:00:00",
          "2021-03-22T00:00:00",
          "2021-03-23T00:00:00",
          "2021-03-24T00:00:00",
          "2021-03-25T00:00:00",
          "2021-03-26T00:00:00",
          "2021-03-27T00:00:00",
          "2021-03-28T00:00:00",
          "2021-03-29T00:00:00",
          "2021-03-30T00:00:00",
          "2021-03-31T00:00:00",
          "2021-04-01T00:00:00",
          "2021-04-02T00:00:00",
          "2021-04-03T00:00:00",
          "2021-04-04T00:00:00",
          "2021-04-05T00:00:00",
          "2021-04-06T00:00:00",
          "2021-04-07T00:00:00",
          "2021-04-08T00:00:00",
          "2021-04-09T00:00:00",
          "2021-04-10T00:00:00",
          "2021-04-11T00:00:00",
          "2021-04-12T00:00:00",
          "2021-04-13T00:00:00"
         ],
         "xaxis": "x",
         "y": [
          2128,
          1888,
          2811,
          1168,
          302,
          2499,
          2616,
          2917,
          386,
          3236,
          1098,
          300,
          3193,
          2692,
          2271,
          2470,
          3235,
          1328,
          484,
          630,
          2907,
          3030,
          1816,
          2985,
          1306,
          286,
          3477,
          2939,
          1983,
          1624,
          2568,
          1290,
          332,
          3047,
          2565,
          1897,
          1439,
          2683,
          982,
          258,
          2934,
          2181,
          1852,
          1608,
          2544,
          1210,
          446,
          3067,
          2519,
          2326,
          1802,
          2891,
          1290,
          366,
          3131,
          2685,
          2467,
          2284,
          3067,
          1225,
          452,
          4370,
          632,
          3562,
          3114,
          3864,
          1841,
          483,
          4236,
          3814,
          3570,
          3421,
          4239,
          1856,
          534,
          5255,
          4064,
          3939,
          4235,
          4511,
          1629,
          566,
          5227,
          3888,
          3603,
          3968,
          4667,
          2164,
          668,
          5060,
          4489,
          5278,
          5301,
          6126,
          1190,
          658,
          8473,
          7397,
          7240,
          8209,
          8915,
          3792,
          1068,
          9530,
          8156,
          8257,
          8657,
          8950,
          3404,
          1116,
          9384,
          8857,
          7932,
          8420,
          9254,
          2821,
          1010,
          9513,
          8574,
          8054,
          7747,
          8839,
          3196,
          1318,
          10362,
          8991,
          7540,
          7669,
          9231,
          3368,
          1176,
          9133,
          7613,
          6915,
          7238,
          8237,
          3567,
          1108,
          7671,
          7405,
          7012,
          7043,
          8933,
          4154,
          1052,
          9350,
          8570,
          8743,
          9780,
          11045,
          4717,
          1182,
          12474,
          11223,
          11163,
          11858,
          12549,
          5682,
          2096,
          12421,
          11129,
          11747,
          13536,
          13730,
          7645,
          1800,
          14281,
          14461,
          13891,
          14217,
          14748,
          6978,
          1030,
          17182,
          12739,
          12931,
          14573,
          14786,
          5284,
          1352,
          13746,
          13497,
          2114,
          13373,
          11902,
          5324,
          936,
          10941,
          9969,
          8608,
          7952,
          11182,
          4009,
          832,
          9946,
          8514,
          7268,
          7443,
          8911,
          4268,
          910,
          9384,
          7625,
          7222,
          7803,
          9142,
          3763,
          1370,
          9358,
          8487,
          7579,
          8533,
          10496,
          4634,
          1154,
          11383,
          10696,
          11923,
          13523,
          18873,
          11238,
          2376,
          24038,
          27005,
          28749,
          22678,
          1228,
          9520,
          1531,
          14602,
          13183,
          15131,
          13564,
          898,
          8187,
          1496,
          16797,
          12783,
          12354,
          12758,
          14008,
          7042,
          1417,
          14407,
          12395,
          12396,
          12047,
          13808,
          7412,
          1506,
          15263,
          12575,
          12714,
          12409,
          14236,
          7045,
          1262,
          15130,
          13043,
          13600,
          13868,
          16300,
          7621,
          1534,
          16112,
          14063,
          13004,
          13113,
          15316,
          7569,
          1532,
          14761,
          14865,
          15094,
          13419,
          17731,
          8605,
          1350,
          16001,
          13292,
          12679,
          12768,
          14825,
          7336,
          1318,
          14906,
          11902,
          11567,
          11146,
          13777,
          7158,
          1400,
          14897,
          12765,
          12280,
          11255,
          13728,
          7424,
          1366,
          15896,
          13201,
          11985,
          14232,
          19623,
          8619,
          1368,
          16594,
          14670,
          14283,
          14223,
          19510,
          8902,
          1502,
          19231,
          17884,
          17900,
          18276,
          23421,
          11559,
          1640,
          23744,
          21430,
          20549,
          22663,
          27845,
          13556,
          1636,
          3917,
          24234,
          18325,
          16175,
          19319,
          10017,
          2000,
          17897,
          14952
         ],
         "yaxis": "y"
        }
       ],
       "layout": {
        "barmode": "relative",
        "coloraxis": {
         "colorbar": {
          "title": {
           "text": "% positive tests"
          }
         },
         "colorscale": [
          [
           0,
           "#0d0887"
          ],
          [
           0.1111111111111111,
           "#46039f"
          ],
          [
           0.2222222222222222,
           "#7201a8"
          ],
          [
           0.3333333333333333,
           "#9c179e"
          ],
          [
           0.4444444444444444,
           "#bd3786"
          ],
          [
           0.5555555555555556,
           "#d8576b"
          ],
          [
           0.6666666666666666,
           "#ed7953"
          ],
          [
           0.7777777777777778,
           "#fb9f3a"
          ],
          [
           0.8888888888888888,
           "#fdca26"
          ],
          [
           1,
           "#f0f921"
          ]
         ]
        },
        "height": 600,
        "legend": {
         "tracegroupgap": 0
        },
        "template": {
         "data": {
          "bar": [
           {
            "error_x": {
             "color": "#2a3f5f"
            },
            "error_y": {
             "color": "#2a3f5f"
            },
            "marker": {
             "line": {
              "color": "#E5ECF6",
              "width": 0.5
             }
            },
            "type": "bar"
           }
          ],
          "barpolar": [
           {
            "marker": {
             "line": {
              "color": "#E5ECF6",
              "width": 0.5
             }
            },
            "type": "barpolar"
           }
          ],
          "carpet": [
           {
            "aaxis": {
             "endlinecolor": "#2a3f5f",
             "gridcolor": "white",
             "linecolor": "white",
             "minorgridcolor": "white",
             "startlinecolor": "#2a3f5f"
            },
            "baxis": {
             "endlinecolor": "#2a3f5f",
             "gridcolor": "white",
             "linecolor": "white",
             "minorgridcolor": "white",
             "startlinecolor": "#2a3f5f"
            },
            "type": "carpet"
           }
          ],
          "choropleth": [
           {
            "colorbar": {
             "outlinewidth": 0,
             "ticks": ""
            },
            "type": "choropleth"
           }
          ],
          "contour": [
           {
            "colorbar": {
             "outlinewidth": 0,
             "ticks": ""
            },
            "colorscale": [
             [
              0,
              "#0d0887"
             ],
             [
              0.1111111111111111,
              "#46039f"
             ],
             [
              0.2222222222222222,
              "#7201a8"
             ],
             [
              0.3333333333333333,
              "#9c179e"
             ],
             [
              0.4444444444444444,
              "#bd3786"
             ],
             [
              0.5555555555555556,
              "#d8576b"
             ],
             [
              0.6666666666666666,
              "#ed7953"
             ],
             [
              0.7777777777777778,
              "#fb9f3a"
             ],
             [
              0.8888888888888888,
              "#fdca26"
             ],
             [
              1,
              "#f0f921"
             ]
            ],
            "type": "contour"
           }
          ],
          "contourcarpet": [
           {
            "colorbar": {
             "outlinewidth": 0,
             "ticks": ""
            },
            "type": "contourcarpet"
           }
          ],
          "heatmap": [
           {
            "colorbar": {
             "outlinewidth": 0,
             "ticks": ""
            },
            "colorscale": [
             [
              0,
              "#0d0887"
             ],
             [
              0.1111111111111111,
              "#46039f"
             ],
             [
              0.2222222222222222,
              "#7201a8"
             ],
             [
              0.3333333333333333,
              "#9c179e"
             ],
             [
              0.4444444444444444,
              "#bd3786"
             ],
             [
              0.5555555555555556,
              "#d8576b"
             ],
             [
              0.6666666666666666,
              "#ed7953"
             ],
             [
              0.7777777777777778,
              "#fb9f3a"
             ],
             [
              0.8888888888888888,
              "#fdca26"
             ],
             [
              1,
              "#f0f921"
             ]
            ],
            "type": "heatmap"
           }
          ],
          "heatmapgl": [
           {
            "colorbar": {
             "outlinewidth": 0,
             "ticks": ""
            },
            "colorscale": [
             [
              0,
              "#0d0887"
             ],
             [
              0.1111111111111111,
              "#46039f"
             ],
             [
              0.2222222222222222,
              "#7201a8"
             ],
             [
              0.3333333333333333,
              "#9c179e"
             ],
             [
              0.4444444444444444,
              "#bd3786"
             ],
             [
              0.5555555555555556,
              "#d8576b"
             ],
             [
              0.6666666666666666,
              "#ed7953"
             ],
             [
              0.7777777777777778,
              "#fb9f3a"
             ],
             [
              0.8888888888888888,
              "#fdca26"
             ],
             [
              1,
              "#f0f921"
             ]
            ],
            "type": "heatmapgl"
           }
          ],
          "histogram": [
           {
            "marker": {
             "colorbar": {
              "outlinewidth": 0,
              "ticks": ""
             }
            },
            "type": "histogram"
           }
          ],
          "histogram2d": [
           {
            "colorbar": {
             "outlinewidth": 0,
             "ticks": ""
            },
            "colorscale": [
             [
              0,
              "#0d0887"
             ],
             [
              0.1111111111111111,
              "#46039f"
             ],
             [
              0.2222222222222222,
              "#7201a8"
             ],
             [
              0.3333333333333333,
              "#9c179e"
             ],
             [
              0.4444444444444444,
              "#bd3786"
             ],
             [
              0.5555555555555556,
              "#d8576b"
             ],
             [
              0.6666666666666666,
              "#ed7953"
             ],
             [
              0.7777777777777778,
              "#fb9f3a"
             ],
             [
              0.8888888888888888,
              "#fdca26"
             ],
             [
              1,
              "#f0f921"
             ]
            ],
            "type": "histogram2d"
           }
          ],
          "histogram2dcontour": [
           {
            "colorbar": {
             "outlinewidth": 0,
             "ticks": ""
            },
            "colorscale": [
             [
              0,
              "#0d0887"
             ],
             [
              0.1111111111111111,
              "#46039f"
             ],
             [
              0.2222222222222222,
              "#7201a8"
             ],
             [
              0.3333333333333333,
              "#9c179e"
             ],
             [
              0.4444444444444444,
              "#bd3786"
             ],
             [
              0.5555555555555556,
              "#d8576b"
             ],
             [
              0.6666666666666666,
              "#ed7953"
             ],
             [
              0.7777777777777778,
              "#fb9f3a"
             ],
             [
              0.8888888888888888,
              "#fdca26"
             ],
             [
              1,
              "#f0f921"
             ]
            ],
            "type": "histogram2dcontour"
           }
          ],
          "mesh3d": [
           {
            "colorbar": {
             "outlinewidth": 0,
             "ticks": ""
            },
            "type": "mesh3d"
           }
          ],
          "parcoords": [
           {
            "line": {
             "colorbar": {
              "outlinewidth": 0,
              "ticks": ""
             }
            },
            "type": "parcoords"
           }
          ],
          "pie": [
           {
            "automargin": true,
            "type": "pie"
           }
          ],
          "scatter": [
           {
            "marker": {
             "colorbar": {
              "outlinewidth": 0,
              "ticks": ""
             }
            },
            "type": "scatter"
           }
          ],
          "scatter3d": [
           {
            "line": {
             "colorbar": {
              "outlinewidth": 0,
              "ticks": ""
             }
            },
            "marker": {
             "colorbar": {
              "outlinewidth": 0,
              "ticks": ""
             }
            },
            "type": "scatter3d"
           }
          ],
          "scattercarpet": [
           {
            "marker": {
             "colorbar": {
              "outlinewidth": 0,
              "ticks": ""
             }
            },
            "type": "scattercarpet"
           }
          ],
          "scattergeo": [
           {
            "marker": {
             "colorbar": {
              "outlinewidth": 0,
              "ticks": ""
             }
            },
            "type": "scattergeo"
           }
          ],
          "scattergl": [
           {
            "marker": {
             "colorbar": {
              "outlinewidth": 0,
              "ticks": ""
             }
            },
            "type": "scattergl"
           }
          ],
          "scattermapbox": [
           {
            "marker": {
             "colorbar": {
              "outlinewidth": 0,
              "ticks": ""
             }
            },
            "type": "scattermapbox"
           }
          ],
          "scatterpolar": [
           {
            "marker": {
             "colorbar": {
              "outlinewidth": 0,
              "ticks": ""
             }
            },
            "type": "scatterpolar"
           }
          ],
          "scatterpolargl": [
           {
            "marker": {
             "colorbar": {
              "outlinewidth": 0,
              "ticks": ""
             }
            },
            "type": "scatterpolargl"
           }
          ],
          "scatterternary": [
           {
            "marker": {
             "colorbar": {
              "outlinewidth": 0,
              "ticks": ""
             }
            },
            "type": "scatterternary"
           }
          ],
          "surface": [
           {
            "colorbar": {
             "outlinewidth": 0,
             "ticks": ""
            },
            "colorscale": [
             [
              0,
              "#0d0887"
             ],
             [
              0.1111111111111111,
              "#46039f"
             ],
             [
              0.2222222222222222,
              "#7201a8"
             ],
             [
              0.3333333333333333,
              "#9c179e"
             ],
             [
              0.4444444444444444,
              "#bd3786"
             ],
             [
              0.5555555555555556,
              "#d8576b"
             ],
             [
              0.6666666666666666,
              "#ed7953"
             ],
             [
              0.7777777777777778,
              "#fb9f3a"
             ],
             [
              0.8888888888888888,
              "#fdca26"
             ],
             [
              1,
              "#f0f921"
             ]
            ],
            "type": "surface"
           }
          ],
          "table": [
           {
            "cells": {
             "fill": {
              "color": "#EBF0F8"
             },
             "line": {
              "color": "white"
             }
            },
            "header": {
             "fill": {
              "color": "#C8D4E3"
             },
             "line": {
              "color": "white"
             }
            },
            "type": "table"
           }
          ]
         },
         "layout": {
          "annotationdefaults": {
           "arrowcolor": "#2a3f5f",
           "arrowhead": 0,
           "arrowwidth": 1
          },
          "autotypenumbers": "strict",
          "coloraxis": {
           "colorbar": {
            "outlinewidth": 0,
            "ticks": ""
           }
          },
          "colorscale": {
           "diverging": [
            [
             0,
             "#8e0152"
            ],
            [
             0.1,
             "#c51b7d"
            ],
            [
             0.2,
             "#de77ae"
            ],
            [
             0.3,
             "#f1b6da"
            ],
            [
             0.4,
             "#fde0ef"
            ],
            [
             0.5,
             "#f7f7f7"
            ],
            [
             0.6,
             "#e6f5d0"
            ],
            [
             0.7,
             "#b8e186"
            ],
            [
             0.8,
             "#7fbc41"
            ],
            [
             0.9,
             "#4d9221"
            ],
            [
             1,
             "#276419"
            ]
           ],
           "sequential": [
            [
             0,
             "#0d0887"
            ],
            [
             0.1111111111111111,
             "#46039f"
            ],
            [
             0.2222222222222222,
             "#7201a8"
            ],
            [
             0.3333333333333333,
             "#9c179e"
            ],
            [
             0.4444444444444444,
             "#bd3786"
            ],
            [
             0.5555555555555556,
             "#d8576b"
            ],
            [
             0.6666666666666666,
             "#ed7953"
            ],
            [
             0.7777777777777778,
             "#fb9f3a"
            ],
            [
             0.8888888888888888,
             "#fdca26"
            ],
            [
             1,
             "#f0f921"
            ]
           ],
           "sequentialminus": [
            [
             0,
             "#0d0887"
            ],
            [
             0.1111111111111111,
             "#46039f"
            ],
            [
             0.2222222222222222,
             "#7201a8"
            ],
            [
             0.3333333333333333,
             "#9c179e"
            ],
            [
             0.4444444444444444,
             "#bd3786"
            ],
            [
             0.5555555555555556,
             "#d8576b"
            ],
            [
             0.6666666666666666,
             "#ed7953"
            ],
            [
             0.7777777777777778,
             "#fb9f3a"
            ],
            [
             0.8888888888888888,
             "#fdca26"
            ],
            [
             1,
             "#f0f921"
            ]
           ]
          },
          "colorway": [
           "#636efa",
           "#EF553B",
           "#00cc96",
           "#ab63fa",
           "#FFA15A",
           "#19d3f3",
           "#FF6692",
           "#B6E880",
           "#FF97FF",
           "#FECB52"
          ],
          "font": {
           "color": "#2a3f5f"
          },
          "geo": {
           "bgcolor": "white",
           "lakecolor": "white",
           "landcolor": "#E5ECF6",
           "showlakes": true,
           "showland": true,
           "subunitcolor": "white"
          },
          "hoverlabel": {
           "align": "left"
          },
          "hovermode": "closest",
          "mapbox": {
           "style": "light"
          },
          "paper_bgcolor": "white",
          "plot_bgcolor": "#E5ECF6",
          "polar": {
           "angularaxis": {
            "gridcolor": "white",
            "linecolor": "white",
            "ticks": ""
           },
           "bgcolor": "#E5ECF6",
           "radialaxis": {
            "gridcolor": "white",
            "linecolor": "white",
            "ticks": ""
           }
          },
          "scene": {
           "xaxis": {
            "backgroundcolor": "#E5ECF6",
            "gridcolor": "white",
            "gridwidth": 2,
            "linecolor": "white",
            "showbackground": true,
            "ticks": "",
            "zerolinecolor": "white"
           },
           "yaxis": {
            "backgroundcolor": "#E5ECF6",
            "gridcolor": "white",
            "gridwidth": 2,
            "linecolor": "white",
            "showbackground": true,
            "ticks": "",
            "zerolinecolor": "white"
           },
           "zaxis": {
            "backgroundcolor": "#E5ECF6",
            "gridcolor": "white",
            "gridwidth": 2,
            "linecolor": "white",
            "showbackground": true,
            "ticks": "",
            "zerolinecolor": "white"
           }
          },
          "shapedefaults": {
           "line": {
            "color": "#2a3f5f"
           }
          },
          "ternary": {
           "aaxis": {
            "gridcolor": "white",
            "linecolor": "white",
            "ticks": ""
           },
           "baxis": {
            "gridcolor": "white",
            "linecolor": "white",
            "ticks": ""
           },
           "bgcolor": "#E5ECF6",
           "caxis": {
            "gridcolor": "white",
            "linecolor": "white",
            "ticks": ""
           }
          },
          "title": {
           "x": 0.05
          },
          "xaxis": {
           "automargin": true,
           "gridcolor": "white",
           "linecolor": "white",
           "ticks": "",
           "title": {
            "standoff": 15
           },
           "zerolinecolor": "white",
           "zerolinewidth": 2
          },
          "yaxis": {
           "automargin": true,
           "gridcolor": "white",
           "linecolor": "white",
           "ticks": "",
           "title": {
            "standoff": 15
           },
           "zerolinecolor": "white",
           "zerolinewidth": 2
          }
         }
        },
        "title": {
         "text": "Covid Screening in department 34"
        },
        "width": 1000,
        "xaxis": {
         "anchor": "y",
         "domain": [
          0,
          1
         ],
         "rangeslider": {
          "visible": true
         },
         "title": {
          "text": "date"
         }
        },
        "yaxis": {
         "anchor": "x",
         "domain": [
          0,
          1
         ],
         "title": {
          "text": "Tests number"
         }
        }
       }
      }
     },
     "metadata": {}
    }
   ],
   "source": [
    "daily_test_dep('34')"
   ]
  },
  {
   "cell_type": "code",
   "execution_count": 19,
   "metadata": {},
   "outputs": [
    {
     "output_type": "execute_result",
     "data": {
      "text/plain": [
       "          date  Positive tests  Tests number  Tests cumul  % positive tests\n",
       "0   2020-05-13              13          1276         1276          1.018809\n",
       "1   2020-05-14              18          1502         2778          1.198402\n",
       "2   2020-05-15              16          2079         4857          0.769601\n",
       "3   2020-05-16              10           894         5751          1.118568\n",
       "4   2020-05-17               6           411         6162          1.459854\n",
       "..         ...             ...           ...          ...               ...\n",
       "331 2021-04-09            2176         32225      3320720          6.752521\n",
       "332 2021-04-10            1177         15095      3335815          7.797284\n",
       "333 2021-04-11             258          3156      3338971          8.174905\n",
       "334 2021-04-12            2142         19612      3358583         10.921885\n",
       "335 2021-04-13            1588         14875      3373458         10.675630\n",
       "\n",
       "[336 rows x 5 columns]"
      ],
      "text/html": "<div>\n<style scoped>\n    .dataframe tbody tr th:only-of-type {\n        vertical-align: middle;\n    }\n\n    .dataframe tbody tr th {\n        vertical-align: top;\n    }\n\n    .dataframe thead th {\n        text-align: right;\n    }\n</style>\n<table border=\"1\" class=\"dataframe\">\n  <thead>\n    <tr style=\"text-align: right;\">\n      <th></th>\n      <th>date</th>\n      <th>Positive tests</th>\n      <th>Tests number</th>\n      <th>Tests cumul</th>\n      <th>% positive tests</th>\n    </tr>\n  </thead>\n  <tbody>\n    <tr>\n      <th>0</th>\n      <td>2020-05-13</td>\n      <td>13</td>\n      <td>1276</td>\n      <td>1276</td>\n      <td>1.018809</td>\n    </tr>\n    <tr>\n      <th>1</th>\n      <td>2020-05-14</td>\n      <td>18</td>\n      <td>1502</td>\n      <td>2778</td>\n      <td>1.198402</td>\n    </tr>\n    <tr>\n      <th>2</th>\n      <td>2020-05-15</td>\n      <td>16</td>\n      <td>2079</td>\n      <td>4857</td>\n      <td>0.769601</td>\n    </tr>\n    <tr>\n      <th>3</th>\n      <td>2020-05-16</td>\n      <td>10</td>\n      <td>894</td>\n      <td>5751</td>\n      <td>1.118568</td>\n    </tr>\n    <tr>\n      <th>4</th>\n      <td>2020-05-17</td>\n      <td>6</td>\n      <td>411</td>\n      <td>6162</td>\n      <td>1.459854</td>\n    </tr>\n    <tr>\n      <th>...</th>\n      <td>...</td>\n      <td>...</td>\n      <td>...</td>\n      <td>...</td>\n      <td>...</td>\n    </tr>\n    <tr>\n      <th>331</th>\n      <td>2021-04-09</td>\n      <td>2176</td>\n      <td>32225</td>\n      <td>3320720</td>\n      <td>6.752521</td>\n    </tr>\n    <tr>\n      <th>332</th>\n      <td>2021-04-10</td>\n      <td>1177</td>\n      <td>15095</td>\n      <td>3335815</td>\n      <td>7.797284</td>\n    </tr>\n    <tr>\n      <th>333</th>\n      <td>2021-04-11</td>\n      <td>258</td>\n      <td>3156</td>\n      <td>3338971</td>\n      <td>8.174905</td>\n    </tr>\n    <tr>\n      <th>334</th>\n      <td>2021-04-12</td>\n      <td>2142</td>\n      <td>19612</td>\n      <td>3358583</td>\n      <td>10.921885</td>\n    </tr>\n    <tr>\n      <th>335</th>\n      <td>2021-04-13</td>\n      <td>1588</td>\n      <td>14875</td>\n      <td>3373458</td>\n      <td>10.675630</td>\n    </tr>\n  </tbody>\n</table>\n<p>336 rows × 5 columns</p>\n</div>"
     },
     "metadata": {},
     "execution_count": 19
    }
   ],
   "source": [
    "screening_daily_age[9]"
   ]
  },
  {
   "cell_type": "code",
   "execution_count": 20,
   "metadata": {},
   "outputs": [],
   "source": [
    "def daily_test_age(age_class):\n",
    "    fig = px.bar(screening_daily_age[age_class], x='date', y='Tests number', color='% positive tests',\n",
    "             title=f\"Covid Screening in France for the age class {age_class}\", height=600, width=1000)\n",
    "    fig.update_xaxes(rangeslider_visible=True)\n",
    "    return(fig.show())"
   ]
  },
  {
   "cell_type": "code",
   "execution_count": 21,
   "metadata": {},
   "outputs": [
    {
     "output_type": "display_data",
     "data": {
      "application/vnd.plotly.v1+json": {
       "config": {
        "plotlyServerURL": "https://plot.ly"
       },
       "data": [
        {
         "alignmentgroup": "True",
         "hovertemplate": "date=%{x}<br>Tests number=%{y}<br>% positive tests=%{marker.color}<extra></extra>",
         "legendgroup": "",
         "marker": {
          "color": [
           1.8671833714990311,
           1.8397915988277433,
           1.9669199821189094,
           1.1353711790393013,
           1.310615989515072,
           1.4709925762991476,
           1.5546704355646923,
           1.72550052687039,
           1.678445229681979,
           1.2758931251876313,
           1.2678936605316973,
           1.6331658291457287,
           1.328556500970294,
           1.157002556168438,
           1.265214606021781,
           1.4155548324113243,
           0.9975445058317987,
           2.260327357755261,
           3.9906103286384975,
           1.9980970504281639,
           1.232,
           1.808066759388039,
           1.9625176803394626,
           1.4150158148826368,
           2.1654395842355996,
           1.9553072625698324,
           1.5019210618232623,
           1.5278024515899804,
           1.6501031314457153,
           2.2838807097017746,
           1.5578505163661822,
           1.5086206896551724,
           4.2105263157894735,
           1.715686274509804,
           1.9538518794194266,
           2.4859195960380656,
           2.268656716417911,
           2.338877338877339,
           2.297507788161994,
           3.770739064856712,
           1.7061454364750706,
           1.8433179723502304,
           2.1816997720612177,
           2.1105715353007097,
           1.447935921133703,
           2.061122956645345,
           3.452243958573072,
           1.532901296111665,
           1.8691588785046727,
           1.3059011950227917,
           1.3423676809000256,
           1.403016485443704,
           1.558846453624318,
           2.301255230125523,
           1.180896645417494,
           1.0475343413380769,
           1.056902897046334,
           1.0618529333687283,
           1.2343686970552643,
           1.3701390288132178,
           0.6789524733268671,
           1.2796169404771733,
           1.5752993068683048,
           1.231003039513678,
           1.357745319893026,
           1.1212333566923616,
           1.2904253624342839,
           1.9939577039274923,
           1.3364889322010303,
           1.392143349414197,
           1.5003802807163105,
           1.3543091655266757,
           1.3818606461658234,
           1.7752369489995485,
           1.863932898415657,
           1.4975247524752475,
           1.485502923278845,
           1.441899915182358,
           1.7310857596912426,
           1.6597273712427993,
           1.9782937216650638,
           1.9639934533551555,
           2.1632699533189115,
           2.3028278248419043,
           2.1109530583214795,
           2.1152914580978526,
           2.4404957771196667,
           2.4259448416751788,
           2.5989138867339023,
           2.794454753847833,
           2.8667386350005994,
           2.7690957942644077,
           3.3451237998989387,
           3.154980669180469,
           3.3499084009421614,
           3.3198614318706694,
           3.9188127816129965,
           3.8381018841591072,
           3.6042977612259746,
           3.5672585255868263,
           3.584488800853268,
           3.2006758025154873,
           5.319767441860465,
           4.022223700845033,
           4.090480019578366,
           4.070220625614261,
           4.211250860396721,
           4.209842556218875,
           4.0472175379426645,
           5.348346235045742,
           4.636723533935234,
           4.57796852646638,
           4.836984752650716,
           5.161934655443002,
           4.842920912995873,
           4.183710082526013,
           5.345911949685535,
           4.943042103678427,
           4.501639183833244,
           4.227134032894248,
           4.453734410761829,
           4.1612826034936585,
           4.062072113190324,
           5.611543747136968,
           5.121496177648344,
           4.751984815869268,
           5.2554931016862545,
           5.404013085026917,
           5.764960662298857,
           5.618061806180618,
           6.501854140914709,
           6.713302181546714,
           6.846297749079717,
           6.814002474171654,
           6.56733973730641,
           5.992189807370459,
           6.0398136382888605,
           5.9459459459459465,
           6.63576406172225,
           6.98751372118551,
           7.34844945919724,
           8.097947571631781,
           8.496407403728353,
           9.344816484224081,
           8.590963139120095,
           10.05457298779965,
           10.08022215365628,
           10.409014505385047,
           10.381841560910159,
           10.127426095428557,
           10.794149643418349,
           11.944566652001761,
           11.35928383734913,
           11.085417312322694,
           10.97020262216925,
           11.19640635215218,
           10.990832650941702,
           11.853024415983116,
           12.92239769060961,
           13.67483624052403,
           14.585306186868689,
           14.867266785161402,
           14.606095457159288,
           14.340026517148289,
           15.798280976648666,
           16.17074527252503,
           16.640066822785375,
           16.101763013676614,
           15.418912623943568,
           14.417036671600068,
           13.84941842187991,
           14.977111636148848,
           15.417214671927518,
           16.170552728133508,
           15.042019665884116,
           13.573312586576595,
           11.9738777853529,
           10.890648634220126,
           11.341264287380453,
           11.986374281456248,
           11.919316512180522,
           9.942088851091402,
           9.792689579923621,
           9.493346980552712,
           8.686178265058029,
           9.206745783885072,
           9.601745771958537,
           9.663855839205267,
           7.981424653070092,
           7.498439194295665,
           6.620593530402462,
           6.092256624506382,
           6.799973515195656,
           7.181490384615384,
           6.95441643012189,
           6.0031388961548515,
           6.114905301696825,
           5.672159016607821,
           5.226281091754514,
           5.981347731575626,
           7.569360675512665,
           6.7195099981985225,
           5.954761740569616,
           5.95033927373052,
           5.522475953674017,
           5.601187843558476,
           6.197309994208122,
           6.5922092073004634,
           6.592796318823716,
           5.604676438621743,
           5.663572503763171,
           5.416899832120873,
           5.316619281468079,
           5.7762425638073305,
           5.177407675597393,
           6.028211138954005,
           4.7979484634156435,
           4.271291259965725,
           3.6295014470268816,
           3.1878530565250243,
           3.042200025564706,
           2.8415705365647157,
           2.81771810134725,
           2.150893715319565,
           2.0608455156064798,
           2.1597170637604353,
           3.121212121212121,
           4.233926992547682,
           4.133286891907582,
           5.435014800573713,
           5.295202310127683,
           4.689727264088188,
           4.641052116732786,
           4.173501002369236,
           6.121464003217589,
           5.820721769499418,
           7.026883151450626,
           6.354335943270793,
           5.942465468896043,
           5.619168787107719,
           5.6908639450814285,
           5.793766286507158,
           5.653461158889046,
           6.795727636849132,
           5.940997342746863,
           6.145461379439955,
           6.052180537040563,
           5.9212198221092756,
           6.19155522931095,
           6.428862064288621,
           7.3489555790587,
           6.440645592589056,
           6.244182438721688,
           6.078644210231451,
           5.685269399495428,
           6.2250453720508165,
           6.1315979754157635,
           6.828613173157809,
           5.839806663214224,
           5.992941134739194,
           5.531483359454227,
           5.441845354126055,
           5.8256982006844025,
           6.996515679442508,
           6.833354962437456,
           5.6930241808508875,
           5.658467276440813,
           5.2538030424339475,
           5.056654076871806,
           5.730293448715815,
           6.281156530408774,
           6.3865420560747665,
           5.949500800763281,
           5.753583531159959,
           5.23130782695674,
           5.357087768008638,
           5.6558574349985395,
           6.746670569296064,
           6.989722789789882,
           6.387337383783026,
           6.614420062695925,
           6.187701400831483,
           6.20695973492541,
           6.583181146186624,
           7.4620452592380415,
           8.149521161569355,
           7.551260048776082,
           7.022304832713755,
           6.725927448360909,
           6.066193705659906,
           6.703359157668033,
           7.399577167019028,
           8.093363062763888,
           7.463649823469116,
           7.376339534794236,
           6.724128700679908,
           6.36034955171128,
           7.1204526133732005,
           8.25037501704623,
           8.341939011055764,
           7.710690685253915,
           8.110254697738227,
           7.541037870694973,
           7.072699682714857,
           8.167513919147906,
           9.624188225274139,
           9.712249001227251,
           8.431203052342912,
           8.257023367174018,
           7.5683940370228795,
           7.135823780406268,
           7.994288224956063,
           9.786637283381749,
           9.873653592691905,
           8.85546569924168,
           8.84383875758918,
           7.995365005793744,
           7.452455590386625,
           8.09364071087003,
           8.973862536302033,
           9.412825135204738,
           8.204710757780784,
           7.917335518561341,
           7.109525383523556,
           6.555638956652279,
           6.5329912349652215,
           8.153149303478335,
           9.687920969914684,
           9.862006604812077,
           9.383177570093459,
           8.71686453081802,
           8.197907522953193,
           8.584849090545672,
           9.350268685881778,
           10.915858506570784,
           10.041763052894693
          ],
          "coloraxis": "coloraxis"
         },
         "name": "",
         "offsetgroup": "",
         "orientation": "v",
         "showlegend": false,
         "textposition": "auto",
         "type": "bar",
         "x": [
          "2020-05-13T00:00:00",
          "2020-05-14T00:00:00",
          "2020-05-15T00:00:00",
          "2020-05-16T00:00:00",
          "2020-05-17T00:00:00",
          "2020-05-18T00:00:00",
          "2020-05-19T00:00:00",
          "2020-05-20T00:00:00",
          "2020-05-21T00:00:00",
          "2020-05-22T00:00:00",
          "2020-05-23T00:00:00",
          "2020-05-24T00:00:00",
          "2020-05-25T00:00:00",
          "2020-05-26T00:00:00",
          "2020-05-27T00:00:00",
          "2020-05-28T00:00:00",
          "2020-05-29T00:00:00",
          "2020-05-30T00:00:00",
          "2020-05-31T00:00:00",
          "2020-06-01T00:00:00",
          "2020-06-02T00:00:00",
          "2020-06-03T00:00:00",
          "2020-06-04T00:00:00",
          "2020-06-05T00:00:00",
          "2020-06-06T00:00:00",
          "2020-06-07T00:00:00",
          "2020-06-08T00:00:00",
          "2020-06-09T00:00:00",
          "2020-06-10T00:00:00",
          "2020-06-11T00:00:00",
          "2020-06-12T00:00:00",
          "2020-06-13T00:00:00",
          "2020-06-14T00:00:00",
          "2020-06-15T00:00:00",
          "2020-06-16T00:00:00",
          "2020-06-17T00:00:00",
          "2020-06-18T00:00:00",
          "2020-06-19T00:00:00",
          "2020-06-20T00:00:00",
          "2020-06-21T00:00:00",
          "2020-06-22T00:00:00",
          "2020-06-23T00:00:00",
          "2020-06-24T00:00:00",
          "2020-06-25T00:00:00",
          "2020-06-26T00:00:00",
          "2020-06-27T00:00:00",
          "2020-06-28T00:00:00",
          "2020-06-29T00:00:00",
          "2020-06-30T00:00:00",
          "2020-07-01T00:00:00",
          "2020-07-02T00:00:00",
          "2020-07-03T00:00:00",
          "2020-07-04T00:00:00",
          "2020-07-05T00:00:00",
          "2020-07-06T00:00:00",
          "2020-07-07T00:00:00",
          "2020-07-08T00:00:00",
          "2020-07-09T00:00:00",
          "2020-07-10T00:00:00",
          "2020-07-11T00:00:00",
          "2020-07-12T00:00:00",
          "2020-07-13T00:00:00",
          "2020-07-14T00:00:00",
          "2020-07-15T00:00:00",
          "2020-07-16T00:00:00",
          "2020-07-17T00:00:00",
          "2020-07-18T00:00:00",
          "2020-07-19T00:00:00",
          "2020-07-20T00:00:00",
          "2020-07-21T00:00:00",
          "2020-07-22T00:00:00",
          "2020-07-23T00:00:00",
          "2020-07-24T00:00:00",
          "2020-07-25T00:00:00",
          "2020-07-26T00:00:00",
          "2020-07-27T00:00:00",
          "2020-07-28T00:00:00",
          "2020-07-29T00:00:00",
          "2020-07-30T00:00:00",
          "2020-07-31T00:00:00",
          "2020-08-01T00:00:00",
          "2020-08-02T00:00:00",
          "2020-08-03T00:00:00",
          "2020-08-04T00:00:00",
          "2020-08-05T00:00:00",
          "2020-08-06T00:00:00",
          "2020-08-07T00:00:00",
          "2020-08-08T00:00:00",
          "2020-08-09T00:00:00",
          "2020-08-10T00:00:00",
          "2020-08-11T00:00:00",
          "2020-08-12T00:00:00",
          "2020-08-13T00:00:00",
          "2020-08-14T00:00:00",
          "2020-08-15T00:00:00",
          "2020-08-16T00:00:00",
          "2020-08-17T00:00:00",
          "2020-08-18T00:00:00",
          "2020-08-19T00:00:00",
          "2020-08-20T00:00:00",
          "2020-08-21T00:00:00",
          "2020-08-22T00:00:00",
          "2020-08-23T00:00:00",
          "2020-08-24T00:00:00",
          "2020-08-25T00:00:00",
          "2020-08-26T00:00:00",
          "2020-08-27T00:00:00",
          "2020-08-28T00:00:00",
          "2020-08-29T00:00:00",
          "2020-08-30T00:00:00",
          "2020-08-31T00:00:00",
          "2020-09-01T00:00:00",
          "2020-09-02T00:00:00",
          "2020-09-03T00:00:00",
          "2020-09-04T00:00:00",
          "2020-09-05T00:00:00",
          "2020-09-06T00:00:00",
          "2020-09-07T00:00:00",
          "2020-09-08T00:00:00",
          "2020-09-09T00:00:00",
          "2020-09-10T00:00:00",
          "2020-09-11T00:00:00",
          "2020-09-12T00:00:00",
          "2020-09-13T00:00:00",
          "2020-09-14T00:00:00",
          "2020-09-15T00:00:00",
          "2020-09-16T00:00:00",
          "2020-09-17T00:00:00",
          "2020-09-18T00:00:00",
          "2020-09-19T00:00:00",
          "2020-09-20T00:00:00",
          "2020-09-21T00:00:00",
          "2020-09-22T00:00:00",
          "2020-09-23T00:00:00",
          "2020-09-24T00:00:00",
          "2020-09-25T00:00:00",
          "2020-09-26T00:00:00",
          "2020-09-27T00:00:00",
          "2020-09-28T00:00:00",
          "2020-09-29T00:00:00",
          "2020-09-30T00:00:00",
          "2020-10-01T00:00:00",
          "2020-10-02T00:00:00",
          "2020-10-03T00:00:00",
          "2020-10-04T00:00:00",
          "2020-10-05T00:00:00",
          "2020-10-06T00:00:00",
          "2020-10-07T00:00:00",
          "2020-10-08T00:00:00",
          "2020-10-09T00:00:00",
          "2020-10-10T00:00:00",
          "2020-10-11T00:00:00",
          "2020-10-12T00:00:00",
          "2020-10-13T00:00:00",
          "2020-10-14T00:00:00",
          "2020-10-15T00:00:00",
          "2020-10-16T00:00:00",
          "2020-10-17T00:00:00",
          "2020-10-18T00:00:00",
          "2020-10-19T00:00:00",
          "2020-10-20T00:00:00",
          "2020-10-21T00:00:00",
          "2020-10-22T00:00:00",
          "2020-10-23T00:00:00",
          "2020-10-24T00:00:00",
          "2020-10-25T00:00:00",
          "2020-10-26T00:00:00",
          "2020-10-27T00:00:00",
          "2020-10-28T00:00:00",
          "2020-10-29T00:00:00",
          "2020-10-30T00:00:00",
          "2020-10-31T00:00:00",
          "2020-11-01T00:00:00",
          "2020-11-02T00:00:00",
          "2020-11-03T00:00:00",
          "2020-11-04T00:00:00",
          "2020-11-05T00:00:00",
          "2020-11-06T00:00:00",
          "2020-11-07T00:00:00",
          "2020-11-08T00:00:00",
          "2020-11-09T00:00:00",
          "2020-11-10T00:00:00",
          "2020-11-11T00:00:00",
          "2020-11-12T00:00:00",
          "2020-11-13T00:00:00",
          "2020-11-14T00:00:00",
          "2020-11-15T00:00:00",
          "2020-11-16T00:00:00",
          "2020-11-17T00:00:00",
          "2020-11-18T00:00:00",
          "2020-11-19T00:00:00",
          "2020-11-20T00:00:00",
          "2020-11-21T00:00:00",
          "2020-11-22T00:00:00",
          "2020-11-23T00:00:00",
          "2020-11-24T00:00:00",
          "2020-11-25T00:00:00",
          "2020-11-26T00:00:00",
          "2020-11-27T00:00:00",
          "2020-11-28T00:00:00",
          "2020-11-29T00:00:00",
          "2020-11-30T00:00:00",
          "2020-12-01T00:00:00",
          "2020-12-02T00:00:00",
          "2020-12-03T00:00:00",
          "2020-12-04T00:00:00",
          "2020-12-05T00:00:00",
          "2020-12-06T00:00:00",
          "2020-12-07T00:00:00",
          "2020-12-08T00:00:00",
          "2020-12-09T00:00:00",
          "2020-12-10T00:00:00",
          "2020-12-11T00:00:00",
          "2020-12-12T00:00:00",
          "2020-12-13T00:00:00",
          "2020-12-14T00:00:00",
          "2020-12-15T00:00:00",
          "2020-12-16T00:00:00",
          "2020-12-17T00:00:00",
          "2020-12-18T00:00:00",
          "2020-12-19T00:00:00",
          "2020-12-20T00:00:00",
          "2020-12-21T00:00:00",
          "2020-12-22T00:00:00",
          "2020-12-23T00:00:00",
          "2020-12-24T00:00:00",
          "2020-12-25T00:00:00",
          "2020-12-26T00:00:00",
          "2020-12-27T00:00:00",
          "2020-12-28T00:00:00",
          "2020-12-29T00:00:00",
          "2020-12-30T00:00:00",
          "2020-12-31T00:00:00",
          "2021-01-01T00:00:00",
          "2021-01-02T00:00:00",
          "2021-01-03T00:00:00",
          "2021-01-04T00:00:00",
          "2021-01-05T00:00:00",
          "2021-01-06T00:00:00",
          "2021-01-07T00:00:00",
          "2021-01-08T00:00:00",
          "2021-01-09T00:00:00",
          "2021-01-10T00:00:00",
          "2021-01-11T00:00:00",
          "2021-01-12T00:00:00",
          "2021-01-13T00:00:00",
          "2021-01-14T00:00:00",
          "2021-01-15T00:00:00",
          "2021-01-16T00:00:00",
          "2021-01-17T00:00:00",
          "2021-01-18T00:00:00",
          "2021-01-19T00:00:00",
          "2021-01-20T00:00:00",
          "2021-01-21T00:00:00",
          "2021-01-22T00:00:00",
          "2021-01-23T00:00:00",
          "2021-01-24T00:00:00",
          "2021-01-25T00:00:00",
          "2021-01-26T00:00:00",
          "2021-01-27T00:00:00",
          "2021-01-28T00:00:00",
          "2021-01-29T00:00:00",
          "2021-01-30T00:00:00",
          "2021-01-31T00:00:00",
          "2021-02-01T00:00:00",
          "2021-02-02T00:00:00",
          "2021-02-03T00:00:00",
          "2021-02-04T00:00:00",
          "2021-02-05T00:00:00",
          "2021-02-06T00:00:00",
          "2021-02-07T00:00:00",
          "2021-02-08T00:00:00",
          "2021-02-09T00:00:00",
          "2021-02-10T00:00:00",
          "2021-02-11T00:00:00",
          "2021-02-12T00:00:00",
          "2021-02-13T00:00:00",
          "2021-02-14T00:00:00",
          "2021-02-15T00:00:00",
          "2021-02-16T00:00:00",
          "2021-02-17T00:00:00",
          "2021-02-18T00:00:00",
          "2021-02-19T00:00:00",
          "2021-02-20T00:00:00",
          "2021-02-21T00:00:00",
          "2021-02-22T00:00:00",
          "2021-02-23T00:00:00",
          "2021-02-24T00:00:00",
          "2021-02-25T00:00:00",
          "2021-02-26T00:00:00",
          "2021-02-27T00:00:00",
          "2021-02-28T00:00:00",
          "2021-03-01T00:00:00",
          "2021-03-02T00:00:00",
          "2021-03-03T00:00:00",
          "2021-03-04T00:00:00",
          "2021-03-05T00:00:00",
          "2021-03-06T00:00:00",
          "2021-03-07T00:00:00",
          "2021-03-08T00:00:00",
          "2021-03-09T00:00:00",
          "2021-03-10T00:00:00",
          "2021-03-11T00:00:00",
          "2021-03-12T00:00:00",
          "2021-03-13T00:00:00",
          "2021-03-14T00:00:00",
          "2021-03-15T00:00:00",
          "2021-03-16T00:00:00",
          "2021-03-17T00:00:00",
          "2021-03-18T00:00:00",
          "2021-03-19T00:00:00",
          "2021-03-20T00:00:00",
          "2021-03-21T00:00:00",
          "2021-03-22T00:00:00",
          "2021-03-23T00:00:00",
          "2021-03-24T00:00:00",
          "2021-03-25T00:00:00",
          "2021-03-26T00:00:00",
          "2021-03-27T00:00:00",
          "2021-03-28T00:00:00",
          "2021-03-29T00:00:00",
          "2021-03-30T00:00:00",
          "2021-03-31T00:00:00",
          "2021-04-01T00:00:00",
          "2021-04-02T00:00:00",
          "2021-04-03T00:00:00",
          "2021-04-04T00:00:00",
          "2021-04-05T00:00:00",
          "2021-04-06T00:00:00",
          "2021-04-07T00:00:00",
          "2021-04-08T00:00:00",
          "2021-04-09T00:00:00",
          "2021-04-10T00:00:00",
          "2021-04-11T00:00:00",
          "2021-04-12T00:00:00",
          "2021-04-13T00:00:00"
         ],
         "xaxis": "x",
         "y": [
          5677,
          6142,
          6711,
          2290,
          763,
          7274,
          7783,
          7592,
          1132,
          6662,
          2445,
          796,
          6699,
          7433,
          6244,
          6146,
          6516,
          2566,
          852,
          1051,
          6250,
          5752,
          5656,
          6007,
          2309,
          716,
          5726,
          5629,
          5333,
          5298,
          5713,
          2320,
          665,
          5304,
          5374,
          5149,
          5025,
          5772,
          2568,
          663,
          6037,
          6293,
          6142,
          5354,
          6492,
          2814,
          869,
          8024,
          8025,
          8117,
          7822,
          8553,
          3849,
          956,
          9569,
          10119,
          10597,
          11301,
          12395,
          4963,
          1031,
          12113,
          1587,
          13160,
          14583,
          15697,
          6277,
          1655,
          14366,
          14510,
          14463,
          14620,
          15414,
          6647,
          2146,
          16160,
          16762,
          17685,
          17619,
          17533,
          7279,
          2444,
          17566,
          16762,
          17575,
          18579,
          18234,
          7832,
          2578,
          18322,
          16674,
          18237,
          19790,
          20951,
          3821,
          3464,
          24191,
          22928,
          23361,
          24837,
          26252,
          10654,
          3440,
          30058,
          28603,
          29507,
          31962,
          32329,
          13046,
          4263,
          35111,
          32853,
          32727,
          35045,
          35619,
          13935,
          4134,
          39854,
          40874,
          40311,
          42818,
          41790,
          15337,
          4366,
          43952,
          43203,
          39140,
          38823,
          36479,
          13332,
          4045,
          36167,
          33142,
          29909,
          30606,
          30473,
          11805,
          3145,
          32144,
          29152,
          27829,
          29526,
          30201,
          12424,
          3364,
          34999,
          32410,
          32126,
          35774,
          39003,
          16546,
          4546,
          44906,
          41947,
          41950,
          47417,
          50069,
          20847,
          5889,
          54348,
          50688,
          52323,
          57387,
          62601,
          26294,
          7192,
          67043,
          62223,
          60108,
          60810,
          63620,
          27088,
          6843,
          67592,
          58782,
          52699,
          55738,
          56195,
          21435,
          4697,
          55129,
          49386,
          7332,
          50804,
          43598,
          16010,
          3666,
          43285,
          36823,
          30433,
          34438,
          34946,
          15103,
          3328,
          35934,
          30584,
          28406,
          30588,
          31399,
          14261,
          3316,
          33306,
          29002,
          26822,
          30566,
          31654,
          15539,
          3671,
          37814,
          34043,
          31888,
          35740,
          38690,
          20844,
          5524,
          49484,
          48354,
          53684,
          67034,
          83379,
          54763,
          18898,
          110373,
          123809,
          126550,
          90197,
          6600,
          39585,
          8613,
          65538,
          57486,
          63138,
          55203,
          5487,
          37295,
          7731,
          67626,
          54152,
          48145,
          51876,
          54772,
          29549,
          7093,
          59920,
          51557,
          47889,
          52510,
          55090,
          31333,
          7373,
          60512,
          52355,
          51568,
          57118,
          62231,
          33060,
          6915,
          67759,
          57930,
          56383,
          65082,
          67716,
          36236,
          7175,
          69351,
          60337,
          56305,
          62450,
          67515,
          36054,
          7021,
          66875,
          58694,
          55183,
          59985,
          64830,
          34230,
          6833,
          65582,
          57113,
          54230,
          59893,
          65491,
          34497,
          6982,
          64740,
          55355,
          53800,
          58386,
          63994,
          33431,
          7095,
          63237,
          52682,
          51977,
          56037,
          61679,
          34113,
          7333,
          65848,
          55235,
          55399,
          66463,
          72490,
          41310,
          9393,
          76594,
          67096,
          64321,
          73252,
          82261,
          45520,
          9983,
          88012,
          79386,
          76754,
          87163,
          95700,
          56044,
          10330,
          100958,
          94592,
          89083,
          102862,
          106580,
          67427,
          11701,
          17816,
          101744,
          80250,
          79937,
          84302,
          50030,
          10235,
          78986,
          64411
         ],
         "yaxis": "y"
        }
       ],
       "layout": {
        "barmode": "relative",
        "coloraxis": {
         "colorbar": {
          "title": {
           "text": "% positive tests"
          }
         },
         "colorscale": [
          [
           0,
           "#0d0887"
          ],
          [
           0.1111111111111111,
           "#46039f"
          ],
          [
           0.2222222222222222,
           "#7201a8"
          ],
          [
           0.3333333333333333,
           "#9c179e"
          ],
          [
           0.4444444444444444,
           "#bd3786"
          ],
          [
           0.5555555555555556,
           "#d8576b"
          ],
          [
           0.6666666666666666,
           "#ed7953"
          ],
          [
           0.7777777777777778,
           "#fb9f3a"
          ],
          [
           0.8888888888888888,
           "#fdca26"
          ],
          [
           1,
           "#f0f921"
          ]
         ]
        },
        "height": 600,
        "legend": {
         "tracegroupgap": 0
        },
        "template": {
         "data": {
          "bar": [
           {
            "error_x": {
             "color": "#2a3f5f"
            },
            "error_y": {
             "color": "#2a3f5f"
            },
            "marker": {
             "line": {
              "color": "#E5ECF6",
              "width": 0.5
             }
            },
            "type": "bar"
           }
          ],
          "barpolar": [
           {
            "marker": {
             "line": {
              "color": "#E5ECF6",
              "width": 0.5
             }
            },
            "type": "barpolar"
           }
          ],
          "carpet": [
           {
            "aaxis": {
             "endlinecolor": "#2a3f5f",
             "gridcolor": "white",
             "linecolor": "white",
             "minorgridcolor": "white",
             "startlinecolor": "#2a3f5f"
            },
            "baxis": {
             "endlinecolor": "#2a3f5f",
             "gridcolor": "white",
             "linecolor": "white",
             "minorgridcolor": "white",
             "startlinecolor": "#2a3f5f"
            },
            "type": "carpet"
           }
          ],
          "choropleth": [
           {
            "colorbar": {
             "outlinewidth": 0,
             "ticks": ""
            },
            "type": "choropleth"
           }
          ],
          "contour": [
           {
            "colorbar": {
             "outlinewidth": 0,
             "ticks": ""
            },
            "colorscale": [
             [
              0,
              "#0d0887"
             ],
             [
              0.1111111111111111,
              "#46039f"
             ],
             [
              0.2222222222222222,
              "#7201a8"
             ],
             [
              0.3333333333333333,
              "#9c179e"
             ],
             [
              0.4444444444444444,
              "#bd3786"
             ],
             [
              0.5555555555555556,
              "#d8576b"
             ],
             [
              0.6666666666666666,
              "#ed7953"
             ],
             [
              0.7777777777777778,
              "#fb9f3a"
             ],
             [
              0.8888888888888888,
              "#fdca26"
             ],
             [
              1,
              "#f0f921"
             ]
            ],
            "type": "contour"
           }
          ],
          "contourcarpet": [
           {
            "colorbar": {
             "outlinewidth": 0,
             "ticks": ""
            },
            "type": "contourcarpet"
           }
          ],
          "heatmap": [
           {
            "colorbar": {
             "outlinewidth": 0,
             "ticks": ""
            },
            "colorscale": [
             [
              0,
              "#0d0887"
             ],
             [
              0.1111111111111111,
              "#46039f"
             ],
             [
              0.2222222222222222,
              "#7201a8"
             ],
             [
              0.3333333333333333,
              "#9c179e"
             ],
             [
              0.4444444444444444,
              "#bd3786"
             ],
             [
              0.5555555555555556,
              "#d8576b"
             ],
             [
              0.6666666666666666,
              "#ed7953"
             ],
             [
              0.7777777777777778,
              "#fb9f3a"
             ],
             [
              0.8888888888888888,
              "#fdca26"
             ],
             [
              1,
              "#f0f921"
             ]
            ],
            "type": "heatmap"
           }
          ],
          "heatmapgl": [
           {
            "colorbar": {
             "outlinewidth": 0,
             "ticks": ""
            },
            "colorscale": [
             [
              0,
              "#0d0887"
             ],
             [
              0.1111111111111111,
              "#46039f"
             ],
             [
              0.2222222222222222,
              "#7201a8"
             ],
             [
              0.3333333333333333,
              "#9c179e"
             ],
             [
              0.4444444444444444,
              "#bd3786"
             ],
             [
              0.5555555555555556,
              "#d8576b"
             ],
             [
              0.6666666666666666,
              "#ed7953"
             ],
             [
              0.7777777777777778,
              "#fb9f3a"
             ],
             [
              0.8888888888888888,
              "#fdca26"
             ],
             [
              1,
              "#f0f921"
             ]
            ],
            "type": "heatmapgl"
           }
          ],
          "histogram": [
           {
            "marker": {
             "colorbar": {
              "outlinewidth": 0,
              "ticks": ""
             }
            },
            "type": "histogram"
           }
          ],
          "histogram2d": [
           {
            "colorbar": {
             "outlinewidth": 0,
             "ticks": ""
            },
            "colorscale": [
             [
              0,
              "#0d0887"
             ],
             [
              0.1111111111111111,
              "#46039f"
             ],
             [
              0.2222222222222222,
              "#7201a8"
             ],
             [
              0.3333333333333333,
              "#9c179e"
             ],
             [
              0.4444444444444444,
              "#bd3786"
             ],
             [
              0.5555555555555556,
              "#d8576b"
             ],
             [
              0.6666666666666666,
              "#ed7953"
             ],
             [
              0.7777777777777778,
              "#fb9f3a"
             ],
             [
              0.8888888888888888,
              "#fdca26"
             ],
             [
              1,
              "#f0f921"
             ]
            ],
            "type": "histogram2d"
           }
          ],
          "histogram2dcontour": [
           {
            "colorbar": {
             "outlinewidth": 0,
             "ticks": ""
            },
            "colorscale": [
             [
              0,
              "#0d0887"
             ],
             [
              0.1111111111111111,
              "#46039f"
             ],
             [
              0.2222222222222222,
              "#7201a8"
             ],
             [
              0.3333333333333333,
              "#9c179e"
             ],
             [
              0.4444444444444444,
              "#bd3786"
             ],
             [
              0.5555555555555556,
              "#d8576b"
             ],
             [
              0.6666666666666666,
              "#ed7953"
             ],
             [
              0.7777777777777778,
              "#fb9f3a"
             ],
             [
              0.8888888888888888,
              "#fdca26"
             ],
             [
              1,
              "#f0f921"
             ]
            ],
            "type": "histogram2dcontour"
           }
          ],
          "mesh3d": [
           {
            "colorbar": {
             "outlinewidth": 0,
             "ticks": ""
            },
            "type": "mesh3d"
           }
          ],
          "parcoords": [
           {
            "line": {
             "colorbar": {
              "outlinewidth": 0,
              "ticks": ""
             }
            },
            "type": "parcoords"
           }
          ],
          "pie": [
           {
            "automargin": true,
            "type": "pie"
           }
          ],
          "scatter": [
           {
            "marker": {
             "colorbar": {
              "outlinewidth": 0,
              "ticks": ""
             }
            },
            "type": "scatter"
           }
          ],
          "scatter3d": [
           {
            "line": {
             "colorbar": {
              "outlinewidth": 0,
              "ticks": ""
             }
            },
            "marker": {
             "colorbar": {
              "outlinewidth": 0,
              "ticks": ""
             }
            },
            "type": "scatter3d"
           }
          ],
          "scattercarpet": [
           {
            "marker": {
             "colorbar": {
              "outlinewidth": 0,
              "ticks": ""
             }
            },
            "type": "scattercarpet"
           }
          ],
          "scattergeo": [
           {
            "marker": {
             "colorbar": {
              "outlinewidth": 0,
              "ticks": ""
             }
            },
            "type": "scattergeo"
           }
          ],
          "scattergl": [
           {
            "marker": {
             "colorbar": {
              "outlinewidth": 0,
              "ticks": ""
             }
            },
            "type": "scattergl"
           }
          ],
          "scattermapbox": [
           {
            "marker": {
             "colorbar": {
              "outlinewidth": 0,
              "ticks": ""
             }
            },
            "type": "scattermapbox"
           }
          ],
          "scatterpolar": [
           {
            "marker": {
             "colorbar": {
              "outlinewidth": 0,
              "ticks": ""
             }
            },
            "type": "scatterpolar"
           }
          ],
          "scatterpolargl": [
           {
            "marker": {
             "colorbar": {
              "outlinewidth": 0,
              "ticks": ""
             }
            },
            "type": "scatterpolargl"
           }
          ],
          "scatterternary": [
           {
            "marker": {
             "colorbar": {
              "outlinewidth": 0,
              "ticks": ""
             }
            },
            "type": "scatterternary"
           }
          ],
          "surface": [
           {
            "colorbar": {
             "outlinewidth": 0,
             "ticks": ""
            },
            "colorscale": [
             [
              0,
              "#0d0887"
             ],
             [
              0.1111111111111111,
              "#46039f"
             ],
             [
              0.2222222222222222,
              "#7201a8"
             ],
             [
              0.3333333333333333,
              "#9c179e"
             ],
             [
              0.4444444444444444,
              "#bd3786"
             ],
             [
              0.5555555555555556,
              "#d8576b"
             ],
             [
              0.6666666666666666,
              "#ed7953"
             ],
             [
              0.7777777777777778,
              "#fb9f3a"
             ],
             [
              0.8888888888888888,
              "#fdca26"
             ],
             [
              1,
              "#f0f921"
             ]
            ],
            "type": "surface"
           }
          ],
          "table": [
           {
            "cells": {
             "fill": {
              "color": "#EBF0F8"
             },
             "line": {
              "color": "white"
             }
            },
            "header": {
             "fill": {
              "color": "#C8D4E3"
             },
             "line": {
              "color": "white"
             }
            },
            "type": "table"
           }
          ]
         },
         "layout": {
          "annotationdefaults": {
           "arrowcolor": "#2a3f5f",
           "arrowhead": 0,
           "arrowwidth": 1
          },
          "autotypenumbers": "strict",
          "coloraxis": {
           "colorbar": {
            "outlinewidth": 0,
            "ticks": ""
           }
          },
          "colorscale": {
           "diverging": [
            [
             0,
             "#8e0152"
            ],
            [
             0.1,
             "#c51b7d"
            ],
            [
             0.2,
             "#de77ae"
            ],
            [
             0.3,
             "#f1b6da"
            ],
            [
             0.4,
             "#fde0ef"
            ],
            [
             0.5,
             "#f7f7f7"
            ],
            [
             0.6,
             "#e6f5d0"
            ],
            [
             0.7,
             "#b8e186"
            ],
            [
             0.8,
             "#7fbc41"
            ],
            [
             0.9,
             "#4d9221"
            ],
            [
             1,
             "#276419"
            ]
           ],
           "sequential": [
            [
             0,
             "#0d0887"
            ],
            [
             0.1111111111111111,
             "#46039f"
            ],
            [
             0.2222222222222222,
             "#7201a8"
            ],
            [
             0.3333333333333333,
             "#9c179e"
            ],
            [
             0.4444444444444444,
             "#bd3786"
            ],
            [
             0.5555555555555556,
             "#d8576b"
            ],
            [
             0.6666666666666666,
             "#ed7953"
            ],
            [
             0.7777777777777778,
             "#fb9f3a"
            ],
            [
             0.8888888888888888,
             "#fdca26"
            ],
            [
             1,
             "#f0f921"
            ]
           ],
           "sequentialminus": [
            [
             0,
             "#0d0887"
            ],
            [
             0.1111111111111111,
             "#46039f"
            ],
            [
             0.2222222222222222,
             "#7201a8"
            ],
            [
             0.3333333333333333,
             "#9c179e"
            ],
            [
             0.4444444444444444,
             "#bd3786"
            ],
            [
             0.5555555555555556,
             "#d8576b"
            ],
            [
             0.6666666666666666,
             "#ed7953"
            ],
            [
             0.7777777777777778,
             "#fb9f3a"
            ],
            [
             0.8888888888888888,
             "#fdca26"
            ],
            [
             1,
             "#f0f921"
            ]
           ]
          },
          "colorway": [
           "#636efa",
           "#EF553B",
           "#00cc96",
           "#ab63fa",
           "#FFA15A",
           "#19d3f3",
           "#FF6692",
           "#B6E880",
           "#FF97FF",
           "#FECB52"
          ],
          "font": {
           "color": "#2a3f5f"
          },
          "geo": {
           "bgcolor": "white",
           "lakecolor": "white",
           "landcolor": "#E5ECF6",
           "showlakes": true,
           "showland": true,
           "subunitcolor": "white"
          },
          "hoverlabel": {
           "align": "left"
          },
          "hovermode": "closest",
          "mapbox": {
           "style": "light"
          },
          "paper_bgcolor": "white",
          "plot_bgcolor": "#E5ECF6",
          "polar": {
           "angularaxis": {
            "gridcolor": "white",
            "linecolor": "white",
            "ticks": ""
           },
           "bgcolor": "#E5ECF6",
           "radialaxis": {
            "gridcolor": "white",
            "linecolor": "white",
            "ticks": ""
           }
          },
          "scene": {
           "xaxis": {
            "backgroundcolor": "#E5ECF6",
            "gridcolor": "white",
            "gridwidth": 2,
            "linecolor": "white",
            "showbackground": true,
            "ticks": "",
            "zerolinecolor": "white"
           },
           "yaxis": {
            "backgroundcolor": "#E5ECF6",
            "gridcolor": "white",
            "gridwidth": 2,
            "linecolor": "white",
            "showbackground": true,
            "ticks": "",
            "zerolinecolor": "white"
           },
           "zaxis": {
            "backgroundcolor": "#E5ECF6",
            "gridcolor": "white",
            "gridwidth": 2,
            "linecolor": "white",
            "showbackground": true,
            "ticks": "",
            "zerolinecolor": "white"
           }
          },
          "shapedefaults": {
           "line": {
            "color": "#2a3f5f"
           }
          },
          "ternary": {
           "aaxis": {
            "gridcolor": "white",
            "linecolor": "white",
            "ticks": ""
           },
           "baxis": {
            "gridcolor": "white",
            "linecolor": "white",
            "ticks": ""
           },
           "bgcolor": "#E5ECF6",
           "caxis": {
            "gridcolor": "white",
            "linecolor": "white",
            "ticks": ""
           }
          },
          "title": {
           "x": 0.05
          },
          "xaxis": {
           "automargin": true,
           "gridcolor": "white",
           "linecolor": "white",
           "ticks": "",
           "title": {
            "standoff": 15
           },
           "zerolinecolor": "white",
           "zerolinewidth": 2
          },
          "yaxis": {
           "automargin": true,
           "gridcolor": "white",
           "linecolor": "white",
           "ticks": "",
           "title": {
            "standoff": 15
           },
           "zerolinecolor": "white",
           "zerolinewidth": 2
          }
         }
        },
        "title": {
         "text": "Covid Screening in France for the age class 39"
        },
        "width": 1000,
        "xaxis": {
         "anchor": "y",
         "domain": [
          0,
          1
         ],
         "rangeslider": {
          "visible": true
         },
         "title": {
          "text": "date"
         }
        },
        "yaxis": {
         "anchor": "x",
         "domain": [
          0,
          1
         ],
         "title": {
          "text": "Tests number"
         }
        }
       }
      }
     },
     "metadata": {}
    }
   ],
   "source": [
    "daily_test_age(39)"
   ]
  },
  {
   "cell_type": "code",
   "execution_count": null,
   "metadata": {},
   "outputs": [],
   "source": []
  }
 ]
}