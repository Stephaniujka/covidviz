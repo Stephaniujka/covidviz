{
 "metadata": {
  "language_info": {
   "codemirror_mode": {
    "name": "ipython",
    "version": 3
   },
   "file_extension": ".py",
   "mimetype": "text/x-python",
   "name": "python",
   "nbconvert_exporter": "python",
   "pygments_lexer": "ipython3",
   "version": "3.8.8-final"
  },
  "orig_nbformat": 2,
  "kernelspec": {
   "name": "python388jvsc74a57bd0f2553dd8eab56fa176af5ba2b5dc4cf53e056913a0b7c75b8a54aa30280dccb2",
   "display_name": "Python 3.8.8 64-bit ('stef_env': conda)"
  }
 },
 "nbformat": 4,
 "nbformat_minor": 2,
 "cells": [
  {
   "cell_type": "code",
   "execution_count": 1,
   "metadata": {},
   "outputs": [],
   "source": [
    "import pandas as pd\n",
    "import plotly.express as px\n",
    "import numpy as np"
   ]
  },
  {
   "cell_type": "code",
   "execution_count": 2,
   "metadata": {},
   "outputs": [],
   "source": [
    "screening_daily = pd.read_csv('../screening/data/sp-pos-quot-dep-2021-04-16-19h05.csv', delimiter=';', low_memory=False)"
   ]
  },
  {
   "cell_type": "code",
   "execution_count": 3,
   "metadata": {},
   "outputs": [],
   "source": [
    "screening_daily.rename(columns={'cl_age90' : 'cl_age', 'jour' : 'date', 'T' : 'Tests number', 'P' : 'Positive tests'}, inplace=True)"
   ]
  },
  {
   "cell_type": "code",
   "execution_count": 4,
   "metadata": {},
   "outputs": [
    {
     "output_type": "execute_result",
     "data": {
      "text/plain": [
       "  dep        date  Positive tests  Tests number  cl_age      pop\n",
       "0  01  2020-05-13               0            16       9  83001.0\n",
       "1  01  2020-05-13               1            17      19  84665.0\n",
       "2  01  2020-05-13               0            34      29  65496.0\n",
       "3  01  2020-05-13               1            72      39  85588.0\n",
       "4  01  2020-05-13               0            54      49  89678.0"
      ],
      "text/html": "<div>\n<style scoped>\n    .dataframe tbody tr th:only-of-type {\n        vertical-align: middle;\n    }\n\n    .dataframe tbody tr th {\n        vertical-align: top;\n    }\n\n    .dataframe thead th {\n        text-align: right;\n    }\n</style>\n<table border=\"1\" class=\"dataframe\">\n  <thead>\n    <tr style=\"text-align: right;\">\n      <th></th>\n      <th>dep</th>\n      <th>date</th>\n      <th>Positive tests</th>\n      <th>Tests number</th>\n      <th>cl_age</th>\n      <th>pop</th>\n    </tr>\n  </thead>\n  <tbody>\n    <tr>\n      <th>0</th>\n      <td>01</td>\n      <td>2020-05-13</td>\n      <td>0</td>\n      <td>16</td>\n      <td>9</td>\n      <td>83001.0</td>\n    </tr>\n    <tr>\n      <th>1</th>\n      <td>01</td>\n      <td>2020-05-13</td>\n      <td>1</td>\n      <td>17</td>\n      <td>19</td>\n      <td>84665.0</td>\n    </tr>\n    <tr>\n      <th>2</th>\n      <td>01</td>\n      <td>2020-05-13</td>\n      <td>0</td>\n      <td>34</td>\n      <td>29</td>\n      <td>65496.0</td>\n    </tr>\n    <tr>\n      <th>3</th>\n      <td>01</td>\n      <td>2020-05-13</td>\n      <td>1</td>\n      <td>72</td>\n      <td>39</td>\n      <td>85588.0</td>\n    </tr>\n    <tr>\n      <th>4</th>\n      <td>01</td>\n      <td>2020-05-13</td>\n      <td>0</td>\n      <td>54</td>\n      <td>49</td>\n      <td>89678.0</td>\n    </tr>\n  </tbody>\n</table>\n</div>"
     },
     "metadata": {},
     "execution_count": 4
    }
   ],
   "source": [
    "screening_daily.head()"
   ]
  },
  {
   "cell_type": "code",
   "execution_count": 5,
   "metadata": {},
   "outputs": [],
   "source": [
    "DEP = pd.DataFrame(screening_daily['dep'].unique())\n",
    "DEP.set_axis(['code'], axis=1, inplace=True)"
   ]
  },
  {
   "cell_type": "code",
   "execution_count": 6,
   "metadata": {},
   "outputs": [],
   "source": [
    "AGE = pd.DataFrame(screening_daily['cl_age'].unique())\n",
    "AGE.set_axis(['classe'], axis=1, inplace=True)"
   ]
  },
  {
   "cell_type": "code",
   "execution_count": 7,
   "metadata": {},
   "outputs": [],
   "source": [
    "DATE = pd.DataFrame(screening_daily['date'].unique())\n",
    "DATE.set_axis(['day'], axis=1, inplace=True)"
   ]
  },
  {
   "cell_type": "code",
   "execution_count": 23,
   "metadata": {},
   "outputs": [
    {
     "output_type": "stream",
     "name": "stderr",
     "text": [
      "/Users/stef/opt/anaconda3/envs/stef_env/lib/python3.8/site-packages/pandas/core/frame.py:4308: SettingWithCopyWarning:\n\n\nA value is trying to be set on a copy of a slice from a DataFrame\n\nSee the caveats in the documentation: https://pandas.pydata.org/pandas-docs/stable/user_guide/indexing.html#returning-a-view-versus-a-copy\n\n/Users/stef/opt/anaconda3/envs/stef_env/lib/python3.8/site-packages/pandas/core/frame.py:4308: SettingWithCopyWarning:\n\n\nA value is trying to be set on a copy of a slice from a DataFrame\n\nSee the caveats in the documentation: https://pandas.pydata.org/pandas-docs/stable/user_guide/indexing.html#returning-a-view-versus-a-copy\n\n/Users/stef/opt/anaconda3/envs/stef_env/lib/python3.8/site-packages/pandas/core/frame.py:4308: SettingWithCopyWarning:\n\n\nA value is trying to be set on a copy of a slice from a DataFrame\n\nSee the caveats in the documentation: https://pandas.pydata.org/pandas-docs/stable/user_guide/indexing.html#returning-a-view-versus-a-copy\n\n/Users/stef/opt/anaconda3/envs/stef_env/lib/python3.8/site-packages/pandas/core/frame.py:4308: SettingWithCopyWarning:\n\n\nA value is trying to be set on a copy of a slice from a DataFrame\n\nSee the caveats in the documentation: https://pandas.pydata.org/pandas-docs/stable/user_guide/indexing.html#returning-a-view-versus-a-copy\n\n/Users/stef/opt/anaconda3/envs/stef_env/lib/python3.8/site-packages/pandas/core/frame.py:4308: SettingWithCopyWarning:\n\n\nA value is trying to be set on a copy of a slice from a DataFrame\n\nSee the caveats in the documentation: https://pandas.pydata.org/pandas-docs/stable/user_guide/indexing.html#returning-a-view-versus-a-copy\n\n/Users/stef/opt/anaconda3/envs/stef_env/lib/python3.8/site-packages/pandas/core/frame.py:4308: SettingWithCopyWarning:\n\n\nA value is trying to be set on a copy of a slice from a DataFrame\n\nSee the caveats in the documentation: https://pandas.pydata.org/pandas-docs/stable/user_guide/indexing.html#returning-a-view-versus-a-copy\n\n/Users/stef/opt/anaconda3/envs/stef_env/lib/python3.8/site-packages/pandas/core/frame.py:4308: SettingWithCopyWarning:\n\n\nA value is trying to be set on a copy of a slice from a DataFrame\n\nSee the caveats in the documentation: https://pandas.pydata.org/pandas-docs/stable/user_guide/indexing.html#returning-a-view-versus-a-copy\n\n/Users/stef/opt/anaconda3/envs/stef_env/lib/python3.8/site-packages/pandas/core/frame.py:4308: SettingWithCopyWarning:\n\n\nA value is trying to be set on a copy of a slice from a DataFrame\n\nSee the caveats in the documentation: https://pandas.pydata.org/pandas-docs/stable/user_guide/indexing.html#returning-a-view-versus-a-copy\n\n/Users/stef/opt/anaconda3/envs/stef_env/lib/python3.8/site-packages/pandas/core/frame.py:4308: SettingWithCopyWarning:\n\n\nA value is trying to be set on a copy of a slice from a DataFrame\n\nSee the caveats in the documentation: https://pandas.pydata.org/pandas-docs/stable/user_guide/indexing.html#returning-a-view-versus-a-copy\n\n/Users/stef/opt/anaconda3/envs/stef_env/lib/python3.8/site-packages/pandas/core/frame.py:4308: SettingWithCopyWarning:\n\n\nA value is trying to be set on a copy of a slice from a DataFrame\n\nSee the caveats in the documentation: https://pandas.pydata.org/pandas-docs/stable/user_guide/indexing.html#returning-a-view-versus-a-copy\n\n/Users/stef/opt/anaconda3/envs/stef_env/lib/python3.8/site-packages/pandas/core/frame.py:4308: SettingWithCopyWarning:\n\n\nA value is trying to be set on a copy of a slice from a DataFrame\n\nSee the caveats in the documentation: https://pandas.pydata.org/pandas-docs/stable/user_guide/indexing.html#returning-a-view-versus-a-copy\n\n"
     ]
    }
   ],
   "source": [
    "screening_daily_age_dep = {}\n",
    "for age in AGE['classe'].tolist():\n",
    "    screening_daily_age_dep[age] = screening_daily[screening_daily['cl_age'] == age]\n",
    "    screening_daily_age_dep[age].drop(['cl_age'], axis=1, inplace=True)\n",
    "    screening_daily_age_dep[age] = screening_daily_age_dep[age].reset_index()\n",
    "    screening_daily_age_dep[age].drop(['pop','index'], axis=1, inplace=True)\n",
    "    screening_daily_age_dep[age]['Tests cumul'] = screening_daily_age_dep[age]['Tests number'].cumsum()\n",
    "    screening_daily_age_dep[age]['% positive tests'] = (screening_daily_age_dep[age]['Positive tests']/screening_daily_age_dep[age]['Tests number'])*100\n",
    "    screening_daily_age_dep[age].fillna(0, inplace=True)"
   ]
  },
  {
   "cell_type": "code",
   "execution_count": 25,
   "metadata": {},
   "outputs": [
    {
     "output_type": "execute_result",
     "data": {
      "text/plain": [
       "       dep        date  Positive tests  Tests number  Tests cumul  \\\n",
       "0       01  2020-05-13               0            16           16   \n",
       "1       01  2020-05-14               0            27           43   \n",
       "2       01  2020-05-15               0            31           74   \n",
       "3       01  2020-05-16               0            13           87   \n",
       "4       01  2020-05-17               0             0           87   \n",
       "...    ...         ...             ...           ...          ...   \n",
       "34939  978  2021-04-09               0             0      3373453   \n",
       "34940  978  2021-04-10               0             4      3373457   \n",
       "34941  978  2021-04-11               0             0      3373457   \n",
       "34942  978  2021-04-12               0             1      3373458   \n",
       "34943  978  2021-04-13               0             0      3373458   \n",
       "\n",
       "       % positive tests  \n",
       "0                   0.0  \n",
       "1                   0.0  \n",
       "2                   0.0  \n",
       "3                   0.0  \n",
       "4                   0.0  \n",
       "...                 ...  \n",
       "34939               0.0  \n",
       "34940               0.0  \n",
       "34941               0.0  \n",
       "34942               0.0  \n",
       "34943               0.0  \n",
       "\n",
       "[34944 rows x 6 columns]"
      ],
      "text/html": "<div>\n<style scoped>\n    .dataframe tbody tr th:only-of-type {\n        vertical-align: middle;\n    }\n\n    .dataframe tbody tr th {\n        vertical-align: top;\n    }\n\n    .dataframe thead th {\n        text-align: right;\n    }\n</style>\n<table border=\"1\" class=\"dataframe\">\n  <thead>\n    <tr style=\"text-align: right;\">\n      <th></th>\n      <th>dep</th>\n      <th>date</th>\n      <th>Positive tests</th>\n      <th>Tests number</th>\n      <th>Tests cumul</th>\n      <th>% positive tests</th>\n    </tr>\n  </thead>\n  <tbody>\n    <tr>\n      <th>0</th>\n      <td>01</td>\n      <td>2020-05-13</td>\n      <td>0</td>\n      <td>16</td>\n      <td>16</td>\n      <td>0.0</td>\n    </tr>\n    <tr>\n      <th>1</th>\n      <td>01</td>\n      <td>2020-05-14</td>\n      <td>0</td>\n      <td>27</td>\n      <td>43</td>\n      <td>0.0</td>\n    </tr>\n    <tr>\n      <th>2</th>\n      <td>01</td>\n      <td>2020-05-15</td>\n      <td>0</td>\n      <td>31</td>\n      <td>74</td>\n      <td>0.0</td>\n    </tr>\n    <tr>\n      <th>3</th>\n      <td>01</td>\n      <td>2020-05-16</td>\n      <td>0</td>\n      <td>13</td>\n      <td>87</td>\n      <td>0.0</td>\n    </tr>\n    <tr>\n      <th>4</th>\n      <td>01</td>\n      <td>2020-05-17</td>\n      <td>0</td>\n      <td>0</td>\n      <td>87</td>\n      <td>0.0</td>\n    </tr>\n    <tr>\n      <th>...</th>\n      <td>...</td>\n      <td>...</td>\n      <td>...</td>\n      <td>...</td>\n      <td>...</td>\n      <td>...</td>\n    </tr>\n    <tr>\n      <th>34939</th>\n      <td>978</td>\n      <td>2021-04-09</td>\n      <td>0</td>\n      <td>0</td>\n      <td>3373453</td>\n      <td>0.0</td>\n    </tr>\n    <tr>\n      <th>34940</th>\n      <td>978</td>\n      <td>2021-04-10</td>\n      <td>0</td>\n      <td>4</td>\n      <td>3373457</td>\n      <td>0.0</td>\n    </tr>\n    <tr>\n      <th>34941</th>\n      <td>978</td>\n      <td>2021-04-11</td>\n      <td>0</td>\n      <td>0</td>\n      <td>3373457</td>\n      <td>0.0</td>\n    </tr>\n    <tr>\n      <th>34942</th>\n      <td>978</td>\n      <td>2021-04-12</td>\n      <td>0</td>\n      <td>1</td>\n      <td>3373458</td>\n      <td>0.0</td>\n    </tr>\n    <tr>\n      <th>34943</th>\n      <td>978</td>\n      <td>2021-04-13</td>\n      <td>0</td>\n      <td>0</td>\n      <td>3373458</td>\n      <td>0.0</td>\n    </tr>\n  </tbody>\n</table>\n<p>34944 rows × 6 columns</p>\n</div>"
     },
     "metadata": {},
     "execution_count": 25
    }
   ],
   "source": [
    "screening_daily_age_dep[9]"
   ]
  },
  {
   "cell_type": "code",
   "execution_count": 8,
   "metadata": {},
   "outputs": [
    {
     "output_type": "stream",
     "name": "stderr",
     "text": [
      "/Users/stef/opt/anaconda3/envs/stef_env/lib/python3.8/site-packages/pandas/core/frame.py:4308: SettingWithCopyWarning: \n",
      "A value is trying to be set on a copy of a slice from a DataFrame\n",
      "\n",
      "See the caveats in the documentation: https://pandas.pydata.org/pandas-docs/stable/user_guide/indexing.html#returning-a-view-versus-a-copy\n",
      "  return super().drop(\n",
      "/Users/stef/opt/anaconda3/envs/stef_env/lib/python3.8/site-packages/pandas/core/frame.py:4308: SettingWithCopyWarning: \n",
      "A value is trying to be set on a copy of a slice from a DataFrame\n",
      "\n",
      "See the caveats in the documentation: https://pandas.pydata.org/pandas-docs/stable/user_guide/indexing.html#returning-a-view-versus-a-copy\n",
      "  return super().drop(\n",
      "/Users/stef/opt/anaconda3/envs/stef_env/lib/python3.8/site-packages/pandas/core/frame.py:4308: SettingWithCopyWarning: \n",
      "A value is trying to be set on a copy of a slice from a DataFrame\n",
      "\n",
      "See the caveats in the documentation: https://pandas.pydata.org/pandas-docs/stable/user_guide/indexing.html#returning-a-view-versus-a-copy\n",
      "  return super().drop(\n",
      "/Users/stef/opt/anaconda3/envs/stef_env/lib/python3.8/site-packages/pandas/core/frame.py:4308: SettingWithCopyWarning: \n",
      "A value is trying to be set on a copy of a slice from a DataFrame\n",
      "\n",
      "See the caveats in the documentation: https://pandas.pydata.org/pandas-docs/stable/user_guide/indexing.html#returning-a-view-versus-a-copy\n",
      "  return super().drop(\n",
      "/Users/stef/opt/anaconda3/envs/stef_env/lib/python3.8/site-packages/pandas/core/frame.py:4308: SettingWithCopyWarning: \n",
      "A value is trying to be set on a copy of a slice from a DataFrame\n",
      "\n",
      "See the caveats in the documentation: https://pandas.pydata.org/pandas-docs/stable/user_guide/indexing.html#returning-a-view-versus-a-copy\n",
      "  return super().drop(\n",
      "/Users/stef/opt/anaconda3/envs/stef_env/lib/python3.8/site-packages/pandas/core/frame.py:4308: SettingWithCopyWarning: \n",
      "A value is trying to be set on a copy of a slice from a DataFrame\n",
      "\n",
      "See the caveats in the documentation: https://pandas.pydata.org/pandas-docs/stable/user_guide/indexing.html#returning-a-view-versus-a-copy\n",
      "  return super().drop(\n",
      "/Users/stef/opt/anaconda3/envs/stef_env/lib/python3.8/site-packages/pandas/core/frame.py:4308: SettingWithCopyWarning: \n",
      "A value is trying to be set on a copy of a slice from a DataFrame\n",
      "\n",
      "See the caveats in the documentation: https://pandas.pydata.org/pandas-docs/stable/user_guide/indexing.html#returning-a-view-versus-a-copy\n",
      "  return super().drop(\n",
      "/Users/stef/opt/anaconda3/envs/stef_env/lib/python3.8/site-packages/pandas/core/frame.py:4308: SettingWithCopyWarning: \n",
      "A value is trying to be set on a copy of a slice from a DataFrame\n",
      "\n",
      "See the caveats in the documentation: https://pandas.pydata.org/pandas-docs/stable/user_guide/indexing.html#returning-a-view-versus-a-copy\n",
      "  return super().drop(\n",
      "/Users/stef/opt/anaconda3/envs/stef_env/lib/python3.8/site-packages/pandas/core/frame.py:4308: SettingWithCopyWarning: \n",
      "A value is trying to be set on a copy of a slice from a DataFrame\n",
      "\n",
      "See the caveats in the documentation: https://pandas.pydata.org/pandas-docs/stable/user_guide/indexing.html#returning-a-view-versus-a-copy\n",
      "  return super().drop(\n",
      "/Users/stef/opt/anaconda3/envs/stef_env/lib/python3.8/site-packages/pandas/core/frame.py:4308: SettingWithCopyWarning: \n",
      "A value is trying to be set on a copy of a slice from a DataFrame\n",
      "\n",
      "See the caveats in the documentation: https://pandas.pydata.org/pandas-docs/stable/user_guide/indexing.html#returning-a-view-versus-a-copy\n",
      "  return super().drop(\n",
      "/Users/stef/opt/anaconda3/envs/stef_env/lib/python3.8/site-packages/pandas/core/frame.py:4308: SettingWithCopyWarning: \n",
      "A value is trying to be set on a copy of a slice from a DataFrame\n",
      "\n",
      "See the caveats in the documentation: https://pandas.pydata.org/pandas-docs/stable/user_guide/indexing.html#returning-a-view-versus-a-copy\n",
      "  return super().drop(\n"
     ]
    }
   ],
   "source": [
    "screening_daily_age = {}\n",
    "for age in AGE['classe'].tolist():\n",
    "    screening_daily_age[age] = screening_daily[screening_daily['cl_age'] == age]\n",
    "    screening_daily_age[age].drop(['cl_age'], axis=1, inplace=True)\n",
    "    screening_daily_age[age] = screening_daily_age[age].reset_index()\n",
    "    screening_daily_age[age] = screening_daily_age[age].set_index('date')\n",
    "    screening_daily_age[age].index = pd.to_datetime(screening_daily_age[age].index,format=\"%Y-%m-%d\")\n",
    "    screening_daily_age[age] = screening_daily_age[age].resample(\"1D\").sum()\n",
    "    screening_daily_age[age].drop(['pop','index'], axis=1, inplace=True)\n",
    "    screening_daily_age[age]['Tests cumul'] = screening_daily_age[age]['Tests number'].cumsum()\n",
    "    screening_daily_age[age]['% positive tests'] = (screening_daily_age[age]['Positive tests']/screening_daily_age[age]['Tests number'])*100\n",
    "    screening_daily_age[age] = screening_daily_age[age].reset_index()"
   ]
  },
  {
   "cell_type": "code",
   "execution_count": 12,
   "metadata": {},
   "outputs": [
    {
     "output_type": "execute_result",
     "data": {
      "text/plain": [
       "          date  Positive tests  Tests number  Tests cumul  % positive tests\n",
       "0   2020-05-13              13          1276         1276          1.018809\n",
       "1   2020-05-14              18          1502         2778          1.198402\n",
       "2   2020-05-15              16          2079         4857          0.769601\n",
       "3   2020-05-16              10           894         5751          1.118568\n",
       "4   2020-05-17               6           411         6162          1.459854\n",
       "..         ...             ...           ...          ...               ...\n",
       "331 2021-04-09            2176         32225      3320720          6.752521\n",
       "332 2021-04-10            1177         15095      3335815          7.797284\n",
       "333 2021-04-11             258          3156      3338971          8.174905\n",
       "334 2021-04-12            2142         19612      3358583         10.921885\n",
       "335 2021-04-13            1588         14875      3373458         10.675630\n",
       "\n",
       "[336 rows x 5 columns]"
      ],
      "text/html": "<div>\n<style scoped>\n    .dataframe tbody tr th:only-of-type {\n        vertical-align: middle;\n    }\n\n    .dataframe tbody tr th {\n        vertical-align: top;\n    }\n\n    .dataframe thead th {\n        text-align: right;\n    }\n</style>\n<table border=\"1\" class=\"dataframe\">\n  <thead>\n    <tr style=\"text-align: right;\">\n      <th></th>\n      <th>date</th>\n      <th>Positive tests</th>\n      <th>Tests number</th>\n      <th>Tests cumul</th>\n      <th>% positive tests</th>\n    </tr>\n  </thead>\n  <tbody>\n    <tr>\n      <th>0</th>\n      <td>2020-05-13</td>\n      <td>13</td>\n      <td>1276</td>\n      <td>1276</td>\n      <td>1.018809</td>\n    </tr>\n    <tr>\n      <th>1</th>\n      <td>2020-05-14</td>\n      <td>18</td>\n      <td>1502</td>\n      <td>2778</td>\n      <td>1.198402</td>\n    </tr>\n    <tr>\n      <th>2</th>\n      <td>2020-05-15</td>\n      <td>16</td>\n      <td>2079</td>\n      <td>4857</td>\n      <td>0.769601</td>\n    </tr>\n    <tr>\n      <th>3</th>\n      <td>2020-05-16</td>\n      <td>10</td>\n      <td>894</td>\n      <td>5751</td>\n      <td>1.118568</td>\n    </tr>\n    <tr>\n      <th>4</th>\n      <td>2020-05-17</td>\n      <td>6</td>\n      <td>411</td>\n      <td>6162</td>\n      <td>1.459854</td>\n    </tr>\n    <tr>\n      <th>...</th>\n      <td>...</td>\n      <td>...</td>\n      <td>...</td>\n      <td>...</td>\n      <td>...</td>\n    </tr>\n    <tr>\n      <th>331</th>\n      <td>2021-04-09</td>\n      <td>2176</td>\n      <td>32225</td>\n      <td>3320720</td>\n      <td>6.752521</td>\n    </tr>\n    <tr>\n      <th>332</th>\n      <td>2021-04-10</td>\n      <td>1177</td>\n      <td>15095</td>\n      <td>3335815</td>\n      <td>7.797284</td>\n    </tr>\n    <tr>\n      <th>333</th>\n      <td>2021-04-11</td>\n      <td>258</td>\n      <td>3156</td>\n      <td>3338971</td>\n      <td>8.174905</td>\n    </tr>\n    <tr>\n      <th>334</th>\n      <td>2021-04-12</td>\n      <td>2142</td>\n      <td>19612</td>\n      <td>3358583</td>\n      <td>10.921885</td>\n    </tr>\n    <tr>\n      <th>335</th>\n      <td>2021-04-13</td>\n      <td>1588</td>\n      <td>14875</td>\n      <td>3373458</td>\n      <td>10.675630</td>\n    </tr>\n  </tbody>\n</table>\n<p>336 rows × 5 columns</p>\n</div>"
     },
     "metadata": {},
     "execution_count": 12
    }
   ],
   "source": [
    "screening_daily_age[9]"
   ]
  },
  {
   "cell_type": "code",
   "execution_count": 9,
   "metadata": {},
   "outputs": [],
   "source": [
    "screening_daily_dep = {}\n",
    "for dep_code in DEP['code'].tolist():\n",
    "    screening_daily_dep[dep_code] = screening_daily[screening_daily['dep'] == dep_code]\n",
    "    screening_daily_dep[dep_code].drop(['dep'], axis=1, inplace=True)\n",
    "    screening_daily_dep[dep_code] = screening_daily_dep[dep_code].reset_index()\n",
    "    screening_daily_dep[dep_code] = screening_daily_dep[dep_code].set_index('date')\n",
    "    screening_daily_dep[dep_code].index = pd.to_datetime(screening_daily_dep[dep_code].index,format=\"%Y-%m-%d\")\n",
    "    screening_daily_dep[dep_code] = screening_daily_dep[dep_code].resample(\"1D\").sum()\n",
    "    screening_daily_dep[dep_code].drop(['cl_age','pop','index'], axis=1, inplace=True)\n",
    "    screening_daily_dep[dep_code]['Tests cumul'] = screening_daily_dep[dep_code]['Tests number'].cumsum()\n",
    "    screening_daily_dep[dep_code]['% positive tests'] = (screening_daily_dep[dep_code]['Positive tests']/screening_daily_dep[dep_code]['Tests number'])*100\n",
    "    screening_daily_dep[dep_code] = screening_daily_dep[dep_code].reset_index()"
   ]
  },
  {
   "cell_type": "code",
   "execution_count": 26,
   "metadata": {},
   "outputs": [],
   "source": [
    "def daily_test(age,department):\n",
    "    df = screening_daily_age_dep[age][screening_daily_age_dep[age]['dep'] == f'{department}']\n",
    "    df.drop(['dep'], axis=1, inplace=True)\n",
    "    df = df.reset_index()\n",
    "\n",
    "    fig = px.bar(df, x='date', y='Tests number', color='% positive tests',\n",
    "             title=f\"Covid Screening in department {department} for class age {age} \", height=600, width=1000)\n",
    "    fig.update_xaxes(rangeslider_visible=True)\n",
    "    return(fig.show())"
   ]
  },
  {
   "cell_type": "code",
   "execution_count": 27,
   "metadata": {},
   "outputs": [
    {
     "output_type": "stream",
     "name": "stderr",
     "text": [
      "/Users/stef/opt/anaconda3/envs/stef_env/lib/python3.8/site-packages/pandas/core/frame.py:4308: SettingWithCopyWarning:\n\n\nA value is trying to be set on a copy of a slice from a DataFrame\n\nSee the caveats in the documentation: https://pandas.pydata.org/pandas-docs/stable/user_guide/indexing.html#returning-a-view-versus-a-copy\n\n"
     ]
    },
    {
     "output_type": "display_data",
     "data": {
      "application/vnd.plotly.v1+json": {
       "config": {
        "plotlyServerURL": "https://plot.ly"
       },
       "data": [
        {
         "alignmentgroup": "True",
         "hovertemplate": "date=%{x}<br>Tests number=%{y}<br>% positive tests=%{marker.color}<extra></extra>",
         "legendgroup": "",
         "marker": {
          "color": [
           0,
           0,
           0,
           0,
           0,
           0,
           0,
           0,
           0,
           0,
           0,
           0,
           0,
           0,
           0,
           0,
           0,
           0,
           0,
           0,
           0,
           0,
           0,
           0,
           0,
           0,
           0,
           0,
           0,
           0,
           0,
           0,
           0,
           0,
           0,
           0,
           0,
           0,
           0,
           0,
           0,
           0,
           0,
           0,
           0,
           0,
           0,
           0,
           0,
           0,
           0,
           0,
           0,
           0,
           0,
           0,
           0,
           0,
           0,
           0,
           0,
           0,
           0,
           4.761904761904762,
           3.3333333333333335,
           1.8867924528301887,
           0,
           0,
           0,
           0,
           0,
           0,
           0,
           0,
           6.666666666666667,
           0,
           0,
           0,
           0,
           0,
           8.333333333333332,
           0,
           0,
           0,
           0,
           0,
           0,
           0,
           0,
           0,
           0,
           0,
           0,
           0,
           0,
           0,
           0,
           0,
           0,
           0,
           0,
           0,
           0,
           0,
           0,
           0,
           0,
           0,
           0,
           0,
           0,
           0,
           0,
           0,
           2.857142857142857,
           0,
           0,
           0,
           0,
           0,
           0,
           0,
           0,
           0,
           0,
           0,
           0,
           0,
           0,
           0,
           0,
           0,
           6.0606060606060606,
           3.225806451612903,
           0,
           0,
           7.142857142857142,
           0,
           0,
           0,
           0,
           0,
           0,
           0,
           0,
           0,
           0,
           5.263157894736842,
           0,
           9.090909090909092,
           0,
           9.090909090909092,
           0,
           0,
           5.263157894736842,
           3.571428571428571,
           2.4390243902439024,
           3.4482758620689653,
           0,
           4,
           2.7777777777777777,
           0,
           5.405405405405405,
           2.941176470588235,
           3.8461538461538463,
           12.5,
           6.666666666666667,
           3.3333333333333335,
           5.769230769230769,
           4.761904761904762,
           6.122448979591836,
           8.108108108108109,
           9.090909090909092,
           1.7241379310344827,
           3.2679738562091507,
           8.536585365853659,
           3.225806451612903,
           7.59493670886076,
           1.8181818181818181,
           13.333333333333334,
           5.185185185185185,
           7.476635514018691,
           3.061224489795918,
           2.4691358024691357,
           5.88235294117647,
           7.317073170731707,
           0,
           10.75268817204301,
           6.329113924050633,
           3.225806451612903,
           0,
           0,
           0,
           0,
           0,
           0,
           1.5151515151515151,
           1.36986301369863,
           1.3157894736842104,
           0,
           0,
           1.4705882352941175,
           0,
           10.81081081081081,
           20.454545454545457,
           1.4492753623188406,
           0,
           0,
           1.3333333333333335,
           1.6129032258064515,
           10.294117647058822,
           1.4705882352941175,
           0,
           5.263157894736842,
           23.52941176470588,
           1.3888888888888888,
           3.7037037037037033,
           7.142857142857142,
           5.263157894736842,
           2.857142857142857,
           0,
           0,
           2.8301886792452833,
           0,
           6.756756756756757,
           3.3333333333333335,
           0,
           0,
           0,
           1.36986301369863,
           5.333333333333334,
           4.040404040404041,
           1.1764705882352942,
           0,
           0,
           0,
           2.3255813953488373,
           5.932203389830509,
           3.076923076923077,
           0,
           3.125,
           2.564102564102564,
           3.3333333333333335,
           3.896103896103896,
           6.779661016949152,
           2.1739130434782608,
           1.4084507042253522,
           0,
           0,
           0,
           2.247191011235955,
           5.333333333333334,
           5.454545454545454,
           1.2048192771084338,
           2.9850746268656714,
           2.272727272727273,
           0,
           1.1363636363636365,
           1.9047619047619049,
           1.5873015873015872,
           2.1052631578947367,
           1.4084507042253522,
           2.5316455696202533,
           0,
           6.521739130434782,
           4.25531914893617,
           4.3478260869565215,
           2.9850746268656714,
           0.8064516129032258,
           2.380952380952381,
           0,
           0,
           5.208333333333334,
           0,
           7.142857142857142,
           1.4084507042253522,
           0,
           3.7037037037037033,
           2.3529411764705883,
           4.819277108433735,
           0,
           5.64516129032258,
           0,
           0,
           0,
           0,
           1.4925373134328357,
           0,
           3.5294117647058822,
           1.6129032258064515,
           4.166666666666666,
           0,
           1.8867924528301887,
           0,
           1.2195121951219512,
           1.3888888888888888,
           4.10958904109589,
           5.555555555555555,
           0,
           1.1111111111111112,
           3.125,
           1.8518518518518516,
           0,
           0,
           0,
           0,
           3.4482758620689653,
           7.142857142857142,
           1.4084507042253522,
           1.694915254237288,
           5.88235294117647,
           0,
           4,
           0,
           0.9433962264150944,
           1.639344262295082,
           0,
           1.639344262295082,
           0,
           5.263157894736842,
           2.197802197802198,
           3.0303030303030303,
           4.3478260869565215,
           8.333333333333332,
           1.2658227848101267,
           0,
           3.0303030303030303,
           0,
           0.9900990099009901,
           1.7543859649122806,
           5.357142857142857,
           2.1739130434782608,
           0,
           3.3333333333333335,
           0,
           1.4285714285714286
          ],
          "coloraxis": "coloraxis"
         },
         "name": "",
         "offsetgroup": "",
         "orientation": "v",
         "showlegend": false,
         "textposition": "auto",
         "type": "bar",
         "x": [
          "2020-05-13",
          "2020-05-14",
          "2020-05-15",
          "2020-05-16",
          "2020-05-17",
          "2020-05-18",
          "2020-05-19",
          "2020-05-20",
          "2020-05-21",
          "2020-05-22",
          "2020-05-23",
          "2020-05-24",
          "2020-05-25",
          "2020-05-26",
          "2020-05-27",
          "2020-05-28",
          "2020-05-29",
          "2020-05-30",
          "2020-05-31",
          "2020-06-01",
          "2020-06-02",
          "2020-06-03",
          "2020-06-04",
          "2020-06-05",
          "2020-06-06",
          "2020-06-07",
          "2020-06-08",
          "2020-06-09",
          "2020-06-10",
          "2020-06-11",
          "2020-06-12",
          "2020-06-13",
          "2020-06-14",
          "2020-06-15",
          "2020-06-16",
          "2020-06-17",
          "2020-06-18",
          "2020-06-19",
          "2020-06-20",
          "2020-06-21",
          "2020-06-22",
          "2020-06-23",
          "2020-06-24",
          "2020-06-25",
          "2020-06-26",
          "2020-06-27",
          "2020-06-28",
          "2020-06-29",
          "2020-06-30",
          "2020-07-01",
          "2020-07-02",
          "2020-07-03",
          "2020-07-04",
          "2020-07-05",
          "2020-07-06",
          "2020-07-07",
          "2020-07-08",
          "2020-07-09",
          "2020-07-10",
          "2020-07-11",
          "2020-07-12",
          "2020-07-13",
          "2020-07-14",
          "2020-07-15",
          "2020-07-16",
          "2020-07-17",
          "2020-07-18",
          "2020-07-19",
          "2020-07-20",
          "2020-07-21",
          "2020-07-22",
          "2020-07-23",
          "2020-07-24",
          "2020-07-25",
          "2020-07-26",
          "2020-07-27",
          "2020-07-28",
          "2020-07-29",
          "2020-07-30",
          "2020-07-31",
          "2020-08-01",
          "2020-08-02",
          "2020-08-03",
          "2020-08-04",
          "2020-08-05",
          "2020-08-06",
          "2020-08-07",
          "2020-08-08",
          "2020-08-09",
          "2020-08-10",
          "2020-08-11",
          "2020-08-12",
          "2020-08-13",
          "2020-08-14",
          "2020-08-15",
          "2020-08-16",
          "2020-08-17",
          "2020-08-18",
          "2020-08-19",
          "2020-08-20",
          "2020-08-21",
          "2020-08-22",
          "2020-08-23",
          "2020-08-24",
          "2020-08-25",
          "2020-08-26",
          "2020-08-27",
          "2020-08-28",
          "2020-08-29",
          "2020-08-30",
          "2020-08-31",
          "2020-09-01",
          "2020-09-02",
          "2020-09-03",
          "2020-09-04",
          "2020-09-05",
          "2020-09-06",
          "2020-09-07",
          "2020-09-08",
          "2020-09-09",
          "2020-09-10",
          "2020-09-11",
          "2020-09-12",
          "2020-09-13",
          "2020-09-14",
          "2020-09-15",
          "2020-09-16",
          "2020-09-17",
          "2020-09-18",
          "2020-09-19",
          "2020-09-20",
          "2020-09-21",
          "2020-09-22",
          "2020-09-23",
          "2020-09-24",
          "2020-09-25",
          "2020-09-26",
          "2020-09-27",
          "2020-09-28",
          "2020-09-29",
          "2020-09-30",
          "2020-10-01",
          "2020-10-02",
          "2020-10-03",
          "2020-10-04",
          "2020-10-05",
          "2020-10-06",
          "2020-10-07",
          "2020-10-08",
          "2020-10-09",
          "2020-10-10",
          "2020-10-11",
          "2020-10-12",
          "2020-10-13",
          "2020-10-14",
          "2020-10-15",
          "2020-10-16",
          "2020-10-17",
          "2020-10-18",
          "2020-10-19",
          "2020-10-20",
          "2020-10-21",
          "2020-10-22",
          "2020-10-23",
          "2020-10-24",
          "2020-10-25",
          "2020-10-26",
          "2020-10-27",
          "2020-10-28",
          "2020-10-29",
          "2020-10-30",
          "2020-10-31",
          "2020-11-01",
          "2020-11-02",
          "2020-11-03",
          "2020-11-04",
          "2020-11-05",
          "2020-11-06",
          "2020-11-07",
          "2020-11-08",
          "2020-11-09",
          "2020-11-10",
          "2020-11-11",
          "2020-11-12",
          "2020-11-13",
          "2020-11-14",
          "2020-11-15",
          "2020-11-16",
          "2020-11-17",
          "2020-11-18",
          "2020-11-19",
          "2020-11-20",
          "2020-11-21",
          "2020-11-22",
          "2020-11-23",
          "2020-11-24",
          "2020-11-25",
          "2020-11-26",
          "2020-11-27",
          "2020-11-28",
          "2020-11-29",
          "2020-11-30",
          "2020-12-01",
          "2020-12-02",
          "2020-12-03",
          "2020-12-04",
          "2020-12-05",
          "2020-12-06",
          "2020-12-07",
          "2020-12-08",
          "2020-12-09",
          "2020-12-10",
          "2020-12-11",
          "2020-12-12",
          "2020-12-13",
          "2020-12-14",
          "2020-12-15",
          "2020-12-16",
          "2020-12-17",
          "2020-12-18",
          "2020-12-19",
          "2020-12-20",
          "2020-12-21",
          "2020-12-22",
          "2020-12-23",
          "2020-12-24",
          "2020-12-25",
          "2020-12-26",
          "2020-12-27",
          "2020-12-28",
          "2020-12-29",
          "2020-12-30",
          "2020-12-31",
          "2021-01-01",
          "2021-01-02",
          "2021-01-03",
          "2021-01-04",
          "2021-01-05",
          "2021-01-06",
          "2021-01-07",
          "2021-01-08",
          "2021-01-09",
          "2021-01-10",
          "2021-01-11",
          "2021-01-12",
          "2021-01-13",
          "2021-01-14",
          "2021-01-15",
          "2021-01-16",
          "2021-01-17",
          "2021-01-18",
          "2021-01-19",
          "2021-01-20",
          "2021-01-21",
          "2021-01-22",
          "2021-01-23",
          "2021-01-24",
          "2021-01-25",
          "2021-01-26",
          "2021-01-27",
          "2021-01-28",
          "2021-01-29",
          "2021-01-30",
          "2021-01-31",
          "2021-02-01",
          "2021-02-02",
          "2021-02-03",
          "2021-02-04",
          "2021-02-05",
          "2021-02-06",
          "2021-02-07",
          "2021-02-08",
          "2021-02-09",
          "2021-02-10",
          "2021-02-11",
          "2021-02-12",
          "2021-02-13",
          "2021-02-14",
          "2021-02-15",
          "2021-02-16",
          "2021-02-17",
          "2021-02-18",
          "2021-02-19",
          "2021-02-20",
          "2021-02-21",
          "2021-02-22",
          "2021-02-23",
          "2021-02-24",
          "2021-02-25",
          "2021-02-26",
          "2021-02-27",
          "2021-02-28",
          "2021-03-01",
          "2021-03-02",
          "2021-03-03",
          "2021-03-04",
          "2021-03-05",
          "2021-03-06",
          "2021-03-07",
          "2021-03-08",
          "2021-03-09",
          "2021-03-10",
          "2021-03-11",
          "2021-03-12",
          "2021-03-13",
          "2021-03-14",
          "2021-03-15",
          "2021-03-16",
          "2021-03-17",
          "2021-03-18",
          "2021-03-19",
          "2021-03-20",
          "2021-03-21",
          "2021-03-22",
          "2021-03-23",
          "2021-03-24",
          "2021-03-25",
          "2021-03-26",
          "2021-03-27",
          "2021-03-28",
          "2021-03-29",
          "2021-03-30",
          "2021-03-31",
          "2021-04-01",
          "2021-04-02",
          "2021-04-03",
          "2021-04-04",
          "2021-04-05",
          "2021-04-06",
          "2021-04-07",
          "2021-04-08",
          "2021-04-09",
          "2021-04-10",
          "2021-04-11",
          "2021-04-12",
          "2021-04-13"
         ],
         "xaxis": "x",
         "y": [
          11,
          9,
          9,
          4,
          4,
          17,
          10,
          11,
          11,
          14,
          11,
          8,
          23,
          15,
          13,
          13,
          13,
          5,
          2,
          2,
          27,
          17,
          13,
          9,
          5,
          6,
          18,
          11,
          12,
          8,
          12,
          8,
          3,
          20,
          11,
          10,
          12,
          20,
          3,
          5,
          13,
          15,
          9,
          16,
          10,
          8,
          4,
          21,
          11,
          5,
          11,
          15,
          10,
          5,
          22,
          14,
          7,
          9,
          12,
          6,
          1,
          55,
          10,
          21,
          30,
          53,
          17,
          12,
          37,
          52,
          24,
          23,
          27,
          6,
          15,
          40,
          34,
          22,
          23,
          29,
          12,
          6,
          41,
          37,
          29,
          25,
          27,
          16,
          2,
          26,
          22,
          16,
          18,
          19,
          6,
          5,
          26,
          15,
          17,
          13,
          18,
          8,
          4,
          30,
          26,
          20,
          18,
          26,
          7,
          8,
          21,
          24,
          13,
          18,
          35,
          6,
          7,
          28,
          24,
          10,
          16,
          20,
          14,
          3,
          30,
          54,
          34,
          21,
          36,
          10,
          4,
          31,
          33,
          31,
          38,
          33,
          14,
          12,
          36,
          35,
          51,
          17,
          38,
          25,
          5,
          29,
          25,
          19,
          24,
          22,
          10,
          11,
          32,
          68,
          19,
          28,
          41,
          29,
          11,
          50,
          36,
          33,
          37,
          68,
          26,
          8,
          90,
          60,
          52,
          42,
          49,
          37,
          11,
          58,
          153,
          82,
          62,
          79,
          55,
          15,
          135,
          107,
          98,
          162,
          51,
          41,
          12,
          93,
          79,
          62,
          37,
          59,
          30,
          19,
          59,
          73,
          66,
          73,
          76,
          32,
          21,
          68,
          35,
          37,
          44,
          69,
          29,
          11,
          75,
          62,
          68,
          68,
          54,
          38,
          17,
          72,
          81,
          84,
          57,
          105,
          29,
          24,
          106,
          58,
          74,
          60,
          21,
          35,
          53,
          73,
          75,
          99,
          85,
          24,
          82,
          15,
          86,
          118,
          65,
          58,
          64,
          39,
          30,
          77,
          59,
          46,
          71,
          56,
          46,
          28,
          89,
          75,
          55,
          83,
          67,
          44,
          30,
          88,
          105,
          63,
          95,
          71,
          79,
          26,
          92,
          94,
          115,
          67,
          124,
          42,
          18,
          85,
          96,
          87,
          56,
          71,
          44,
          27,
          85,
          83,
          146,
          124,
          70,
          46,
          25,
          177,
          134,
          71,
          85,
          62,
          72,
          31,
          106,
          90,
          82,
          72,
          73,
          36,
          30,
          90,
          64,
          54,
          51,
          74,
          53,
          29,
          87,
          70,
          71,
          59,
          51,
          49,
          25,
          81,
          106,
          61,
          95,
          61,
          47,
          19,
          91,
          99,
          69,
          84,
          79,
          35,
          33,
          25,
          101,
          114,
          56,
          92,
          65,
          30,
          76,
          70
         ],
         "yaxis": "y"
        }
       ],
       "layout": {
        "barmode": "relative",
        "coloraxis": {
         "colorbar": {
          "title": {
           "text": "% positive tests"
          }
         },
         "colorscale": [
          [
           0,
           "#0d0887"
          ],
          [
           0.1111111111111111,
           "#46039f"
          ],
          [
           0.2222222222222222,
           "#7201a8"
          ],
          [
           0.3333333333333333,
           "#9c179e"
          ],
          [
           0.4444444444444444,
           "#bd3786"
          ],
          [
           0.5555555555555556,
           "#d8576b"
          ],
          [
           0.6666666666666666,
           "#ed7953"
          ],
          [
           0.7777777777777778,
           "#fb9f3a"
          ],
          [
           0.8888888888888888,
           "#fdca26"
          ],
          [
           1,
           "#f0f921"
          ]
         ]
        },
        "height": 600,
        "legend": {
         "tracegroupgap": 0
        },
        "template": {
         "data": {
          "bar": [
           {
            "error_x": {
             "color": "#2a3f5f"
            },
            "error_y": {
             "color": "#2a3f5f"
            },
            "marker": {
             "line": {
              "color": "#E5ECF6",
              "width": 0.5
             }
            },
            "type": "bar"
           }
          ],
          "barpolar": [
           {
            "marker": {
             "line": {
              "color": "#E5ECF6",
              "width": 0.5
             }
            },
            "type": "barpolar"
           }
          ],
          "carpet": [
           {
            "aaxis": {
             "endlinecolor": "#2a3f5f",
             "gridcolor": "white",
             "linecolor": "white",
             "minorgridcolor": "white",
             "startlinecolor": "#2a3f5f"
            },
            "baxis": {
             "endlinecolor": "#2a3f5f",
             "gridcolor": "white",
             "linecolor": "white",
             "minorgridcolor": "white",
             "startlinecolor": "#2a3f5f"
            },
            "type": "carpet"
           }
          ],
          "choropleth": [
           {
            "colorbar": {
             "outlinewidth": 0,
             "ticks": ""
            },
            "type": "choropleth"
           }
          ],
          "contour": [
           {
            "colorbar": {
             "outlinewidth": 0,
             "ticks": ""
            },
            "colorscale": [
             [
              0,
              "#0d0887"
             ],
             [
              0.1111111111111111,
              "#46039f"
             ],
             [
              0.2222222222222222,
              "#7201a8"
             ],
             [
              0.3333333333333333,
              "#9c179e"
             ],
             [
              0.4444444444444444,
              "#bd3786"
             ],
             [
              0.5555555555555556,
              "#d8576b"
             ],
             [
              0.6666666666666666,
              "#ed7953"
             ],
             [
              0.7777777777777778,
              "#fb9f3a"
             ],
             [
              0.8888888888888888,
              "#fdca26"
             ],
             [
              1,
              "#f0f921"
             ]
            ],
            "type": "contour"
           }
          ],
          "contourcarpet": [
           {
            "colorbar": {
             "outlinewidth": 0,
             "ticks": ""
            },
            "type": "contourcarpet"
           }
          ],
          "heatmap": [
           {
            "colorbar": {
             "outlinewidth": 0,
             "ticks": ""
            },
            "colorscale": [
             [
              0,
              "#0d0887"
             ],
             [
              0.1111111111111111,
              "#46039f"
             ],
             [
              0.2222222222222222,
              "#7201a8"
             ],
             [
              0.3333333333333333,
              "#9c179e"
             ],
             [
              0.4444444444444444,
              "#bd3786"
             ],
             [
              0.5555555555555556,
              "#d8576b"
             ],
             [
              0.6666666666666666,
              "#ed7953"
             ],
             [
              0.7777777777777778,
              "#fb9f3a"
             ],
             [
              0.8888888888888888,
              "#fdca26"
             ],
             [
              1,
              "#f0f921"
             ]
            ],
            "type": "heatmap"
           }
          ],
          "heatmapgl": [
           {
            "colorbar": {
             "outlinewidth": 0,
             "ticks": ""
            },
            "colorscale": [
             [
              0,
              "#0d0887"
             ],
             [
              0.1111111111111111,
              "#46039f"
             ],
             [
              0.2222222222222222,
              "#7201a8"
             ],
             [
              0.3333333333333333,
              "#9c179e"
             ],
             [
              0.4444444444444444,
              "#bd3786"
             ],
             [
              0.5555555555555556,
              "#d8576b"
             ],
             [
              0.6666666666666666,
              "#ed7953"
             ],
             [
              0.7777777777777778,
              "#fb9f3a"
             ],
             [
              0.8888888888888888,
              "#fdca26"
             ],
             [
              1,
              "#f0f921"
             ]
            ],
            "type": "heatmapgl"
           }
          ],
          "histogram": [
           {
            "marker": {
             "colorbar": {
              "outlinewidth": 0,
              "ticks": ""
             }
            },
            "type": "histogram"
           }
          ],
          "histogram2d": [
           {
            "colorbar": {
             "outlinewidth": 0,
             "ticks": ""
            },
            "colorscale": [
             [
              0,
              "#0d0887"
             ],
             [
              0.1111111111111111,
              "#46039f"
             ],
             [
              0.2222222222222222,
              "#7201a8"
             ],
             [
              0.3333333333333333,
              "#9c179e"
             ],
             [
              0.4444444444444444,
              "#bd3786"
             ],
             [
              0.5555555555555556,
              "#d8576b"
             ],
             [
              0.6666666666666666,
              "#ed7953"
             ],
             [
              0.7777777777777778,
              "#fb9f3a"
             ],
             [
              0.8888888888888888,
              "#fdca26"
             ],
             [
              1,
              "#f0f921"
             ]
            ],
            "type": "histogram2d"
           }
          ],
          "histogram2dcontour": [
           {
            "colorbar": {
             "outlinewidth": 0,
             "ticks": ""
            },
            "colorscale": [
             [
              0,
              "#0d0887"
             ],
             [
              0.1111111111111111,
              "#46039f"
             ],
             [
              0.2222222222222222,
              "#7201a8"
             ],
             [
              0.3333333333333333,
              "#9c179e"
             ],
             [
              0.4444444444444444,
              "#bd3786"
             ],
             [
              0.5555555555555556,
              "#d8576b"
             ],
             [
              0.6666666666666666,
              "#ed7953"
             ],
             [
              0.7777777777777778,
              "#fb9f3a"
             ],
             [
              0.8888888888888888,
              "#fdca26"
             ],
             [
              1,
              "#f0f921"
             ]
            ],
            "type": "histogram2dcontour"
           }
          ],
          "mesh3d": [
           {
            "colorbar": {
             "outlinewidth": 0,
             "ticks": ""
            },
            "type": "mesh3d"
           }
          ],
          "parcoords": [
           {
            "line": {
             "colorbar": {
              "outlinewidth": 0,
              "ticks": ""
             }
            },
            "type": "parcoords"
           }
          ],
          "pie": [
           {
            "automargin": true,
            "type": "pie"
           }
          ],
          "scatter": [
           {
            "marker": {
             "colorbar": {
              "outlinewidth": 0,
              "ticks": ""
             }
            },
            "type": "scatter"
           }
          ],
          "scatter3d": [
           {
            "line": {
             "colorbar": {
              "outlinewidth": 0,
              "ticks": ""
             }
            },
            "marker": {
             "colorbar": {
              "outlinewidth": 0,
              "ticks": ""
             }
            },
            "type": "scatter3d"
           }
          ],
          "scattercarpet": [
           {
            "marker": {
             "colorbar": {
              "outlinewidth": 0,
              "ticks": ""
             }
            },
            "type": "scattercarpet"
           }
          ],
          "scattergeo": [
           {
            "marker": {
             "colorbar": {
              "outlinewidth": 0,
              "ticks": ""
             }
            },
            "type": "scattergeo"
           }
          ],
          "scattergl": [
           {
            "marker": {
             "colorbar": {
              "outlinewidth": 0,
              "ticks": ""
             }
            },
            "type": "scattergl"
           }
          ],
          "scattermapbox": [
           {
            "marker": {
             "colorbar": {
              "outlinewidth": 0,
              "ticks": ""
             }
            },
            "type": "scattermapbox"
           }
          ],
          "scatterpolar": [
           {
            "marker": {
             "colorbar": {
              "outlinewidth": 0,
              "ticks": ""
             }
            },
            "type": "scatterpolar"
           }
          ],
          "scatterpolargl": [
           {
            "marker": {
             "colorbar": {
              "outlinewidth": 0,
              "ticks": ""
             }
            },
            "type": "scatterpolargl"
           }
          ],
          "scatterternary": [
           {
            "marker": {
             "colorbar": {
              "outlinewidth": 0,
              "ticks": ""
             }
            },
            "type": "scatterternary"
           }
          ],
          "surface": [
           {
            "colorbar": {
             "outlinewidth": 0,
             "ticks": ""
            },
            "colorscale": [
             [
              0,
              "#0d0887"
             ],
             [
              0.1111111111111111,
              "#46039f"
             ],
             [
              0.2222222222222222,
              "#7201a8"
             ],
             [
              0.3333333333333333,
              "#9c179e"
             ],
             [
              0.4444444444444444,
              "#bd3786"
             ],
             [
              0.5555555555555556,
              "#d8576b"
             ],
             [
              0.6666666666666666,
              "#ed7953"
             ],
             [
              0.7777777777777778,
              "#fb9f3a"
             ],
             [
              0.8888888888888888,
              "#fdca26"
             ],
             [
              1,
              "#f0f921"
             ]
            ],
            "type": "surface"
           }
          ],
          "table": [
           {
            "cells": {
             "fill": {
              "color": "#EBF0F8"
             },
             "line": {
              "color": "white"
             }
            },
            "header": {
             "fill": {
              "color": "#C8D4E3"
             },
             "line": {
              "color": "white"
             }
            },
            "type": "table"
           }
          ]
         },
         "layout": {
          "annotationdefaults": {
           "arrowcolor": "#2a3f5f",
           "arrowhead": 0,
           "arrowwidth": 1
          },
          "autotypenumbers": "strict",
          "coloraxis": {
           "colorbar": {
            "outlinewidth": 0,
            "ticks": ""
           }
          },
          "colorscale": {
           "diverging": [
            [
             0,
             "#8e0152"
            ],
            [
             0.1,
             "#c51b7d"
            ],
            [
             0.2,
             "#de77ae"
            ],
            [
             0.3,
             "#f1b6da"
            ],
            [
             0.4,
             "#fde0ef"
            ],
            [
             0.5,
             "#f7f7f7"
            ],
            [
             0.6,
             "#e6f5d0"
            ],
            [
             0.7,
             "#b8e186"
            ],
            [
             0.8,
             "#7fbc41"
            ],
            [
             0.9,
             "#4d9221"
            ],
            [
             1,
             "#276419"
            ]
           ],
           "sequential": [
            [
             0,
             "#0d0887"
            ],
            [
             0.1111111111111111,
             "#46039f"
            ],
            [
             0.2222222222222222,
             "#7201a8"
            ],
            [
             0.3333333333333333,
             "#9c179e"
            ],
            [
             0.4444444444444444,
             "#bd3786"
            ],
            [
             0.5555555555555556,
             "#d8576b"
            ],
            [
             0.6666666666666666,
             "#ed7953"
            ],
            [
             0.7777777777777778,
             "#fb9f3a"
            ],
            [
             0.8888888888888888,
             "#fdca26"
            ],
            [
             1,
             "#f0f921"
            ]
           ],
           "sequentialminus": [
            [
             0,
             "#0d0887"
            ],
            [
             0.1111111111111111,
             "#46039f"
            ],
            [
             0.2222222222222222,
             "#7201a8"
            ],
            [
             0.3333333333333333,
             "#9c179e"
            ],
            [
             0.4444444444444444,
             "#bd3786"
            ],
            [
             0.5555555555555556,
             "#d8576b"
            ],
            [
             0.6666666666666666,
             "#ed7953"
            ],
            [
             0.7777777777777778,
             "#fb9f3a"
            ],
            [
             0.8888888888888888,
             "#fdca26"
            ],
            [
             1,
             "#f0f921"
            ]
           ]
          },
          "colorway": [
           "#636efa",
           "#EF553B",
           "#00cc96",
           "#ab63fa",
           "#FFA15A",
           "#19d3f3",
           "#FF6692",
           "#B6E880",
           "#FF97FF",
           "#FECB52"
          ],
          "font": {
           "color": "#2a3f5f"
          },
          "geo": {
           "bgcolor": "white",
           "lakecolor": "white",
           "landcolor": "#E5ECF6",
           "showlakes": true,
           "showland": true,
           "subunitcolor": "white"
          },
          "hoverlabel": {
           "align": "left"
          },
          "hovermode": "closest",
          "mapbox": {
           "style": "light"
          },
          "paper_bgcolor": "white",
          "plot_bgcolor": "#E5ECF6",
          "polar": {
           "angularaxis": {
            "gridcolor": "white",
            "linecolor": "white",
            "ticks": ""
           },
           "bgcolor": "#E5ECF6",
           "radialaxis": {
            "gridcolor": "white",
            "linecolor": "white",
            "ticks": ""
           }
          },
          "scene": {
           "xaxis": {
            "backgroundcolor": "#E5ECF6",
            "gridcolor": "white",
            "gridwidth": 2,
            "linecolor": "white",
            "showbackground": true,
            "ticks": "",
            "zerolinecolor": "white"
           },
           "yaxis": {
            "backgroundcolor": "#E5ECF6",
            "gridcolor": "white",
            "gridwidth": 2,
            "linecolor": "white",
            "showbackground": true,
            "ticks": "",
            "zerolinecolor": "white"
           },
           "zaxis": {
            "backgroundcolor": "#E5ECF6",
            "gridcolor": "white",
            "gridwidth": 2,
            "linecolor": "white",
            "showbackground": true,
            "ticks": "",
            "zerolinecolor": "white"
           }
          },
          "shapedefaults": {
           "line": {
            "color": "#2a3f5f"
           }
          },
          "ternary": {
           "aaxis": {
            "gridcolor": "white",
            "linecolor": "white",
            "ticks": ""
           },
           "baxis": {
            "gridcolor": "white",
            "linecolor": "white",
            "ticks": ""
           },
           "bgcolor": "#E5ECF6",
           "caxis": {
            "gridcolor": "white",
            "linecolor": "white",
            "ticks": ""
           }
          },
          "title": {
           "x": 0.05
          },
          "xaxis": {
           "automargin": true,
           "gridcolor": "white",
           "linecolor": "white",
           "ticks": "",
           "title": {
            "standoff": 15
           },
           "zerolinecolor": "white",
           "zerolinewidth": 2
          },
          "yaxis": {
           "automargin": true,
           "gridcolor": "white",
           "linecolor": "white",
           "ticks": "",
           "title": {
            "standoff": 15
           },
           "zerolinecolor": "white",
           "zerolinewidth": 2
          }
         }
        },
        "title": {
         "text": "Covid Screening in department 29 for class age 90 "
        },
        "width": 1000,
        "xaxis": {
         "anchor": "y",
         "domain": [
          0,
          1
         ],
         "rangeslider": {
          "visible": true
         },
         "title": {
          "text": "date"
         }
        },
        "yaxis": {
         "anchor": "x",
         "domain": [
          0,
          1
         ],
         "title": {
          "text": "Tests number"
         }
        }
       }
      }
     },
     "metadata": {}
    }
   ],
   "source": [
    "daily_test(90,'29')"
   ]
  },
  {
   "cell_type": "code",
   "execution_count": 44,
   "metadata": {},
   "outputs": [
    {
     "output_type": "execute_result",
     "data": {
      "text/plain": [
       "          date  Positive tests  Tests number  Tests cumul  % positive tests\n",
       "0   2020-05-13               4           416          416          0.961538\n",
       "1   2020-05-14               2           571          987          0.350263\n",
       "2   2020-05-15               4           790         1777          0.506329\n",
       "3   2020-05-16               4           372         2149          1.075269\n",
       "4   2020-05-17               0           106         2255          0.000000\n",
       "..         ...             ...           ...          ...               ...\n",
       "331 2021-04-09             280          9080      1308363          3.083700\n",
       "332 2021-04-10             164          5600      1313963          2.928571\n",
       "333 2021-04-11              28          1174      1315137          2.385009\n",
       "334 2021-04-12             374          8092      1323229          4.621849\n",
       "335 2021-04-13             300          7632      1330861          3.930818\n",
       "\n",
       "[336 rows x 5 columns]"
      ],
      "text/html": "<div>\n<style scoped>\n    .dataframe tbody tr th:only-of-type {\n        vertical-align: middle;\n    }\n\n    .dataframe tbody tr th {\n        vertical-align: top;\n    }\n\n    .dataframe thead th {\n        text-align: right;\n    }\n</style>\n<table border=\"1\" class=\"dataframe\">\n  <thead>\n    <tr style=\"text-align: right;\">\n      <th></th>\n      <th>date</th>\n      <th>Positive tests</th>\n      <th>Tests number</th>\n      <th>Tests cumul</th>\n      <th>% positive tests</th>\n    </tr>\n  </thead>\n  <tbody>\n    <tr>\n      <th>0</th>\n      <td>2020-05-13</td>\n      <td>4</td>\n      <td>416</td>\n      <td>416</td>\n      <td>0.961538</td>\n    </tr>\n    <tr>\n      <th>1</th>\n      <td>2020-05-14</td>\n      <td>2</td>\n      <td>571</td>\n      <td>987</td>\n      <td>0.350263</td>\n    </tr>\n    <tr>\n      <th>2</th>\n      <td>2020-05-15</td>\n      <td>4</td>\n      <td>790</td>\n      <td>1777</td>\n      <td>0.506329</td>\n    </tr>\n    <tr>\n      <th>3</th>\n      <td>2020-05-16</td>\n      <td>4</td>\n      <td>372</td>\n      <td>2149</td>\n      <td>1.075269</td>\n    </tr>\n    <tr>\n      <th>4</th>\n      <td>2020-05-17</td>\n      <td>0</td>\n      <td>106</td>\n      <td>2255</td>\n      <td>0.000000</td>\n    </tr>\n    <tr>\n      <th>...</th>\n      <td>...</td>\n      <td>...</td>\n      <td>...</td>\n      <td>...</td>\n      <td>...</td>\n    </tr>\n    <tr>\n      <th>331</th>\n      <td>2021-04-09</td>\n      <td>280</td>\n      <td>9080</td>\n      <td>1308363</td>\n      <td>3.083700</td>\n    </tr>\n    <tr>\n      <th>332</th>\n      <td>2021-04-10</td>\n      <td>164</td>\n      <td>5600</td>\n      <td>1313963</td>\n      <td>2.928571</td>\n    </tr>\n    <tr>\n      <th>333</th>\n      <td>2021-04-11</td>\n      <td>28</td>\n      <td>1174</td>\n      <td>1315137</td>\n      <td>2.385009</td>\n    </tr>\n    <tr>\n      <th>334</th>\n      <td>2021-04-12</td>\n      <td>374</td>\n      <td>8092</td>\n      <td>1323229</td>\n      <td>4.621849</td>\n    </tr>\n    <tr>\n      <th>335</th>\n      <td>2021-04-13</td>\n      <td>300</td>\n      <td>7632</td>\n      <td>1330861</td>\n      <td>3.930818</td>\n    </tr>\n  </tbody>\n</table>\n<p>336 rows × 5 columns</p>\n</div>"
     },
     "metadata": {},
     "execution_count": 44
    }
   ],
   "source": [
    "screening_daily_dep['29']"
   ]
  },
  {
   "cell_type": "code",
   "execution_count": 45,
   "metadata": {},
   "outputs": [],
   "source": [
    "def daily_test_dep(department):\n",
    "    fig = px.bar(screening_daily_dep[department], x='date', y='Tests number', color='% positive tests',\n",
    "             title=f\"Covid Screening in department {department}\", height=600, width=1000)\n",
    "    fig.update_xaxes(rangeslider_visible=True)\n",
    "    return(fig.show\n",
    "    ())"
   ]
  },
  {
   "cell_type": "code",
   "execution_count": 48,
   "metadata": {},
   "outputs": [
    {
     "output_type": "display_data",
     "data": {
      "application/vnd.plotly.v1+json": {
       "config": {
        "plotlyServerURL": "https://plot.ly"
       },
       "data": [
        {
         "alignmentgroup": "True",
         "hovertemplate": "date=%{x}<br>Tests number=%{y}<br>% positive tests=%{marker.color}<extra></extra>",
         "legendgroup": "",
         "marker": {
          "color": [
           9.937888198757763,
           7.5927015891701,
           3.3333333333333335,
           1.680672268907563,
           3.015075376884422,
           3.7453183520599254,
           3.4217279726261762,
           3.9569892473118284,
           1.702127659574468,
           2.821011673151751,
           0.8670520231213872,
           1.809954751131222,
           2.1551724137931036,
           3.123644251626898,
           3.4528552456839305,
           2.075765438505449,
           2.1204410517387617,
           1.6,
           1.2448132780082988,
           1.023890784982935,
           1.446808510638298,
           2.131979695431472,
           1.4795474325500435,
           1.5468607825295724,
           1.6,
           1.9002375296912115,
           1.4184397163120568,
           1.0512483574244416,
           2.0768431983385254,
           1.8450184501845017,
           3.0216414863209473,
           0.6230529595015576,
           0.9828009828009828,
           1.3873676524278935,
           1.463860933211345,
           1.526070368800339,
           2.1920210434020166,
           1.423246357167062,
           0.9925558312655087,
           1.1235955056179776,
           2.0609318996415773,
           1.8532818532818531,
           2.2556390977443606,
           2.1196581196581197,
           1.713859910581222,
           1.2618296529968454,
           0.9478672985781991,
           1.2260536398467434,
           1.5225666122892878,
           1.4414414414414414,
           1.562969642320409,
           1.1517275913870806,
           2.1082220660576247,
           3.896103896103896,
           2.0904229460379193,
           1.1315417256011315,
           1.249674563915647,
           1.1268781302170283,
           1.8933937024079028,
           0.8220786846741044,
           1.2605042016806722,
           1.5644897216663636,
           0.7541478129713424,
           1.0150375939849625,
           1.7296718972895864,
           1.2814502265979058,
           2.161654135338346,
           1.6901408450704223,
           1.4256296530967845,
           1.9717435180872533,
           1.8268048480590198,
           1.9365609348914858,
           1.4205986808726534,
           2.164862614487927,
           2.3630504833512354,
           2.5592672413793105,
           2.1562952243125904,
           2.855519249893451,
           2.2953714213646106,
           2.6762402088772843,
           3.5954168312919794,
           1.9261637239165328,
           2.649208282582217,
           3.0902348578491967,
           2.992823331806383,
           3.492786636294609,
           3.632033343256922,
           3.7181996086105675,
           2.087994034302759,
           4.466794852832421,
           4.174950298210735,
           5.3291038858049165,
           4.716981132075472,
           5.035128805620609,
           4.460093896713615,
           3.8318912237330034,
           5.298360655737705,
           5.454786177677744,
           5.809471365638767,
           6.3832536503424215,
           5.963654978244177,
           6.691703653123933,
           4.4609665427509295,
           6.666666666666667,
           6.672424962211186,
           6.471427004497094,
           5.992618492618493,
           6.943883730318934,
           6.022817723534094,
           4.778156996587031,
           6.360239812320792,
           7.286711871268091,
           6.825081126347745,
           7.010748523288466,
           6.252925208274829,
           6.539753639417693,
           6.752608962553714,
           8.304371684653375,
           8.66557436737666,
           7.872851598595454,
           8.452360947739876,
           8.456299659477866,
           6.758931445123914,
           6.875477463712758,
           9.506489212201371,
           8.833558004916343,
           9.371633752244165,
           9.683141175522051,
           9.143768170308544,
           10.427528675703858,
           11.023622047244094,
           10.40527640371431,
           11.866183759054518,
           10.516234077195671,
           11.31758334111495,
           10.54743774439185,
           9.952854897852278,
           9.312080536912752,
           11.267172442075047,
           12.009189640768588,
           12.029495927801012,
           13.276231263383298,
           13.74104896458293,
           15.907844212835984,
           13.579433091628212,
           15.356571225324561,
           15.149647887323944,
           14.98871723659087,
           16.658304064224787,
           14.94326354482979,
           16.616444253120967,
           13.208585580627407,
           18.433048433048434,
           17.0382645375113,
           16.81542875358623,
           17.626086310629134,
           16.6506894771772,
           19.14295749912188,
           13.8996138996139,
           18.40648732140559,
           20.110836616144756,
           19.162500905600233,
           20.437432771602726,
           19.34638720353006,
           19.149288315127443,
           19.179436480474543,
           23.534111862323297,
           23.10091623887192,
           21.248873795827848,
           20.815957742563246,
           20.421471718835804,
           20.276659078970408,
           20.25948103792415,
           22.239704473936243,
           20.92636040263377,
           20.655628031443385,
           18.27059659090909,
           15.600032281494633,
           17.05855232826187,
           14.025974025974024,
           16.33274563231287,
           14.197904943294953,
           13.747016706443915,
           14.196706720071205,
           12.44047619047619,
           10.868461147790756,
           12.897526501766784,
           12.637262079062959,
           11.670387659833569,
           10.665236051502145,
           10.165654902767775,
           9.16649766781586,
           11.078395288921605,
           8.450704225352112,
           9.30522195534205,
           8.859504132231406,
           8.250890383854372,
           8.22082208220822,
           7.834771647435276,
           8.1957773512476,
           7.87139689578714,
           8.810180653199252,
           6.8411336735801935,
           8.70449920868189,
           7.262210796915166,
           6.691522762951334,
           7.362914163921721,
           7.178750897343862,
           8.032839665164198,
           7.674508291554185,
           6.853553347084193,
           8.473040326234708,
           6.7,
           7.235142118863049,
           6.896551724137931,
           7.597428159034248,
           6.231103900892265,
           6.110513578919064,
           4.619343500910061,
           4.548192771084338,
           4.221797323135755,
           3.750901659052657,
           3.997715591090805,
           3.509808555896951,
           3.198319594166138,
           3.7725823591923486,
           3.5285815102328866,
           5.788075831120066,
           5.313849219528396,
           6.683153386814646,
           6.607029654152285,
           5.487004463113678,
           5.0078695092287875,
           5.647263249348393,
           7.66536575602922,
           7.310035267714012,
           7.618434151197517,
           7.391369269822308,
           7.3130277442702045,
           7.143926913284409,
           6.887310732949216,
           7.704691812327506,
           5.519591141396933,
           8.048780487804878,
           7.3894396400196865,
           7.2727272727272725,
           7.884873771303303,
           7.707228759860339,
           7.138423339540657,
           6.581226186352615,
           8.758608511389724,
           8.404861635651994,
           8.4919261822376,
           7.649607365285675,
           7.17382013553941,
           7.584557567475231,
           6.912267375617167,
           8.36581215348301,
           7.425142054523399,
           7.5743432457661015,
           6.486985629364575,
           7.573748757043421,
           7.947284345047924,
           9.56,
           9.0206452951551,
           9.06491452211474,
           8.326330079513866,
           8.085408410717454,
           7.991826541037575,
           7.473241590214068,
           7.625362619146291,
           9.238162086280438,
           7.916106480236623,
           7.886123633668869,
           7.4162679425837315,
           7.452938916634652,
           7.153419593345656,
           8.611825192802057,
           10.377458236413618,
           10.939927498705334,
           10.437017994858612,
           11.767899149526508,
           10.392511434953729,
           11.01834862385321,
           11.701363962670495,
           14.196724605646537,
           13.580973685759698,
           12.356372635672617,
           13.258758730338993,
           12.071662881655312,
           12.653024752032884,
           11.4540059347181,
           14.186573505806818,
           13.999429060805024,
           13.683746070266395,
           12.025382294809113,
           11.638540194529886,
           12.570655202611258,
           13.26530612244898,
           13.979670351921596,
           13.133097762073026,
           12.781005304369792,
           11.924278625252711,
           12.228093048788855,
           13.983173774296489,
           14.404825261664007,
           15.630040647783726,
           13.85632807306064,
           12.799022175659157,
           12.457467543193156,
           12.32309181081408,
           14.184166259699388,
           14.67653685226907,
           16.558797718297498,
           13.914185900689738,
           13.639235745449074,
           12.261719303214843,
           11.997642568477772,
           11.713371047669167,
           13.363792118789263,
           14.789973563105846,
           12.589107499287138,
           11.93412277119913,
           11.344262295081966,
           12.032726371174347,
           11.132744894427137,
           13.743589743589743,
           15.440689198144467,
           16.54686519482001,
           15.645848119233499,
           14.35889929742389,
           15.130440922088468,
           15.23896429793544,
           16.18231235626176,
           18.17132135382839,
           16.466896221069607
          ],
          "coloraxis": "coloraxis"
         },
         "name": "",
         "offsetgroup": "",
         "orientation": "v",
         "showlegend": false,
         "textposition": "auto",
         "type": "bar",
         "x": [
          "2020-05-13T00:00:00",
          "2020-05-14T00:00:00",
          "2020-05-15T00:00:00",
          "2020-05-16T00:00:00",
          "2020-05-17T00:00:00",
          "2020-05-18T00:00:00",
          "2020-05-19T00:00:00",
          "2020-05-20T00:00:00",
          "2020-05-21T00:00:00",
          "2020-05-22T00:00:00",
          "2020-05-23T00:00:00",
          "2020-05-24T00:00:00",
          "2020-05-25T00:00:00",
          "2020-05-26T00:00:00",
          "2020-05-27T00:00:00",
          "2020-05-28T00:00:00",
          "2020-05-29T00:00:00",
          "2020-05-30T00:00:00",
          "2020-05-31T00:00:00",
          "2020-06-01T00:00:00",
          "2020-06-02T00:00:00",
          "2020-06-03T00:00:00",
          "2020-06-04T00:00:00",
          "2020-06-05T00:00:00",
          "2020-06-06T00:00:00",
          "2020-06-07T00:00:00",
          "2020-06-08T00:00:00",
          "2020-06-09T00:00:00",
          "2020-06-10T00:00:00",
          "2020-06-11T00:00:00",
          "2020-06-12T00:00:00",
          "2020-06-13T00:00:00",
          "2020-06-14T00:00:00",
          "2020-06-15T00:00:00",
          "2020-06-16T00:00:00",
          "2020-06-17T00:00:00",
          "2020-06-18T00:00:00",
          "2020-06-19T00:00:00",
          "2020-06-20T00:00:00",
          "2020-06-21T00:00:00",
          "2020-06-22T00:00:00",
          "2020-06-23T00:00:00",
          "2020-06-24T00:00:00",
          "2020-06-25T00:00:00",
          "2020-06-26T00:00:00",
          "2020-06-27T00:00:00",
          "2020-06-28T00:00:00",
          "2020-06-29T00:00:00",
          "2020-06-30T00:00:00",
          "2020-07-01T00:00:00",
          "2020-07-02T00:00:00",
          "2020-07-03T00:00:00",
          "2020-07-04T00:00:00",
          "2020-07-05T00:00:00",
          "2020-07-06T00:00:00",
          "2020-07-07T00:00:00",
          "2020-07-08T00:00:00",
          "2020-07-09T00:00:00",
          "2020-07-10T00:00:00",
          "2020-07-11T00:00:00",
          "2020-07-12T00:00:00",
          "2020-07-13T00:00:00",
          "2020-07-14T00:00:00",
          "2020-07-15T00:00:00",
          "2020-07-16T00:00:00",
          "2020-07-17T00:00:00",
          "2020-07-18T00:00:00",
          "2020-07-19T00:00:00",
          "2020-07-20T00:00:00",
          "2020-07-21T00:00:00",
          "2020-07-22T00:00:00",
          "2020-07-23T00:00:00",
          "2020-07-24T00:00:00",
          "2020-07-25T00:00:00",
          "2020-07-26T00:00:00",
          "2020-07-27T00:00:00",
          "2020-07-28T00:00:00",
          "2020-07-29T00:00:00",
          "2020-07-30T00:00:00",
          "2020-07-31T00:00:00",
          "2020-08-01T00:00:00",
          "2020-08-02T00:00:00",
          "2020-08-03T00:00:00",
          "2020-08-04T00:00:00",
          "2020-08-05T00:00:00",
          "2020-08-06T00:00:00",
          "2020-08-07T00:00:00",
          "2020-08-08T00:00:00",
          "2020-08-09T00:00:00",
          "2020-08-10T00:00:00",
          "2020-08-11T00:00:00",
          "2020-08-12T00:00:00",
          "2020-08-13T00:00:00",
          "2020-08-14T00:00:00",
          "2020-08-15T00:00:00",
          "2020-08-16T00:00:00",
          "2020-08-17T00:00:00",
          "2020-08-18T00:00:00",
          "2020-08-19T00:00:00",
          "2020-08-20T00:00:00",
          "2020-08-21T00:00:00",
          "2020-08-22T00:00:00",
          "2020-08-23T00:00:00",
          "2020-08-24T00:00:00",
          "2020-08-25T00:00:00",
          "2020-08-26T00:00:00",
          "2020-08-27T00:00:00",
          "2020-08-28T00:00:00",
          "2020-08-29T00:00:00",
          "2020-08-30T00:00:00",
          "2020-08-31T00:00:00",
          "2020-09-01T00:00:00",
          "2020-09-02T00:00:00",
          "2020-09-03T00:00:00",
          "2020-09-04T00:00:00",
          "2020-09-05T00:00:00",
          "2020-09-06T00:00:00",
          "2020-09-07T00:00:00",
          "2020-09-08T00:00:00",
          "2020-09-09T00:00:00",
          "2020-09-10T00:00:00",
          "2020-09-11T00:00:00",
          "2020-09-12T00:00:00",
          "2020-09-13T00:00:00",
          "2020-09-14T00:00:00",
          "2020-09-15T00:00:00",
          "2020-09-16T00:00:00",
          "2020-09-17T00:00:00",
          "2020-09-18T00:00:00",
          "2020-09-19T00:00:00",
          "2020-09-20T00:00:00",
          "2020-09-21T00:00:00",
          "2020-09-22T00:00:00",
          "2020-09-23T00:00:00",
          "2020-09-24T00:00:00",
          "2020-09-25T00:00:00",
          "2020-09-26T00:00:00",
          "2020-09-27T00:00:00",
          "2020-09-28T00:00:00",
          "2020-09-29T00:00:00",
          "2020-09-30T00:00:00",
          "2020-10-01T00:00:00",
          "2020-10-02T00:00:00",
          "2020-10-03T00:00:00",
          "2020-10-04T00:00:00",
          "2020-10-05T00:00:00",
          "2020-10-06T00:00:00",
          "2020-10-07T00:00:00",
          "2020-10-08T00:00:00",
          "2020-10-09T00:00:00",
          "2020-10-10T00:00:00",
          "2020-10-11T00:00:00",
          "2020-10-12T00:00:00",
          "2020-10-13T00:00:00",
          "2020-10-14T00:00:00",
          "2020-10-15T00:00:00",
          "2020-10-16T00:00:00",
          "2020-10-17T00:00:00",
          "2020-10-18T00:00:00",
          "2020-10-19T00:00:00",
          "2020-10-20T00:00:00",
          "2020-10-21T00:00:00",
          "2020-10-22T00:00:00",
          "2020-10-23T00:00:00",
          "2020-10-24T00:00:00",
          "2020-10-25T00:00:00",
          "2020-10-26T00:00:00",
          "2020-10-27T00:00:00",
          "2020-10-28T00:00:00",
          "2020-10-29T00:00:00",
          "2020-10-30T00:00:00",
          "2020-10-31T00:00:00",
          "2020-11-01T00:00:00",
          "2020-11-02T00:00:00",
          "2020-11-03T00:00:00",
          "2020-11-04T00:00:00",
          "2020-11-05T00:00:00",
          "2020-11-06T00:00:00",
          "2020-11-07T00:00:00",
          "2020-11-08T00:00:00",
          "2020-11-09T00:00:00",
          "2020-11-10T00:00:00",
          "2020-11-11T00:00:00",
          "2020-11-12T00:00:00",
          "2020-11-13T00:00:00",
          "2020-11-14T00:00:00",
          "2020-11-15T00:00:00",
          "2020-11-16T00:00:00",
          "2020-11-17T00:00:00",
          "2020-11-18T00:00:00",
          "2020-11-19T00:00:00",
          "2020-11-20T00:00:00",
          "2020-11-21T00:00:00",
          "2020-11-22T00:00:00",
          "2020-11-23T00:00:00",
          "2020-11-24T00:00:00",
          "2020-11-25T00:00:00",
          "2020-11-26T00:00:00",
          "2020-11-27T00:00:00",
          "2020-11-28T00:00:00",
          "2020-11-29T00:00:00",
          "2020-11-30T00:00:00",
          "2020-12-01T00:00:00",
          "2020-12-02T00:00:00",
          "2020-12-03T00:00:00",
          "2020-12-04T00:00:00",
          "2020-12-05T00:00:00",
          "2020-12-06T00:00:00",
          "2020-12-07T00:00:00",
          "2020-12-08T00:00:00",
          "2020-12-09T00:00:00",
          "2020-12-10T00:00:00",
          "2020-12-11T00:00:00",
          "2020-12-12T00:00:00",
          "2020-12-13T00:00:00",
          "2020-12-14T00:00:00",
          "2020-12-15T00:00:00",
          "2020-12-16T00:00:00",
          "2020-12-17T00:00:00",
          "2020-12-18T00:00:00",
          "2020-12-19T00:00:00",
          "2020-12-20T00:00:00",
          "2020-12-21T00:00:00",
          "2020-12-22T00:00:00",
          "2020-12-23T00:00:00",
          "2020-12-24T00:00:00",
          "2020-12-25T00:00:00",
          "2020-12-26T00:00:00",
          "2020-12-27T00:00:00",
          "2020-12-28T00:00:00",
          "2020-12-29T00:00:00",
          "2020-12-30T00:00:00",
          "2020-12-31T00:00:00",
          "2021-01-01T00:00:00",
          "2021-01-02T00:00:00",
          "2021-01-03T00:00:00",
          "2021-01-04T00:00:00",
          "2021-01-05T00:00:00",
          "2021-01-06T00:00:00",
          "2021-01-07T00:00:00",
          "2021-01-08T00:00:00",
          "2021-01-09T00:00:00",
          "2021-01-10T00:00:00",
          "2021-01-11T00:00:00",
          "2021-01-12T00:00:00",
          "2021-01-13T00:00:00",
          "2021-01-14T00:00:00",
          "2021-01-15T00:00:00",
          "2021-01-16T00:00:00",
          "2021-01-17T00:00:00",
          "2021-01-18T00:00:00",
          "2021-01-19T00:00:00",
          "2021-01-20T00:00:00",
          "2021-01-21T00:00:00",
          "2021-01-22T00:00:00",
          "2021-01-23T00:00:00",
          "2021-01-24T00:00:00",
          "2021-01-25T00:00:00",
          "2021-01-26T00:00:00",
          "2021-01-27T00:00:00",
          "2021-01-28T00:00:00",
          "2021-01-29T00:00:00",
          "2021-01-30T00:00:00",
          "2021-01-31T00:00:00",
          "2021-02-01T00:00:00",
          "2021-02-02T00:00:00",
          "2021-02-03T00:00:00",
          "2021-02-04T00:00:00",
          "2021-02-05T00:00:00",
          "2021-02-06T00:00:00",
          "2021-02-07T00:00:00",
          "2021-02-08T00:00:00",
          "2021-02-09T00:00:00",
          "2021-02-10T00:00:00",
          "2021-02-11T00:00:00",
          "2021-02-12T00:00:00",
          "2021-02-13T00:00:00",
          "2021-02-14T00:00:00",
          "2021-02-15T00:00:00",
          "2021-02-16T00:00:00",
          "2021-02-17T00:00:00",
          "2021-02-18T00:00:00",
          "2021-02-19T00:00:00",
          "2021-02-20T00:00:00",
          "2021-02-21T00:00:00",
          "2021-02-22T00:00:00",
          "2021-02-23T00:00:00",
          "2021-02-24T00:00:00",
          "2021-02-25T00:00:00",
          "2021-02-26T00:00:00",
          "2021-02-27T00:00:00",
          "2021-02-28T00:00:00",
          "2021-03-01T00:00:00",
          "2021-03-02T00:00:00",
          "2021-03-03T00:00:00",
          "2021-03-04T00:00:00",
          "2021-03-05T00:00:00",
          "2021-03-06T00:00:00",
          "2021-03-07T00:00:00",
          "2021-03-08T00:00:00",
          "2021-03-09T00:00:00",
          "2021-03-10T00:00:00",
          "2021-03-11T00:00:00",
          "2021-03-12T00:00:00",
          "2021-03-13T00:00:00",
          "2021-03-14T00:00:00",
          "2021-03-15T00:00:00",
          "2021-03-16T00:00:00",
          "2021-03-17T00:00:00",
          "2021-03-18T00:00:00",
          "2021-03-19T00:00:00",
          "2021-03-20T00:00:00",
          "2021-03-21T00:00:00",
          "2021-03-22T00:00:00",
          "2021-03-23T00:00:00",
          "2021-03-24T00:00:00",
          "2021-03-25T00:00:00",
          "2021-03-26T00:00:00",
          "2021-03-27T00:00:00",
          "2021-03-28T00:00:00",
          "2021-03-29T00:00:00",
          "2021-03-30T00:00:00",
          "2021-03-31T00:00:00",
          "2021-04-01T00:00:00",
          "2021-04-02T00:00:00",
          "2021-04-03T00:00:00",
          "2021-04-04T00:00:00",
          "2021-04-05T00:00:00",
          "2021-04-06T00:00:00",
          "2021-04-07T00:00:00",
          "2021-04-08T00:00:00",
          "2021-04-09T00:00:00",
          "2021-04-10T00:00:00",
          "2021-04-11T00:00:00",
          "2021-04-12T00:00:00",
          "2021-04-13T00:00:00"
         ],
         "xaxis": "x",
         "y": [
          1610,
          1699,
          1860,
          714,
          398,
          2403,
          2338,
          2325,
          470,
          2056,
          692,
          442,
          2320,
          2305,
          2259,
          1927,
          2358,
          750,
          482,
          586,
          2350,
          1970,
          2298,
          2198,
          750,
          421,
          2679,
          2283,
          2889,
          2168,
          2449,
          642,
          407,
          2739,
          2186,
          2359,
          2281,
          2951,
          806,
          356,
          2232,
          2590,
          2394,
          2925,
          2684,
          1268,
          422,
          3915,
          3678,
          3330,
          3327,
          3994,
          1423,
          462,
          4114,
          4242,
          3841,
          4792,
          4859,
          1703,
          476,
          5497,
          1326,
          5320,
          5608,
          6399,
          2128,
          710,
          6313,
          6441,
          5693,
          5990,
          5913,
          2402,
          931,
          7424,
          6910,
          7039,
          7929,
          6128,
          2531,
          1246,
          6568,
          6472,
          6549,
          6585,
          6718,
          3066,
          1341,
          6761,
          6036,
          6305,
          7526,
          6832,
          1704,
          1618,
          7625,
          7553,
          7264,
          7739,
          7814,
          2929,
          1614,
          9000,
          9262,
          9117,
          10296,
          9908,
          3769,
          1758,
          11509,
          9881,
          9553,
          10327,
          10683,
          4465,
          1629,
          10934,
          10986,
          10822,
          11902,
          10572,
          3107,
          1309,
          12097,
          12611,
          11140,
          12403,
          10663,
          3836,
          1524,
          11523,
          10492,
          10441,
          10709,
          9718,
          3818,
          1192,
          9754,
          9576,
          9086,
          9807,
          10334,
          3646,
          1517,
          11246,
          11360,
          11522,
          11958,
          12514,
          4646,
          1817,
          14040,
          13276,
          12548,
          13463,
          13561,
          5694,
          2072,
          15538,
          14977,
          13803,
          13945,
          14504,
          6042,
          2023,
          16270,
          15389,
          14429,
          14388,
          14568,
          5711,
          2004,
          14618,
          13213,
          11958,
          11264,
          12391,
          4338,
          1540,
          12478,
          11551,
          2095,
          11235,
          10080,
          3938,
          1132,
          10928,
          9854,
          9320,
          9719,
          9862,
          5434,
          1420,
          11241,
          9075,
          10108,
          9999,
          10313,
          5210,
          1804,
          11237,
          9209,
          8846,
          9336,
          10192,
          5161,
          1393,
          12424,
          10372,
          10666,
          11035,
          12000,
          6966,
          2668,
          15242,
          13561,
          14876,
          15933,
          19920,
          13075,
          4159,
          26265,
          25386,
          25232,
          20702,
          2834,
          10919,
          3011,
          16579,
          14197,
          15236,
          13978,
          2302,
          9993,
          3119,
          17077,
          13394,
          13264,
          13354,
          14926,
          8696,
          2935,
          16400,
          14223,
          14465,
          14141,
          15466,
          9666,
          2887,
          16989,
          14563,
          13872,
          14772,
          16379,
          8781,
          2633,
          18217,
          15663,
          14998,
          17327,
          18102,
          10016,
          2500,
          19278,
          16437,
          15469,
          16907,
          17618,
          10464,
          2413,
          18521,
          18595,
          16193,
          17556,
          18221,
          10820,
          2334,
          18916,
          15448,
          15560,
          16579,
          18802,
          10900,
          2786,
          19906,
          16987,
          16971,
          17611,
          19815,
          11191,
          3370,
          21182,
          17515,
          18131,
          19226,
          24058,
          12561,
          3136,
          24693,
          22074,
          23754,
          27205,
          29146,
          17235,
          5637,
          30998,
          28579,
          28635,
          30271,
          33068,
          18429,
          6214,
          36464,
          33491,
          33235,
          35305,
          35632,
          22803,
          5253,
          40852,
          42084,
          36735,
          36600,
          36301,
          23112,
          4875,
          7545,
          35058,
          28180,
          27328,
          28327,
          17534,
          4783,
          27714,
          22943
         ],
         "yaxis": "y"
        }
       ],
       "layout": {
        "barmode": "relative",
        "coloraxis": {
         "colorbar": {
          "title": {
           "text": "% positive tests"
          }
         },
         "colorscale": [
          [
           0,
           "#0d0887"
          ],
          [
           0.1111111111111111,
           "#46039f"
          ],
          [
           0.2222222222222222,
           "#7201a8"
          ],
          [
           0.3333333333333333,
           "#9c179e"
          ],
          [
           0.4444444444444444,
           "#bd3786"
          ],
          [
           0.5555555555555556,
           "#d8576b"
          ],
          [
           0.6666666666666666,
           "#ed7953"
          ],
          [
           0.7777777777777778,
           "#fb9f3a"
          ],
          [
           0.8888888888888888,
           "#fdca26"
          ],
          [
           1,
           "#f0f921"
          ]
         ]
        },
        "height": 600,
        "legend": {
         "tracegroupgap": 0
        },
        "template": {
         "data": {
          "bar": [
           {
            "error_x": {
             "color": "#2a3f5f"
            },
            "error_y": {
             "color": "#2a3f5f"
            },
            "marker": {
             "line": {
              "color": "#E5ECF6",
              "width": 0.5
             }
            },
            "type": "bar"
           }
          ],
          "barpolar": [
           {
            "marker": {
             "line": {
              "color": "#E5ECF6",
              "width": 0.5
             }
            },
            "type": "barpolar"
           }
          ],
          "carpet": [
           {
            "aaxis": {
             "endlinecolor": "#2a3f5f",
             "gridcolor": "white",
             "linecolor": "white",
             "minorgridcolor": "white",
             "startlinecolor": "#2a3f5f"
            },
            "baxis": {
             "endlinecolor": "#2a3f5f",
             "gridcolor": "white",
             "linecolor": "white",
             "minorgridcolor": "white",
             "startlinecolor": "#2a3f5f"
            },
            "type": "carpet"
           }
          ],
          "choropleth": [
           {
            "colorbar": {
             "outlinewidth": 0,
             "ticks": ""
            },
            "type": "choropleth"
           }
          ],
          "contour": [
           {
            "colorbar": {
             "outlinewidth": 0,
             "ticks": ""
            },
            "colorscale": [
             [
              0,
              "#0d0887"
             ],
             [
              0.1111111111111111,
              "#46039f"
             ],
             [
              0.2222222222222222,
              "#7201a8"
             ],
             [
              0.3333333333333333,
              "#9c179e"
             ],
             [
              0.4444444444444444,
              "#bd3786"
             ],
             [
              0.5555555555555556,
              "#d8576b"
             ],
             [
              0.6666666666666666,
              "#ed7953"
             ],
             [
              0.7777777777777778,
              "#fb9f3a"
             ],
             [
              0.8888888888888888,
              "#fdca26"
             ],
             [
              1,
              "#f0f921"
             ]
            ],
            "type": "contour"
           }
          ],
          "contourcarpet": [
           {
            "colorbar": {
             "outlinewidth": 0,
             "ticks": ""
            },
            "type": "contourcarpet"
           }
          ],
          "heatmap": [
           {
            "colorbar": {
             "outlinewidth": 0,
             "ticks": ""
            },
            "colorscale": [
             [
              0,
              "#0d0887"
             ],
             [
              0.1111111111111111,
              "#46039f"
             ],
             [
              0.2222222222222222,
              "#7201a8"
             ],
             [
              0.3333333333333333,
              "#9c179e"
             ],
             [
              0.4444444444444444,
              "#bd3786"
             ],
             [
              0.5555555555555556,
              "#d8576b"
             ],
             [
              0.6666666666666666,
              "#ed7953"
             ],
             [
              0.7777777777777778,
              "#fb9f3a"
             ],
             [
              0.8888888888888888,
              "#fdca26"
             ],
             [
              1,
              "#f0f921"
             ]
            ],
            "type": "heatmap"
           }
          ],
          "heatmapgl": [
           {
            "colorbar": {
             "outlinewidth": 0,
             "ticks": ""
            },
            "colorscale": [
             [
              0,
              "#0d0887"
             ],
             [
              0.1111111111111111,
              "#46039f"
             ],
             [
              0.2222222222222222,
              "#7201a8"
             ],
             [
              0.3333333333333333,
              "#9c179e"
             ],
             [
              0.4444444444444444,
              "#bd3786"
             ],
             [
              0.5555555555555556,
              "#d8576b"
             ],
             [
              0.6666666666666666,
              "#ed7953"
             ],
             [
              0.7777777777777778,
              "#fb9f3a"
             ],
             [
              0.8888888888888888,
              "#fdca26"
             ],
             [
              1,
              "#f0f921"
             ]
            ],
            "type": "heatmapgl"
           }
          ],
          "histogram": [
           {
            "marker": {
             "colorbar": {
              "outlinewidth": 0,
              "ticks": ""
             }
            },
            "type": "histogram"
           }
          ],
          "histogram2d": [
           {
            "colorbar": {
             "outlinewidth": 0,
             "ticks": ""
            },
            "colorscale": [
             [
              0,
              "#0d0887"
             ],
             [
              0.1111111111111111,
              "#46039f"
             ],
             [
              0.2222222222222222,
              "#7201a8"
             ],
             [
              0.3333333333333333,
              "#9c179e"
             ],
             [
              0.4444444444444444,
              "#bd3786"
             ],
             [
              0.5555555555555556,
              "#d8576b"
             ],
             [
              0.6666666666666666,
              "#ed7953"
             ],
             [
              0.7777777777777778,
              "#fb9f3a"
             ],
             [
              0.8888888888888888,
              "#fdca26"
             ],
             [
              1,
              "#f0f921"
             ]
            ],
            "type": "histogram2d"
           }
          ],
          "histogram2dcontour": [
           {
            "colorbar": {
             "outlinewidth": 0,
             "ticks": ""
            },
            "colorscale": [
             [
              0,
              "#0d0887"
             ],
             [
              0.1111111111111111,
              "#46039f"
             ],
             [
              0.2222222222222222,
              "#7201a8"
             ],
             [
              0.3333333333333333,
              "#9c179e"
             ],
             [
              0.4444444444444444,
              "#bd3786"
             ],
             [
              0.5555555555555556,
              "#d8576b"
             ],
             [
              0.6666666666666666,
              "#ed7953"
             ],
             [
              0.7777777777777778,
              "#fb9f3a"
             ],
             [
              0.8888888888888888,
              "#fdca26"
             ],
             [
              1,
              "#f0f921"
             ]
            ],
            "type": "histogram2dcontour"
           }
          ],
          "mesh3d": [
           {
            "colorbar": {
             "outlinewidth": 0,
             "ticks": ""
            },
            "type": "mesh3d"
           }
          ],
          "parcoords": [
           {
            "line": {
             "colorbar": {
              "outlinewidth": 0,
              "ticks": ""
             }
            },
            "type": "parcoords"
           }
          ],
          "pie": [
           {
            "automargin": true,
            "type": "pie"
           }
          ],
          "scatter": [
           {
            "marker": {
             "colorbar": {
              "outlinewidth": 0,
              "ticks": ""
             }
            },
            "type": "scatter"
           }
          ],
          "scatter3d": [
           {
            "line": {
             "colorbar": {
              "outlinewidth": 0,
              "ticks": ""
             }
            },
            "marker": {
             "colorbar": {
              "outlinewidth": 0,
              "ticks": ""
             }
            },
            "type": "scatter3d"
           }
          ],
          "scattercarpet": [
           {
            "marker": {
             "colorbar": {
              "outlinewidth": 0,
              "ticks": ""
             }
            },
            "type": "scattercarpet"
           }
          ],
          "scattergeo": [
           {
            "marker": {
             "colorbar": {
              "outlinewidth": 0,
              "ticks": ""
             }
            },
            "type": "scattergeo"
           }
          ],
          "scattergl": [
           {
            "marker": {
             "colorbar": {
              "outlinewidth": 0,
              "ticks": ""
             }
            },
            "type": "scattergl"
           }
          ],
          "scattermapbox": [
           {
            "marker": {
             "colorbar": {
              "outlinewidth": 0,
              "ticks": ""
             }
            },
            "type": "scattermapbox"
           }
          ],
          "scatterpolar": [
           {
            "marker": {
             "colorbar": {
              "outlinewidth": 0,
              "ticks": ""
             }
            },
            "type": "scatterpolar"
           }
          ],
          "scatterpolargl": [
           {
            "marker": {
             "colorbar": {
              "outlinewidth": 0,
              "ticks": ""
             }
            },
            "type": "scatterpolargl"
           }
          ],
          "scatterternary": [
           {
            "marker": {
             "colorbar": {
              "outlinewidth": 0,
              "ticks": ""
             }
            },
            "type": "scatterternary"
           }
          ],
          "surface": [
           {
            "colorbar": {
             "outlinewidth": 0,
             "ticks": ""
            },
            "colorscale": [
             [
              0,
              "#0d0887"
             ],
             [
              0.1111111111111111,
              "#46039f"
             ],
             [
              0.2222222222222222,
              "#7201a8"
             ],
             [
              0.3333333333333333,
              "#9c179e"
             ],
             [
              0.4444444444444444,
              "#bd3786"
             ],
             [
              0.5555555555555556,
              "#d8576b"
             ],
             [
              0.6666666666666666,
              "#ed7953"
             ],
             [
              0.7777777777777778,
              "#fb9f3a"
             ],
             [
              0.8888888888888888,
              "#fdca26"
             ],
             [
              1,
              "#f0f921"
             ]
            ],
            "type": "surface"
           }
          ],
          "table": [
           {
            "cells": {
             "fill": {
              "color": "#EBF0F8"
             },
             "line": {
              "color": "white"
             }
            },
            "header": {
             "fill": {
              "color": "#C8D4E3"
             },
             "line": {
              "color": "white"
             }
            },
            "type": "table"
           }
          ]
         },
         "layout": {
          "annotationdefaults": {
           "arrowcolor": "#2a3f5f",
           "arrowhead": 0,
           "arrowwidth": 1
          },
          "autotypenumbers": "strict",
          "coloraxis": {
           "colorbar": {
            "outlinewidth": 0,
            "ticks": ""
           }
          },
          "colorscale": {
           "diverging": [
            [
             0,
             "#8e0152"
            ],
            [
             0.1,
             "#c51b7d"
            ],
            [
             0.2,
             "#de77ae"
            ],
            [
             0.3,
             "#f1b6da"
            ],
            [
             0.4,
             "#fde0ef"
            ],
            [
             0.5,
             "#f7f7f7"
            ],
            [
             0.6,
             "#e6f5d0"
            ],
            [
             0.7,
             "#b8e186"
            ],
            [
             0.8,
             "#7fbc41"
            ],
            [
             0.9,
             "#4d9221"
            ],
            [
             1,
             "#276419"
            ]
           ],
           "sequential": [
            [
             0,
             "#0d0887"
            ],
            [
             0.1111111111111111,
             "#46039f"
            ],
            [
             0.2222222222222222,
             "#7201a8"
            ],
            [
             0.3333333333333333,
             "#9c179e"
            ],
            [
             0.4444444444444444,
             "#bd3786"
            ],
            [
             0.5555555555555556,
             "#d8576b"
            ],
            [
             0.6666666666666666,
             "#ed7953"
            ],
            [
             0.7777777777777778,
             "#fb9f3a"
            ],
            [
             0.8888888888888888,
             "#fdca26"
            ],
            [
             1,
             "#f0f921"
            ]
           ],
           "sequentialminus": [
            [
             0,
             "#0d0887"
            ],
            [
             0.1111111111111111,
             "#46039f"
            ],
            [
             0.2222222222222222,
             "#7201a8"
            ],
            [
             0.3333333333333333,
             "#9c179e"
            ],
            [
             0.4444444444444444,
             "#bd3786"
            ],
            [
             0.5555555555555556,
             "#d8576b"
            ],
            [
             0.6666666666666666,
             "#ed7953"
            ],
            [
             0.7777777777777778,
             "#fb9f3a"
            ],
            [
             0.8888888888888888,
             "#fdca26"
            ],
            [
             1,
             "#f0f921"
            ]
           ]
          },
          "colorway": [
           "#636efa",
           "#EF553B",
           "#00cc96",
           "#ab63fa",
           "#FFA15A",
           "#19d3f3",
           "#FF6692",
           "#B6E880",
           "#FF97FF",
           "#FECB52"
          ],
          "font": {
           "color": "#2a3f5f"
          },
          "geo": {
           "bgcolor": "white",
           "lakecolor": "white",
           "landcolor": "#E5ECF6",
           "showlakes": true,
           "showland": true,
           "subunitcolor": "white"
          },
          "hoverlabel": {
           "align": "left"
          },
          "hovermode": "closest",
          "mapbox": {
           "style": "light"
          },
          "paper_bgcolor": "white",
          "plot_bgcolor": "#E5ECF6",
          "polar": {
           "angularaxis": {
            "gridcolor": "white",
            "linecolor": "white",
            "ticks": ""
           },
           "bgcolor": "#E5ECF6",
           "radialaxis": {
            "gridcolor": "white",
            "linecolor": "white",
            "ticks": ""
           }
          },
          "scene": {
           "xaxis": {
            "backgroundcolor": "#E5ECF6",
            "gridcolor": "white",
            "gridwidth": 2,
            "linecolor": "white",
            "showbackground": true,
            "ticks": "",
            "zerolinecolor": "white"
           },
           "yaxis": {
            "backgroundcolor": "#E5ECF6",
            "gridcolor": "white",
            "gridwidth": 2,
            "linecolor": "white",
            "showbackground": true,
            "ticks": "",
            "zerolinecolor": "white"
           },
           "zaxis": {
            "backgroundcolor": "#E5ECF6",
            "gridcolor": "white",
            "gridwidth": 2,
            "linecolor": "white",
            "showbackground": true,
            "ticks": "",
            "zerolinecolor": "white"
           }
          },
          "shapedefaults": {
           "line": {
            "color": "#2a3f5f"
           }
          },
          "ternary": {
           "aaxis": {
            "gridcolor": "white",
            "linecolor": "white",
            "ticks": ""
           },
           "baxis": {
            "gridcolor": "white",
            "linecolor": "white",
            "ticks": ""
           },
           "bgcolor": "#E5ECF6",
           "caxis": {
            "gridcolor": "white",
            "linecolor": "white",
            "ticks": ""
           }
          },
          "title": {
           "x": 0.05
          },
          "xaxis": {
           "automargin": true,
           "gridcolor": "white",
           "linecolor": "white",
           "ticks": "",
           "title": {
            "standoff": 15
           },
           "zerolinecolor": "white",
           "zerolinewidth": 2
          },
          "yaxis": {
           "automargin": true,
           "gridcolor": "white",
           "linecolor": "white",
           "ticks": "",
           "title": {
            "standoff": 15
           },
           "zerolinecolor": "white",
           "zerolinewidth": 2
          }
         }
        },
        "title": {
         "text": "Covid Screening in department 93"
        },
        "width": 1000,
        "xaxis": {
         "anchor": "y",
         "domain": [
          0,
          1
         ],
         "rangeslider": {
          "visible": true
         },
         "title": {
          "text": "date"
         }
        },
        "yaxis": {
         "anchor": "x",
         "domain": [
          0,
          1
         ],
         "title": {
          "text": "Tests number"
         }
        }
       }
      }
     },
     "metadata": {}
    }
   ],
   "source": [
    "daily_test_dep('93')"
   ]
  },
  {
   "cell_type": "code",
   "execution_count": 55,
   "metadata": {},
   "outputs": [
    {
     "output_type": "execute_result",
     "data": {
      "text/plain": [
       "          date  Positive tests  Tests number  Tests cumul  % positive tests\n",
       "0   2020-05-13              13          1276         1276          1.018809\n",
       "1   2020-05-14              18          1502         2778          1.198402\n",
       "2   2020-05-15              16          2079         4857          0.769601\n",
       "3   2020-05-16              10           894         5751          1.118568\n",
       "4   2020-05-17               6           411         6162          1.459854\n",
       "..         ...             ...           ...          ...               ...\n",
       "331 2021-04-09            2176         32225      3320720          6.752521\n",
       "332 2021-04-10            1177         15095      3335815          7.797284\n",
       "333 2021-04-11             258          3156      3338971          8.174905\n",
       "334 2021-04-12            2142         19612      3358583         10.921885\n",
       "335 2021-04-13            1588         14875      3373458         10.675630\n",
       "\n",
       "[336 rows x 5 columns]"
      ],
      "text/html": "<div>\n<style scoped>\n    .dataframe tbody tr th:only-of-type {\n        vertical-align: middle;\n    }\n\n    .dataframe tbody tr th {\n        vertical-align: top;\n    }\n\n    .dataframe thead th {\n        text-align: right;\n    }\n</style>\n<table border=\"1\" class=\"dataframe\">\n  <thead>\n    <tr style=\"text-align: right;\">\n      <th></th>\n      <th>date</th>\n      <th>Positive tests</th>\n      <th>Tests number</th>\n      <th>Tests cumul</th>\n      <th>% positive tests</th>\n    </tr>\n  </thead>\n  <tbody>\n    <tr>\n      <th>0</th>\n      <td>2020-05-13</td>\n      <td>13</td>\n      <td>1276</td>\n      <td>1276</td>\n      <td>1.018809</td>\n    </tr>\n    <tr>\n      <th>1</th>\n      <td>2020-05-14</td>\n      <td>18</td>\n      <td>1502</td>\n      <td>2778</td>\n      <td>1.198402</td>\n    </tr>\n    <tr>\n      <th>2</th>\n      <td>2020-05-15</td>\n      <td>16</td>\n      <td>2079</td>\n      <td>4857</td>\n      <td>0.769601</td>\n    </tr>\n    <tr>\n      <th>3</th>\n      <td>2020-05-16</td>\n      <td>10</td>\n      <td>894</td>\n      <td>5751</td>\n      <td>1.118568</td>\n    </tr>\n    <tr>\n      <th>4</th>\n      <td>2020-05-17</td>\n      <td>6</td>\n      <td>411</td>\n      <td>6162</td>\n      <td>1.459854</td>\n    </tr>\n    <tr>\n      <th>...</th>\n      <td>...</td>\n      <td>...</td>\n      <td>...</td>\n      <td>...</td>\n      <td>...</td>\n    </tr>\n    <tr>\n      <th>331</th>\n      <td>2021-04-09</td>\n      <td>2176</td>\n      <td>32225</td>\n      <td>3320720</td>\n      <td>6.752521</td>\n    </tr>\n    <tr>\n      <th>332</th>\n      <td>2021-04-10</td>\n      <td>1177</td>\n      <td>15095</td>\n      <td>3335815</td>\n      <td>7.797284</td>\n    </tr>\n    <tr>\n      <th>333</th>\n      <td>2021-04-11</td>\n      <td>258</td>\n      <td>3156</td>\n      <td>3338971</td>\n      <td>8.174905</td>\n    </tr>\n    <tr>\n      <th>334</th>\n      <td>2021-04-12</td>\n      <td>2142</td>\n      <td>19612</td>\n      <td>3358583</td>\n      <td>10.921885</td>\n    </tr>\n    <tr>\n      <th>335</th>\n      <td>2021-04-13</td>\n      <td>1588</td>\n      <td>14875</td>\n      <td>3373458</td>\n      <td>10.675630</td>\n    </tr>\n  </tbody>\n</table>\n<p>336 rows × 5 columns</p>\n</div>"
     },
     "metadata": {},
     "execution_count": 55
    }
   ],
   "source": [
    "screening_daily_age[9]"
   ]
  },
  {
   "cell_type": "code",
   "execution_count": 56,
   "metadata": {},
   "outputs": [],
   "source": [
    "def daily_test_age(age_class):\n",
    "    fig = px.bar(screening_daily_age[age_class], x='date', y='Tests number', color='% positive tests',\n",
    "             title=f\"Covid Screening in France for the age class {age_class}\", height=600, width=1000)\n",
    "    fig.update_xaxes(rangeslider_visible=True)\n",
    "    return(fig.show())"
   ]
  },
  {
   "cell_type": "code",
   "execution_count": 60,
   "metadata": {},
   "outputs": [
    {
     "output_type": "display_data",
     "data": {
      "application/vnd.plotly.v1+json": {
       "config": {
        "plotlyServerURL": "https://plot.ly"
       },
       "data": [
        {
         "alignmentgroup": "True",
         "hovertemplate": "date=%{x}<br>Tests number=%{y}<br>% positive tests=%{marker.color}<extra></extra>",
         "legendgroup": "",
         "marker": {
          "color": [
           1.8671833714990311,
           1.8397915988277433,
           1.9669199821189094,
           1.1353711790393013,
           1.310615989515072,
           1.4709925762991476,
           1.5546704355646923,
           1.72550052687039,
           1.678445229681979,
           1.2758931251876313,
           1.2678936605316973,
           1.6331658291457287,
           1.328556500970294,
           1.157002556168438,
           1.265214606021781,
           1.4155548324113243,
           0.9975445058317987,
           2.260327357755261,
           3.9906103286384975,
           1.9980970504281639,
           1.232,
           1.808066759388039,
           1.9625176803394626,
           1.4150158148826368,
           2.1654395842355996,
           1.9553072625698324,
           1.5019210618232623,
           1.5278024515899804,
           1.6501031314457153,
           2.2838807097017746,
           1.5578505163661822,
           1.5086206896551724,
           4.2105263157894735,
           1.715686274509804,
           1.9538518794194266,
           2.4859195960380656,
           2.268656716417911,
           2.338877338877339,
           2.297507788161994,
           3.770739064856712,
           1.7061454364750706,
           1.8433179723502304,
           2.1816997720612177,
           2.1105715353007097,
           1.447935921133703,
           2.061122956645345,
           3.452243958573072,
           1.532901296111665,
           1.8691588785046727,
           1.3059011950227917,
           1.3423676809000256,
           1.403016485443704,
           1.558846453624318,
           2.301255230125523,
           1.180896645417494,
           1.0475343413380769,
           1.056902897046334,
           1.0618529333687283,
           1.2343686970552643,
           1.3701390288132178,
           0.6789524733268671,
           1.2796169404771733,
           1.5752993068683048,
           1.231003039513678,
           1.357745319893026,
           1.1212333566923616,
           1.2904253624342839,
           1.9939577039274923,
           1.3364889322010303,
           1.392143349414197,
           1.5003802807163105,
           1.3543091655266757,
           1.3818606461658234,
           1.7752369489995485,
           1.863932898415657,
           1.4975247524752475,
           1.485502923278845,
           1.441899915182358,
           1.7310857596912426,
           1.6597273712427993,
           1.9782937216650638,
           1.9639934533551555,
           2.1632699533189115,
           2.3028278248419043,
           2.1109530583214795,
           2.1152914580978526,
           2.4404957771196667,
           2.4259448416751788,
           2.5989138867339023,
           2.794454753847833,
           2.8667386350005994,
           2.7690957942644077,
           3.3451237998989387,
           3.154980669180469,
           3.3499084009421614,
           3.3198614318706694,
           3.9188127816129965,
           3.8381018841591072,
           3.6042977612259746,
           3.5672585255868263,
           3.584488800853268,
           3.2006758025154873,
           5.319767441860465,
           4.022223700845033,
           4.090480019578366,
           4.070220625614261,
           4.211250860396721,
           4.209842556218875,
           4.0472175379426645,
           5.348346235045742,
           4.636723533935234,
           4.57796852646638,
           4.836984752650716,
           5.161934655443002,
           4.842920912995873,
           4.183710082526013,
           5.345911949685535,
           4.943042103678427,
           4.501639183833244,
           4.227134032894248,
           4.453734410761829,
           4.1612826034936585,
           4.062072113190324,
           5.611543747136968,
           5.121496177648344,
           4.751984815869268,
           5.2554931016862545,
           5.404013085026917,
           5.764960662298857,
           5.618061806180618,
           6.501854140914709,
           6.713302181546714,
           6.846297749079717,
           6.814002474171654,
           6.56733973730641,
           5.992189807370459,
           6.0398136382888605,
           5.9459459459459465,
           6.63576406172225,
           6.98751372118551,
           7.34844945919724,
           8.097947571631781,
           8.496407403728353,
           9.344816484224081,
           8.590963139120095,
           10.05457298779965,
           10.08022215365628,
           10.409014505385047,
           10.381841560910159,
           10.127426095428557,
           10.794149643418349,
           11.944566652001761,
           11.35928383734913,
           11.085417312322694,
           10.97020262216925,
           11.19640635215218,
           10.990832650941702,
           11.853024415983116,
           12.92239769060961,
           13.67483624052403,
           14.585306186868689,
           14.867266785161402,
           14.606095457159288,
           14.340026517148289,
           15.798280976648666,
           16.17074527252503,
           16.640066822785375,
           16.101763013676614,
           15.418912623943568,
           14.417036671600068,
           13.84941842187991,
           14.977111636148848,
           15.417214671927518,
           16.170552728133508,
           15.042019665884116,
           13.573312586576595,
           11.9738777853529,
           10.890648634220126,
           11.341264287380453,
           11.986374281456248,
           11.919316512180522,
           9.942088851091402,
           9.792689579923621,
           9.493346980552712,
           8.686178265058029,
           9.206745783885072,
           9.601745771958537,
           9.663855839205267,
           7.981424653070092,
           7.498439194295665,
           6.620593530402462,
           6.092256624506382,
           6.799973515195656,
           7.181490384615384,
           6.95441643012189,
           6.0031388961548515,
           6.114905301696825,
           5.672159016607821,
           5.226281091754514,
           5.981347731575626,
           7.569360675512665,
           6.7195099981985225,
           5.954761740569616,
           5.95033927373052,
           5.522475953674017,
           5.601187843558476,
           6.197309994208122,
           6.5922092073004634,
           6.592796318823716,
           5.604676438621743,
           5.663572503763171,
           5.416899832120873,
           5.316619281468079,
           5.7762425638073305,
           5.177407675597393,
           6.028211138954005,
           4.7979484634156435,
           4.271291259965725,
           3.6295014470268816,
           3.1878530565250243,
           3.042200025564706,
           2.8415705365647157,
           2.81771810134725,
           2.150893715319565,
           2.0608455156064798,
           2.1597170637604353,
           3.121212121212121,
           4.233926992547682,
           4.133286891907582,
           5.435014800573713,
           5.295202310127683,
           4.689727264088188,
           4.641052116732786,
           4.173501002369236,
           6.121464003217589,
           5.820721769499418,
           7.026883151450626,
           6.354335943270793,
           5.942465468896043,
           5.619168787107719,
           5.6908639450814285,
           5.793766286507158,
           5.653461158889046,
           6.795727636849132,
           5.940997342746863,
           6.145461379439955,
           6.052180537040563,
           5.9212198221092756,
           6.19155522931095,
           6.428862064288621,
           7.3489555790587,
           6.440645592589056,
           6.244182438721688,
           6.078644210231451,
           5.685269399495428,
           6.2250453720508165,
           6.1315979754157635,
           6.828613173157809,
           5.839806663214224,
           5.992941134739194,
           5.531483359454227,
           5.441845354126055,
           5.8256982006844025,
           6.996515679442508,
           6.833354962437456,
           5.6930241808508875,
           5.658467276440813,
           5.2538030424339475,
           5.056654076871806,
           5.730293448715815,
           6.281156530408774,
           6.3865420560747665,
           5.949500800763281,
           5.753583531159959,
           5.23130782695674,
           5.357087768008638,
           5.6558574349985395,
           6.746670569296064,
           6.989722789789882,
           6.387337383783026,
           6.614420062695925,
           6.187701400831483,
           6.20695973492541,
           6.583181146186624,
           7.4620452592380415,
           8.149521161569355,
           7.551260048776082,
           7.022304832713755,
           6.725927448360909,
           6.066193705659906,
           6.703359157668033,
           7.399577167019028,
           8.093363062763888,
           7.463649823469116,
           7.376339534794236,
           6.724128700679908,
           6.36034955171128,
           7.1204526133732005,
           8.25037501704623,
           8.341939011055764,
           7.710690685253915,
           8.110254697738227,
           7.541037870694973,
           7.072699682714857,
           8.167513919147906,
           9.624188225274139,
           9.712249001227251,
           8.431203052342912,
           8.257023367174018,
           7.5683940370228795,
           7.135823780406268,
           7.994288224956063,
           9.786637283381749,
           9.873653592691905,
           8.85546569924168,
           8.84383875758918,
           7.995365005793744,
           7.452455590386625,
           8.09364071087003,
           8.973862536302033,
           9.412825135204738,
           8.204710757780784,
           7.917335518561341,
           7.109525383523556,
           6.555638956652279,
           6.5329912349652215,
           8.153149303478335,
           9.687920969914684,
           9.862006604812077,
           9.383177570093459,
           8.71686453081802,
           8.197907522953193,
           8.584849090545672,
           9.350268685881778,
           10.915858506570784,
           10.041763052894693
          ],
          "coloraxis": "coloraxis"
         },
         "name": "",
         "offsetgroup": "",
         "orientation": "v",
         "showlegend": false,
         "textposition": "auto",
         "type": "bar",
         "x": [
          "2020-05-13T00:00:00",
          "2020-05-14T00:00:00",
          "2020-05-15T00:00:00",
          "2020-05-16T00:00:00",
          "2020-05-17T00:00:00",
          "2020-05-18T00:00:00",
          "2020-05-19T00:00:00",
          "2020-05-20T00:00:00",
          "2020-05-21T00:00:00",
          "2020-05-22T00:00:00",
          "2020-05-23T00:00:00",
          "2020-05-24T00:00:00",
          "2020-05-25T00:00:00",
          "2020-05-26T00:00:00",
          "2020-05-27T00:00:00",
          "2020-05-28T00:00:00",
          "2020-05-29T00:00:00",
          "2020-05-30T00:00:00",
          "2020-05-31T00:00:00",
          "2020-06-01T00:00:00",
          "2020-06-02T00:00:00",
          "2020-06-03T00:00:00",
          "2020-06-04T00:00:00",
          "2020-06-05T00:00:00",
          "2020-06-06T00:00:00",
          "2020-06-07T00:00:00",
          "2020-06-08T00:00:00",
          "2020-06-09T00:00:00",
          "2020-06-10T00:00:00",
          "2020-06-11T00:00:00",
          "2020-06-12T00:00:00",
          "2020-06-13T00:00:00",
          "2020-06-14T00:00:00",
          "2020-06-15T00:00:00",
          "2020-06-16T00:00:00",
          "2020-06-17T00:00:00",
          "2020-06-18T00:00:00",
          "2020-06-19T00:00:00",
          "2020-06-20T00:00:00",
          "2020-06-21T00:00:00",
          "2020-06-22T00:00:00",
          "2020-06-23T00:00:00",
          "2020-06-24T00:00:00",
          "2020-06-25T00:00:00",
          "2020-06-26T00:00:00",
          "2020-06-27T00:00:00",
          "2020-06-28T00:00:00",
          "2020-06-29T00:00:00",
          "2020-06-30T00:00:00",
          "2020-07-01T00:00:00",
          "2020-07-02T00:00:00",
          "2020-07-03T00:00:00",
          "2020-07-04T00:00:00",
          "2020-07-05T00:00:00",
          "2020-07-06T00:00:00",
          "2020-07-07T00:00:00",
          "2020-07-08T00:00:00",
          "2020-07-09T00:00:00",
          "2020-07-10T00:00:00",
          "2020-07-11T00:00:00",
          "2020-07-12T00:00:00",
          "2020-07-13T00:00:00",
          "2020-07-14T00:00:00",
          "2020-07-15T00:00:00",
          "2020-07-16T00:00:00",
          "2020-07-17T00:00:00",
          "2020-07-18T00:00:00",
          "2020-07-19T00:00:00",
          "2020-07-20T00:00:00",
          "2020-07-21T00:00:00",
          "2020-07-22T00:00:00",
          "2020-07-23T00:00:00",
          "2020-07-24T00:00:00",
          "2020-07-25T00:00:00",
          "2020-07-26T00:00:00",
          "2020-07-27T00:00:00",
          "2020-07-28T00:00:00",
          "2020-07-29T00:00:00",
          "2020-07-30T00:00:00",
          "2020-07-31T00:00:00",
          "2020-08-01T00:00:00",
          "2020-08-02T00:00:00",
          "2020-08-03T00:00:00",
          "2020-08-04T00:00:00",
          "2020-08-05T00:00:00",
          "2020-08-06T00:00:00",
          "2020-08-07T00:00:00",
          "2020-08-08T00:00:00",
          "2020-08-09T00:00:00",
          "2020-08-10T00:00:00",
          "2020-08-11T00:00:00",
          "2020-08-12T00:00:00",
          "2020-08-13T00:00:00",
          "2020-08-14T00:00:00",
          "2020-08-15T00:00:00",
          "2020-08-16T00:00:00",
          "2020-08-17T00:00:00",
          "2020-08-18T00:00:00",
          "2020-08-19T00:00:00",
          "2020-08-20T00:00:00",
          "2020-08-21T00:00:00",
          "2020-08-22T00:00:00",
          "2020-08-23T00:00:00",
          "2020-08-24T00:00:00",
          "2020-08-25T00:00:00",
          "2020-08-26T00:00:00",
          "2020-08-27T00:00:00",
          "2020-08-28T00:00:00",
          "2020-08-29T00:00:00",
          "2020-08-30T00:00:00",
          "2020-08-31T00:00:00",
          "2020-09-01T00:00:00",
          "2020-09-02T00:00:00",
          "2020-09-03T00:00:00",
          "2020-09-04T00:00:00",
          "2020-09-05T00:00:00",
          "2020-09-06T00:00:00",
          "2020-09-07T00:00:00",
          "2020-09-08T00:00:00",
          "2020-09-09T00:00:00",
          "2020-09-10T00:00:00",
          "2020-09-11T00:00:00",
          "2020-09-12T00:00:00",
          "2020-09-13T00:00:00",
          "2020-09-14T00:00:00",
          "2020-09-15T00:00:00",
          "2020-09-16T00:00:00",
          "2020-09-17T00:00:00",
          "2020-09-18T00:00:00",
          "2020-09-19T00:00:00",
          "2020-09-20T00:00:00",
          "2020-09-21T00:00:00",
          "2020-09-22T00:00:00",
          "2020-09-23T00:00:00",
          "2020-09-24T00:00:00",
          "2020-09-25T00:00:00",
          "2020-09-26T00:00:00",
          "2020-09-27T00:00:00",
          "2020-09-28T00:00:00",
          "2020-09-29T00:00:00",
          "2020-09-30T00:00:00",
          "2020-10-01T00:00:00",
          "2020-10-02T00:00:00",
          "2020-10-03T00:00:00",
          "2020-10-04T00:00:00",
          "2020-10-05T00:00:00",
          "2020-10-06T00:00:00",
          "2020-10-07T00:00:00",
          "2020-10-08T00:00:00",
          "2020-10-09T00:00:00",
          "2020-10-10T00:00:00",
          "2020-10-11T00:00:00",
          "2020-10-12T00:00:00",
          "2020-10-13T00:00:00",
          "2020-10-14T00:00:00",
          "2020-10-15T00:00:00",
          "2020-10-16T00:00:00",
          "2020-10-17T00:00:00",
          "2020-10-18T00:00:00",
          "2020-10-19T00:00:00",
          "2020-10-20T00:00:00",
          "2020-10-21T00:00:00",
          "2020-10-22T00:00:00",
          "2020-10-23T00:00:00",
          "2020-10-24T00:00:00",
          "2020-10-25T00:00:00",
          "2020-10-26T00:00:00",
          "2020-10-27T00:00:00",
          "2020-10-28T00:00:00",
          "2020-10-29T00:00:00",
          "2020-10-30T00:00:00",
          "2020-10-31T00:00:00",
          "2020-11-01T00:00:00",
          "2020-11-02T00:00:00",
          "2020-11-03T00:00:00",
          "2020-11-04T00:00:00",
          "2020-11-05T00:00:00",
          "2020-11-06T00:00:00",
          "2020-11-07T00:00:00",
          "2020-11-08T00:00:00",
          "2020-11-09T00:00:00",
          "2020-11-10T00:00:00",
          "2020-11-11T00:00:00",
          "2020-11-12T00:00:00",
          "2020-11-13T00:00:00",
          "2020-11-14T00:00:00",
          "2020-11-15T00:00:00",
          "2020-11-16T00:00:00",
          "2020-11-17T00:00:00",
          "2020-11-18T00:00:00",
          "2020-11-19T00:00:00",
          "2020-11-20T00:00:00",
          "2020-11-21T00:00:00",
          "2020-11-22T00:00:00",
          "2020-11-23T00:00:00",
          "2020-11-24T00:00:00",
          "2020-11-25T00:00:00",
          "2020-11-26T00:00:00",
          "2020-11-27T00:00:00",
          "2020-11-28T00:00:00",
          "2020-11-29T00:00:00",
          "2020-11-30T00:00:00",
          "2020-12-01T00:00:00",
          "2020-12-02T00:00:00",
          "2020-12-03T00:00:00",
          "2020-12-04T00:00:00",
          "2020-12-05T00:00:00",
          "2020-12-06T00:00:00",
          "2020-12-07T00:00:00",
          "2020-12-08T00:00:00",
          "2020-12-09T00:00:00",
          "2020-12-10T00:00:00",
          "2020-12-11T00:00:00",
          "2020-12-12T00:00:00",
          "2020-12-13T00:00:00",
          "2020-12-14T00:00:00",
          "2020-12-15T00:00:00",
          "2020-12-16T00:00:00",
          "2020-12-17T00:00:00",
          "2020-12-18T00:00:00",
          "2020-12-19T00:00:00",
          "2020-12-20T00:00:00",
          "2020-12-21T00:00:00",
          "2020-12-22T00:00:00",
          "2020-12-23T00:00:00",
          "2020-12-24T00:00:00",
          "2020-12-25T00:00:00",
          "2020-12-26T00:00:00",
          "2020-12-27T00:00:00",
          "2020-12-28T00:00:00",
          "2020-12-29T00:00:00",
          "2020-12-30T00:00:00",
          "2020-12-31T00:00:00",
          "2021-01-01T00:00:00",
          "2021-01-02T00:00:00",
          "2021-01-03T00:00:00",
          "2021-01-04T00:00:00",
          "2021-01-05T00:00:00",
          "2021-01-06T00:00:00",
          "2021-01-07T00:00:00",
          "2021-01-08T00:00:00",
          "2021-01-09T00:00:00",
          "2021-01-10T00:00:00",
          "2021-01-11T00:00:00",
          "2021-01-12T00:00:00",
          "2021-01-13T00:00:00",
          "2021-01-14T00:00:00",
          "2021-01-15T00:00:00",
          "2021-01-16T00:00:00",
          "2021-01-17T00:00:00",
          "2021-01-18T00:00:00",
          "2021-01-19T00:00:00",
          "2021-01-20T00:00:00",
          "2021-01-21T00:00:00",
          "2021-01-22T00:00:00",
          "2021-01-23T00:00:00",
          "2021-01-24T00:00:00",
          "2021-01-25T00:00:00",
          "2021-01-26T00:00:00",
          "2021-01-27T00:00:00",
          "2021-01-28T00:00:00",
          "2021-01-29T00:00:00",
          "2021-01-30T00:00:00",
          "2021-01-31T00:00:00",
          "2021-02-01T00:00:00",
          "2021-02-02T00:00:00",
          "2021-02-03T00:00:00",
          "2021-02-04T00:00:00",
          "2021-02-05T00:00:00",
          "2021-02-06T00:00:00",
          "2021-02-07T00:00:00",
          "2021-02-08T00:00:00",
          "2021-02-09T00:00:00",
          "2021-02-10T00:00:00",
          "2021-02-11T00:00:00",
          "2021-02-12T00:00:00",
          "2021-02-13T00:00:00",
          "2021-02-14T00:00:00",
          "2021-02-15T00:00:00",
          "2021-02-16T00:00:00",
          "2021-02-17T00:00:00",
          "2021-02-18T00:00:00",
          "2021-02-19T00:00:00",
          "2021-02-20T00:00:00",
          "2021-02-21T00:00:00",
          "2021-02-22T00:00:00",
          "2021-02-23T00:00:00",
          "2021-02-24T00:00:00",
          "2021-02-25T00:00:00",
          "2021-02-26T00:00:00",
          "2021-02-27T00:00:00",
          "2021-02-28T00:00:00",
          "2021-03-01T00:00:00",
          "2021-03-02T00:00:00",
          "2021-03-03T00:00:00",
          "2021-03-04T00:00:00",
          "2021-03-05T00:00:00",
          "2021-03-06T00:00:00",
          "2021-03-07T00:00:00",
          "2021-03-08T00:00:00",
          "2021-03-09T00:00:00",
          "2021-03-10T00:00:00",
          "2021-03-11T00:00:00",
          "2021-03-12T00:00:00",
          "2021-03-13T00:00:00",
          "2021-03-14T00:00:00",
          "2021-03-15T00:00:00",
          "2021-03-16T00:00:00",
          "2021-03-17T00:00:00",
          "2021-03-18T00:00:00",
          "2021-03-19T00:00:00",
          "2021-03-20T00:00:00",
          "2021-03-21T00:00:00",
          "2021-03-22T00:00:00",
          "2021-03-23T00:00:00",
          "2021-03-24T00:00:00",
          "2021-03-25T00:00:00",
          "2021-03-26T00:00:00",
          "2021-03-27T00:00:00",
          "2021-03-28T00:00:00",
          "2021-03-29T00:00:00",
          "2021-03-30T00:00:00",
          "2021-03-31T00:00:00",
          "2021-04-01T00:00:00",
          "2021-04-02T00:00:00",
          "2021-04-03T00:00:00",
          "2021-04-04T00:00:00",
          "2021-04-05T00:00:00",
          "2021-04-06T00:00:00",
          "2021-04-07T00:00:00",
          "2021-04-08T00:00:00",
          "2021-04-09T00:00:00",
          "2021-04-10T00:00:00",
          "2021-04-11T00:00:00",
          "2021-04-12T00:00:00",
          "2021-04-13T00:00:00"
         ],
         "xaxis": "x",
         "y": [
          5677,
          6142,
          6711,
          2290,
          763,
          7274,
          7783,
          7592,
          1132,
          6662,
          2445,
          796,
          6699,
          7433,
          6244,
          6146,
          6516,
          2566,
          852,
          1051,
          6250,
          5752,
          5656,
          6007,
          2309,
          716,
          5726,
          5629,
          5333,
          5298,
          5713,
          2320,
          665,
          5304,
          5374,
          5149,
          5025,
          5772,
          2568,
          663,
          6037,
          6293,
          6142,
          5354,
          6492,
          2814,
          869,
          8024,
          8025,
          8117,
          7822,
          8553,
          3849,
          956,
          9569,
          10119,
          10597,
          11301,
          12395,
          4963,
          1031,
          12113,
          1587,
          13160,
          14583,
          15697,
          6277,
          1655,
          14366,
          14510,
          14463,
          14620,
          15414,
          6647,
          2146,
          16160,
          16762,
          17685,
          17619,
          17533,
          7279,
          2444,
          17566,
          16762,
          17575,
          18579,
          18234,
          7832,
          2578,
          18322,
          16674,
          18237,
          19790,
          20951,
          3821,
          3464,
          24191,
          22928,
          23361,
          24837,
          26252,
          10654,
          3440,
          30058,
          28603,
          29507,
          31962,
          32329,
          13046,
          4263,
          35111,
          32853,
          32727,
          35045,
          35619,
          13935,
          4134,
          39854,
          40874,
          40311,
          42818,
          41790,
          15337,
          4366,
          43952,
          43203,
          39140,
          38823,
          36479,
          13332,
          4045,
          36167,
          33142,
          29909,
          30606,
          30473,
          11805,
          3145,
          32144,
          29152,
          27829,
          29526,
          30201,
          12424,
          3364,
          34999,
          32410,
          32126,
          35774,
          39003,
          16546,
          4546,
          44906,
          41947,
          41950,
          47417,
          50069,
          20847,
          5889,
          54348,
          50688,
          52323,
          57387,
          62601,
          26294,
          7192,
          67043,
          62223,
          60108,
          60810,
          63620,
          27088,
          6843,
          67592,
          58782,
          52699,
          55738,
          56195,
          21435,
          4697,
          55129,
          49386,
          7332,
          50804,
          43598,
          16010,
          3666,
          43285,
          36823,
          30433,
          34438,
          34946,
          15103,
          3328,
          35934,
          30584,
          28406,
          30588,
          31399,
          14261,
          3316,
          33306,
          29002,
          26822,
          30566,
          31654,
          15539,
          3671,
          37814,
          34043,
          31888,
          35740,
          38690,
          20844,
          5524,
          49484,
          48354,
          53684,
          67034,
          83379,
          54763,
          18898,
          110373,
          123809,
          126550,
          90197,
          6600,
          39585,
          8613,
          65538,
          57486,
          63138,
          55203,
          5487,
          37295,
          7731,
          67626,
          54152,
          48145,
          51876,
          54772,
          29549,
          7093,
          59920,
          51557,
          47889,
          52510,
          55090,
          31333,
          7373,
          60512,
          52355,
          51568,
          57118,
          62231,
          33060,
          6915,
          67759,
          57930,
          56383,
          65082,
          67716,
          36236,
          7175,
          69351,
          60337,
          56305,
          62450,
          67515,
          36054,
          7021,
          66875,
          58694,
          55183,
          59985,
          64830,
          34230,
          6833,
          65582,
          57113,
          54230,
          59893,
          65491,
          34497,
          6982,
          64740,
          55355,
          53800,
          58386,
          63994,
          33431,
          7095,
          63237,
          52682,
          51977,
          56037,
          61679,
          34113,
          7333,
          65848,
          55235,
          55399,
          66463,
          72490,
          41310,
          9393,
          76594,
          67096,
          64321,
          73252,
          82261,
          45520,
          9983,
          88012,
          79386,
          76754,
          87163,
          95700,
          56044,
          10330,
          100958,
          94592,
          89083,
          102862,
          106580,
          67427,
          11701,
          17816,
          101744,
          80250,
          79937,
          84302,
          50030,
          10235,
          78986,
          64411
         ],
         "yaxis": "y"
        }
       ],
       "layout": {
        "barmode": "relative",
        "coloraxis": {
         "colorbar": {
          "title": {
           "text": "% positive tests"
          }
         },
         "colorscale": [
          [
           0,
           "#0d0887"
          ],
          [
           0.1111111111111111,
           "#46039f"
          ],
          [
           0.2222222222222222,
           "#7201a8"
          ],
          [
           0.3333333333333333,
           "#9c179e"
          ],
          [
           0.4444444444444444,
           "#bd3786"
          ],
          [
           0.5555555555555556,
           "#d8576b"
          ],
          [
           0.6666666666666666,
           "#ed7953"
          ],
          [
           0.7777777777777778,
           "#fb9f3a"
          ],
          [
           0.8888888888888888,
           "#fdca26"
          ],
          [
           1,
           "#f0f921"
          ]
         ]
        },
        "height": 600,
        "legend": {
         "tracegroupgap": 0
        },
        "template": {
         "data": {
          "bar": [
           {
            "error_x": {
             "color": "#2a3f5f"
            },
            "error_y": {
             "color": "#2a3f5f"
            },
            "marker": {
             "line": {
              "color": "#E5ECF6",
              "width": 0.5
             }
            },
            "type": "bar"
           }
          ],
          "barpolar": [
           {
            "marker": {
             "line": {
              "color": "#E5ECF6",
              "width": 0.5
             }
            },
            "type": "barpolar"
           }
          ],
          "carpet": [
           {
            "aaxis": {
             "endlinecolor": "#2a3f5f",
             "gridcolor": "white",
             "linecolor": "white",
             "minorgridcolor": "white",
             "startlinecolor": "#2a3f5f"
            },
            "baxis": {
             "endlinecolor": "#2a3f5f",
             "gridcolor": "white",
             "linecolor": "white",
             "minorgridcolor": "white",
             "startlinecolor": "#2a3f5f"
            },
            "type": "carpet"
           }
          ],
          "choropleth": [
           {
            "colorbar": {
             "outlinewidth": 0,
             "ticks": ""
            },
            "type": "choropleth"
           }
          ],
          "contour": [
           {
            "colorbar": {
             "outlinewidth": 0,
             "ticks": ""
            },
            "colorscale": [
             [
              0,
              "#0d0887"
             ],
             [
              0.1111111111111111,
              "#46039f"
             ],
             [
              0.2222222222222222,
              "#7201a8"
             ],
             [
              0.3333333333333333,
              "#9c179e"
             ],
             [
              0.4444444444444444,
              "#bd3786"
             ],
             [
              0.5555555555555556,
              "#d8576b"
             ],
             [
              0.6666666666666666,
              "#ed7953"
             ],
             [
              0.7777777777777778,
              "#fb9f3a"
             ],
             [
              0.8888888888888888,
              "#fdca26"
             ],
             [
              1,
              "#f0f921"
             ]
            ],
            "type": "contour"
           }
          ],
          "contourcarpet": [
           {
            "colorbar": {
             "outlinewidth": 0,
             "ticks": ""
            },
            "type": "contourcarpet"
           }
          ],
          "heatmap": [
           {
            "colorbar": {
             "outlinewidth": 0,
             "ticks": ""
            },
            "colorscale": [
             [
              0,
              "#0d0887"
             ],
             [
              0.1111111111111111,
              "#46039f"
             ],
             [
              0.2222222222222222,
              "#7201a8"
             ],
             [
              0.3333333333333333,
              "#9c179e"
             ],
             [
              0.4444444444444444,
              "#bd3786"
             ],
             [
              0.5555555555555556,
              "#d8576b"
             ],
             [
              0.6666666666666666,
              "#ed7953"
             ],
             [
              0.7777777777777778,
              "#fb9f3a"
             ],
             [
              0.8888888888888888,
              "#fdca26"
             ],
             [
              1,
              "#f0f921"
             ]
            ],
            "type": "heatmap"
           }
          ],
          "heatmapgl": [
           {
            "colorbar": {
             "outlinewidth": 0,
             "ticks": ""
            },
            "colorscale": [
             [
              0,
              "#0d0887"
             ],
             [
              0.1111111111111111,
              "#46039f"
             ],
             [
              0.2222222222222222,
              "#7201a8"
             ],
             [
              0.3333333333333333,
              "#9c179e"
             ],
             [
              0.4444444444444444,
              "#bd3786"
             ],
             [
              0.5555555555555556,
              "#d8576b"
             ],
             [
              0.6666666666666666,
              "#ed7953"
             ],
             [
              0.7777777777777778,
              "#fb9f3a"
             ],
             [
              0.8888888888888888,
              "#fdca26"
             ],
             [
              1,
              "#f0f921"
             ]
            ],
            "type": "heatmapgl"
           }
          ],
          "histogram": [
           {
            "marker": {
             "colorbar": {
              "outlinewidth": 0,
              "ticks": ""
             }
            },
            "type": "histogram"
           }
          ],
          "histogram2d": [
           {
            "colorbar": {
             "outlinewidth": 0,
             "ticks": ""
            },
            "colorscale": [
             [
              0,
              "#0d0887"
             ],
             [
              0.1111111111111111,
              "#46039f"
             ],
             [
              0.2222222222222222,
              "#7201a8"
             ],
             [
              0.3333333333333333,
              "#9c179e"
             ],
             [
              0.4444444444444444,
              "#bd3786"
             ],
             [
              0.5555555555555556,
              "#d8576b"
             ],
             [
              0.6666666666666666,
              "#ed7953"
             ],
             [
              0.7777777777777778,
              "#fb9f3a"
             ],
             [
              0.8888888888888888,
              "#fdca26"
             ],
             [
              1,
              "#f0f921"
             ]
            ],
            "type": "histogram2d"
           }
          ],
          "histogram2dcontour": [
           {
            "colorbar": {
             "outlinewidth": 0,
             "ticks": ""
            },
            "colorscale": [
             [
              0,
              "#0d0887"
             ],
             [
              0.1111111111111111,
              "#46039f"
             ],
             [
              0.2222222222222222,
              "#7201a8"
             ],
             [
              0.3333333333333333,
              "#9c179e"
             ],
             [
              0.4444444444444444,
              "#bd3786"
             ],
             [
              0.5555555555555556,
              "#d8576b"
             ],
             [
              0.6666666666666666,
              "#ed7953"
             ],
             [
              0.7777777777777778,
              "#fb9f3a"
             ],
             [
              0.8888888888888888,
              "#fdca26"
             ],
             [
              1,
              "#f0f921"
             ]
            ],
            "type": "histogram2dcontour"
           }
          ],
          "mesh3d": [
           {
            "colorbar": {
             "outlinewidth": 0,
             "ticks": ""
            },
            "type": "mesh3d"
           }
          ],
          "parcoords": [
           {
            "line": {
             "colorbar": {
              "outlinewidth": 0,
              "ticks": ""
             }
            },
            "type": "parcoords"
           }
          ],
          "pie": [
           {
            "automargin": true,
            "type": "pie"
           }
          ],
          "scatter": [
           {
            "marker": {
             "colorbar": {
              "outlinewidth": 0,
              "ticks": ""
             }
            },
            "type": "scatter"
           }
          ],
          "scatter3d": [
           {
            "line": {
             "colorbar": {
              "outlinewidth": 0,
              "ticks": ""
             }
            },
            "marker": {
             "colorbar": {
              "outlinewidth": 0,
              "ticks": ""
             }
            },
            "type": "scatter3d"
           }
          ],
          "scattercarpet": [
           {
            "marker": {
             "colorbar": {
              "outlinewidth": 0,
              "ticks": ""
             }
            },
            "type": "scattercarpet"
           }
          ],
          "scattergeo": [
           {
            "marker": {
             "colorbar": {
              "outlinewidth": 0,
              "ticks": ""
             }
            },
            "type": "scattergeo"
           }
          ],
          "scattergl": [
           {
            "marker": {
             "colorbar": {
              "outlinewidth": 0,
              "ticks": ""
             }
            },
            "type": "scattergl"
           }
          ],
          "scattermapbox": [
           {
            "marker": {
             "colorbar": {
              "outlinewidth": 0,
              "ticks": ""
             }
            },
            "type": "scattermapbox"
           }
          ],
          "scatterpolar": [
           {
            "marker": {
             "colorbar": {
              "outlinewidth": 0,
              "ticks": ""
             }
            },
            "type": "scatterpolar"
           }
          ],
          "scatterpolargl": [
           {
            "marker": {
             "colorbar": {
              "outlinewidth": 0,
              "ticks": ""
             }
            },
            "type": "scatterpolargl"
           }
          ],
          "scatterternary": [
           {
            "marker": {
             "colorbar": {
              "outlinewidth": 0,
              "ticks": ""
             }
            },
            "type": "scatterternary"
           }
          ],
          "surface": [
           {
            "colorbar": {
             "outlinewidth": 0,
             "ticks": ""
            },
            "colorscale": [
             [
              0,
              "#0d0887"
             ],
             [
              0.1111111111111111,
              "#46039f"
             ],
             [
              0.2222222222222222,
              "#7201a8"
             ],
             [
              0.3333333333333333,
              "#9c179e"
             ],
             [
              0.4444444444444444,
              "#bd3786"
             ],
             [
              0.5555555555555556,
              "#d8576b"
             ],
             [
              0.6666666666666666,
              "#ed7953"
             ],
             [
              0.7777777777777778,
              "#fb9f3a"
             ],
             [
              0.8888888888888888,
              "#fdca26"
             ],
             [
              1,
              "#f0f921"
             ]
            ],
            "type": "surface"
           }
          ],
          "table": [
           {
            "cells": {
             "fill": {
              "color": "#EBF0F8"
             },
             "line": {
              "color": "white"
             }
            },
            "header": {
             "fill": {
              "color": "#C8D4E3"
             },
             "line": {
              "color": "white"
             }
            },
            "type": "table"
           }
          ]
         },
         "layout": {
          "annotationdefaults": {
           "arrowcolor": "#2a3f5f",
           "arrowhead": 0,
           "arrowwidth": 1
          },
          "autotypenumbers": "strict",
          "coloraxis": {
           "colorbar": {
            "outlinewidth": 0,
            "ticks": ""
           }
          },
          "colorscale": {
           "diverging": [
            [
             0,
             "#8e0152"
            ],
            [
             0.1,
             "#c51b7d"
            ],
            [
             0.2,
             "#de77ae"
            ],
            [
             0.3,
             "#f1b6da"
            ],
            [
             0.4,
             "#fde0ef"
            ],
            [
             0.5,
             "#f7f7f7"
            ],
            [
             0.6,
             "#e6f5d0"
            ],
            [
             0.7,
             "#b8e186"
            ],
            [
             0.8,
             "#7fbc41"
            ],
            [
             0.9,
             "#4d9221"
            ],
            [
             1,
             "#276419"
            ]
           ],
           "sequential": [
            [
             0,
             "#0d0887"
            ],
            [
             0.1111111111111111,
             "#46039f"
            ],
            [
             0.2222222222222222,
             "#7201a8"
            ],
            [
             0.3333333333333333,
             "#9c179e"
            ],
            [
             0.4444444444444444,
             "#bd3786"
            ],
            [
             0.5555555555555556,
             "#d8576b"
            ],
            [
             0.6666666666666666,
             "#ed7953"
            ],
            [
             0.7777777777777778,
             "#fb9f3a"
            ],
            [
             0.8888888888888888,
             "#fdca26"
            ],
            [
             1,
             "#f0f921"
            ]
           ],
           "sequentialminus": [
            [
             0,
             "#0d0887"
            ],
            [
             0.1111111111111111,
             "#46039f"
            ],
            [
             0.2222222222222222,
             "#7201a8"
            ],
            [
             0.3333333333333333,
             "#9c179e"
            ],
            [
             0.4444444444444444,
             "#bd3786"
            ],
            [
             0.5555555555555556,
             "#d8576b"
            ],
            [
             0.6666666666666666,
             "#ed7953"
            ],
            [
             0.7777777777777778,
             "#fb9f3a"
            ],
            [
             0.8888888888888888,
             "#fdca26"
            ],
            [
             1,
             "#f0f921"
            ]
           ]
          },
          "colorway": [
           "#636efa",
           "#EF553B",
           "#00cc96",
           "#ab63fa",
           "#FFA15A",
           "#19d3f3",
           "#FF6692",
           "#B6E880",
           "#FF97FF",
           "#FECB52"
          ],
          "font": {
           "color": "#2a3f5f"
          },
          "geo": {
           "bgcolor": "white",
           "lakecolor": "white",
           "landcolor": "#E5ECF6",
           "showlakes": true,
           "showland": true,
           "subunitcolor": "white"
          },
          "hoverlabel": {
           "align": "left"
          },
          "hovermode": "closest",
          "mapbox": {
           "style": "light"
          },
          "paper_bgcolor": "white",
          "plot_bgcolor": "#E5ECF6",
          "polar": {
           "angularaxis": {
            "gridcolor": "white",
            "linecolor": "white",
            "ticks": ""
           },
           "bgcolor": "#E5ECF6",
           "radialaxis": {
            "gridcolor": "white",
            "linecolor": "white",
            "ticks": ""
           }
          },
          "scene": {
           "xaxis": {
            "backgroundcolor": "#E5ECF6",
            "gridcolor": "white",
            "gridwidth": 2,
            "linecolor": "white",
            "showbackground": true,
            "ticks": "",
            "zerolinecolor": "white"
           },
           "yaxis": {
            "backgroundcolor": "#E5ECF6",
            "gridcolor": "white",
            "gridwidth": 2,
            "linecolor": "white",
            "showbackground": true,
            "ticks": "",
            "zerolinecolor": "white"
           },
           "zaxis": {
            "backgroundcolor": "#E5ECF6",
            "gridcolor": "white",
            "gridwidth": 2,
            "linecolor": "white",
            "showbackground": true,
            "ticks": "",
            "zerolinecolor": "white"
           }
          },
          "shapedefaults": {
           "line": {
            "color": "#2a3f5f"
           }
          },
          "ternary": {
           "aaxis": {
            "gridcolor": "white",
            "linecolor": "white",
            "ticks": ""
           },
           "baxis": {
            "gridcolor": "white",
            "linecolor": "white",
            "ticks": ""
           },
           "bgcolor": "#E5ECF6",
           "caxis": {
            "gridcolor": "white",
            "linecolor": "white",
            "ticks": ""
           }
          },
          "title": {
           "x": 0.05
          },
          "xaxis": {
           "automargin": true,
           "gridcolor": "white",
           "linecolor": "white",
           "ticks": "",
           "title": {
            "standoff": 15
           },
           "zerolinecolor": "white",
           "zerolinewidth": 2
          },
          "yaxis": {
           "automargin": true,
           "gridcolor": "white",
           "linecolor": "white",
           "ticks": "",
           "title": {
            "standoff": 15
           },
           "zerolinecolor": "white",
           "zerolinewidth": 2
          }
         }
        },
        "title": {
         "text": "Covid Screening in France for the age class 39"
        },
        "width": 1000,
        "xaxis": {
         "anchor": "y",
         "domain": [
          0,
          1
         ],
         "rangeslider": {
          "visible": true
         },
         "title": {
          "text": "date"
         }
        },
        "yaxis": {
         "anchor": "x",
         "domain": [
          0,
          1
         ],
         "title": {
          "text": "Tests number"
         }
        }
       }
      }
     },
     "metadata": {}
    }
   ],
   "source": [
    "daily_test_age(39)"
   ]
  },
  {
   "cell_type": "code",
   "execution_count": null,
   "metadata": {},
   "outputs": [],
   "source": []
  }
 ]
}