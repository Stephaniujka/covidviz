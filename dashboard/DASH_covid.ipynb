{
  "nbformat": 4,
  "nbformat_minor": 0,
  "metadata": {
    "colab": {
      "name": "DASH_covid.ipynb",
      "provenance": [],
      "collapsed_sections": [],
      "toc_visible": true
    },
    "kernelspec": {
      "name": "python3",
      "display_name": "Python 3"
    }
  },
  "cells": [
    {
      "cell_type": "markdown",
      "metadata": {
        "id": "Cx62f5K4iM9p"
      },
      "source": [
        "# Setup"
      ]
    },
    {
      "cell_type": "code",
      "metadata": {
        "id": "i6kp2WyDiqA6"
      },
      "source": [
        "%%sh\n",
        "pip install -q dash\n",
        "pip install -q dash_core_components\n",
        "pip install -q dash_html_components\n",
        "pip install -q dash_table"
      ],
      "execution_count": 1,
      "outputs": []
    },
    {
      "cell_type": "code",
      "metadata": {
        "id": "uuHS64aNk6oK",
        "colab": {
          "base_uri": "https://localhost:8080/"
        },
        "outputId": "04c6423a-08f2-4fad-df35-ae1656154c02"
      },
      "source": [
        "%%sh\n",
        "# get ngrok\n",
        "curl -O https://bin.equinox.io/c/4VmDzA7iaHb/ngrok-stable-linux-amd64.zip\n",
        "unzip ngrok-stable-linux-amd64.zip"
      ],
      "execution_count": 2,
      "outputs": [
        {
          "output_type": "stream",
          "text": [
            "Archive:  ngrok-stable-linux-amd64.zip\n",
            "  inflating: ngrok                   \n"
          ],
          "name": "stdout"
        },
        {
          "output_type": "stream",
          "text": [
            "  % Total    % Received % Xferd  Average Speed   Time    Time     Time  Current\n",
            "                                 Dload  Upload   Total   Spent    Left  Speed\n",
            "\r  0     0    0     0    0     0      0      0 --:--:-- --:--:-- --:--:--     0\r  1 14.0M    1  212k    0     0   642k      0  0:00:22 --:--:--  0:00:22  640k\r100 14.0M  100 14.0M    0     0  24.5M      0 --:--:-- --:--:-- --:--:-- 24.5M\n"
          ],
          "name": "stderr"
        }
      ]
    },
    {
      "cell_type": "markdown",
      "metadata": {
        "id": "QVb3TaoVtFom"
      },
      "source": [
        "# Dash"
      ]
    },
    {
      "cell_type": "code",
      "metadata": {
        "id": "TPwPq0JLtMVQ",
        "colab": {
          "base_uri": "https://localhost:8080/"
        },
        "outputId": "d1fed5b4-ec87-408a-cb35-70e93db0ad5b"
      },
      "source": [
        "%%writefile dash_app.py\n",
        "\n",
        "import dash\n",
        "import pandas as pd\n",
        "import dash_core_components as dcc\n",
        "import dash_html_components as html\n",
        "from dash.dependencies import Input, Output\n",
        "import plotly.express as px\n",
        "\n",
        "df = pd.read_csv('df_vacc.csv', index_col=0, parse_dates=True)\n",
        "df.index = pd.to_datetime(df['date'])\n",
        "\n",
        "\n",
        "import plotly.graph_objects as go # or plotly.express as px\n",
        "fig = px.line(df, x=df.index, \n",
        "              y= df[\"weekly\"],\n",
        "              color='codelocation',\n",
        "              template='plotly_dark').update_layout(\n",
        "                  {'plot_bgcolor': 'rgba(0, 0, 0, 0)',\n",
        "                   'paper_bgcolor': 'rgba(0, 0, 0, 0)'})\n",
        "\n",
        "config = dict({'scrollZoom': True})\n",
        "              \n",
        "\n",
        "# Creates a list of dictionaries, which have the keys 'label' and 'value'.\n",
        "def get_options(list_location):\n",
        "  dict_list = []\n",
        "  for i in list_location:\n",
        "    dict_list.append({'label': i, 'value': i})\n",
        "  return dict_list\n",
        "\n",
        "\n",
        "app = dash.Dash(__name__)\n",
        "\n",
        "app.layout = html.Div(\n",
        "    children=[\n",
        "        html.Div(className='row',\n",
        "                 children=[\n",
        "                    html.Div(className='four columns div-user-controls',\n",
        "                             children=[\n",
        "                                 html.H2('COVID DASHBOARD'),\n",
        "                                 html.P('Visualising time series with Plotly - Dash.'),\n",
        "                                 html.P('Pick one or more location from the dropdown below.'),\n",
        "                                 html.Div(className='div-for-dropdown',\n",
        "                                          children=[\n",
        "                                                    dcc.Dropdown(id='locselector',\n",
        "                                                                 options=get_options(df['codelocation'].unique()),\n",
        "                                                                 multi=True,\n",
        "                                                                 value=[df['codelocation'].sort_values()[0]],\n",
        "                                                                 style={'backgroundColor': '#1E1E1E'},\n",
        "                                                                 className='locselector')\n",
        "                                                    ],\n",
        "                                          style={'color': '#1E1E1E'})\n",
        "                                 ]\n",
        "                             ),\n",
        "                    html.Div(className='eight columns div-for-charts bg-grey',\n",
        "                             children=[\n",
        "    dcc.Graph(id='timeseries',\n",
        "              config={'displayModeBar': False},\n",
        "              animate=True,\n",
        "              figure=fig)\n",
        "])\n",
        "                    \n",
        "                    ])\n",
        "                              ])\n",
        "\n",
        "app.run_server(debug=True)"
      ],
      "execution_count": 3,
      "outputs": [
        {
          "output_type": "stream",
          "text": [
            "Writing dash_app.py\n"
          ],
          "name": "stdout"
        }
      ]
    },
    {
      "cell_type": "code",
      "metadata": {
        "id": "5hKnCayGlyd_"
      },
      "source": [
        "# launch ngrok\n",
        "get_ipython().system_raw('./ngrok http 8050 &')"
      ],
      "execution_count": 4,
      "outputs": []
    },
    {
      "cell_type": "code",
      "metadata": {
        "id": "UK2SIu8qsHPK",
        "colab": {
          "base_uri": "https://localhost:8080/"
        },
        "outputId": "5bea4616-2c07-4967-ecf0-8dde46435cf8"
      },
      "source": [
        "%%sh\n",
        "# get url with ngrok\n",
        "curl -s http://localhost:4040/api/tunnels | python3 -c \"import sys, json; print(json.load(sys.stdin)['tunnels'][0]['public_url'])\""
      ],
      "execution_count": 5,
      "outputs": [
        {
          "output_type": "stream",
          "text": [
            "https://f5e07325de20.ngrok.io\n"
          ],
          "name": "stdout"
        }
      ]
    },
    {
      "cell_type": "code",
      "metadata": {
        "id": "ycoF8TVXjos6",
        "colab": {
          "base_uri": "https://localhost:8080/"
        },
        "outputId": "147af94f-f155-4f47-8680-c846dc33a06f"
      },
      "source": [
        "!python dash_app.py"
      ],
      "execution_count": 6,
      "outputs": [
        {
          "output_type": "stream",
          "text": [
            "Dash is running on http://127.0.0.1:8050/\n",
            "\n",
            " * Serving Flask app \"dash_app\" (lazy loading)\n",
            " * Environment: production\n",
            "\u001b[31m   WARNING: This is a development server. Do not use it in a production deployment.\u001b[0m\n",
            "\u001b[2m   Use a production WSGI server instead.\u001b[0m\n",
            " * Debug mode: on\n"
          ],
          "name": "stdout"
        }
      ]
    }
  ]
}