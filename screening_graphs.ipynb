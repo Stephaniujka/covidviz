{
 "metadata": {
  "language_info": {
   "codemirror_mode": {
    "name": "ipython",
    "version": 3
   },
   "file_extension": ".py",
   "mimetype": "text/x-python",
   "name": "python",
   "nbconvert_exporter": "python",
   "pygments_lexer": "ipython3",
   "version": "3.8.8-final"
  },
  "orig_nbformat": 2,
  "kernelspec": {
   "name": "python388jvsc74a57bd0f2553dd8eab56fa176af5ba2b5dc4cf53e056913a0b7c75b8a54aa30280dccb2",
   "display_name": "Python 3.8.8 64-bit ('stef_env': conda)"
  }
 },
 "nbformat": 4,
 "nbformat_minor": 2,
 "cells": [
  {
   "cell_type": "code",
   "execution_count": 59,
   "metadata": {},
   "outputs": [],
   "source": [
    "import pandas as pd\n",
    "import plotly.express as px"
   ]
  },
  {
   "cell_type": "code",
   "execution_count": 38,
   "metadata": {},
   "outputs": [],
   "source": [
    "screening_daily = pd.read_csv('screening/data/sp-pos-quot-dep-2021-04-16-19h05.csv', delimiter=';', low_memory=False)"
   ]
  },
  {
   "cell_type": "code",
   "execution_count": 39,
   "metadata": {},
   "outputs": [],
   "source": [
    "screening_daily.rename(columns={'cl_age90' : 'cl_age', 'jour' : 'date', 'T' : 'Tests number', 'P' : 'Positive tests'}, inplace=True)"
   ]
  },
  {
   "cell_type": "code",
   "execution_count": 58,
   "metadata": {},
   "outputs": [
    {
     "output_type": "execute_result",
     "data": {
      "text/plain": [
       "  dep        date  Positive tests  Tests number  cl_age      pop\n",
       "0  01  2020-05-13               0            16       9  83001.0\n",
       "1  01  2020-05-13               1            17      19  84665.0\n",
       "2  01  2020-05-13               0            34      29  65496.0\n",
       "3  01  2020-05-13               1            72      39  85588.0\n",
       "4  01  2020-05-13               0            54      49  89678.0"
      ],
      "text/html": "<div>\n<style scoped>\n    .dataframe tbody tr th:only-of-type {\n        vertical-align: middle;\n    }\n\n    .dataframe tbody tr th {\n        vertical-align: top;\n    }\n\n    .dataframe thead th {\n        text-align: right;\n    }\n</style>\n<table border=\"1\" class=\"dataframe\">\n  <thead>\n    <tr style=\"text-align: right;\">\n      <th></th>\n      <th>dep</th>\n      <th>date</th>\n      <th>Positive tests</th>\n      <th>Tests number</th>\n      <th>cl_age</th>\n      <th>pop</th>\n    </tr>\n  </thead>\n  <tbody>\n    <tr>\n      <th>0</th>\n      <td>01</td>\n      <td>2020-05-13</td>\n      <td>0</td>\n      <td>16</td>\n      <td>9</td>\n      <td>83001.0</td>\n    </tr>\n    <tr>\n      <th>1</th>\n      <td>01</td>\n      <td>2020-05-13</td>\n      <td>1</td>\n      <td>17</td>\n      <td>19</td>\n      <td>84665.0</td>\n    </tr>\n    <tr>\n      <th>2</th>\n      <td>01</td>\n      <td>2020-05-13</td>\n      <td>0</td>\n      <td>34</td>\n      <td>29</td>\n      <td>65496.0</td>\n    </tr>\n    <tr>\n      <th>3</th>\n      <td>01</td>\n      <td>2020-05-13</td>\n      <td>1</td>\n      <td>72</td>\n      <td>39</td>\n      <td>85588.0</td>\n    </tr>\n    <tr>\n      <th>4</th>\n      <td>01</td>\n      <td>2020-05-13</td>\n      <td>0</td>\n      <td>54</td>\n      <td>49</td>\n      <td>89678.0</td>\n    </tr>\n  </tbody>\n</table>\n</div>"
     },
     "metadata": {},
     "execution_count": 58
    }
   ],
   "source": [
    "screening_daily.head()"
   ]
  },
  {
   "cell_type": "code",
   "execution_count": 40,
   "metadata": {},
   "outputs": [],
   "source": [
    "DEP = pd.DataFrame(screening_daily['dep'].unique())\n",
    "DEP.set_axis(['code'], axis=1, inplace=True)"
   ]
  },
  {
   "cell_type": "code",
   "execution_count": 41,
   "metadata": {},
   "outputs": [],
   "source": [
    "AGE = pd.DataFrame(screening_daily['cl_age'].unique())\n",
    "AGE.set_axis(['classe'], axis=1, inplace=True)"
   ]
  },
  {
   "cell_type": "code",
   "execution_count": null,
   "metadata": {},
   "outputs": [],
   "source": [
    "DATE = pd.DataFrame(screening_daily['date'].unique())\n",
    "DATE.set_axis(['day'], axis=1, inplace=True)"
   ]
  },
  {
   "cell_type": "code",
   "execution_count": 73,
   "metadata": {},
   "outputs": [
    {
     "output_type": "stream",
     "name": "stderr",
     "text": [
      "/Users/stef/opt/anaconda3/envs/stef_env/lib/python3.8/site-packages/pandas/core/frame.py:4308: SettingWithCopyWarning:\n\n\nA value is trying to be set on a copy of a slice from a DataFrame\n\nSee the caveats in the documentation: https://pandas.pydata.org/pandas-docs/stable/user_guide/indexing.html#returning-a-view-versus-a-copy\n\n/Users/stef/opt/anaconda3/envs/stef_env/lib/python3.8/site-packages/pandas/core/frame.py:4308: SettingWithCopyWarning:\n\n\nA value is trying to be set on a copy of a slice from a DataFrame\n\nSee the caveats in the documentation: https://pandas.pydata.org/pandas-docs/stable/user_guide/indexing.html#returning-a-view-versus-a-copy\n\n/Users/stef/opt/anaconda3/envs/stef_env/lib/python3.8/site-packages/pandas/core/frame.py:4308: SettingWithCopyWarning:\n\n\nA value is trying to be set on a copy of a slice from a DataFrame\n\nSee the caveats in the documentation: https://pandas.pydata.org/pandas-docs/stable/user_guide/indexing.html#returning-a-view-versus-a-copy\n\n/Users/stef/opt/anaconda3/envs/stef_env/lib/python3.8/site-packages/pandas/core/frame.py:4308: SettingWithCopyWarning:\n\n\nA value is trying to be set on a copy of a slice from a DataFrame\n\nSee the caveats in the documentation: https://pandas.pydata.org/pandas-docs/stable/user_guide/indexing.html#returning-a-view-versus-a-copy\n\n/Users/stef/opt/anaconda3/envs/stef_env/lib/python3.8/site-packages/pandas/core/frame.py:4308: SettingWithCopyWarning:\n\n\nA value is trying to be set on a copy of a slice from a DataFrame\n\nSee the caveats in the documentation: https://pandas.pydata.org/pandas-docs/stable/user_guide/indexing.html#returning-a-view-versus-a-copy\n\n/Users/stef/opt/anaconda3/envs/stef_env/lib/python3.8/site-packages/pandas/core/frame.py:4308: SettingWithCopyWarning:\n\n\nA value is trying to be set on a copy of a slice from a DataFrame\n\nSee the caveats in the documentation: https://pandas.pydata.org/pandas-docs/stable/user_guide/indexing.html#returning-a-view-versus-a-copy\n\n/Users/stef/opt/anaconda3/envs/stef_env/lib/python3.8/site-packages/pandas/core/frame.py:4308: SettingWithCopyWarning:\n\n\nA value is trying to be set on a copy of a slice from a DataFrame\n\nSee the caveats in the documentation: https://pandas.pydata.org/pandas-docs/stable/user_guide/indexing.html#returning-a-view-versus-a-copy\n\n/Users/stef/opt/anaconda3/envs/stef_env/lib/python3.8/site-packages/pandas/core/frame.py:4308: SettingWithCopyWarning:\n\n\nA value is trying to be set on a copy of a slice from a DataFrame\n\nSee the caveats in the documentation: https://pandas.pydata.org/pandas-docs/stable/user_guide/indexing.html#returning-a-view-versus-a-copy\n\n/Users/stef/opt/anaconda3/envs/stef_env/lib/python3.8/site-packages/pandas/core/frame.py:4308: SettingWithCopyWarning:\n\n\nA value is trying to be set on a copy of a slice from a DataFrame\n\nSee the caveats in the documentation: https://pandas.pydata.org/pandas-docs/stable/user_guide/indexing.html#returning-a-view-versus-a-copy\n\n/Users/stef/opt/anaconda3/envs/stef_env/lib/python3.8/site-packages/pandas/core/frame.py:4308: SettingWithCopyWarning:\n\n\nA value is trying to be set on a copy of a slice from a DataFrame\n\nSee the caveats in the documentation: https://pandas.pydata.org/pandas-docs/stable/user_guide/indexing.html#returning-a-view-versus-a-copy\n\n/Users/stef/opt/anaconda3/envs/stef_env/lib/python3.8/site-packages/pandas/core/frame.py:4308: SettingWithCopyWarning:\n\n\nA value is trying to be set on a copy of a slice from a DataFrame\n\nSee the caveats in the documentation: https://pandas.pydata.org/pandas-docs/stable/user_guide/indexing.html#returning-a-view-versus-a-copy\n\n"
     ]
    }
   ],
   "source": [
    "screening_daily_age = {}\n",
    "for age in AGE['classe'].tolist():\n",
    "    screening_daily_age[age] = screening_daily[screening_daily['cl_age'] == age]\n",
    "    screening_daily_age[age].drop(['cl_age'], axis=1, inplace=True)\n",
    "    screening_daily_age[age] = screening_daily_age[age].reset_index()"
   ]
  },
  {
   "cell_type": "code",
   "execution_count": 74,
   "metadata": {},
   "outputs": [
    {
     "output_type": "stream",
     "name": "stderr",
     "text": [
      "/Users/stef/opt/anaconda3/envs/stef_env/lib/python3.8/site-packages/pandas/core/frame.py:4308: SettingWithCopyWarning:\n\n\nA value is trying to be set on a copy of a slice from a DataFrame\n\nSee the caveats in the documentation: https://pandas.pydata.org/pandas-docs/stable/user_guide/indexing.html#returning-a-view-versus-a-copy\n\n"
     ]
    }
   ],
   "source": [
    "screening_daily_dep = {}\n",
    "for dep_code in DEP['code'].tolist():\n",
    "    screening_daily_dep[dep_code] = screening_daily[screening_daily['dep'] == dep_code]\n",
    "    screening_daily_dep[dep_code].drop(['dep'], axis=1, inplace=True)\n",
    "    screening_daily_dep[dep_code] = screening_daily_dep[dep_code].reset_index()"
   ]
  },
  {
   "cell_type": "code",
   "execution_count": 67,
   "metadata": {},
   "outputs": [],
   "source": [
    "def daily_test(age,department):\n",
    "    df = screening_daily_age[age][screening_daily_age[age]['dep'] == f'{department}']\n",
    "    df.drop(['dep'], axis=1, inplace=True)\n",
    "    df = df.reset_index()\n",
    "\n",
    "    fig = px.bar(df, x='date', y='Tests number', color='Positive tests',\n",
    "             title=f\"Covid Screening in department {department} for class age {age}\", height=600, width=1000)\n",
    "    fig.update_xaxes(rangeslider_visible=True)\n",
    "    return(fig.show())"
   ]
  },
  {
   "cell_type": "code",
   "execution_count": 68,
   "metadata": {},
   "outputs": [
    {
     "output_type": "display_data",
     "data": {
      "application/vnd.plotly.v1+json": {
       "config": {
        "plotlyServerURL": "https://plot.ly"
       },
       "data": [
        {
         "alignmentgroup": "True",
         "hovertemplate": "date=%{x}<br>Tests number=%{y}<br>Positive tests=%{marker.color}<extra></extra>",
         "legendgroup": "",
         "marker": {
          "color": [
           0,
           0,
           0,
           0,
           0,
           0,
           0,
           0,
           0,
           0,
           0,
           0,
           0,
           0,
           0,
           0,
           0,
           0,
           0,
           0,
           0,
           0,
           0,
           0,
           0,
           0,
           0,
           0,
           0,
           0,
           0,
           0,
           0,
           0,
           0,
           0,
           0,
           0,
           0,
           0,
           0,
           0,
           0,
           0,
           0,
           0,
           0,
           0,
           0,
           0,
           0,
           0,
           0,
           0,
           0,
           0,
           0,
           0,
           0,
           0,
           0,
           0,
           0,
           1,
           1,
           1,
           0,
           0,
           0,
           0,
           0,
           0,
           0,
           0,
           1,
           0,
           0,
           0,
           0,
           0,
           1,
           0,
           0,
           0,
           0,
           0,
           0,
           0,
           0,
           0,
           0,
           0,
           0,
           0,
           0,
           0,
           0,
           0,
           0,
           0,
           0,
           0,
           0,
           0,
           0,
           0,
           0,
           0,
           0,
           0,
           0,
           0,
           0,
           0,
           1,
           0,
           0,
           0,
           0,
           0,
           0,
           0,
           0,
           0,
           0,
           0,
           0,
           0,
           0,
           0,
           0,
           0,
           2,
           1,
           0,
           0,
           1,
           0,
           0,
           0,
           0,
           0,
           0,
           0,
           0,
           0,
           0,
           1,
           0,
           2,
           0,
           1,
           0,
           0,
           1,
           1,
           1,
           1,
           0,
           2,
           1,
           0,
           2,
           2,
           1,
           1,
           6,
           2,
           3,
           2,
           3,
           3,
           1,
           1,
           5,
           7,
           2,
           6,
           1,
           2,
           7,
           8,
           3,
           4,
           3,
           3,
           0,
           10,
           5,
           2,
           0,
           0,
           0,
           0,
           0,
           0,
           1,
           1,
           1,
           0,
           0,
           1,
           0,
           4,
           9,
           1,
           0,
           0,
           1,
           1,
           7,
           1,
           0,
           2,
           4,
           1,
           3,
           6,
           3,
           3,
           0,
           0,
           3,
           0,
           5,
           2,
           0,
           0,
           0,
           1,
           4,
           4,
           1,
           0,
           0,
           0,
           2,
           7,
           2,
           0,
           2,
           1,
           1,
           3,
           4,
           1,
           1,
           0,
           0,
           0,
           2,
           4,
           3,
           1,
           2,
           1,
           0,
           1,
           2,
           1,
           2,
           1,
           2,
           0,
           6,
           4,
           5,
           2,
           1,
           1,
           0,
           0,
           5,
           0,
           4,
           1,
           0,
           1,
           2,
           4,
           0,
           7,
           0,
           0,
           0,
           0,
           2,
           0,
           3,
           1,
           3,
           0,
           2,
           0,
           1,
           1,
           3,
           2,
           0,
           1,
           2,
           1,
           0,
           0,
           0,
           0,
           3,
           5,
           1,
           1,
           3,
           0,
           1,
           0,
           1,
           1,
           0,
           1,
           0,
           1,
           2,
           3,
           3,
           7,
           1,
           0,
           1,
           0,
           1,
           2,
           3,
           2,
           0,
           1,
           0,
           1
          ],
          "coloraxis": "coloraxis"
         },
         "name": "",
         "offsetgroup": "",
         "orientation": "v",
         "showlegend": false,
         "textposition": "auto",
         "type": "bar",
         "x": [
          "2020-05-13",
          "2020-05-14",
          "2020-05-15",
          "2020-05-16",
          "2020-05-17",
          "2020-05-18",
          "2020-05-19",
          "2020-05-20",
          "2020-05-21",
          "2020-05-22",
          "2020-05-23",
          "2020-05-24",
          "2020-05-25",
          "2020-05-26",
          "2020-05-27",
          "2020-05-28",
          "2020-05-29",
          "2020-05-30",
          "2020-05-31",
          "2020-06-01",
          "2020-06-02",
          "2020-06-03",
          "2020-06-04",
          "2020-06-05",
          "2020-06-06",
          "2020-06-07",
          "2020-06-08",
          "2020-06-09",
          "2020-06-10",
          "2020-06-11",
          "2020-06-12",
          "2020-06-13",
          "2020-06-14",
          "2020-06-15",
          "2020-06-16",
          "2020-06-17",
          "2020-06-18",
          "2020-06-19",
          "2020-06-20",
          "2020-06-21",
          "2020-06-22",
          "2020-06-23",
          "2020-06-24",
          "2020-06-25",
          "2020-06-26",
          "2020-06-27",
          "2020-06-28",
          "2020-06-29",
          "2020-06-30",
          "2020-07-01",
          "2020-07-02",
          "2020-07-03",
          "2020-07-04",
          "2020-07-05",
          "2020-07-06",
          "2020-07-07",
          "2020-07-08",
          "2020-07-09",
          "2020-07-10",
          "2020-07-11",
          "2020-07-12",
          "2020-07-13",
          "2020-07-14",
          "2020-07-15",
          "2020-07-16",
          "2020-07-17",
          "2020-07-18",
          "2020-07-19",
          "2020-07-20",
          "2020-07-21",
          "2020-07-22",
          "2020-07-23",
          "2020-07-24",
          "2020-07-25",
          "2020-07-26",
          "2020-07-27",
          "2020-07-28",
          "2020-07-29",
          "2020-07-30",
          "2020-07-31",
          "2020-08-01",
          "2020-08-02",
          "2020-08-03",
          "2020-08-04",
          "2020-08-05",
          "2020-08-06",
          "2020-08-07",
          "2020-08-08",
          "2020-08-09",
          "2020-08-10",
          "2020-08-11",
          "2020-08-12",
          "2020-08-13",
          "2020-08-14",
          "2020-08-15",
          "2020-08-16",
          "2020-08-17",
          "2020-08-18",
          "2020-08-19",
          "2020-08-20",
          "2020-08-21",
          "2020-08-22",
          "2020-08-23",
          "2020-08-24",
          "2020-08-25",
          "2020-08-26",
          "2020-08-27",
          "2020-08-28",
          "2020-08-29",
          "2020-08-30",
          "2020-08-31",
          "2020-09-01",
          "2020-09-02",
          "2020-09-03",
          "2020-09-04",
          "2020-09-05",
          "2020-09-06",
          "2020-09-07",
          "2020-09-08",
          "2020-09-09",
          "2020-09-10",
          "2020-09-11",
          "2020-09-12",
          "2020-09-13",
          "2020-09-14",
          "2020-09-15",
          "2020-09-16",
          "2020-09-17",
          "2020-09-18",
          "2020-09-19",
          "2020-09-20",
          "2020-09-21",
          "2020-09-22",
          "2020-09-23",
          "2020-09-24",
          "2020-09-25",
          "2020-09-26",
          "2020-09-27",
          "2020-09-28",
          "2020-09-29",
          "2020-09-30",
          "2020-10-01",
          "2020-10-02",
          "2020-10-03",
          "2020-10-04",
          "2020-10-05",
          "2020-10-06",
          "2020-10-07",
          "2020-10-08",
          "2020-10-09",
          "2020-10-10",
          "2020-10-11",
          "2020-10-12",
          "2020-10-13",
          "2020-10-14",
          "2020-10-15",
          "2020-10-16",
          "2020-10-17",
          "2020-10-18",
          "2020-10-19",
          "2020-10-20",
          "2020-10-21",
          "2020-10-22",
          "2020-10-23",
          "2020-10-24",
          "2020-10-25",
          "2020-10-26",
          "2020-10-27",
          "2020-10-28",
          "2020-10-29",
          "2020-10-30",
          "2020-10-31",
          "2020-11-01",
          "2020-11-02",
          "2020-11-03",
          "2020-11-04",
          "2020-11-05",
          "2020-11-06",
          "2020-11-07",
          "2020-11-08",
          "2020-11-09",
          "2020-11-10",
          "2020-11-11",
          "2020-11-12",
          "2020-11-13",
          "2020-11-14",
          "2020-11-15",
          "2020-11-16",
          "2020-11-17",
          "2020-11-18",
          "2020-11-19",
          "2020-11-20",
          "2020-11-21",
          "2020-11-22",
          "2020-11-23",
          "2020-11-24",
          "2020-11-25",
          "2020-11-26",
          "2020-11-27",
          "2020-11-28",
          "2020-11-29",
          "2020-11-30",
          "2020-12-01",
          "2020-12-02",
          "2020-12-03",
          "2020-12-04",
          "2020-12-05",
          "2020-12-06",
          "2020-12-07",
          "2020-12-08",
          "2020-12-09",
          "2020-12-10",
          "2020-12-11",
          "2020-12-12",
          "2020-12-13",
          "2020-12-14",
          "2020-12-15",
          "2020-12-16",
          "2020-12-17",
          "2020-12-18",
          "2020-12-19",
          "2020-12-20",
          "2020-12-21",
          "2020-12-22",
          "2020-12-23",
          "2020-12-24",
          "2020-12-25",
          "2020-12-26",
          "2020-12-27",
          "2020-12-28",
          "2020-12-29",
          "2020-12-30",
          "2020-12-31",
          "2021-01-01",
          "2021-01-02",
          "2021-01-03",
          "2021-01-04",
          "2021-01-05",
          "2021-01-06",
          "2021-01-07",
          "2021-01-08",
          "2021-01-09",
          "2021-01-10",
          "2021-01-11",
          "2021-01-12",
          "2021-01-13",
          "2021-01-14",
          "2021-01-15",
          "2021-01-16",
          "2021-01-17",
          "2021-01-18",
          "2021-01-19",
          "2021-01-20",
          "2021-01-21",
          "2021-01-22",
          "2021-01-23",
          "2021-01-24",
          "2021-01-25",
          "2021-01-26",
          "2021-01-27",
          "2021-01-28",
          "2021-01-29",
          "2021-01-30",
          "2021-01-31",
          "2021-02-01",
          "2021-02-02",
          "2021-02-03",
          "2021-02-04",
          "2021-02-05",
          "2021-02-06",
          "2021-02-07",
          "2021-02-08",
          "2021-02-09",
          "2021-02-10",
          "2021-02-11",
          "2021-02-12",
          "2021-02-13",
          "2021-02-14",
          "2021-02-15",
          "2021-02-16",
          "2021-02-17",
          "2021-02-18",
          "2021-02-19",
          "2021-02-20",
          "2021-02-21",
          "2021-02-22",
          "2021-02-23",
          "2021-02-24",
          "2021-02-25",
          "2021-02-26",
          "2021-02-27",
          "2021-02-28",
          "2021-03-01",
          "2021-03-02",
          "2021-03-03",
          "2021-03-04",
          "2021-03-05",
          "2021-03-06",
          "2021-03-07",
          "2021-03-08",
          "2021-03-09",
          "2021-03-10",
          "2021-03-11",
          "2021-03-12",
          "2021-03-13",
          "2021-03-14",
          "2021-03-15",
          "2021-03-16",
          "2021-03-17",
          "2021-03-18",
          "2021-03-19",
          "2021-03-20",
          "2021-03-21",
          "2021-03-22",
          "2021-03-23",
          "2021-03-24",
          "2021-03-25",
          "2021-03-26",
          "2021-03-27",
          "2021-03-28",
          "2021-03-29",
          "2021-03-30",
          "2021-03-31",
          "2021-04-01",
          "2021-04-02",
          "2021-04-03",
          "2021-04-04",
          "2021-04-05",
          "2021-04-06",
          "2021-04-07",
          "2021-04-08",
          "2021-04-09",
          "2021-04-10",
          "2021-04-11",
          "2021-04-12",
          "2021-04-13"
         ],
         "xaxis": "x",
         "y": [
          11,
          9,
          9,
          4,
          4,
          17,
          10,
          11,
          11,
          14,
          11,
          8,
          23,
          15,
          13,
          13,
          13,
          5,
          2,
          2,
          27,
          17,
          13,
          9,
          5,
          6,
          18,
          11,
          12,
          8,
          12,
          8,
          3,
          20,
          11,
          10,
          12,
          20,
          3,
          5,
          13,
          15,
          9,
          16,
          10,
          8,
          4,
          21,
          11,
          5,
          11,
          15,
          10,
          5,
          22,
          14,
          7,
          9,
          12,
          6,
          1,
          55,
          10,
          21,
          30,
          53,
          17,
          12,
          37,
          52,
          24,
          23,
          27,
          6,
          15,
          40,
          34,
          22,
          23,
          29,
          12,
          6,
          41,
          37,
          29,
          25,
          27,
          16,
          2,
          26,
          22,
          16,
          18,
          19,
          6,
          5,
          26,
          15,
          17,
          13,
          18,
          8,
          4,
          30,
          26,
          20,
          18,
          26,
          7,
          8,
          21,
          24,
          13,
          18,
          35,
          6,
          7,
          28,
          24,
          10,
          16,
          20,
          14,
          3,
          30,
          54,
          34,
          21,
          36,
          10,
          4,
          31,
          33,
          31,
          38,
          33,
          14,
          12,
          36,
          35,
          51,
          17,
          38,
          25,
          5,
          29,
          25,
          19,
          24,
          22,
          10,
          11,
          32,
          68,
          19,
          28,
          41,
          29,
          11,
          50,
          36,
          33,
          37,
          68,
          26,
          8,
          90,
          60,
          52,
          42,
          49,
          37,
          11,
          58,
          153,
          82,
          62,
          79,
          55,
          15,
          135,
          107,
          98,
          162,
          51,
          41,
          12,
          93,
          79,
          62,
          37,
          59,
          30,
          19,
          59,
          73,
          66,
          73,
          76,
          32,
          21,
          68,
          35,
          37,
          44,
          69,
          29,
          11,
          75,
          62,
          68,
          68,
          54,
          38,
          17,
          72,
          81,
          84,
          57,
          105,
          29,
          24,
          106,
          58,
          74,
          60,
          21,
          35,
          53,
          73,
          75,
          99,
          85,
          24,
          82,
          15,
          86,
          118,
          65,
          58,
          64,
          39,
          30,
          77,
          59,
          46,
          71,
          56,
          46,
          28,
          89,
          75,
          55,
          83,
          67,
          44,
          30,
          88,
          105,
          63,
          95,
          71,
          79,
          26,
          92,
          94,
          115,
          67,
          124,
          42,
          18,
          85,
          96,
          87,
          56,
          71,
          44,
          27,
          85,
          83,
          146,
          124,
          70,
          46,
          25,
          177,
          134,
          71,
          85,
          62,
          72,
          31,
          106,
          90,
          82,
          72,
          73,
          36,
          30,
          90,
          64,
          54,
          51,
          74,
          53,
          29,
          87,
          70,
          71,
          59,
          51,
          49,
          25,
          81,
          106,
          61,
          95,
          61,
          47,
          19,
          91,
          99,
          69,
          84,
          79,
          35,
          33,
          25,
          101,
          114,
          56,
          92,
          65,
          30,
          76,
          70
         ],
         "yaxis": "y"
        }
       ],
       "layout": {
        "barmode": "relative",
        "coloraxis": {
         "colorbar": {
          "title": {
           "text": "Positive tests"
          }
         },
         "colorscale": [
          [
           0,
           "#0d0887"
          ],
          [
           0.1111111111111111,
           "#46039f"
          ],
          [
           0.2222222222222222,
           "#7201a8"
          ],
          [
           0.3333333333333333,
           "#9c179e"
          ],
          [
           0.4444444444444444,
           "#bd3786"
          ],
          [
           0.5555555555555556,
           "#d8576b"
          ],
          [
           0.6666666666666666,
           "#ed7953"
          ],
          [
           0.7777777777777778,
           "#fb9f3a"
          ],
          [
           0.8888888888888888,
           "#fdca26"
          ],
          [
           1,
           "#f0f921"
          ]
         ]
        },
        "height": 600,
        "legend": {
         "tracegroupgap": 0
        },
        "template": {
         "data": {
          "bar": [
           {
            "error_x": {
             "color": "#2a3f5f"
            },
            "error_y": {
             "color": "#2a3f5f"
            },
            "marker": {
             "line": {
              "color": "#E5ECF6",
              "width": 0.5
             }
            },
            "type": "bar"
           }
          ],
          "barpolar": [
           {
            "marker": {
             "line": {
              "color": "#E5ECF6",
              "width": 0.5
             }
            },
            "type": "barpolar"
           }
          ],
          "carpet": [
           {
            "aaxis": {
             "endlinecolor": "#2a3f5f",
             "gridcolor": "white",
             "linecolor": "white",
             "minorgridcolor": "white",
             "startlinecolor": "#2a3f5f"
            },
            "baxis": {
             "endlinecolor": "#2a3f5f",
             "gridcolor": "white",
             "linecolor": "white",
             "minorgridcolor": "white",
             "startlinecolor": "#2a3f5f"
            },
            "type": "carpet"
           }
          ],
          "choropleth": [
           {
            "colorbar": {
             "outlinewidth": 0,
             "ticks": ""
            },
            "type": "choropleth"
           }
          ],
          "contour": [
           {
            "colorbar": {
             "outlinewidth": 0,
             "ticks": ""
            },
            "colorscale": [
             [
              0,
              "#0d0887"
             ],
             [
              0.1111111111111111,
              "#46039f"
             ],
             [
              0.2222222222222222,
              "#7201a8"
             ],
             [
              0.3333333333333333,
              "#9c179e"
             ],
             [
              0.4444444444444444,
              "#bd3786"
             ],
             [
              0.5555555555555556,
              "#d8576b"
             ],
             [
              0.6666666666666666,
              "#ed7953"
             ],
             [
              0.7777777777777778,
              "#fb9f3a"
             ],
             [
              0.8888888888888888,
              "#fdca26"
             ],
             [
              1,
              "#f0f921"
             ]
            ],
            "type": "contour"
           }
          ],
          "contourcarpet": [
           {
            "colorbar": {
             "outlinewidth": 0,
             "ticks": ""
            },
            "type": "contourcarpet"
           }
          ],
          "heatmap": [
           {
            "colorbar": {
             "outlinewidth": 0,
             "ticks": ""
            },
            "colorscale": [
             [
              0,
              "#0d0887"
             ],
             [
              0.1111111111111111,
              "#46039f"
             ],
             [
              0.2222222222222222,
              "#7201a8"
             ],
             [
              0.3333333333333333,
              "#9c179e"
             ],
             [
              0.4444444444444444,
              "#bd3786"
             ],
             [
              0.5555555555555556,
              "#d8576b"
             ],
             [
              0.6666666666666666,
              "#ed7953"
             ],
             [
              0.7777777777777778,
              "#fb9f3a"
             ],
             [
              0.8888888888888888,
              "#fdca26"
             ],
             [
              1,
              "#f0f921"
             ]
            ],
            "type": "heatmap"
           }
          ],
          "heatmapgl": [
           {
            "colorbar": {
             "outlinewidth": 0,
             "ticks": ""
            },
            "colorscale": [
             [
              0,
              "#0d0887"
             ],
             [
              0.1111111111111111,
              "#46039f"
             ],
             [
              0.2222222222222222,
              "#7201a8"
             ],
             [
              0.3333333333333333,
              "#9c179e"
             ],
             [
              0.4444444444444444,
              "#bd3786"
             ],
             [
              0.5555555555555556,
              "#d8576b"
             ],
             [
              0.6666666666666666,
              "#ed7953"
             ],
             [
              0.7777777777777778,
              "#fb9f3a"
             ],
             [
              0.8888888888888888,
              "#fdca26"
             ],
             [
              1,
              "#f0f921"
             ]
            ],
            "type": "heatmapgl"
           }
          ],
          "histogram": [
           {
            "marker": {
             "colorbar": {
              "outlinewidth": 0,
              "ticks": ""
             }
            },
            "type": "histogram"
           }
          ],
          "histogram2d": [
           {
            "colorbar": {
             "outlinewidth": 0,
             "ticks": ""
            },
            "colorscale": [
             [
              0,
              "#0d0887"
             ],
             [
              0.1111111111111111,
              "#46039f"
             ],
             [
              0.2222222222222222,
              "#7201a8"
             ],
             [
              0.3333333333333333,
              "#9c179e"
             ],
             [
              0.4444444444444444,
              "#bd3786"
             ],
             [
              0.5555555555555556,
              "#d8576b"
             ],
             [
              0.6666666666666666,
              "#ed7953"
             ],
             [
              0.7777777777777778,
              "#fb9f3a"
             ],
             [
              0.8888888888888888,
              "#fdca26"
             ],
             [
              1,
              "#f0f921"
             ]
            ],
            "type": "histogram2d"
           }
          ],
          "histogram2dcontour": [
           {
            "colorbar": {
             "outlinewidth": 0,
             "ticks": ""
            },
            "colorscale": [
             [
              0,
              "#0d0887"
             ],
             [
              0.1111111111111111,
              "#46039f"
             ],
             [
              0.2222222222222222,
              "#7201a8"
             ],
             [
              0.3333333333333333,
              "#9c179e"
             ],
             [
              0.4444444444444444,
              "#bd3786"
             ],
             [
              0.5555555555555556,
              "#d8576b"
             ],
             [
              0.6666666666666666,
              "#ed7953"
             ],
             [
              0.7777777777777778,
              "#fb9f3a"
             ],
             [
              0.8888888888888888,
              "#fdca26"
             ],
             [
              1,
              "#f0f921"
             ]
            ],
            "type": "histogram2dcontour"
           }
          ],
          "mesh3d": [
           {
            "colorbar": {
             "outlinewidth": 0,
             "ticks": ""
            },
            "type": "mesh3d"
           }
          ],
          "parcoords": [
           {
            "line": {
             "colorbar": {
              "outlinewidth": 0,
              "ticks": ""
             }
            },
            "type": "parcoords"
           }
          ],
          "pie": [
           {
            "automargin": true,
            "type": "pie"
           }
          ],
          "scatter": [
           {
            "marker": {
             "colorbar": {
              "outlinewidth": 0,
              "ticks": ""
             }
            },
            "type": "scatter"
           }
          ],
          "scatter3d": [
           {
            "line": {
             "colorbar": {
              "outlinewidth": 0,
              "ticks": ""
             }
            },
            "marker": {
             "colorbar": {
              "outlinewidth": 0,
              "ticks": ""
             }
            },
            "type": "scatter3d"
           }
          ],
          "scattercarpet": [
           {
            "marker": {
             "colorbar": {
              "outlinewidth": 0,
              "ticks": ""
             }
            },
            "type": "scattercarpet"
           }
          ],
          "scattergeo": [
           {
            "marker": {
             "colorbar": {
              "outlinewidth": 0,
              "ticks": ""
             }
            },
            "type": "scattergeo"
           }
          ],
          "scattergl": [
           {
            "marker": {
             "colorbar": {
              "outlinewidth": 0,
              "ticks": ""
             }
            },
            "type": "scattergl"
           }
          ],
          "scattermapbox": [
           {
            "marker": {
             "colorbar": {
              "outlinewidth": 0,
              "ticks": ""
             }
            },
            "type": "scattermapbox"
           }
          ],
          "scatterpolar": [
           {
            "marker": {
             "colorbar": {
              "outlinewidth": 0,
              "ticks": ""
             }
            },
            "type": "scatterpolar"
           }
          ],
          "scatterpolargl": [
           {
            "marker": {
             "colorbar": {
              "outlinewidth": 0,
              "ticks": ""
             }
            },
            "type": "scatterpolargl"
           }
          ],
          "scatterternary": [
           {
            "marker": {
             "colorbar": {
              "outlinewidth": 0,
              "ticks": ""
             }
            },
            "type": "scatterternary"
           }
          ],
          "surface": [
           {
            "colorbar": {
             "outlinewidth": 0,
             "ticks": ""
            },
            "colorscale": [
             [
              0,
              "#0d0887"
             ],
             [
              0.1111111111111111,
              "#46039f"
             ],
             [
              0.2222222222222222,
              "#7201a8"
             ],
             [
              0.3333333333333333,
              "#9c179e"
             ],
             [
              0.4444444444444444,
              "#bd3786"
             ],
             [
              0.5555555555555556,
              "#d8576b"
             ],
             [
              0.6666666666666666,
              "#ed7953"
             ],
             [
              0.7777777777777778,
              "#fb9f3a"
             ],
             [
              0.8888888888888888,
              "#fdca26"
             ],
             [
              1,
              "#f0f921"
             ]
            ],
            "type": "surface"
           }
          ],
          "table": [
           {
            "cells": {
             "fill": {
              "color": "#EBF0F8"
             },
             "line": {
              "color": "white"
             }
            },
            "header": {
             "fill": {
              "color": "#C8D4E3"
             },
             "line": {
              "color": "white"
             }
            },
            "type": "table"
           }
          ]
         },
         "layout": {
          "annotationdefaults": {
           "arrowcolor": "#2a3f5f",
           "arrowhead": 0,
           "arrowwidth": 1
          },
          "autotypenumbers": "strict",
          "coloraxis": {
           "colorbar": {
            "outlinewidth": 0,
            "ticks": ""
           }
          },
          "colorscale": {
           "diverging": [
            [
             0,
             "#8e0152"
            ],
            [
             0.1,
             "#c51b7d"
            ],
            [
             0.2,
             "#de77ae"
            ],
            [
             0.3,
             "#f1b6da"
            ],
            [
             0.4,
             "#fde0ef"
            ],
            [
             0.5,
             "#f7f7f7"
            ],
            [
             0.6,
             "#e6f5d0"
            ],
            [
             0.7,
             "#b8e186"
            ],
            [
             0.8,
             "#7fbc41"
            ],
            [
             0.9,
             "#4d9221"
            ],
            [
             1,
             "#276419"
            ]
           ],
           "sequential": [
            [
             0,
             "#0d0887"
            ],
            [
             0.1111111111111111,
             "#46039f"
            ],
            [
             0.2222222222222222,
             "#7201a8"
            ],
            [
             0.3333333333333333,
             "#9c179e"
            ],
            [
             0.4444444444444444,
             "#bd3786"
            ],
            [
             0.5555555555555556,
             "#d8576b"
            ],
            [
             0.6666666666666666,
             "#ed7953"
            ],
            [
             0.7777777777777778,
             "#fb9f3a"
            ],
            [
             0.8888888888888888,
             "#fdca26"
            ],
            [
             1,
             "#f0f921"
            ]
           ],
           "sequentialminus": [
            [
             0,
             "#0d0887"
            ],
            [
             0.1111111111111111,
             "#46039f"
            ],
            [
             0.2222222222222222,
             "#7201a8"
            ],
            [
             0.3333333333333333,
             "#9c179e"
            ],
            [
             0.4444444444444444,
             "#bd3786"
            ],
            [
             0.5555555555555556,
             "#d8576b"
            ],
            [
             0.6666666666666666,
             "#ed7953"
            ],
            [
             0.7777777777777778,
             "#fb9f3a"
            ],
            [
             0.8888888888888888,
             "#fdca26"
            ],
            [
             1,
             "#f0f921"
            ]
           ]
          },
          "colorway": [
           "#636efa",
           "#EF553B",
           "#00cc96",
           "#ab63fa",
           "#FFA15A",
           "#19d3f3",
           "#FF6692",
           "#B6E880",
           "#FF97FF",
           "#FECB52"
          ],
          "font": {
           "color": "#2a3f5f"
          },
          "geo": {
           "bgcolor": "white",
           "lakecolor": "white",
           "landcolor": "#E5ECF6",
           "showlakes": true,
           "showland": true,
           "subunitcolor": "white"
          },
          "hoverlabel": {
           "align": "left"
          },
          "hovermode": "closest",
          "mapbox": {
           "style": "light"
          },
          "paper_bgcolor": "white",
          "plot_bgcolor": "#E5ECF6",
          "polar": {
           "angularaxis": {
            "gridcolor": "white",
            "linecolor": "white",
            "ticks": ""
           },
           "bgcolor": "#E5ECF6",
           "radialaxis": {
            "gridcolor": "white",
            "linecolor": "white",
            "ticks": ""
           }
          },
          "scene": {
           "xaxis": {
            "backgroundcolor": "#E5ECF6",
            "gridcolor": "white",
            "gridwidth": 2,
            "linecolor": "white",
            "showbackground": true,
            "ticks": "",
            "zerolinecolor": "white"
           },
           "yaxis": {
            "backgroundcolor": "#E5ECF6",
            "gridcolor": "white",
            "gridwidth": 2,
            "linecolor": "white",
            "showbackground": true,
            "ticks": "",
            "zerolinecolor": "white"
           },
           "zaxis": {
            "backgroundcolor": "#E5ECF6",
            "gridcolor": "white",
            "gridwidth": 2,
            "linecolor": "white",
            "showbackground": true,
            "ticks": "",
            "zerolinecolor": "white"
           }
          },
          "shapedefaults": {
           "line": {
            "color": "#2a3f5f"
           }
          },
          "ternary": {
           "aaxis": {
            "gridcolor": "white",
            "linecolor": "white",
            "ticks": ""
           },
           "baxis": {
            "gridcolor": "white",
            "linecolor": "white",
            "ticks": ""
           },
           "bgcolor": "#E5ECF6",
           "caxis": {
            "gridcolor": "white",
            "linecolor": "white",
            "ticks": ""
           }
          },
          "title": {
           "x": 0.05
          },
          "xaxis": {
           "automargin": true,
           "gridcolor": "white",
           "linecolor": "white",
           "ticks": "",
           "title": {
            "standoff": 15
           },
           "zerolinecolor": "white",
           "zerolinewidth": 2
          },
          "yaxis": {
           "automargin": true,
           "gridcolor": "white",
           "linecolor": "white",
           "ticks": "",
           "title": {
            "standoff": 15
           },
           "zerolinecolor": "white",
           "zerolinewidth": 2
          }
         }
        },
        "title": {
         "text": "Covid Screening in department 29 for class age 90"
        },
        "width": 1000,
        "xaxis": {
         "anchor": "y",
         "domain": [
          0,
          1
         ],
         "rangeslider": {
          "visible": true
         },
         "title": {
          "text": "date"
         }
        },
        "yaxis": {
         "anchor": "x",
         "domain": [
          0,
          1
         ],
         "title": {
          "text": "Tests number"
         }
        }
       }
      }
     },
     "metadata": {}
    }
   ],
   "source": [
    "daily_test(90,'29')"
   ]
  },
  {
   "cell_type": "code",
   "execution_count": null,
   "metadata": {},
   "outputs": [],
   "source": [
    "screening_daily_1 = {}\n",
    "for dep_code in DEP['code'].tolist():\n",
    "    for day in DATE['day'].tolist():\n",
    "        screening_daily_1[f'{dep_code}'] = "
   ]
  },
  {
   "cell_type": "code",
   "execution_count": 77,
   "metadata": {},
   "outputs": [
    {
     "output_type": "execute_result",
     "data": {
      "text/plain": [
       "    index        date  Positive tests  Tests number  cl_age       pop\n",
       "0   99792  2020-05-13               0             9       9   91260.0\n",
       "1   99793  2020-05-13               1            12      19  110072.0\n",
       "2   99794  2020-05-13               0            25      29   90029.0\n",
       "3   99795  2020-05-13               0            32      39   99828.0\n",
       "4   99796  2020-05-13               0            27      49  113799.0\n",
       "5   99797  2020-05-13               0            23      59  123509.0\n",
       "6   99798  2020-05-13               1            24      69  124507.0\n",
       "7   99799  2020-05-13               0            28      79   86506.0\n",
       "8   99800  2020-05-13               0            17      89   53501.0\n",
       "9   99801  2020-05-13               0            11      90   13543.0\n",
       "10  99802  2020-05-13               2           208       0  906554.0\n",
       "11  99803  2020-05-14               0            27       9   91260.0\n",
       "12  99804  2020-05-14               0            11      19  110072.0\n",
       "13  99805  2020-05-14               0            27      29   90029.0\n",
       "14  99806  2020-05-14               0            61      39   99828.0\n",
       "15  99807  2020-05-14               1            39      49  113799.0\n",
       "16  99808  2020-05-14               0            36      59  123509.0\n",
       "17  99809  2020-05-14               0            35      69  124507.0\n",
       "18  99810  2020-05-14               0            21      79   86506.0\n",
       "19  99811  2020-05-14               0            19      89   53501.0"
      ],
      "text/html": "<div>\n<style scoped>\n    .dataframe tbody tr th:only-of-type {\n        vertical-align: middle;\n    }\n\n    .dataframe tbody tr th {\n        vertical-align: top;\n    }\n\n    .dataframe thead th {\n        text-align: right;\n    }\n</style>\n<table border=\"1\" class=\"dataframe\">\n  <thead>\n    <tr style=\"text-align: right;\">\n      <th></th>\n      <th>index</th>\n      <th>date</th>\n      <th>Positive tests</th>\n      <th>Tests number</th>\n      <th>cl_age</th>\n      <th>pop</th>\n    </tr>\n  </thead>\n  <tbody>\n    <tr>\n      <th>0</th>\n      <td>99792</td>\n      <td>2020-05-13</td>\n      <td>0</td>\n      <td>9</td>\n      <td>9</td>\n      <td>91260.0</td>\n    </tr>\n    <tr>\n      <th>1</th>\n      <td>99793</td>\n      <td>2020-05-13</td>\n      <td>1</td>\n      <td>12</td>\n      <td>19</td>\n      <td>110072.0</td>\n    </tr>\n    <tr>\n      <th>2</th>\n      <td>99794</td>\n      <td>2020-05-13</td>\n      <td>0</td>\n      <td>25</td>\n      <td>29</td>\n      <td>90029.0</td>\n    </tr>\n    <tr>\n      <th>3</th>\n      <td>99795</td>\n      <td>2020-05-13</td>\n      <td>0</td>\n      <td>32</td>\n      <td>39</td>\n      <td>99828.0</td>\n    </tr>\n    <tr>\n      <th>4</th>\n      <td>99796</td>\n      <td>2020-05-13</td>\n      <td>0</td>\n      <td>27</td>\n      <td>49</td>\n      <td>113799.0</td>\n    </tr>\n    <tr>\n      <th>5</th>\n      <td>99797</td>\n      <td>2020-05-13</td>\n      <td>0</td>\n      <td>23</td>\n      <td>59</td>\n      <td>123509.0</td>\n    </tr>\n    <tr>\n      <th>6</th>\n      <td>99798</td>\n      <td>2020-05-13</td>\n      <td>1</td>\n      <td>24</td>\n      <td>69</td>\n      <td>124507.0</td>\n    </tr>\n    <tr>\n      <th>7</th>\n      <td>99799</td>\n      <td>2020-05-13</td>\n      <td>0</td>\n      <td>28</td>\n      <td>79</td>\n      <td>86506.0</td>\n    </tr>\n    <tr>\n      <th>8</th>\n      <td>99800</td>\n      <td>2020-05-13</td>\n      <td>0</td>\n      <td>17</td>\n      <td>89</td>\n      <td>53501.0</td>\n    </tr>\n    <tr>\n      <th>9</th>\n      <td>99801</td>\n      <td>2020-05-13</td>\n      <td>0</td>\n      <td>11</td>\n      <td>90</td>\n      <td>13543.0</td>\n    </tr>\n    <tr>\n      <th>10</th>\n      <td>99802</td>\n      <td>2020-05-13</td>\n      <td>2</td>\n      <td>208</td>\n      <td>0</td>\n      <td>906554.0</td>\n    </tr>\n    <tr>\n      <th>11</th>\n      <td>99803</td>\n      <td>2020-05-14</td>\n      <td>0</td>\n      <td>27</td>\n      <td>9</td>\n      <td>91260.0</td>\n    </tr>\n    <tr>\n      <th>12</th>\n      <td>99804</td>\n      <td>2020-05-14</td>\n      <td>0</td>\n      <td>11</td>\n      <td>19</td>\n      <td>110072.0</td>\n    </tr>\n    <tr>\n      <th>13</th>\n      <td>99805</td>\n      <td>2020-05-14</td>\n      <td>0</td>\n      <td>27</td>\n      <td>29</td>\n      <td>90029.0</td>\n    </tr>\n    <tr>\n      <th>14</th>\n      <td>99806</td>\n      <td>2020-05-14</td>\n      <td>0</td>\n      <td>61</td>\n      <td>39</td>\n      <td>99828.0</td>\n    </tr>\n    <tr>\n      <th>15</th>\n      <td>99807</td>\n      <td>2020-05-14</td>\n      <td>1</td>\n      <td>39</td>\n      <td>49</td>\n      <td>113799.0</td>\n    </tr>\n    <tr>\n      <th>16</th>\n      <td>99808</td>\n      <td>2020-05-14</td>\n      <td>0</td>\n      <td>36</td>\n      <td>59</td>\n      <td>123509.0</td>\n    </tr>\n    <tr>\n      <th>17</th>\n      <td>99809</td>\n      <td>2020-05-14</td>\n      <td>0</td>\n      <td>35</td>\n      <td>69</td>\n      <td>124507.0</td>\n    </tr>\n    <tr>\n      <th>18</th>\n      <td>99810</td>\n      <td>2020-05-14</td>\n      <td>0</td>\n      <td>21</td>\n      <td>79</td>\n      <td>86506.0</td>\n    </tr>\n    <tr>\n      <th>19</th>\n      <td>99811</td>\n      <td>2020-05-14</td>\n      <td>0</td>\n      <td>19</td>\n      <td>89</td>\n      <td>53501.0</td>\n    </tr>\n  </tbody>\n</table>\n</div>"
     },
     "metadata": {},
     "execution_count": 77
    }
   ],
   "source": [
    "screening_daily_dep['29'].head(20)"
   ]
  },
  {
   "cell_type": "code",
   "execution_count": null,
   "metadata": {},
   "outputs": [],
   "source": [
    "for dep_code in DEP['code'].tolist():\n",
    "    for day in DATE['day'].tolist():\n",
    "        screening_daily_dep[dep_code]['total tests'] = "
   ]
  },
  {
   "cell_type": "code",
   "execution_count": 82,
   "metadata": {},
   "outputs": [
    {
     "output_type": "error",
     "ename": "KeyError",
     "evalue": "'date'",
     "traceback": [
      "\u001b[0;31m---------------------------------------------------------------------------\u001b[0m",
      "\u001b[0;31mKeyError\u001b[0m                                  Traceback (most recent call last)",
      "\u001b[0;32m<ipython-input-82-7bbfc529ffb4>\u001b[0m in \u001b[0;36m<module>\u001b[0;34m\u001b[0m\n\u001b[0;32m----> 1\u001b[0;31m \u001b[0mscreening_daily_age\u001b[0m\u001b[0;34m[\u001b[0m\u001b[0;34m'date'\u001b[0m\u001b[0;34m]\u001b[0m\u001b[0;34m\u001b[0m\u001b[0;34m\u001b[0m\u001b[0m\n\u001b[0m",
      "\u001b[0;31mKeyError\u001b[0m: 'date'"
     ]
    }
   ],
   "source": [
    "screening_daily_age['date']"
   ]
  },
  {
   "cell_type": "code",
   "execution_count": 103,
   "metadata": {},
   "outputs": [
    {
     "output_type": "error",
     "ename": "TypeError",
     "evalue": "first argument must be an iterable of pandas objects, you passed an object of type \"DataFrame\"",
     "traceback": [
      "\u001b[0;31m---------------------------------------------------------------------------\u001b[0m",
      "\u001b[0;31mTypeError\u001b[0m                                 Traceback (most recent call last)",
      "\u001b[0;32m<ipython-input-103-89a21ea626c1>\u001b[0m in \u001b[0;36m<module>\u001b[0;34m\u001b[0m\n\u001b[1;32m      3\u001b[0m     \u001b[0;32mfor\u001b[0m \u001b[0mday\u001b[0m \u001b[0;32min\u001b[0m \u001b[0mDATE\u001b[0m\u001b[0;34m[\u001b[0m\u001b[0;34m'day'\u001b[0m\u001b[0;34m]\u001b[0m\u001b[0;34m.\u001b[0m\u001b[0mtolist\u001b[0m\u001b[0;34m(\u001b[0m\u001b[0;34m)\u001b[0m\u001b[0;34m:\u001b[0m\u001b[0;34m\u001b[0m\u001b[0;34m\u001b[0m\u001b[0m\n\u001b[1;32m      4\u001b[0m         \u001b[0mdf1\u001b[0m \u001b[0;34m=\u001b[0m \u001b[0mpd\u001b[0m\u001b[0;34m.\u001b[0m\u001b[0mDataFrame\u001b[0m\u001b[0;34m(\u001b[0m\u001b[0mscreening_daily_dep\u001b[0m\u001b[0;34m[\u001b[0m\u001b[0mdep_code\u001b[0m\u001b[0;34m]\u001b[0m\u001b[0;34m[\u001b[0m\u001b[0mscreening_daily_dep\u001b[0m\u001b[0;34m[\u001b[0m\u001b[0mdep_code\u001b[0m\u001b[0;34m]\u001b[0m\u001b[0;34m[\u001b[0m\u001b[0;34m'date'\u001b[0m\u001b[0;34m]\u001b[0m \u001b[0;34m==\u001b[0m \u001b[0mday\u001b[0m\u001b[0;34m]\u001b[0m\u001b[0;34m.\u001b[0m\u001b[0mloc\u001b[0m\u001b[0;34m[\u001b[0m\u001b[0;34m:\u001b[0m\u001b[0;34m,\u001b[0m\u001b[0;34m[\u001b[0m\u001b[0;34m'Positive tests'\u001b[0m\u001b[0;34m,\u001b[0m \u001b[0;34m'Tests number'\u001b[0m\u001b[0;34m]\u001b[0m\u001b[0;34m]\u001b[0m\u001b[0;34m.\u001b[0m\u001b[0msum\u001b[0m\u001b[0;34m(\u001b[0m\u001b[0;34m)\u001b[0m\u001b[0;34m)\u001b[0m\u001b[0;34m.\u001b[0m\u001b[0mT\u001b[0m\u001b[0;34m\u001b[0m\u001b[0;34m\u001b[0m\u001b[0m\n\u001b[0;32m----> 5\u001b[0;31m         \u001b[0mdf\u001b[0m \u001b[0;34m=\u001b[0m \u001b[0mpd\u001b[0m\u001b[0;34m.\u001b[0m\u001b[0mconcat\u001b[0m\u001b[0;34m(\u001b[0m\u001b[0mdf\u001b[0m\u001b[0;34m,\u001b[0m\u001b[0mdf1\u001b[0m\u001b[0;34m[\u001b[0m\u001b[0;34m'Positive tests'\u001b[0m\u001b[0;34m]\u001b[0m\u001b[0;34m,\u001b[0m\u001b[0mdf1\u001b[0m\u001b[0;34m[\u001b[0m\u001b[0;34m'Tests number'\u001b[0m\u001b[0;34m]\u001b[0m\u001b[0;34m,\u001b[0m\u001b[0;36m1\u001b[0m\u001b[0;34m)\u001b[0m\u001b[0;34m\u001b[0m\u001b[0;34m\u001b[0m\u001b[0m\n\u001b[0m",
      "\u001b[0;32m~/opt/anaconda3/envs/stef_env/lib/python3.8/site-packages/pandas/core/reshape/concat.py\u001b[0m in \u001b[0;36mconcat\u001b[0;34m(objs, axis, join, ignore_index, keys, levels, names, verify_integrity, sort, copy)\u001b[0m\n\u001b[1;32m    283\u001b[0m     \u001b[0mValueError\u001b[0m\u001b[0;34m:\u001b[0m \u001b[0mIndexes\u001b[0m \u001b[0mhave\u001b[0m \u001b[0moverlapping\u001b[0m \u001b[0mvalues\u001b[0m\u001b[0;34m:\u001b[0m \u001b[0;34m[\u001b[0m\u001b[0;34m'a'\u001b[0m\u001b[0;34m]\u001b[0m\u001b[0;34m\u001b[0m\u001b[0;34m\u001b[0m\u001b[0m\n\u001b[1;32m    284\u001b[0m     \"\"\"\n\u001b[0;32m--> 285\u001b[0;31m     op = _Concatenator(\n\u001b[0m\u001b[1;32m    286\u001b[0m         \u001b[0mobjs\u001b[0m\u001b[0;34m,\u001b[0m\u001b[0;34m\u001b[0m\u001b[0;34m\u001b[0m\u001b[0m\n\u001b[1;32m    287\u001b[0m         \u001b[0maxis\u001b[0m\u001b[0;34m=\u001b[0m\u001b[0maxis\u001b[0m\u001b[0;34m,\u001b[0m\u001b[0;34m\u001b[0m\u001b[0;34m\u001b[0m\u001b[0m\n",
      "\u001b[0;32m~/opt/anaconda3/envs/stef_env/lib/python3.8/site-packages/pandas/core/reshape/concat.py\u001b[0m in \u001b[0;36m__init__\u001b[0;34m(self, objs, axis, join, keys, levels, names, ignore_index, verify_integrity, copy, sort)\u001b[0m\n\u001b[1;32m    318\u001b[0m     ):\n\u001b[1;32m    319\u001b[0m         \u001b[0;32mif\u001b[0m \u001b[0misinstance\u001b[0m\u001b[0;34m(\u001b[0m\u001b[0mobjs\u001b[0m\u001b[0;34m,\u001b[0m \u001b[0;34m(\u001b[0m\u001b[0mABCSeries\u001b[0m\u001b[0;34m,\u001b[0m \u001b[0mABCDataFrame\u001b[0m\u001b[0;34m,\u001b[0m \u001b[0mstr\u001b[0m\u001b[0;34m)\u001b[0m\u001b[0;34m)\u001b[0m\u001b[0;34m:\u001b[0m\u001b[0;34m\u001b[0m\u001b[0;34m\u001b[0m\u001b[0m\n\u001b[0;32m--> 320\u001b[0;31m             raise TypeError(\n\u001b[0m\u001b[1;32m    321\u001b[0m                 \u001b[0;34m\"first argument must be an iterable of pandas \"\u001b[0m\u001b[0;34m\u001b[0m\u001b[0;34m\u001b[0m\u001b[0m\n\u001b[1;32m    322\u001b[0m                 \u001b[0;34mf'objects, you passed an object of type \"{type(objs).__name__}\"'\u001b[0m\u001b[0;34m\u001b[0m\u001b[0;34m\u001b[0m\u001b[0m\n",
      "\u001b[0;31mTypeError\u001b[0m: first argument must be an iterable of pandas objects, you passed an object of type \"DataFrame\""
     ]
    }
   ],
   "source": [
    "df = pd.DataFrame()\n",
    "for dep_code in DEP['code'].tolist():\n",
    "    for day in DATE['day'].tolist():\n",
    "        df1 = pd.DataFrame(screening_daily_dep[dep_code][screening_daily_dep[dep_code]['date'] == day].loc[:,['Positive tests', 'Tests number']].sum()).T\n",
    "        df = pd.concat(df,df1['Positive tests'],df1['Tests number'],1)"
   ]
  },
  {
   "cell_type": "code",
   "execution_count": 109,
   "metadata": {},
   "outputs": [
    {
     "output_type": "execute_result",
     "data": {
      "text/plain": [
       "                       0\n",
       "total positive tests NaN\n",
       "total tests number   NaN"
      ],
      "text/html": "<div>\n<style scoped>\n    .dataframe tbody tr th:only-of-type {\n        vertical-align: middle;\n    }\n\n    .dataframe tbody tr th {\n        vertical-align: top;\n    }\n\n    .dataframe thead th {\n        text-align: right;\n    }\n</style>\n<table border=\"1\" class=\"dataframe\">\n  <thead>\n    <tr style=\"text-align: right;\">\n      <th></th>\n      <th>0</th>\n    </tr>\n  </thead>\n  <tbody>\n    <tr>\n      <th>total positive tests</th>\n      <td>NaN</td>\n    </tr>\n    <tr>\n      <th>total tests number</th>\n      <td>NaN</td>\n    </tr>\n  </tbody>\n</table>\n</div>"
     },
     "metadata": {},
     "execution_count": 109
    }
   ],
   "source": [
    "pd.DataFrame(screening_daily_dep['34'][screening_daily_dep['34']['date'] == '2020-05-13'].loc[:,['Positive tests', 'Tests number']].sum())"
   ]
  },
  {
   "cell_type": "code",
   "execution_count": null,
   "metadata": {},
   "outputs": [],
   "source": []
  }
 ]
}